{
 "cells": [
  {
   "cell_type": "markdown",
   "id": "fcd8a046",
   "metadata": {
    "tags": []
   },
   "source": [
    "# Setup"
   ]
  },
  {
   "cell_type": "code",
   "execution_count": 1,
   "id": "91b8c23b",
   "metadata": {},
   "outputs": [],
   "source": [
    "import numpy as np\n",
    "import pandas as pd\n",
    "from matplotlib import pyplot as plt\n",
    "from scipy.stats import multivariate_normal\n",
    "from matplotlib.colors import LogNorm\n",
    "from sklearn.cluster import DBSCAN\n",
    "import scipy\n",
    "import seaborn as sns\n",
    "from collections import Counter\n",
    "from sklearn.neighbors import NearestNeighbors # importing the library\n",
    "import warnings\n",
    "from sklearn.preprocessing import MinMaxScaler\n",
    "from sklearn.preprocessing import StandardScaler\n",
    "warnings.filterwarnings(\"ignore\")\n",
    "earth_density    = 5.51   # [g/cm**3]"
   ]
  },
  {
   "cell_type": "code",
   "execution_count": 2,
   "id": "855956dd",
   "metadata": {},
   "outputs": [],
   "source": [
    "dataEA = pd.read_csv(r\"C:\\Users\\silke\\OneDrive\\Skrivebord\\Thesis\\Exoplanet_Archive.csv\",delimiter=\",\")\n",
    "dataLI = pd.read_csv(r\"C:\\Users\\silke\\OneDrive\\Skrivebord\\Thesis\\STPM_improved_210721.csv\",delimiter=\",\")\n",
    "planet_name_LI        = list(dataLI[\"Star\"]+\" \"+dataLI[\"Planet\"])\n",
    "dataLI[\"planet_name\"] = planet_name_LI"
   ]
  },
  {
   "cell_type": "code",
   "execution_count": 6,
   "id": "54a12d6b",
   "metadata": {
    "tags": []
   },
   "outputs": [
    {
     "ename": "NameError",
     "evalue": "name 'dataEA' is not defined",
     "output_type": "error",
     "traceback": [
      "\u001b[1;31m---------------------------------------------------------------------------\u001b[0m",
      "\u001b[1;31mNameError\u001b[0m                                 Traceback (most recent call last)",
      "Cell \u001b[1;32mIn[6], line 2\u001b[0m\n\u001b[0;32m      1\u001b[0m \u001b[38;5;66;03m# Exoplanet Archive\u001b[39;00m\n\u001b[1;32m----> 2\u001b[0m planet_name_EA       \u001b[38;5;241m=\u001b[39m dataEA\u001b[38;5;241m.\u001b[39mpl_name\n\u001b[0;32m      3\u001b[0m planet_id_EA         \u001b[38;5;241m=\u001b[39m \u001b[38;5;28mlist\u001b[39m(\u001b[38;5;28mrange\u001b[39m(\u001b[38;5;241m0\u001b[39m,\u001b[38;5;28mlen\u001b[39m(planet_name_EA)))\n\u001b[0;32m      4\u001b[0m period_EA            \u001b[38;5;241m=\u001b[39m dataEA\u001b[38;5;241m.\u001b[39mpl_orbper          \u001b[38;5;66;03m# [days]\u001b[39;00m\n",
      "\u001b[1;31mNameError\u001b[0m: name 'dataEA' is not defined"
     ]
    }
   ],
   "source": [
    "# Exoplanet Archive\n",
    "planet_name_EA       = dataEA.pl_name\n",
    "planet_id_EA         = list(range(0,len(planet_name_EA)))\n",
    "period_EA            = dataEA.pl_orbper          # [days]\n",
    "radius_EA            = dataEA.pl_rade            # [Earth Radius]\n",
    "radius_unc_up_EA     = dataEA.pl_radeerr1        # [Earth Radius] Upper Unc.\n",
    "radius_unc_low_EA    = dataEA.pl_radeerr2        # [Earth Radius] Lower Unc.\n",
    "\n",
    "mass_EA              = dataEA.pl_bmasse          # [Earth Mass] - Planet Mass or Mass*sin(i) [Earth Mass]\n",
    "mass_unc_up_EA       = dataEA.pl_bmasseerr1      # [Earth Mass] Upper Unc.\n",
    "mass_unc_low_EA      = dataEA.pl_bmasseerr2      # [Earth Mass] Lower Unc.\n",
    "\n",
    "density_EA           = dataEA.pl_dens            # [g/cm**3]\n",
    "density_unc_up_EA    = dataEA.pl_denserr1        # [g/cm**3] Planet Density Upper Unc. \n",
    "density_unc_low_EA   = dataEA.pl_denserr2        # [g/cm**3] Planet Density Lower Unc. \n",
    "st_spectype_EA       = dataEA.st_spectype        # Spectral type of star\n",
    "pl_eq_EA             = dataEA.pl_eqt             # [K] Equilibrium Temperature\n",
    "disc_year_EA         = dataEA.disc_year\n",
    "\n",
    "# Luque Data\n",
    "planet_name_LI        = list(dataLI[\"Star\"]+\" \"+dataLI[\"Planet\"])\n",
    "planet_id_LI         = dataLI.ID\n",
    "star_name_LI         = dataLI.Star\n",
    "planet_letter_LI     = dataLI.Planet\n",
    "\n",
    "radius_LI            = dataLI.R_Rterra            # [Earth Radius]\n",
    "radius_unc_up_LI     = dataLI.euR_Rterra          # [Earth Radius] Upper Unc.\n",
    "radius_unc_low_LI    = dataLI.edR_Rterra          # [Earth Radius] Lower Unc.\n",
    "\n",
    "mass_LI              = dataLI.M_Mterra            # [Earth Mass] - Planet Mass or Mass*sin(i) [Earth Mass]\n",
    "mass_unc_up_LI       = dataLI.euM_Mterra          # [Earth Mass] Upper Unc.\n",
    "mass_unc_low_LI      = dataLI.edM_Mterra          # [Earth Mass] Lower Unc.\n",
    "\n",
    "density_LI           = dataLI[dataLI.columns[32]]  # [g/cm**3]\n",
    "density_unc_up_LI    = dataLI[dataLI.columns[33]]  # [g/cm**3] Planet Density Upper Unc. \n",
    "density_unc_low_LI   = dataLI[dataLI.columns[34]]  # [g/cm**3] Planet Density Lower Unc\n",
    "\n",
    "pl_eq_LI             = dataLI.Teq_K                # [K] Equilibrium Temperature\n",
    "\n",
    "##### Use the Luque values for planets in that sample #### \n",
    "for i in range(0,len(planet_name_EA)):\n",
    "    if planet_name_EA[i] in planet_name_LI:\n",
    "        LI_index              = planet_name_LI.index(planet_name_EA[i])\n",
    "       \n",
    "        mass_EA[i]            = mass_LI[LI_index]\n",
    "        mass_unc_up_EA[i]     = mass_unc_up_LI[LI_index]\n",
    "        mass_unc_low_EA[i]    = mass_unc_low_LI[LI_index]\n",
    "        \n",
    "        radius_EA[i]          = radius_LI[LI_index]\n",
    "        radius_unc_up_EA[i]   = radius_unc_up_LI[LI_index]      \n",
    "        radius_unc_low_EA[i]  = radius_unc_low_LI[LI_index]    \n",
    "\n",
    "        density_EA[i]         = density_LI[LI_index]  \n",
    "        density_unc_up_EA[i]  = density_unc_up_LI[LI_index]  \n",
    "        density_unc_low_EA[i] = density_unc_low_LI[LI_index] \n",
    "        "
   ]
  },
  {
   "cell_type": "markdown",
   "id": "01fdbf31",
   "metadata": {},
   "source": [
    "# Filter Planets"
   ]
  },
  {
   "cell_type": "code",
   "execution_count": 4,
   "id": "aef9c7c4",
   "metadata": {},
   "outputs": [],
   "source": [
    "def filter_planets(planet_name_list,rel_unc_mass_criteria,rel_unc_density_criteria,star_type):\n",
    "    EA_planets = []\n",
    "    for i in range(0,len(planet_name_list)):\n",
    "        if radius_EA[i]<4 and isinstance(st_spectype_EA[i],str) and star_type in st_spectype_EA[i]:\n",
    "            relative_uncertainty_mass    = (mass_unc_up_EA[i] - mass_unc_low_EA[i]) / (2 * mass_EA[i])\n",
    "            relative_uncertainty_density = (density_unc_up_EA[i] - density_unc_low_EA[i]) / (2 * density_EA[i])\n",
    "            if relative_uncertainty_mass < rel_unc_mass_criteria and relative_uncertainty_density < rel_unc_density_criteria:\n",
    "                EA_planets.append(planet_name_list[i])\n",
    "    if rel_unc_mass_criteria > 0.06 and rel_unc_density_criteria > 0.06 and \"M\" in star_type:\n",
    "    #### Adding the TRAPPIST-1 planets  ##### (biggest rel_err around 6%)\n",
    "        EA_add_index = [5209,5210,5211,5212,5213,5214,5215] # adding the Trappist Planets\n",
    "        for i in EA_add_index:\n",
    "            EA_planets.append(planet_name_EA[i])\n",
    "    return EA_planets\n",
    "\n",
    "def filter_planets_no_unc(planet_name_list,star_type):\n",
    "    EA_planets = []\n",
    "    for i in range(0,len(planet_name_list)):\n",
    "        if radius_EA[i]<4 and isinstance(st_spectype_EA[i],str) and star_type in st_spectype_EA[i]:\n",
    "            EA_planets.append(planet_name_list[i])\n",
    "    if \"M\" in star_type:\n",
    "    #### Adding the TRAPPIST-1 planets  ##### (biggest rel_err around 6%)\n",
    "        EA_add_index = [5209,5210,5211,5212,5213,5214,5215] # adding the Trappist Planets\n",
    "        for i in EA_add_index:\n",
    "            EA_planets.append(planet_name_EA[i])\n",
    "    return EA_planets"
   ]
  },
  {
   "cell_type": "code",
   "execution_count": 5,
   "id": "0f6f50d4",
   "metadata": {},
   "outputs": [],
   "source": [
    "def make_lists(EA_planets):\n",
    "    planet      = [];planet_i       = []; \n",
    "    radius      = []; radius_up     = []; radius_low  = []\n",
    "    mass        = [];  mass_up      = []; mass_low    = []\n",
    "    density     = []; density_up    = []; density_low = []\n",
    "\n",
    "    for i in range(0,len(EA_planets)):\n",
    "        index  = list(planet_name_EA).index(EA_planets[i]); planet.append(dataEA.pl_name[index])\n",
    "        radius.append(dataEA.pl_rade[index]); radius_up.append(dataEA.pl_radeerr1[index]); radius_low.append(dataEA.pl_radeerr2[index])\n",
    "        density.append(dataEA.pl_dens[index]); density_up.append(dataEA.pl_denserr1[index]); density_low.append(dataEA.pl_denserr2[index])\n",
    "        mass.append(dataEA.pl_bmasse[index]); mass_up.append(dataEA.pl_bmasseerr1[index]);  mass_low.append(dataEA.pl_bmasseerr2[index])\n",
    "    return index,planet,radius,radius_up,radius_low,density,density_up,density_low,mass,mass_up,mass_low\n",
    "\n",
    "def find_planet_index(name):\n",
    "    return (list(EA_planets).index(name))"
   ]
  },
  {
   "cell_type": "code",
   "execution_count": 7,
   "id": "15f5bdb5",
   "metadata": {},
   "outputs": [],
   "source": [
    "def filter_planets_no_spec(planet_name_list,star_type):\n",
    "    EA_planets = []\n",
    "    spectral_type = []\n",
    "    for i in range(0,len(planet_name_list)):\n",
    "        if radius_EA[i]<4:\n",
    "            EA_planets.append(planet_name_list[i])\n",
    "            spectral_type.append(st_spectype_EA[i])\n",
    "    if \"M\" in star_type:\n",
    "    #### Adding the TRAPPIST-1 planets  ##### (biggest rel_err around 6%)\n",
    "        EA_add_index = [5209,5210,5211,5212,5213,5214,5215] # adding the Trappist Planets\n",
    "        for i in EA_add_index:\n",
    "            EA_planets.append(planet_name_EA[i])\n",
    "    return EA_planets,spectral_type\n",
    "\n",
    "EA_planets,spectral_type = filter_planets_no_spec(planet_name_EA,\"K\")\n",
    "#Counter(spectral_type)"
   ]
  },
  {
   "cell_type": "code",
   "execution_count": 8,
   "id": "1c46cb5d",
   "metadata": {},
   "outputs": [],
   "source": [
    "def liv34(planet_name_LI):\n",
    "    LIV34_planets = [\"K2-146 b\",'TRAPPIST-1 h', 'TRAPPIST-1 d', 'TRAPPIST-1 e', 'TRAPPIST-1 f', 'TRAPPIST-1 g', 'TRAPPIST-1 c', 'TRAPPIST-1 b', 'GJ 1132 b', 'TOI-270 b', 'GJ 3053 c', 'GJ 1252 b', 'GJ 357 b', 'LTT 3780 b', 'LHS 1478 b', 'GJ 486 b', 'GJ 3473 b', 'CD-60 8051 b', 'L 98-59 c', 'L 98-59 d', 'GJ 3053 b', 'TOI-270 d', 'TOI-776 b', 'TOI-1634 b', 'TOI-1685 b', 'TOI-1235 b', 'K2-146 c', 'LTT 3780 c', 'TOI-270 c', 'K2-18 b', 'TOI-269 b', 'GJ 1214 b', 'K2-25 b', 'TOI-1231 b'] \n",
    "    radius      = []; radius_up     = []; radius_low  = []\n",
    "    mass        = [];  mass_up      = []; mass_low    = []\n",
    "    density     = []; density_up    = []; density_low = []\n",
    "    \n",
    "    for i in range(0,len(planet_name_LI)):\n",
    "        if planet_name_LI[i] in LIV34_planets:\n",
    "            mass.append(mass_LI[i]) \n",
    "            mass_up.append(mass_unc_up_LI[i])\n",
    "            mass_low.append(mass_unc_low_LI[i])\n",
    "            \n",
    "            radius.append(radius_LI[i])\n",
    "            radius_up.append(radius_unc_up_LI[i])  \n",
    "            radius_low.append(radius_unc_low_LI[i])\n",
    "            \n",
    "            density.append(density_LI[i])\n",
    "            density_up.append(density_unc_up_LI[i])\n",
    "            density_low.append(density_unc_low_LI[i])\n",
    "    return radius,radius_up,radius_low,density,density_up,density_low,mass,mass_up,mass_low"
   ]
  },
  {
   "cell_type": "markdown",
   "id": "9bb38d54",
   "metadata": {},
   "source": [
    "## Luque planets smear"
   ]
  },
  {
   "cell_type": "code",
   "execution_count": 5,
   "id": "efe38886",
   "metadata": {},
   "outputs": [
    {
     "ename": "NameError",
     "evalue": "name 'liv34' is not defined",
     "output_type": "error",
     "traceback": [
      "\u001b[1;31m---------------------------------------------------------------------------\u001b[0m",
      "\u001b[1;31mNameError\u001b[0m                                 Traceback (most recent call last)",
      "Cell \u001b[1;32mIn[5], line 1\u001b[0m\n\u001b[1;32m----> 1\u001b[0m radius,radius_up,radius_low,density,density_up,density_low,mass,mass_up,mass_low \u001b[38;5;241m=\u001b[39m liv34(planet_name_LI)\n\u001b[0;32m      3\u001b[0m num_samples \u001b[38;5;241m=\u001b[39m \u001b[38;5;241m30\u001b[39m\n\u001b[0;32m      4\u001b[0m plt\u001b[38;5;241m.\u001b[39mfigure(figsize\u001b[38;5;241m=\u001b[39m(\u001b[38;5;241m12\u001b[39m, \u001b[38;5;241m4\u001b[39m))\n",
      "\u001b[1;31mNameError\u001b[0m: name 'liv34' is not defined"
     ]
    }
   ],
   "source": [
    "radius,radius_up,radius_low,density,density_up,density_low,mass,mass_up,mass_low = liv34(planet_name_LI)\n",
    "\n",
    "num_samples = 30\n",
    "plt.figure(figsize=(12, 4))\n",
    "plt.subplot(1, 2, 1)\n",
    "\n",
    "radii = []; masses = []; densitys = []\n",
    "for i in range(0,len(mass)):\n",
    "    mean_mass = mass[i]; mass_lower_err = np.abs(mass_low[i]);  mass_upper_err = mass_up[i]\n",
    "    \n",
    "    mean_density = np.divide(density,earth_density)[i]; \n",
    "    density_lower_err = np.divide(np.abs(density_low[i]),earth_density);  \n",
    "    density_upper_err = np.divide(density_up,earth_density)[i]\n",
    "\n",
    "    # Number of posterior samples to generate\n",
    "    mass_samples = np.random.normal(mean_mass, (mass_lower_err + mass_upper_err) / 2, num_samples)\n",
    "    masses.append(mass_samples)\n",
    "    density_samples = np.random.normal(mean_density, (density_lower_err + density_upper_err) / 2, num_samples)\n",
    "    densitys.append(density_samples)\n",
    "\n",
    "masses_flattened = [item for sublist in masses for item in sublist]\n",
    "radii_flattened = [item for sublist in radii for item in sublist]\n",
    "densitys_flattened = [item for sublist in densitys for item in sublist]\n",
    "\n",
    "# Create a 2D density colormap plot using KDE\n",
    "sns.kdeplot(x =masses_flattened,y=densitys_flattened, fill=True)\n",
    "plt.plot(100,100,label=\"Population\",color = \"cornflowerblue\")\n",
    "mass_err         = [np.abs(mass_low),mass_up]\n",
    "density_err      = [np.divide(np.abs(density_low),earth_density),np.divide(density_up,earth_density)]\n",
    "\n",
    "#plt.plot(mass,np.divide(density,earth_density),\".\",label = \"Planets\",color = \"0.4\",markersize = 13,zorder=10)\n",
    "#plt.errorbar(mass,np.divide(density,earth_density),xerr = mass_err, yerr = density_err,fmt=\".\",color=\"0.8\",zorder=1)\n",
    "plt.title('LIV34 planets')\n",
    "plt.xlabel(\"$Mass\\ [M_{\\oplus}]$\"); plt.ylabel(\"$Bulk\\ Density\\ [ρ_{b}/ρ_{Earth}]$\"); plt.xscale(\"log\");\n",
    "plt.ylim(0,2); plt.xlim(0.2,30); plt.xticks([0.5,1,2,5,10,20, 30],[\"0.5\",\"1\",\"2\",\"5\",\"10\",\"20\", \"30\"],minor=False); plt.grid(); plt.hlines(1,0,30,\"grey\",zorder = -30); \n",
    "leg = plt.legend()\n",
    "for line in leg.get_lines():\n",
    "    line.set_linewidth(8.0)\n",
    "    \n",
    "plt.subplot(1, 2, 2)\n",
    "EA_planets = filter_planets_no_unc(planet_name_EA,\"M\")\n",
    "index,planet,radius,radius_up,radius_low,density,density_up,density_low,mass,mass_up,mass_low = make_lists(EA_planets)\n",
    "\n",
    "radii = []; masses = []; densitys = []\n",
    "for i in range(0,len(mass)):\n",
    "    mean_mass = mass[i]; mass_lower_err = np.abs(mass_low[i]);  mass_upper_err = mass_up[i]\n",
    "    \n",
    "    mean_density = np.divide(density,earth_density)[i]; \n",
    "    density_lower_err = np.divide(np.abs(density_low[i]),earth_density);  \n",
    "    density_upper_err = np.divide(density_up,earth_density)[i]\n",
    "\n",
    "    # Number of posterior samples to generate\n",
    "    mass_samples = np.random.normal(mean_mass, (mass_lower_err + mass_upper_err) / 2, num_samples)\n",
    "    masses.append(mass_samples)\n",
    "    density_samples = np.random.normal(mean_density, (density_lower_err + density_upper_err) / 2, num_samples)\n",
    "    densitys.append(density_samples)\n",
    "\n",
    "masses_flattened = [item for sublist in masses for item in sublist]\n",
    "radii_flattened = [item for sublist in radii for item in sublist]\n",
    "densitys_flattened = [item for sublist in densitys for item in sublist]\n",
    "\n",
    "# Create a 2D density colormap plot using KDE\n",
    "sns.kdeplot(x =masses_flattened,y=densitys_flattened, fill=True)\n",
    "mass_err         = [np.abs(mass_low),mass_up]\n",
    "density_err      = [np.divide(np.abs(density_low),earth_density),np.divide(density_up,earth_density)]\n",
    "#plt.plot(mass,np.divide(density,earth_density),\".\",label = \"Planets\",color = \"0.4\",markersize = 13,zorder=10)\n",
    "#plt.errorbar(mass,np.divide(density,earth_density),xerr = mass_err, yerr = density_err,fmt=\".\",color=\"0.8\",zorder=1)\n",
    "plt.title('M type hosts, <4 Earth radii')\n",
    "plt.xlabel(\"$Mass\\ [M_{\\oplus}]$\"); plt.ylabel(\"$Bulk\\ Density\\ [ρ_{b}/ρ_{Earth}]$\"); plt.xscale(\"log\");\n",
    "plt.ylim(0,2); plt.xlim(0.2,30); plt.xticks([0.5,1,2,5,10,20, 30],[\"0.5\",\"1\",\"2\",\"5\",\"10\",\"20\", \"30\"],minor=False);\n",
    "plt.grid(); plt.hlines(1,0,30,\"grey\",zorder = -30)\n",
    "plt.plot(100,100,label=\"Population\",color = \"cornflowerblue\")\n",
    "leg = plt.legend()\n",
    "for line in leg.get_lines():\n",
    "    line.set_linewidth(8.0)"
   ]
  },
  {
   "cell_type": "code",
   "execution_count": 3,
   "id": "55b5f693",
   "metadata": {},
   "outputs": [
    {
     "ename": "NameError",
     "evalue": "name 'masses_flattened' is not defined",
     "output_type": "error",
     "traceback": [
      "\u001b[1;31m---------------------------------------------------------------------------\u001b[0m",
      "\u001b[1;31mNameError\u001b[0m                                 Traceback (most recent call last)",
      "Cell \u001b[1;32mIn[3], line 8\u001b[0m\n\u001b[0;32m      4\u001b[0m \u001b[38;5;28;01mimport\u001b[39;00m \u001b[38;5;21;01mplotly\u001b[39;00m\u001b[38;5;21;01m.\u001b[39;00m\u001b[38;5;21;01mgraph_objs\u001b[39;00m \u001b[38;5;28;01mas\u001b[39;00m \u001b[38;5;21;01mgo\u001b[39;00m\n\u001b[0;32m      6\u001b[0m \u001b[38;5;66;03m# Your Seaborn or Matplotlib plot code\u001b[39;00m\n\u001b[0;32m      7\u001b[0m \u001b[38;5;66;03m# For example, let's create a simple Seaborn plot\u001b[39;00m\n\u001b[1;32m----> 8\u001b[0m sns\u001b[38;5;241m.\u001b[39mkdeplot(x\u001b[38;5;241m=\u001b[39mmasses_flattened, y\u001b[38;5;241m=\u001b[39mdensitys_flattened, fill\u001b[38;5;241m=\u001b[39m\u001b[38;5;28;01mTrue\u001b[39;00m)\n\u001b[0;32m      9\u001b[0m plt\u001b[38;5;241m.\u001b[39mtitle(\u001b[38;5;124m'\u001b[39m\u001b[38;5;124mLIV34 Planets\u001b[39m\u001b[38;5;124m'\u001b[39m)\n\u001b[0;32m     10\u001b[0m plt\u001b[38;5;241m.\u001b[39mxlabel(\u001b[38;5;124m\"\u001b[39m\u001b[38;5;124m$Mass\u001b[39m\u001b[38;5;124m\\\u001b[39m\u001b[38;5;124m [M_\u001b[39m\u001b[38;5;124m{\u001b[39m\u001b[38;5;124m\\\u001b[39m\u001b[38;5;124moplus}]$\u001b[39m\u001b[38;5;124m\"\u001b[39m)\n",
      "\u001b[1;31mNameError\u001b[0m: name 'masses_flattened' is not defined"
     ]
    }
   ],
   "source": []
  }
 ],
 "metadata": {
  "kernelspec": {
   "display_name": "Python 3 (ipykernel)",
   "language": "python",
   "name": "python3"
  },
  "language_info": {
   "codemirror_mode": {
    "name": "ipython",
    "version": 3
   },
   "file_extension": ".py",
   "mimetype": "text/x-python",
   "name": "python",
   "nbconvert_exporter": "python",
   "pygments_lexer": "ipython3",
   "version": "3.11.5"
  }
 },
 "nbformat": 4,
 "nbformat_minor": 5
}
