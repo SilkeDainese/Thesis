{
 "cells": [
  {
   "cell_type": "code",
   "execution_count": 1,
   "id": "98a14ac9",
   "metadata": {},
   "outputs": [],
   "source": [
    "import numpy as np\n",
    "import pandas as pd\n",
    "from matplotlib import pyplot as plt\n",
    "import scipy\n",
    "import seaborn as sns\n",
    "\n",
    "import warnings\n",
    "warnings.filterwarnings(\"ignore\")\n",
    "\n",
    "earth_density    = 5.51   # [g/cm**3]"
   ]
  },
  {
   "cell_type": "code",
   "execution_count": 2,
   "id": "f39e7897",
   "metadata": {},
   "outputs": [],
   "source": [
    "dataEA = pd.read_csv(r\"C:\\Users\\silke\\OneDrive\\Skrivebord\\Thesis\\Exoplanet_Archive.csv\",delimiter=\",\")\n",
    "dataLI = pd.read_csv(r\"C:\\Users\\silke\\OneDrive\\Skrivebord\\Thesis\\STPM_improved_210721.csv\",delimiter=\",\")\n",
    "planet_name_LI        = list(dataLI[\"Star\"]+\" \"+dataLI[\"Planet\"])"
   ]
  },
  {
   "cell_type": "code",
   "execution_count": 3,
   "id": "36a36740",
   "metadata": {},
   "outputs": [],
   "source": [
    "# Luque Impoved\n",
    "planet_id_LI         = dataLI.ID\n",
    "star_name_LI         = dataLI.Star\n",
    "planet_letter_LI     = dataLI.Planet\n",
    "\n",
    "radius_LI            = dataLI.R_Rterra            # [Earth Radius]\n",
    "radius_unc_up_LI     = dataLI.euR_Rterra          # [Earth Radius] Upper Unc.\n",
    "radius_unc_low_LI    = dataLI.edR_Rterra          # [Earth Radius] Lower Unc.\n",
    "\n",
    "mass_LI              = dataLI.M_Mterra            # [Earth Mass] - Planet Mass or Mass*sin(i) [Earth Mass]\n",
    "mass_unc_up_LI       = dataLI.euM_Mterra          # [Earth Mass] Upper Unc.\n",
    "mass_unc_low_LI      = dataLI.edM_Mterra          # [Earth Mass] Lower Unc.\n",
    "\n",
    "density_LI           = dataLI[dataLI.columns[32]]  # [g/cm**3]\n",
    "density_unc_up_LI    = dataLI[dataLI.columns[33]]  # [g/cm**3] Planet Density Upper Unc. \n",
    "density_unc_low_LI   = dataLI[dataLI.columns[34]]  # [g/cm**3] Planet Density Lower Unc\n",
    "\n",
    "pl_eq_LI             = dataLI.Teq_K                # [K] Equilibrium Temperature\n",
    "\n",
    "# Exoplanet Archive\n",
    "planet_name_EA       = dataEA.pl_name\n",
    "planet_id_EA         = list(range(0,len(planet_name_EA)))\n",
    "\n",
    "radius_EA            = dataEA.pl_rade            # [Earth Radius]\n",
    "period_EA            = dataEA.pl_orbper          # [days]\n",
    "radius_unc_up_EA     = dataEA.pl_radeerr1        # [Earth Radius] Upper Unc.\n",
    "radius_unc_low_EA    = dataEA.pl_radeerr2        # [Earth Radius] Lower Unc.\n",
    "mass_EA              = dataEA.pl_bmasse          # [Earth Mass] - Planet Mass or Mass*sin(i) [Earth Mass]\n",
    "\n",
    "mass_unc_up_EA       = dataEA.pl_bmasseerr1      # [Earth Mass] Upper Unc.\n",
    "mass_unc_low_EA      = dataEA.pl_bmasseerr2      # [Earth Mass] Lower Unc.\n",
    "\n",
    "density_EA           = dataEA.pl_dens            # [g/cm**3]\n",
    "density_unc_up_EA    = dataEA.pl_denserr1        # [g/cm**3] Planet Density Upper Unc. \n",
    "density_unc_low_EA   = dataEA.pl_denserr2        # [g/cm**3] Planet Density Lower Unc. \n",
    "st_spectype_EA       = dataEA.st_spectype        # Spectral type of star\n",
    "pl_eq_EA             = dataEA.pl_eqt             # [K] Equilibrium Temperature\n",
    "\n",
    "for i in range(0,len(planet_name_LI)):\n",
    "    if planet_name_LI[i] == 'CD-60 8051 b':\n",
    "        planet_name_LI[i] = 'L 168-9 b'\n",
    "    if planet_name_LI[i] == 'GJ 3053 b':\n",
    "        planet_name_LI[i] = 'LHS 1140 b'\n",
    "    if planet_name_LI[i] == 'GJ 3053 c':\n",
    "        planet_name_LI[i] = 'LHS 1140 c'\n",
    "\n",
    "##### Use the Luque values for planets in that sample #### \n",
    "for i in range(0,len(planet_name_EA)):\n",
    "    if planet_name_EA[i] in planet_name_LI:\n",
    "        LI_index              = planet_name_LI.index(planet_name_EA[i])\n",
    "        \n",
    "        pl_eq_EA[i]           = pl_eq_LI[LI_index]\n",
    "        mass_EA[i]            = mass_LI[LI_index]\n",
    "        mass_unc_up_EA[i]     = mass_unc_up_LI[LI_index]\n",
    "        mass_unc_low_EA[i]    = mass_unc_low_LI[LI_index]\n",
    "        \n",
    "        radius_EA[i]          = radius_LI[LI_index]\n",
    "        radius_unc_up_EA[i]   = radius_unc_up_LI[LI_index]      \n",
    "        radius_unc_low_EA[i]  = radius_unc_low_LI[LI_index]    \n",
    "\n",
    "        density_EA[i]         = density_LI[LI_index]  \n",
    "        density_unc_up_EA[i]  = density_unc_up_LI[LI_index]  \n",
    "        density_unc_low_EA[i] = density_unc_low_LI[LI_index] \n",
    "        st_spectype_EA[i]     = \"M\""
   ]
  },
  {
   "cell_type": "markdown",
   "id": "cab249af",
   "metadata": {},
   "source": [
    "# Filters"
   ]
  },
  {
   "cell_type": "markdown",
   "id": "558ca349",
   "metadata": {},
   "source": [
    "### Base 1 /w and /wo unc"
   ]
  },
  {
   "cell_type": "code",
   "execution_count": 4,
   "id": "6a270ee4",
   "metadata": {},
   "outputs": [],
   "source": [
    "def filter_planets(planet_name_list,rel_unc_mass_criteria,rel_unc_density_criteria,star_type):\n",
    "    EA_planets = []\n",
    "    for i in range(0,len(planet_name_list)):\n",
    "        if radius_EA[i]<4 and isinstance(st_spectype_EA[i],str) and star_type in st_spectype_EA[i]:\n",
    "            relative_uncertainty_mass    = (mass_unc_up_EA[i] - mass_unc_low_EA[i]) / (2 * mass_EA[i])\n",
    "            relative_uncertainty_density = (density_unc_up_EA[i] - density_unc_low_EA[i]) / (2 * density_EA[i])\n",
    "            if relative_uncertainty_mass < rel_unc_mass_criteria and relative_uncertainty_density < rel_unc_density_criteria:\n",
    "                EA_planets.append(planet_name_list[i])\n",
    "    if rel_unc_mass_criteria > 0.06 and rel_unc_density_criteria > 0.06 and \"M\" in star_type:\n",
    "    #### Adding the TRAPPIST-1 planets  ##### (biggest rel_err around 6%)\n",
    "        EA_add_index = [5209,5210,5211,5212,5213,5214,5215] # adding the Trappist Planets\n",
    "        for i in EA_add_index:\n",
    "            EA_planets.append(planet_name_EA[i])\n",
    "    return EA_planets\n",
    "\n",
    "def filter_planets_no_unc(planet_name_list,star_type):\n",
    "    EA_planets = []\n",
    "    for i in range(0,len(planet_name_list)):\n",
    "        if radius_EA[i]<4 and isinstance(st_spectype_EA[i],str) and star_type in st_spectype_EA[i]:\n",
    "            EA_planets.append(planet_name_list[i])\n",
    "    if \"M\" in star_type:\n",
    "    #### Adding the TRAPPIST-1 planets  ##### (biggest rel_err around 6%)\n",
    "        EA_add_index = [5209,5210,5211,5212,5213,5214,5215] # adding the Trappist Planets\n",
    "        for i in EA_add_index:\n",
    "            EA_planets.append(planet_name_EA[i])\n",
    "    return EA_planets"
   ]
  },
  {
   "cell_type": "markdown",
   "id": "0322d321",
   "metadata": {},
   "source": [
    "### Choose LIV34"
   ]
  },
  {
   "cell_type": "code",
   "execution_count": 5,
   "id": "8719c3b3",
   "metadata": {},
   "outputs": [],
   "source": [
    "def liv34(EA_planets):\n",
    "    LIV34_planets = [\"K2-146 b\",'TRAPPIST-1 h', 'TRAPPIST-1 d', 'TRAPPIST-1 e', 'TRAPPIST-1 f', 'TRAPPIST-1 g', 'TRAPPIST-1 c', 'TRAPPIST-1 b', 'GJ 1132 b', 'TOI-270 b', 'LHS 1140 c', 'GJ 1252 b', 'GJ 357 b', 'LTT 3780 b', 'LHS 1478 b', 'GJ 486 b', 'GJ 3473 b', 'L 168-9 b', 'L 98-59 c', 'L 98-59 d', 'LHS 1140 b', 'TOI-270 d', 'TOI-776 b', 'TOI-1634 b', 'TOI-1685 b', 'TOI-1235 b', 'K2-146 c', 'LTT 3780 c', 'TOI-270 c', 'K2-18 b', 'TOI-269 b', 'GJ 1214 b', 'K2-25 b', 'TOI-1231 b'] \n",
    "    planet      = [];planet_i       = []; planet_eq   = []\n",
    "    radius      = []; radius_up     = []; radius_low  = []\n",
    "    mass        = [];  mass_up      = []; mass_low    = []\n",
    "    density     = []; density_up    = []; density_low = []\n",
    "    \n",
    "    for i in range(0,len(EA_planets)):\n",
    "        if EA_planets[i] in LIV34_planets:\n",
    "            index  = list(planet_name_EA).index(EA_planets[i]); planet.append(dataEA.pl_name[index])\n",
    "            planet_eq.append(pl_eq_EA[i])\n",
    "            radius.append(dataEA.pl_rade[index]); radius_up.append(dataEA.pl_radeerr1[index]); radius_low.append(dataEA.pl_radeerr2[index])\n",
    "            density.append(dataEA.pl_dens[index]); density_up.append(dataEA.pl_denserr1[index]); density_low.append(dataEA.pl_denserr2[index])\n",
    "            mass.append(dataEA.pl_bmasse[index]); mass_up.append(dataEA.pl_bmasseerr1[index]);  mass_low.append(dataEA.pl_bmasseerr2[index])\n",
    "    return index,planet,radius,radius_up,radius_low,density,density_up,density_low,mass,mass_up,mass_low,planet_eq"
   ]
  },
  {
   "cell_type": "markdown",
   "id": "880f48a0",
   "metadata": {},
   "source": [
    "### Makelist"
   ]
  },
  {
   "cell_type": "code",
   "execution_count": 6,
   "id": "8ffea3fd",
   "metadata": {},
   "outputs": [],
   "source": [
    "def make_lists(EA_planets):\n",
    "    planet      = [];planet_i       = []; planet_eq   = []\n",
    "    radius      = []; radius_up     = []; radius_low  = []\n",
    "    mass        = [];  mass_up      = []; mass_low    = []\n",
    "    density     = []; density_up    = []; density_low = []\n",
    "\n",
    "    for i in range(0,len(EA_planets)):\n",
    "        index  = list(planet_name_EA).index(EA_planets[i]); planet.append(dataEA.pl_name[index])\n",
    "        planet_eq.append(pl_eq_EA[i])\n",
    "        radius.append(dataEA.pl_rade[index]); radius_up.append(dataEA.pl_radeerr1[index]); radius_low.append(dataEA.pl_radeerr2[index])\n",
    "        density.append(dataEA.pl_dens[index]); density_up.append(dataEA.pl_denserr1[index]); density_low.append(dataEA.pl_denserr2[index])\n",
    "        mass.append(dataEA.pl_bmasse[index]); mass_up.append(dataEA.pl_bmasseerr1[index]);  mass_low.append(dataEA.pl_bmasseerr2[index])\n",
    "    return index,planet,radius,radius_up,radius_low,density,density_up,density_low,mass,mass_up,mass_low,planet_eq\n",
    "\n",
    "def find_planet_index(name):\n",
    "    return (list(EA_planets).index(name))"
   ]
  },
  {
   "cell_type": "markdown",
   "id": "11cd1b0e",
   "metadata": {},
   "source": [
    "# Plot LIV34"
   ]
  },
  {
   "cell_type": "code",
   "execution_count": 54,
   "id": "f03ba60b",
   "metadata": {},
   "outputs": [
    {
     "data": {
      "image/png": "[encoded data removed]",
      "text/plain": [
       "<Figure size 640x480 with 1 Axes>"
      ]
     },
     "metadata": {},
     "output_type": "display_data"
    }
   ],
   "source": [
    "### Find LIV34 planets ###\n",
    "index,planet,radius,radius_up,radius_low,density,density_up,density_low,mass,mass_up,mass_low,planet_eq = liv34(planet_name_EA)\n",
    "\n",
    "mass_err        = [np.abs(mass_low),mass_up]\n",
    "density_err     = [np.divide(np.abs(density_low),earth_density),np.divide(density_up,earth_density)]\n",
    "\n",
    "plt.errorbar(mass,np.divide(density,earth_density),xerr = mass_err, yerr=density_err,fmt='.', color='0.7',zorder=-32)\n",
    "plt.scatter(mass,np.divide(density,earth_density), label = \"Planets\",s= 80,c=planet_eq, cmap = \"inferno\",marker='o')\n",
    "\n",
    "plt.title('LIV34 planets')\n",
    "plt.xlabel(\"$Mass\\ [M_{\\oplus}]$\"); plt.ylabel(\"$Bulk\\ Density\\ [ρ_{b}/ρ_{Earth}]$\"); plt.xscale(\"log\");\n",
    "plt.ylim(0,2); plt.xlim(0.2,30); plt.xticks([0.5,1,2,5,10,20, 30],[\"0.5\",\"1\",\"2\",\"5\",\"10\",\"20\", \"30\"],minor=False); plt.grid(); plt.hlines(1,0,30,\"grey\",zorder = -30); \n",
    "leg = plt.legend()\n",
    "for line in leg.get_lines():\n",
    "    line.set_linewidth(8.0)"
   ]
  },
  {
   "cell_type": "code",
   "execution_count": 1,
   "id": "22e72735",
   "metadata": {},
   "outputs": [
    {
     "ename": "NameError",
     "evalue": "name 'np' is not defined",
     "output_type": "error",
     "traceback": [
      "\u001b[1;31m---------------------------------------------------------------------------\u001b[0m",
      "\u001b[1;31mNameError\u001b[0m                                 Traceback (most recent call last)",
      "Cell \u001b[1;32mIn[1], line 5\u001b[0m\n\u001b[0;32m      2\u001b[0m \u001b[38;5;28;01mfrom\u001b[39;00m \u001b[38;5;21;01mplotly\u001b[39;00m\u001b[38;5;21;01m.\u001b[39;00m\u001b[38;5;21;01msubplots\u001b[39;00m \u001b[38;5;28;01mimport\u001b[39;00m make_subplots\n\u001b[0;32m      4\u001b[0m \u001b[38;5;66;03m# Assuming you have error values for x and y coordinates for both datasets\u001b[39;00m\n\u001b[1;32m----> 5\u001b[0m x_err1 \u001b[38;5;241m=\u001b[39m [np\u001b[38;5;241m.\u001b[39mabs(mass_low), mass_up]\n\u001b[0;32m      6\u001b[0m y_err1 \u001b[38;5;241m=\u001b[39m [np\u001b[38;5;241m.\u001b[39mdivide(np\u001b[38;5;241m.\u001b[39mabs(density_low), earth_density), np\u001b[38;5;241m.\u001b[39mdivide(density_up, earth_density)]\n\u001b[0;32m      8\u001b[0m x_err2 \u001b[38;5;241m=\u001b[39m [np\u001b[38;5;241m.\u001b[39mabs(mass_low2), mass_up2]\n",
      "\u001b[1;31mNameError\u001b[0m: name 'np' is not defined"
     ]
    }
   ],
   "source": [
    "import plotly.graph_objects as go\n",
    "from plotly.subplots import make_subplots\n",
    "\n",
    "# Assuming you have error values for x and y coordinates for both datasets\n",
    "x_err1 = [np.abs(mass_low), mass_up]\n",
    "y_err1 = [np.divide(np.abs(density_low), earth_density), np.divide(density_up, earth_density)]\n",
    "\n",
    "x_err2 = [np.abs(mass_low2), mass_up2]\n",
    "y_err2 = [np.divide(np.abs(density_low2), earth_density), np.divide(density_up2, earth_density)]\n",
    "\n",
    "# Create subplots with 2 rows and 1 column\n",
    "fig = make_subplots(rows=2, cols=1, shared_xaxes=True, vertical_spacing=0.1)\n",
    "\n",
    "hover_text1 = [\n",
    "    f\"Dataset: Mass<br>Planet name: {planet[i]}<br>Mass: {mass1[i]} +{error_x_up_rounded1[i]} -{error_x_low_rounded1[i]}<br>Density: {density_rounded1[i]} +{error_y_up_rounded1[i]} -{error_y_low_rounded1[i]}\"\n",
    "    for i in range(len(mass1))\n",
    "]\n",
    "\n",
    "# Scatter plot for the first dataset\n",
    "scatter1 = go.Scatter(\n",
    "    x=mass1,\n",
    "    y=np.divide(density1, earth_density),\n",
    "    mode='markers',\n",
    "    text=hover_text1,\n",
    "    marker=dict(size=10, color=planet_eq1, colorscale='inferno'),\n",
    "    error_x=dict(type='data', array=x_err1[0], arrayminus=x_err1[1], visible=True),\n",
    "    error_y=dict(type='data', array=y_err1[0], arrayminus=y_err1[1], visible=True),\n",
    "    name='Dataset 1'\n",
    ")\n",
    "\n",
    "hover_text2 = [\n",
    "    f\"Dataset: Mass2<br>Planet name: {planet[i]}<br>Mass: {mass2[i]} +{error_x_up_rounded2[i]} -{error_x_low_rounded2[i]}<br>Density: {density_rounded2[i]} +{error_y_up_rounded2[i]} -{error_y_low_rounded2[i]}\"\n",
    "    for i in range(len(mass2))\n",
    "]\n",
    "\n",
    "# Scatter plot for the second dataset\n",
    "scatter2 = go.Scatter(\n",
    "    x=mass2,\n",
    "    y=np.divide(density2, earth_density),\n",
    "    mode='markers',\n",
    "    text=hover_text2,\n",
    "    marker=dict(size=10, color=planet_eq2, colorscale='inferno'),\n",
    "    error_x=dict(type='data', array=x_err2[0], arrayminus=x_err2[1], visible=True),\n",
    "    error_y=dict(type='data', array=y_err2[0], arrayminus=y_err2[1], visible=True),\n",
    "    name='Dataset 2'\n",
    ")\n",
    "\n",
    "# Add the first dataset plot to the first row\n",
    "fig.add_trace(scatter1, row=1, col=1)\n",
    "\n",
    "# Add the second dataset plot to the second row\n",
    "fig.add_trace(scatter2, row=2, col=1)\n",
    "buttons = [\n",
    "    {\n",
    "        'method': 'restyle',\n",
    "        'label': 'Data 1',\n",
    "        'args': [{'x': [mass], 'y': [np.divide(density, earth_density)], 'marker.color': [planet_eq]}]\n",
    "    },\n",
    "    {\n",
    "        'method': 'restyle',\n",
    "        'label': 'Data 2',\n",
    "        'args': [{'x': [mass2], 'y': [np.divide(density2, earth_density)], 'marker.color': [planet_eq2]}]\n",
    "    },\n",
    "    {\n",
    "        'method': 'restyle',\n",
    "        'label': 'Both Data',\n",
    "        'args': [{'x': [mass, mass2], 'y': [np.divide(density, earth_density), np.divide(density2, earth_density)],\n",
    "                  'marker.color': [planet_eq, planet_eq2]}]\n",
    "    }\n",
    "]\n",
    "# Update layout\n",
    "fig.update_layout(\n",
    "    updatemenus=[\n",
    "        {\n",
    "            'buttons': buttons,\n",
    "            'direction': 'down',\n",
    "            'showactive': True,\n",
    "            'x': 0.1,\n",
    "            'xanchor': 'left',\n",
    "            'y': 1.15,\n",
    "            'yanchor': 'top'\n",
    "        },\n",
    "    ],\n",
    "    title='Interactive 2D Plot with Error Bars and Colormap',\n",
    "    xaxis=dict(\n",
    "        title='Mass',\n",
    "        type='log',  # Log scale the x-axis\n",
    "        tickvals=[0.5, 1, 2, 5, 10, 20, 30],  # Custom tick positions\n",
    "        ticktext=[\"0.5\", \"1\", \"2\", \"5\", \"10\", \"20\", \"30\"],  # Custom tick labels\n",
    "        dtick=1  # Spacing between ticks\n",
    "    ),\n",
    "    yaxis=dict(title='Density'),\n",
    "    hoverlabel=dict(\n",
    "        bgcolor=\"white\",\n",
    "        font_size=16,\n",
    "        font_family=\"Rockwell\"\n",
    "    ),\n",
    "    width=800,  # Adjust the width of the figure\n",
    "    height=600  # Adjust the height of the figure\n",
    ")\n",
    "\n",
    "\n",
    "fig.show()\n",
    "\n"
   ]
  },
  {
   "cell_type": "code",
   "execution_count": 57,
   "id": "bd8d9024",
   "metadata": {},
   "outputs": [
    {
     "ename": "NameError",
     "evalue": "name 'planet2' is not defined",
     "output_type": "error",
     "traceback": [
      "\u001b[1;31m---------------------------------------------------------------------------\u001b[0m",
      "\u001b[1;31mNameError\u001b[0m                                 Traceback (most recent call last)",
      "Cell \u001b[1;32mIn[57], line 15\u001b[0m\n\u001b[0;32m     13\u001b[0m merged_density_low \u001b[38;5;241m=\u001b[39m density_low\u001b[38;5;241m.\u001b[39mappend(density_low2)\n\u001b[0;32m     14\u001b[0m merged_density_up \u001b[38;5;241m=\u001b[39m density_up\u001b[38;5;241m.\u001b[39mappend(density_up2)\n\u001b[1;32m---> 15\u001b[0m merged_planet \u001b[38;5;241m=\u001b[39m planet\u001b[38;5;241m.\u001b[39mappend(planet2)\n\u001b[0;32m     16\u001b[0m merged_planet_eq \u001b[38;5;241m=\u001b[39m planet_eq\u001b[38;5;241m.\u001b[39mappend(planet_eq2)\n\u001b[0;32m     17\u001b[0m merged_dataset \u001b[38;5;241m=\u001b[39m [\u001b[38;5;124m'\u001b[39m\u001b[38;5;124mDataset 1\u001b[39m\u001b[38;5;124m'\u001b[39m] \u001b[38;5;241m*\u001b[39m \u001b[38;5;28mlen\u001b[39m(mass) \u001b[38;5;241m+\u001b[39m [\u001b[38;5;124m'\u001b[39m\u001b[38;5;124mDataset 2\u001b[39m\u001b[38;5;124m'\u001b[39m] \u001b[38;5;241m*\u001b[39m \u001b[38;5;28mlen\u001b[39m(mass2)\n",
      "\u001b[1;31mNameError\u001b[0m: name 'planet2' is not defined"
     ]
    }
   ],
   "source": [
    "import plotly.graph_objects as go\n",
    "\n",
    "# Assuming you have error values for x and y coordinates for both datasets\n",
    "x_err = [np.abs(mass_low), mass_up]\n",
    "y_err = [np.divide(np.abs(density_low), earth_density), np.divide(density_up, earth_density)]\n",
    "\n",
    "x_err2 = [np.abs(mass_low2), mass_up2]\n",
    "y_err2 = [np.divide(np.abs(density_low2), earth_density), np.divide(density_up2, earth_density)]\n",
    "\n",
    "# Merge the data from both datasets\n",
    "merged_mass = mass.append(mass2)\n",
    "merged_density = np.append(np.divide(density, earth_density),(np.divide(density2, earth_density)))\n",
    "merged_density_low = density_low.append(density_low2)\n",
    "merged_density_up = density_up.append(density_up2)\n",
    "merged_planet = planet.append(planet2)\n",
    "merged_planet_eq = planet_eq.append(planet_eq2)\n",
    "merged_dataset = ['Dataset 1'] * len(mass) + ['Dataset 2'] * len(mass2)\n",
    "\n",
    "# Create hover text with desired information for both datasets\n",
    "hover_text = [\n",
    "    f\"Dataset: {merged_dataset[i]}<br>Planet name: {merged_planet[i]}<br>Mass: {merged_mass[i]}<br>Density: {merged_density[i]}<br>Density Low: {merged_density_low[i]}<br>Density Up: {merged_density_up[i]}\"\n",
    "    for i in range(len(merged_mass))\n",
    "]\n",
    "\n",
    "# Create the scatter plot with colormap\n",
    "scatter = go.Scatter(\n",
    "    x=merged_mass,\n",
    "    y=merged_density,\n",
    "    mode='markers',\n",
    "    text=hover_text,\n",
    "    marker=dict(size=10, color=merged_planet_eq, colorscale='inferno'),\n",
    "    error_x=dict(type='data', array=x_err[0] + x_err2[0], arrayminus=x_err1[1] + x_err2[1], visible=True),\n",
    "    error_y=dict(type='data', array=y_err[0] + y_err2[0], arrayminus=y_err1[1] + y_err2[1], visible=True),\n",
    "    name='Merged Data'\n",
    ")\n",
    "\n",
    "# Create the figure\n",
    "fig = go.Figure(scatter)\n",
    "\n",
    "buttons = [\n",
    "    {\n",
    "        'method': 'restyle',\n",
    "        'label': 'Data 1',\n",
    "        'args': [{'x': [mass], 'y': [np.divide(density, earth_density)], 'marker.color': [planet_eq]}]\n",
    "    },\n",
    "    {\n",
    "        'method': 'restyle',\n",
    "        'label': 'Data 2',\n",
    "        'args': [{'x': [mass2], 'y': [np.divide(density2, earth_density)], 'marker.color': [planet_eq2]}]\n",
    "    },\n",
    "    {\n",
    "        'method': 'restyle',\n",
    "        'label': 'Both Data',\n",
    "        'args': [{'x': [merged_mass], 'y': [merged_density], 'marker.color': [merged_planet_eq]}]\n",
    "    }\n",
    "]\n",
    "\n",
    "# Update layout\n",
    "fig.update_layout(\n",
    "    updatemenus=[\n",
    "        {\n",
    "            'buttons': buttons,\n",
    "            'direction': 'down',\n",
    "            'showactive': True,\n",
    "            'x': 0.1,\n",
    "            'xanchor': 'left',\n",
    "            'y': 1.15,\n",
    "            'yanchor': 'top'\n",
    "        },\n",
    "    ],\n",
    "    title='Interactive 2D Plot with Error Bars and Colormap',\n",
    "    xaxis=dict(\n",
    "        title='Mass',\n",
    "        type='log',  # Log scale the x-axis\n",
    "        tickvals=[0.5, 1, 2, 5, 10, 20, 30],  # Custom tick positions\n",
    "        ticktext=[\"0.5\", \"1\", \"2\", \"5\", \"10\", \"20\", \"30\"],  # Custom tick labels\n",
    "        dtick=1  # Spacing between ticks\n",
    "    ),\n",
    "    yaxis=dict(title='Density'),\n",
    "    hoverlabel=dict(\n",
    "        bgcolor=\"white\",\n",
    "        font_size=16,\n",
    "        font_family=\"Rockwell\"\n",
    "    ),\n",
    "    width=800,  # Adjust the width of the figure\n",
    "    height=600  # Adjust the height of the figure\n",
    ")\n",
    "\n",
    "fig.show()\n"
   ]
  },
  {
   "cell_type": "code",
   "execution_count": 50,
   "id": "00a541d5",
   "metadata": {},
   "outputs": [
    {
     "ename": "ValueError",
     "evalue": "setting an array element with a sequence. The requested array has an inhomogeneous shape after 1 dimensions. The detected shape was (35,) + inhomogeneous part.",
     "output_type": "error",
     "traceback": [
      "\u001b[1;31m---------------------------------------------------------------------------\u001b[0m",
      "\u001b[1;31mValueError\u001b[0m                                Traceback (most recent call last)",
      "Cell \u001b[1;32mIn[50], line 1\u001b[0m\n\u001b[1;32m----> 1\u001b[0m np\u001b[38;5;241m.\u001b[39mdivide(density,earth_density)\n",
      "\u001b[1;31mValueError\u001b[0m: setting an array element with a sequence. The requested array has an inhomogeneous shape after 1 dimensions. The detected shape was (35,) + inhomogeneous part."
     ]
    }
   ],
   "source": [
    "np.divide(density,earth_density)"
   ]
  },
  {
   "cell_type": "code",
   "execution_count": 53,
   "id": "ee199649",
   "metadata": {},
   "outputs": [
    {
     "data": {
      "text/plain": [
       "[6.3,\n",
       " 1.49,\n",
       " 4.22,\n",
       " 5.03,\n",
       " 5.6,\n",
       " 7.0,\n",
       " 3.69,\n",
       " 3.92,\n",
       " 2.4,\n",
       " 3.3,\n",
       " 9.6,\n",
       " 5.46,\n",
       " 3.17,\n",
       " 8.04,\n",
       " 6.07,\n",
       " 6.67,\n",
       " 5.91,\n",
       " 3.03,\n",
       " 1.74,\n",
       " 7.25,\n",
       " 7.59,\n",
       " 3.44,\n",
       " 2.28,\n",
       " 5.7,\n",
       " 2.68,\n",
       " 3.28,\n",
       " 3.4,\n",
       " 5.425,\n",
       " 5.447,\n",
       " 4.354,\n",
       " 4.885,\n",
       " 5.009,\n",
       " 5.042,\n",
       " 4.147,\n",
       " [10.2,\n",
       "  6.2,\n",
       "  4.7,\n",
       "  3.7,\n",
       "  2.98,\n",
       "  3.02,\n",
       "  6.1,\n",
       "  1.36,\n",
       "  1.26,\n",
       "  1.61,\n",
       "  1.45,\n",
       "  6.74,\n",
       "  7.1,\n",
       "  5.57,\n",
       "  2.45,\n",
       "  5.4,\n",
       "  3.1,\n",
       "  3.86,\n",
       "  1.91,\n",
       "  3.5]]"
      ]
     },
     "execution_count": 53,
     "metadata": {},
     "output_type": "execute_result"
    }
   ],
   "source": [
    "density"
   ]
  },
  {
   "cell_type": "code",
   "execution_count": 32,
   "id": "2f85ef26",
   "metadata": {},
   "outputs": [
    {
     "data": {
      "application/vnd.plotly.v1+json": {
       "config": {
        "plotlyServerURL": "https://plot.ly"
       },
       "data": [
        {
         "error_x": {
          "array": [
           0.23,
           0.86,
           0.28,
           0.3,
           0.31,
           0.12,
           0.18,
           0.24,
           1.35,
           5.2,
           0.56,
           0.34,
           0.45,
           0.44,
           0.16,
           0.2,
           0.24,
           0.67,
           3.3,
           0.69,
           0.72,
           0.58,
           1.4,
           0.26,
           0.38,
           0.46,
           0.9,
           0.069,
           0.056,
           0.012,
           0.022,
           0.031,
           0.038,
           0.02
          ],
          "arrayminus": [
           0.23,
           0.86,
           0.28,
           0.3,
           0.31,
           0.11,
           0.18,
           0.24,
           1.35,
           5.7,
           0.56,
           0.35,
           0.46,
           0.46,
           0.17,
           0.2,
           0.24,
           0.69,
           3.3,
           0.67,
           0.71,
           0.59,
           1.4,
           0.26,
           0.38,
           0.46,
           0.9,
           0.069,
           0.056,
           0.012,
           0.022,
           0.031,
           0.038,
           0.02
          ],
          "type": "data",
          "visible": true
         },
         "error_y": {
          "array": [
           0.23593466424682397,
           0.059891107078039935,
           0.19963702359346644,
           0.16878402903811254,
           0.23593466424682397,
           0.18148820326678766,
           0.038112522686025406,
           0.049001814882032674,
           0.07259528130671507,
           0.14519056261343014,
           0.3266787658802178,
           0.19056261343012706,
           0.132486388384755,
           0.14519056261343014,
           0.13430127041742287,
           0.16152450090744103,
           0.16152450090744103,
           0.09800362976406535,
           0.07622504537205081,
           0.19963702359346644,
           0.20689655172413793,
           0.13430127041742287,
           0.07622504537205081,
           0.2177858439201452,
           0.0544464609800363,
           0.08166969147005446,
           0.1633393829401089,
           0.049364791288566245,
           0.0426497277676951,
           0.029582577132486392,
           0.033030852994555354,
           0.028675136116152453,
           0.028675136116152453,
           0.054809437386569876
          ],
          "arrayminus": [
           0.23593466424682397,
           0.07622504537205081,
           0.24319419237749548,
           0.1941923774954628,
           0.308529945553539,
           0.2177858439201452,
           0.038112522686025406,
           0.049001814882032674,
           0.07259528130671507,
           0.14519056261343014,
           0.4355716878402904,
           0.22323049001814882,
           0.1542649727767695,
           0.15245009074410162,
           0.14700544464609802,
           0.1869328493647913,
           0.1960072595281307,
           0.11978221415607987,
           0.0852994555353902,
           0.23593466424682397,
           0.2413793103448276,
           0.1560798548094374,
           0.08711433756805807,
           0.2177858439201452,
           0.0544464609800363,
           0.08166969147005446,
           0.19963702359346644,
           0.04809437386569873,
           0.040290381125226864,
           0.028312159709618877,
           0.030490018148820328,
           0.0250453720508167,
           0.024682395644283123,
           0.05843920145190563
          ],
          "type": "data",
          "visible": true
         },
         "marker": {
          "color": [
           529,
           576,
           1089,
           773,
           525,
           701,
           590,
           520,
           284,
           494,
           965,
           517,
           409,
           378.9,
           708.9,
           595,
           1000,
           397,
           329,
           775,
           921,
           1069,
           531,
           581,
           488,
           387,
           514,
           400.1,
           341.9,
           288,
           251.3,
           219,
           198.6,
           168
          ],
          "colorscale": [
           [
            0,
            "#000004"
           ],
           [
            0.1111111111111111,
            "#1b0c41"
           ],
           [
            0.2222222222222222,
            "#4a0c6b"
           ],
           [
            0.3333333333333333,
            "#781c6d"
           ],
           [
            0.4444444444444444,
            "#a52c60"
           ],
           [
            0.5555555555555556,
            "#cf4446"
           ],
           [
            0.6666666666666666,
            "#ed6925"
           ],
           [
            0.7777777777777778,
            "#fb9b06"
           ],
           [
            0.8888888888888888,
            "#f7d13d"
           ],
           [
            1,
            "#fcffa4"
           ]
          ],
          "size": 10
         },
         "mode": "markers",
         "name": "Data",
         "text": [
          "Planet name: GJ 1132 b<br>Mass: 1.66 +0.23 -0.23<br>Density: 1.14 +0.24 -0.24",
          "Planet name: GJ 1214 b<br>Mass: 6.26 +0.86 -0.86<br>Density: 0.27 +0.08 -0.06",
          "Planet name: GJ 1252 b<br>Mass: 1.32 +0.28 -0.28<br>Density: 0.77 +0.24 -0.2",
          "Planet name: GJ 3473 b<br>Mass: 1.86 +0.3 -0.3<br>Density: 0.91 +0.19 -0.17",
          "Planet name: GJ 357 b<br>Mass: 1.84 +0.31 -0.31<br>Density: 1.02 +0.31 -0.24",
          "Planet name: GJ 486 b<br>Mass: 2.82 +0.11 -0.12<br>Density: 1.27 +0.22 -0.18",
          "Planet name: K2-146 b<br>Mass: 5.77 +0.18 -0.18<br>Density: 0.67 +0.04 -0.04",
          "Planet name: K2-146 c<br>Mass: 7.49 +0.24 -0.24<br>Density: 0.71 +0.05 -0.05",
          "Planet name: K2-18 b<br>Mass: 8.64 +1.35 -1.35<br>Density: 0.44 +0.07 -0.07",
          "Planet name: K2-25 b<br>Mass: 24.5 +5.7 -5.2<br>Density: 0.6 +0.15 -0.15",
          "Planet name: L 168-9 b<br>Mass: 4.6 +0.56 -0.56<br>Density: 1.74 +0.44 -0.33",
          "Planet name: L 98-59 c<br>Mass: 2.42 +0.35 -0.34<br>Density: 0.99 +0.22 -0.19",
          "Planet name: L 98-59 d<br>Mass: 2.31 +0.46 -0.45<br>Density: 0.58 +0.15 -0.13",
          "Planet name: LHS 1140 b<br>Mass: 6.38 +0.46 -0.44<br>Density: 1.46 +0.15 -0.15",
          "Planet name: LHS 1140 c<br>Mass: 1.76 +0.17 -0.16<br>Density: 1.1 +0.15 -0.13",
          "Planet name: LHS 1478 b<br>Mass: 2.33 +0.2 -0.2<br>Density: 1.21 +0.19 -0.16",
          "Planet name: LTT 3780 b<br>Mass: 2.47 +0.24 -0.24<br>Density: 1.07 +0.2 -0.16",
          "Planet name: LTT 3780 c<br>Mass: 7.02 +0.69 -0.67<br>Density: 0.55 +0.12 -0.1",
          "Planet name: TOI-1231 b<br>Mass: 15.4 +3.3 -3.3<br>Density: 0.32 +0.09 -0.08",
          "Planet name: TOI-1235 b<br>Mass: 6.69 +0.67 -0.69<br>Density: 1.32 +0.24 -0.2",
          "Planet name: TOI-1634 b<br>Mass: 7.57 +0.71 -0.72<br>Density: 1.38 +0.24 -0.21",
          "Planet name: TOI-1685 b<br>Mass: 3.09 +0.59 -0.58<br>Density: 0.62 +0.16 -0.13",
          "Planet name: TOI-269 b<br>Mass: 8.8 +1.4 -1.4<br>Density: 0.41 +0.09 -0.08",
          "Planet name: TOI-270 b<br>Mass: 1.58 +0.26 -0.26<br>Density: 1.03 +0.22 -0.22",
          "Planet name: TOI-270 c<br>Mass: 6.14 +0.38 -0.38<br>Density: 0.49 +0.05 -0.05",
          "Planet name: TOI-270 d<br>Mass: 4.78 +0.46 -0.46<br>Density: 0.6 +0.08 -0.08",
          "Planet name: TOI-776 b<br>Mass: 4.0 +0.9 -0.9<br>Density: 0.62 +0.2 -0.16",
          "Planet name: TRAPPIST-1 b<br>Mass: 1.374 +0.07 -0.07<br>Density: 0.98 +0.05 -0.05",
          "Planet name: TRAPPIST-1 c<br>Mass: 1.308 +0.06 -0.06<br>Density: 0.99 +0.04 -0.04",
          "Planet name: TRAPPIST-1 d<br>Mass: 0.388 +0.01 -0.01<br>Density: 0.79 +0.03 -0.03",
          "Planet name: TRAPPIST-1 e<br>Mass: 0.692 +0.02 -0.02<br>Density: 0.89 +0.03 -0.03",
          "Planet name: TRAPPIST-1 f<br>Mass: 1.039 +0.03 -0.03<br>Density: 0.91 +0.03 -0.03",
          "Planet name: TRAPPIST-1 g<br>Mass: 1.321 +0.04 -0.04<br>Density: 0.92 +0.02 -0.03",
          "Planet name: TRAPPIST-1 h<br>Mass: 0.326 +0.02 -0.02<br>Density: 0.75 +0.06 -0.05"
         ],
         "type": "scatter",
         "x": [
          1.66,
          6.26,
          1.32,
          1.86,
          1.84,
          2.82,
          5.77,
          7.49,
          8.64,
          24.5,
          4.6,
          2.42,
          2.31,
          6.38,
          1.76,
          2.33,
          2.47,
          7.02,
          15.4,
          6.69,
          7.57,
          3.09,
          8.8,
          1.58,
          6.14,
          4.78,
          4,
          1.374,
          1.308,
          0.388,
          0.692,
          1.039,
          1.321,
          0.326
         ],
         "y": [
          1.1433756805807622,
          0.27041742286751363,
          0.7658802177858439,
          0.912885662431942,
          1.0163339382940109,
          1.2704174228675136,
          0.6696914700544465,
          0.7114337568058077,
          0.4355716878402904,
          0.5989110707803993,
          1.7422867513611615,
          0.9909255898366607,
          0.5753176043557169,
          1.4591651542649726,
          1.1016333938294012,
          1.2105263157894737,
          1.0725952813067152,
          0.5499092558983666,
          0.31578947368421056,
          1.3157894736842106,
          1.3774954627949183,
          0.6243194192377496,
          0.41379310344827586,
          1.0344827586206897,
          0.48638838475499097,
          0.5952813067150635,
          0.617059891107078,
          0.984573502722323,
          0.9885662431941924,
          0.7901996370235935,
          0.8865698729582577,
          0.9090744101633395,
          0.9150635208711434,
          0.7526315789473685
         ]
        }
       ],
       "layout": {
        "height": 700,
        "hoverlabel": {
         "bgcolor": "white",
         "font": {
          "family": "Rockwell",
          "size": 16
         }
        },
        "template": {
         "data": {
          "bar": [
           {
            "error_x": {
             "color": "#2a3f5f"
            },
            "error_y": {
             "color": "#2a3f5f"
            },
            "marker": {
             "line": {
              "color": "#E5ECF6",
              "width": 0.5
             },
             "pattern": {
              "fillmode": "overlay",
              "size": 10,
              "solidity": 0.2
             }
            },
            "type": "bar"
           }
          ],
          "barpolar": [
           {
            "marker": {
             "line": {
              "color": "#E5ECF6",
              "width": 0.5
             },
             "pattern": {
              "fillmode": "overlay",
              "size": 10,
              "solidity": 0.2
             }
            },
            "type": "barpolar"
           }
          ],
          "carpet": [
           {
            "aaxis": {
             "endlinecolor": "#2a3f5f",
             "gridcolor": "white",
             "linecolor": "white",
             "minorgridcolor": "white",
             "startlinecolor": "#2a3f5f"
            },
            "baxis": {
             "endlinecolor": "#2a3f5f",
             "gridcolor": "white",
             "linecolor": "white",
             "minorgridcolor": "white",
             "startlinecolor": "#2a3f5f"
            },
            "type": "carpet"
           }
          ],
          "choropleth": [
           {
            "colorbar": {
             "outlinewidth": 0,
             "ticks": ""
            },
            "type": "choropleth"
           }
          ],
          "contour": [
           {
            "colorbar": {
             "outlinewidth": 0,
             "ticks": ""
            },
            "colorscale": [
             [
              0,
              "#0d0887"
             ],
             [
              0.1111111111111111,
              "#46039f"
             ],
             [
              0.2222222222222222,
              "#7201a8"
             ],
             [
              0.3333333333333333,
              "#9c179e"
             ],
             [
              0.4444444444444444,
              "#bd3786"
             ],
             [
              0.5555555555555556,
              "#d8576b"
             ],
             [
              0.6666666666666666,
              "#ed7953"
             ],
             [
              0.7777777777777778,
              "#fb9f3a"
             ],
             [
              0.8888888888888888,
              "#fdca26"
             ],
             [
              1,
              "#f0f921"
             ]
            ],
            "type": "contour"
           }
          ],
          "contourcarpet": [
           {
            "colorbar": {
             "outlinewidth": 0,
             "ticks": ""
            },
            "type": "contourcarpet"
           }
          ],
          "heatmap": [
           {
            "colorbar": {
             "outlinewidth": 0,
             "ticks": ""
            },
            "colorscale": [
             [
              0,
              "#0d0887"
             ],
             [
              0.1111111111111111,
              "#46039f"
             ],
             [
              0.2222222222222222,
              "#7201a8"
             ],
             [
              0.3333333333333333,
              "#9c179e"
             ],
             [
              0.4444444444444444,
              "#bd3786"
             ],
             [
              0.5555555555555556,
              "#d8576b"
             ],
             [
              0.6666666666666666,
              "#ed7953"
             ],
             [
              0.7777777777777778,
              "#fb9f3a"
             ],
             [
              0.8888888888888888,
              "#fdca26"
             ],
             [
              1,
              "#f0f921"
             ]
            ],
            "type": "heatmap"
           }
          ],
          "heatmapgl": [
           {
            "colorbar": {
             "outlinewidth": 0,
             "ticks": ""
            },
            "colorscale": [
             [
              0,
              "#0d0887"
             ],
             [
              0.1111111111111111,
              "#46039f"
             ],
             [
              0.2222222222222222,
              "#7201a8"
             ],
             [
              0.3333333333333333,
              "#9c179e"
             ],
             [
              0.4444444444444444,
              "#bd3786"
             ],
             [
              0.5555555555555556,
              "#d8576b"
             ],
             [
              0.6666666666666666,
              "#ed7953"
             ],
             [
              0.7777777777777778,
              "#fb9f3a"
             ],
             [
              0.8888888888888888,
              "#fdca26"
             ],
             [
              1,
              "#f0f921"
             ]
            ],
            "type": "heatmapgl"
           }
          ],
          "histogram": [
           {
            "marker": {
             "pattern": {
              "fillmode": "overlay",
              "size": 10,
              "solidity": 0.2
             }
            },
            "type": "histogram"
           }
          ],
          "histogram2d": [
           {
            "colorbar": {
             "outlinewidth": 0,
             "ticks": ""
            },
            "colorscale": [
             [
              0,
              "#0d0887"
             ],
             [
              0.1111111111111111,
              "#46039f"
             ],
             [
              0.2222222222222222,
              "#7201a8"
             ],
             [
              0.3333333333333333,
              "#9c179e"
             ],
             [
              0.4444444444444444,
              "#bd3786"
             ],
             [
              0.5555555555555556,
              "#d8576b"
             ],
             [
              0.6666666666666666,
              "#ed7953"
             ],
             [
              0.7777777777777778,
              "#fb9f3a"
             ],
             [
              0.8888888888888888,
              "#fdca26"
             ],
             [
              1,
              "#f0f921"
             ]
            ],
            "type": "histogram2d"
           }
          ],
          "histogram2dcontour": [
           {
            "colorbar": {
             "outlinewidth": 0,
             "ticks": ""
            },
            "colorscale": [
             [
              0,
              "#0d0887"
             ],
             [
              0.1111111111111111,
              "#46039f"
             ],
             [
              0.2222222222222222,
              "#7201a8"
             ],
             [
              0.3333333333333333,
              "#9c179e"
             ],
             [
              0.4444444444444444,
              "#bd3786"
             ],
             [
              0.5555555555555556,
              "#d8576b"
             ],
             [
              0.6666666666666666,
              "#ed7953"
             ],
             [
              0.7777777777777778,
              "#fb9f3a"
             ],
             [
              0.8888888888888888,
              "#fdca26"
             ],
             [
              1,
              "#f0f921"
             ]
            ],
            "type": "histogram2dcontour"
           }
          ],
          "mesh3d": [
           {
            "colorbar": {
             "outlinewidth": 0,
             "ticks": ""
            },
            "type": "mesh3d"
           }
          ],
          "parcoords": [
           {
            "line": {
             "colorbar": {
              "outlinewidth": 0,
              "ticks": ""
             }
            },
            "type": "parcoords"
           }
          ],
          "pie": [
           {
            "automargin": true,
            "type": "pie"
           }
          ],
          "scatter": [
           {
            "fillpattern": {
             "fillmode": "overlay",
             "size": 10,
             "solidity": 0.2
            },
            "type": "scatter"
           }
          ],
          "scatter3d": [
           {
            "line": {
             "colorbar": {
              "outlinewidth": 0,
              "ticks": ""
             }
            },
            "marker": {
             "colorbar": {
              "outlinewidth": 0,
              "ticks": ""
             }
            },
            "type": "scatter3d"
           }
          ],
          "scattercarpet": [
           {
            "marker": {
             "colorbar": {
              "outlinewidth": 0,
              "ticks": ""
             }
            },
            "type": "scattercarpet"
           }
          ],
          "scattergeo": [
           {
            "marker": {
             "colorbar": {
              "outlinewidth": 0,
              "ticks": ""
             }
            },
            "type": "scattergeo"
           }
          ],
          "scattergl": [
           {
            "marker": {
             "colorbar": {
              "outlinewidth": 0,
              "ticks": ""
             }
            },
            "type": "scattergl"
           }
          ],
          "scattermapbox": [
           {
            "marker": {
             "colorbar": {
              "outlinewidth": 0,
              "ticks": ""
             }
            },
            "type": "scattermapbox"
           }
          ],
          "scatterpolar": [
           {
            "marker": {
             "colorbar": {
              "outlinewidth": 0,
              "ticks": ""
             }
            },
            "type": "scatterpolar"
           }
          ],
          "scatterpolargl": [
           {
            "marker": {
             "colorbar": {
              "outlinewidth": 0,
              "ticks": ""
             }
            },
            "type": "scatterpolargl"
           }
          ],
          "scatterternary": [
           {
            "marker": {
             "colorbar": {
              "outlinewidth": 0,
              "ticks": ""
             }
            },
            "type": "scatterternary"
           }
          ],
          "surface": [
           {
            "colorbar": {
             "outlinewidth": 0,
             "ticks": ""
            },
            "colorscale": [
             [
              0,
              "#0d0887"
             ],
             [
              0.1111111111111111,
              "#46039f"
             ],
             [
              0.2222222222222222,
              "#7201a8"
             ],
             [
              0.3333333333333333,
              "#9c179e"
             ],
             [
              0.4444444444444444,
              "#bd3786"
             ],
             [
              0.5555555555555556,
              "#d8576b"
             ],
             [
              0.6666666666666666,
              "#ed7953"
             ],
             [
              0.7777777777777778,
              "#fb9f3a"
             ],
             [
              0.8888888888888888,
              "#fdca26"
             ],
             [
              1,
              "#f0f921"
             ]
            ],
            "type": "surface"
           }
          ],
          "table": [
           {
            "cells": {
             "fill": {
              "color": "#EBF0F8"
             },
             "line": {
              "color": "white"
             }
            },
            "header": {
             "fill": {
              "color": "#C8D4E3"
             },
             "line": {
              "color": "white"
             }
            },
            "type": "table"
           }
          ]
         },
         "layout": {
          "annotationdefaults": {
           "arrowcolor": "#2a3f5f",
           "arrowhead": 0,
           "arrowwidth": 1
          },
          "autotypenumbers": "strict",
          "coloraxis": {
           "colorbar": {
            "outlinewidth": 0,
            "ticks": ""
           }
          },
          "colorscale": {
           "diverging": [
            [
             0,
             "#8e0152"
            ],
            [
             0.1,
             "#c51b7d"
            ],
            [
             0.2,
             "#de77ae"
            ],
            [
             0.3,
             "#f1b6da"
            ],
            [
             0.4,
             "#fde0ef"
            ],
            [
             0.5,
             "#f7f7f7"
            ],
            [
             0.6,
             "#e6f5d0"
            ],
            [
             0.7,
             "#b8e186"
            ],
            [
             0.8,
             "#7fbc41"
            ],
            [
             0.9,
             "#4d9221"
            ],
            [
             1,
             "#276419"
            ]
           ],
           "sequential": [
            [
             0,
             "#0d0887"
            ],
            [
             0.1111111111111111,
             "#46039f"
            ],
            [
             0.2222222222222222,
             "#7201a8"
            ],
            [
             0.3333333333333333,
             "#9c179e"
            ],
            [
             0.4444444444444444,
             "#bd3786"
            ],
            [
             0.5555555555555556,
             "#d8576b"
            ],
            [
             0.6666666666666666,
             "#ed7953"
            ],
            [
             0.7777777777777778,
             "#fb9f3a"
            ],
            [
             0.8888888888888888,
             "#fdca26"
            ],
            [
             1,
             "#f0f921"
            ]
           ],
           "sequentialminus": [
            [
             0,
             "#0d0887"
            ],
            [
             0.1111111111111111,
             "#46039f"
            ],
            [
             0.2222222222222222,
             "#7201a8"
            ],
            [
             0.3333333333333333,
             "#9c179e"
            ],
            [
             0.4444444444444444,
             "#bd3786"
            ],
            [
             0.5555555555555556,
             "#d8576b"
            ],
            [
             0.6666666666666666,
             "#ed7953"
            ],
            [
             0.7777777777777778,
             "#fb9f3a"
            ],
            [
             0.8888888888888888,
             "#fdca26"
            ],
            [
             1,
             "#f0f921"
            ]
           ]
          },
          "colorway": [
           "#636efa",
           "#EF553B",
           "#00cc96",
           "#ab63fa",
           "#FFA15A",
           "#19d3f3",
           "#FF6692",
           "#B6E880",
           "#FF97FF",
           "#FECB52"
          ],
          "font": {
           "color": "#2a3f5f"
          },
          "geo": {
           "bgcolor": "white",
           "lakecolor": "white",
           "landcolor": "#E5ECF6",
           "showlakes": true,
           "showland": true,
           "subunitcolor": "white"
          },
          "hoverlabel": {
           "align": "left"
          },
          "hovermode": "closest",
          "mapbox": {
           "style": "light"
          },
          "paper_bgcolor": "white",
          "plot_bgcolor": "#E5ECF6",
          "polar": {
           "angularaxis": {
            "gridcolor": "white",
            "linecolor": "white",
            "ticks": ""
           },
           "bgcolor": "#E5ECF6",
           "radialaxis": {
            "gridcolor": "white",
            "linecolor": "white",
            "ticks": ""
           }
          },
          "scene": {
           "xaxis": {
            "backgroundcolor": "#E5ECF6",
            "gridcolor": "white",
            "gridwidth": 2,
            "linecolor": "white",
            "showbackground": true,
            "ticks": "",
            "zerolinecolor": "white"
           },
           "yaxis": {
            "backgroundcolor": "#E5ECF6",
            "gridcolor": "white",
            "gridwidth": 2,
            "linecolor": "white",
            "showbackground": true,
            "ticks": "",
            "zerolinecolor": "white"
           },
           "zaxis": {
            "backgroundcolor": "#E5ECF6",
            "gridcolor": "white",
            "gridwidth": 2,
            "linecolor": "white",
            "showbackground": true,
            "ticks": "",
            "zerolinecolor": "white"
           }
          },
          "shapedefaults": {
           "line": {
            "color": "#2a3f5f"
           }
          },
          "ternary": {
           "aaxis": {
            "gridcolor": "white",
            "linecolor": "white",
            "ticks": ""
           },
           "baxis": {
            "gridcolor": "white",
            "linecolor": "white",
            "ticks": ""
           },
           "bgcolor": "#E5ECF6",
           "caxis": {
            "gridcolor": "white",
            "linecolor": "white",
            "ticks": ""
           }
          },
          "title": {
           "x": 0.05
          },
          "xaxis": {
           "automargin": true,
           "gridcolor": "white",
           "linecolor": "white",
           "ticks": "",
           "title": {
            "standoff": 15
           },
           "zerolinecolor": "white",
           "zerolinewidth": 2
          },
          "yaxis": {
           "automargin": true,
           "gridcolor": "white",
           "linecolor": "white",
           "ticks": "",
           "title": {
            "standoff": 15
           },
           "zerolinecolor": "white",
           "zerolinewidth": 2
          }
         }
        },
        "title": {
         "text": "LIV34 Planets"
        },
        "width": 1000,
        "xaxis": {
         "dtick": 1,
         "ticktext": [
          "0.3",
          "0.5",
          "1",
          "2",
          "5",
          "10",
          "20",
          "30"
         ],
         "tickvals": [
          0.3,
          0.5,
          1,
          2,
          5,
          10,
          20,
          30
         ],
         "title": {
          "text": "$Mass\\ [M_{\\oplus}]$"
         },
         "type": "log"
        },
        "yaxis": {
         "title": {
          "text": "$Bulk\\ Density\\ [ρ_{b}/ρ_{Earth}]$"
         }
        }
       }
      },
      "text/html": [
       "<div>                            <div id=\"eaa1bd57-79e6-4756-8b28-9d001f12ecae\" class=\"plotly-graph-div\" style=\"height:700px; width:1000px;\"></div>            <script type=\"text/javascript\">                require([\"plotly\"], function(Plotly) {                    window.PLOTLYENV=window.PLOTLYENV || {};                                    if (document.getElementById(\"eaa1bd57-79e6-4756-8b28-9d001f12ecae\")) {                    Plotly.newPlot(                        \"eaa1bd57-79e6-4756-8b28-9d001f12ecae\",                        [{\"error_x\":{\"array\":[0.23,0.86,0.28,0.3,0.31,0.12,0.18,0.24,1.35,5.2,0.56,0.34,0.45,0.44,0.16,0.2,0.24,0.67,3.3,0.69,0.72,0.58,1.4,0.26,0.38,0.46,0.9,0.069,0.056,0.012,0.022,0.031,0.038,0.02],\"arrayminus\":[0.23,0.86,0.28,0.3,0.31,0.11,0.18,0.24,1.35,5.7,0.56,0.35,0.46,0.46,0.17,0.2,0.24,0.69,3.3,0.67,0.71,0.59,1.4,0.26,0.38,0.46,0.9,0.069,0.056,0.012,0.022,0.031,0.038,0.02],\"type\":\"data\",\"visible\":true},\"error_y\":{\"array\":[0.23593466424682397,0.059891107078039935,0.19963702359346644,0.16878402903811254,0.23593466424682397,0.18148820326678766,0.038112522686025406,0.049001814882032674,0.07259528130671507,0.14519056261343014,0.3266787658802178,0.19056261343012706,0.132486388384755,0.14519056261343014,0.13430127041742287,0.16152450090744103,0.16152450090744103,0.09800362976406535,0.07622504537205081,0.19963702359346644,0.20689655172413793,0.13430127041742287,0.07622504537205081,0.2177858439201452,0.0544464609800363,0.08166969147005446,0.1633393829401089,0.049364791288566245,0.0426497277676951,0.029582577132486392,0.033030852994555354,0.028675136116152453,0.028675136116152453,0.054809437386569876],\"arrayminus\":[0.23593466424682397,0.07622504537205081,0.24319419237749548,0.1941923774954628,0.308529945553539,0.2177858439201452,0.038112522686025406,0.049001814882032674,0.07259528130671507,0.14519056261343014,0.4355716878402904,0.22323049001814882,0.1542649727767695,0.15245009074410162,0.14700544464609802,0.1869328493647913,0.1960072595281307,0.11978221415607987,0.0852994555353902,0.23593466424682397,0.2413793103448276,0.1560798548094374,0.08711433756805807,0.2177858439201452,0.0544464609800363,0.08166969147005446,0.19963702359346644,0.04809437386569873,0.040290381125226864,0.028312159709618877,0.030490018148820328,0.0250453720508167,0.024682395644283123,0.05843920145190563],\"type\":\"data\",\"visible\":true},\"marker\":{\"color\":[529.0,576.0,1089.0,773.0,525.0,701.0,590.0,520.0,284.0,494.0,965.0,517.0,409.0,378.9,708.9,595.0,1000.0,397.0,329.0,775.0,921.0,1069.0,531.0,581.0,488.0,387.0,514.0,400.1,341.9,288.0,251.3,219.0,198.6,168.0],\"colorscale\":[[0.0,\"#000004\"],[0.1111111111111111,\"#1b0c41\"],[0.2222222222222222,\"#4a0c6b\"],[0.3333333333333333,\"#781c6d\"],[0.4444444444444444,\"#a52c60\"],[0.5555555555555556,\"#cf4446\"],[0.6666666666666666,\"#ed6925\"],[0.7777777777777778,\"#fb9b06\"],[0.8888888888888888,\"#f7d13d\"],[1.0,\"#fcffa4\"]],\"size\":10},\"mode\":\"markers\",\"name\":\"Data\",\"text\":[\"Planet name: GJ 1132 b<br>Mass: 1.66 +0.23 -0.23<br>Density: 1.14 +0.24 -0.24\",\"Planet name: GJ 1214 b<br>Mass: 6.26 +0.86 -0.86<br>Density: 0.27 +0.08 -0.06\",\"Planet name: GJ 1252 b<br>Mass: 1.32 +0.28 -0.28<br>Density: 0.77 +0.24 -0.2\",\"Planet name: GJ 3473 b<br>Mass: 1.86 +0.3 -0.3<br>Density: 0.91 +0.19 -0.17\",\"Planet name: GJ 357 b<br>Mass: 1.84 +0.31 -0.31<br>Density: 1.02 +0.31 -0.24\",\"Planet name: GJ 486 b<br>Mass: 2.82 +0.11 -0.12<br>Density: 1.27 +0.22 -0.18\",\"Planet name: K2-146 b<br>Mass: 5.77 +0.18 -0.18<br>Density: 0.67 +0.04 -0.04\",\"Planet name: K2-146 c<br>Mass: 7.49 +0.24 -0.24<br>Density: 0.71 +0.05 -0.05\",\"Planet name: K2-18 b<br>Mass: 8.64 +1.35 -1.35<br>Density: 0.44 +0.07 -0.07\",\"Planet name: K2-25 b<br>Mass: 24.5 +5.7 -5.2<br>Density: 0.6 +0.15 -0.15\",\"Planet name: L 168-9 b<br>Mass: 4.6 +0.56 -0.56<br>Density: 1.74 +0.44 -0.33\",\"Planet name: L 98-59 c<br>Mass: 2.42 +0.35 -0.34<br>Density: 0.99 +0.22 -0.19\",\"Planet name: L 98-59 d<br>Mass: 2.31 +0.46 -0.45<br>Density: 0.58 +0.15 -0.13\",\"Planet name: LHS 1140 b<br>Mass: 6.38 +0.46 -0.44<br>Density: 1.46 +0.15 -0.15\",\"Planet name: LHS 1140 c<br>Mass: 1.76 +0.17 -0.16<br>Density: 1.1 +0.15 -0.13\",\"Planet name: LHS 1478 b<br>Mass: 2.33 +0.2 -0.2<br>Density: 1.21 +0.19 -0.16\",\"Planet name: LTT 3780 b<br>Mass: 2.47 +0.24 -0.24<br>Density: 1.07 +0.2 -0.16\",\"Planet name: LTT 3780 c<br>Mass: 7.02 +0.69 -0.67<br>Density: 0.55 +0.12 -0.1\",\"Planet name: TOI-1231 b<br>Mass: 15.4 +3.3 -3.3<br>Density: 0.32 +0.09 -0.08\",\"Planet name: TOI-1235 b<br>Mass: 6.69 +0.67 -0.69<br>Density: 1.32 +0.24 -0.2\",\"Planet name: TOI-1634 b<br>Mass: 7.57 +0.71 -0.72<br>Density: 1.38 +0.24 -0.21\",\"Planet name: TOI-1685 b<br>Mass: 3.09 +0.59 -0.58<br>Density: 0.62 +0.16 -0.13\",\"Planet name: TOI-269 b<br>Mass: 8.8 +1.4 -1.4<br>Density: 0.41 +0.09 -0.08\",\"Planet name: TOI-270 b<br>Mass: 1.58 +0.26 -0.26<br>Density: 1.03 +0.22 -0.22\",\"Planet name: TOI-270 c<br>Mass: 6.14 +0.38 -0.38<br>Density: 0.49 +0.05 -0.05\",\"Planet name: TOI-270 d<br>Mass: 4.78 +0.46 -0.46<br>Density: 0.6 +0.08 -0.08\",\"Planet name: TOI-776 b<br>Mass: 4.0 +0.9 -0.9<br>Density: 0.62 +0.2 -0.16\",\"Planet name: TRAPPIST-1 b<br>Mass: 1.374 +0.07 -0.07<br>Density: 0.98 +0.05 -0.05\",\"Planet name: TRAPPIST-1 c<br>Mass: 1.308 +0.06 -0.06<br>Density: 0.99 +0.04 -0.04\",\"Planet name: TRAPPIST-1 d<br>Mass: 0.388 +0.01 -0.01<br>Density: 0.79 +0.03 -0.03\",\"Planet name: TRAPPIST-1 e<br>Mass: 0.692 +0.02 -0.02<br>Density: 0.89 +0.03 -0.03\",\"Planet name: TRAPPIST-1 f<br>Mass: 1.039 +0.03 -0.03<br>Density: 0.91 +0.03 -0.03\",\"Planet name: TRAPPIST-1 g<br>Mass: 1.321 +0.04 -0.04<br>Density: 0.92 +0.02 -0.03\",\"Planet name: TRAPPIST-1 h<br>Mass: 0.326 +0.02 -0.02<br>Density: 0.75 +0.06 -0.05\"],\"x\":[1.66,6.26,1.32,1.86,1.84,2.82,5.77,7.49,8.64,24.5,4.6,2.42,2.31,6.38,1.76,2.33,2.47,7.02,15.4,6.69,7.57,3.09,8.8,1.58,6.14,4.78,4.0,1.374,1.308,0.388,0.692,1.039,1.321,0.326],\"y\":[1.1433756805807622,0.27041742286751363,0.7658802177858439,0.912885662431942,1.0163339382940109,1.2704174228675136,0.6696914700544465,0.7114337568058077,0.4355716878402904,0.5989110707803993,1.7422867513611615,0.9909255898366607,0.5753176043557169,1.4591651542649726,1.1016333938294012,1.2105263157894737,1.0725952813067152,0.5499092558983666,0.31578947368421056,1.3157894736842106,1.3774954627949183,0.6243194192377496,0.41379310344827586,1.0344827586206897,0.48638838475499097,0.5952813067150635,0.617059891107078,0.984573502722323,0.9885662431941924,0.7901996370235935,0.8865698729582577,0.9090744101633395,0.9150635208711434,0.7526315789473685],\"type\":\"scatter\"}],                        {\"template\":{\"data\":{\"histogram2dcontour\":[{\"type\":\"histogram2dcontour\",\"colorbar\":{\"outlinewidth\":0,\"ticks\":\"\"},\"colorscale\":[[0.0,\"#0d0887\"],[0.1111111111111111,\"#46039f\"],[0.2222222222222222,\"#7201a8\"],[0.3333333333333333,\"#9c179e\"],[0.4444444444444444,\"#bd3786\"],[0.5555555555555556,\"#d8576b\"],[0.6666666666666666,\"#ed7953\"],[0.7777777777777778,\"#fb9f3a\"],[0.8888888888888888,\"#fdca26\"],[1.0,\"#f0f921\"]]}],\"choropleth\":[{\"type\":\"choropleth\",\"colorbar\":{\"outlinewidth\":0,\"ticks\":\"\"}}],\"histogram2d\":[{\"type\":\"histogram2d\",\"colorbar\":{\"outlinewidth\":0,\"ticks\":\"\"},\"colorscale\":[[0.0,\"#0d0887\"],[0.1111111111111111,\"#46039f\"],[0.2222222222222222,\"#7201a8\"],[0.3333333333333333,\"#9c179e\"],[0.4444444444444444,\"#bd3786\"],[0.5555555555555556,\"#d8576b\"],[0.6666666666666666,\"#ed7953\"],[0.7777777777777778,\"#fb9f3a\"],[0.8888888888888888,\"#fdca26\"],[1.0,\"#f0f921\"]]}],\"heatmap\":[{\"type\":\"heatmap\",\"colorbar\":{\"outlinewidth\":0,\"ticks\":\"\"},\"colorscale\":[[0.0,\"#0d0887\"],[0.1111111111111111,\"#46039f\"],[0.2222222222222222,\"#7201a8\"],[0.3333333333333333,\"#9c179e\"],[0.4444444444444444,\"#bd3786\"],[0.5555555555555556,\"#d8576b\"],[0.6666666666666666,\"#ed7953\"],[0.7777777777777778,\"#fb9f3a\"],[0.8888888888888888,\"#fdca26\"],[1.0,\"#f0f921\"]]}],\"heatmapgl\":[{\"type\":\"heatmapgl\",\"colorbar\":{\"outlinewidth\":0,\"ticks\":\"\"},\"colorscale\":[[0.0,\"#0d0887\"],[0.1111111111111111,\"#46039f\"],[0.2222222222222222,\"#7201a8\"],[0.3333333333333333,\"#9c179e\"],[0.4444444444444444,\"#bd3786\"],[0.5555555555555556,\"#d8576b\"],[0.6666666666666666,\"#ed7953\"],[0.7777777777777778,\"#fb9f3a\"],[0.8888888888888888,\"#fdca26\"],[1.0,\"#f0f921\"]]}],\"contourcarpet\":[{\"type\":\"contourcarpet\",\"colorbar\":{\"outlinewidth\":0,\"ticks\":\"\"}}],\"contour\":[{\"type\":\"contour\",\"colorbar\":{\"outlinewidth\":0,\"ticks\":\"\"},\"colorscale\":[[0.0,\"#0d0887\"],[0.1111111111111111,\"#46039f\"],[0.2222222222222222,\"#7201a8\"],[0.3333333333333333,\"#9c179e\"],[0.4444444444444444,\"#bd3786\"],[0.5555555555555556,\"#d8576b\"],[0.6666666666666666,\"#ed7953\"],[0.7777777777777778,\"#fb9f3a\"],[0.8888888888888888,\"#fdca26\"],[1.0,\"#f0f921\"]]}],\"surface\":[{\"type\":\"surface\",\"colorbar\":{\"outlinewidth\":0,\"ticks\":\"\"},\"colorscale\":[[0.0,\"#0d0887\"],[0.1111111111111111,\"#46039f\"],[0.2222222222222222,\"#7201a8\"],[0.3333333333333333,\"#9c179e\"],[0.4444444444444444,\"#bd3786\"],[0.5555555555555556,\"#d8576b\"],[0.6666666666666666,\"#ed7953\"],[0.7777777777777778,\"#fb9f3a\"],[0.8888888888888888,\"#fdca26\"],[1.0,\"#f0f921\"]]}],\"mesh3d\":[{\"type\":\"mesh3d\",\"colorbar\":{\"outlinewidth\":0,\"ticks\":\"\"}}],\"scatter\":[{\"fillpattern\":{\"fillmode\":\"overlay\",\"size\":10,\"solidity\":0.2},\"type\":\"scatter\"}],\"parcoords\":[{\"type\":\"parcoords\",\"line\":{\"colorbar\":{\"outlinewidth\":0,\"ticks\":\"\"}}}],\"scatterpolargl\":[{\"type\":\"scatterpolargl\",\"marker\":{\"colorbar\":{\"outlinewidth\":0,\"ticks\":\"\"}}}],\"bar\":[{\"error_x\":{\"color\":\"#2a3f5f\"},\"error_y\":{\"color\":\"#2a3f5f\"},\"marker\":{\"line\":{\"color\":\"#E5ECF6\",\"width\":0.5},\"pattern\":{\"fillmode\":\"overlay\",\"size\":10,\"solidity\":0.2}},\"type\":\"bar\"}],\"scattergeo\":[{\"type\":\"scattergeo\",\"marker\":{\"colorbar\":{\"outlinewidth\":0,\"ticks\":\"\"}}}],\"scatterpolar\":[{\"type\":\"scatterpolar\",\"marker\":{\"colorbar\":{\"outlinewidth\":0,\"ticks\":\"\"}}}],\"histogram\":[{\"marker\":{\"pattern\":{\"fillmode\":\"overlay\",\"size\":10,\"solidity\":0.2}},\"type\":\"histogram\"}],\"scattergl\":[{\"type\":\"scattergl\",\"marker\":{\"colorbar\":{\"outlinewidth\":0,\"ticks\":\"\"}}}],\"scatter3d\":[{\"type\":\"scatter3d\",\"line\":{\"colorbar\":{\"outlinewidth\":0,\"ticks\":\"\"}},\"marker\":{\"colorbar\":{\"outlinewidth\":0,\"ticks\":\"\"}}}],\"scattermapbox\":[{\"type\":\"scattermapbox\",\"marker\":{\"colorbar\":{\"outlinewidth\":0,\"ticks\":\"\"}}}],\"scatterternary\":[{\"type\":\"scatterternary\",\"marker\":{\"colorbar\":{\"outlinewidth\":0,\"ticks\":\"\"}}}],\"scattercarpet\":[{\"type\":\"scattercarpet\",\"marker\":{\"colorbar\":{\"outlinewidth\":0,\"ticks\":\"\"}}}],\"carpet\":[{\"aaxis\":{\"endlinecolor\":\"#2a3f5f\",\"gridcolor\":\"white\",\"linecolor\":\"white\",\"minorgridcolor\":\"white\",\"startlinecolor\":\"#2a3f5f\"},\"baxis\":{\"endlinecolor\":\"#2a3f5f\",\"gridcolor\":\"white\",\"linecolor\":\"white\",\"minorgridcolor\":\"white\",\"startlinecolor\":\"#2a3f5f\"},\"type\":\"carpet\"}],\"table\":[{\"cells\":{\"fill\":{\"color\":\"#EBF0F8\"},\"line\":{\"color\":\"white\"}},\"header\":{\"fill\":{\"color\":\"#C8D4E3\"},\"line\":{\"color\":\"white\"}},\"type\":\"table\"}],\"barpolar\":[{\"marker\":{\"line\":{\"color\":\"#E5ECF6\",\"width\":0.5},\"pattern\":{\"fillmode\":\"overlay\",\"size\":10,\"solidity\":0.2}},\"type\":\"barpolar\"}],\"pie\":[{\"automargin\":true,\"type\":\"pie\"}]},\"layout\":{\"autotypenumbers\":\"strict\",\"colorway\":[\"#636efa\",\"#EF553B\",\"#00cc96\",\"#ab63fa\",\"#FFA15A\",\"#19d3f3\",\"#FF6692\",\"#B6E880\",\"#FF97FF\",\"#FECB52\"],\"font\":{\"color\":\"#2a3f5f\"},\"hovermode\":\"closest\",\"hoverlabel\":{\"align\":\"left\"},\"paper_bgcolor\":\"white\",\"plot_bgcolor\":\"#E5ECF6\",\"polar\":{\"bgcolor\":\"#E5ECF6\",\"angularaxis\":{\"gridcolor\":\"white\",\"linecolor\":\"white\",\"ticks\":\"\"},\"radialaxis\":{\"gridcolor\":\"white\",\"linecolor\":\"white\",\"ticks\":\"\"}},\"ternary\":{\"bgcolor\":\"#E5ECF6\",\"aaxis\":{\"gridcolor\":\"white\",\"linecolor\":\"white\",\"ticks\":\"\"},\"baxis\":{\"gridcolor\":\"white\",\"linecolor\":\"white\",\"ticks\":\"\"},\"caxis\":{\"gridcolor\":\"white\",\"linecolor\":\"white\",\"ticks\":\"\"}},\"coloraxis\":{\"colorbar\":{\"outlinewidth\":0,\"ticks\":\"\"}},\"colorscale\":{\"sequential\":[[0.0,\"#0d0887\"],[0.1111111111111111,\"#46039f\"],[0.2222222222222222,\"#7201a8\"],[0.3333333333333333,\"#9c179e\"],[0.4444444444444444,\"#bd3786\"],[0.5555555555555556,\"#d8576b\"],[0.6666666666666666,\"#ed7953\"],[0.7777777777777778,\"#fb9f3a\"],[0.8888888888888888,\"#fdca26\"],[1.0,\"#f0f921\"]],\"sequentialminus\":[[0.0,\"#0d0887\"],[0.1111111111111111,\"#46039f\"],[0.2222222222222222,\"#7201a8\"],[0.3333333333333333,\"#9c179e\"],[0.4444444444444444,\"#bd3786\"],[0.5555555555555556,\"#d8576b\"],[0.6666666666666666,\"#ed7953\"],[0.7777777777777778,\"#fb9f3a\"],[0.8888888888888888,\"#fdca26\"],[1.0,\"#f0f921\"]],\"diverging\":[[0,\"#8e0152\"],[0.1,\"#c51b7d\"],[0.2,\"#de77ae\"],[0.3,\"#f1b6da\"],[0.4,\"#fde0ef\"],[0.5,\"#f7f7f7\"],[0.6,\"#e6f5d0\"],[0.7,\"#b8e186\"],[0.8,\"#7fbc41\"],[0.9,\"#4d9221\"],[1,\"#276419\"]]},\"xaxis\":{\"gridcolor\":\"white\",\"linecolor\":\"white\",\"ticks\":\"\",\"title\":{\"standoff\":15},\"zerolinecolor\":\"white\",\"automargin\":true,\"zerolinewidth\":2},\"yaxis\":{\"gridcolor\":\"white\",\"linecolor\":\"white\",\"ticks\":\"\",\"title\":{\"standoff\":15},\"zerolinecolor\":\"white\",\"automargin\":true,\"zerolinewidth\":2},\"scene\":{\"xaxis\":{\"backgroundcolor\":\"#E5ECF6\",\"gridcolor\":\"white\",\"linecolor\":\"white\",\"showbackground\":true,\"ticks\":\"\",\"zerolinecolor\":\"white\",\"gridwidth\":2},\"yaxis\":{\"backgroundcolor\":\"#E5ECF6\",\"gridcolor\":\"white\",\"linecolor\":\"white\",\"showbackground\":true,\"ticks\":\"\",\"zerolinecolor\":\"white\",\"gridwidth\":2},\"zaxis\":{\"backgroundcolor\":\"#E5ECF6\",\"gridcolor\":\"white\",\"linecolor\":\"white\",\"showbackground\":true,\"ticks\":\"\",\"zerolinecolor\":\"white\",\"gridwidth\":2}},\"shapedefaults\":{\"line\":{\"color\":\"#2a3f5f\"}},\"annotationdefaults\":{\"arrowcolor\":\"#2a3f5f\",\"arrowhead\":0,\"arrowwidth\":1},\"geo\":{\"bgcolor\":\"white\",\"landcolor\":\"#E5ECF6\",\"subunitcolor\":\"white\",\"showland\":true,\"showlakes\":true,\"lakecolor\":\"white\"},\"title\":{\"x\":0.05},\"mapbox\":{\"style\":\"light\"}}},\"xaxis\":{\"title\":{\"text\":\"$Mass\\\\ [M_{\\\\oplus}]$\"},\"type\":\"log\",\"tickvals\":[0.3,0.5,1,2,5,10,20,30],\"ticktext\":[\"0.3\",\"0.5\",\"1\",\"2\",\"5\",\"10\",\"20\",\"30\"],\"dtick\":1},\"hoverlabel\":{\"font\":{\"size\":16,\"family\":\"Rockwell\"},\"bgcolor\":\"white\"},\"title\":{\"text\":\"LIV34 Planets\"},\"yaxis\":{\"title\":{\"text\":\"$Bulk\\\\ Density\\\\ [\\u03c1_{b}/\\u03c1_{Earth}]$\"}},\"width\":1000,\"height\":700},                        {\"responsive\": true}                    ).then(function(){\n",
       "                            \n",
       "var gd = document.getElementById('eaa1bd57-79e6-4756-8b28-9d001f12ecae');\n",
       "var x = new MutationObserver(function (mutations, observer) {{\n",
       "        var display = window.getComputedStyle(gd).display;\n",
       "        if (!display || display === 'none') {{\n",
       "            console.log([gd, 'removed!']);\n",
       "            Plotly.purge(gd);\n",
       "            observer.disconnect();\n",
       "        }}\n",
       "}});\n",
       "\n",
       "// Listen for the removal of the full notebook cells\n",
       "var notebookContainer = gd.closest('#notebook-container');\n",
       "if (notebookContainer) {{\n",
       "    x.observe(notebookContainer, {childList: true});\n",
       "}}\n",
       "\n",
       "// Listen for the clearing of the current output cell\n",
       "var outputEl = gd.closest('.output');\n",
       "if (outputEl) {{\n",
       "    x.observe(outputEl, {childList: true});\n",
       "}}\n",
       "\n",
       "                        })                };                });            </script>        </div>"
      ]
     },
     "metadata": {},
     "output_type": "display_data"
    }
   ],
   "source": [
    "import plotly.graph_objects as go\n",
    "index,planet,radius,radius_up,radius_low,density,density_up,density_low,mass,mass_up,mass_low,planet_eq = liv34(planet_name_EA)\n",
    "# Assuming you have error values for x and y coordinates in the format [low_error, up_error]\n",
    "x_err = [np.abs(mass_low),mass_up]\n",
    "y_err = [np.divide(np.abs(density_low),earth_density),np.divide(density_up,earth_density)]\n",
    "\n",
    "# Split the error values into low and high errors for x and y\n",
    "error_x_low = [low_x for low_x, _ in zip(x_err[0], x_err[1])]\n",
    "error_x_up = [up_x for _, up_x in zip(x_err[0], x_err[1])]\n",
    "error_y_low = [low_y for low_y, _ in zip(y_err[0], y_err[1])]\n",
    "error_y_up = [up_y for _, up_y in zip(y_err[0], y_err[1])]\n",
    "\n",
    "\n",
    "# Round errors to 2 decimal places\n",
    "error_x_low_rounded = [round(error, 2) for error in error_x_low]\n",
    "error_x_up_rounded = [round(error, 2) for error in error_x_up]\n",
    "error_y_low_rounded = [round(error, 2) for error in error_y_low]\n",
    "error_y_up_rounded = [round(error, 2) for error in error_y_up]\n",
    "density_rounded = [round(dens, 2) for dens in np.divide(density, earth_density)]\n",
    "\n",
    "EA_planets = filter_planets(planet_name_EA,0.20,0.20,\"M\")\n",
    "_,planet2,radius2,_,_,density2,density_up2,density_low2,mass2,mass_up2,mass_low2,planet_eq2 = make_list(EA_planets)\n",
    "\n",
    "x_err2 = [np.abs(mass_low2), mass_up2]\n",
    "y_err2 = [np.divide(np.abs(density_low2), earth_density), np.divide(density_up2, earth_density)]\n",
    "\n",
    "# Split the error values into low and high errors for x and y\n",
    "error_x_low2 = [low_x for low_x, _ in zip(x_err2[0], x_err2[1])]\n",
    "error_x_up2 = [up_x for _, up_x in zip(x_err2[0], x_err2[1])]\n",
    "error_y_low2 = [low_y for low_y, _ in zip(y_err2[0], y_err2[1])]\n",
    "error_y_up2 = [up_y for _, up_y in zip(y_err2[0], y_err2[1])]\n",
    "\n",
    "# For Data 2\n",
    "error_x_low_rounded2 = [round(error, 2) for error in error_x_low2]\n",
    "error_x_up_rounded2 = [round(error, 2) for error in error_x_up2]\n",
    "error_y_low_rounded2 = [round(error, 2) for error in error_y_low2]\n",
    "error_y_up_rounded2 = [round(error, 2) for error in error_y_up2]\n",
    "density_rounded2 = [round(dens, 2) for dens in density2]\n",
    "\n",
    "# Scatter plot\n",
    "fig.add_trace(\n",
    "    go.Scatter(\n",
    "        x=mass,\n",
    "        y=np.divide(density, earth_density),\n",
    "        mode='markers',\n",
    "        text=hover_text,\n",
    "        marker=dict(size=10, color=planet_eq, colorscale='inferno'),\n",
    "        error_x=dict(type='data', array=error_x_low, arrayminus=error_x_up, visible=True),\n",
    "        error_y=dict(type='data', array=error_y_low, arrayminus=error_y_up, visible=True),\n",
    "        name='Data'\n",
    "    )\n",
    "\n",
    ")\n",
    "fig.update_layout(\n",
    "    title='LIV34 Planets',\n",
    "    xaxis=dict(\n",
    "        title='$Mass\\ [M_{\\oplus}]$',\n",
    "        type='log',  # Log scale the x-axis\n",
    "        tickvals=[0.3,0.5, 1, 2, 5, 10, 20, 30],  # Custom tick positions\n",
    "        ticktext=[\"0.3\",\"0.5\", \"1\", \"2\", \"5\", \"10\", \"20\", \"30\"],  # Custom tick labels\n",
    "        dtick=1  # Spacing between ticks \n",
    "    ),\n",
    "    yaxis=dict(title='$Bulk\\ Density\\ [ρ_{b}/ρ_{Earth}]$'),\n",
    "    hoverlabel=dict(\n",
    "        bgcolor=\"white\",\n",
    "        font_size=16,\n",
    "        font_family=\"Rockwell\"\n",
    "    ),\n",
    "    width=1000,  # Adjust the width of the figure\n",
    "    height=700  # Adjust the height of the figure\n",
    ")\n",
    "fig.show()\n"
   ]
  },
  {
   "cell_type": "code",
   "execution_count": 20,
   "id": "d5f567cb",
   "metadata": {},
   "outputs": [],
   "source": [
    "index,planet,radius,radius_up,radius_low,density,density_up,density_low,mass,mass_up,mass_low,planet_eq = liv34(planet_name_EA)\n",
    "EA_planets = filter_planets(planet_name_EA,0.20,0.20,\"M\")\n",
    "indexs,planets,radiuss,radius_ups,radius_lows,densitys,density_ups,density_lows,masss,mass_ups,mass_lows,planet_eqs = make_lists(EA_planets)\n",
    "mass_err2         = [np.abs(mass_lows),mass_ups]\n",
    "density_err2      = [np.divide(np.abs(density_lows),earth_density),np.divide(density_ups,earth_density)]\n",
    "mass2 = []; mass_low2 = []; mass_up2 = []\n",
    "density2 = []; density_up2 = []; density_low2 = []; \n",
    "radius2= []\n",
    "planets_adding   = []\n",
    "planet_eq2 = []\n",
    "for i in range(0,len(planets)):\n",
    "    if planets[i] not in planet:\n",
    "        planets_adding.append(planets[i])\n",
    "        mass2.append(masss[i])\n",
    "        radius2.append(radiuss[i])\n",
    "        mass_low2.append(mass_lows[i])\n",
    "        mass_up2.append(mass_ups[i])\n",
    "        density2.append(densitys[i])\n",
    "        density_low2.append(density_lows[i])\n",
    "        density_up2.append(density_ups[i])\n",
    "        planet_eq2.append(planet_eqs[i])\n",
    "        \n",
    "\n",
    "density_low2 = np.divide(np.abs(density_low2),earth_density); density_up2 = np.divide(density_up2,earth_density)"
   ]
  },
  {
   "cell_type": "code",
   "execution_count": 29,
   "id": "f3860a7b",
   "metadata": {},
   "outputs": [
    {
     "data": {
      "application/vnd.plotly.v1+json": {
       "config": {
        "plotlyServerURL": "https://plot.ly"
       },
       "data": [
        {
         "error_x": {
          "array": [
           0.23,
           0.86,
           0.28,
           0.3,
           0.31,
           0.12,
           0.18,
           0.24,
           1.35,
           5.2,
           0.56,
           0.34,
           0.45,
           0.44,
           0.16,
           0.2,
           0.24,
           0.67,
           3.3,
           0.69,
           0.72,
           0.58,
           1.4,
           0.26,
           0.38,
           0.46,
           0.9,
           0.07,
           0.06,
           0.01,
           0.02,
           0.03,
           0.04,
           0.02
          ],
          "arrayminus": [
           0.23,
           0.86,
           0.28,
           0.3,
           0.31,
           0.11,
           0.18,
           0.24,
           1.35,
           5.7,
           0.56,
           0.35,
           0.46,
           0.46,
           0.17,
           0.2,
           0.24,
           0.69,
           3.3,
           0.67,
           0.71,
           0.59,
           1.4,
           0.26,
           0.38,
           0.46,
           0.9,
           0.07,
           0.06,
           0.01,
           0.02,
           0.03,
           0.04,
           0.02
          ],
          "type": "data",
          "visible": true
         },
         "error_y": {
          "array": [
           0.24,
           0.06,
           0.2,
           0.17,
           0.24,
           0.18,
           0.04,
           0.05,
           0.07,
           0.15,
           0.33,
           0.19,
           0.13,
           0.15,
           0.13,
           0.16,
           0.16,
           0.1,
           0.08,
           0.2,
           0.21,
           0.13,
           0.08,
           0.22,
           0.05,
           0.08,
           0.16,
           0.05,
           0.04,
           0.03,
           0.03,
           0.03,
           0.03,
           0.05
          ],
          "arrayminus": [
           0.24,
           0.08,
           0.24,
           0.19,
           0.31,
           0.22,
           0.04,
           0.05,
           0.07,
           0.15,
           0.44,
           0.22,
           0.15,
           0.15,
           0.15,
           0.19,
           0.2,
           0.12,
           0.09,
           0.24,
           0.24,
           0.16,
           0.09,
           0.22,
           0.05,
           0.08,
           0.2,
           0.05,
           0.04,
           0.03,
           0.03,
           0.03,
           0.02,
           0.06
          ],
          "type": "data",
          "visible": true
         },
         "marker": {
          "color": [
           529,
           576,
           1089,
           773,
           525,
           701,
           590,
           520,
           284,
           494,
           965,
           517,
           409,
           378.9,
           708.9,
           595,
           1000,
           397,
           329,
           775,
           921,
           1069,
           531,
           581,
           488,
           387,
           514,
           400.1,
           341.9,
           288,
           251.3,
           219,
           198.6,
           168
          ],
          "colorscale": [
           [
            0,
            "#000004"
           ],
           [
            0.1111111111111111,
            "#1b0c41"
           ],
           [
            0.2222222222222222,
            "#4a0c6b"
           ],
           [
            0.3333333333333333,
            "#781c6d"
           ],
           [
            0.4444444444444444,
            "#a52c60"
           ],
           [
            0.5555555555555556,
            "#cf4446"
           ],
           [
            0.6666666666666666,
            "#ed6925"
           ],
           [
            0.7777777777777778,
            "#fb9b06"
           ],
           [
            0.8888888888888888,
            "#f7d13d"
           ],
           [
            1,
            "#fcffa4"
           ]
          ],
          "size": 10
         },
         "mode": "markers",
         "name": "Data 1",
         "text": [
          "Dataset: Mass<br>Planet name: GJ 1132 b<br>Mass: 1.66 +0.23 -0.23<br>Density: 6.3 +0.24 -0.24",
          "Dataset: Mass<br>Planet name: GJ 1214 b<br>Mass: 6.26 +0.86 -0.86<br>Density: 1.49 +0.08 -0.06",
          "Dataset: Mass<br>Planet name: GJ 1252 b<br>Mass: 1.32 +0.28 -0.28<br>Density: 4.22 +0.24 -0.2",
          "Dataset: Mass<br>Planet name: GJ 3473 b<br>Mass: 1.86 +0.3 -0.3<br>Density: 5.03 +0.19 -0.17",
          "Dataset: Mass<br>Planet name: GJ 357 b<br>Mass: 1.84 +0.31 -0.31<br>Density: 5.6 +0.31 -0.24",
          "Dataset: Mass<br>Planet name: GJ 486 b<br>Mass: 2.82 +0.11 -0.12<br>Density: 7.0 +0.22 -0.18",
          "Dataset: Mass<br>Planet name: K2-146 b<br>Mass: 5.77 +0.18 -0.18<br>Density: 3.69 +0.04 -0.04",
          "Dataset: Mass<br>Planet name: K2-146 c<br>Mass: 7.49 +0.24 -0.24<br>Density: 3.92 +0.05 -0.05",
          "Dataset: Mass<br>Planet name: K2-18 b<br>Mass: 8.64 +1.35 -1.35<br>Density: 2.4 +0.07 -0.07",
          "Dataset: Mass<br>Planet name: K2-25 b<br>Mass: 24.5 +5.7 -5.2<br>Density: 3.3 +0.15 -0.15",
          "Dataset: Mass<br>Planet name: L 168-9 b<br>Mass: 4.6 +0.56 -0.56<br>Density: 9.6 +0.44 -0.33",
          "Dataset: Mass<br>Planet name: L 98-59 c<br>Mass: 2.42 +0.35 -0.34<br>Density: 5.46 +0.22 -0.19",
          "Dataset: Mass<br>Planet name: L 98-59 d<br>Mass: 2.31 +0.46 -0.45<br>Density: 3.17 +0.15 -0.13",
          "Dataset: Mass<br>Planet name: LHS 1140 b<br>Mass: 6.38 +0.46 -0.44<br>Density: 8.04 +0.15 -0.15",
          "Dataset: Mass<br>Planet name: LHS 1140 c<br>Mass: 1.76 +0.17 -0.16<br>Density: 6.07 +0.15 -0.13",
          "Dataset: Mass<br>Planet name: LHS 1478 b<br>Mass: 2.33 +0.2 -0.2<br>Density: 6.67 +0.19 -0.16",
          "Dataset: Mass<br>Planet name: LTT 3780 b<br>Mass: 2.47 +0.24 -0.24<br>Density: 5.91 +0.2 -0.16",
          "Dataset: Mass<br>Planet name: LTT 3780 c<br>Mass: 7.02 +0.69 -0.67<br>Density: 3.03 +0.12 -0.1",
          "Dataset: Mass<br>Planet name: TOI-1231 b<br>Mass: 15.4 +3.3 -3.3<br>Density: 1.74 +0.09 -0.08",
          "Dataset: Mass<br>Planet name: TOI-1235 b<br>Mass: 6.69 +0.67 -0.69<br>Density: 7.25 +0.24 -0.2",
          "Dataset: Mass<br>Planet name: TOI-1634 b<br>Mass: 7.57 +0.71 -0.72<br>Density: 7.59 +0.24 -0.21",
          "Dataset: Mass<br>Planet name: TOI-1685 b<br>Mass: 3.09 +0.59 -0.58<br>Density: 3.44 +0.16 -0.13",
          "Dataset: Mass<br>Planet name: TOI-269 b<br>Mass: 8.8 +1.4 -1.4<br>Density: 2.28 +0.09 -0.08",
          "Dataset: Mass<br>Planet name: TOI-270 b<br>Mass: 1.58 +0.26 -0.26<br>Density: 5.7 +0.22 -0.22",
          "Dataset: Mass<br>Planet name: TOI-270 c<br>Mass: 6.14 +0.38 -0.38<br>Density: 2.68 +0.05 -0.05",
          "Dataset: Mass<br>Planet name: TOI-270 d<br>Mass: 4.78 +0.46 -0.46<br>Density: 3.28 +0.08 -0.08",
          "Dataset: Mass<br>Planet name: TOI-776 b<br>Mass: 4.0 +0.9 -0.9<br>Density: 3.4 +0.2 -0.16",
          "Dataset: Mass<br>Planet name: TRAPPIST-1 b<br>Mass: 1.374 +0.07 -0.07<br>Density: 5.42 +0.05 -0.05",
          "Dataset: Mass<br>Planet name: TRAPPIST-1 c<br>Mass: 1.308 +0.06 -0.06<br>Density: 5.45 +0.04 -0.04",
          "Dataset: Mass<br>Planet name: TRAPPIST-1 d<br>Mass: 0.388 +0.01 -0.01<br>Density: 4.35 +0.03 -0.03",
          "Dataset: Mass<br>Planet name: TRAPPIST-1 e<br>Mass: 0.692 +0.02 -0.02<br>Density: 4.88 +0.03 -0.03",
          "Dataset: Mass<br>Planet name: TRAPPIST-1 f<br>Mass: 1.039 +0.03 -0.03<br>Density: 5.01 +0.03 -0.03",
          "Dataset: Mass<br>Planet name: TRAPPIST-1 g<br>Mass: 1.321 +0.04 -0.04<br>Density: 5.04 +0.02 -0.03",
          "Dataset: Mass<br>Planet name: TRAPPIST-1 h<br>Mass: 0.326 +0.02 -0.02<br>Density: 4.15 +0.06 -0.05"
         ],
         "type": "scatter",
         "x": [
          1.66,
          6.26,
          1.32,
          1.86,
          1.84,
          2.82,
          5.77,
          7.49,
          8.64,
          24.5,
          4.6,
          2.42,
          2.31,
          6.38,
          1.76,
          2.33,
          2.47,
          7.02,
          15.4,
          6.69,
          7.57,
          3.09,
          8.8,
          1.58,
          6.14,
          4.78,
          4,
          1.374,
          1.308,
          0.388,
          0.692,
          1.039,
          1.321,
          0.326
         ],
         "y": [
          1.1433756805807622,
          0.27041742286751363,
          0.7658802177858439,
          0.912885662431942,
          1.0163339382940109,
          1.2704174228675136,
          0.6696914700544465,
          0.7114337568058077,
          0.4355716878402904,
          0.5989110707803993,
          1.7422867513611615,
          0.9909255898366607,
          0.5753176043557169,
          1.4591651542649726,
          1.1016333938294012,
          1.2105263157894737,
          1.0725952813067152,
          0.5499092558983666,
          0.31578947368421056,
          1.3157894736842106,
          1.3774954627949183,
          0.6243194192377496,
          0.41379310344827586,
          1.0344827586206897,
          0.48638838475499097,
          0.5952813067150635,
          0.617059891107078,
          0.984573502722323,
          0.9885662431941924,
          0.7901996370235935,
          0.8865698729582577,
          0.9090744101633395,
          0.9150635208711434,
          0.7526315789473685
         ]
        },
        {
         "error_x": {
          "array": [
           0.05,
           0.34,
           0.48,
           0.93,
           1.04,
           0.05,
           1.2,
           0.3,
           0.61,
           0.65,
           1.4,
           0.6,
           0.25,
           0.19,
           0.88,
           9,
           1.5,
           1.24,
           1.5,
           1.8
          ],
          "arrayminus": [
           0.05,
           0.34,
           0.48,
           0.99,
           1.08,
           0.05,
           1.2,
           0.3,
           0.65,
           0.65,
           1.4,
           0.64,
           0.26,
           0.2,
           0.84,
           11,
           2,
           1.21,
           1.5,
           1.8
          ],
          "type": "data",
          "visible": true
         },
         "error_y": {
          "array": [
           0.04,
           0.03,
           0.03,
           0.04,
           0.05,
           0.03,
           0.05,
           0.01,
           0.01,
           0.01,
           0.01,
           0.09,
           0.04,
           0.02,
           0.01,
           0.14,
           0.09,
           0.02,
           0.01,
           0.04
          ],
          "arrayminus": [
           0.04,
           0.03,
           0.03,
           0.06,
           0.06,
           0.03,
           0.06,
           0.01,
           0.01,
           0.01,
           0.01,
           0.1,
           0.04,
           0.02,
           0.02,
           0.16,
           0.11,
           0.02,
           0.01,
           0.05
          ],
          "type": "data",
          "visible": true
         },
         "marker": {
          "color": [
           null,
           1700,
           null,
           1600,
           null,
           null,
           1250,
           null,
           null,
           null,
           null,
           700,
           null,
           null,
           null,
           null,
           null,
           null,
           null,
           593
          ],
          "colorscale": [
           [
            0,
            "#000004"
           ],
           [
            0.1111111111111111,
            "#1b0c41"
           ],
           [
            0.2222222222222222,
            "#4a0c6b"
           ],
           [
            0.3333333333333333,
            "#781c6d"
           ],
           [
            0.4444444444444444,
            "#a52c60"
           ],
           [
            0.5555555555555556,
            "#cf4446"
           ],
           [
            0.6666666666666666,
            "#ed6925"
           ],
           [
            0.7777777777777778,
            "#fb9b06"
           ],
           [
            0.8888888888888888,
            "#f7d13d"
           ],
           [
            1,
            "#fcffa4"
           ]
          ],
          "size": 10
         },
         "mode": "markers",
         "name": "Data 2",
         "text": [
          "Dataset: Mass2<br>Planet name: GJ 1132 b<br>Mass: 0.633 +0.05 -0.05<br>Density: 10.2 +0.04 -0.04",
          "Dataset: Mass2<br>Planet name: GJ 1214 b<br>Mass: 2.14 +0.34 -0.34<br>Density: 6.2 +0.03 -0.03",
          "Dataset: Mass2<br>Planet name: GJ 1252 b<br>Mass: 3.09 +0.48 -0.48<br>Density: 4.7 +0.03 -0.03",
          "Dataset: Mass2<br>Planet name: GJ 3473 b<br>Mass: 6.48 +0.99 -0.93<br>Density: 3.7 +0.06 -0.04",
          "Dataset: Mass2<br>Planet name: GJ 357 b<br>Mass: 2.14 +1.08 -1.04<br>Density: 2.98 +0.06 -0.05",
          "Dataset: Mass2<br>Planet name: GJ 486 b<br>Mass: 0.187 +0.05 -0.05<br>Density: 3.02 +0.03 -0.03",
          "Dataset: Mass2<br>Planet name: K2-146 b<br>Mass: 5.2 +1.2 -1.2<br>Density: 6.1 +0.06 -0.05",
          "Dataset: Mass2<br>Planet name: K2-146 c<br>Mass: 1.17 +0.3 -0.3<br>Density: 1.36 +0.01 -0.01",
          "Dataset: Mass2<br>Planet name: K2-18 b<br>Mass: 5.12 +0.65 -0.61<br>Density: 1.26 +0.01 -0.01",
          "Dataset: Mass2<br>Planet name: K2-25 b<br>Mass: 6.2 +0.65 -0.65<br>Density: 1.61 +0.01 -0.01",
          "Dataset: Mass2<br>Planet name: L 168-9 b<br>Mass: 10.84 +1.4 -1.4<br>Density: 1.45 +0.01 -0.01",
          "Dataset: Mass2<br>Planet name: L 98-59 c<br>Mass: 1.58 +0.64 -0.6<br>Density: 6.74 +0.1 -0.09",
          "Dataset: Mass2<br>Planet name: L 98-59 d<br>Mass: 2.87 +0.26 -0.25<br>Density: 7.1 +0.04 -0.04",
          "Dataset: Mass2<br>Planet name: LHS 1140 b<br>Mass: 1.54 +0.2 -0.19<br>Density: 5.57 +0.02 -0.02",
          "Dataset: Mass2<br>Planet name: LHS 1140 c<br>Mass: 6.28 +0.84 -0.88<br>Density: 2.45 +0.02 -0.01",
          "Dataset: Mass2<br>Planet name: LHS 1478 b<br>Mass: 13.5 +11.0 -9.0<br>Density: 5.4 +0.16 -0.14",
          "Dataset: Mass2<br>Planet name: LTT 3780 b<br>Mass: 2.2 +2.0 -1.5<br>Density: 3.1 +0.11 -0.09",
          "Dataset: Mass2<br>Planet name: LTT 3780 c<br>Mass: 7.32 +1.21 -1.24<br>Density: 3.86 +0.02 -0.02",
          "Dataset: Mass2<br>Planet name: TOI-1231 b<br>Mass: 10.8 +1.5 -1.5<br>Density: 1.91 +0.01 -0.01",
          "Dataset: Mass2<br>Planet name: TOI-1235 b<br>Mass: 5.3 +1.8 -1.8<br>Density: 3.5 +0.05 -0.04"
         ],
         "type": "scatter",
         "x": [
          0.633,
          2.14,
          3.09,
          6.48,
          2.14,
          0.187,
          5.2,
          1.17,
          5.12,
          6.2,
          10.84,
          1.58,
          2.87,
          1.54,
          6.28,
          13.5,
          2.2,
          7.32,
          10.8,
          5.3
         ],
         "y": [
          1.851179673321234,
          1.1252268602540836,
          0.852994555353902,
          0.6715063520871144,
          0.5408348457350273,
          0.5480943738656987,
          1.1070780399274047,
          0.24682395644283125,
          0.22867513611615245,
          0.29219600725952816,
          0.2631578947368421,
          1.223230490018149,
          1.2885662431941924,
          1.0108892921960073,
          0.4446460980036298,
          0.9800362976406535,
          0.5626134301270418,
          0.7005444646098004,
          0.3466424682395644,
          0.6352087114337568
         ]
        }
       ],
       "layout": {
        "height": 600,
        "hoverlabel": {
         "bgcolor": "white",
         "font": {
          "family": "Rockwell",
          "size": 16
         }
        },
        "template": {
         "data": {
          "bar": [
           {
            "error_x": {
             "color": "#2a3f5f"
            },
            "error_y": {
             "color": "#2a3f5f"
            },
            "marker": {
             "line": {
              "color": "#E5ECF6",
              "width": 0.5
             },
             "pattern": {
              "fillmode": "overlay",
              "size": 10,
              "solidity": 0.2
             }
            },
            "type": "bar"
           }
          ],
          "barpolar": [
           {
            "marker": {
             "line": {
              "color": "#E5ECF6",
              "width": 0.5
             },
             "pattern": {
              "fillmode": "overlay",
              "size": 10,
              "solidity": 0.2
             }
            },
            "type": "barpolar"
           }
          ],
          "carpet": [
           {
            "aaxis": {
             "endlinecolor": "#2a3f5f",
             "gridcolor": "white",
             "linecolor": "white",
             "minorgridcolor": "white",
             "startlinecolor": "#2a3f5f"
            },
            "baxis": {
             "endlinecolor": "#2a3f5f",
             "gridcolor": "white",
             "linecolor": "white",
             "minorgridcolor": "white",
             "startlinecolor": "#2a3f5f"
            },
            "type": "carpet"
           }
          ],
          "choropleth": [
           {
            "colorbar": {
             "outlinewidth": 0,
             "ticks": ""
            },
            "type": "choropleth"
           }
          ],
          "contour": [
           {
            "colorbar": {
             "outlinewidth": 0,
             "ticks": ""
            },
            "colorscale": [
             [
              0,
              "#0d0887"
             ],
             [
              0.1111111111111111,
              "#46039f"
             ],
             [
              0.2222222222222222,
              "#7201a8"
             ],
             [
              0.3333333333333333,
              "#9c179e"
             ],
             [
              0.4444444444444444,
              "#bd3786"
             ],
             [
              0.5555555555555556,
              "#d8576b"
             ],
             [
              0.6666666666666666,
              "#ed7953"
             ],
             [
              0.7777777777777778,
              "#fb9f3a"
             ],
             [
              0.8888888888888888,
              "#fdca26"
             ],
             [
              1,
              "#f0f921"
             ]
            ],
            "type": "contour"
           }
          ],
          "contourcarpet": [
           {
            "colorbar": {
             "outlinewidth": 0,
             "ticks": ""
            },
            "type": "contourcarpet"
           }
          ],
          "heatmap": [
           {
            "colorbar": {
             "outlinewidth": 0,
             "ticks": ""
            },
            "colorscale": [
             [
              0,
              "#0d0887"
             ],
             [
              0.1111111111111111,
              "#46039f"
             ],
             [
              0.2222222222222222,
              "#7201a8"
             ],
             [
              0.3333333333333333,
              "#9c179e"
             ],
             [
              0.4444444444444444,
              "#bd3786"
             ],
             [
              0.5555555555555556,
              "#d8576b"
             ],
             [
              0.6666666666666666,
              "#ed7953"
             ],
             [
              0.7777777777777778,
              "#fb9f3a"
             ],
             [
              0.8888888888888888,
              "#fdca26"
             ],
             [
              1,
              "#f0f921"
             ]
            ],
            "type": "heatmap"
           }
          ],
          "heatmapgl": [
           {
            "colorbar": {
             "outlinewidth": 0,
             "ticks": ""
            },
            "colorscale": [
             [
              0,
              "#0d0887"
             ],
             [
              0.1111111111111111,
              "#46039f"
             ],
             [
              0.2222222222222222,
              "#7201a8"
             ],
             [
              0.3333333333333333,
              "#9c179e"
             ],
             [
              0.4444444444444444,
              "#bd3786"
             ],
             [
              0.5555555555555556,
              "#d8576b"
             ],
             [
              0.6666666666666666,
              "#ed7953"
             ],
             [
              0.7777777777777778,
              "#fb9f3a"
             ],
             [
              0.8888888888888888,
              "#fdca26"
             ],
             [
              1,
              "#f0f921"
             ]
            ],
            "type": "heatmapgl"
           }
          ],
          "histogram": [
           {
            "marker": {
             "pattern": {
              "fillmode": "overlay",
              "size": 10,
              "solidity": 0.2
             }
            },
            "type": "histogram"
           }
          ],
          "histogram2d": [
           {
            "colorbar": {
             "outlinewidth": 0,
             "ticks": ""
            },
            "colorscale": [
             [
              0,
              "#0d0887"
             ],
             [
              0.1111111111111111,
              "#46039f"
             ],
             [
              0.2222222222222222,
              "#7201a8"
             ],
             [
              0.3333333333333333,
              "#9c179e"
             ],
             [
              0.4444444444444444,
              "#bd3786"
             ],
             [
              0.5555555555555556,
              "#d8576b"
             ],
             [
              0.6666666666666666,
              "#ed7953"
             ],
             [
              0.7777777777777778,
              "#fb9f3a"
             ],
             [
              0.8888888888888888,
              "#fdca26"
             ],
             [
              1,
              "#f0f921"
             ]
            ],
            "type": "histogram2d"
           }
          ],
          "histogram2dcontour": [
           {
            "colorbar": {
             "outlinewidth": 0,
             "ticks": ""
            },
            "colorscale": [
             [
              0,
              "#0d0887"
             ],
             [
              0.1111111111111111,
              "#46039f"
             ],
             [
              0.2222222222222222,
              "#7201a8"
             ],
             [
              0.3333333333333333,
              "#9c179e"
             ],
             [
              0.4444444444444444,
              "#bd3786"
             ],
             [
              0.5555555555555556,
              "#d8576b"
             ],
             [
              0.6666666666666666,
              "#ed7953"
             ],
             [
              0.7777777777777778,
              "#fb9f3a"
             ],
             [
              0.8888888888888888,
              "#fdca26"
             ],
             [
              1,
              "#f0f921"
             ]
            ],
            "type": "histogram2dcontour"
           }
          ],
          "mesh3d": [
           {
            "colorbar": {
             "outlinewidth": 0,
             "ticks": ""
            },
            "type": "mesh3d"
           }
          ],
          "parcoords": [
           {
            "line": {
             "colorbar": {
              "outlinewidth": 0,
              "ticks": ""
             }
            },
            "type": "parcoords"
           }
          ],
          "pie": [
           {
            "automargin": true,
            "type": "pie"
           }
          ],
          "scatter": [
           {
            "fillpattern": {
             "fillmode": "overlay",
             "size": 10,
             "solidity": 0.2
            },
            "type": "scatter"
           }
          ],
          "scatter3d": [
           {
            "line": {
             "colorbar": {
              "outlinewidth": 0,
              "ticks": ""
             }
            },
            "marker": {
             "colorbar": {
              "outlinewidth": 0,
              "ticks": ""
             }
            },
            "type": "scatter3d"
           }
          ],
          "scattercarpet": [
           {
            "marker": {
             "colorbar": {
              "outlinewidth": 0,
              "ticks": ""
             }
            },
            "type": "scattercarpet"
           }
          ],
          "scattergeo": [
           {
            "marker": {
             "colorbar": {
              "outlinewidth": 0,
              "ticks": ""
             }
            },
            "type": "scattergeo"
           }
          ],
          "scattergl": [
           {
            "marker": {
             "colorbar": {
              "outlinewidth": 0,
              "ticks": ""
             }
            },
            "type": "scattergl"
           }
          ],
          "scattermapbox": [
           {
            "marker": {
             "colorbar": {
              "outlinewidth": 0,
              "ticks": ""
             }
            },
            "type": "scattermapbox"
           }
          ],
          "scatterpolar": [
           {
            "marker": {
             "colorbar": {
              "outlinewidth": 0,
              "ticks": ""
             }
            },
            "type": "scatterpolar"
           }
          ],
          "scatterpolargl": [
           {
            "marker": {
             "colorbar": {
              "outlinewidth": 0,
              "ticks": ""
             }
            },
            "type": "scatterpolargl"
           }
          ],
          "scatterternary": [
           {
            "marker": {
             "colorbar": {
              "outlinewidth": 0,
              "ticks": ""
             }
            },
            "type": "scatterternary"
           }
          ],
          "surface": [
           {
            "colorbar": {
             "outlinewidth": 0,
             "ticks": ""
            },
            "colorscale": [
             [
              0,
              "#0d0887"
             ],
             [
              0.1111111111111111,
              "#46039f"
             ],
             [
              0.2222222222222222,
              "#7201a8"
             ],
             [
              0.3333333333333333,
              "#9c179e"
             ],
             [
              0.4444444444444444,
              "#bd3786"
             ],
             [
              0.5555555555555556,
              "#d8576b"
             ],
             [
              0.6666666666666666,
              "#ed7953"
             ],
             [
              0.7777777777777778,
              "#fb9f3a"
             ],
             [
              0.8888888888888888,
              "#fdca26"
             ],
             [
              1,
              "#f0f921"
             ]
            ],
            "type": "surface"
           }
          ],
          "table": [
           {
            "cells": {
             "fill": {
              "color": "#EBF0F8"
             },
             "line": {
              "color": "white"
             }
            },
            "header": {
             "fill": {
              "color": "#C8D4E3"
             },
             "line": {
              "color": "white"
             }
            },
            "type": "table"
           }
          ]
         },
         "layout": {
          "annotationdefaults": {
           "arrowcolor": "#2a3f5f",
           "arrowhead": 0,
           "arrowwidth": 1
          },
          "autotypenumbers": "strict",
          "coloraxis": {
           "colorbar": {
            "outlinewidth": 0,
            "ticks": ""
           }
          },
          "colorscale": {
           "diverging": [
            [
             0,
             "#8e0152"
            ],
            [
             0.1,
             "#c51b7d"
            ],
            [
             0.2,
             "#de77ae"
            ],
            [
             0.3,
             "#f1b6da"
            ],
            [
             0.4,
             "#fde0ef"
            ],
            [
             0.5,
             "#f7f7f7"
            ],
            [
             0.6,
             "#e6f5d0"
            ],
            [
             0.7,
             "#b8e186"
            ],
            [
             0.8,
             "#7fbc41"
            ],
            [
             0.9,
             "#4d9221"
            ],
            [
             1,
             "#276419"
            ]
           ],
           "sequential": [
            [
             0,
             "#0d0887"
            ],
            [
             0.1111111111111111,
             "#46039f"
            ],
            [
             0.2222222222222222,
             "#7201a8"
            ],
            [
             0.3333333333333333,
             "#9c179e"
            ],
            [
             0.4444444444444444,
             "#bd3786"
            ],
            [
             0.5555555555555556,
             "#d8576b"
            ],
            [
             0.6666666666666666,
             "#ed7953"
            ],
            [
             0.7777777777777778,
             "#fb9f3a"
            ],
            [
             0.8888888888888888,
             "#fdca26"
            ],
            [
             1,
             "#f0f921"
            ]
           ],
           "sequentialminus": [
            [
             0,
             "#0d0887"
            ],
            [
             0.1111111111111111,
             "#46039f"
            ],
            [
             0.2222222222222222,
             "#7201a8"
            ],
            [
             0.3333333333333333,
             "#9c179e"
            ],
            [
             0.4444444444444444,
             "#bd3786"
            ],
            [
             0.5555555555555556,
             "#d8576b"
            ],
            [
             0.6666666666666666,
             "#ed7953"
            ],
            [
             0.7777777777777778,
             "#fb9f3a"
            ],
            [
             0.8888888888888888,
             "#fdca26"
            ],
            [
             1,
             "#f0f921"
            ]
           ]
          },
          "colorway": [
           "#636efa",
           "#EF553B",
           "#00cc96",
           "#ab63fa",
           "#FFA15A",
           "#19d3f3",
           "#FF6692",
           "#B6E880",
           "#FF97FF",
           "#FECB52"
          ],
          "font": {
           "color": "#2a3f5f"
          },
          "geo": {
           "bgcolor": "white",
           "lakecolor": "white",
           "landcolor": "#E5ECF6",
           "showlakes": true,
           "showland": true,
           "subunitcolor": "white"
          },
          "hoverlabel": {
           "align": "left"
          },
          "hovermode": "closest",
          "mapbox": {
           "style": "light"
          },
          "paper_bgcolor": "white",
          "plot_bgcolor": "#E5ECF6",
          "polar": {
           "angularaxis": {
            "gridcolor": "white",
            "linecolor": "white",
            "ticks": ""
           },
           "bgcolor": "#E5ECF6",
           "radialaxis": {
            "gridcolor": "white",
            "linecolor": "white",
            "ticks": ""
           }
          },
          "scene": {
           "xaxis": {
            "backgroundcolor": "#E5ECF6",
            "gridcolor": "white",
            "gridwidth": 2,
            "linecolor": "white",
            "showbackground": true,
            "ticks": "",
            "zerolinecolor": "white"
           },
           "yaxis": {
            "backgroundcolor": "#E5ECF6",
            "gridcolor": "white",
            "gridwidth": 2,
            "linecolor": "white",
            "showbackground": true,
            "ticks": "",
            "zerolinecolor": "white"
           },
           "zaxis": {
            "backgroundcolor": "#E5ECF6",
            "gridcolor": "white",
            "gridwidth": 2,
            "linecolor": "white",
            "showbackground": true,
            "ticks": "",
            "zerolinecolor": "white"
           }
          },
          "shapedefaults": {
           "line": {
            "color": "#2a3f5f"
           }
          },
          "ternary": {
           "aaxis": {
            "gridcolor": "white",
            "linecolor": "white",
            "ticks": ""
           },
           "baxis": {
            "gridcolor": "white",
            "linecolor": "white",
            "ticks": ""
           },
           "bgcolor": "#E5ECF6",
           "caxis": {
            "gridcolor": "white",
            "linecolor": "white",
            "ticks": ""
           }
          },
          "title": {
           "x": 0.05
          },
          "xaxis": {
           "automargin": true,
           "gridcolor": "white",
           "linecolor": "white",
           "ticks": "",
           "title": {
            "standoff": 15
           },
           "zerolinecolor": "white",
           "zerolinewidth": 2
          },
          "yaxis": {
           "automargin": true,
           "gridcolor": "white",
           "linecolor": "white",
           "ticks": "",
           "title": {
            "standoff": 15
           },
           "zerolinecolor": "white",
           "zerolinewidth": 2
          }
         }
        },
        "title": {
         "text": "Interactive 2D Plot with Error Bars and Colormap"
        },
        "updatemenus": [
         {
          "buttons": [
           {
            "args": [
             {
              "marker.color": [
               [
                529,
                576,
                1089,
                773,
                525,
                701,
                590,
                520,
                284,
                494,
                965,
                517,
                409,
                378.9,
                708.9,
                595,
                1000,
                397,
                329,
                775,
                921,
                1069,
                531,
                581,
                488,
                387,
                514,
                400.1,
                341.9,
                288,
                251.3,
                219,
                198.6,
                168
               ]
              ],
              "x": [
               [
                1.66,
                6.26,
                1.32,
                1.86,
                1.84,
                2.82,
                5.77,
                7.49,
                8.64,
                24.5,
                4.6,
                2.42,
                2.31,
                6.38,
                1.76,
                2.33,
                2.47,
                7.02,
                15.4,
                6.69,
                7.57,
                3.09,
                8.8,
                1.58,
                6.14,
                4.78,
                4,
                1.374,
                1.308,
                0.388,
                0.692,
                1.039,
                1.321,
                0.326
               ]
              ],
              "y": [
               [
                1.1433756805807622,
                0.27041742286751363,
                0.7658802177858439,
                0.912885662431942,
                1.0163339382940109,
                1.2704174228675136,
                0.6696914700544465,
                0.7114337568058077,
                0.4355716878402904,
                0.5989110707803993,
                1.7422867513611615,
                0.9909255898366607,
                0.5753176043557169,
                1.4591651542649726,
                1.1016333938294012,
                1.2105263157894737,
                1.0725952813067152,
                0.5499092558983666,
                0.31578947368421056,
                1.3157894736842106,
                1.3774954627949183,
                0.6243194192377496,
                0.41379310344827586,
                1.0344827586206897,
                0.48638838475499097,
                0.5952813067150635,
                0.617059891107078,
                0.984573502722323,
                0.9885662431941924,
                0.7901996370235935,
                0.8865698729582577,
                0.9090744101633395,
                0.9150635208711434,
                0.7526315789473685
               ]
              ]
             }
            ],
            "label": "Data 1",
            "method": "restyle"
           },
           {
            "args": [
             {
              "marker.color": [
               [
                null,
                1700,
                null,
                1600,
                null,
                null,
                1250,
                null,
                null,
                null,
                null,
                700,
                null,
                null,
                null,
                null,
                null,
                null,
                null,
                593
               ]
              ],
              "x": [
               [
                0.633,
                2.14,
                3.09,
                6.48,
                2.14,
                0.187,
                5.2,
                1.17,
                5.12,
                6.2,
                10.84,
                1.58,
                2.87,
                1.54,
                6.28,
                13.5,
                2.2,
                7.32,
                10.8,
                5.3
               ]
              ],
              "y": [
               [
                1.851179673321234,
                1.1252268602540836,
                0.852994555353902,
                0.6715063520871144,
                0.5408348457350273,
                0.5480943738656987,
                1.1070780399274047,
                0.24682395644283125,
                0.22867513611615245,
                0.29219600725952816,
                0.2631578947368421,
                1.223230490018149,
                1.2885662431941924,
                1.0108892921960073,
                0.4446460980036298,
                0.9800362976406535,
                0.5626134301270418,
                0.7005444646098004,
                0.3466424682395644,
                0.6352087114337568
               ]
              ]
             }
            ],
            "label": "Data 2",
            "method": "restyle"
           },
           {
            "args": [
             {
              "marker.color": [
               [
                529,
                576,
                1089,
                773,
                525,
                701,
                590,
                520,
                284,
                494,
                965,
                517,
                409,
                378.9,
                708.9,
                595,
                1000,
                397,
                329,
                775,
                921,
                1069,
                531,
                581,
                488,
                387,
                514,
                400.1,
                341.9,
                288,
                251.3,
                219,
                198.6,
                168
               ],
               [
                null,
                1700,
                null,
                1600,
                null,
                null,
                1250,
                null,
                null,
                null,
                null,
                700,
                null,
                null,
                null,
                null,
                null,
                null,
                null,
                593
               ]
              ],
              "x": [
               [
                1.66,
                6.26,
                1.32,
                1.86,
                1.84,
                2.82,
                5.77,
                7.49,
                8.64,
                24.5,
                4.6,
                2.42,
                2.31,
                6.38,
                1.76,
                2.33,
                2.47,
                7.02,
                15.4,
                6.69,
                7.57,
                3.09,
                8.8,
                1.58,
                6.14,
                4.78,
                4,
                1.374,
                1.308,
                0.388,
                0.692,
                1.039,
                1.321,
                0.326
               ],
               [
                0.633,
                2.14,
                3.09,
                6.48,
                2.14,
                0.187,
                5.2,
                1.17,
                5.12,
                6.2,
                10.84,
                1.58,
                2.87,
                1.54,
                6.28,
                13.5,
                2.2,
                7.32,
                10.8,
                5.3
               ]
              ],
              "y": [
               [
                1.1433756805807622,
                0.27041742286751363,
                0.7658802177858439,
                0.912885662431942,
                1.0163339382940109,
                1.2704174228675136,
                0.6696914700544465,
                0.7114337568058077,
                0.4355716878402904,
                0.5989110707803993,
                1.7422867513611615,
                0.9909255898366607,
                0.5753176043557169,
                1.4591651542649726,
                1.1016333938294012,
                1.2105263157894737,
                1.0725952813067152,
                0.5499092558983666,
                0.31578947368421056,
                1.3157894736842106,
                1.3774954627949183,
                0.6243194192377496,
                0.41379310344827586,
                1.0344827586206897,
                0.48638838475499097,
                0.5952813067150635,
                0.617059891107078,
                0.984573502722323,
                0.9885662431941924,
                0.7901996370235935,
                0.8865698729582577,
                0.9090744101633395,
                0.9150635208711434,
                0.7526315789473685
               ],
               [
                1.851179673321234,
                1.1252268602540836,
                0.852994555353902,
                0.6715063520871144,
                0.5408348457350273,
                0.5480943738656987,
                1.1070780399274047,
                0.24682395644283125,
                0.22867513611615245,
                0.29219600725952816,
                0.2631578947368421,
                1.223230490018149,
                1.2885662431941924,
                1.0108892921960073,
                0.4446460980036298,
                0.9800362976406535,
                0.5626134301270418,
                0.7005444646098004,
                0.3466424682395644,
                0.6352087114337568
               ]
              ]
             }
            ],
            "label": "Both Data",
            "method": "restyle"
           }
          ],
          "direction": "down",
          "showactive": true,
          "x": 0.1,
          "xanchor": "left",
          "y": 1.15,
          "yanchor": "top"
         }
        ],
        "width": 800,
        "xaxis": {
         "anchor": "y",
         "domain": [
          0,
          1
         ],
         "dtick": 1,
         "ticktext": [
          "0.5",
          "1",
          "2",
          "5",
          "10",
          "20",
          "30"
         ],
         "tickvals": [
          0.5,
          1,
          2,
          5,
          10,
          20,
          30
         ],
         "title": {
          "text": "Mass"
         },
         "type": "log"
        },
        "yaxis": {
         "anchor": "x",
         "domain": [
          0,
          1
         ],
         "title": {
          "text": "Density"
         }
        }
       }
      },
      "text/html": [
       "<div>                            <div id=\"c8135018-18d6-44b3-97aa-0d963e078a05\" class=\"plotly-graph-div\" style=\"height:600px; width:800px;\"></div>            <script type=\"text/javascript\">                require([\"plotly\"], function(Plotly) {                    window.PLOTLYENV=window.PLOTLYENV || {};                                    if (document.getElementById(\"c8135018-18d6-44b3-97aa-0d963e078a05\")) {                    Plotly.newPlot(                        \"c8135018-18d6-44b3-97aa-0d963e078a05\",                        [{\"error_x\":{\"array\":[0.23,0.86,0.28,0.3,0.31,0.12,0.18,0.24,1.35,5.2,0.56,0.34,0.45,0.44,0.16,0.2,0.24,0.67,3.3,0.69,0.72,0.58,1.4,0.26,0.38,0.46,0.9,0.07,0.06,0.01,0.02,0.03,0.04,0.02],\"arrayminus\":[0.23,0.86,0.28,0.3,0.31,0.11,0.18,0.24,1.35,5.7,0.56,0.35,0.46,0.46,0.17,0.2,0.24,0.69,3.3,0.67,0.71,0.59,1.4,0.26,0.38,0.46,0.9,0.07,0.06,0.01,0.02,0.03,0.04,0.02],\"type\":\"data\",\"visible\":true},\"error_y\":{\"array\":[0.24,0.06,0.2,0.17,0.24,0.18,0.04,0.05,0.07,0.15,0.33,0.19,0.13,0.15,0.13,0.16,0.16,0.1,0.08,0.2,0.21,0.13,0.08,0.22,0.05,0.08,0.16,0.05,0.04,0.03,0.03,0.03,0.03,0.05],\"arrayminus\":[0.24,0.08,0.24,0.19,0.31,0.22,0.04,0.05,0.07,0.15,0.44,0.22,0.15,0.15,0.15,0.19,0.2,0.12,0.09,0.24,0.24,0.16,0.09,0.22,0.05,0.08,0.2,0.05,0.04,0.03,0.03,0.03,0.02,0.06],\"type\":\"data\",\"visible\":true},\"marker\":{\"color\":[529.0,576.0,1089.0,773.0,525.0,701.0,590.0,520.0,284.0,494.0,965.0,517.0,409.0,378.9,708.9,595.0,1000.0,397.0,329.0,775.0,921.0,1069.0,531.0,581.0,488.0,387.0,514.0,400.1,341.9,288.0,251.3,219.0,198.6,168.0],\"colorscale\":[[0.0,\"#000004\"],[0.1111111111111111,\"#1b0c41\"],[0.2222222222222222,\"#4a0c6b\"],[0.3333333333333333,\"#781c6d\"],[0.4444444444444444,\"#a52c60\"],[0.5555555555555556,\"#cf4446\"],[0.6666666666666666,\"#ed6925\"],[0.7777777777777778,\"#fb9b06\"],[0.8888888888888888,\"#f7d13d\"],[1.0,\"#fcffa4\"]],\"size\":10},\"mode\":\"markers\",\"name\":\"Data 1\",\"text\":[\"Dataset: Mass<br>Planet name: GJ 1132 b<br>Mass: 1.66 +0.23 -0.23<br>Density: 6.3 +0.24 -0.24\",\"Dataset: Mass<br>Planet name: GJ 1214 b<br>Mass: 6.26 +0.86 -0.86<br>Density: 1.49 +0.08 -0.06\",\"Dataset: Mass<br>Planet name: GJ 1252 b<br>Mass: 1.32 +0.28 -0.28<br>Density: 4.22 +0.24 -0.2\",\"Dataset: Mass<br>Planet name: GJ 3473 b<br>Mass: 1.86 +0.3 -0.3<br>Density: 5.03 +0.19 -0.17\",\"Dataset: Mass<br>Planet name: GJ 357 b<br>Mass: 1.84 +0.31 -0.31<br>Density: 5.6 +0.31 -0.24\",\"Dataset: Mass<br>Planet name: GJ 486 b<br>Mass: 2.82 +0.11 -0.12<br>Density: 7.0 +0.22 -0.18\",\"Dataset: Mass<br>Planet name: K2-146 b<br>Mass: 5.77 +0.18 -0.18<br>Density: 3.69 +0.04 -0.04\",\"Dataset: Mass<br>Planet name: K2-146 c<br>Mass: 7.49 +0.24 -0.24<br>Density: 3.92 +0.05 -0.05\",\"Dataset: Mass<br>Planet name: K2-18 b<br>Mass: 8.64 +1.35 -1.35<br>Density: 2.4 +0.07 -0.07\",\"Dataset: Mass<br>Planet name: K2-25 b<br>Mass: 24.5 +5.7 -5.2<br>Density: 3.3 +0.15 -0.15\",\"Dataset: Mass<br>Planet name: L 168-9 b<br>Mass: 4.6 +0.56 -0.56<br>Density: 9.6 +0.44 -0.33\",\"Dataset: Mass<br>Planet name: L 98-59 c<br>Mass: 2.42 +0.35 -0.34<br>Density: 5.46 +0.22 -0.19\",\"Dataset: Mass<br>Planet name: L 98-59 d<br>Mass: 2.31 +0.46 -0.45<br>Density: 3.17 +0.15 -0.13\",\"Dataset: Mass<br>Planet name: LHS 1140 b<br>Mass: 6.38 +0.46 -0.44<br>Density: 8.04 +0.15 -0.15\",\"Dataset: Mass<br>Planet name: LHS 1140 c<br>Mass: 1.76 +0.17 -0.16<br>Density: 6.07 +0.15 -0.13\",\"Dataset: Mass<br>Planet name: LHS 1478 b<br>Mass: 2.33 +0.2 -0.2<br>Density: 6.67 +0.19 -0.16\",\"Dataset: Mass<br>Planet name: LTT 3780 b<br>Mass: 2.47 +0.24 -0.24<br>Density: 5.91 +0.2 -0.16\",\"Dataset: Mass<br>Planet name: LTT 3780 c<br>Mass: 7.02 +0.69 -0.67<br>Density: 3.03 +0.12 -0.1\",\"Dataset: Mass<br>Planet name: TOI-1231 b<br>Mass: 15.4 +3.3 -3.3<br>Density: 1.74 +0.09 -0.08\",\"Dataset: Mass<br>Planet name: TOI-1235 b<br>Mass: 6.69 +0.67 -0.69<br>Density: 7.25 +0.24 -0.2\",\"Dataset: Mass<br>Planet name: TOI-1634 b<br>Mass: 7.57 +0.71 -0.72<br>Density: 7.59 +0.24 -0.21\",\"Dataset: Mass<br>Planet name: TOI-1685 b<br>Mass: 3.09 +0.59 -0.58<br>Density: 3.44 +0.16 -0.13\",\"Dataset: Mass<br>Planet name: TOI-269 b<br>Mass: 8.8 +1.4 -1.4<br>Density: 2.28 +0.09 -0.08\",\"Dataset: Mass<br>Planet name: TOI-270 b<br>Mass: 1.58 +0.26 -0.26<br>Density: 5.7 +0.22 -0.22\",\"Dataset: Mass<br>Planet name: TOI-270 c<br>Mass: 6.14 +0.38 -0.38<br>Density: 2.68 +0.05 -0.05\",\"Dataset: Mass<br>Planet name: TOI-270 d<br>Mass: 4.78 +0.46 -0.46<br>Density: 3.28 +0.08 -0.08\",\"Dataset: Mass<br>Planet name: TOI-776 b<br>Mass: 4.0 +0.9 -0.9<br>Density: 3.4 +0.2 -0.16\",\"Dataset: Mass<br>Planet name: TRAPPIST-1 b<br>Mass: 1.374 +0.07 -0.07<br>Density: 5.42 +0.05 -0.05\",\"Dataset: Mass<br>Planet name: TRAPPIST-1 c<br>Mass: 1.308 +0.06 -0.06<br>Density: 5.45 +0.04 -0.04\",\"Dataset: Mass<br>Planet name: TRAPPIST-1 d<br>Mass: 0.388 +0.01 -0.01<br>Density: 4.35 +0.03 -0.03\",\"Dataset: Mass<br>Planet name: TRAPPIST-1 e<br>Mass: 0.692 +0.02 -0.02<br>Density: 4.88 +0.03 -0.03\",\"Dataset: Mass<br>Planet name: TRAPPIST-1 f<br>Mass: 1.039 +0.03 -0.03<br>Density: 5.01 +0.03 -0.03\",\"Dataset: Mass<br>Planet name: TRAPPIST-1 g<br>Mass: 1.321 +0.04 -0.04<br>Density: 5.04 +0.02 -0.03\",\"Dataset: Mass<br>Planet name: TRAPPIST-1 h<br>Mass: 0.326 +0.02 -0.02<br>Density: 4.15 +0.06 -0.05\"],\"x\":[1.66,6.26,1.32,1.86,1.84,2.82,5.77,7.49,8.64,24.5,4.6,2.42,2.31,6.38,1.76,2.33,2.47,7.02,15.4,6.69,7.57,3.09,8.8,1.58,6.14,4.78,4.0,1.374,1.308,0.388,0.692,1.039,1.321,0.326],\"y\":[1.1433756805807622,0.27041742286751363,0.7658802177858439,0.912885662431942,1.0163339382940109,1.2704174228675136,0.6696914700544465,0.7114337568058077,0.4355716878402904,0.5989110707803993,1.7422867513611615,0.9909255898366607,0.5753176043557169,1.4591651542649726,1.1016333938294012,1.2105263157894737,1.0725952813067152,0.5499092558983666,0.31578947368421056,1.3157894736842106,1.3774954627949183,0.6243194192377496,0.41379310344827586,1.0344827586206897,0.48638838475499097,0.5952813067150635,0.617059891107078,0.984573502722323,0.9885662431941924,0.7901996370235935,0.8865698729582577,0.9090744101633395,0.9150635208711434,0.7526315789473685],\"type\":\"scatter\"},{\"error_x\":{\"array\":[0.05,0.34,0.48,0.93,1.04,0.05,1.2,0.3,0.61,0.65,1.4,0.6,0.25,0.19,0.88,9.0,1.5,1.24,1.5,1.8],\"arrayminus\":[0.05,0.34,0.48,0.99,1.08,0.05,1.2,0.3,0.65,0.65,1.4,0.64,0.26,0.2,0.84,11.0,2.0,1.21,1.5,1.8],\"type\":\"data\",\"visible\":true},\"error_y\":{\"array\":[0.04,0.03,0.03,0.04,0.05,0.03,0.05,0.01,0.01,0.01,0.01,0.09,0.04,0.02,0.01,0.14,0.09,0.02,0.01,0.04],\"arrayminus\":[0.04,0.03,0.03,0.06,0.06,0.03,0.06,0.01,0.01,0.01,0.01,0.1,0.04,0.02,0.02,0.16,0.11,0.02,0.01,0.05],\"type\":\"data\",\"visible\":true},\"marker\":{\"color\":[null,1700.0,null,1600.0,null,null,1250.0,null,null,null,null,700.0,null,null,null,null,null,null,null,593.0],\"colorscale\":[[0.0,\"#000004\"],[0.1111111111111111,\"#1b0c41\"],[0.2222222222222222,\"#4a0c6b\"],[0.3333333333333333,\"#781c6d\"],[0.4444444444444444,\"#a52c60\"],[0.5555555555555556,\"#cf4446\"],[0.6666666666666666,\"#ed6925\"],[0.7777777777777778,\"#fb9b06\"],[0.8888888888888888,\"#f7d13d\"],[1.0,\"#fcffa4\"]],\"size\":10},\"mode\":\"markers\",\"name\":\"Data 2\",\"text\":[\"Dataset: Mass2<br>Planet name: GJ 1132 b<br>Mass: 0.633 +0.05 -0.05<br>Density: 10.2 +0.04 -0.04\",\"Dataset: Mass2<br>Planet name: GJ 1214 b<br>Mass: 2.14 +0.34 -0.34<br>Density: 6.2 +0.03 -0.03\",\"Dataset: Mass2<br>Planet name: GJ 1252 b<br>Mass: 3.09 +0.48 -0.48<br>Density: 4.7 +0.03 -0.03\",\"Dataset: Mass2<br>Planet name: GJ 3473 b<br>Mass: 6.48 +0.99 -0.93<br>Density: 3.7 +0.06 -0.04\",\"Dataset: Mass2<br>Planet name: GJ 357 b<br>Mass: 2.14 +1.08 -1.04<br>Density: 2.98 +0.06 -0.05\",\"Dataset: Mass2<br>Planet name: GJ 486 b<br>Mass: 0.187 +0.05 -0.05<br>Density: 3.02 +0.03 -0.03\",\"Dataset: Mass2<br>Planet name: K2-146 b<br>Mass: 5.2 +1.2 -1.2<br>Density: 6.1 +0.06 -0.05\",\"Dataset: Mass2<br>Planet name: K2-146 c<br>Mass: 1.17 +0.3 -0.3<br>Density: 1.36 +0.01 -0.01\",\"Dataset: Mass2<br>Planet name: K2-18 b<br>Mass: 5.12 +0.65 -0.61<br>Density: 1.26 +0.01 -0.01\",\"Dataset: Mass2<br>Planet name: K2-25 b<br>Mass: 6.2 +0.65 -0.65<br>Density: 1.61 +0.01 -0.01\",\"Dataset: Mass2<br>Planet name: L 168-9 b<br>Mass: 10.84 +1.4 -1.4<br>Density: 1.45 +0.01 -0.01\",\"Dataset: Mass2<br>Planet name: L 98-59 c<br>Mass: 1.58 +0.64 -0.6<br>Density: 6.74 +0.1 -0.09\",\"Dataset: Mass2<br>Planet name: L 98-59 d<br>Mass: 2.87 +0.26 -0.25<br>Density: 7.1 +0.04 -0.04\",\"Dataset: Mass2<br>Planet name: LHS 1140 b<br>Mass: 1.54 +0.2 -0.19<br>Density: 5.57 +0.02 -0.02\",\"Dataset: Mass2<br>Planet name: LHS 1140 c<br>Mass: 6.28 +0.84 -0.88<br>Density: 2.45 +0.02 -0.01\",\"Dataset: Mass2<br>Planet name: LHS 1478 b<br>Mass: 13.5 +11.0 -9.0<br>Density: 5.4 +0.16 -0.14\",\"Dataset: Mass2<br>Planet name: LTT 3780 b<br>Mass: 2.2 +2.0 -1.5<br>Density: 3.1 +0.11 -0.09\",\"Dataset: Mass2<br>Planet name: LTT 3780 c<br>Mass: 7.32 +1.21 -1.24<br>Density: 3.86 +0.02 -0.02\",\"Dataset: Mass2<br>Planet name: TOI-1231 b<br>Mass: 10.8 +1.5 -1.5<br>Density: 1.91 +0.01 -0.01\",\"Dataset: Mass2<br>Planet name: TOI-1235 b<br>Mass: 5.3 +1.8 -1.8<br>Density: 3.5 +0.05 -0.04\"],\"x\":[0.633,2.14,3.09,6.48,2.14,0.187,5.2,1.17,5.12,6.2,10.84,1.58,2.87,1.54,6.28,13.5,2.2,7.32,10.8,5.3],\"y\":[1.851179673321234,1.1252268602540836,0.852994555353902,0.6715063520871144,0.5408348457350273,0.5480943738656987,1.1070780399274047,0.24682395644283125,0.22867513611615245,0.29219600725952816,0.2631578947368421,1.223230490018149,1.2885662431941924,1.0108892921960073,0.4446460980036298,0.9800362976406535,0.5626134301270418,0.7005444646098004,0.3466424682395644,0.6352087114337568],\"type\":\"scatter\"}],                        {\"template\":{\"data\":{\"histogram2dcontour\":[{\"type\":\"histogram2dcontour\",\"colorbar\":{\"outlinewidth\":0,\"ticks\":\"\"},\"colorscale\":[[0.0,\"#0d0887\"],[0.1111111111111111,\"#46039f\"],[0.2222222222222222,\"#7201a8\"],[0.3333333333333333,\"#9c179e\"],[0.4444444444444444,\"#bd3786\"],[0.5555555555555556,\"#d8576b\"],[0.6666666666666666,\"#ed7953\"],[0.7777777777777778,\"#fb9f3a\"],[0.8888888888888888,\"#fdca26\"],[1.0,\"#f0f921\"]]}],\"choropleth\":[{\"type\":\"choropleth\",\"colorbar\":{\"outlinewidth\":0,\"ticks\":\"\"}}],\"histogram2d\":[{\"type\":\"histogram2d\",\"colorbar\":{\"outlinewidth\":0,\"ticks\":\"\"},\"colorscale\":[[0.0,\"#0d0887\"],[0.1111111111111111,\"#46039f\"],[0.2222222222222222,\"#7201a8\"],[0.3333333333333333,\"#9c179e\"],[0.4444444444444444,\"#bd3786\"],[0.5555555555555556,\"#d8576b\"],[0.6666666666666666,\"#ed7953\"],[0.7777777777777778,\"#fb9f3a\"],[0.8888888888888888,\"#fdca26\"],[1.0,\"#f0f921\"]]}],\"heatmap\":[{\"type\":\"heatmap\",\"colorbar\":{\"outlinewidth\":0,\"ticks\":\"\"},\"colorscale\":[[0.0,\"#0d0887\"],[0.1111111111111111,\"#46039f\"],[0.2222222222222222,\"#7201a8\"],[0.3333333333333333,\"#9c179e\"],[0.4444444444444444,\"#bd3786\"],[0.5555555555555556,\"#d8576b\"],[0.6666666666666666,\"#ed7953\"],[0.7777777777777778,\"#fb9f3a\"],[0.8888888888888888,\"#fdca26\"],[1.0,\"#f0f921\"]]}],\"heatmapgl\":[{\"type\":\"heatmapgl\",\"colorbar\":{\"outlinewidth\":0,\"ticks\":\"\"},\"colorscale\":[[0.0,\"#0d0887\"],[0.1111111111111111,\"#46039f\"],[0.2222222222222222,\"#7201a8\"],[0.3333333333333333,\"#9c179e\"],[0.4444444444444444,\"#bd3786\"],[0.5555555555555556,\"#d8576b\"],[0.6666666666666666,\"#ed7953\"],[0.7777777777777778,\"#fb9f3a\"],[0.8888888888888888,\"#fdca26\"],[1.0,\"#f0f921\"]]}],\"contourcarpet\":[{\"type\":\"contourcarpet\",\"colorbar\":{\"outlinewidth\":0,\"ticks\":\"\"}}],\"contour\":[{\"type\":\"contour\",\"colorbar\":{\"outlinewidth\":0,\"ticks\":\"\"},\"colorscale\":[[0.0,\"#0d0887\"],[0.1111111111111111,\"#46039f\"],[0.2222222222222222,\"#7201a8\"],[0.3333333333333333,\"#9c179e\"],[0.4444444444444444,\"#bd3786\"],[0.5555555555555556,\"#d8576b\"],[0.6666666666666666,\"#ed7953\"],[0.7777777777777778,\"#fb9f3a\"],[0.8888888888888888,\"#fdca26\"],[1.0,\"#f0f921\"]]}],\"surface\":[{\"type\":\"surface\",\"colorbar\":{\"outlinewidth\":0,\"ticks\":\"\"},\"colorscale\":[[0.0,\"#0d0887\"],[0.1111111111111111,\"#46039f\"],[0.2222222222222222,\"#7201a8\"],[0.3333333333333333,\"#9c179e\"],[0.4444444444444444,\"#bd3786\"],[0.5555555555555556,\"#d8576b\"],[0.6666666666666666,\"#ed7953\"],[0.7777777777777778,\"#fb9f3a\"],[0.8888888888888888,\"#fdca26\"],[1.0,\"#f0f921\"]]}],\"mesh3d\":[{\"type\":\"mesh3d\",\"colorbar\":{\"outlinewidth\":0,\"ticks\":\"\"}}],\"scatter\":[{\"fillpattern\":{\"fillmode\":\"overlay\",\"size\":10,\"solidity\":0.2},\"type\":\"scatter\"}],\"parcoords\":[{\"type\":\"parcoords\",\"line\":{\"colorbar\":{\"outlinewidth\":0,\"ticks\":\"\"}}}],\"scatterpolargl\":[{\"type\":\"scatterpolargl\",\"marker\":{\"colorbar\":{\"outlinewidth\":0,\"ticks\":\"\"}}}],\"bar\":[{\"error_x\":{\"color\":\"#2a3f5f\"},\"error_y\":{\"color\":\"#2a3f5f\"},\"marker\":{\"line\":{\"color\":\"#E5ECF6\",\"width\":0.5},\"pattern\":{\"fillmode\":\"overlay\",\"size\":10,\"solidity\":0.2}},\"type\":\"bar\"}],\"scattergeo\":[{\"type\":\"scattergeo\",\"marker\":{\"colorbar\":{\"outlinewidth\":0,\"ticks\":\"\"}}}],\"scatterpolar\":[{\"type\":\"scatterpolar\",\"marker\":{\"colorbar\":{\"outlinewidth\":0,\"ticks\":\"\"}}}],\"histogram\":[{\"marker\":{\"pattern\":{\"fillmode\":\"overlay\",\"size\":10,\"solidity\":0.2}},\"type\":\"histogram\"}],\"scattergl\":[{\"type\":\"scattergl\",\"marker\":{\"colorbar\":{\"outlinewidth\":0,\"ticks\":\"\"}}}],\"scatter3d\":[{\"type\":\"scatter3d\",\"line\":{\"colorbar\":{\"outlinewidth\":0,\"ticks\":\"\"}},\"marker\":{\"colorbar\":{\"outlinewidth\":0,\"ticks\":\"\"}}}],\"scattermapbox\":[{\"type\":\"scattermapbox\",\"marker\":{\"colorbar\":{\"outlinewidth\":0,\"ticks\":\"\"}}}],\"scatterternary\":[{\"type\":\"scatterternary\",\"marker\":{\"colorbar\":{\"outlinewidth\":0,\"ticks\":\"\"}}}],\"scattercarpet\":[{\"type\":\"scattercarpet\",\"marker\":{\"colorbar\":{\"outlinewidth\":0,\"ticks\":\"\"}}}],\"carpet\":[{\"aaxis\":{\"endlinecolor\":\"#2a3f5f\",\"gridcolor\":\"white\",\"linecolor\":\"white\",\"minorgridcolor\":\"white\",\"startlinecolor\":\"#2a3f5f\"},\"baxis\":{\"endlinecolor\":\"#2a3f5f\",\"gridcolor\":\"white\",\"linecolor\":\"white\",\"minorgridcolor\":\"white\",\"startlinecolor\":\"#2a3f5f\"},\"type\":\"carpet\"}],\"table\":[{\"cells\":{\"fill\":{\"color\":\"#EBF0F8\"},\"line\":{\"color\":\"white\"}},\"header\":{\"fill\":{\"color\":\"#C8D4E3\"},\"line\":{\"color\":\"white\"}},\"type\":\"table\"}],\"barpolar\":[{\"marker\":{\"line\":{\"color\":\"#E5ECF6\",\"width\":0.5},\"pattern\":{\"fillmode\":\"overlay\",\"size\":10,\"solidity\":0.2}},\"type\":\"barpolar\"}],\"pie\":[{\"automargin\":true,\"type\":\"pie\"}]},\"layout\":{\"autotypenumbers\":\"strict\",\"colorway\":[\"#636efa\",\"#EF553B\",\"#00cc96\",\"#ab63fa\",\"#FFA15A\",\"#19d3f3\",\"#FF6692\",\"#B6E880\",\"#FF97FF\",\"#FECB52\"],\"font\":{\"color\":\"#2a3f5f\"},\"hovermode\":\"closest\",\"hoverlabel\":{\"align\":\"left\"},\"paper_bgcolor\":\"white\",\"plot_bgcolor\":\"#E5ECF6\",\"polar\":{\"bgcolor\":\"#E5ECF6\",\"angularaxis\":{\"gridcolor\":\"white\",\"linecolor\":\"white\",\"ticks\":\"\"},\"radialaxis\":{\"gridcolor\":\"white\",\"linecolor\":\"white\",\"ticks\":\"\"}},\"ternary\":{\"bgcolor\":\"#E5ECF6\",\"aaxis\":{\"gridcolor\":\"white\",\"linecolor\":\"white\",\"ticks\":\"\"},\"baxis\":{\"gridcolor\":\"white\",\"linecolor\":\"white\",\"ticks\":\"\"},\"caxis\":{\"gridcolor\":\"white\",\"linecolor\":\"white\",\"ticks\":\"\"}},\"coloraxis\":{\"colorbar\":{\"outlinewidth\":0,\"ticks\":\"\"}},\"colorscale\":{\"sequential\":[[0.0,\"#0d0887\"],[0.1111111111111111,\"#46039f\"],[0.2222222222222222,\"#7201a8\"],[0.3333333333333333,\"#9c179e\"],[0.4444444444444444,\"#bd3786\"],[0.5555555555555556,\"#d8576b\"],[0.6666666666666666,\"#ed7953\"],[0.7777777777777778,\"#fb9f3a\"],[0.8888888888888888,\"#fdca26\"],[1.0,\"#f0f921\"]],\"sequentialminus\":[[0.0,\"#0d0887\"],[0.1111111111111111,\"#46039f\"],[0.2222222222222222,\"#7201a8\"],[0.3333333333333333,\"#9c179e\"],[0.4444444444444444,\"#bd3786\"],[0.5555555555555556,\"#d8576b\"],[0.6666666666666666,\"#ed7953\"],[0.7777777777777778,\"#fb9f3a\"],[0.8888888888888888,\"#fdca26\"],[1.0,\"#f0f921\"]],\"diverging\":[[0,\"#8e0152\"],[0.1,\"#c51b7d\"],[0.2,\"#de77ae\"],[0.3,\"#f1b6da\"],[0.4,\"#fde0ef\"],[0.5,\"#f7f7f7\"],[0.6,\"#e6f5d0\"],[0.7,\"#b8e186\"],[0.8,\"#7fbc41\"],[0.9,\"#4d9221\"],[1,\"#276419\"]]},\"xaxis\":{\"gridcolor\":\"white\",\"linecolor\":\"white\",\"ticks\":\"\",\"title\":{\"standoff\":15},\"zerolinecolor\":\"white\",\"automargin\":true,\"zerolinewidth\":2},\"yaxis\":{\"gridcolor\":\"white\",\"linecolor\":\"white\",\"ticks\":\"\",\"title\":{\"standoff\":15},\"zerolinecolor\":\"white\",\"automargin\":true,\"zerolinewidth\":2},\"scene\":{\"xaxis\":{\"backgroundcolor\":\"#E5ECF6\",\"gridcolor\":\"white\",\"linecolor\":\"white\",\"showbackground\":true,\"ticks\":\"\",\"zerolinecolor\":\"white\",\"gridwidth\":2},\"yaxis\":{\"backgroundcolor\":\"#E5ECF6\",\"gridcolor\":\"white\",\"linecolor\":\"white\",\"showbackground\":true,\"ticks\":\"\",\"zerolinecolor\":\"white\",\"gridwidth\":2},\"zaxis\":{\"backgroundcolor\":\"#E5ECF6\",\"gridcolor\":\"white\",\"linecolor\":\"white\",\"showbackground\":true,\"ticks\":\"\",\"zerolinecolor\":\"white\",\"gridwidth\":2}},\"shapedefaults\":{\"line\":{\"color\":\"#2a3f5f\"}},\"annotationdefaults\":{\"arrowcolor\":\"#2a3f5f\",\"arrowhead\":0,\"arrowwidth\":1},\"geo\":{\"bgcolor\":\"white\",\"landcolor\":\"#E5ECF6\",\"subunitcolor\":\"white\",\"showland\":true,\"showlakes\":true,\"lakecolor\":\"white\"},\"title\":{\"x\":0.05},\"mapbox\":{\"style\":\"light\"}}},\"xaxis\":{\"anchor\":\"y\",\"domain\":[0.0,1.0],\"title\":{\"text\":\"Mass\"},\"type\":\"log\",\"tickvals\":[0.5,1,2,5,10,20,30],\"ticktext\":[\"0.5\",\"1\",\"2\",\"5\",\"10\",\"20\",\"30\"],\"dtick\":1},\"yaxis\":{\"anchor\":\"x\",\"domain\":[0.0,1.0],\"title\":{\"text\":\"Density\"}},\"hoverlabel\":{\"font\":{\"size\":16,\"family\":\"Rockwell\"},\"bgcolor\":\"white\"},\"updatemenus\":[{\"buttons\":[{\"args\":[{\"x\":[[1.66,6.26,1.32,1.86,1.84,2.82,5.77,7.49,8.64,24.5,4.6,2.42,2.31,6.38,1.76,2.33,2.47,7.02,15.4,6.69,7.57,3.09,8.8,1.58,6.14,4.78,4.0,1.374,1.308,0.388,0.692,1.039,1.321,0.326]],\"y\":[[1.1433756805807622,0.27041742286751363,0.7658802177858439,0.912885662431942,1.0163339382940109,1.2704174228675136,0.6696914700544465,0.7114337568058077,0.4355716878402904,0.5989110707803993,1.7422867513611615,0.9909255898366607,0.5753176043557169,1.4591651542649726,1.1016333938294012,1.2105263157894737,1.0725952813067152,0.5499092558983666,0.31578947368421056,1.3157894736842106,1.3774954627949183,0.6243194192377496,0.41379310344827586,1.0344827586206897,0.48638838475499097,0.5952813067150635,0.617059891107078,0.984573502722323,0.9885662431941924,0.7901996370235935,0.8865698729582577,0.9090744101633395,0.9150635208711434,0.7526315789473685]],\"marker.color\":[[529.0,576.0,1089.0,773.0,525.0,701.0,590.0,520.0,284.0,494.0,965.0,517.0,409.0,378.9,708.9,595.0,1000.0,397.0,329.0,775.0,921.0,1069.0,531.0,581.0,488.0,387.0,514.0,400.1,341.9,288.0,251.3,219.0,198.6,168.0]]}],\"label\":\"Data 1\",\"method\":\"restyle\"},{\"args\":[{\"x\":[[0.633,2.14,3.09,6.48,2.14,0.187,5.2,1.17,5.12,6.2,10.84,1.58,2.87,1.54,6.28,13.5,2.2,7.32,10.8,5.3]],\"y\":[[1.851179673321234,1.1252268602540836,0.852994555353902,0.6715063520871144,0.5408348457350273,0.5480943738656987,1.1070780399274047,0.24682395644283125,0.22867513611615245,0.29219600725952816,0.2631578947368421,1.223230490018149,1.2885662431941924,1.0108892921960073,0.4446460980036298,0.9800362976406535,0.5626134301270418,0.7005444646098004,0.3466424682395644,0.6352087114337568]],\"marker.color\":[[null,1700.0,null,1600.0,null,null,1250.0,null,null,null,null,700.0,null,null,null,null,null,null,null,593.0]]}],\"label\":\"Data 2\",\"method\":\"restyle\"},{\"args\":[{\"x\":[[1.66,6.26,1.32,1.86,1.84,2.82,5.77,7.49,8.64,24.5,4.6,2.42,2.31,6.38,1.76,2.33,2.47,7.02,15.4,6.69,7.57,3.09,8.8,1.58,6.14,4.78,4.0,1.374,1.308,0.388,0.692,1.039,1.321,0.326],[0.633,2.14,3.09,6.48,2.14,0.187,5.2,1.17,5.12,6.2,10.84,1.58,2.87,1.54,6.28,13.5,2.2,7.32,10.8,5.3]],\"y\":[[1.1433756805807622,0.27041742286751363,0.7658802177858439,0.912885662431942,1.0163339382940109,1.2704174228675136,0.6696914700544465,0.7114337568058077,0.4355716878402904,0.5989110707803993,1.7422867513611615,0.9909255898366607,0.5753176043557169,1.4591651542649726,1.1016333938294012,1.2105263157894737,1.0725952813067152,0.5499092558983666,0.31578947368421056,1.3157894736842106,1.3774954627949183,0.6243194192377496,0.41379310344827586,1.0344827586206897,0.48638838475499097,0.5952813067150635,0.617059891107078,0.984573502722323,0.9885662431941924,0.7901996370235935,0.8865698729582577,0.9090744101633395,0.9150635208711434,0.7526315789473685],[1.851179673321234,1.1252268602540836,0.852994555353902,0.6715063520871144,0.5408348457350273,0.5480943738656987,1.1070780399274047,0.24682395644283125,0.22867513611615245,0.29219600725952816,0.2631578947368421,1.223230490018149,1.2885662431941924,1.0108892921960073,0.4446460980036298,0.9800362976406535,0.5626134301270418,0.7005444646098004,0.3466424682395644,0.6352087114337568]],\"marker.color\":[[529.0,576.0,1089.0,773.0,525.0,701.0,590.0,520.0,284.0,494.0,965.0,517.0,409.0,378.9,708.9,595.0,1000.0,397.0,329.0,775.0,921.0,1069.0,531.0,581.0,488.0,387.0,514.0,400.1,341.9,288.0,251.3,219.0,198.6,168.0],[null,1700.0,null,1600.0,null,null,1250.0,null,null,null,null,700.0,null,null,null,null,null,null,null,593.0]]}],\"label\":\"Both Data\",\"method\":\"restyle\"}],\"direction\":\"down\",\"showactive\":true,\"x\":0.1,\"xanchor\":\"left\",\"y\":1.15,\"yanchor\":\"top\"}],\"title\":{\"text\":\"Interactive 2D Plot with Error Bars and Colormap\"},\"width\":800,\"height\":600},                        {\"responsive\": true}                    ).then(function(){\n",
       "                            \n",
       "var gd = document.getElementById('c8135018-18d6-44b3-97aa-0d963e078a05');\n",
       "var x = new MutationObserver(function (mutations, observer) {{\n",
       "        var display = window.getComputedStyle(gd).display;\n",
       "        if (!display || display === 'none') {{\n",
       "            console.log([gd, 'removed!']);\n",
       "            Plotly.purge(gd);\n",
       "            observer.disconnect();\n",
       "        }}\n",
       "}});\n",
       "\n",
       "// Listen for the removal of the full notebook cells\n",
       "var notebookContainer = gd.closest('#notebook-container');\n",
       "if (notebookContainer) {{\n",
       "    x.observe(notebookContainer, {childList: true});\n",
       "}}\n",
       "\n",
       "// Listen for the clearing of the current output cell\n",
       "var outputEl = gd.closest('.output');\n",
       "if (outputEl) {{\n",
       "    x.observe(outputEl, {childList: true});\n",
       "}}\n",
       "\n",
       "                        })                };                });            </script>        </div>"
      ]
     },
     "metadata": {},
     "output_type": "display_data"
    }
   ],
   "source": [
    "import plotly.graph_objects as go\n",
    "from plotly.subplots import make_subplots\n",
    "\n",
    "# Assuming you have error values for x and y coordinates for both datasets\n",
    "x_err1 = [np.abs(mass_low), mass_up]\n",
    "y_err1 = [np.divide(np.abs(density_low), earth_density), np.divide(density_up, earth_density)]\n",
    "x_err2 = [np.abs(mass_low2), mass_up2]\n",
    "y_err2 = [np.divide(np.abs(density_low2), earth_density), np.divide(density_up2, earth_density)]\n",
    "\n",
    "# Split the error values into low and high errors for x and y for both datasets\n",
    "error_x_low1, error_x_up1 = x_err1\n",
    "error_y_low1, error_y_up1 = y_err1\n",
    "error_x_low2, error_x_up2 = x_err2\n",
    "error_y_low2, error_y_up2 = y_err2\n",
    "\n",
    "# Round errors and density to 2 decimal places for both datasets\n",
    "# For Data 1\n",
    "error_x_low_rounded1 = [round(error, 2) for error in error_x_low1]\n",
    "error_x_up_rounded1 = [round(error, 2) for error in error_x_up1]\n",
    "error_y_low_rounded1 = [round(error, 2) for error in error_y_low1]\n",
    "error_y_up_rounded1 = [round(error, 2) for error in error_y_up1]\n",
    "density_rounded1 = [round(dens, 2) for dens in density]\n",
    "\n",
    "# For Data 2\n",
    "error_x_low_rounded2 = [round(error, 2) for error in error_x_low2]\n",
    "error_x_up_rounded2 = [round(error, 2) for error in error_x_up2]\n",
    "error_y_low_rounded2 = [round(error, 2) for error in error_y_low2]\n",
    "error_y_up_rounded2 = [round(error, 2) for error in error_y_up2]\n",
    "density_rounded2 = [round(dens, 2) for dens in density2]\n",
    "\n",
    "# Create hover text with desired information for both datasets\n",
    "hover_text1 = [\n",
    "    f\"Dataset: Mass<br>Planet name: {planet[i]}<br>Mass: {mass1[i]} +{error_x_up_rounded1[i]} -{error_x_low_rounded1[i]}<br>Density: {density_rounded1[i]} +{error_y_up_rounded1[i]} -{error_y_low_rounded1[i]}\"\n",
    "    for i in range(len(mass1))\n",
    "]\n",
    "\n",
    "hover_text2 = [\n",
    "    f\"Dataset: Mass2<br>Planet name: {planet[i]}<br>Mass: {mass2[i]} +{error_x_up_rounded2[i]} -{error_x_low_rounded2[i]}<br>Density: {density_rounded2[i]} +{error_y_up_rounded2[i]} -{error_y_low_rounded2[i]}\"\n",
    "    for i in range(len(mass2))\n",
    "]\n",
    "\n",
    "# Create subplots\n",
    "fig = make_subplots(rows=1, cols=1)\n",
    "\n",
    "# Scatter plot with colormap for the first dataset\n",
    "scatter1 = go.Scatter(\n",
    "    x=mass1,\n",
    "    y=np.divide(density1, earth_density),\n",
    "    mode='markers',\n",
    "    text=hover_text1,  # Use the custom hover text for Data 1\n",
    "    marker=dict(size=10, color=planet_eq1, colorscale='inferno'),\n",
    "    error_x=dict(type='data', array=error_x_low_rounded1, arrayminus=error_x_up_rounded1, visible=True),\n",
    "    error_y=dict(type='data', array=error_y_low_rounded1, arrayminus=error_y_up_rounded1, visible=True),\n",
    "    name='Data 1'\n",
    ")\n",
    "\n",
    "# Scatter plot with colormap for the second dataset\n",
    "scatter2 = go.Scatter(\n",
    "    x=mass2,\n",
    "    y=np.divide(density2, earth_density),\n",
    "    mode='markers',\n",
    "    text=hover_text2,  # Use the custom hover text for Data 2\n",
    "    marker=dict(size=10, color=planet_eq2, colorscale='inferno'),\n",
    "    error_x=dict(type='data', array=error_x_low_rounded2, arrayminus=error_x_up_rounded2, visible=True),\n",
    "    error_y=dict(type='data', array=error_y_low_rounded2, arrayminus=error_y_up_rounded2, visible=True),\n",
    "    name='Data 2'\n",
    ")\n",
    "\n",
    "# Add the first and second datasets to the plot\n",
    "fig.add_trace(scatter1)\n",
    "fig.add_trace(scatter2)\n",
    "\n",
    "\n",
    "# Define buttons to toggle between datasets\n",
    "buttons = [\n",
    "    {\n",
    "        'method': 'restyle',\n",
    "        'label': 'Data 1',\n",
    "        'args': [{'x': [mass1], 'y': [np.divide(density1, earth_density)], 'marker.color': [planet_eq1]}]\n",
    "    },\n",
    "    {\n",
    "        'method': 'restyle',\n",
    "        'label': 'Data 2',\n",
    "        'args': [{'x': [mass2], 'y': [np.divide(density2, earth_density)], 'marker.color': [planet_eq2]}]\n",
    "    },\n",
    "    {\n",
    "        'method': 'restyle',\n",
    "        'label': 'Both Data',\n",
    "        'args': [{'x': [mass1, mass2], 'y': [np.divide(density1, earth_density), np.divide(density2, earth_density)],\n",
    "                  'marker.color': [planet_eq1, planet_eq2]}]\n",
    "    }\n",
    "]\n",
    "\n",
    "# Create updatemenus dropdown\n",
    "fig.update_layout(\n",
    "    updatemenus=[\n",
    "        {\n",
    "            'buttons': buttons,\n",
    "            'direction': 'down',\n",
    "            'showactive': True,\n",
    "            'x': 0.1,\n",
    "            'xanchor': 'left',\n",
    "            'y': 1.15,\n",
    "            'yanchor': 'top'\n",
    "        },\n",
    "    ],\n",
    "    title='Interactive 2D Plot with Error Bars and Colormap',\n",
    "    xaxis=dict(\n",
    "        title='Mass',\n",
    "        type='log',  # Log scale the x-axis\n",
    "        tickvals=[0.5, 1, 2, 5, 10, 20, 30],  # Custom tick positions\n",
    "        ticktext=[\"0.5\", \"1\", \"2\", \"5\", \"10\", \"20\", \"30\"],  # Custom tick labels\n",
    "        dtick=1  # Spacing between ticks\n",
    "    ),\n",
    "    yaxis=dict(title='Density'),\n",
    "    hoverlabel=dict(\n",
    "        bgcolor=\"white\",\n",
    "        font_size=16,\n",
    "        font_family=\"Rockwell\"\n",
    "    ),\n",
    "    width=800,  # Adjust the width of the figure\n",
    "    height=600  # Adjust the height of the figure\n",
    ")\n",
    "\n",
    "fig.show()\n"
   ]
  }
 ],
 "metadata": {
  "kernelspec": {
   "display_name": "Python 3 (ipykernel)",
   "language": "python",
   "name": "python3"
  },
  "language_info": {
   "codemirror_mode": {
    "name": "ipython",
    "version": 3
   },
   "file_extension": ".py",
   "mimetype": "text/x-python",
   "name": "python",
   "nbconvert_exporter": "python",
   "pygments_lexer": "ipython3",
   "version": "3.11.5"
  }
 },
 "nbformat": 4,
 "nbformat_minor": 5
}
