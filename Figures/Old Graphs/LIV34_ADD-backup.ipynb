{
 "cells": [
  {
   "cell_type": "code",
   "execution_count": 1,
   "id": "7e9bdec8",
   "metadata": {},
   "outputs": [],
   "source": [
    "import numpy as np\n",
    "import pandas as pd\n",
    "from matplotlib import pyplot as plt\n",
    "import scipy\n",
    "import seaborn as sns\n",
    "import plotly.graph_objects as go\n",
    "import warnings\n",
    "warnings.filterwarnings(\"ignore\")\n",
    "\n",
    "earth_density    = 5.51   # [g/cm**3]"
   ]
  },
  {
   "cell_type": "code",
   "execution_count": 2,
   "id": "d7bbcb5c",
   "metadata": {},
   "outputs": [],
   "source": [
    "dataEA = pd.read_csv(r\"C:\\Users\\silke\\OneDrive\\Skrivebord\\Thesis\\Exoplanet_Archive.csv\",delimiter=\",\")\n",
    "dataLI = pd.read_csv(r\"C:\\Users\\silke\\OneDrive\\Skrivebord\\Thesis\\STPM_improved_210721.csv\",delimiter=\",\")\n",
    "planet_name_LI        = list(dataLI[\"Star\"]+\" \"+dataLI[\"Planet\"])\n",
    "\n",
    "earth_like_rocky  = pd.read_csv(r\"C:\\Users\\silke\\OneDrive\\Skrivebord\\Thesis\\Mass_Radius_Curves\\Earth-like Rocky (32.5% Fe+67.5% MgSiO3).txt\",delimiter = \"\\t\")\n",
    "H20_50_500K       = pd.read_csv(r\"C:\\Users\\silke\\OneDrive\\Skrivebord\\Thesis\\Mass_Radius_Curves\\50% H2O (50% Earth-like rocky core + 50% H2O layer by mass)_500 K_1mili-bar surface temprture.txt\",delimiter = \"\\t\")"
   ]
  },
  {
   "cell_type": "code",
   "execution_count": 3,
   "id": "788d56aa",
   "metadata": {},
   "outputs": [],
   "source": [
    "# Luque Impoved\n",
    "planet_id_LI         = dataLI.ID\n",
    "star_name_LI         = dataLI.Star\n",
    "planet_letter_LI     = dataLI.Planet\n",
    "\n",
    "radius_LI            = dataLI.R_Rterra            # [Earth Radius]\n",
    "radius_unc_up_LI     = dataLI.euR_Rterra          # [Earth Radius] Upper Unc.\n",
    "radius_unc_low_LI    = dataLI.edR_Rterra          # [Earth Radius] Lower Unc.\n",
    "\n",
    "mass_LI              = dataLI.M_Mterra            # [Earth Mass] - Planet Mass or Mass*sin(i) [Earth Mass]\n",
    "mass_unc_up_LI       = dataLI.euM_Mterra          # [Earth Mass] Upper Unc.\n",
    "mass_unc_low_LI      = dataLI.edM_Mterra          # [Earth Mass] Lower Unc.\n",
    "\n",
    "density_LI           = dataLI[dataLI.columns[32]]  # [g/cm**3]\n",
    "density_unc_up_LI    = dataLI[dataLI.columns[33]]  # [g/cm**3] Planet Density Upper Unc. \n",
    "density_unc_low_LI   = dataLI[dataLI.columns[34]]  # [g/cm**3] Planet Density Lower Unc\n",
    "pl_eq_LI             = dataLI.Teq_K                # [K] Equilibrium Temperature\n",
    "\n",
    "\n",
    "# Exoplanet Archive\n",
    "planet_name_EA       = dataEA.pl_name\n",
    "planet_id_EA         = list(range(0,len(planet_name_EA)))\n",
    "\n",
    "radius_EA            = dataEA.pl_rade            # [Earth Radius]\n",
    "period_EA            = dataEA.pl_orbper          # [days]\n",
    "radius_unc_up_EA     = dataEA.pl_radeerr1        # [Earth Radius] Upper Unc.\n",
    "radius_unc_low_EA    = dataEA.pl_radeerr2        # [Earth Radius] Lower Unc.\n",
    "mass_EA              = dataEA.pl_bmasse          # [Earth Mass] - Planet Mass or Mass*sin(i) [Earth Mass]\n",
    "\n",
    "mass_unc_up_EA       = dataEA.pl_bmasseerr1      # [Earth Mass] Upper Unc.\n",
    "mass_unc_low_EA      = dataEA.pl_bmasseerr2      # [Earth Mass] Lower Unc.\n",
    "\n",
    "density_EA           = dataEA.pl_dens            # [g/cm**3]\n",
    "density_unc_up_EA    = dataEA.pl_denserr1        # [g/cm**3] Planet Density Upper Unc. \n",
    "density_unc_low_EA   = dataEA.pl_denserr2        # [g/cm**3] Planet Density Lower Unc. \n",
    "st_spectype_EA       = dataEA.st_spectype        # Spectral type of star\n",
    "pl_eq_EA             = dataEA.pl_eqt             # [K] Equilibrium Temperature\n",
    "\n",
    "for i in range(0,len(planet_name_LI)):\n",
    "    if planet_name_LI[i] == 'CD-60 8051 b':\n",
    "        planet_name_LI[i] = 'L 168-9 b'\n",
    "    if planet_name_LI[i] == 'GJ 3053 b':\n",
    "        planet_name_LI[i] = 'LHS 1140 b'\n",
    "    if planet_name_LI[i] == 'GJ 3053 c':\n",
    "        planet_name_LI[i] = 'LHS 1140 c'\n",
    "\n",
    "##### Use the Luque values for planets in that sample #### \n",
    "for i in range(0,len(planet_name_EA)):\n",
    "    if planet_name_EA[i] in planet_name_LI:\n",
    "        LI_index              = planet_name_LI.index(planet_name_EA[i])\n",
    "        \n",
    "        pl_eq_EA[i]           = pl_eq_LI[LI_index]\n",
    "        mass_EA[i]            = mass_LI[LI_index]\n",
    "        mass_unc_up_EA[i]     = mass_unc_up_LI[LI_index]\n",
    "        mass_unc_low_EA[i]    = mass_unc_low_LI[LI_index]\n",
    "        \n",
    "        radius_EA[i]          = radius_LI[LI_index]\n",
    "        radius_unc_up_EA[i]   = radius_unc_up_LI[LI_index]      \n",
    "        radius_unc_low_EA[i]  = radius_unc_low_LI[LI_index]    \n",
    "\n",
    "        density_EA[i]         = density_LI[LI_index]  \n",
    "        density_unc_up_EA[i]  = density_unc_up_LI[LI_index]  \n",
    "        density_unc_low_EA[i] = density_unc_low_LI[LI_index] \n",
    "        st_spectype_EA[i]     = \"M\""
   ]
  },
  {
   "cell_type": "markdown",
   "id": "357bb7e2",
   "metadata": {},
   "source": [
    "# Filters"
   ]
  },
  {
   "cell_type": "markdown",
   "id": "5bb18deb",
   "metadata": {},
   "source": [
    "### Choose LIV34"
   ]
  },
  {
   "cell_type": "code",
   "execution_count": 4,
   "id": "6d9bd3c4",
   "metadata": {},
   "outputs": [],
   "source": [
    "def liv34(EA_planets):\n",
    "    LIV34_planets = [\"K2-146 b\",'TRAPPIST-1 h', 'TRAPPIST-1 d', 'TRAPPIST-1 e', 'TRAPPIST-1 f', 'TRAPPIST-1 g', 'TRAPPIST-1 c', 'TRAPPIST-1 b', 'GJ 1132 b', 'TOI-270 b', 'LHS 1140 c', 'GJ 1252 b', 'GJ 357 b', 'LTT 3780 b', 'LHS 1478 b', 'GJ 486 b', 'GJ 3473 b', 'L 168-9 b', 'L 98-59 c', 'L 98-59 d', 'LHS 1140 b', 'TOI-270 d', 'TOI-776 b', 'TOI-1634 b', 'TOI-1685 b', 'TOI-1235 b', 'K2-146 c', 'LTT 3780 c', 'TOI-270 c', 'K2-18 b', 'TOI-269 b', 'GJ 1214 b', 'K2-25 b', 'TOI-1231 b'] \n",
    "    planet      = []; planet_i      = []; planet_eq   = []; \n",
    "    radius      = []; radius_up     = []; radius_low  = []\n",
    "    mass        = []; mass_up       = []; mass_low    = []\n",
    "    density     = []; density_up    = []; density_low = []\n",
    "    \n",
    "    for i in range(0,len(EA_planets)):\n",
    "        if EA_planets[i] in LIV34_planets:\n",
    "            index  = list(planet_name_EA).index(EA_planets[i]); planet.append(dataEA.pl_name[index])\n",
    "            planet_eq.append(pl_eq_EA[i])\n",
    "            radius.append(dataEA.pl_rade[index]); radius_up.append(dataEA.pl_radeerr1[index]); radius_low.append(dataEA.pl_radeerr2[index])\n",
    "            density.append(dataEA.pl_dens[index]); density_up.append(dataEA.pl_denserr1[index]); density_low.append(dataEA.pl_denserr2[index])\n",
    "            mass.append(dataEA.pl_bmasse[index]); mass_up.append(dataEA.pl_bmasseerr1[index]);  mass_low.append(dataEA.pl_bmasseerr2[index])\n",
    "    return index,planet,radius,radius_up,radius_low,density,density_up,density_low,mass,mass_up,mass_low,planet_eq"
   ]
  },
  {
   "cell_type": "markdown",
   "id": "021c2e99",
   "metadata": {},
   "source": [
    "## Plot data"
   ]
  },
  {
   "cell_type": "code",
   "execution_count": 33,
   "id": "098749e4",
   "metadata": {},
   "outputs": [
    {
     "data": {
      "application/vnd.plotly.v1+json": {
       "config": {
        "plotlyServerURL": "https://plot.ly"
       },
       "data": [
        {
         "error_x": {
          "array": [
           0.23,
           0.86,
           0.28,
           0.3,
           0.31,
           0.11,
           0.18,
           0.24,
           1.35,
           5.7,
           0.56,
           0.35,
           0.46,
           0.46,
           0.17,
           0.2,
           0.24,
           0.69,
           3.3,
           0.67,
           0.71,
           0.59,
           1.4,
           0.26,
           0.38,
           0.46,
           0.9,
           0.069,
           0.056,
           0.012,
           0.022,
           0.031,
           0.038,
           0.02
          ],
          "arrayminus": [
           0.23,
           0.86,
           0.28,
           0.3,
           0.31,
           0.12,
           0.18,
           0.24,
           1.35,
           5.2,
           0.56,
           0.34,
           0.45,
           0.44,
           0.16,
           0.2,
           0.24,
           0.67,
           3.3,
           0.69,
           0.72,
           0.58,
           1.4,
           0.26,
           0.38,
           0.46,
           0.9,
           0.069,
           0.056,
           0.012,
           0.022,
           0.031,
           0.038,
           0.02
          ],
          "color": "rgba(169, 169, 169, 0.7)",
          "type": "data",
          "visible": true
         },
         "error_y": {
          "array": [
           0.23593466424682397,
           0.07622504537205081,
           0.24319419237749548,
           0.1941923774954628,
           0.308529945553539,
           0.2177858439201452,
           0.038112522686025406,
           0.049001814882032674,
           0.07259528130671507,
           0.14519056261343014,
           0.4355716878402904,
           0.22323049001814882,
           0.1542649727767695,
           0.15245009074410162,
           0.14700544464609802,
           0.1869328493647913,
           0.1960072595281307,
           0.11978221415607987,
           0.0852994555353902,
           0.23593466424682397,
           0.2413793103448276,
           0.1560798548094374,
           0.08711433756805807,
           0.2177858439201452,
           0.0544464609800363,
           0.08166969147005446,
           0.19963702359346644,
           0.04809437386569873,
           0.040290381125226864,
           0.028312159709618877,
           0.030490018148820328,
           0.0250453720508167,
           0.024682395644283123,
           0.05843920145190563
          ],
          "arrayminus": [
           0.23593466424682397,
           0.059891107078039935,
           0.19963702359346644,
           0.16878402903811254,
           0.23593466424682397,
           0.18148820326678766,
           0.038112522686025406,
           0.049001814882032674,
           0.07259528130671507,
           0.14519056261343014,
           0.3266787658802178,
           0.19056261343012706,
           0.132486388384755,
           0.14519056261343014,
           0.13430127041742287,
           0.16152450090744103,
           0.16152450090744103,
           0.09800362976406535,
           0.07622504537205081,
           0.19963702359346644,
           0.20689655172413793,
           0.13430127041742287,
           0.07622504537205081,
           0.2177858439201452,
           0.0544464609800363,
           0.08166969147005446,
           0.1633393829401089,
           0.049364791288566245,
           0.0426497277676951,
           0.029582577132486392,
           0.033030852994555354,
           0.028675136116152453,
           0.028675136116152453,
           0.054809437386569876
          ],
          "color": "rgba(169, 169, 169, 0.7)",
          "type": "data",
          "visible": true
         },
         "hoverinfo": "text",
         "marker": {
          "color": [
           529,
           576,
           1089,
           773,
           525,
           701,
           590,
           520,
           284,
           494,
           965,
           517,
           409,
           378.9,
           708.9,
           595,
           1000,
           397,
           329,
           775,
           921,
           1069,
           531,
           581,
           488,
           387,
           514,
           400.1,
           341.9,
           288,
           251.3,
           219,
           198.6,
           168
          ],
          "colorbar": {
           "title": {
            "text": "Temperature"
           }
          },
          "colorscale": [
           [
            0,
            "#000004"
           ],
           [
            0.1111111111111111,
            "#1b0c41"
           ],
           [
            0.2222222222222222,
            "#4a0c6b"
           ],
           [
            0.3333333333333333,
            "#781c6d"
           ],
           [
            0.4444444444444444,
            "#a52c60"
           ],
           [
            0.5555555555555556,
            "#cf4446"
           ],
           [
            0.6666666666666666,
            "#ed6925"
           ],
           [
            0.7777777777777778,
            "#fb9b06"
           ],
           [
            0.8888888888888888,
            "#f7d13d"
           ],
           [
            1,
            "#fcffa4"
           ]
          ],
          "showscale": true,
          "size": 12
         },
         "mode": "markers",
         "name": "Mass, Density - Data 1",
         "text": [
          "Dataset: LIV34<br>Planet: GJ 1132 b<br>Mass: 1.66 +0.23 -0.23 (13.86% relative error)<br>Density: 6.30 +0.24 -0.24 (3.74% relative error)<br>Radius: 1.13 +0.06 -0.06 (4.96% relative error)",
          "Dataset: LIV34<br>Planet: GJ 1214 b<br>Mass: 6.26 +0.86 -0.86 (13.74% relative error)<br>Density: 1.49 +0.08 -0.06 (5.12% relative error)<br>Radius: 2.85 +0.20 -0.20 (7.02% relative error)",
          "Dataset: LIV34<br>Planet: GJ 1252 b<br>Mass: 1.32 +0.28 -0.28 (21.21% relative error)<br>Density: 4.22 +0.24 -0.20 (5.76% relative error)<br>Radius: 1.193 +0.07 -0.07 (6.20% relative error)",
          "Dataset: LIV34<br>Planet: GJ 3473 b<br>Mass: 1.86 +0.30 -0.30 (16.13% relative error)<br>Density: 5.03 +0.19 -0.17 (3.86% relative error)<br>Radius: 1.264 +0.05 -0.05 (3.96% relative error)",
          "Dataset: LIV34<br>Planet: GJ 357 b<br>Mass: 1.84 +0.31 -0.31 (16.85% relative error)<br>Density: 5.60 +0.31 -0.24 (5.51% relative error)<br>Radius: 1.217 +0.08 -0.08 (6.90% relative error)",
          "Dataset: LIV34<br>Planet: GJ 486 b<br>Mass: 2.82 +0.11 -0.12 (3.90% relative error)<br>Density: 7.00 +0.22 -0.18 (3.11% relative error)<br>Radius: 1.305 +0.06 -0.07 (4.83% relative error)",
          "Dataset: LIV34<br>Planet: K2-146 b<br>Mass: 5.77 +0.18 -0.18 (3.12% relative error)<br>Density: 3.69 +0.04 -0.04 (1.03% relative error)<br>Radius: 2.05 +0.06 -0.06 (2.93% relative error)",
          "Dataset: LIV34<br>Planet: K2-146 c<br>Mass: 7.49 +0.24 -0.24 (3.20% relative error)<br>Density: 3.92 +0.05 -0.05 (1.25% relative error)<br>Radius: 2.19 +0.07 -0.07 (3.20% relative error)",
          "Dataset: LIV34<br>Planet: K2-18 b<br>Mass: 8.64 +1.35 -1.35 (15.62% relative error)<br>Density: 2.40 +0.07 -0.07 (3.02% relative error)<br>Radius: 2.711 +0.07 -0.07 (2.40% relative error)",
          "Dataset: LIV34<br>Planet: K2-25 b<br>Mass: 24.5 +5.70 -5.20 (23.27% relative error)<br>Density: 3.30 +0.15 -0.15 (4.40% relative error)<br>Radius: 3.44 +0.12 -0.12 (3.49% relative error)",
          "Dataset: LIV34<br>Planet: L 168-9 b<br>Mass: 4.6 +0.56 -0.56 (12.17% relative error)<br>Density: 9.60 +0.44 -0.33 (4.54% relative error)<br>Radius: 1.39 +0.09 -0.09 (6.47% relative error)",
          "Dataset: LIV34<br>Planet: L 98-59 c<br>Mass: 2.42 +0.35 -0.34 (14.46% relative error)<br>Density: 5.46 +0.22 -0.19 (4.09% relative error)<br>Radius: 1.34 +0.07 -0.07 (5.22% relative error)",
          "Dataset: LIV34<br>Planet: L 98-59 d<br>Mass: 2.31 +0.46 -0.45 (19.91% relative error)<br>Density: 3.17 +0.15 -0.13 (4.87% relative error)<br>Radius: 1.58 +0.08 -0.08 (5.06% relative error)",
          "Dataset: LIV34<br>Planet: LHS 1140 b<br>Mass: 6.38 +0.46 -0.44 (7.21% relative error)<br>Density: 8.04 +0.15 -0.15 (1.90% relative error)<br>Radius: 1.635 +0.05 -0.05 (2.81% relative error)",
          "Dataset: LIV34<br>Planet: LHS 1140 c<br>Mass: 1.76 +0.17 -0.16 (9.66% relative error)<br>Density: 6.07 +0.15 -0.13 (2.42% relative error)<br>Radius: 1.169 +0.04 -0.04 (3.17% relative error)",
          "Dataset: LIV34<br>Planet: LHS 1478 b<br>Mass: 2.33 +0.20 -0.20 (8.58% relative error)<br>Density: 6.67 +0.19 -0.16 (2.80% relative error)<br>Radius: 1.242 +0.05 -0.05 (4.11% relative error)",
          "Dataset: LIV34<br>Planet: LTT 3780 b<br>Mass: 2.47 +0.24 -0.24 (9.72% relative error)<br>Density: 5.91 +0.20 -0.16 (3.32% relative error)<br>Radius: 1.32 +0.06 -0.06 (4.55% relative error)",
          "Dataset: LIV34<br>Planet: LTT 3780 c<br>Mass: 7.02 +0.69 -0.67 (9.83% relative error)<br>Density: 3.03 +0.12 -0.10 (3.95% relative error)<br>Radius: 2.33 +0.14 -0.13 (6.01% relative error)",
          "Dataset: LIV34<br>Planet: TOI-1231 b<br>Mass: 15.4 +3.30 -3.30 (21.43% relative error)<br>Density: 1.74 +0.09 -0.08 (4.90% relative error)<br>Radius: 3.65 +0.16 -0.15 (4.38% relative error)",
          "Dataset: LIV34<br>Planet: TOI-1235 b<br>Mass: 6.69 +0.67 -0.69 (10.01% relative error)<br>Density: 7.25 +0.24 -0.20 (3.25% relative error)<br>Radius: 1.694 +0.08 -0.08 (4.72% relative error)",
          "Dataset: LIV34<br>Planet: TOI-1634 b<br>Mass: 7.57 +0.71 -0.72 (9.38% relative error)<br>Density: 7.59 +0.24 -0.21 (3.18% relative error)<br>Radius: 1.773 +0.08 -0.08 (4.34% relative error)",
          "Dataset: LIV34<br>Planet: TOI-1685 b<br>Mass: 3.09 +0.59 -0.58 (19.09% relative error)<br>Density: 3.44 +0.16 -0.13 (4.54% relative error)<br>Radius: 1.7 +0.07 -0.07 (4.12% relative error)",
          "Dataset: LIV34<br>Planet: TOI-269 b<br>Mass: 8.8 +1.40 -1.40 (15.91% relative error)<br>Density: 2.28 +0.09 -0.08 (3.82% relative error)<br>Radius: 2.77 +0.12 -0.12 (4.33% relative error)",
          "Dataset: LIV34<br>Planet: TOI-270 b<br>Mass: 1.58 +0.26 -0.26 (16.46% relative error)<br>Density: 5.70 +0.22 -0.22 (3.82% relative error)<br>Radius: 1.151 +0.05 -0.05 (4.34% relative error)",
          "Dataset: LIV34<br>Planet: TOI-270 c<br>Mass: 6.14 +0.38 -0.38 (6.19% relative error)<br>Density: 2.68 +0.05 -0.05 (2.03% relative error)<br>Radius: 2.332 +0.07 -0.07 (3.09% relative error)",
          "Dataset: LIV34<br>Planet: TOI-270 d<br>Mass: 4.78 +0.46 -0.46 (9.62% relative error)<br>Density: 3.28 +0.08 -0.08 (2.49% relative error)<br>Radius: 2.005 +0.07 -0.07 (3.34% relative error)",
          "Dataset: LIV34<br>Planet: TOI-776 b<br>Mass: 4.0 +0.90 -0.90 (22.50% relative error)<br>Density: 3.40 +0.20 -0.16 (5.87% relative error)<br>Radius: 1.85 +0.13 -0.13 (7.03% relative error)",
          "Dataset: LIV34<br>Planet: TRAPPIST-1 b<br>Mass: 1.374 +0.07 -0.07 (5.02% relative error)<br>Density: 5.42 +0.05 -0.05 (0.89% relative error)<br>Radius: 1.116 +0.01 -0.01 (1.25% relative error)",
          "Dataset: LIV34<br>Planet: TRAPPIST-1 c<br>Mass: 1.308 +0.06 -0.06 (4.28% relative error)<br>Density: 5.45 +0.04 -0.04 (0.74% relative error)<br>Radius: 1.097 +0.01 -0.01 (1.28% relative error)",
          "Dataset: LIV34<br>Planet: TRAPPIST-1 d<br>Mass: 0.388 +0.01 -0.01 (3.09% relative error)<br>Density: 4.35 +0.03 -0.03 (0.65% relative error)<br>Radius: 0.788 +0.01 -0.01 (1.40% relative error)",
          "Dataset: LIV34<br>Planet: TRAPPIST-1 e<br>Mass: 0.692 +0.02 -0.02 (3.18% relative error)<br>Density: 4.88 +0.03 -0.03 (0.62% relative error)<br>Radius: 0.92 +0.01 -0.01 (1.41% relative error)",
          "Dataset: LIV34<br>Planet: TRAPPIST-1 f<br>Mass: 1.039 +0.03 -0.03 (2.98% relative error)<br>Density: 5.01 +0.03 -0.03 (0.50% relative error)<br>Radius: 1.045 +0.01 -0.01 (1.24% relative error)",
          "Dataset: LIV34<br>Planet: TRAPPIST-1 g<br>Mass: 1.321 +0.04 -0.04 (2.88% relative error)<br>Density: 5.04 +0.02 -0.03 (0.49% relative error)<br>Radius: 1.129 +0.01 -0.01 (1.33% relative error)",
          "Dataset: LIV34<br>Planet: TRAPPIST-1 h<br>Mass: 0.326 +0.02 -0.02 (6.13% relative error)<br>Density: 4.15 +0.06 -0.05 (1.41% relative error)<br>Radius: 0.755 +0.01 -0.01 (1.85% relative error)"
         ],
         "type": "scatter",
         "x": [
          1.66,
          6.26,
          1.32,
          1.86,
          1.84,
          2.82,
          5.77,
          7.49,
          8.64,
          24.5,
          4.6,
          2.42,
          2.31,
          6.38,
          1.76,
          2.33,
          2.47,
          7.02,
          15.4,
          6.69,
          7.57,
          3.09,
          8.8,
          1.58,
          6.14,
          4.78,
          4,
          1.374,
          1.308,
          0.388,
          0.692,
          1.039,
          1.321,
          0.326
         ],
         "y": [
          1.1433756805807622,
          0.27041742286751363,
          0.7658802177858439,
          0.912885662431942,
          1.0163339382940109,
          1.2704174228675136,
          0.6696914700544465,
          0.7114337568058077,
          0.4355716878402904,
          0.5989110707803993,
          1.7422867513611615,
          0.9909255898366607,
          0.5753176043557169,
          1.4591651542649726,
          1.1016333938294012,
          1.2105263157894737,
          1.0725952813067152,
          0.5499092558983666,
          0.31578947368421056,
          1.3157894736842106,
          1.3774954627949183,
          0.6243194192377496,
          0.41379310344827586,
          1.0344827586206897,
          0.48638838475499097,
          0.5952813067150635,
          0.617059891107078,
          0.984573502722323,
          0.9885662431941924,
          0.7901996370235935,
          0.8865698729582577,
          0.9090744101633395,
          0.9150635208711434,
          0.7526315789473685
         ]
        },
        {
         "error_x": {
          "array": [
           0.23,
           0.86,
           0.28,
           0.3,
           0.31,
           0.11,
           0.18,
           0.24,
           1.35,
           5.7,
           0.56,
           0.35,
           0.46,
           0.46,
           0.17,
           0.2,
           0.24,
           0.69,
           3.3,
           0.67,
           0.71,
           0.59,
           1.4,
           0.26,
           0.38,
           0.46,
           0.9,
           0.069,
           0.056,
           0.012,
           0.022,
           0.031,
           0.038,
           0.02
          ],
          "arrayminus": [
           0.23,
           0.86,
           0.28,
           0.3,
           0.31,
           0.12,
           0.18,
           0.24,
           1.35,
           5.2,
           0.56,
           0.34,
           0.45,
           0.44,
           0.16,
           0.2,
           0.24,
           0.67,
           3.3,
           0.69,
           0.72,
           0.58,
           1.4,
           0.26,
           0.38,
           0.46,
           0.9,
           0.069,
           0.056,
           0.012,
           0.022,
           0.031,
           0.038,
           0.02
          ],
          "color": "rgba(169, 169, 169, 0.7)",
          "type": "data",
          "visible": true
         },
         "error_y": {
          "array": [
           0.056,
           0.2,
           0.074,
           0.05,
           0.084,
           0.063,
           0.06,
           0.07,
           0.065,
           0.12,
           0.09,
           0.07,
           0.08,
           0.046,
           0.037,
           0.051,
           0.06,
           0.14,
           0.16,
           0.08,
           0.077,
           0.07,
           0.12,
           0.05,
           0.072,
           0.067,
           0.13,
           0.014,
           0.014,
           0.011,
           0.013,
           0.013,
           0.015,
           0.014
          ],
          "arrayminus": [
           0.056,
           0.2,
           0.074,
           0.049,
           0.083,
           0.067,
           0.06,
           0.07,
           0.065,
           0.12,
           0.09,
           0.07,
           0.08,
           0.046,
           0.038,
           0.049,
           0.06,
           0.13,
           0.15,
           0.077,
           0.077,
           0.07,
           0.12,
           0.05,
           0.072,
           0.067,
           0.13,
           0.012,
           0.012,
           0.01,
           0.012,
           0.012,
           0.015,
           0.014
          ],
          "color": "rgba(169, 169, 169, 0.7)",
          "type": "data",
          "visible": true
         },
         "hoverinfo": "text",
         "marker": {
          "color": [
           529,
           576,
           1089,
           773,
           525,
           701,
           590,
           520,
           284,
           494,
           965,
           517,
           409,
           378.9,
           708.9,
           595,
           1000,
           397,
           329,
           775,
           921,
           1069,
           531,
           581,
           488,
           387,
           514,
           400.1,
           341.9,
           288,
           251.3,
           219,
           198.6,
           168
          ],
          "colorbar": {
           "title": {
            "text": "Temperature"
           }
          },
          "colorscale": [
           [
            0,
            "#000004"
           ],
           [
            0.1111111111111111,
            "#1b0c41"
           ],
           [
            0.2222222222222222,
            "#4a0c6b"
           ],
           [
            0.3333333333333333,
            "#781c6d"
           ],
           [
            0.4444444444444444,
            "#a52c60"
           ],
           [
            0.5555555555555556,
            "#cf4446"
           ],
           [
            0.6666666666666666,
            "#ed6925"
           ],
           [
            0.7777777777777778,
            "#fb9b06"
           ],
           [
            0.8888888888888888,
            "#f7d13d"
           ],
           [
            1,
            "#fcffa4"
           ]
          ],
          "showscale": true,
          "size": 12
         },
         "mode": "markers",
         "name": "Mass, Radius - Data 4",
         "text": [
          "Dataset: LIV34<br>Planet: GJ 1132 b<br>Mass: 1.66 +0.23 -0.23 (13.86% relative error)<br>Density: 6.30 +0.24 -0.24 (3.74% relative error)<br>Radius: 1.13 +0.06 -0.06 (4.96% relative error)",
          "Dataset: LIV34<br>Planet: GJ 1214 b<br>Mass: 6.26 +0.86 -0.86 (13.74% relative error)<br>Density: 1.49 +0.08 -0.06 (5.12% relative error)<br>Radius: 2.85 +0.20 -0.20 (7.02% relative error)",
          "Dataset: LIV34<br>Planet: GJ 1252 b<br>Mass: 1.32 +0.28 -0.28 (21.21% relative error)<br>Density: 4.22 +0.24 -0.20 (5.76% relative error)<br>Radius: 1.193 +0.07 -0.07 (6.20% relative error)",
          "Dataset: LIV34<br>Planet: GJ 3473 b<br>Mass: 1.86 +0.30 -0.30 (16.13% relative error)<br>Density: 5.03 +0.19 -0.17 (3.86% relative error)<br>Radius: 1.264 +0.05 -0.05 (3.96% relative error)",
          "Dataset: LIV34<br>Planet: GJ 357 b<br>Mass: 1.84 +0.31 -0.31 (16.85% relative error)<br>Density: 5.60 +0.31 -0.24 (5.51% relative error)<br>Radius: 1.217 +0.08 -0.08 (6.90% relative error)",
          "Dataset: LIV34<br>Planet: GJ 486 b<br>Mass: 2.82 +0.11 -0.12 (3.90% relative error)<br>Density: 7.00 +0.22 -0.18 (3.11% relative error)<br>Radius: 1.305 +0.06 -0.07 (4.83% relative error)",
          "Dataset: LIV34<br>Planet: K2-146 b<br>Mass: 5.77 +0.18 -0.18 (3.12% relative error)<br>Density: 3.69 +0.04 -0.04 (1.03% relative error)<br>Radius: 2.05 +0.06 -0.06 (2.93% relative error)",
          "Dataset: LIV34<br>Planet: K2-146 c<br>Mass: 7.49 +0.24 -0.24 (3.20% relative error)<br>Density: 3.92 +0.05 -0.05 (1.25% relative error)<br>Radius: 2.19 +0.07 -0.07 (3.20% relative error)",
          "Dataset: LIV34<br>Planet: K2-18 b<br>Mass: 8.64 +1.35 -1.35 (15.62% relative error)<br>Density: 2.40 +0.07 -0.07 (3.02% relative error)<br>Radius: 2.711 +0.07 -0.07 (2.40% relative error)",
          "Dataset: LIV34<br>Planet: K2-25 b<br>Mass: 24.5 +5.70 -5.20 (23.27% relative error)<br>Density: 3.30 +0.15 -0.15 (4.40% relative error)<br>Radius: 3.44 +0.12 -0.12 (3.49% relative error)",
          "Dataset: LIV34<br>Planet: L 168-9 b<br>Mass: 4.6 +0.56 -0.56 (12.17% relative error)<br>Density: 9.60 +0.44 -0.33 (4.54% relative error)<br>Radius: 1.39 +0.09 -0.09 (6.47% relative error)",
          "Dataset: LIV34<br>Planet: L 98-59 c<br>Mass: 2.42 +0.35 -0.34 (14.46% relative error)<br>Density: 5.46 +0.22 -0.19 (4.09% relative error)<br>Radius: 1.34 +0.07 -0.07 (5.22% relative error)",
          "Dataset: LIV34<br>Planet: L 98-59 d<br>Mass: 2.31 +0.46 -0.45 (19.91% relative error)<br>Density: 3.17 +0.15 -0.13 (4.87% relative error)<br>Radius: 1.58 +0.08 -0.08 (5.06% relative error)",
          "Dataset: LIV34<br>Planet: LHS 1140 b<br>Mass: 6.38 +0.46 -0.44 (7.21% relative error)<br>Density: 8.04 +0.15 -0.15 (1.90% relative error)<br>Radius: 1.635 +0.05 -0.05 (2.81% relative error)",
          "Dataset: LIV34<br>Planet: LHS 1140 c<br>Mass: 1.76 +0.17 -0.16 (9.66% relative error)<br>Density: 6.07 +0.15 -0.13 (2.42% relative error)<br>Radius: 1.169 +0.04 -0.04 (3.17% relative error)",
          "Dataset: LIV34<br>Planet: LHS 1478 b<br>Mass: 2.33 +0.20 -0.20 (8.58% relative error)<br>Density: 6.67 +0.19 -0.16 (2.80% relative error)<br>Radius: 1.242 +0.05 -0.05 (4.11% relative error)",
          "Dataset: LIV34<br>Planet: LTT 3780 b<br>Mass: 2.47 +0.24 -0.24 (9.72% relative error)<br>Density: 5.91 +0.20 -0.16 (3.32% relative error)<br>Radius: 1.32 +0.06 -0.06 (4.55% relative error)",
          "Dataset: LIV34<br>Planet: LTT 3780 c<br>Mass: 7.02 +0.69 -0.67 (9.83% relative error)<br>Density: 3.03 +0.12 -0.10 (3.95% relative error)<br>Radius: 2.33 +0.14 -0.13 (6.01% relative error)",
          "Dataset: LIV34<br>Planet: TOI-1231 b<br>Mass: 15.4 +3.30 -3.30 (21.43% relative error)<br>Density: 1.74 +0.09 -0.08 (4.90% relative error)<br>Radius: 3.65 +0.16 -0.15 (4.38% relative error)",
          "Dataset: LIV34<br>Planet: TOI-1235 b<br>Mass: 6.69 +0.67 -0.69 (10.01% relative error)<br>Density: 7.25 +0.24 -0.20 (3.25% relative error)<br>Radius: 1.694 +0.08 -0.08 (4.72% relative error)",
          "Dataset: LIV34<br>Planet: TOI-1634 b<br>Mass: 7.57 +0.71 -0.72 (9.38% relative error)<br>Density: 7.59 +0.24 -0.21 (3.18% relative error)<br>Radius: 1.773 +0.08 -0.08 (4.34% relative error)",
          "Dataset: LIV34<br>Planet: TOI-1685 b<br>Mass: 3.09 +0.59 -0.58 (19.09% relative error)<br>Density: 3.44 +0.16 -0.13 (4.54% relative error)<br>Radius: 1.7 +0.07 -0.07 (4.12% relative error)",
          "Dataset: LIV34<br>Planet: TOI-269 b<br>Mass: 8.8 +1.40 -1.40 (15.91% relative error)<br>Density: 2.28 +0.09 -0.08 (3.82% relative error)<br>Radius: 2.77 +0.12 -0.12 (4.33% relative error)",
          "Dataset: LIV34<br>Planet: TOI-270 b<br>Mass: 1.58 +0.26 -0.26 (16.46% relative error)<br>Density: 5.70 +0.22 -0.22 (3.82% relative error)<br>Radius: 1.151 +0.05 -0.05 (4.34% relative error)",
          "Dataset: LIV34<br>Planet: TOI-270 c<br>Mass: 6.14 +0.38 -0.38 (6.19% relative error)<br>Density: 2.68 +0.05 -0.05 (2.03% relative error)<br>Radius: 2.332 +0.07 -0.07 (3.09% relative error)",
          "Dataset: LIV34<br>Planet: TOI-270 d<br>Mass: 4.78 +0.46 -0.46 (9.62% relative error)<br>Density: 3.28 +0.08 -0.08 (2.49% relative error)<br>Radius: 2.005 +0.07 -0.07 (3.34% relative error)",
          "Dataset: LIV34<br>Planet: TOI-776 b<br>Mass: 4.0 +0.90 -0.90 (22.50% relative error)<br>Density: 3.40 +0.20 -0.16 (5.87% relative error)<br>Radius: 1.85 +0.13 -0.13 (7.03% relative error)",
          "Dataset: LIV34<br>Planet: TRAPPIST-1 b<br>Mass: 1.374 +0.07 -0.07 (5.02% relative error)<br>Density: 5.42 +0.05 -0.05 (0.89% relative error)<br>Radius: 1.116 +0.01 -0.01 (1.25% relative error)",
          "Dataset: LIV34<br>Planet: TRAPPIST-1 c<br>Mass: 1.308 +0.06 -0.06 (4.28% relative error)<br>Density: 5.45 +0.04 -0.04 (0.74% relative error)<br>Radius: 1.097 +0.01 -0.01 (1.28% relative error)",
          "Dataset: LIV34<br>Planet: TRAPPIST-1 d<br>Mass: 0.388 +0.01 -0.01 (3.09% relative error)<br>Density: 4.35 +0.03 -0.03 (0.65% relative error)<br>Radius: 0.788 +0.01 -0.01 (1.40% relative error)",
          "Dataset: LIV34<br>Planet: TRAPPIST-1 e<br>Mass: 0.692 +0.02 -0.02 (3.18% relative error)<br>Density: 4.88 +0.03 -0.03 (0.62% relative error)<br>Radius: 0.92 +0.01 -0.01 (1.41% relative error)",
          "Dataset: LIV34<br>Planet: TRAPPIST-1 f<br>Mass: 1.039 +0.03 -0.03 (2.98% relative error)<br>Density: 5.01 +0.03 -0.03 (0.50% relative error)<br>Radius: 1.045 +0.01 -0.01 (1.24% relative error)",
          "Dataset: LIV34<br>Planet: TRAPPIST-1 g<br>Mass: 1.321 +0.04 -0.04 (2.88% relative error)<br>Density: 5.04 +0.02 -0.03 (0.49% relative error)<br>Radius: 1.129 +0.01 -0.01 (1.33% relative error)",
          "Dataset: LIV34<br>Planet: TRAPPIST-1 h<br>Mass: 0.326 +0.02 -0.02 (6.13% relative error)<br>Density: 4.15 +0.06 -0.05 (1.41% relative error)<br>Radius: 0.755 +0.01 -0.01 (1.85% relative error)"
         ],
         "type": "scatter",
         "x": [
          1.66,
          6.26,
          1.32,
          1.86,
          1.84,
          2.82,
          5.77,
          7.49,
          8.64,
          24.5,
          4.6,
          2.42,
          2.31,
          6.38,
          1.76,
          2.33,
          2.47,
          7.02,
          15.4,
          6.69,
          7.57,
          3.09,
          8.8,
          1.58,
          6.14,
          4.78,
          4,
          1.374,
          1.308,
          0.388,
          0.692,
          1.039,
          1.321,
          0.326
         ],
         "y": [
          1.13,
          2.85,
          1.193,
          1.264,
          1.217,
          1.305,
          2.05,
          2.19,
          2.711,
          3.44,
          1.39,
          1.34,
          1.58,
          1.635,
          1.169,
          1.242,
          1.32,
          2.33,
          3.65,
          1.694,
          1.773,
          1.7,
          2.77,
          1.151,
          2.332,
          2.005,
          1.85,
          1.116,
          1.097,
          0.788,
          0.92,
          1.045,
          1.129,
          0.755
         ]
        },
        {
         "error_x": {
          "array": [
           0.05,
           0.34,
           0.48,
           0.99,
           0.65,
           0.65,
           1.4,
           0.7,
           0.26,
           0.2,
           1.36,
           0.84,
           0.24,
           0.67,
           1.21,
           1,
           1.5,
           0.3
          ],
          "arrayminus": [
           0.05,
           0.34,
           0.48,
           0.93,
           0.61,
           0.65,
           1.4,
           0.7,
           0.25,
           0.19,
           1.3,
           0.88,
           0.24,
           0.68,
           1.24,
           1,
           1.5,
           0.3
          ],
          "color": "rgba(169, 169, 169, 0.7)",
          "type": "data",
          "visible": true
         },
         "error_y": {
          "array": [
           0.23593466424682397,
           0.18148820326678766,
           0.1633393829401089,
           0.30308529945553536,
           0.038112522686025406,
           0.049001814882032674,
           0.047186932849364795,
           null,
           0.2177858439201452,
           0.12341197822141563,
           0.3720508166969147,
           0.08711433756805807,
           null,
           null,
           0.12704174228675136,
           0.3266787658802178,
           0.058076225045372055,
           0.19963702359346644
          ],
          "arrayminus": [
           0.23593466424682397,
           0.18148820326678766,
           0.14519056261343014,
           0.1960072595281307,
           0.034482758620689655,
           0.039927404718693285,
           0.047186932849364795,
           null,
           0.19963702359346644,
           0.1088929219600726,
           0.3357531760435572,
           0.07622504537205081,
           null,
           null,
           0.12341197822141563,
           0.23593466424682397,
           0.058076225045372055,
           0.19963702359346644
          ],
          "color": "rgba(169, 169, 169, 0.7)",
          "type": "data",
          "visible": true
         },
         "hoverinfo": "text",
         "marker": {
          "color": [
           1365,
           709,
           557,
           463,
           431,
           385,
           997,
           324,
           555,
           508,
           1323,
           703,
           682,
           338,
           734,
           698,
           443,
           387
          ],
          "colorbar": {
           "title": {
            "text": "Temperature"
           }
          },
          "colorscale": [
           [
            0,
            "#000004"
           ],
           [
            0.1111111111111111,
            "#1b0c41"
           ],
           [
            0.2222222222222222,
            "#4a0c6b"
           ],
           [
            0.3333333333333333,
            "#781c6d"
           ],
           [
            0.4444444444444444,
            "#a52c60"
           ],
           [
            0.5555555555555556,
            "#cf4446"
           ],
           [
            0.6666666666666666,
            "#ed6925"
           ],
           [
            0.7777777777777778,
            "#fb9b06"
           ],
           [
            0.8888888888888888,
            "#f7d13d"
           ],
           [
            1,
            "#fcffa4"
           ]
          ],
          "showscale": true,
          "size": 12
         },
         "mode": "markers",
         "name": "Mass, Density - Data 2",
         "text": [
          "Dataset: EA add<br>Planet: GJ 367 b<br>Mass: 0.633 +0.05 -0.05 (7.90% relative error)<br>Density: 10.20 +0.24 -0.24 (2.31% relative error)<br>Radius: 0.699 +0.02 -0.02 (3.43% relative error)",
          "Dataset: EA add<br>Planet: HD 260655 b<br>Mass: 2.14 +0.34 -0.34 (15.89% relative error)<br>Density: 6.20 +0.18 -0.18 (2.93% relative error)<br>Radius: 1.24 +0.02 -0.02 (1.85% relative error)",
          "Dataset: EA add<br>Planet: HD 260655 c<br>Mass: 3.09 +0.48 -0.48 (15.53% relative error)<br>Density: 4.70 +0.16 -0.15 (3.48% relative error)<br>Radius: 1.533 +0.05 -0.05 (3.33% relative error)",
          "Dataset: EA add<br>Planet: K2-3 b<br>Mass: 6.48 +0.99 -0.93 (15.28% relative error)<br>Density: 3.70 +0.30 -0.20 (8.19% relative error)<br>Radius: 2.103 +0.26 -0.26 (12.22% relative error)",
          "Dataset: EA add<br>Planet: Kepler-26 b<br>Mass: 5.12 +0.65 -0.61 (12.70% relative error)<br>Density: 1.26 +0.04 -0.03 (3.02% relative error)<br>Radius: 2.78 +0.11 -0.11 (3.96% relative error)",
          "Dataset: EA add<br>Planet: Kepler-26 c<br>Mass: 6.2 +0.65 -0.65 (10.48% relative error)<br>Density: 1.61 +0.05 -0.04 (3.04% relative error)<br>Radius: 2.72 +0.12 -0.12 (4.41% relative error)",
          "Dataset: EA add<br>Planet: Kepler-94 b<br>Mass: 10.84 +1.40 -1.40 (12.92% relative error)<br>Density: 1.45 +0.05 -0.05 (3.25% relative error)<br>Radius: 3.51 +0.15 -0.15 (4.27% relative error)",
          "Dataset: EA add<br>Planet: LP 791-18 c<br>Mass: 7.1 +0.70 -0.70 (9.86% relative error)<br>Density: 2.69 +nan -nan (nan% relative error)<br>Radius: 2.438 +0.10 -0.10 (3.94% relative error)",
          "Dataset: EA add<br>Planet: LTT 1445 A b<br>Mass: 2.87 +0.26 -0.25 (9.06% relative error)<br>Density: 7.10 +0.22 -0.20 (3.07% relative error)<br>Radius: 1.18 +0.06 -0.06 (5.08% relative error)",
          "Dataset: EA add<br>Planet: LTT 1445 A c<br>Mass: 1.54 +0.20 -0.19 (12.99% relative error)<br>Density: 5.57 +0.12 -0.11 (2.22% relative error)<br>Radius: 1.147 +0.06 -0.05 (4.80% relative error)",
          "Dataset: EA add<br>Planet: TOI-1075 b<br>Mass: 9.95 +1.36 -1.30 (13.67% relative error)<br>Density: 9.32 +0.37 -0.34 (3.99% relative error)<br>Radius: 1.791 +0.12 -0.08 (6.48% relative error)",
          "Dataset: EA add<br>Planet: TOI-1201 b<br>Mass: 6.28 +0.84 -0.88 (13.38% relative error)<br>Density: 2.45 +0.09 -0.08 (3.56% relative error)<br>Radius: 2.415 +0.09 -0.09 (3.77% relative error)",
          "Dataset: EA add<br>Planet: TOI-1468 b<br>Mass: 3.21 +0.24 -0.24 (7.48% relative error)<br>Density: 8.41 +nan -nan (nan% relative error)<br>Radius: 1.28 +0.04 -0.04 (2.97% relative error)",
          "Dataset: EA add<br>Planet: TOI-1468 c<br>Mass: 6.64 +0.67 -0.68 (10.09% relative error)<br>Density: 4.15 +nan -nan (nan% relative error)<br>Radius: 2.064 +0.04 -0.04 (2.13% relative error)",
          "Dataset: EA add<br>Planet: TOI-1470 b<br>Mass: 7.32 +1.21 -1.24 (16.53% relative error)<br>Density: 3.86 +0.13 -0.12 (3.29% relative error)<br>Radius: 2.18 +0.04 -0.04 (1.83% relative error)",
          "Dataset: EA add<br>Planet: TOI-1695 b<br>Mass: 6.36 +1.00 -1.00 (15.72% relative error)<br>Density: 5.00 +0.33 -0.24 (6.53% relative error)<br>Radius: 1.9 +0.16 -0.14 (8.42% relative error)",
          "Dataset: EA add<br>Planet: TOI-1759 b<br>Mass: 10.8 +1.50 -1.50 (13.89% relative error)<br>Density: 1.91 +0.06 -0.06 (3.04% relative error)<br>Radius: 3.14 +0.10 -0.10 (3.18% relative error)",
          "Dataset: EA add<br>Planet: TOI-244 b<br>Mass: 2.68 +0.30 -0.30 (11.19% relative error)<br>Density: 4.20 +0.20 -0.20 (4.75% relative error)<br>Radius: 1.03 +0.08 -0.08 (7.77% relative error)"
         ],
         "type": "scatter",
         "x": [
          0.633,
          2.14,
          3.09,
          6.48,
          5.12,
          6.2,
          10.84,
          7.1,
          2.87,
          1.54,
          9.95,
          6.28,
          3.21,
          6.64,
          7.32,
          6.36,
          10.8,
          2.68
         ],
         "y": [
          1.851179673321234,
          1.1252268602540836,
          0.852994555353902,
          0.6715063520871144,
          0.22867513611615245,
          0.29219600725952816,
          0.2631578947368421,
          0.4882032667876588,
          1.2885662431941924,
          1.0108892921960073,
          1.6914700544464611,
          0.4446460980036298,
          1.5263157894736843,
          0.7531760435571688,
          0.7005444646098004,
          0.9074410163339384,
          0.3466424682395644,
          0.7622504537205083
         ]
        },
        {
         "error_x": {
          "array": [
           0.05,
           0.34,
           0.48,
           0.99,
           0.65,
           0.65,
           1.4,
           0.7,
           0.26,
           0.2,
           1.36,
           0.84,
           0.24,
           0.67,
           1.21,
           1,
           1.5,
           0.3
          ],
          "arrayminus": [
           0.05,
           0.34,
           0.48,
           0.93,
           0.61,
           0.65,
           1.4,
           0.7,
           0.25,
           0.19,
           1.3,
           0.88,
           0.24,
           0.68,
           1.24,
           1,
           1.5,
           0.3
          ],
          "color": "rgba(169, 169, 169, 0.7)",
          "type": "data",
          "visible": true
         },
         "error_y": {
          "array": [
           0.024,
           0.023,
           0.051,
           0.257,
           0.11,
           0.12,
           0.15,
           0.096,
           0.06,
           0.055,
           0.116,
           0.091,
           0.038,
           0.044,
           0.04,
           0.16,
           0.1,
           0.08
          ],
          "arrayminus": [
           0.024,
           0.023,
           0.046,
           0.256,
           0.11,
           0.12,
           0.15,
           0.096,
           0.06,
           0.054,
           0.081,
           0.09,
           0.039,
           0.044,
           0.04,
           0.14,
           0.1,
           0.08
          ],
          "color": "rgba(169, 169, 169, 0.7)",
          "type": "data",
          "visible": true
         },
         "hoverinfo": "text",
         "marker": {
          "color": [
           1365,
           709,
           557,
           463,
           431,
           385,
           997,
           324,
           555,
           508,
           1323,
           703,
           682,
           338,
           734,
           698,
           443,
           387
          ],
          "colorbar": {
           "title": {
            "text": "Temperature"
           }
          },
          "colorscale": [
           [
            0,
            "#000004"
           ],
           [
            0.1111111111111111,
            "#1b0c41"
           ],
           [
            0.2222222222222222,
            "#4a0c6b"
           ],
           [
            0.3333333333333333,
            "#781c6d"
           ],
           [
            0.4444444444444444,
            "#a52c60"
           ],
           [
            0.5555555555555556,
            "#cf4446"
           ],
           [
            0.6666666666666666,
            "#ed6925"
           ],
           [
            0.7777777777777778,
            "#fb9b06"
           ],
           [
            0.8888888888888888,
            "#f7d13d"
           ],
           [
            1,
            "#fcffa4"
           ]
          ],
          "showscale": true,
          "size": 12
         },
         "mode": "markers",
         "name": "Mass, Density - Data 2",
         "text": [
          "Dataset: EA add<br>Planet: GJ 367 b<br>Mass: 0.633 +0.05 -0.05 (7.90% relative error)<br>Density: 10.20 +0.24 -0.24 (2.31% relative error)<br>Radius: 0.699 +0.02 -0.02 (3.43% relative error)",
          "Dataset: EA add<br>Planet: HD 260655 b<br>Mass: 2.14 +0.34 -0.34 (15.89% relative error)<br>Density: 6.20 +0.18 -0.18 (2.93% relative error)<br>Radius: 1.24 +0.02 -0.02 (1.85% relative error)",
          "Dataset: EA add<br>Planet: HD 260655 c<br>Mass: 3.09 +0.48 -0.48 (15.53% relative error)<br>Density: 4.70 +0.16 -0.15 (3.48% relative error)<br>Radius: 1.533 +0.05 -0.05 (3.33% relative error)",
          "Dataset: EA add<br>Planet: K2-3 b<br>Mass: 6.48 +0.99 -0.93 (15.28% relative error)<br>Density: 3.70 +0.30 -0.20 (8.19% relative error)<br>Radius: 2.103 +0.26 -0.26 (12.22% relative error)",
          "Dataset: EA add<br>Planet: Kepler-26 b<br>Mass: 5.12 +0.65 -0.61 (12.70% relative error)<br>Density: 1.26 +0.04 -0.03 (3.02% relative error)<br>Radius: 2.78 +0.11 -0.11 (3.96% relative error)",
          "Dataset: EA add<br>Planet: Kepler-26 c<br>Mass: 6.2 +0.65 -0.65 (10.48% relative error)<br>Density: 1.61 +0.05 -0.04 (3.04% relative error)<br>Radius: 2.72 +0.12 -0.12 (4.41% relative error)",
          "Dataset: EA add<br>Planet: Kepler-94 b<br>Mass: 10.84 +1.40 -1.40 (12.92% relative error)<br>Density: 1.45 +0.05 -0.05 (3.25% relative error)<br>Radius: 3.51 +0.15 -0.15 (4.27% relative error)",
          "Dataset: EA add<br>Planet: LP 791-18 c<br>Mass: 7.1 +0.70 -0.70 (9.86% relative error)<br>Density: 2.69 +nan -nan (nan% relative error)<br>Radius: 2.438 +0.10 -0.10 (3.94% relative error)",
          "Dataset: EA add<br>Planet: LTT 1445 A b<br>Mass: 2.87 +0.26 -0.25 (9.06% relative error)<br>Density: 7.10 +0.22 -0.20 (3.07% relative error)<br>Radius: 1.18 +0.06 -0.06 (5.08% relative error)",
          "Dataset: EA add<br>Planet: LTT 1445 A c<br>Mass: 1.54 +0.20 -0.19 (12.99% relative error)<br>Density: 5.57 +0.12 -0.11 (2.22% relative error)<br>Radius: 1.147 +0.06 -0.05 (4.80% relative error)",
          "Dataset: EA add<br>Planet: TOI-1075 b<br>Mass: 9.95 +1.36 -1.30 (13.67% relative error)<br>Density: 9.32 +0.37 -0.34 (3.99% relative error)<br>Radius: 1.791 +0.12 -0.08 (6.48% relative error)",
          "Dataset: EA add<br>Planet: TOI-1201 b<br>Mass: 6.28 +0.84 -0.88 (13.38% relative error)<br>Density: 2.45 +0.09 -0.08 (3.56% relative error)<br>Radius: 2.415 +0.09 -0.09 (3.77% relative error)",
          "Dataset: EA add<br>Planet: TOI-1468 b<br>Mass: 3.21 +0.24 -0.24 (7.48% relative error)<br>Density: 8.41 +nan -nan (nan% relative error)<br>Radius: 1.28 +0.04 -0.04 (2.97% relative error)",
          "Dataset: EA add<br>Planet: TOI-1468 c<br>Mass: 6.64 +0.67 -0.68 (10.09% relative error)<br>Density: 4.15 +nan -nan (nan% relative error)<br>Radius: 2.064 +0.04 -0.04 (2.13% relative error)",
          "Dataset: EA add<br>Planet: TOI-1470 b<br>Mass: 7.32 +1.21 -1.24 (16.53% relative error)<br>Density: 3.86 +0.13 -0.12 (3.29% relative error)<br>Radius: 2.18 +0.04 -0.04 (1.83% relative error)",
          "Dataset: EA add<br>Planet: TOI-1695 b<br>Mass: 6.36 +1.00 -1.00 (15.72% relative error)<br>Density: 5.00 +0.33 -0.24 (6.53% relative error)<br>Radius: 1.9 +0.16 -0.14 (8.42% relative error)",
          "Dataset: EA add<br>Planet: TOI-1759 b<br>Mass: 10.8 +1.50 -1.50 (13.89% relative error)<br>Density: 1.91 +0.06 -0.06 (3.04% relative error)<br>Radius: 3.14 +0.10 -0.10 (3.18% relative error)",
          "Dataset: EA add<br>Planet: TOI-244 b<br>Mass: 2.68 +0.30 -0.30 (11.19% relative error)<br>Density: 4.20 +0.20 -0.20 (4.75% relative error)<br>Radius: 1.03 +0.08 -0.08 (7.77% relative error)"
         ],
         "type": "scatter",
         "x": [
          0.633,
          2.14,
          3.09,
          6.48,
          5.12,
          6.2,
          10.84,
          7.1,
          2.87,
          1.54,
          9.95,
          6.28,
          3.21,
          6.64,
          7.32,
          6.36,
          10.8,
          2.68
         ],
         "y": [
          0.699,
          1.24,
          1.533,
          2.103,
          2.78,
          2.72,
          3.51,
          2.438,
          1.18,
          1.147,
          1.791,
          2.415,
          1.28,
          2.064,
          2.18,
          1.9,
          3.14,
          1.03
         ]
        },
        {
         "error_x": {
          "array": [
           2.07,
           0.72,
           0.05,
           0.44,
           0.34,
           0.48,
           0.99,
           0.6,
           0.05,
           1.2,
           0.3,
           0.65,
           0.65,
           1.4,
           0.7,
           0.26,
           0.2,
           1.36,
           0.84,
           1.3,
           0.24,
           0.67,
           1.21,
           1,
           1.5,
           0.3
          ],
          "arrayminus": [
           2.31,
           0.72,
           0.05,
           0.45,
           0.34,
           0.48,
           0.93,
           0.6,
           0.05,
           1.2,
           0.3,
           0.61,
           0.65,
           1.4,
           0.7,
           0.25,
           0.19,
           1.3,
           0.88,
           1.3,
           0.24,
           0.68,
           1.24,
           1,
           1.5,
           0.3
          ],
          "color": "rgba(169, 169, 169, 0.7)",
          "type": "data",
          "visible": true
         },
         "error_y": {
          "array": [
           0.047186932849364795,
           0.09437386569872959,
           0.23593466424682397,
           0.3629764065335753,
           0.18148820326678766,
           0.1633393829401089,
           0.30308529945553536,
           null,
           0.18148820326678766,
           0.3448275862068966,
           0.07985480943738657,
           0.038112522686025406,
           0.049001814882032674,
           0.047186932849364795,
           null,
           0.2177858439201452,
           0.12341197822141563,
           0.3720508166969147,
           0.08711433756805807,
           0.3266787658802178,
           null,
           null,
           0.12704174228675136,
           0.3266787658802178,
           0.058076225045372055,
           0.19963702359346644
          ],
          "arrayminus": [
           0.05263157894736842,
           0.08166969147005446,
           0.23593466424682397,
           0.3629764065335753,
           0.18148820326678766,
           0.14519056261343014,
           0.1960072595281307,
           null,
           0.15789473684210528,
           0.2722323049001815,
           0.06352087114337568,
           0.034482758620689655,
           0.039927404718693285,
           0.047186932849364795,
           null,
           0.19963702359346644,
           0.1088929219600726,
           0.3357531760435572,
           0.07622504537205081,
           0.29038112522686027,
           null,
           null,
           0.12341197822141563,
           0.23593466424682397,
           0.058076225045372055,
           0.19963702359346644
          ],
          "color": "rgba(169, 169, 169, 0.7)",
          "type": "data",
          "visible": true
         },
         "hoverinfo": "text",
         "marker": {
          "color": [
           454,
           693,
           1365,
           568,
           709,
           557,
           463,
           507,
           524,
           476,
           401,
           431,
           385,
           997,
           324,
           555,
           508,
           1323,
           703,
           326,
           682,
           338,
           734,
           698,
           443,
           387
          ],
          "colorbar": {
           "title": {
            "text": "Temperature"
           }
          },
          "colorscale": [
           [
            0,
            "#000004"
           ],
           [
            0.1111111111111111,
            "#1b0c41"
           ],
           [
            0.2222222222222222,
            "#4a0c6b"
           ],
           [
            0.3333333333333333,
            "#781c6d"
           ],
           [
            0.4444444444444444,
            "#a52c60"
           ],
           [
            0.5555555555555556,
            "#cf4446"
           ],
           [
            0.6666666666666666,
            "#ed6925"
           ],
           [
            0.7777777777777778,
            "#fb9b06"
           ],
           [
            0.8888888888888888,
            "#f7d13d"
           ],
           [
            1,
            "#fcffa4"
           ]
          ],
          "showscale": true,
          "size": 12
         },
         "mode": "markers",
         "name": "Mass, Density - Data 3",
         "text": [
          "Dataset: EA add 30%<br>Planet: AU Mic c<br>Mass: 9.6 +2.07 -2.31 (21.56% relative error)<br>Density: 1.22 +0.05 -0.05 (3.87% relative error)<br>Radius: 3.24 +0.16 -0.16 (4.94% relative error)",
          "Dataset: EA add 30%<br>Planet: GJ 3090 b<br>Mass: 3.34 +0.72 -0.72 (21.56% relative error)<br>Density: 1.89 +0.09 -0.08 (4.99% relative error)<br>Radius: 2.13 +0.11 -0.11 (5.16% relative error)",
          "Dataset: EA add 30%<br>Planet: GJ 367 b<br>Mass: 0.633 +0.05 -0.05 (7.90% relative error)<br>Density: 10.20 +0.24 -0.24 (2.31% relative error)<br>Radius: 0.699 +0.02 -0.02 (3.43% relative error)",
          "Dataset: EA add 30%<br>Planet: GJ 3929 b<br>Mass: 1.75 +0.44 -0.45 (25.14% relative error)<br>Density: 7.30 +0.36 -0.36 (4.97% relative error)<br>Radius: 1.09 +0.04 -0.04 (3.67% relative error)",
          "Dataset: EA add 30%<br>Planet: HD 260655 b<br>Mass: 2.14 +0.34 -0.34 (15.89% relative error)<br>Density: 6.20 +0.18 -0.18 (2.93% relative error)<br>Radius: 1.24 +0.02 -0.02 (1.85% relative error)",
          "Dataset: EA add 30%<br>Planet: HD 260655 c<br>Mass: 3.09 +0.48 -0.48 (15.53% relative error)<br>Density: 4.70 +0.16 -0.15 (3.48% relative error)<br>Radius: 1.533 +0.05 -0.05 (3.33% relative error)",
          "Dataset: EA add 30%<br>Planet: K2-3 b<br>Mass: 6.48 +0.99 -0.93 (15.28% relative error)<br>Density: 3.70 +0.30 -0.20 (8.19% relative error)<br>Radius: 2.103 +0.26 -0.26 (12.22% relative error)",
          "Dataset: EA add 30%<br>Planet: Kepler-114 c<br>Mass: 2.8 +0.60 -0.60 (21.43% relative error)<br>Density: 3.76 +nan -nan (nan% relative error)<br>Radius: 1.6 +0.18 -0.18 (11.25% relative error)",
          "Dataset: EA add 30%<br>Planet: Kepler-138 b<br>Mass: 0.187 +0.05 -0.05 (26.74% relative error)<br>Density: 3.02 +0.18 -0.16 (6.01% relative error)<br>Radius: 0.701 +0.07 -0.07 (9.42% relative error)",
          "Dataset: EA add 30%<br>Planet: Kepler-138 c<br>Mass: 5.2 +1.20 -1.20 (23.08% relative error)<br>Density: 6.10 +0.34 -0.27 (5.65% relative error)<br>Radius: 1.67 +0.15 -0.15 (8.98% relative error)",
          "Dataset: EA add 30%<br>Planet: Kepler-138 d<br>Mass: 1.17 +0.30 -0.30 (25.64% relative error)<br>Density: 1.36 +0.08 -0.06 (5.87% relative error)<br>Radius: 1.68 +0.15 -0.15 (8.93% relative error)",
          "Dataset: EA add 30%<br>Planet: Kepler-26 b<br>Mass: 5.12 +0.65 -0.61 (12.70% relative error)<br>Density: 1.26 +0.04 -0.03 (3.02% relative error)<br>Radius: 2.78 +0.11 -0.11 (3.96% relative error)",
          "Dataset: EA add 30%<br>Planet: Kepler-26 c<br>Mass: 6.2 +0.65 -0.65 (10.48% relative error)<br>Density: 1.61 +0.05 -0.04 (3.04% relative error)<br>Radius: 2.72 +0.12 -0.12 (4.41% relative error)",
          "Dataset: EA add 30%<br>Planet: Kepler-94 b<br>Mass: 10.84 +1.40 -1.40 (12.92% relative error)<br>Density: 1.45 +0.05 -0.05 (3.25% relative error)<br>Radius: 3.51 +0.15 -0.15 (4.27% relative error)",
          "Dataset: EA add 30%<br>Planet: LP 791-18 c<br>Mass: 7.1 +0.70 -0.70 (9.86% relative error)<br>Density: 2.69 +nan -nan (nan% relative error)<br>Radius: 2.438 +0.10 -0.10 (3.94% relative error)",
          "Dataset: EA add 30%<br>Planet: LTT 1445 A b<br>Mass: 2.87 +0.26 -0.25 (9.06% relative error)<br>Density: 7.10 +0.22 -0.20 (3.07% relative error)<br>Radius: 1.18 +0.06 -0.06 (5.08% relative error)",
          "Dataset: EA add 30%<br>Planet: LTT 1445 A c<br>Mass: 1.54 +0.20 -0.19 (12.99% relative error)<br>Density: 5.57 +0.12 -0.11 (2.22% relative error)<br>Radius: 1.147 +0.06 -0.05 (4.80% relative error)",
          "Dataset: EA add 30%<br>Planet: TOI-1075 b<br>Mass: 9.95 +1.36 -1.30 (13.67% relative error)<br>Density: 9.32 +0.37 -0.34 (3.99% relative error)<br>Radius: 1.791 +0.12 -0.08 (6.48% relative error)",
          "Dataset: EA add 30%<br>Planet: TOI-1201 b<br>Mass: 6.28 +0.84 -0.88 (13.38% relative error)<br>Density: 2.45 +0.09 -0.08 (3.56% relative error)<br>Radius: 2.415 +0.09 -0.09 (3.77% relative error)",
          "Dataset: EA add 30%<br>Planet: TOI-1452 b<br>Mass: 4.82 +1.30 -1.30 (26.97% relative error)<br>Density: 5.60 +0.33 -0.29 (5.83% relative error)<br>Radius: 1.672 +0.07 -0.07 (4.25% relative error)",
          "Dataset: EA add 30%<br>Planet: TOI-1468 b<br>Mass: 3.21 +0.24 -0.24 (7.48% relative error)<br>Density: 8.41 +nan -nan (nan% relative error)<br>Radius: 1.28 +0.04 -0.04 (2.97% relative error)",
          "Dataset: EA add 30%<br>Planet: TOI-1468 c<br>Mass: 6.64 +0.67 -0.68 (10.09% relative error)<br>Density: 4.15 +nan -nan (nan% relative error)<br>Radius: 2.064 +0.04 -0.04 (2.13% relative error)",
          "Dataset: EA add 30%<br>Planet: TOI-1470 b<br>Mass: 7.32 +1.21 -1.24 (16.53% relative error)<br>Density: 3.86 +0.13 -0.12 (3.29% relative error)<br>Radius: 2.18 +0.04 -0.04 (1.83% relative error)",
          "Dataset: EA add 30%<br>Planet: TOI-1695 b<br>Mass: 6.36 +1.00 -1.00 (15.72% relative error)<br>Density: 5.00 +0.33 -0.24 (6.53% relative error)<br>Radius: 1.9 +0.16 -0.14 (8.42% relative error)",
          "Dataset: EA add 30%<br>Planet: TOI-1759 b<br>Mass: 10.8 +1.50 -1.50 (13.89% relative error)<br>Density: 1.91 +0.06 -0.06 (3.04% relative error)<br>Radius: 3.14 +0.10 -0.10 (3.18% relative error)",
          "Dataset: EA add 30%<br>Planet: TOI-244 b<br>Mass: 2.68 +0.30 -0.30 (11.19% relative error)<br>Density: 4.20 +0.20 -0.20 (4.75% relative error)<br>Radius: 1.03 +0.08 -0.08 (7.77% relative error)"
         ],
         "type": "scatter",
         "x": [
          9.6,
          3.34,
          0.633,
          1.75,
          2.14,
          3.09,
          6.48,
          2.8,
          0.187,
          5.2,
          1.17,
          5.12,
          6.2,
          10.84,
          7.1,
          2.87,
          1.54,
          9.95,
          6.28,
          4.82,
          3.21,
          6.64,
          7.32,
          6.36,
          10.8,
          2.68
         ],
         "y": [
          0.22141560798548096,
          0.3430127041742287,
          1.851179673321234,
          1.32486388384755,
          1.1252268602540836,
          0.852994555353902,
          0.6715063520871144,
          0.6823956442831216,
          0.5480943738656987,
          1.1070780399274047,
          0.24682395644283125,
          0.22867513611615245,
          0.29219600725952816,
          0.2631578947368421,
          0.4882032667876588,
          1.2885662431941924,
          1.0108892921960073,
          1.6914700544464611,
          0.4446460980036298,
          1.0163339382940109,
          1.5263157894736843,
          0.7531760435571688,
          0.7005444646098004,
          0.9074410163339384,
          0.3466424682395644,
          0.7622504537205083
         ]
        },
        {
         "error_x": {
          "array": [
           2.07,
           0.72,
           0.05,
           0.44,
           0.34,
           0.48,
           0.99,
           0.6,
           0.05,
           1.2,
           0.3,
           0.65,
           0.65,
           1.4,
           0.7,
           0.26,
           0.2,
           1.36,
           0.84,
           1.3,
           0.24,
           0.67,
           1.21,
           1,
           1.5,
           0.3
          ],
          "arrayminus": [
           2.31,
           0.72,
           0.05,
           0.45,
           0.34,
           0.48,
           0.93,
           0.6,
           0.05,
           1.2,
           0.3,
           0.61,
           0.65,
           1.4,
           0.7,
           0.25,
           0.19,
           1.3,
           0.88,
           1.3,
           0.24,
           0.68,
           1.24,
           1,
           1.5,
           0.3
          ],
          "color": "rgba(169, 169, 169, 0.7)",
          "type": "data",
          "visible": true
         },
         "error_y": {
          "array": [
           0.16,
           0.11,
           0.024,
           0.04,
           0.023,
           0.051,
           0.257,
           0.18,
           0.066,
           0.15,
           0.15,
           0.11,
           0.12,
           0.15,
           0.096,
           0.06,
           0.055,
           0.116,
           0.091,
           0.071,
           0.038,
           0.044,
           0.04,
           0.16,
           0.1,
           0.08
          ],
          "arrayminus": [
           0.16,
           0.11,
           0.024,
           0.04,
           0.023,
           0.046,
           0.256,
           0.18,
           0.066,
           0.15,
           0.15,
           0.11,
           0.12,
           0.15,
           0.096,
           0.06,
           0.054,
           0.081,
           0.09,
           0.071,
           0.039,
           0.044,
           0.04,
           0.14,
           0.1,
           0.08
          ],
          "color": "rgba(169, 169, 169, 0.7)",
          "type": "data",
          "visible": true
         },
         "hoverinfo": "text",
         "marker": {
          "color": [
           454,
           693,
           1365,
           568,
           709,
           557,
           463,
           507,
           524,
           476,
           401,
           431,
           385,
           997,
           324,
           555,
           508,
           1323,
           703,
           326,
           682,
           338,
           734,
           698,
           443,
           387
          ],
          "colorbar": {
           "title": {
            "text": "Temperature"
           }
          },
          "colorscale": [
           [
            0,
            "#000004"
           ],
           [
            0.1111111111111111,
            "#1b0c41"
           ],
           [
            0.2222222222222222,
            "#4a0c6b"
           ],
           [
            0.3333333333333333,
            "#781c6d"
           ],
           [
            0.4444444444444444,
            "#a52c60"
           ],
           [
            0.5555555555555556,
            "#cf4446"
           ],
           [
            0.6666666666666666,
            "#ed6925"
           ],
           [
            0.7777777777777778,
            "#fb9b06"
           ],
           [
            0.8888888888888888,
            "#f7d13d"
           ],
           [
            1,
            "#fcffa4"
           ]
          ],
          "showscale": true,
          "size": 12
         },
         "mode": "markers",
         "name": "Mass, Density - Data 3",
         "text": [
          "Dataset: EA add 30%<br>Planet: AU Mic c<br>Mass: 9.6 +2.07 -2.31 (21.56% relative error)<br>Density: 1.22 +0.05 -0.05 (3.87% relative error)<br>Radius: 3.24 +0.16 -0.16 (4.94% relative error)",
          "Dataset: EA add 30%<br>Planet: GJ 3090 b<br>Mass: 3.34 +0.72 -0.72 (21.56% relative error)<br>Density: 1.89 +0.09 -0.08 (4.99% relative error)<br>Radius: 2.13 +0.11 -0.11 (5.16% relative error)",
          "Dataset: EA add 30%<br>Planet: GJ 367 b<br>Mass: 0.633 +0.05 -0.05 (7.90% relative error)<br>Density: 10.20 +0.24 -0.24 (2.31% relative error)<br>Radius: 0.699 +0.02 -0.02 (3.43% relative error)",
          "Dataset: EA add 30%<br>Planet: GJ 3929 b<br>Mass: 1.75 +0.44 -0.45 (25.14% relative error)<br>Density: 7.30 +0.36 -0.36 (4.97% relative error)<br>Radius: 1.09 +0.04 -0.04 (3.67% relative error)",
          "Dataset: EA add 30%<br>Planet: HD 260655 b<br>Mass: 2.14 +0.34 -0.34 (15.89% relative error)<br>Density: 6.20 +0.18 -0.18 (2.93% relative error)<br>Radius: 1.24 +0.02 -0.02 (1.85% relative error)",
          "Dataset: EA add 30%<br>Planet: HD 260655 c<br>Mass: 3.09 +0.48 -0.48 (15.53% relative error)<br>Density: 4.70 +0.16 -0.15 (3.48% relative error)<br>Radius: 1.533 +0.05 -0.05 (3.33% relative error)",
          "Dataset: EA add 30%<br>Planet: K2-3 b<br>Mass: 6.48 +0.99 -0.93 (15.28% relative error)<br>Density: 3.70 +0.30 -0.20 (8.19% relative error)<br>Radius: 2.103 +0.26 -0.26 (12.22% relative error)",
          "Dataset: EA add 30%<br>Planet: Kepler-114 c<br>Mass: 2.8 +0.60 -0.60 (21.43% relative error)<br>Density: 3.76 +nan -nan (nan% relative error)<br>Radius: 1.6 +0.18 -0.18 (11.25% relative error)",
          "Dataset: EA add 30%<br>Planet: Kepler-138 b<br>Mass: 0.187 +0.05 -0.05 (26.74% relative error)<br>Density: 3.02 +0.18 -0.16 (6.01% relative error)<br>Radius: 0.701 +0.07 -0.07 (9.42% relative error)",
          "Dataset: EA add 30%<br>Planet: Kepler-138 c<br>Mass: 5.2 +1.20 -1.20 (23.08% relative error)<br>Density: 6.10 +0.34 -0.27 (5.65% relative error)<br>Radius: 1.67 +0.15 -0.15 (8.98% relative error)",
          "Dataset: EA add 30%<br>Planet: Kepler-138 d<br>Mass: 1.17 +0.30 -0.30 (25.64% relative error)<br>Density: 1.36 +0.08 -0.06 (5.87% relative error)<br>Radius: 1.68 +0.15 -0.15 (8.93% relative error)",
          "Dataset: EA add 30%<br>Planet: Kepler-26 b<br>Mass: 5.12 +0.65 -0.61 (12.70% relative error)<br>Density: 1.26 +0.04 -0.03 (3.02% relative error)<br>Radius: 2.78 +0.11 -0.11 (3.96% relative error)",
          "Dataset: EA add 30%<br>Planet: Kepler-26 c<br>Mass: 6.2 +0.65 -0.65 (10.48% relative error)<br>Density: 1.61 +0.05 -0.04 (3.04% relative error)<br>Radius: 2.72 +0.12 -0.12 (4.41% relative error)",
          "Dataset: EA add 30%<br>Planet: Kepler-94 b<br>Mass: 10.84 +1.40 -1.40 (12.92% relative error)<br>Density: 1.45 +0.05 -0.05 (3.25% relative error)<br>Radius: 3.51 +0.15 -0.15 (4.27% relative error)",
          "Dataset: EA add 30%<br>Planet: LP 791-18 c<br>Mass: 7.1 +0.70 -0.70 (9.86% relative error)<br>Density: 2.69 +nan -nan (nan% relative error)<br>Radius: 2.438 +0.10 -0.10 (3.94% relative error)",
          "Dataset: EA add 30%<br>Planet: LTT 1445 A b<br>Mass: 2.87 +0.26 -0.25 (9.06% relative error)<br>Density: 7.10 +0.22 -0.20 (3.07% relative error)<br>Radius: 1.18 +0.06 -0.06 (5.08% relative error)",
          "Dataset: EA add 30%<br>Planet: LTT 1445 A c<br>Mass: 1.54 +0.20 -0.19 (12.99% relative error)<br>Density: 5.57 +0.12 -0.11 (2.22% relative error)<br>Radius: 1.147 +0.06 -0.05 (4.80% relative error)",
          "Dataset: EA add 30%<br>Planet: TOI-1075 b<br>Mass: 9.95 +1.36 -1.30 (13.67% relative error)<br>Density: 9.32 +0.37 -0.34 (3.99% relative error)<br>Radius: 1.791 +0.12 -0.08 (6.48% relative error)",
          "Dataset: EA add 30%<br>Planet: TOI-1201 b<br>Mass: 6.28 +0.84 -0.88 (13.38% relative error)<br>Density: 2.45 +0.09 -0.08 (3.56% relative error)<br>Radius: 2.415 +0.09 -0.09 (3.77% relative error)",
          "Dataset: EA add 30%<br>Planet: TOI-1452 b<br>Mass: 4.82 +1.30 -1.30 (26.97% relative error)<br>Density: 5.60 +0.33 -0.29 (5.83% relative error)<br>Radius: 1.672 +0.07 -0.07 (4.25% relative error)",
          "Dataset: EA add 30%<br>Planet: TOI-1468 b<br>Mass: 3.21 +0.24 -0.24 (7.48% relative error)<br>Density: 8.41 +nan -nan (nan% relative error)<br>Radius: 1.28 +0.04 -0.04 (2.97% relative error)",
          "Dataset: EA add 30%<br>Planet: TOI-1468 c<br>Mass: 6.64 +0.67 -0.68 (10.09% relative error)<br>Density: 4.15 +nan -nan (nan% relative error)<br>Radius: 2.064 +0.04 -0.04 (2.13% relative error)",
          "Dataset: EA add 30%<br>Planet: TOI-1470 b<br>Mass: 7.32 +1.21 -1.24 (16.53% relative error)<br>Density: 3.86 +0.13 -0.12 (3.29% relative error)<br>Radius: 2.18 +0.04 -0.04 (1.83% relative error)",
          "Dataset: EA add 30%<br>Planet: TOI-1695 b<br>Mass: 6.36 +1.00 -1.00 (15.72% relative error)<br>Density: 5.00 +0.33 -0.24 (6.53% relative error)<br>Radius: 1.9 +0.16 -0.14 (8.42% relative error)",
          "Dataset: EA add 30%<br>Planet: TOI-1759 b<br>Mass: 10.8 +1.50 -1.50 (13.89% relative error)<br>Density: 1.91 +0.06 -0.06 (3.04% relative error)<br>Radius: 3.14 +0.10 -0.10 (3.18% relative error)",
          "Dataset: EA add 30%<br>Planet: TOI-244 b<br>Mass: 2.68 +0.30 -0.30 (11.19% relative error)<br>Density: 4.20 +0.20 -0.20 (4.75% relative error)<br>Radius: 1.03 +0.08 -0.08 (7.77% relative error)"
         ],
         "type": "scatter",
         "x": [
          9.6,
          3.34,
          0.633,
          1.75,
          2.14,
          3.09,
          6.48,
          2.8,
          0.187,
          5.2,
          1.17,
          5.12,
          6.2,
          10.84,
          7.1,
          2.87,
          1.54,
          9.95,
          6.28,
          4.82,
          3.21,
          6.64,
          7.32,
          6.36,
          10.8,
          2.68
         ],
         "y": [
          3.24,
          2.13,
          0.699,
          1.09,
          1.24,
          1.533,
          2.103,
          1.6,
          0.701,
          1.67,
          1.68,
          2.78,
          2.72,
          3.51,
          2.438,
          1.18,
          1.147,
          1.791,
          2.415,
          1.672,
          1.28,
          2.064,
          2.18,
          1.9,
          3.14,
          1.03
         ]
        },
        {
         "error_x": {
          "array": [
           0.23,
           0.86,
           0.28,
           0.3,
           0.31,
           0.11,
           0.18,
           0.24,
           1.35,
           5.7,
           0.56,
           0.35,
           0.46,
           0.46,
           0.17,
           0.2,
           0.24,
           0.69,
           3.3,
           0.67,
           0.71,
           0.59,
           1.4,
           0.26,
           0.38,
           0.46,
           0.9,
           0.069,
           0.056,
           0.012,
           0.022,
           0.031,
           0.038,
           0.02,
           0.05,
           0.34,
           0.48,
           0.99,
           0.65,
           0.65,
           1.4,
           0.7,
           0.26,
           0.2,
           1.36,
           0.84,
           0.24,
           0.67,
           1.21,
           1,
           1.5,
           0.3
          ],
          "arrayminus": [
           0.23,
           0.86,
           0.28,
           0.3,
           0.31,
           0.12,
           0.18,
           0.24,
           1.35,
           5.2,
           0.56,
           0.34,
           0.45,
           0.44,
           0.16,
           0.2,
           0.24,
           0.67,
           3.3,
           0.69,
           0.72,
           0.58,
           1.4,
           0.26,
           0.38,
           0.46,
           0.9,
           0.069,
           0.056,
           0.012,
           0.022,
           0.031,
           0.038,
           0.02,
           0.05,
           0.34,
           0.48,
           0.93,
           0.61,
           0.65,
           1.4,
           0.7,
           0.25,
           0.19,
           1.3,
           0.88,
           0.24,
           0.68,
           1.24,
           1,
           1.5,
           0.3
          ],
          "color": "rgba(169, 169, 169, 0.7)",
          "type": "data",
          "visible": true
         },
         "error_y": {
          "array": [
           0.23593466424682397,
           0.07622504537205081,
           0.24319419237749548,
           0.1941923774954628,
           0.308529945553539,
           0.2177858439201452,
           0.038112522686025406,
           0.049001814882032674,
           0.07259528130671507,
           0.14519056261343014,
           0.4355716878402904,
           0.22323049001814882,
           0.1542649727767695,
           0.15245009074410162,
           0.14700544464609802,
           0.1869328493647913,
           0.1960072595281307,
           0.11978221415607987,
           0.0852994555353902,
           0.23593466424682397,
           0.2413793103448276,
           0.1560798548094374,
           0.08711433756805807,
           0.2177858439201452,
           0.0544464609800363,
           0.08166969147005446,
           0.19963702359346644,
           0.04809437386569873,
           0.040290381125226864,
           0.028312159709618877,
           0.030490018148820328,
           0.0250453720508167,
           0.024682395644283123,
           0.05843920145190563,
           0.23593466424682397,
           0.18148820326678766,
           0.1633393829401089,
           0.30308529945553536,
           0.038112522686025406,
           0.049001814882032674,
           0.047186932849364795,
           null,
           0.2177858439201452,
           0.12341197822141563,
           0.3720508166969147,
           0.08711433756805807,
           null,
           null,
           0.12704174228675136,
           0.3266787658802178,
           0.058076225045372055,
           0.19963702359346644
          ],
          "arrayminus": [
           0.23593466424682397,
           0.059891107078039935,
           0.19963702359346644,
           0.16878402903811254,
           0.23593466424682397,
           0.18148820326678766,
           0.038112522686025406,
           0.049001814882032674,
           0.07259528130671507,
           0.14519056261343014,
           0.3266787658802178,
           0.19056261343012706,
           0.132486388384755,
           0.14519056261343014,
           0.13430127041742287,
           0.16152450090744103,
           0.16152450090744103,
           0.09800362976406535,
           0.07622504537205081,
           0.19963702359346644,
           0.20689655172413793,
           0.13430127041742287,
           0.07622504537205081,
           0.2177858439201452,
           0.0544464609800363,
           0.08166969147005446,
           0.1633393829401089,
           0.049364791288566245,
           0.0426497277676951,
           0.029582577132486392,
           0.033030852994555354,
           0.028675136116152453,
           0.028675136116152453,
           0.054809437386569876,
           0.23593466424682397,
           0.18148820326678766,
           0.14519056261343014,
           0.1960072595281307,
           0.034482758620689655,
           0.039927404718693285,
           0.047186932849364795,
           null,
           0.19963702359346644,
           0.1088929219600726,
           0.3357531760435572,
           0.07622504537205081,
           null,
           null,
           0.12341197822141563,
           0.23593466424682397,
           0.058076225045372055,
           0.19963702359346644
          ],
          "color": "rgba(169, 169, 169, 0.7)",
          "type": "data",
          "visible": true
         },
         "hoverinfo": "text",
         "marker": {
          "color": [
           529,
           576,
           1089,
           773,
           525,
           701,
           590,
           520,
           284,
           494,
           965,
           517,
           409,
           378.9,
           708.9,
           595,
           1000,
           397,
           329,
           775,
           921,
           1069,
           531,
           581,
           488,
           387,
           514,
           400.1,
           341.9,
           288,
           251.3,
           219,
           198.6,
           168,
           1365,
           709,
           557,
           463,
           431,
           385,
           997,
           324,
           555,
           508,
           1323,
           703,
           682,
           338,
           734,
           698,
           443,
           387
          ],
          "colorbar": {
           "title": {
            "text": "Temperature"
           }
          },
          "colorscale": [
           [
            0,
            "#000004"
           ],
           [
            0.1111111111111111,
            "#1b0c41"
           ],
           [
            0.2222222222222222,
            "#4a0c6b"
           ],
           [
            0.3333333333333333,
            "#781c6d"
           ],
           [
            0.4444444444444444,
            "#a52c60"
           ],
           [
            0.5555555555555556,
            "#cf4446"
           ],
           [
            0.6666666666666666,
            "#ed6925"
           ],
           [
            0.7777777777777778,
            "#fb9b06"
           ],
           [
            0.8888888888888888,
            "#f7d13d"
           ],
           [
            1,
            "#fcffa4"
           ]
          ],
          "showscale": true,
          "size": 12
         },
         "mode": "markers",
         "name": "Mass, Density - Combined Data",
         "text": [
          "Dataset: LIV34<br>Planet: GJ 1132 b<br>Mass: 1.66 +0.23 -0.23 (13.86% relative error)<br>Density: 6.30 +0.24 -0.24 (3.74% relative error)<br>Radius: 1.13 +0.06 -0.06 (4.96% relative error)",
          "Dataset: LIV34<br>Planet: GJ 1214 b<br>Mass: 6.26 +0.86 -0.86 (13.74% relative error)<br>Density: 1.49 +0.08 -0.06 (5.12% relative error)<br>Radius: 2.85 +0.20 -0.20 (7.02% relative error)",
          "Dataset: LIV34<br>Planet: GJ 1252 b<br>Mass: 1.32 +0.28 -0.28 (21.21% relative error)<br>Density: 4.22 +0.24 -0.20 (5.76% relative error)<br>Radius: 1.193 +0.07 -0.07 (6.20% relative error)",
          "Dataset: LIV34<br>Planet: GJ 3473 b<br>Mass: 1.86 +0.30 -0.30 (16.13% relative error)<br>Density: 5.03 +0.19 -0.17 (3.86% relative error)<br>Radius: 1.264 +0.05 -0.05 (3.96% relative error)",
          "Dataset: LIV34<br>Planet: GJ 357 b<br>Mass: 1.84 +0.31 -0.31 (16.85% relative error)<br>Density: 5.60 +0.31 -0.24 (5.51% relative error)<br>Radius: 1.217 +0.08 -0.08 (6.90% relative error)",
          "Dataset: LIV34<br>Planet: GJ 486 b<br>Mass: 2.82 +0.11 -0.12 (3.90% relative error)<br>Density: 7.00 +0.22 -0.18 (3.11% relative error)<br>Radius: 1.305 +0.06 -0.07 (4.83% relative error)",
          "Dataset: LIV34<br>Planet: K2-146 b<br>Mass: 5.77 +0.18 -0.18 (3.12% relative error)<br>Density: 3.69 +0.04 -0.04 (1.03% relative error)<br>Radius: 2.05 +0.06 -0.06 (2.93% relative error)",
          "Dataset: LIV34<br>Planet: K2-146 c<br>Mass: 7.49 +0.24 -0.24 (3.20% relative error)<br>Density: 3.92 +0.05 -0.05 (1.25% relative error)<br>Radius: 2.19 +0.07 -0.07 (3.20% relative error)",
          "Dataset: LIV34<br>Planet: K2-18 b<br>Mass: 8.64 +1.35 -1.35 (15.62% relative error)<br>Density: 2.40 +0.07 -0.07 (3.02% relative error)<br>Radius: 2.711 +0.07 -0.07 (2.40% relative error)",
          "Dataset: LIV34<br>Planet: K2-25 b<br>Mass: 24.5 +5.70 -5.20 (23.27% relative error)<br>Density: 3.30 +0.15 -0.15 (4.40% relative error)<br>Radius: 3.44 +0.12 -0.12 (3.49% relative error)",
          "Dataset: LIV34<br>Planet: L 168-9 b<br>Mass: 4.6 +0.56 -0.56 (12.17% relative error)<br>Density: 9.60 +0.44 -0.33 (4.54% relative error)<br>Radius: 1.39 +0.09 -0.09 (6.47% relative error)",
          "Dataset: LIV34<br>Planet: L 98-59 c<br>Mass: 2.42 +0.35 -0.34 (14.46% relative error)<br>Density: 5.46 +0.22 -0.19 (4.09% relative error)<br>Radius: 1.34 +0.07 -0.07 (5.22% relative error)",
          "Dataset: LIV34<br>Planet: L 98-59 d<br>Mass: 2.31 +0.46 -0.45 (19.91% relative error)<br>Density: 3.17 +0.15 -0.13 (4.87% relative error)<br>Radius: 1.58 +0.08 -0.08 (5.06% relative error)",
          "Dataset: LIV34<br>Planet: LHS 1140 b<br>Mass: 6.38 +0.46 -0.44 (7.21% relative error)<br>Density: 8.04 +0.15 -0.15 (1.90% relative error)<br>Radius: 1.635 +0.05 -0.05 (2.81% relative error)",
          "Dataset: LIV34<br>Planet: LHS 1140 c<br>Mass: 1.76 +0.17 -0.16 (9.66% relative error)<br>Density: 6.07 +0.15 -0.13 (2.42% relative error)<br>Radius: 1.169 +0.04 -0.04 (3.17% relative error)",
          "Dataset: LIV34<br>Planet: LHS 1478 b<br>Mass: 2.33 +0.20 -0.20 (8.58% relative error)<br>Density: 6.67 +0.19 -0.16 (2.80% relative error)<br>Radius: 1.242 +0.05 -0.05 (4.11% relative error)",
          "Dataset: LIV34<br>Planet: LTT 3780 b<br>Mass: 2.47 +0.24 -0.24 (9.72% relative error)<br>Density: 5.91 +0.20 -0.16 (3.32% relative error)<br>Radius: 1.32 +0.06 -0.06 (4.55% relative error)",
          "Dataset: LIV34<br>Planet: LTT 3780 c<br>Mass: 7.02 +0.69 -0.67 (9.83% relative error)<br>Density: 3.03 +0.12 -0.10 (3.95% relative error)<br>Radius: 2.33 +0.14 -0.13 (6.01% relative error)",
          "Dataset: LIV34<br>Planet: TOI-1231 b<br>Mass: 15.4 +3.30 -3.30 (21.43% relative error)<br>Density: 1.74 +0.09 -0.08 (4.90% relative error)<br>Radius: 3.65 +0.16 -0.15 (4.38% relative error)",
          "Dataset: LIV34<br>Planet: TOI-1235 b<br>Mass: 6.69 +0.67 -0.69 (10.01% relative error)<br>Density: 7.25 +0.24 -0.20 (3.25% relative error)<br>Radius: 1.694 +0.08 -0.08 (4.72% relative error)",
          "Dataset: LIV34<br>Planet: TOI-1634 b<br>Mass: 7.57 +0.71 -0.72 (9.38% relative error)<br>Density: 7.59 +0.24 -0.21 (3.18% relative error)<br>Radius: 1.773 +0.08 -0.08 (4.34% relative error)",
          "Dataset: LIV34<br>Planet: TOI-1685 b<br>Mass: 3.09 +0.59 -0.58 (19.09% relative error)<br>Density: 3.44 +0.16 -0.13 (4.54% relative error)<br>Radius: 1.7 +0.07 -0.07 (4.12% relative error)",
          "Dataset: LIV34<br>Planet: TOI-269 b<br>Mass: 8.8 +1.40 -1.40 (15.91% relative error)<br>Density: 2.28 +0.09 -0.08 (3.82% relative error)<br>Radius: 2.77 +0.12 -0.12 (4.33% relative error)",
          "Dataset: LIV34<br>Planet: TOI-270 b<br>Mass: 1.58 +0.26 -0.26 (16.46% relative error)<br>Density: 5.70 +0.22 -0.22 (3.82% relative error)<br>Radius: 1.151 +0.05 -0.05 (4.34% relative error)",
          "Dataset: LIV34<br>Planet: TOI-270 c<br>Mass: 6.14 +0.38 -0.38 (6.19% relative error)<br>Density: 2.68 +0.05 -0.05 (2.03% relative error)<br>Radius: 2.332 +0.07 -0.07 (3.09% relative error)",
          "Dataset: LIV34<br>Planet: TOI-270 d<br>Mass: 4.78 +0.46 -0.46 (9.62% relative error)<br>Density: 3.28 +0.08 -0.08 (2.49% relative error)<br>Radius: 2.005 +0.07 -0.07 (3.34% relative error)",
          "Dataset: LIV34<br>Planet: TOI-776 b<br>Mass: 4.0 +0.90 -0.90 (22.50% relative error)<br>Density: 3.40 +0.20 -0.16 (5.87% relative error)<br>Radius: 1.85 +0.13 -0.13 (7.03% relative error)",
          "Dataset: LIV34<br>Planet: TRAPPIST-1 b<br>Mass: 1.374 +0.07 -0.07 (5.02% relative error)<br>Density: 5.42 +0.05 -0.05 (0.89% relative error)<br>Radius: 1.116 +0.01 -0.01 (1.25% relative error)",
          "Dataset: LIV34<br>Planet: TRAPPIST-1 c<br>Mass: 1.308 +0.06 -0.06 (4.28% relative error)<br>Density: 5.45 +0.04 -0.04 (0.74% relative error)<br>Radius: 1.097 +0.01 -0.01 (1.28% relative error)",
          "Dataset: LIV34<br>Planet: TRAPPIST-1 d<br>Mass: 0.388 +0.01 -0.01 (3.09% relative error)<br>Density: 4.35 +0.03 -0.03 (0.65% relative error)<br>Radius: 0.788 +0.01 -0.01 (1.40% relative error)",
          "Dataset: LIV34<br>Planet: TRAPPIST-1 e<br>Mass: 0.692 +0.02 -0.02 (3.18% relative error)<br>Density: 4.88 +0.03 -0.03 (0.62% relative error)<br>Radius: 0.92 +0.01 -0.01 (1.41% relative error)",
          "Dataset: LIV34<br>Planet: TRAPPIST-1 f<br>Mass: 1.039 +0.03 -0.03 (2.98% relative error)<br>Density: 5.01 +0.03 -0.03 (0.50% relative error)<br>Radius: 1.045 +0.01 -0.01 (1.24% relative error)",
          "Dataset: LIV34<br>Planet: TRAPPIST-1 g<br>Mass: 1.321 +0.04 -0.04 (2.88% relative error)<br>Density: 5.04 +0.02 -0.03 (0.49% relative error)<br>Radius: 1.129 +0.01 -0.01 (1.33% relative error)",
          "Dataset: LIV34<br>Planet: TRAPPIST-1 h<br>Mass: 0.326 +0.02 -0.02 (6.13% relative error)<br>Density: 4.15 +0.06 -0.05 (1.41% relative error)<br>Radius: 0.755 +0.01 -0.01 (1.85% relative error)",
          "Dataset: EA add<br>Planet: GJ 367 b<br>Mass: 0.633 +0.05 -0.05 (7.90% relative error)<br>Density: 10.20 +0.24 -0.24 (2.31% relative error)<br>Radius: 0.699 +0.02 -0.02 (3.43% relative error)",
          "Dataset: EA add<br>Planet: HD 260655 b<br>Mass: 2.14 +0.34 -0.34 (15.89% relative error)<br>Density: 6.20 +0.18 -0.18 (2.93% relative error)<br>Radius: 1.24 +0.02 -0.02 (1.85% relative error)",
          "Dataset: EA add<br>Planet: HD 260655 c<br>Mass: 3.09 +0.48 -0.48 (15.53% relative error)<br>Density: 4.70 +0.16 -0.15 (3.48% relative error)<br>Radius: 1.533 +0.05 -0.05 (3.33% relative error)",
          "Dataset: EA add<br>Planet: K2-3 b<br>Mass: 6.48 +0.99 -0.93 (15.28% relative error)<br>Density: 3.70 +0.30 -0.20 (8.19% relative error)<br>Radius: 2.103 +0.26 -0.26 (12.22% relative error)",
          "Dataset: EA add<br>Planet: Kepler-26 b<br>Mass: 5.12 +0.65 -0.61 (12.70% relative error)<br>Density: 1.26 +0.04 -0.03 (3.02% relative error)<br>Radius: 2.78 +0.11 -0.11 (3.96% relative error)",
          "Dataset: EA add<br>Planet: Kepler-26 c<br>Mass: 6.2 +0.65 -0.65 (10.48% relative error)<br>Density: 1.61 +0.05 -0.04 (3.04% relative error)<br>Radius: 2.72 +0.12 -0.12 (4.41% relative error)",
          "Dataset: EA add<br>Planet: Kepler-94 b<br>Mass: 10.84 +1.40 -1.40 (12.92% relative error)<br>Density: 1.45 +0.05 -0.05 (3.25% relative error)<br>Radius: 3.51 +0.15 -0.15 (4.27% relative error)",
          "Dataset: EA add<br>Planet: LP 791-18 c<br>Mass: 7.1 +0.70 -0.70 (9.86% relative error)<br>Density: 2.69 +nan -nan (nan% relative error)<br>Radius: 2.438 +0.10 -0.10 (3.94% relative error)",
          "Dataset: EA add<br>Planet: LTT 1445 A b<br>Mass: 2.87 +0.26 -0.25 (9.06% relative error)<br>Density: 7.10 +0.22 -0.20 (3.07% relative error)<br>Radius: 1.18 +0.06 -0.06 (5.08% relative error)",
          "Dataset: EA add<br>Planet: LTT 1445 A c<br>Mass: 1.54 +0.20 -0.19 (12.99% relative error)<br>Density: 5.57 +0.12 -0.11 (2.22% relative error)<br>Radius: 1.147 +0.06 -0.05 (4.80% relative error)",
          "Dataset: EA add<br>Planet: TOI-1075 b<br>Mass: 9.95 +1.36 -1.30 (13.67% relative error)<br>Density: 9.32 +0.37 -0.34 (3.99% relative error)<br>Radius: 1.791 +0.12 -0.08 (6.48% relative error)",
          "Dataset: EA add<br>Planet: TOI-1201 b<br>Mass: 6.28 +0.84 -0.88 (13.38% relative error)<br>Density: 2.45 +0.09 -0.08 (3.56% relative error)<br>Radius: 2.415 +0.09 -0.09 (3.77% relative error)",
          "Dataset: EA add<br>Planet: TOI-1468 b<br>Mass: 3.21 +0.24 -0.24 (7.48% relative error)<br>Density: 8.41 +nan -nan (nan% relative error)<br>Radius: 1.28 +0.04 -0.04 (2.97% relative error)",
          "Dataset: EA add<br>Planet: TOI-1468 c<br>Mass: 6.64 +0.67 -0.68 (10.09% relative error)<br>Density: 4.15 +nan -nan (nan% relative error)<br>Radius: 2.064 +0.04 -0.04 (2.13% relative error)",
          "Dataset: EA add<br>Planet: TOI-1470 b<br>Mass: 7.32 +1.21 -1.24 (16.53% relative error)<br>Density: 3.86 +0.13 -0.12 (3.29% relative error)<br>Radius: 2.18 +0.04 -0.04 (1.83% relative error)",
          "Dataset: EA add<br>Planet: TOI-1695 b<br>Mass: 6.36 +1.00 -1.00 (15.72% relative error)<br>Density: 5.00 +0.33 -0.24 (6.53% relative error)<br>Radius: 1.9 +0.16 -0.14 (8.42% relative error)",
          "Dataset: EA add<br>Planet: TOI-1759 b<br>Mass: 10.8 +1.50 -1.50 (13.89% relative error)<br>Density: 1.91 +0.06 -0.06 (3.04% relative error)<br>Radius: 3.14 +0.10 -0.10 (3.18% relative error)",
          "Dataset: EA add<br>Planet: TOI-244 b<br>Mass: 2.68 +0.30 -0.30 (11.19% relative error)<br>Density: 4.20 +0.20 -0.20 (4.75% relative error)<br>Radius: 1.03 +0.08 -0.08 (7.77% relative error)"
         ],
         "type": "scatter",
         "x": [
          1.66,
          6.26,
          1.32,
          1.86,
          1.84,
          2.82,
          5.77,
          7.49,
          8.64,
          24.5,
          4.6,
          2.42,
          2.31,
          6.38,
          1.76,
          2.33,
          2.47,
          7.02,
          15.4,
          6.69,
          7.57,
          3.09,
          8.8,
          1.58,
          6.14,
          4.78,
          4,
          1.374,
          1.308,
          0.388,
          0.692,
          1.039,
          1.321,
          0.326,
          0.633,
          2.14,
          3.09,
          6.48,
          5.12,
          6.2,
          10.84,
          7.1,
          2.87,
          1.54,
          9.95,
          6.28,
          3.21,
          6.64,
          7.32,
          6.36,
          10.8,
          2.68
         ],
         "y": [
          1.1433756805807622,
          0.27041742286751363,
          0.7658802177858439,
          0.912885662431942,
          1.0163339382940109,
          1.2704174228675136,
          0.6696914700544465,
          0.7114337568058077,
          0.4355716878402904,
          0.5989110707803993,
          1.7422867513611615,
          0.9909255898366607,
          0.5753176043557169,
          1.4591651542649726,
          1.1016333938294012,
          1.2105263157894737,
          1.0725952813067152,
          0.5499092558983666,
          0.31578947368421056,
          1.3157894736842106,
          1.3774954627949183,
          0.6243194192377496,
          0.41379310344827586,
          1.0344827586206897,
          0.48638838475499097,
          0.5952813067150635,
          0.617059891107078,
          0.984573502722323,
          0.9885662431941924,
          0.7901996370235935,
          0.8865698729582577,
          0.9090744101633395,
          0.9150635208711434,
          0.7526315789473685,
          1.851179673321234,
          1.1252268602540836,
          0.852994555353902,
          0.6715063520871144,
          0.22867513611615245,
          0.29219600725952816,
          0.2631578947368421,
          0.4882032667876588,
          1.2885662431941924,
          1.0108892921960073,
          1.6914700544464611,
          0.4446460980036298,
          1.5263157894736843,
          0.7531760435571688,
          0.7005444646098004,
          0.9074410163339384,
          0.3466424682395644,
          0.7622504537205083
         ]
        },
        {
         "error_x": {
          "array": [
           0.23,
           0.86,
           0.28,
           0.3,
           0.31,
           0.11,
           0.18,
           0.24,
           1.35,
           5.7,
           0.56,
           0.35,
           0.46,
           0.46,
           0.17,
           0.2,
           0.24,
           0.69,
           3.3,
           0.67,
           0.71,
           0.59,
           1.4,
           0.26,
           0.38,
           0.46,
           0.9,
           0.069,
           0.056,
           0.012,
           0.022,
           0.031,
           0.038,
           0.02,
           0.05,
           0.34,
           0.48,
           0.99,
           0.65,
           0.65,
           1.4,
           0.7,
           0.26,
           0.2,
           1.36,
           0.84,
           0.24,
           0.67,
           1.21,
           1,
           1.5,
           0.3
          ],
          "arrayminus": [
           0.23,
           0.86,
           0.28,
           0.3,
           0.31,
           0.12,
           0.18,
           0.24,
           1.35,
           5.2,
           0.56,
           0.34,
           0.45,
           0.44,
           0.16,
           0.2,
           0.24,
           0.67,
           3.3,
           0.69,
           0.72,
           0.58,
           1.4,
           0.26,
           0.38,
           0.46,
           0.9,
           0.069,
           0.056,
           0.012,
           0.022,
           0.031,
           0.038,
           0.02,
           0.05,
           0.34,
           0.48,
           0.93,
           0.61,
           0.65,
           1.4,
           0.7,
           0.25,
           0.19,
           1.3,
           0.88,
           0.24,
           0.68,
           1.24,
           1,
           1.5,
           0.3
          ],
          "color": "rgba(169, 169, 169, 0.7)",
          "type": "data",
          "visible": true
         },
         "error_y": {
          "array": [
           0.056,
           0.2,
           0.074,
           0.05,
           0.084,
           0.063,
           0.06,
           0.07,
           0.065,
           0.12,
           0.09,
           0.07,
           0.08,
           0.046,
           0.037,
           0.051,
           0.06,
           0.14,
           0.16,
           0.08,
           0.077,
           0.07,
           0.12,
           0.05,
           0.072,
           0.067,
           0.13,
           0.014,
           0.014,
           0.011,
           0.013,
           0.013,
           0.015,
           0.014,
           0.024,
           0.023,
           0.051,
           0.257,
           0.11,
           0.12,
           0.15,
           0.096,
           0.06,
           0.055,
           0.116,
           0.091,
           0.038,
           0.044,
           0.04,
           0.16,
           0.1,
           0.08
          ],
          "arrayminus": [
           0.056,
           0.2,
           0.074,
           0.049,
           0.083,
           0.067,
           0.06,
           0.07,
           0.065,
           0.12,
           0.09,
           0.07,
           0.08,
           0.046,
           0.038,
           0.049,
           0.06,
           0.13,
           0.15,
           0.077,
           0.077,
           0.07,
           0.12,
           0.05,
           0.072,
           0.067,
           0.13,
           0.012,
           0.012,
           0.01,
           0.012,
           0.012,
           0.015,
           0.014,
           0.024,
           0.023,
           0.046,
           0.256,
           0.11,
           0.12,
           0.15,
           0.096,
           0.06,
           0.054,
           0.081,
           0.09,
           0.039,
           0.044,
           0.04,
           0.14,
           0.1,
           0.08
          ],
          "color": "rgba(169, 169, 169, 0.7)",
          "type": "data",
          "visible": true
         },
         "hoverinfo": "text",
         "marker": {
          "color": [
           529,
           576,
           1089,
           773,
           525,
           701,
           590,
           520,
           284,
           494,
           965,
           517,
           409,
           378.9,
           708.9,
           595,
           1000,
           397,
           329,
           775,
           921,
           1069,
           531,
           581,
           488,
           387,
           514,
           400.1,
           341.9,
           288,
           251.3,
           219,
           198.6,
           168,
           1365,
           709,
           557,
           463,
           431,
           385,
           997,
           324,
           555,
           508,
           1323,
           703,
           682,
           338,
           734,
           698,
           443,
           387
          ],
          "colorbar": {
           "title": {
            "text": "Temperature"
           }
          },
          "colorscale": [
           [
            0,
            "#000004"
           ],
           [
            0.1111111111111111,
            "#1b0c41"
           ],
           [
            0.2222222222222222,
            "#4a0c6b"
           ],
           [
            0.3333333333333333,
            "#781c6d"
           ],
           [
            0.4444444444444444,
            "#a52c60"
           ],
           [
            0.5555555555555556,
            "#cf4446"
           ],
           [
            0.6666666666666666,
            "#ed6925"
           ],
           [
            0.7777777777777778,
            "#fb9b06"
           ],
           [
            0.8888888888888888,
            "#f7d13d"
           ],
           [
            1,
            "#fcffa4"
           ]
          ],
          "showscale": true,
          "size": 12
         },
         "mode": "markers",
         "name": "Mass, Density - Combined Data",
         "text": [
          "Dataset: LIV34<br>Planet: GJ 1132 b<br>Mass: 1.66 +0.23 -0.23 (13.86% relative error)<br>Density: 6.30 +0.24 -0.24 (3.74% relative error)<br>Radius: 1.13 +0.06 -0.06 (4.96% relative error)",
          "Dataset: LIV34<br>Planet: GJ 1214 b<br>Mass: 6.26 +0.86 -0.86 (13.74% relative error)<br>Density: 1.49 +0.08 -0.06 (5.12% relative error)<br>Radius: 2.85 +0.20 -0.20 (7.02% relative error)",
          "Dataset: LIV34<br>Planet: GJ 1252 b<br>Mass: 1.32 +0.28 -0.28 (21.21% relative error)<br>Density: 4.22 +0.24 -0.20 (5.76% relative error)<br>Radius: 1.193 +0.07 -0.07 (6.20% relative error)",
          "Dataset: LIV34<br>Planet: GJ 3473 b<br>Mass: 1.86 +0.30 -0.30 (16.13% relative error)<br>Density: 5.03 +0.19 -0.17 (3.86% relative error)<br>Radius: 1.264 +0.05 -0.05 (3.96% relative error)",
          "Dataset: LIV34<br>Planet: GJ 357 b<br>Mass: 1.84 +0.31 -0.31 (16.85% relative error)<br>Density: 5.60 +0.31 -0.24 (5.51% relative error)<br>Radius: 1.217 +0.08 -0.08 (6.90% relative error)",
          "Dataset: LIV34<br>Planet: GJ 486 b<br>Mass: 2.82 +0.11 -0.12 (3.90% relative error)<br>Density: 7.00 +0.22 -0.18 (3.11% relative error)<br>Radius: 1.305 +0.06 -0.07 (4.83% relative error)",
          "Dataset: LIV34<br>Planet: K2-146 b<br>Mass: 5.77 +0.18 -0.18 (3.12% relative error)<br>Density: 3.69 +0.04 -0.04 (1.03% relative error)<br>Radius: 2.05 +0.06 -0.06 (2.93% relative error)",
          "Dataset: LIV34<br>Planet: K2-146 c<br>Mass: 7.49 +0.24 -0.24 (3.20% relative error)<br>Density: 3.92 +0.05 -0.05 (1.25% relative error)<br>Radius: 2.19 +0.07 -0.07 (3.20% relative error)",
          "Dataset: LIV34<br>Planet: K2-18 b<br>Mass: 8.64 +1.35 -1.35 (15.62% relative error)<br>Density: 2.40 +0.07 -0.07 (3.02% relative error)<br>Radius: 2.711 +0.07 -0.07 (2.40% relative error)",
          "Dataset: LIV34<br>Planet: K2-25 b<br>Mass: 24.5 +5.70 -5.20 (23.27% relative error)<br>Density: 3.30 +0.15 -0.15 (4.40% relative error)<br>Radius: 3.44 +0.12 -0.12 (3.49% relative error)",
          "Dataset: LIV34<br>Planet: L 168-9 b<br>Mass: 4.6 +0.56 -0.56 (12.17% relative error)<br>Density: 9.60 +0.44 -0.33 (4.54% relative error)<br>Radius: 1.39 +0.09 -0.09 (6.47% relative error)",
          "Dataset: LIV34<br>Planet: L 98-59 c<br>Mass: 2.42 +0.35 -0.34 (14.46% relative error)<br>Density: 5.46 +0.22 -0.19 (4.09% relative error)<br>Radius: 1.34 +0.07 -0.07 (5.22% relative error)",
          "Dataset: LIV34<br>Planet: L 98-59 d<br>Mass: 2.31 +0.46 -0.45 (19.91% relative error)<br>Density: 3.17 +0.15 -0.13 (4.87% relative error)<br>Radius: 1.58 +0.08 -0.08 (5.06% relative error)",
          "Dataset: LIV34<br>Planet: LHS 1140 b<br>Mass: 6.38 +0.46 -0.44 (7.21% relative error)<br>Density: 8.04 +0.15 -0.15 (1.90% relative error)<br>Radius: 1.635 +0.05 -0.05 (2.81% relative error)",
          "Dataset: LIV34<br>Planet: LHS 1140 c<br>Mass: 1.76 +0.17 -0.16 (9.66% relative error)<br>Density: 6.07 +0.15 -0.13 (2.42% relative error)<br>Radius: 1.169 +0.04 -0.04 (3.17% relative error)",
          "Dataset: LIV34<br>Planet: LHS 1478 b<br>Mass: 2.33 +0.20 -0.20 (8.58% relative error)<br>Density: 6.67 +0.19 -0.16 (2.80% relative error)<br>Radius: 1.242 +0.05 -0.05 (4.11% relative error)",
          "Dataset: LIV34<br>Planet: LTT 3780 b<br>Mass: 2.47 +0.24 -0.24 (9.72% relative error)<br>Density: 5.91 +0.20 -0.16 (3.32% relative error)<br>Radius: 1.32 +0.06 -0.06 (4.55% relative error)",
          "Dataset: LIV34<br>Planet: LTT 3780 c<br>Mass: 7.02 +0.69 -0.67 (9.83% relative error)<br>Density: 3.03 +0.12 -0.10 (3.95% relative error)<br>Radius: 2.33 +0.14 -0.13 (6.01% relative error)",
          "Dataset: LIV34<br>Planet: TOI-1231 b<br>Mass: 15.4 +3.30 -3.30 (21.43% relative error)<br>Density: 1.74 +0.09 -0.08 (4.90% relative error)<br>Radius: 3.65 +0.16 -0.15 (4.38% relative error)",
          "Dataset: LIV34<br>Planet: TOI-1235 b<br>Mass: 6.69 +0.67 -0.69 (10.01% relative error)<br>Density: 7.25 +0.24 -0.20 (3.25% relative error)<br>Radius: 1.694 +0.08 -0.08 (4.72% relative error)",
          "Dataset: LIV34<br>Planet: TOI-1634 b<br>Mass: 7.57 +0.71 -0.72 (9.38% relative error)<br>Density: 7.59 +0.24 -0.21 (3.18% relative error)<br>Radius: 1.773 +0.08 -0.08 (4.34% relative error)",
          "Dataset: LIV34<br>Planet: TOI-1685 b<br>Mass: 3.09 +0.59 -0.58 (19.09% relative error)<br>Density: 3.44 +0.16 -0.13 (4.54% relative error)<br>Radius: 1.7 +0.07 -0.07 (4.12% relative error)",
          "Dataset: LIV34<br>Planet: TOI-269 b<br>Mass: 8.8 +1.40 -1.40 (15.91% relative error)<br>Density: 2.28 +0.09 -0.08 (3.82% relative error)<br>Radius: 2.77 +0.12 -0.12 (4.33% relative error)",
          "Dataset: LIV34<br>Planet: TOI-270 b<br>Mass: 1.58 +0.26 -0.26 (16.46% relative error)<br>Density: 5.70 +0.22 -0.22 (3.82% relative error)<br>Radius: 1.151 +0.05 -0.05 (4.34% relative error)",
          "Dataset: LIV34<br>Planet: TOI-270 c<br>Mass: 6.14 +0.38 -0.38 (6.19% relative error)<br>Density: 2.68 +0.05 -0.05 (2.03% relative error)<br>Radius: 2.332 +0.07 -0.07 (3.09% relative error)",
          "Dataset: LIV34<br>Planet: TOI-270 d<br>Mass: 4.78 +0.46 -0.46 (9.62% relative error)<br>Density: 3.28 +0.08 -0.08 (2.49% relative error)<br>Radius: 2.005 +0.07 -0.07 (3.34% relative error)",
          "Dataset: LIV34<br>Planet: TOI-776 b<br>Mass: 4.0 +0.90 -0.90 (22.50% relative error)<br>Density: 3.40 +0.20 -0.16 (5.87% relative error)<br>Radius: 1.85 +0.13 -0.13 (7.03% relative error)",
          "Dataset: LIV34<br>Planet: TRAPPIST-1 b<br>Mass: 1.374 +0.07 -0.07 (5.02% relative error)<br>Density: 5.42 +0.05 -0.05 (0.89% relative error)<br>Radius: 1.116 +0.01 -0.01 (1.25% relative error)",
          "Dataset: LIV34<br>Planet: TRAPPIST-1 c<br>Mass: 1.308 +0.06 -0.06 (4.28% relative error)<br>Density: 5.45 +0.04 -0.04 (0.74% relative error)<br>Radius: 1.097 +0.01 -0.01 (1.28% relative error)",
          "Dataset: LIV34<br>Planet: TRAPPIST-1 d<br>Mass: 0.388 +0.01 -0.01 (3.09% relative error)<br>Density: 4.35 +0.03 -0.03 (0.65% relative error)<br>Radius: 0.788 +0.01 -0.01 (1.40% relative error)",
          "Dataset: LIV34<br>Planet: TRAPPIST-1 e<br>Mass: 0.692 +0.02 -0.02 (3.18% relative error)<br>Density: 4.88 +0.03 -0.03 (0.62% relative error)<br>Radius: 0.92 +0.01 -0.01 (1.41% relative error)",
          "Dataset: LIV34<br>Planet: TRAPPIST-1 f<br>Mass: 1.039 +0.03 -0.03 (2.98% relative error)<br>Density: 5.01 +0.03 -0.03 (0.50% relative error)<br>Radius: 1.045 +0.01 -0.01 (1.24% relative error)",
          "Dataset: LIV34<br>Planet: TRAPPIST-1 g<br>Mass: 1.321 +0.04 -0.04 (2.88% relative error)<br>Density: 5.04 +0.02 -0.03 (0.49% relative error)<br>Radius: 1.129 +0.01 -0.01 (1.33% relative error)",
          "Dataset: LIV34<br>Planet: TRAPPIST-1 h<br>Mass: 0.326 +0.02 -0.02 (6.13% relative error)<br>Density: 4.15 +0.06 -0.05 (1.41% relative error)<br>Radius: 0.755 +0.01 -0.01 (1.85% relative error)",
          "Dataset: EA add<br>Planet: GJ 367 b<br>Mass: 0.633 +0.05 -0.05 (7.90% relative error)<br>Density: 10.20 +0.24 -0.24 (2.31% relative error)<br>Radius: 0.699 +0.02 -0.02 (3.43% relative error)",
          "Dataset: EA add<br>Planet: HD 260655 b<br>Mass: 2.14 +0.34 -0.34 (15.89% relative error)<br>Density: 6.20 +0.18 -0.18 (2.93% relative error)<br>Radius: 1.24 +0.02 -0.02 (1.85% relative error)",
          "Dataset: EA add<br>Planet: HD 260655 c<br>Mass: 3.09 +0.48 -0.48 (15.53% relative error)<br>Density: 4.70 +0.16 -0.15 (3.48% relative error)<br>Radius: 1.533 +0.05 -0.05 (3.33% relative error)",
          "Dataset: EA add<br>Planet: K2-3 b<br>Mass: 6.48 +0.99 -0.93 (15.28% relative error)<br>Density: 3.70 +0.30 -0.20 (8.19% relative error)<br>Radius: 2.103 +0.26 -0.26 (12.22% relative error)",
          "Dataset: EA add<br>Planet: Kepler-26 b<br>Mass: 5.12 +0.65 -0.61 (12.70% relative error)<br>Density: 1.26 +0.04 -0.03 (3.02% relative error)<br>Radius: 2.78 +0.11 -0.11 (3.96% relative error)",
          "Dataset: EA add<br>Planet: Kepler-26 c<br>Mass: 6.2 +0.65 -0.65 (10.48% relative error)<br>Density: 1.61 +0.05 -0.04 (3.04% relative error)<br>Radius: 2.72 +0.12 -0.12 (4.41% relative error)",
          "Dataset: EA add<br>Planet: Kepler-94 b<br>Mass: 10.84 +1.40 -1.40 (12.92% relative error)<br>Density: 1.45 +0.05 -0.05 (3.25% relative error)<br>Radius: 3.51 +0.15 -0.15 (4.27% relative error)",
          "Dataset: EA add<br>Planet: LP 791-18 c<br>Mass: 7.1 +0.70 -0.70 (9.86% relative error)<br>Density: 2.69 +nan -nan (nan% relative error)<br>Radius: 2.438 +0.10 -0.10 (3.94% relative error)",
          "Dataset: EA add<br>Planet: LTT 1445 A b<br>Mass: 2.87 +0.26 -0.25 (9.06% relative error)<br>Density: 7.10 +0.22 -0.20 (3.07% relative error)<br>Radius: 1.18 +0.06 -0.06 (5.08% relative error)",
          "Dataset: EA add<br>Planet: LTT 1445 A c<br>Mass: 1.54 +0.20 -0.19 (12.99% relative error)<br>Density: 5.57 +0.12 -0.11 (2.22% relative error)<br>Radius: 1.147 +0.06 -0.05 (4.80% relative error)",
          "Dataset: EA add<br>Planet: TOI-1075 b<br>Mass: 9.95 +1.36 -1.30 (13.67% relative error)<br>Density: 9.32 +0.37 -0.34 (3.99% relative error)<br>Radius: 1.791 +0.12 -0.08 (6.48% relative error)",
          "Dataset: EA add<br>Planet: TOI-1201 b<br>Mass: 6.28 +0.84 -0.88 (13.38% relative error)<br>Density: 2.45 +0.09 -0.08 (3.56% relative error)<br>Radius: 2.415 +0.09 -0.09 (3.77% relative error)",
          "Dataset: EA add<br>Planet: TOI-1468 b<br>Mass: 3.21 +0.24 -0.24 (7.48% relative error)<br>Density: 8.41 +nan -nan (nan% relative error)<br>Radius: 1.28 +0.04 -0.04 (2.97% relative error)",
          "Dataset: EA add<br>Planet: TOI-1468 c<br>Mass: 6.64 +0.67 -0.68 (10.09% relative error)<br>Density: 4.15 +nan -nan (nan% relative error)<br>Radius: 2.064 +0.04 -0.04 (2.13% relative error)",
          "Dataset: EA add<br>Planet: TOI-1470 b<br>Mass: 7.32 +1.21 -1.24 (16.53% relative error)<br>Density: 3.86 +0.13 -0.12 (3.29% relative error)<br>Radius: 2.18 +0.04 -0.04 (1.83% relative error)",
          "Dataset: EA add<br>Planet: TOI-1695 b<br>Mass: 6.36 +1.00 -1.00 (15.72% relative error)<br>Density: 5.00 +0.33 -0.24 (6.53% relative error)<br>Radius: 1.9 +0.16 -0.14 (8.42% relative error)",
          "Dataset: EA add<br>Planet: TOI-1759 b<br>Mass: 10.8 +1.50 -1.50 (13.89% relative error)<br>Density: 1.91 +0.06 -0.06 (3.04% relative error)<br>Radius: 3.14 +0.10 -0.10 (3.18% relative error)",
          "Dataset: EA add<br>Planet: TOI-244 b<br>Mass: 2.68 +0.30 -0.30 (11.19% relative error)<br>Density: 4.20 +0.20 -0.20 (4.75% relative error)<br>Radius: 1.03 +0.08 -0.08 (7.77% relative error)"
         ],
         "type": "scatter",
         "x": [
          1.66,
          6.26,
          1.32,
          1.86,
          1.84,
          2.82,
          5.77,
          7.49,
          8.64,
          24.5,
          4.6,
          2.42,
          2.31,
          6.38,
          1.76,
          2.33,
          2.47,
          7.02,
          15.4,
          6.69,
          7.57,
          3.09,
          8.8,
          1.58,
          6.14,
          4.78,
          4,
          1.374,
          1.308,
          0.388,
          0.692,
          1.039,
          1.321,
          0.326,
          0.633,
          2.14,
          3.09,
          6.48,
          5.12,
          6.2,
          10.84,
          7.1,
          2.87,
          1.54,
          9.95,
          6.28,
          3.21,
          6.64,
          7.32,
          6.36,
          10.8,
          2.68
         ],
         "y": [
          1.13,
          2.85,
          1.193,
          1.264,
          1.217,
          1.305,
          2.05,
          2.19,
          2.711,
          3.44,
          1.39,
          1.34,
          1.58,
          1.635,
          1.169,
          1.242,
          1.32,
          2.33,
          3.65,
          1.694,
          1.773,
          1.7,
          2.77,
          1.151,
          2.332,
          2.005,
          1.85,
          1.116,
          1.097,
          0.788,
          0.92,
          1.045,
          1.129,
          0.755,
          0.699,
          1.24,
          1.533,
          2.103,
          2.78,
          2.72,
          3.51,
          2.438,
          1.18,
          1.147,
          1.791,
          2.415,
          1.28,
          2.064,
          2.18,
          1.9,
          3.14,
          1.03
         ]
        },
        {
         "error_x": {
          "array": [
           0.23,
           0.86,
           0.28,
           0.3,
           0.31,
           0.11,
           0.18,
           0.24,
           1.35,
           5.7,
           0.56,
           0.35,
           0.46,
           0.46,
           0.17,
           0.2,
           0.24,
           0.69,
           3.3,
           0.67,
           0.71,
           0.59,
           1.4,
           0.26,
           0.38,
           0.46,
           0.9,
           0.069,
           0.056,
           0.012,
           0.022,
           0.031,
           0.038,
           0.02,
           2.07,
           0.72,
           0.05,
           0.44,
           0.34,
           0.48,
           0.99,
           0.6,
           0.05,
           1.2,
           0.3,
           0.65,
           0.65,
           1.4,
           0.7,
           0.26,
           0.2,
           1.36,
           0.84,
           1.3,
           0.24,
           0.67,
           1.21,
           1,
           1.5,
           0.3
          ],
          "arrayminus": [
           0.23,
           0.86,
           0.28,
           0.3,
           0.31,
           0.12,
           0.18,
           0.24,
           1.35,
           5.2,
           0.56,
           0.34,
           0.45,
           0.44,
           0.16,
           0.2,
           0.24,
           0.67,
           3.3,
           0.69,
           0.72,
           0.58,
           1.4,
           0.26,
           0.38,
           0.46,
           0.9,
           0.069,
           0.056,
           0.012,
           0.022,
           0.031,
           0.038,
           0.02,
           2.31,
           0.72,
           0.05,
           0.45,
           0.34,
           0.48,
           0.93,
           0.6,
           0.05,
           1.2,
           0.3,
           0.61,
           0.65,
           1.4,
           0.7,
           0.25,
           0.19,
           1.3,
           0.88,
           1.3,
           0.24,
           0.68,
           1.24,
           1,
           1.5,
           0.3
          ],
          "color": "rgba(169, 169, 169, 0.7)",
          "type": "data",
          "visible": true
         },
         "error_y": {
          "array": [
           0.23593466424682397,
           0.07622504537205081,
           0.24319419237749548,
           0.1941923774954628,
           0.308529945553539,
           0.2177858439201452,
           0.038112522686025406,
           0.049001814882032674,
           0.07259528130671507,
           0.14519056261343014,
           0.4355716878402904,
           0.22323049001814882,
           0.1542649727767695,
           0.15245009074410162,
           0.14700544464609802,
           0.1869328493647913,
           0.1960072595281307,
           0.11978221415607987,
           0.0852994555353902,
           0.23593466424682397,
           0.2413793103448276,
           0.1560798548094374,
           0.08711433756805807,
           0.2177858439201452,
           0.0544464609800363,
           0.08166969147005446,
           0.19963702359346644,
           0.04809437386569873,
           0.040290381125226864,
           0.028312159709618877,
           0.030490018148820328,
           0.0250453720508167,
           0.024682395644283123,
           0.05843920145190563,
           0.047186932849364795,
           0.09437386569872959,
           0.23593466424682397,
           0.3629764065335753,
           0.18148820326678766,
           0.1633393829401089,
           0.30308529945553536,
           null,
           0.18148820326678766,
           0.3448275862068966,
           0.07985480943738657,
           0.038112522686025406,
           0.049001814882032674,
           0.047186932849364795,
           null,
           0.2177858439201452,
           0.12341197822141563,
           0.3720508166969147,
           0.08711433756805807,
           0.3266787658802178,
           null,
           null,
           0.12704174228675136,
           0.3266787658802178,
           0.058076225045372055,
           0.19963702359346644
          ],
          "arrayminus": [
           0.23593466424682397,
           0.059891107078039935,
           0.19963702359346644,
           0.16878402903811254,
           0.23593466424682397,
           0.18148820326678766,
           0.038112522686025406,
           0.049001814882032674,
           0.07259528130671507,
           0.14519056261343014,
           0.3266787658802178,
           0.19056261343012706,
           0.132486388384755,
           0.14519056261343014,
           0.13430127041742287,
           0.16152450090744103,
           0.16152450090744103,
           0.09800362976406535,
           0.07622504537205081,
           0.19963702359346644,
           0.20689655172413793,
           0.13430127041742287,
           0.07622504537205081,
           0.2177858439201452,
           0.0544464609800363,
           0.08166969147005446,
           0.1633393829401089,
           0.049364791288566245,
           0.0426497277676951,
           0.029582577132486392,
           0.033030852994555354,
           0.028675136116152453,
           0.028675136116152453,
           0.054809437386569876,
           0.05263157894736842,
           0.08166969147005446,
           0.23593466424682397,
           0.3629764065335753,
           0.18148820326678766,
           0.14519056261343014,
           0.1960072595281307,
           null,
           0.15789473684210528,
           0.2722323049001815,
           0.06352087114337568,
           0.034482758620689655,
           0.039927404718693285,
           0.047186932849364795,
           null,
           0.19963702359346644,
           0.1088929219600726,
           0.3357531760435572,
           0.07622504537205081,
           0.29038112522686027,
           null,
           null,
           0.12341197822141563,
           0.23593466424682397,
           0.058076225045372055,
           0.19963702359346644
          ],
          "color": "rgba(169, 169, 169, 0.7)",
          "type": "data",
          "visible": true
         },
         "hoverinfo": "text",
         "marker": {
          "color": [
           529,
           576,
           1089,
           773,
           525,
           701,
           590,
           520,
           284,
           494,
           965,
           517,
           409,
           378.9,
           708.9,
           595,
           1000,
           397,
           329,
           775,
           921,
           1069,
           531,
           581,
           488,
           387,
           514,
           400.1,
           341.9,
           288,
           251.3,
           219,
           198.6,
           168,
           454,
           693,
           1365,
           568,
           709,
           557,
           463,
           507,
           524,
           476,
           401,
           431,
           385,
           997,
           324,
           555,
           508,
           1323,
           703,
           326,
           682,
           338,
           734,
           698,
           443,
           387
          ],
          "colorbar": {
           "title": {
            "text": "Temperature"
           }
          },
          "colorscale": [
           [
            0,
            "#000004"
           ],
           [
            0.1111111111111111,
            "#1b0c41"
           ],
           [
            0.2222222222222222,
            "#4a0c6b"
           ],
           [
            0.3333333333333333,
            "#781c6d"
           ],
           [
            0.4444444444444444,
            "#a52c60"
           ],
           [
            0.5555555555555556,
            "#cf4446"
           ],
           [
            0.6666666666666666,
            "#ed6925"
           ],
           [
            0.7777777777777778,
            "#fb9b06"
           ],
           [
            0.8888888888888888,
            "#f7d13d"
           ],
           [
            1,
            "#fcffa4"
           ]
          ],
          "showscale": true,
          "size": 12
         },
         "mode": "markers",
         "name": "Mass, Density - Combined Data",
         "text": [
          "Dataset: LIV34<br>Planet: GJ 1132 b<br>Mass: 1.66 +0.23 -0.23 (13.86% relative error)<br>Radius: 1.13 +0.06 -0.06 (4.96% relative error)",
          "Dataset: LIV34<br>Planet: GJ 1214 b<br>Mass: 6.26 +0.86 -0.86 (13.74% relative error)<br>Radius: 2.85 +0.20 -0.20 (7.02% relative error)",
          "Dataset: LIV34<br>Planet: GJ 1252 b<br>Mass: 1.32 +0.28 -0.28 (21.21% relative error)<br>Radius: 1.193 +0.07 -0.07 (6.20% relative error)",
          "Dataset: LIV34<br>Planet: GJ 3473 b<br>Mass: 1.86 +0.30 -0.30 (16.13% relative error)<br>Radius: 1.264 +0.05 -0.05 (3.92% relative error)",
          "Dataset: LIV34<br>Planet: GJ 357 b<br>Mass: 1.84 +0.31 -0.31 (16.85% relative error)<br>Radius: 1.217 +0.08 -0.08 (6.86% relative error)",
          "Dataset: LIV34<br>Planet: GJ 486 b<br>Mass: 2.82 +0.11 -0.12 (4.08% relative error)<br>Radius: 1.305 +0.06 -0.07 (4.98% relative error)",
          "Dataset: LIV34<br>Planet: K2-146 b<br>Mass: 5.77 +0.18 -0.18 (3.12% relative error)<br>Radius: 2.05 +0.06 -0.06 (2.93% relative error)",
          "Dataset: LIV34<br>Planet: K2-146 c<br>Mass: 7.49 +0.24 -0.24 (3.20% relative error)<br>Radius: 2.19 +0.07 -0.07 (3.20% relative error)",
          "Dataset: LIV34<br>Planet: K2-18 b<br>Mass: 8.64 +1.35 -1.35 (15.62% relative error)<br>Radius: 2.711 +0.07 -0.07 (2.40% relative error)",
          "Dataset: LIV34<br>Planet: K2-25 b<br>Mass: 24.5 +5.70 -5.20 (22.24% relative error)<br>Radius: 3.44 +0.12 -0.12 (3.49% relative error)",
          "Dataset: LIV34<br>Planet: L 168-9 b<br>Mass: 4.6 +0.56 -0.56 (12.17% relative error)<br>Radius: 1.39 +0.09 -0.09 (6.47% relative error)",
          "Dataset: LIV34<br>Planet: L 98-59 c<br>Mass: 2.42 +0.35 -0.34 (14.26% relative error)<br>Radius: 1.34 +0.07 -0.07 (5.22% relative error)",
          "Dataset: LIV34<br>Planet: L 98-59 d<br>Mass: 2.31 +0.46 -0.45 (19.70% relative error)<br>Radius: 1.58 +0.08 -0.08 (5.06% relative error)",
          "Dataset: LIV34<br>Planet: LHS 1140 b<br>Mass: 6.38 +0.46 -0.44 (7.05% relative error)<br>Radius: 1.635 +0.05 -0.05 (2.81% relative error)",
          "Dataset: LIV34<br>Planet: LHS 1140 c<br>Mass: 1.76 +0.17 -0.16 (9.38% relative error)<br>Radius: 1.169 +0.04 -0.04 (3.21% relative error)",
          "Dataset: LIV34<br>Planet: LHS 1478 b<br>Mass: 2.33 +0.20 -0.20 (8.58% relative error)<br>Radius: 1.242 +0.05 -0.05 (4.03% relative error)",
          "Dataset: LIV34<br>Planet: LTT 3780 b<br>Mass: 2.47 +0.24 -0.24 (9.72% relative error)<br>Radius: 1.32 +0.06 -0.06 (4.55% relative error)",
          "Dataset: LIV34<br>Planet: LTT 3780 c<br>Mass: 7.02 +0.69 -0.67 (9.69% relative error)<br>Radius: 2.33 +0.14 -0.13 (5.79% relative error)",
          "Dataset: LIV34<br>Planet: TOI-1231 b<br>Mass: 15.4 +3.30 -3.30 (21.43% relative error)<br>Radius: 3.65 +0.16 -0.15 (4.25% relative error)",
          "Dataset: LIV34<br>Planet: TOI-1235 b<br>Mass: 6.69 +0.67 -0.69 (10.16% relative error)<br>Radius: 1.694 +0.08 -0.08 (4.63% relative error)",
          "Dataset: LIV34<br>Planet: TOI-1634 b<br>Mass: 7.57 +0.71 -0.72 (9.45% relative error)<br>Radius: 1.773 +0.08 -0.08 (4.34% relative error)",
          "Dataset: LIV34<br>Planet: TOI-1685 b<br>Mass: 3.09 +0.59 -0.58 (18.93% relative error)<br>Radius: 1.7 +0.07 -0.07 (4.12% relative error)",
          "Dataset: LIV34<br>Planet: TOI-269 b<br>Mass: 8.8 +1.40 -1.40 (15.91% relative error)<br>Radius: 2.77 +0.12 -0.12 (4.33% relative error)",
          "Dataset: LIV34<br>Planet: TOI-270 b<br>Mass: 1.58 +0.26 -0.26 (16.46% relative error)<br>Radius: 1.151 +0.05 -0.05 (4.34% relative error)",
          "Dataset: LIV34<br>Planet: TOI-270 c<br>Mass: 6.14 +0.38 -0.38 (6.19% relative error)<br>Radius: 2.332 +0.07 -0.07 (3.09% relative error)",
          "Dataset: LIV34<br>Planet: TOI-270 d<br>Mass: 4.78 +0.46 -0.46 (9.62% relative error)<br>Radius: 2.005 +0.07 -0.07 (3.34% relative error)",
          "Dataset: LIV34<br>Planet: TOI-776 b<br>Mass: 4.0 +0.90 -0.90 (22.50% relative error)<br>Radius: 1.85 +0.13 -0.13 (7.03% relative error)",
          "Dataset: LIV34<br>Planet: TRAPPIST-1 b<br>Mass: 1.374 +0.07 -0.07 (5.02% relative error)<br>Radius: 1.116 +0.01 -0.01 (1.16% relative error)",
          "Dataset: LIV34<br>Planet: TRAPPIST-1 c<br>Mass: 1.308 +0.06 -0.06 (4.28% relative error)<br>Radius: 1.097 +0.01 -0.01 (1.19% relative error)",
          "Dataset: LIV34<br>Planet: TRAPPIST-1 d<br>Mass: 0.388 +0.01 -0.01 (3.09% relative error)<br>Radius: 0.788 +0.01 -0.01 (1.33% relative error)",
          "Dataset: LIV34<br>Planet: TRAPPIST-1 e<br>Mass: 0.692 +0.02 -0.02 (3.18% relative error)<br>Radius: 0.92 +0.01 -0.01 (1.36% relative error)",
          "Dataset: LIV34<br>Planet: TRAPPIST-1 f<br>Mass: 1.039 +0.03 -0.03 (2.98% relative error)<br>Radius: 1.045 +0.01 -0.01 (1.20% relative error)",
          "Dataset: LIV34<br>Planet: TRAPPIST-1 g<br>Mass: 1.321 +0.04 -0.04 (2.88% relative error)<br>Radius: 1.129 +0.01 -0.01 (1.33% relative error)",
          "Dataset: LIV34<br>Planet: TRAPPIST-1 h<br>Mass: 0.326 +0.02 -0.02 (6.13% relative error)<br>Radius: 0.755 +0.01 -0.01 (1.85% relative error)",
          "Dataset: EA add 33%<br>Planet: AU Mic c<br>Mass: 9.6 +2.07 -2.31 (22.81% relative error)<br>Radius: 3.24 +0.16 -0.16 (4.94% relative error)",
          "Dataset: EA add 33%<br>Planet: GJ 3090 b<br>Mass: 3.34 +0.72 -0.72 (21.56% relative error)<br>Radius: 2.13 +0.11 -0.11 (5.16% relative error)",
          "Dataset: EA add 33%<br>Planet: GJ 367 b<br>Mass: 0.633 +0.05 -0.05 (7.90% relative error)<br>Radius: 0.699 +0.02 -0.02 (3.43% relative error)",
          "Dataset: EA add 33%<br>Planet: GJ 3929 b<br>Mass: 1.75 +0.44 -0.45 (25.43% relative error)<br>Radius: 1.09 +0.04 -0.04 (3.67% relative error)",
          "Dataset: EA add 33%<br>Planet: HD 260655 b<br>Mass: 2.14 +0.34 -0.34 (15.89% relative error)<br>Radius: 1.24 +0.02 -0.02 (1.85% relative error)",
          "Dataset: EA add 33%<br>Planet: HD 260655 c<br>Mass: 3.09 +0.48 -0.48 (15.53% relative error)<br>Radius: 1.533 +0.05 -0.05 (3.16% relative error)",
          "Dataset: EA add 33%<br>Planet: K2-3 b<br>Mass: 6.48 +0.99 -0.93 (14.81% relative error)<br>Radius: 2.103 +0.26 -0.26 (12.20% relative error)",
          "Dataset: EA add 33%<br>Planet: Kepler-114 c<br>Mass: 2.8 +0.60 -0.60 (21.43% relative error)<br>Radius: 1.6 +0.18 -0.18 (11.25% relative error)",
          "Dataset: EA add 33%<br>Planet: Kepler-138 b<br>Mass: 0.187 +0.05 -0.05 (26.74% relative error)<br>Radius: 0.701 +0.07 -0.07 (9.42% relative error)",
          "Dataset: EA add 33%<br>Planet: Kepler-138 c<br>Mass: 5.2 +1.20 -1.20 (23.08% relative error)<br>Radius: 1.67 +0.15 -0.15 (8.98% relative error)",
          "Dataset: EA add 33%<br>Planet: Kepler-138 d<br>Mass: 1.17 +0.30 -0.30 (25.64% relative error)<br>Radius: 1.68 +0.15 -0.15 (8.93% relative error)",
          "Dataset: EA add 33%<br>Planet: Kepler-26 b<br>Mass: 5.12 +0.65 -0.61 (12.30% relative error)<br>Radius: 2.78 +0.11 -0.11 (3.96% relative error)",
          "Dataset: EA add 33%<br>Planet: Kepler-26 c<br>Mass: 6.2 +0.65 -0.65 (10.48% relative error)<br>Radius: 2.72 +0.12 -0.12 (4.41% relative error)",
          "Dataset: EA add 33%<br>Planet: Kepler-94 b<br>Mass: 10.84 +1.40 -1.40 (12.92% relative error)<br>Radius: 3.51 +0.15 -0.15 (4.27% relative error)",
          "Dataset: EA add 33%<br>Planet: LP 791-18 c<br>Mass: 7.1 +0.70 -0.70 (9.86% relative error)<br>Radius: 2.438 +0.10 -0.10 (3.94% relative error)",
          "Dataset: EA add 33%<br>Planet: LTT 1445 A b<br>Mass: 2.87 +0.26 -0.25 (8.89% relative error)<br>Radius: 1.18 +0.06 -0.06 (5.08% relative error)",
          "Dataset: EA add 33%<br>Planet: LTT 1445 A c<br>Mass: 1.54 +0.20 -0.19 (12.66% relative error)<br>Radius: 1.147 +0.06 -0.05 (4.75% relative error)",
          "Dataset: EA add 33%<br>Planet: TOI-1075 b<br>Mass: 9.95 +1.36 -1.30 (13.37% relative error)<br>Radius: 1.791 +0.12 -0.08 (5.50% relative error)",
          "Dataset: EA add 33%<br>Planet: TOI-1201 b<br>Mass: 6.28 +0.84 -0.88 (13.69% relative error)<br>Radius: 2.415 +0.09 -0.09 (3.75% relative error)",
          "Dataset: EA add 33%<br>Planet: TOI-1452 b<br>Mass: 4.82 +1.30 -1.30 (26.97% relative error)<br>Radius: 1.672 +0.07 -0.07 (4.25% relative error)",
          "Dataset: EA add 33%<br>Planet: TOI-1468 b<br>Mass: 3.21 +0.24 -0.24 (7.48% relative error)<br>Radius: 1.28 +0.04 -0.04 (3.01% relative error)",
          "Dataset: EA add 33%<br>Planet: TOI-1468 c<br>Mass: 6.64 +0.67 -0.68 (10.17% relative error)<br>Radius: 2.064 +0.04 -0.04 (2.13% relative error)",
          "Dataset: EA add 33%<br>Planet: TOI-1470 b<br>Mass: 7.32 +1.21 -1.24 (16.73% relative error)<br>Radius: 2.18 +0.04 -0.04 (1.83% relative error)",
          "Dataset: EA add 33%<br>Planet: TOI-1695 b<br>Mass: 6.36 +1.00 -1.00 (15.72% relative error)<br>Radius: 1.9 +0.16 -0.14 (7.89% relative error)",
          "Dataset: EA add 33%<br>Planet: TOI-1759 b<br>Mass: 10.8 +1.50 -1.50 (13.89% relative error)<br>Radius: 3.14 +0.10 -0.10 (3.18% relative error)",
          "Dataset: EA add 33%<br>Planet: TOI-244 b<br>Mass: 2.68 +0.30 -0.30 (11.19% relative error)<br>Radius: 1.03 +0.08 -0.08 (7.77% relative error)"
         ],
         "type": "scatter",
         "x": [
          1.66,
          6.26,
          1.32,
          1.86,
          1.84,
          2.82,
          5.77,
          7.49,
          8.64,
          24.5,
          4.6,
          2.42,
          2.31,
          6.38,
          1.76,
          2.33,
          2.47,
          7.02,
          15.4,
          6.69,
          7.57,
          3.09,
          8.8,
          1.58,
          6.14,
          4.78,
          4,
          1.374,
          1.308,
          0.388,
          0.692,
          1.039,
          1.321,
          0.326,
          9.6,
          3.34,
          0.633,
          1.75,
          2.14,
          3.09,
          6.48,
          2.8,
          0.187,
          5.2,
          1.17,
          5.12,
          6.2,
          10.84,
          7.1,
          2.87,
          1.54,
          9.95,
          6.28,
          4.82,
          3.21,
          6.64,
          7.32,
          6.36,
          10.8,
          2.68
         ],
         "y": [
          1.1433756805807622,
          0.27041742286751363,
          0.7658802177858439,
          0.912885662431942,
          1.0163339382940109,
          1.2704174228675136,
          0.6696914700544465,
          0.7114337568058077,
          0.4355716878402904,
          0.5989110707803993,
          1.7422867513611615,
          0.9909255898366607,
          0.5753176043557169,
          1.4591651542649726,
          1.1016333938294012,
          1.2105263157894737,
          1.0725952813067152,
          0.5499092558983666,
          0.31578947368421056,
          1.3157894736842106,
          1.3774954627949183,
          0.6243194192377496,
          0.41379310344827586,
          1.0344827586206897,
          0.48638838475499097,
          0.5952813067150635,
          0.617059891107078,
          0.984573502722323,
          0.9885662431941924,
          0.7901996370235935,
          0.8865698729582577,
          0.9090744101633395,
          0.9150635208711434,
          0.7526315789473685,
          0.22141560798548096,
          0.3430127041742287,
          1.851179673321234,
          1.32486388384755,
          1.1252268602540836,
          0.852994555353902,
          0.6715063520871144,
          0.6823956442831216,
          0.5480943738656987,
          1.1070780399274047,
          0.24682395644283125,
          0.22867513611615245,
          0.29219600725952816,
          0.2631578947368421,
          0.4882032667876588,
          1.2885662431941924,
          1.0108892921960073,
          1.6914700544464611,
          0.4446460980036298,
          1.0163339382940109,
          1.5263157894736843,
          0.7531760435571688,
          0.7005444646098004,
          0.9074410163339384,
          0.3466424682395644,
          0.7622504537205083
         ]
        },
        {
         "error_x": {
          "array": [
           0.23,
           0.86,
           0.28,
           0.3,
           0.31,
           0.11,
           0.18,
           0.24,
           1.35,
           5.7,
           0.56,
           0.35,
           0.46,
           0.46,
           0.17,
           0.2,
           0.24,
           0.69,
           3.3,
           0.67,
           0.71,
           0.59,
           1.4,
           0.26,
           0.38,
           0.46,
           0.9,
           0.069,
           0.056,
           0.012,
           0.022,
           0.031,
           0.038,
           0.02,
           2.07,
           0.72,
           0.05,
           0.44,
           0.34,
           0.48,
           0.99,
           0.6,
           0.05,
           1.2,
           0.3,
           0.65,
           0.65,
           1.4,
           0.7,
           0.26,
           0.2,
           1.36,
           0.84,
           1.3,
           0.24,
           0.67,
           1.21,
           1,
           1.5,
           0.3
          ],
          "arrayminus": [
           0.23,
           0.86,
           0.28,
           0.3,
           0.31,
           0.12,
           0.18,
           0.24,
           1.35,
           5.2,
           0.56,
           0.34,
           0.45,
           0.44,
           0.16,
           0.2,
           0.24,
           0.67,
           3.3,
           0.69,
           0.72,
           0.58,
           1.4,
           0.26,
           0.38,
           0.46,
           0.9,
           0.069,
           0.056,
           0.012,
           0.022,
           0.031,
           0.038,
           0.02,
           2.31,
           0.72,
           0.05,
           0.45,
           0.34,
           0.48,
           0.93,
           0.6,
           0.05,
           1.2,
           0.3,
           0.61,
           0.65,
           1.4,
           0.7,
           0.25,
           0.19,
           1.3,
           0.88,
           1.3,
           0.24,
           0.68,
           1.24,
           1,
           1.5,
           0.3
          ],
          "color": "rgba(169, 169, 169, 0.7)",
          "type": "data",
          "visible": true
         },
         "error_y": {
          "array": [
           0.056,
           0.2,
           0.074,
           0.05,
           0.084,
           0.063,
           0.06,
           0.07,
           0.065,
           0.12,
           0.09,
           0.07,
           0.08,
           0.046,
           0.037,
           0.051,
           0.06,
           0.14,
           0.16,
           0.08,
           0.077,
           0.07,
           0.12,
           0.05,
           0.072,
           0.067,
           0.13,
           0.014,
           0.014,
           0.011,
           0.013,
           0.013,
           0.015,
           0.014,
           0.16,
           0.11,
           0.024,
           0.04,
           0.023,
           0.051,
           0.257,
           0.18,
           0.066,
           0.15,
           0.15,
           0.11,
           0.12,
           0.15,
           0.096,
           0.06,
           0.055,
           0.116,
           0.091,
           0.071,
           0.038,
           0.044,
           0.04,
           0.16,
           0.1,
           0.08
          ],
          "arrayminus": [
           0.056,
           0.2,
           0.074,
           0.049,
           0.083,
           0.067,
           0.06,
           0.07,
           0.065,
           0.12,
           0.09,
           0.07,
           0.08,
           0.046,
           0.038,
           0.049,
           0.06,
           0.13,
           0.15,
           0.077,
           0.077,
           0.07,
           0.12,
           0.05,
           0.072,
           0.067,
           0.13,
           0.012,
           0.012,
           0.01,
           0.012,
           0.012,
           0.015,
           0.014,
           0.16,
           0.11,
           0.024,
           0.04,
           0.023,
           0.046,
           0.256,
           0.18,
           0.066,
           0.15,
           0.15,
           0.11,
           0.12,
           0.15,
           0.096,
           0.06,
           0.054,
           0.081,
           0.09,
           0.071,
           0.039,
           0.044,
           0.04,
           0.14,
           0.1,
           0.08
          ],
          "color": "rgba(169, 169, 169, 0.7)",
          "type": "data",
          "visible": true
         },
         "hoverinfo": "text",
         "marker": {
          "color": [
           529,
           576,
           1089,
           773,
           525,
           701,
           590,
           520,
           284,
           494,
           965,
           517,
           409,
           378.9,
           708.9,
           595,
           1000,
           397,
           329,
           775,
           921,
           1069,
           531,
           581,
           488,
           387,
           514,
           400.1,
           341.9,
           288,
           251.3,
           219,
           198.6,
           168,
           454,
           693,
           1365,
           568,
           709,
           557,
           463,
           507,
           524,
           476,
           401,
           431,
           385,
           997,
           324,
           555,
           508,
           1323,
           703,
           326,
           682,
           338,
           734,
           698,
           443,
           387
          ],
          "colorbar": {
           "title": {
            "text": "Temperature"
           }
          },
          "colorscale": [
           [
            0,
            "#000004"
           ],
           [
            0.1111111111111111,
            "#1b0c41"
           ],
           [
            0.2222222222222222,
            "#4a0c6b"
           ],
           [
            0.3333333333333333,
            "#781c6d"
           ],
           [
            0.4444444444444444,
            "#a52c60"
           ],
           [
            0.5555555555555556,
            "#cf4446"
           ],
           [
            0.6666666666666666,
            "#ed6925"
           ],
           [
            0.7777777777777778,
            "#fb9b06"
           ],
           [
            0.8888888888888888,
            "#f7d13d"
           ],
           [
            1,
            "#fcffa4"
           ]
          ],
          "showscale": true,
          "size": 12
         },
         "mode": "markers",
         "name": "Mass, Density - Combined Data",
         "text": [
          "Dataset: LIV34<br>Planet: GJ 1132 b<br>Mass: 1.66 +0.23 -0.23 (13.86% relative error)<br>Radius: 1.13 +0.06 -0.06 (4.96% relative error)",
          "Dataset: LIV34<br>Planet: GJ 1214 b<br>Mass: 6.26 +0.86 -0.86 (13.74% relative error)<br>Radius: 2.85 +0.20 -0.20 (7.02% relative error)",
          "Dataset: LIV34<br>Planet: GJ 1252 b<br>Mass: 1.32 +0.28 -0.28 (21.21% relative error)<br>Radius: 1.193 +0.07 -0.07 (6.20% relative error)",
          "Dataset: LIV34<br>Planet: GJ 3473 b<br>Mass: 1.86 +0.30 -0.30 (16.13% relative error)<br>Radius: 1.264 +0.05 -0.05 (3.92% relative error)",
          "Dataset: LIV34<br>Planet: GJ 357 b<br>Mass: 1.84 +0.31 -0.31 (16.85% relative error)<br>Radius: 1.217 +0.08 -0.08 (6.86% relative error)",
          "Dataset: LIV34<br>Planet: GJ 486 b<br>Mass: 2.82 +0.11 -0.12 (4.08% relative error)<br>Radius: 1.305 +0.06 -0.07 (4.98% relative error)",
          "Dataset: LIV34<br>Planet: K2-146 b<br>Mass: 5.77 +0.18 -0.18 (3.12% relative error)<br>Radius: 2.05 +0.06 -0.06 (2.93% relative error)",
          "Dataset: LIV34<br>Planet: K2-146 c<br>Mass: 7.49 +0.24 -0.24 (3.20% relative error)<br>Radius: 2.19 +0.07 -0.07 (3.20% relative error)",
          "Dataset: LIV34<br>Planet: K2-18 b<br>Mass: 8.64 +1.35 -1.35 (15.62% relative error)<br>Radius: 2.711 +0.07 -0.07 (2.40% relative error)",
          "Dataset: LIV34<br>Planet: K2-25 b<br>Mass: 24.5 +5.70 -5.20 (22.24% relative error)<br>Radius: 3.44 +0.12 -0.12 (3.49% relative error)",
          "Dataset: LIV34<br>Planet: L 168-9 b<br>Mass: 4.6 +0.56 -0.56 (12.17% relative error)<br>Radius: 1.39 +0.09 -0.09 (6.47% relative error)",
          "Dataset: LIV34<br>Planet: L 98-59 c<br>Mass: 2.42 +0.35 -0.34 (14.26% relative error)<br>Radius: 1.34 +0.07 -0.07 (5.22% relative error)",
          "Dataset: LIV34<br>Planet: L 98-59 d<br>Mass: 2.31 +0.46 -0.45 (19.70% relative error)<br>Radius: 1.58 +0.08 -0.08 (5.06% relative error)",
          "Dataset: LIV34<br>Planet: LHS 1140 b<br>Mass: 6.38 +0.46 -0.44 (7.05% relative error)<br>Radius: 1.635 +0.05 -0.05 (2.81% relative error)",
          "Dataset: LIV34<br>Planet: LHS 1140 c<br>Mass: 1.76 +0.17 -0.16 (9.38% relative error)<br>Radius: 1.169 +0.04 -0.04 (3.21% relative error)",
          "Dataset: LIV34<br>Planet: LHS 1478 b<br>Mass: 2.33 +0.20 -0.20 (8.58% relative error)<br>Radius: 1.242 +0.05 -0.05 (4.03% relative error)",
          "Dataset: LIV34<br>Planet: LTT 3780 b<br>Mass: 2.47 +0.24 -0.24 (9.72% relative error)<br>Radius: 1.32 +0.06 -0.06 (4.55% relative error)",
          "Dataset: LIV34<br>Planet: LTT 3780 c<br>Mass: 7.02 +0.69 -0.67 (9.69% relative error)<br>Radius: 2.33 +0.14 -0.13 (5.79% relative error)",
          "Dataset: LIV34<br>Planet: TOI-1231 b<br>Mass: 15.4 +3.30 -3.30 (21.43% relative error)<br>Radius: 3.65 +0.16 -0.15 (4.25% relative error)",
          "Dataset: LIV34<br>Planet: TOI-1235 b<br>Mass: 6.69 +0.67 -0.69 (10.16% relative error)<br>Radius: 1.694 +0.08 -0.08 (4.63% relative error)",
          "Dataset: LIV34<br>Planet: TOI-1634 b<br>Mass: 7.57 +0.71 -0.72 (9.45% relative error)<br>Radius: 1.773 +0.08 -0.08 (4.34% relative error)",
          "Dataset: LIV34<br>Planet: TOI-1685 b<br>Mass: 3.09 +0.59 -0.58 (18.93% relative error)<br>Radius: 1.7 +0.07 -0.07 (4.12% relative error)",
          "Dataset: LIV34<br>Planet: TOI-269 b<br>Mass: 8.8 +1.40 -1.40 (15.91% relative error)<br>Radius: 2.77 +0.12 -0.12 (4.33% relative error)",
          "Dataset: LIV34<br>Planet: TOI-270 b<br>Mass: 1.58 +0.26 -0.26 (16.46% relative error)<br>Radius: 1.151 +0.05 -0.05 (4.34% relative error)",
          "Dataset: LIV34<br>Planet: TOI-270 c<br>Mass: 6.14 +0.38 -0.38 (6.19% relative error)<br>Radius: 2.332 +0.07 -0.07 (3.09% relative error)",
          "Dataset: LIV34<br>Planet: TOI-270 d<br>Mass: 4.78 +0.46 -0.46 (9.62% relative error)<br>Radius: 2.005 +0.07 -0.07 (3.34% relative error)",
          "Dataset: LIV34<br>Planet: TOI-776 b<br>Mass: 4.0 +0.90 -0.90 (22.50% relative error)<br>Radius: 1.85 +0.13 -0.13 (7.03% relative error)",
          "Dataset: LIV34<br>Planet: TRAPPIST-1 b<br>Mass: 1.374 +0.07 -0.07 (5.02% relative error)<br>Radius: 1.116 +0.01 -0.01 (1.16% relative error)",
          "Dataset: LIV34<br>Planet: TRAPPIST-1 c<br>Mass: 1.308 +0.06 -0.06 (4.28% relative error)<br>Radius: 1.097 +0.01 -0.01 (1.19% relative error)",
          "Dataset: LIV34<br>Planet: TRAPPIST-1 d<br>Mass: 0.388 +0.01 -0.01 (3.09% relative error)<br>Radius: 0.788 +0.01 -0.01 (1.33% relative error)",
          "Dataset: LIV34<br>Planet: TRAPPIST-1 e<br>Mass: 0.692 +0.02 -0.02 (3.18% relative error)<br>Radius: 0.92 +0.01 -0.01 (1.36% relative error)",
          "Dataset: LIV34<br>Planet: TRAPPIST-1 f<br>Mass: 1.039 +0.03 -0.03 (2.98% relative error)<br>Radius: 1.045 +0.01 -0.01 (1.20% relative error)",
          "Dataset: LIV34<br>Planet: TRAPPIST-1 g<br>Mass: 1.321 +0.04 -0.04 (2.88% relative error)<br>Radius: 1.129 +0.01 -0.01 (1.33% relative error)",
          "Dataset: LIV34<br>Planet: TRAPPIST-1 h<br>Mass: 0.326 +0.02 -0.02 (6.13% relative error)<br>Radius: 0.755 +0.01 -0.01 (1.85% relative error)",
          "Dataset: EA add 33%<br>Planet: AU Mic c<br>Mass: 9.6 +2.07 -2.31 (22.81% relative error)<br>Radius: 3.24 +0.16 -0.16 (4.94% relative error)",
          "Dataset: EA add 33%<br>Planet: GJ 3090 b<br>Mass: 3.34 +0.72 -0.72 (21.56% relative error)<br>Radius: 2.13 +0.11 -0.11 (5.16% relative error)",
          "Dataset: EA add 33%<br>Planet: GJ 367 b<br>Mass: 0.633 +0.05 -0.05 (7.90% relative error)<br>Radius: 0.699 +0.02 -0.02 (3.43% relative error)",
          "Dataset: EA add 33%<br>Planet: GJ 3929 b<br>Mass: 1.75 +0.44 -0.45 (25.43% relative error)<br>Radius: 1.09 +0.04 -0.04 (3.67% relative error)",
          "Dataset: EA add 33%<br>Planet: HD 260655 b<br>Mass: 2.14 +0.34 -0.34 (15.89% relative error)<br>Radius: 1.24 +0.02 -0.02 (1.85% relative error)",
          "Dataset: EA add 33%<br>Planet: HD 260655 c<br>Mass: 3.09 +0.48 -0.48 (15.53% relative error)<br>Radius: 1.533 +0.05 -0.05 (3.16% relative error)",
          "Dataset: EA add 33%<br>Planet: K2-3 b<br>Mass: 6.48 +0.99 -0.93 (14.81% relative error)<br>Radius: 2.103 +0.26 -0.26 (12.20% relative error)",
          "Dataset: EA add 33%<br>Planet: Kepler-114 c<br>Mass: 2.8 +0.60 -0.60 (21.43% relative error)<br>Radius: 1.6 +0.18 -0.18 (11.25% relative error)",
          "Dataset: EA add 33%<br>Planet: Kepler-138 b<br>Mass: 0.187 +0.05 -0.05 (26.74% relative error)<br>Radius: 0.701 +0.07 -0.07 (9.42% relative error)",
          "Dataset: EA add 33%<br>Planet: Kepler-138 c<br>Mass: 5.2 +1.20 -1.20 (23.08% relative error)<br>Radius: 1.67 +0.15 -0.15 (8.98% relative error)",
          "Dataset: EA add 33%<br>Planet: Kepler-138 d<br>Mass: 1.17 +0.30 -0.30 (25.64% relative error)<br>Radius: 1.68 +0.15 -0.15 (8.93% relative error)",
          "Dataset: EA add 33%<br>Planet: Kepler-26 b<br>Mass: 5.12 +0.65 -0.61 (12.30% relative error)<br>Radius: 2.78 +0.11 -0.11 (3.96% relative error)",
          "Dataset: EA add 33%<br>Planet: Kepler-26 c<br>Mass: 6.2 +0.65 -0.65 (10.48% relative error)<br>Radius: 2.72 +0.12 -0.12 (4.41% relative error)",
          "Dataset: EA add 33%<br>Planet: Kepler-94 b<br>Mass: 10.84 +1.40 -1.40 (12.92% relative error)<br>Radius: 3.51 +0.15 -0.15 (4.27% relative error)",
          "Dataset: EA add 33%<br>Planet: LP 791-18 c<br>Mass: 7.1 +0.70 -0.70 (9.86% relative error)<br>Radius: 2.438 +0.10 -0.10 (3.94% relative error)",
          "Dataset: EA add 33%<br>Planet: LTT 1445 A b<br>Mass: 2.87 +0.26 -0.25 (8.89% relative error)<br>Radius: 1.18 +0.06 -0.06 (5.08% relative error)",
          "Dataset: EA add 33%<br>Planet: LTT 1445 A c<br>Mass: 1.54 +0.20 -0.19 (12.66% relative error)<br>Radius: 1.147 +0.06 -0.05 (4.75% relative error)",
          "Dataset: EA add 33%<br>Planet: TOI-1075 b<br>Mass: 9.95 +1.36 -1.30 (13.37% relative error)<br>Radius: 1.791 +0.12 -0.08 (5.50% relative error)",
          "Dataset: EA add 33%<br>Planet: TOI-1201 b<br>Mass: 6.28 +0.84 -0.88 (13.69% relative error)<br>Radius: 2.415 +0.09 -0.09 (3.75% relative error)",
          "Dataset: EA add 33%<br>Planet: TOI-1452 b<br>Mass: 4.82 +1.30 -1.30 (26.97% relative error)<br>Radius: 1.672 +0.07 -0.07 (4.25% relative error)",
          "Dataset: EA add 33%<br>Planet: TOI-1468 b<br>Mass: 3.21 +0.24 -0.24 (7.48% relative error)<br>Radius: 1.28 +0.04 -0.04 (3.01% relative error)",
          "Dataset: EA add 33%<br>Planet: TOI-1468 c<br>Mass: 6.64 +0.67 -0.68 (10.17% relative error)<br>Radius: 2.064 +0.04 -0.04 (2.13% relative error)",
          "Dataset: EA add 33%<br>Planet: TOI-1470 b<br>Mass: 7.32 +1.21 -1.24 (16.73% relative error)<br>Radius: 2.18 +0.04 -0.04 (1.83% relative error)",
          "Dataset: EA add 33%<br>Planet: TOI-1695 b<br>Mass: 6.36 +1.00 -1.00 (15.72% relative error)<br>Radius: 1.9 +0.16 -0.14 (7.89% relative error)",
          "Dataset: EA add 33%<br>Planet: TOI-1759 b<br>Mass: 10.8 +1.50 -1.50 (13.89% relative error)<br>Radius: 3.14 +0.10 -0.10 (3.18% relative error)",
          "Dataset: EA add 33%<br>Planet: TOI-244 b<br>Mass: 2.68 +0.30 -0.30 (11.19% relative error)<br>Radius: 1.03 +0.08 -0.08 (7.77% relative error)"
         ],
         "type": "scatter",
         "x": [
          1.66,
          6.26,
          1.32,
          1.86,
          1.84,
          2.82,
          5.77,
          7.49,
          8.64,
          24.5,
          4.6,
          2.42,
          2.31,
          6.38,
          1.76,
          2.33,
          2.47,
          7.02,
          15.4,
          6.69,
          7.57,
          3.09,
          8.8,
          1.58,
          6.14,
          4.78,
          4,
          1.374,
          1.308,
          0.388,
          0.692,
          1.039,
          1.321,
          0.326,
          9.6,
          3.34,
          0.633,
          1.75,
          2.14,
          3.09,
          6.48,
          2.8,
          0.187,
          5.2,
          1.17,
          5.12,
          6.2,
          10.84,
          7.1,
          2.87,
          1.54,
          9.95,
          6.28,
          4.82,
          3.21,
          6.64,
          7.32,
          6.36,
          10.8,
          2.68
         ],
         "y": [
          1.13,
          2.85,
          1.193,
          1.264,
          1.217,
          1.305,
          2.05,
          2.19,
          2.711,
          3.44,
          1.39,
          1.34,
          1.58,
          1.635,
          1.169,
          1.242,
          1.32,
          2.33,
          3.65,
          1.694,
          1.773,
          1.7,
          2.77,
          1.151,
          2.332,
          2.005,
          1.85,
          1.116,
          1.097,
          0.788,
          0.92,
          1.045,
          1.129,
          0.755,
          3.24,
          2.13,
          0.699,
          1.09,
          1.24,
          1.533,
          2.103,
          1.6,
          0.701,
          1.67,
          1.68,
          2.78,
          2.72,
          3.51,
          2.438,
          1.18,
          1.147,
          1.791,
          2.415,
          1.672,
          1.28,
          2.064,
          2.18,
          1.9,
          3.14,
          1.03
         ]
        }
       ],
       "layout": {
        "height": 600,
        "template": {
         "data": {
          "bar": [
           {
            "error_x": {
             "color": "#2a3f5f"
            },
            "error_y": {
             "color": "#2a3f5f"
            },
            "marker": {
             "line": {
              "color": "#E5ECF6",
              "width": 0.5
             },
             "pattern": {
              "fillmode": "overlay",
              "size": 10,
              "solidity": 0.2
             }
            },
            "type": "bar"
           }
          ],
          "barpolar": [
           {
            "marker": {
             "line": {
              "color": "#E5ECF6",
              "width": 0.5
             },
             "pattern": {
              "fillmode": "overlay",
              "size": 10,
              "solidity": 0.2
             }
            },
            "type": "barpolar"
           }
          ],
          "carpet": [
           {
            "aaxis": {
             "endlinecolor": "#2a3f5f",
             "gridcolor": "white",
             "linecolor": "white",
             "minorgridcolor": "white",
             "startlinecolor": "#2a3f5f"
            },
            "baxis": {
             "endlinecolor": "#2a3f5f",
             "gridcolor": "white",
             "linecolor": "white",
             "minorgridcolor": "white",
             "startlinecolor": "#2a3f5f"
            },
            "type": "carpet"
           }
          ],
          "choropleth": [
           {
            "colorbar": {
             "outlinewidth": 0,
             "ticks": ""
            },
            "type": "choropleth"
           }
          ],
          "contour": [
           {
            "colorbar": {
             "outlinewidth": 0,
             "ticks": ""
            },
            "colorscale": [
             [
              0,
              "#0d0887"
             ],
             [
              0.1111111111111111,
              "#46039f"
             ],
             [
              0.2222222222222222,
              "#7201a8"
             ],
             [
              0.3333333333333333,
              "#9c179e"
             ],
             [
              0.4444444444444444,
              "#bd3786"
             ],
             [
              0.5555555555555556,
              "#d8576b"
             ],
             [
              0.6666666666666666,
              "#ed7953"
             ],
             [
              0.7777777777777778,
              "#fb9f3a"
             ],
             [
              0.8888888888888888,
              "#fdca26"
             ],
             [
              1,
              "#f0f921"
             ]
            ],
            "type": "contour"
           }
          ],
          "contourcarpet": [
           {
            "colorbar": {
             "outlinewidth": 0,
             "ticks": ""
            },
            "type": "contourcarpet"
           }
          ],
          "heatmap": [
           {
            "colorbar": {
             "outlinewidth": 0,
             "ticks": ""
            },
            "colorscale": [
             [
              0,
              "#0d0887"
             ],
             [
              0.1111111111111111,
              "#46039f"
             ],
             [
              0.2222222222222222,
              "#7201a8"
             ],
             [
              0.3333333333333333,
              "#9c179e"
             ],
             [
              0.4444444444444444,
              "#bd3786"
             ],
             [
              0.5555555555555556,
              "#d8576b"
             ],
             [
              0.6666666666666666,
              "#ed7953"
             ],
             [
              0.7777777777777778,
              "#fb9f3a"
             ],
             [
              0.8888888888888888,
              "#fdca26"
             ],
             [
              1,
              "#f0f921"
             ]
            ],
            "type": "heatmap"
           }
          ],
          "heatmapgl": [
           {
            "colorbar": {
             "outlinewidth": 0,
             "ticks": ""
            },
            "colorscale": [
             [
              0,
              "#0d0887"
             ],
             [
              0.1111111111111111,
              "#46039f"
             ],
             [
              0.2222222222222222,
              "#7201a8"
             ],
             [
              0.3333333333333333,
              "#9c179e"
             ],
             [
              0.4444444444444444,
              "#bd3786"
             ],
             [
              0.5555555555555556,
              "#d8576b"
             ],
             [
              0.6666666666666666,
              "#ed7953"
             ],
             [
              0.7777777777777778,
              "#fb9f3a"
             ],
             [
              0.8888888888888888,
              "#fdca26"
             ],
             [
              1,
              "#f0f921"
             ]
            ],
            "type": "heatmapgl"
           }
          ],
          "histogram": [
           {
            "marker": {
             "pattern": {
              "fillmode": "overlay",
              "size": 10,
              "solidity": 0.2
             }
            },
            "type": "histogram"
           }
          ],
          "histogram2d": [
           {
            "colorbar": {
             "outlinewidth": 0,
             "ticks": ""
            },
            "colorscale": [
             [
              0,
              "#0d0887"
             ],
             [
              0.1111111111111111,
              "#46039f"
             ],
             [
              0.2222222222222222,
              "#7201a8"
             ],
             [
              0.3333333333333333,
              "#9c179e"
             ],
             [
              0.4444444444444444,
              "#bd3786"
             ],
             [
              0.5555555555555556,
              "#d8576b"
             ],
             [
              0.6666666666666666,
              "#ed7953"
             ],
             [
              0.7777777777777778,
              "#fb9f3a"
             ],
             [
              0.8888888888888888,
              "#fdca26"
             ],
             [
              1,
              "#f0f921"
             ]
            ],
            "type": "histogram2d"
           }
          ],
          "histogram2dcontour": [
           {
            "colorbar": {
             "outlinewidth": 0,
             "ticks": ""
            },
            "colorscale": [
             [
              0,
              "#0d0887"
             ],
             [
              0.1111111111111111,
              "#46039f"
             ],
             [
              0.2222222222222222,
              "#7201a8"
             ],
             [
              0.3333333333333333,
              "#9c179e"
             ],
             [
              0.4444444444444444,
              "#bd3786"
             ],
             [
              0.5555555555555556,
              "#d8576b"
             ],
             [
              0.6666666666666666,
              "#ed7953"
             ],
             [
              0.7777777777777778,
              "#fb9f3a"
             ],
             [
              0.8888888888888888,
              "#fdca26"
             ],
             [
              1,
              "#f0f921"
             ]
            ],
            "type": "histogram2dcontour"
           }
          ],
          "mesh3d": [
           {
            "colorbar": {
             "outlinewidth": 0,
             "ticks": ""
            },
            "type": "mesh3d"
           }
          ],
          "parcoords": [
           {
            "line": {
             "colorbar": {
              "outlinewidth": 0,
              "ticks": ""
             }
            },
            "type": "parcoords"
           }
          ],
          "pie": [
           {
            "automargin": true,
            "type": "pie"
           }
          ],
          "scatter": [
           {
            "fillpattern": {
             "fillmode": "overlay",
             "size": 10,
             "solidity": 0.2
            },
            "type": "scatter"
           }
          ],
          "scatter3d": [
           {
            "line": {
             "colorbar": {
              "outlinewidth": 0,
              "ticks": ""
             }
            },
            "marker": {
             "colorbar": {
              "outlinewidth": 0,
              "ticks": ""
             }
            },
            "type": "scatter3d"
           }
          ],
          "scattercarpet": [
           {
            "marker": {
             "colorbar": {
              "outlinewidth": 0,
              "ticks": ""
             }
            },
            "type": "scattercarpet"
           }
          ],
          "scattergeo": [
           {
            "marker": {
             "colorbar": {
              "outlinewidth": 0,
              "ticks": ""
             }
            },
            "type": "scattergeo"
           }
          ],
          "scattergl": [
           {
            "marker": {
             "colorbar": {
              "outlinewidth": 0,
              "ticks": ""
             }
            },
            "type": "scattergl"
           }
          ],
          "scattermapbox": [
           {
            "marker": {
             "colorbar": {
              "outlinewidth": 0,
              "ticks": ""
             }
            },
            "type": "scattermapbox"
           }
          ],
          "scatterpolar": [
           {
            "marker": {
             "colorbar": {
              "outlinewidth": 0,
              "ticks": ""
             }
            },
            "type": "scatterpolar"
           }
          ],
          "scatterpolargl": [
           {
            "marker": {
             "colorbar": {
              "outlinewidth": 0,
              "ticks": ""
             }
            },
            "type": "scatterpolargl"
           }
          ],
          "scatterternary": [
           {
            "marker": {
             "colorbar": {
              "outlinewidth": 0,
              "ticks": ""
             }
            },
            "type": "scatterternary"
           }
          ],
          "surface": [
           {
            "colorbar": {
             "outlinewidth": 0,
             "ticks": ""
            },
            "colorscale": [
             [
              0,
              "#0d0887"
             ],
             [
              0.1111111111111111,
              "#46039f"
             ],
             [
              0.2222222222222222,
              "#7201a8"
             ],
             [
              0.3333333333333333,
              "#9c179e"
             ],
             [
              0.4444444444444444,
              "#bd3786"
             ],
             [
              0.5555555555555556,
              "#d8576b"
             ],
             [
              0.6666666666666666,
              "#ed7953"
             ],
             [
              0.7777777777777778,
              "#fb9f3a"
             ],
             [
              0.8888888888888888,
              "#fdca26"
             ],
             [
              1,
              "#f0f921"
             ]
            ],
            "type": "surface"
           }
          ],
          "table": [
           {
            "cells": {
             "fill": {
              "color": "#EBF0F8"
             },
             "line": {
              "color": "white"
             }
            },
            "header": {
             "fill": {
              "color": "#C8D4E3"
             },
             "line": {
              "color": "white"
             }
            },
            "type": "table"
           }
          ]
         },
         "layout": {
          "annotationdefaults": {
           "arrowcolor": "#2a3f5f",
           "arrowhead": 0,
           "arrowwidth": 1
          },
          "autotypenumbers": "strict",
          "coloraxis": {
           "colorbar": {
            "outlinewidth": 0,
            "ticks": ""
           }
          },
          "colorscale": {
           "diverging": [
            [
             0,
             "#8e0152"
            ],
            [
             0.1,
             "#c51b7d"
            ],
            [
             0.2,
             "#de77ae"
            ],
            [
             0.3,
             "#f1b6da"
            ],
            [
             0.4,
             "#fde0ef"
            ],
            [
             0.5,
             "#f7f7f7"
            ],
            [
             0.6,
             "#e6f5d0"
            ],
            [
             0.7,
             "#b8e186"
            ],
            [
             0.8,
             "#7fbc41"
            ],
            [
             0.9,
             "#4d9221"
            ],
            [
             1,
             "#276419"
            ]
           ],
           "sequential": [
            [
             0,
             "#0d0887"
            ],
            [
             0.1111111111111111,
             "#46039f"
            ],
            [
             0.2222222222222222,
             "#7201a8"
            ],
            [
             0.3333333333333333,
             "#9c179e"
            ],
            [
             0.4444444444444444,
             "#bd3786"
            ],
            [
             0.5555555555555556,
             "#d8576b"
            ],
            [
             0.6666666666666666,
             "#ed7953"
            ],
            [
             0.7777777777777778,
             "#fb9f3a"
            ],
            [
             0.8888888888888888,
             "#fdca26"
            ],
            [
             1,
             "#f0f921"
            ]
           ],
           "sequentialminus": [
            [
             0,
             "#0d0887"
            ],
            [
             0.1111111111111111,
             "#46039f"
            ],
            [
             0.2222222222222222,
             "#7201a8"
            ],
            [
             0.3333333333333333,
             "#9c179e"
            ],
            [
             0.4444444444444444,
             "#bd3786"
            ],
            [
             0.5555555555555556,
             "#d8576b"
            ],
            [
             0.6666666666666666,
             "#ed7953"
            ],
            [
             0.7777777777777778,
             "#fb9f3a"
            ],
            [
             0.8888888888888888,
             "#fdca26"
            ],
            [
             1,
             "#f0f921"
            ]
           ]
          },
          "colorway": [
           "#636efa",
           "#EF553B",
           "#00cc96",
           "#ab63fa",
           "#FFA15A",
           "#19d3f3",
           "#FF6692",
           "#B6E880",
           "#FF97FF",
           "#FECB52"
          ],
          "font": {
           "color": "#2a3f5f"
          },
          "geo": {
           "bgcolor": "white",
           "lakecolor": "white",
           "landcolor": "#E5ECF6",
           "showlakes": true,
           "showland": true,
           "subunitcolor": "white"
          },
          "hoverlabel": {
           "align": "left"
          },
          "hovermode": "closest",
          "mapbox": {
           "style": "light"
          },
          "paper_bgcolor": "white",
          "plot_bgcolor": "#E5ECF6",
          "polar": {
           "angularaxis": {
            "gridcolor": "white",
            "linecolor": "white",
            "ticks": ""
           },
           "bgcolor": "#E5ECF6",
           "radialaxis": {
            "gridcolor": "white",
            "linecolor": "white",
            "ticks": ""
           }
          },
          "scene": {
           "xaxis": {
            "backgroundcolor": "#E5ECF6",
            "gridcolor": "white",
            "gridwidth": 2,
            "linecolor": "white",
            "showbackground": true,
            "ticks": "",
            "zerolinecolor": "white"
           },
           "yaxis": {
            "backgroundcolor": "#E5ECF6",
            "gridcolor": "white",
            "gridwidth": 2,
            "linecolor": "white",
            "showbackground": true,
            "ticks": "",
            "zerolinecolor": "white"
           },
           "zaxis": {
            "backgroundcolor": "#E5ECF6",
            "gridcolor": "white",
            "gridwidth": 2,
            "linecolor": "white",
            "showbackground": true,
            "ticks": "",
            "zerolinecolor": "white"
           }
          },
          "shapedefaults": {
           "line": {
            "color": "#2a3f5f"
           }
          },
          "ternary": {
           "aaxis": {
            "gridcolor": "white",
            "linecolor": "white",
            "ticks": ""
           },
           "baxis": {
            "gridcolor": "white",
            "linecolor": "white",
            "ticks": ""
           },
           "bgcolor": "#E5ECF6",
           "caxis": {
            "gridcolor": "white",
            "linecolor": "white",
            "ticks": ""
           }
          },
          "title": {
           "x": 0.05
          },
          "xaxis": {
           "automargin": true,
           "gridcolor": "white",
           "linecolor": "white",
           "ticks": "",
           "title": {
            "standoff": 15
           },
           "zerolinecolor": "white",
           "zerolinewidth": 2
          },
          "yaxis": {
           "automargin": true,
           "gridcolor": "white",
           "linecolor": "white",
           "ticks": "",
           "title": {
            "standoff": 15
           },
           "zerolinecolor": "white",
           "zerolinewidth": 2
          }
         }
        },
        "updatemenus": [
         {
          "buttons": [
           {
            "args": [
             {
              "visible": [
               true,
               false,
               false,
               false,
               false,
               false,
               false,
               false,
               false,
               false
              ]
             },
             {
              "title": "LIV34",
              "xaxis": {
               "title": "$Mass\\ [M_{\\oplus}]$",
               "type": "log"
              },
              "yaxis": {
               "title": "$Bulk\\ Density\\ [ρ_{bulk}/ρ_{\\oplus}]$"
              }
             }
            ],
            "label": "LIV34 (DM)",
            "method": "update"
           },
           {
            "args": [
             {
              "visible": [
               false,
               true,
               false,
               false,
               false,
               false,
               false,
               false,
               false,
               false
              ]
             },
             {
              "title": "LIV34",
              "xaxis": {
               "title": "$Mass\\ [M_{\\oplus}]$",
               "type": "log"
              },
              "yaxis": {
               "title": "$Radius\\ [R_{\\oplus}]$"
              }
             }
            ],
            "label": "LIV34 (RM)",
            "method": "update"
           },
           {
            "args": [
             {
              "visible": [
               false,
               false,
               true,
               false,
               false,
               false,
               false,
               false,
               false,
               false
              ]
             },
             {
              "title": "EA add",
              "xaxis": {
               "title": "$Mass\\ [M_{\\oplus}]$",
               "type": "log"
              },
              "yaxis": {
               "title": "$Bulk\\ Density\\ [ρ_{bulk}/ρ_{\\oplus}]$"
              }
             }
            ],
            "label": "EA add (DM)",
            "method": "update"
           },
           {
            "args": [
             {
              "visible": [
               false,
               false,
               false,
               true,
               false,
               false,
               false,
               false,
               false,
               false
              ]
             },
             {
              "title": "EA add",
              "xaxis": {
               "title": "$Mass\\ [M_{\\oplus}]$",
               "type": "log"
              },
              "yaxis": {
               "title": "$Radius\\ [R_{\\oplus}]$"
              }
             }
            ],
            "label": "EA add (RM)",
            "method": "update"
           },
           {
            "args": [
             {
              "visible": [
               false,
               false,
               false,
               false,
               true,
               false,
               false,
               false,
               false,
               false
              ]
             },
             {
              "title": "EA add 33%",
              "xaxis": {
               "title": "$Mass\\ [M_{\\oplus}]$",
               "type": "log"
              },
              "yaxis": {
               "title": "$Bulk\\ Density\\ [ρ_{bulk}/ρ_{\\oplus}]$"
              }
             }
            ],
            "label": "EA add 33% (DM)",
            "method": "update"
           },
           {
            "args": [
             {
              "visible": [
               false,
               false,
               false,
               false,
               false,
               true,
               false,
               false,
               false,
               false,
               false
              ]
             },
             {
              "title": "EA add 33%",
              "xaxis": {
               "title": "$Mass\\ [M_{\\oplus}]$",
               "type": "log"
              },
              "yaxis": {
               "title": "$Radius\\ [R_{\\oplus}]$"
              }
             }
            ],
            "label": "EA add 33% (RM)",
            "method": "update"
           },
           {
            "args": [
             {
              "visible": [
               false,
               false,
               false,
               false,
               false,
               false,
               true,
               false,
               false,
               false
              ]
             },
             {
              "title": "Combined LIV34 + EA ADD",
              "xaxis": {
               "title": "$Mass\\ [M_{\\oplus}]$",
               "type": "log"
              },
              "yaxis": {
               "title": "$Bulk\\ Density\\ [ρ_{bulk}/ρ_{\\oplus}]$"
              }
             }
            ],
            "label": "Combined LIV34 + EA add (DM)",
            "method": "update"
           },
           {
            "args": [
             {
              "visible": [
               false,
               false,
               false,
               false,
               false,
               false,
               false,
               true,
               false,
               false
              ]
             },
             {
              "title": "Combined LIV34 + EA ADD",
              "xaxis": {
               "title": "$Mass\\ [M_{\\oplus}]$",
               "type": "log"
              },
              "yaxis": {
               "title": "$Radius\\ [R_{\\oplus}]$"
              }
             }
            ],
            "label": "Combined LIV34 + EA add (RM)",
            "method": "update"
           },
           {
            "args": [
             {
              "visible": [
               false,
               false,
               false,
               false,
               false,
               false,
               false,
               false,
               true,
               false
              ]
             },
             {
              "title": "Combined LIV34 + EA ADD",
              "xaxis": {
               "title": "$Mass\\ [M_{\\oplus}]$",
               "type": "log"
              },
              "yaxis": {
               "title": "$Bulk\\ Density\\ [ρ_{bulk}/ρ_{\\oplus}]$"
              }
             }
            ],
            "label": "Combined LIV34 + EA add 33% (DM)",
            "method": "update"
           },
           {
            "args": [
             {
              "visible": [
               false,
               false,
               false,
               false,
               false,
               false,
               false,
               false,
               false,
               true
              ]
             },
             {
              "title": "Combined LIV34 + EA ADD 33%",
              "xaxis": {
               "title": "$Mass\\ [M_{\\oplus}]$",
               "type": "log"
              },
              "yaxis": {
               "title": "$Radius\\ [R_{\\oplus}]$"
              }
             }
            ],
            "label": "Combined LIV34 + EA add 33% (RM)",
            "method": "update"
           }
          ],
          "direction": "down",
          "showactive": true,
          "x": 0.5,
          "xanchor": "left",
          "yanchor": "top"
         }
        ],
        "width": 800
       }
      },
      "text/html": [
       "<div>                            <div id=\"ab3055c7-6be2-4a2b-b603-c498c89d7d35\" class=\"plotly-graph-div\" style=\"height:600px; width:800px;\"></div>            <script type=\"text/javascript\">                require([\"plotly\"], function(Plotly) {                    window.PLOTLYENV=window.PLOTLYENV || {};                                    if (document.getElementById(\"ab3055c7-6be2-4a2b-b603-c498c89d7d35\")) {                    Plotly.newPlot(                        \"ab3055c7-6be2-4a2b-b603-c498c89d7d35\",                        [{\"error_x\":{\"array\":[0.23,0.86,0.28,0.3,0.31,0.11,0.18,0.24,1.35,5.7,0.56,0.35,0.46,0.46,0.17,0.2,0.24,0.69,3.3,0.67,0.71,0.59,1.4,0.26,0.38,0.46,0.9,0.069,0.056,0.012,0.022,0.031,0.038,0.02],\"arrayminus\":[0.23,0.86,0.28,0.3,0.31,0.12,0.18,0.24,1.35,5.2,0.56,0.34,0.45,0.44,0.16,0.2,0.24,0.67,3.3,0.69,0.72,0.58,1.4,0.26,0.38,0.46,0.9,0.069,0.056,0.012,0.022,0.031,0.038,0.02],\"color\":\"rgba(169, 169, 169, 0.7)\",\"type\":\"data\",\"visible\":true},\"error_y\":{\"array\":[0.23593466424682397,0.07622504537205081,0.24319419237749548,0.1941923774954628,0.308529945553539,0.2177858439201452,0.038112522686025406,0.049001814882032674,0.07259528130671507,0.14519056261343014,0.4355716878402904,0.22323049001814882,0.1542649727767695,0.15245009074410162,0.14700544464609802,0.1869328493647913,0.1960072595281307,0.11978221415607987,0.0852994555353902,0.23593466424682397,0.2413793103448276,0.1560798548094374,0.08711433756805807,0.2177858439201452,0.0544464609800363,0.08166969147005446,0.19963702359346644,0.04809437386569873,0.040290381125226864,0.028312159709618877,0.030490018148820328,0.0250453720508167,0.024682395644283123,0.05843920145190563],\"arrayminus\":[0.23593466424682397,0.059891107078039935,0.19963702359346644,0.16878402903811254,0.23593466424682397,0.18148820326678766,0.038112522686025406,0.049001814882032674,0.07259528130671507,0.14519056261343014,0.3266787658802178,0.19056261343012706,0.132486388384755,0.14519056261343014,0.13430127041742287,0.16152450090744103,0.16152450090744103,0.09800362976406535,0.07622504537205081,0.19963702359346644,0.20689655172413793,0.13430127041742287,0.07622504537205081,0.2177858439201452,0.0544464609800363,0.08166969147005446,0.1633393829401089,0.049364791288566245,0.0426497277676951,0.029582577132486392,0.033030852994555354,0.028675136116152453,0.028675136116152453,0.054809437386569876],\"color\":\"rgba(169, 169, 169, 0.7)\",\"type\":\"data\",\"visible\":true},\"hoverinfo\":\"text\",\"marker\":{\"color\":[529.0,576.0,1089.0,773.0,525.0,701.0,590.0,520.0,284.0,494.0,965.0,517.0,409.0,378.9,708.9,595.0,1000.0,397.0,329.0,775.0,921.0,1069.0,531.0,581.0,488.0,387.0,514.0,400.1,341.9,288.0,251.3,219.0,198.6,168.0],\"colorbar\":{\"title\":{\"text\":\"Temperature\"}},\"colorscale\":[[0.0,\"#000004\"],[0.1111111111111111,\"#1b0c41\"],[0.2222222222222222,\"#4a0c6b\"],[0.3333333333333333,\"#781c6d\"],[0.4444444444444444,\"#a52c60\"],[0.5555555555555556,\"#cf4446\"],[0.6666666666666666,\"#ed6925\"],[0.7777777777777778,\"#fb9b06\"],[0.8888888888888888,\"#f7d13d\"],[1.0,\"#fcffa4\"]],\"showscale\":true,\"size\":12},\"mode\":\"markers\",\"name\":\"Mass, Density - Data 1\",\"text\":[\"Dataset: LIV34<br>Planet: GJ 1132 b<br>Mass: 1.66 +0.23 -0.23 (13.86% relative error)<br>Density: 6.30 +0.24 -0.24 (3.74% relative error)<br>Radius: 1.13 +0.06 -0.06 (4.96% relative error)\",\"Dataset: LIV34<br>Planet: GJ 1214 b<br>Mass: 6.26 +0.86 -0.86 (13.74% relative error)<br>Density: 1.49 +0.08 -0.06 (5.12% relative error)<br>Radius: 2.85 +0.20 -0.20 (7.02% relative error)\",\"Dataset: LIV34<br>Planet: GJ 1252 b<br>Mass: 1.32 +0.28 -0.28 (21.21% relative error)<br>Density: 4.22 +0.24 -0.20 (5.76% relative error)<br>Radius: 1.193 +0.07 -0.07 (6.20% relative error)\",\"Dataset: LIV34<br>Planet: GJ 3473 b<br>Mass: 1.86 +0.30 -0.30 (16.13% relative error)<br>Density: 5.03 +0.19 -0.17 (3.86% relative error)<br>Radius: 1.264 +0.05 -0.05 (3.96% relative error)\",\"Dataset: LIV34<br>Planet: GJ 357 b<br>Mass: 1.84 +0.31 -0.31 (16.85% relative error)<br>Density: 5.60 +0.31 -0.24 (5.51% relative error)<br>Radius: 1.217 +0.08 -0.08 (6.90% relative error)\",\"Dataset: LIV34<br>Planet: GJ 486 b<br>Mass: 2.82 +0.11 -0.12 (3.90% relative error)<br>Density: 7.00 +0.22 -0.18 (3.11% relative error)<br>Radius: 1.305 +0.06 -0.07 (4.83% relative error)\",\"Dataset: LIV34<br>Planet: K2-146 b<br>Mass: 5.77 +0.18 -0.18 (3.12% relative error)<br>Density: 3.69 +0.04 -0.04 (1.03% relative error)<br>Radius: 2.05 +0.06 -0.06 (2.93% relative error)\",\"Dataset: LIV34<br>Planet: K2-146 c<br>Mass: 7.49 +0.24 -0.24 (3.20% relative error)<br>Density: 3.92 +0.05 -0.05 (1.25% relative error)<br>Radius: 2.19 +0.07 -0.07 (3.20% relative error)\",\"Dataset: LIV34<br>Planet: K2-18 b<br>Mass: 8.64 +1.35 -1.35 (15.62% relative error)<br>Density: 2.40 +0.07 -0.07 (3.02% relative error)<br>Radius: 2.711 +0.07 -0.07 (2.40% relative error)\",\"Dataset: LIV34<br>Planet: K2-25 b<br>Mass: 24.5 +5.70 -5.20 (23.27% relative error)<br>Density: 3.30 +0.15 -0.15 (4.40% relative error)<br>Radius: 3.44 +0.12 -0.12 (3.49% relative error)\",\"Dataset: LIV34<br>Planet: L 168-9 b<br>Mass: 4.6 +0.56 -0.56 (12.17% relative error)<br>Density: 9.60 +0.44 -0.33 (4.54% relative error)<br>Radius: 1.39 +0.09 -0.09 (6.47% relative error)\",\"Dataset: LIV34<br>Planet: L 98-59 c<br>Mass: 2.42 +0.35 -0.34 (14.46% relative error)<br>Density: 5.46 +0.22 -0.19 (4.09% relative error)<br>Radius: 1.34 +0.07 -0.07 (5.22% relative error)\",\"Dataset: LIV34<br>Planet: L 98-59 d<br>Mass: 2.31 +0.46 -0.45 (19.91% relative error)<br>Density: 3.17 +0.15 -0.13 (4.87% relative error)<br>Radius: 1.58 +0.08 -0.08 (5.06% relative error)\",\"Dataset: LIV34<br>Planet: LHS 1140 b<br>Mass: 6.38 +0.46 -0.44 (7.21% relative error)<br>Density: 8.04 +0.15 -0.15 (1.90% relative error)<br>Radius: 1.635 +0.05 -0.05 (2.81% relative error)\",\"Dataset: LIV34<br>Planet: LHS 1140 c<br>Mass: 1.76 +0.17 -0.16 (9.66% relative error)<br>Density: 6.07 +0.15 -0.13 (2.42% relative error)<br>Radius: 1.169 +0.04 -0.04 (3.17% relative error)\",\"Dataset: LIV34<br>Planet: LHS 1478 b<br>Mass: 2.33 +0.20 -0.20 (8.58% relative error)<br>Density: 6.67 +0.19 -0.16 (2.80% relative error)<br>Radius: 1.242 +0.05 -0.05 (4.11% relative error)\",\"Dataset: LIV34<br>Planet: LTT 3780 b<br>Mass: 2.47 +0.24 -0.24 (9.72% relative error)<br>Density: 5.91 +0.20 -0.16 (3.32% relative error)<br>Radius: 1.32 +0.06 -0.06 (4.55% relative error)\",\"Dataset: LIV34<br>Planet: LTT 3780 c<br>Mass: 7.02 +0.69 -0.67 (9.83% relative error)<br>Density: 3.03 +0.12 -0.10 (3.95% relative error)<br>Radius: 2.33 +0.14 -0.13 (6.01% relative error)\",\"Dataset: LIV34<br>Planet: TOI-1231 b<br>Mass: 15.4 +3.30 -3.30 (21.43% relative error)<br>Density: 1.74 +0.09 -0.08 (4.90% relative error)<br>Radius: 3.65 +0.16 -0.15 (4.38% relative error)\",\"Dataset: LIV34<br>Planet: TOI-1235 b<br>Mass: 6.69 +0.67 -0.69 (10.01% relative error)<br>Density: 7.25 +0.24 -0.20 (3.25% relative error)<br>Radius: 1.694 +0.08 -0.08 (4.72% relative error)\",\"Dataset: LIV34<br>Planet: TOI-1634 b<br>Mass: 7.57 +0.71 -0.72 (9.38% relative error)<br>Density: 7.59 +0.24 -0.21 (3.18% relative error)<br>Radius: 1.773 +0.08 -0.08 (4.34% relative error)\",\"Dataset: LIV34<br>Planet: TOI-1685 b<br>Mass: 3.09 +0.59 -0.58 (19.09% relative error)<br>Density: 3.44 +0.16 -0.13 (4.54% relative error)<br>Radius: 1.7 +0.07 -0.07 (4.12% relative error)\",\"Dataset: LIV34<br>Planet: TOI-269 b<br>Mass: 8.8 +1.40 -1.40 (15.91% relative error)<br>Density: 2.28 +0.09 -0.08 (3.82% relative error)<br>Radius: 2.77 +0.12 -0.12 (4.33% relative error)\",\"Dataset: LIV34<br>Planet: TOI-270 b<br>Mass: 1.58 +0.26 -0.26 (16.46% relative error)<br>Density: 5.70 +0.22 -0.22 (3.82% relative error)<br>Radius: 1.151 +0.05 -0.05 (4.34% relative error)\",\"Dataset: LIV34<br>Planet: TOI-270 c<br>Mass: 6.14 +0.38 -0.38 (6.19% relative error)<br>Density: 2.68 +0.05 -0.05 (2.03% relative error)<br>Radius: 2.332 +0.07 -0.07 (3.09% relative error)\",\"Dataset: LIV34<br>Planet: TOI-270 d<br>Mass: 4.78 +0.46 -0.46 (9.62% relative error)<br>Density: 3.28 +0.08 -0.08 (2.49% relative error)<br>Radius: 2.005 +0.07 -0.07 (3.34% relative error)\",\"Dataset: LIV34<br>Planet: TOI-776 b<br>Mass: 4.0 +0.90 -0.90 (22.50% relative error)<br>Density: 3.40 +0.20 -0.16 (5.87% relative error)<br>Radius: 1.85 +0.13 -0.13 (7.03% relative error)\",\"Dataset: LIV34<br>Planet: TRAPPIST-1 b<br>Mass: 1.374 +0.07 -0.07 (5.02% relative error)<br>Density: 5.42 +0.05 -0.05 (0.89% relative error)<br>Radius: 1.116 +0.01 -0.01 (1.25% relative error)\",\"Dataset: LIV34<br>Planet: TRAPPIST-1 c<br>Mass: 1.308 +0.06 -0.06 (4.28% relative error)<br>Density: 5.45 +0.04 -0.04 (0.74% relative error)<br>Radius: 1.097 +0.01 -0.01 (1.28% relative error)\",\"Dataset: LIV34<br>Planet: TRAPPIST-1 d<br>Mass: 0.388 +0.01 -0.01 (3.09% relative error)<br>Density: 4.35 +0.03 -0.03 (0.65% relative error)<br>Radius: 0.788 +0.01 -0.01 (1.40% relative error)\",\"Dataset: LIV34<br>Planet: TRAPPIST-1 e<br>Mass: 0.692 +0.02 -0.02 (3.18% relative error)<br>Density: 4.88 +0.03 -0.03 (0.62% relative error)<br>Radius: 0.92 +0.01 -0.01 (1.41% relative error)\",\"Dataset: LIV34<br>Planet: TRAPPIST-1 f<br>Mass: 1.039 +0.03 -0.03 (2.98% relative error)<br>Density: 5.01 +0.03 -0.03 (0.50% relative error)<br>Radius: 1.045 +0.01 -0.01 (1.24% relative error)\",\"Dataset: LIV34<br>Planet: TRAPPIST-1 g<br>Mass: 1.321 +0.04 -0.04 (2.88% relative error)<br>Density: 5.04 +0.02 -0.03 (0.49% relative error)<br>Radius: 1.129 +0.01 -0.01 (1.33% relative error)\",\"Dataset: LIV34<br>Planet: TRAPPIST-1 h<br>Mass: 0.326 +0.02 -0.02 (6.13% relative error)<br>Density: 4.15 +0.06 -0.05 (1.41% relative error)<br>Radius: 0.755 +0.01 -0.01 (1.85% relative error)\"],\"x\":[1.66,6.26,1.32,1.86,1.84,2.82,5.77,7.49,8.64,24.5,4.6,2.42,2.31,6.38,1.76,2.33,2.47,7.02,15.4,6.69,7.57,3.09,8.8,1.58,6.14,4.78,4.0,1.374,1.308,0.388,0.692,1.039,1.321,0.326],\"y\":[1.1433756805807622,0.27041742286751363,0.7658802177858439,0.912885662431942,1.0163339382940109,1.2704174228675136,0.6696914700544465,0.7114337568058077,0.4355716878402904,0.5989110707803993,1.7422867513611615,0.9909255898366607,0.5753176043557169,1.4591651542649726,1.1016333938294012,1.2105263157894737,1.0725952813067152,0.5499092558983666,0.31578947368421056,1.3157894736842106,1.3774954627949183,0.6243194192377496,0.41379310344827586,1.0344827586206897,0.48638838475499097,0.5952813067150635,0.617059891107078,0.984573502722323,0.9885662431941924,0.7901996370235935,0.8865698729582577,0.9090744101633395,0.9150635208711434,0.7526315789473685],\"type\":\"scatter\"},{\"error_x\":{\"array\":[0.23,0.86,0.28,0.3,0.31,0.11,0.18,0.24,1.35,5.7,0.56,0.35,0.46,0.46,0.17,0.2,0.24,0.69,3.3,0.67,0.71,0.59,1.4,0.26,0.38,0.46,0.9,0.069,0.056,0.012,0.022,0.031,0.038,0.02],\"arrayminus\":[0.23,0.86,0.28,0.3,0.31,0.12,0.18,0.24,1.35,5.2,0.56,0.34,0.45,0.44,0.16,0.2,0.24,0.67,3.3,0.69,0.72,0.58,1.4,0.26,0.38,0.46,0.9,0.069,0.056,0.012,0.022,0.031,0.038,0.02],\"color\":\"rgba(169, 169, 169, 0.7)\",\"type\":\"data\",\"visible\":true},\"error_y\":{\"array\":[0.056,0.2,0.074,0.05,0.084,0.063,0.06,0.07,0.065,0.12,0.09,0.07,0.08,0.046,0.037,0.051,0.06,0.14,0.16,0.08,0.077,0.07,0.12,0.05,0.072,0.067,0.13,0.014,0.014,0.011,0.013,0.013,0.015,0.014],\"arrayminus\":[0.056,0.2,0.074,0.049,0.083,0.067,0.06,0.07,0.065,0.12,0.09,0.07,0.08,0.046,0.038,0.049,0.06,0.13,0.15,0.077,0.077,0.07,0.12,0.05,0.072,0.067,0.13,0.012,0.012,0.01,0.012,0.012,0.015,0.014],\"color\":\"rgba(169, 169, 169, 0.7)\",\"type\":\"data\",\"visible\":true},\"hoverinfo\":\"text\",\"marker\":{\"color\":[529.0,576.0,1089.0,773.0,525.0,701.0,590.0,520.0,284.0,494.0,965.0,517.0,409.0,378.9,708.9,595.0,1000.0,397.0,329.0,775.0,921.0,1069.0,531.0,581.0,488.0,387.0,514.0,400.1,341.9,288.0,251.3,219.0,198.6,168.0],\"colorbar\":{\"title\":{\"text\":\"Temperature\"}},\"colorscale\":[[0.0,\"#000004\"],[0.1111111111111111,\"#1b0c41\"],[0.2222222222222222,\"#4a0c6b\"],[0.3333333333333333,\"#781c6d\"],[0.4444444444444444,\"#a52c60\"],[0.5555555555555556,\"#cf4446\"],[0.6666666666666666,\"#ed6925\"],[0.7777777777777778,\"#fb9b06\"],[0.8888888888888888,\"#f7d13d\"],[1.0,\"#fcffa4\"]],\"showscale\":true,\"size\":12},\"mode\":\"markers\",\"name\":\"Mass, Radius - Data 4\",\"text\":[\"Dataset: LIV34<br>Planet: GJ 1132 b<br>Mass: 1.66 +0.23 -0.23 (13.86% relative error)<br>Density: 6.30 +0.24 -0.24 (3.74% relative error)<br>Radius: 1.13 +0.06 -0.06 (4.96% relative error)\",\"Dataset: LIV34<br>Planet: GJ 1214 b<br>Mass: 6.26 +0.86 -0.86 (13.74% relative error)<br>Density: 1.49 +0.08 -0.06 (5.12% relative error)<br>Radius: 2.85 +0.20 -0.20 (7.02% relative error)\",\"Dataset: LIV34<br>Planet: GJ 1252 b<br>Mass: 1.32 +0.28 -0.28 (21.21% relative error)<br>Density: 4.22 +0.24 -0.20 (5.76% relative error)<br>Radius: 1.193 +0.07 -0.07 (6.20% relative error)\",\"Dataset: LIV34<br>Planet: GJ 3473 b<br>Mass: 1.86 +0.30 -0.30 (16.13% relative error)<br>Density: 5.03 +0.19 -0.17 (3.86% relative error)<br>Radius: 1.264 +0.05 -0.05 (3.96% relative error)\",\"Dataset: LIV34<br>Planet: GJ 357 b<br>Mass: 1.84 +0.31 -0.31 (16.85% relative error)<br>Density: 5.60 +0.31 -0.24 (5.51% relative error)<br>Radius: 1.217 +0.08 -0.08 (6.90% relative error)\",\"Dataset: LIV34<br>Planet: GJ 486 b<br>Mass: 2.82 +0.11 -0.12 (3.90% relative error)<br>Density: 7.00 +0.22 -0.18 (3.11% relative error)<br>Radius: 1.305 +0.06 -0.07 (4.83% relative error)\",\"Dataset: LIV34<br>Planet: K2-146 b<br>Mass: 5.77 +0.18 -0.18 (3.12% relative error)<br>Density: 3.69 +0.04 -0.04 (1.03% relative error)<br>Radius: 2.05 +0.06 -0.06 (2.93% relative error)\",\"Dataset: LIV34<br>Planet: K2-146 c<br>Mass: 7.49 +0.24 -0.24 (3.20% relative error)<br>Density: 3.92 +0.05 -0.05 (1.25% relative error)<br>Radius: 2.19 +0.07 -0.07 (3.20% relative error)\",\"Dataset: LIV34<br>Planet: K2-18 b<br>Mass: 8.64 +1.35 -1.35 (15.62% relative error)<br>Density: 2.40 +0.07 -0.07 (3.02% relative error)<br>Radius: 2.711 +0.07 -0.07 (2.40% relative error)\",\"Dataset: LIV34<br>Planet: K2-25 b<br>Mass: 24.5 +5.70 -5.20 (23.27% relative error)<br>Density: 3.30 +0.15 -0.15 (4.40% relative error)<br>Radius: 3.44 +0.12 -0.12 (3.49% relative error)\",\"Dataset: LIV34<br>Planet: L 168-9 b<br>Mass: 4.6 +0.56 -0.56 (12.17% relative error)<br>Density: 9.60 +0.44 -0.33 (4.54% relative error)<br>Radius: 1.39 +0.09 -0.09 (6.47% relative error)\",\"Dataset: LIV34<br>Planet: L 98-59 c<br>Mass: 2.42 +0.35 -0.34 (14.46% relative error)<br>Density: 5.46 +0.22 -0.19 (4.09% relative error)<br>Radius: 1.34 +0.07 -0.07 (5.22% relative error)\",\"Dataset: LIV34<br>Planet: L 98-59 d<br>Mass: 2.31 +0.46 -0.45 (19.91% relative error)<br>Density: 3.17 +0.15 -0.13 (4.87% relative error)<br>Radius: 1.58 +0.08 -0.08 (5.06% relative error)\",\"Dataset: LIV34<br>Planet: LHS 1140 b<br>Mass: 6.38 +0.46 -0.44 (7.21% relative error)<br>Density: 8.04 +0.15 -0.15 (1.90% relative error)<br>Radius: 1.635 +0.05 -0.05 (2.81% relative error)\",\"Dataset: LIV34<br>Planet: LHS 1140 c<br>Mass: 1.76 +0.17 -0.16 (9.66% relative error)<br>Density: 6.07 +0.15 -0.13 (2.42% relative error)<br>Radius: 1.169 +0.04 -0.04 (3.17% relative error)\",\"Dataset: LIV34<br>Planet: LHS 1478 b<br>Mass: 2.33 +0.20 -0.20 (8.58% relative error)<br>Density: 6.67 +0.19 -0.16 (2.80% relative error)<br>Radius: 1.242 +0.05 -0.05 (4.11% relative error)\",\"Dataset: LIV34<br>Planet: LTT 3780 b<br>Mass: 2.47 +0.24 -0.24 (9.72% relative error)<br>Density: 5.91 +0.20 -0.16 (3.32% relative error)<br>Radius: 1.32 +0.06 -0.06 (4.55% relative error)\",\"Dataset: LIV34<br>Planet: LTT 3780 c<br>Mass: 7.02 +0.69 -0.67 (9.83% relative error)<br>Density: 3.03 +0.12 -0.10 (3.95% relative error)<br>Radius: 2.33 +0.14 -0.13 (6.01% relative error)\",\"Dataset: LIV34<br>Planet: TOI-1231 b<br>Mass: 15.4 +3.30 -3.30 (21.43% relative error)<br>Density: 1.74 +0.09 -0.08 (4.90% relative error)<br>Radius: 3.65 +0.16 -0.15 (4.38% relative error)\",\"Dataset: LIV34<br>Planet: TOI-1235 b<br>Mass: 6.69 +0.67 -0.69 (10.01% relative error)<br>Density: 7.25 +0.24 -0.20 (3.25% relative error)<br>Radius: 1.694 +0.08 -0.08 (4.72% relative error)\",\"Dataset: LIV34<br>Planet: TOI-1634 b<br>Mass: 7.57 +0.71 -0.72 (9.38% relative error)<br>Density: 7.59 +0.24 -0.21 (3.18% relative error)<br>Radius: 1.773 +0.08 -0.08 (4.34% relative error)\",\"Dataset: LIV34<br>Planet: TOI-1685 b<br>Mass: 3.09 +0.59 -0.58 (19.09% relative error)<br>Density: 3.44 +0.16 -0.13 (4.54% relative error)<br>Radius: 1.7 +0.07 -0.07 (4.12% relative error)\",\"Dataset: LIV34<br>Planet: TOI-269 b<br>Mass: 8.8 +1.40 -1.40 (15.91% relative error)<br>Density: 2.28 +0.09 -0.08 (3.82% relative error)<br>Radius: 2.77 +0.12 -0.12 (4.33% relative error)\",\"Dataset: LIV34<br>Planet: TOI-270 b<br>Mass: 1.58 +0.26 -0.26 (16.46% relative error)<br>Density: 5.70 +0.22 -0.22 (3.82% relative error)<br>Radius: 1.151 +0.05 -0.05 (4.34% relative error)\",\"Dataset: LIV34<br>Planet: TOI-270 c<br>Mass: 6.14 +0.38 -0.38 (6.19% relative error)<br>Density: 2.68 +0.05 -0.05 (2.03% relative error)<br>Radius: 2.332 +0.07 -0.07 (3.09% relative error)\",\"Dataset: LIV34<br>Planet: TOI-270 d<br>Mass: 4.78 +0.46 -0.46 (9.62% relative error)<br>Density: 3.28 +0.08 -0.08 (2.49% relative error)<br>Radius: 2.005 +0.07 -0.07 (3.34% relative error)\",\"Dataset: LIV34<br>Planet: TOI-776 b<br>Mass: 4.0 +0.90 -0.90 (22.50% relative error)<br>Density: 3.40 +0.20 -0.16 (5.87% relative error)<br>Radius: 1.85 +0.13 -0.13 (7.03% relative error)\",\"Dataset: LIV34<br>Planet: TRAPPIST-1 b<br>Mass: 1.374 +0.07 -0.07 (5.02% relative error)<br>Density: 5.42 +0.05 -0.05 (0.89% relative error)<br>Radius: 1.116 +0.01 -0.01 (1.25% relative error)\",\"Dataset: LIV34<br>Planet: TRAPPIST-1 c<br>Mass: 1.308 +0.06 -0.06 (4.28% relative error)<br>Density: 5.45 +0.04 -0.04 (0.74% relative error)<br>Radius: 1.097 +0.01 -0.01 (1.28% relative error)\",\"Dataset: LIV34<br>Planet: TRAPPIST-1 d<br>Mass: 0.388 +0.01 -0.01 (3.09% relative error)<br>Density: 4.35 +0.03 -0.03 (0.65% relative error)<br>Radius: 0.788 +0.01 -0.01 (1.40% relative error)\",\"Dataset: LIV34<br>Planet: TRAPPIST-1 e<br>Mass: 0.692 +0.02 -0.02 (3.18% relative error)<br>Density: 4.88 +0.03 -0.03 (0.62% relative error)<br>Radius: 0.92 +0.01 -0.01 (1.41% relative error)\",\"Dataset: LIV34<br>Planet: TRAPPIST-1 f<br>Mass: 1.039 +0.03 -0.03 (2.98% relative error)<br>Density: 5.01 +0.03 -0.03 (0.50% relative error)<br>Radius: 1.045 +0.01 -0.01 (1.24% relative error)\",\"Dataset: LIV34<br>Planet: TRAPPIST-1 g<br>Mass: 1.321 +0.04 -0.04 (2.88% relative error)<br>Density: 5.04 +0.02 -0.03 (0.49% relative error)<br>Radius: 1.129 +0.01 -0.01 (1.33% relative error)\",\"Dataset: LIV34<br>Planet: TRAPPIST-1 h<br>Mass: 0.326 +0.02 -0.02 (6.13% relative error)<br>Density: 4.15 +0.06 -0.05 (1.41% relative error)<br>Radius: 0.755 +0.01 -0.01 (1.85% relative error)\"],\"x\":[1.66,6.26,1.32,1.86,1.84,2.82,5.77,7.49,8.64,24.5,4.6,2.42,2.31,6.38,1.76,2.33,2.47,7.02,15.4,6.69,7.57,3.09,8.8,1.58,6.14,4.78,4.0,1.374,1.308,0.388,0.692,1.039,1.321,0.326],\"y\":[1.13,2.85,1.193,1.264,1.217,1.305,2.05,2.19,2.711,3.44,1.39,1.34,1.58,1.635,1.169,1.242,1.32,2.33,3.65,1.694,1.773,1.7,2.77,1.151,2.332,2.005,1.85,1.116,1.097,0.788,0.92,1.045,1.129,0.755],\"type\":\"scatter\"},{\"error_x\":{\"array\":[0.05,0.34,0.48,0.99,0.65,0.65,1.4,0.7,0.26,0.2,1.36,0.84,0.24,0.67,1.21,1.0,1.5,0.3],\"arrayminus\":[0.05,0.34,0.48,0.93,0.61,0.65,1.4,0.7,0.25,0.19,1.3,0.88,0.24,0.68,1.24,1.0,1.5,0.3],\"color\":\"rgba(169, 169, 169, 0.7)\",\"type\":\"data\",\"visible\":true},\"error_y\":{\"array\":[0.23593466424682397,0.18148820326678766,0.1633393829401089,0.30308529945553536,0.038112522686025406,0.049001814882032674,0.047186932849364795,null,0.2177858439201452,0.12341197822141563,0.3720508166969147,0.08711433756805807,null,null,0.12704174228675136,0.3266787658802178,0.058076225045372055,0.19963702359346644],\"arrayminus\":[0.23593466424682397,0.18148820326678766,0.14519056261343014,0.1960072595281307,0.034482758620689655,0.039927404718693285,0.047186932849364795,null,0.19963702359346644,0.1088929219600726,0.3357531760435572,0.07622504537205081,null,null,0.12341197822141563,0.23593466424682397,0.058076225045372055,0.19963702359346644],\"color\":\"rgba(169, 169, 169, 0.7)\",\"type\":\"data\",\"visible\":true},\"hoverinfo\":\"text\",\"marker\":{\"color\":[1365.0,709.0,557.0,463.0,431.0,385.0,997.0,324.0,555.0,508.0,1323.0,703.0,682.0,338.0,734.0,698.0,443.0,387.0],\"colorbar\":{\"title\":{\"text\":\"Temperature\"}},\"colorscale\":[[0.0,\"#000004\"],[0.1111111111111111,\"#1b0c41\"],[0.2222222222222222,\"#4a0c6b\"],[0.3333333333333333,\"#781c6d\"],[0.4444444444444444,\"#a52c60\"],[0.5555555555555556,\"#cf4446\"],[0.6666666666666666,\"#ed6925\"],[0.7777777777777778,\"#fb9b06\"],[0.8888888888888888,\"#f7d13d\"],[1.0,\"#fcffa4\"]],\"showscale\":true,\"size\":12},\"mode\":\"markers\",\"name\":\"Mass, Density - Data 2\",\"text\":[\"Dataset: EA add<br>Planet: GJ 367 b<br>Mass: 0.633 +0.05 -0.05 (7.90% relative error)<br>Density: 10.20 +0.24 -0.24 (2.31% relative error)<br>Radius: 0.699 +0.02 -0.02 (3.43% relative error)\",\"Dataset: EA add<br>Planet: HD 260655 b<br>Mass: 2.14 +0.34 -0.34 (15.89% relative error)<br>Density: 6.20 +0.18 -0.18 (2.93% relative error)<br>Radius: 1.24 +0.02 -0.02 (1.85% relative error)\",\"Dataset: EA add<br>Planet: HD 260655 c<br>Mass: 3.09 +0.48 -0.48 (15.53% relative error)<br>Density: 4.70 +0.16 -0.15 (3.48% relative error)<br>Radius: 1.533 +0.05 -0.05 (3.33% relative error)\",\"Dataset: EA add<br>Planet: K2-3 b<br>Mass: 6.48 +0.99 -0.93 (15.28% relative error)<br>Density: 3.70 +0.30 -0.20 (8.19% relative error)<br>Radius: 2.103 +0.26 -0.26 (12.22% relative error)\",\"Dataset: EA add<br>Planet: Kepler-26 b<br>Mass: 5.12 +0.65 -0.61 (12.70% relative error)<br>Density: 1.26 +0.04 -0.03 (3.02% relative error)<br>Radius: 2.78 +0.11 -0.11 (3.96% relative error)\",\"Dataset: EA add<br>Planet: Kepler-26 c<br>Mass: 6.2 +0.65 -0.65 (10.48% relative error)<br>Density: 1.61 +0.05 -0.04 (3.04% relative error)<br>Radius: 2.72 +0.12 -0.12 (4.41% relative error)\",\"Dataset: EA add<br>Planet: Kepler-94 b<br>Mass: 10.84 +1.40 -1.40 (12.92% relative error)<br>Density: 1.45 +0.05 -0.05 (3.25% relative error)<br>Radius: 3.51 +0.15 -0.15 (4.27% relative error)\",\"Dataset: EA add<br>Planet: LP 791-18 c<br>Mass: 7.1 +0.70 -0.70 (9.86% relative error)<br>Density: 2.69 +nan -nan (nan% relative error)<br>Radius: 2.438 +0.10 -0.10 (3.94% relative error)\",\"Dataset: EA add<br>Planet: LTT 1445 A b<br>Mass: 2.87 +0.26 -0.25 (9.06% relative error)<br>Density: 7.10 +0.22 -0.20 (3.07% relative error)<br>Radius: 1.18 +0.06 -0.06 (5.08% relative error)\",\"Dataset: EA add<br>Planet: LTT 1445 A c<br>Mass: 1.54 +0.20 -0.19 (12.99% relative error)<br>Density: 5.57 +0.12 -0.11 (2.22% relative error)<br>Radius: 1.147 +0.06 -0.05 (4.80% relative error)\",\"Dataset: EA add<br>Planet: TOI-1075 b<br>Mass: 9.95 +1.36 -1.30 (13.67% relative error)<br>Density: 9.32 +0.37 -0.34 (3.99% relative error)<br>Radius: 1.791 +0.12 -0.08 (6.48% relative error)\",\"Dataset: EA add<br>Planet: TOI-1201 b<br>Mass: 6.28 +0.84 -0.88 (13.38% relative error)<br>Density: 2.45 +0.09 -0.08 (3.56% relative error)<br>Radius: 2.415 +0.09 -0.09 (3.77% relative error)\",\"Dataset: EA add<br>Planet: TOI-1468 b<br>Mass: 3.21 +0.24 -0.24 (7.48% relative error)<br>Density: 8.41 +nan -nan (nan% relative error)<br>Radius: 1.28 +0.04 -0.04 (2.97% relative error)\",\"Dataset: EA add<br>Planet: TOI-1468 c<br>Mass: 6.64 +0.67 -0.68 (10.09% relative error)<br>Density: 4.15 +nan -nan (nan% relative error)<br>Radius: 2.064 +0.04 -0.04 (2.13% relative error)\",\"Dataset: EA add<br>Planet: TOI-1470 b<br>Mass: 7.32 +1.21 -1.24 (16.53% relative error)<br>Density: 3.86 +0.13 -0.12 (3.29% relative error)<br>Radius: 2.18 +0.04 -0.04 (1.83% relative error)\",\"Dataset: EA add<br>Planet: TOI-1695 b<br>Mass: 6.36 +1.00 -1.00 (15.72% relative error)<br>Density: 5.00 +0.33 -0.24 (6.53% relative error)<br>Radius: 1.9 +0.16 -0.14 (8.42% relative error)\",\"Dataset: EA add<br>Planet: TOI-1759 b<br>Mass: 10.8 +1.50 -1.50 (13.89% relative error)<br>Density: 1.91 +0.06 -0.06 (3.04% relative error)<br>Radius: 3.14 +0.10 -0.10 (3.18% relative error)\",\"Dataset: EA add<br>Planet: TOI-244 b<br>Mass: 2.68 +0.30 -0.30 (11.19% relative error)<br>Density: 4.20 +0.20 -0.20 (4.75% relative error)<br>Radius: 1.03 +0.08 -0.08 (7.77% relative error)\"],\"x\":[0.633,2.14,3.09,6.48,5.12,6.2,10.84,7.1,2.87,1.54,9.95,6.28,3.21,6.64,7.32,6.36,10.8,2.68],\"y\":[1.851179673321234,1.1252268602540836,0.852994555353902,0.6715063520871144,0.22867513611615245,0.29219600725952816,0.2631578947368421,0.4882032667876588,1.2885662431941924,1.0108892921960073,1.6914700544464611,0.4446460980036298,1.5263157894736843,0.7531760435571688,0.7005444646098004,0.9074410163339384,0.3466424682395644,0.7622504537205083],\"type\":\"scatter\"},{\"error_x\":{\"array\":[0.05,0.34,0.48,0.99,0.65,0.65,1.4,0.7,0.26,0.2,1.36,0.84,0.24,0.67,1.21,1.0,1.5,0.3],\"arrayminus\":[0.05,0.34,0.48,0.93,0.61,0.65,1.4,0.7,0.25,0.19,1.3,0.88,0.24,0.68,1.24,1.0,1.5,0.3],\"color\":\"rgba(169, 169, 169, 0.7)\",\"type\":\"data\",\"visible\":true},\"error_y\":{\"array\":[0.024,0.023,0.051,0.257,0.11,0.12,0.15,0.096,0.06,0.055,0.116,0.091,0.038,0.044,0.04,0.16,0.1,0.08],\"arrayminus\":[0.024,0.023,0.046,0.256,0.11,0.12,0.15,0.096,0.06,0.054,0.081,0.09,0.039,0.044,0.04,0.14,0.1,0.08],\"color\":\"rgba(169, 169, 169, 0.7)\",\"type\":\"data\",\"visible\":true},\"hoverinfo\":\"text\",\"marker\":{\"color\":[1365.0,709.0,557.0,463.0,431.0,385.0,997.0,324.0,555.0,508.0,1323.0,703.0,682.0,338.0,734.0,698.0,443.0,387.0],\"colorbar\":{\"title\":{\"text\":\"Temperature\"}},\"colorscale\":[[0.0,\"#000004\"],[0.1111111111111111,\"#1b0c41\"],[0.2222222222222222,\"#4a0c6b\"],[0.3333333333333333,\"#781c6d\"],[0.4444444444444444,\"#a52c60\"],[0.5555555555555556,\"#cf4446\"],[0.6666666666666666,\"#ed6925\"],[0.7777777777777778,\"#fb9b06\"],[0.8888888888888888,\"#f7d13d\"],[1.0,\"#fcffa4\"]],\"showscale\":true,\"size\":12},\"mode\":\"markers\",\"name\":\"Mass, Density - Data 2\",\"text\":[\"Dataset: EA add<br>Planet: GJ 367 b<br>Mass: 0.633 +0.05 -0.05 (7.90% relative error)<br>Density: 10.20 +0.24 -0.24 (2.31% relative error)<br>Radius: 0.699 +0.02 -0.02 (3.43% relative error)\",\"Dataset: EA add<br>Planet: HD 260655 b<br>Mass: 2.14 +0.34 -0.34 (15.89% relative error)<br>Density: 6.20 +0.18 -0.18 (2.93% relative error)<br>Radius: 1.24 +0.02 -0.02 (1.85% relative error)\",\"Dataset: EA add<br>Planet: HD 260655 c<br>Mass: 3.09 +0.48 -0.48 (15.53% relative error)<br>Density: 4.70 +0.16 -0.15 (3.48% relative error)<br>Radius: 1.533 +0.05 -0.05 (3.33% relative error)\",\"Dataset: EA add<br>Planet: K2-3 b<br>Mass: 6.48 +0.99 -0.93 (15.28% relative error)<br>Density: 3.70 +0.30 -0.20 (8.19% relative error)<br>Radius: 2.103 +0.26 -0.26 (12.22% relative error)\",\"Dataset: EA add<br>Planet: Kepler-26 b<br>Mass: 5.12 +0.65 -0.61 (12.70% relative error)<br>Density: 1.26 +0.04 -0.03 (3.02% relative error)<br>Radius: 2.78 +0.11 -0.11 (3.96% relative error)\",\"Dataset: EA add<br>Planet: Kepler-26 c<br>Mass: 6.2 +0.65 -0.65 (10.48% relative error)<br>Density: 1.61 +0.05 -0.04 (3.04% relative error)<br>Radius: 2.72 +0.12 -0.12 (4.41% relative error)\",\"Dataset: EA add<br>Planet: Kepler-94 b<br>Mass: 10.84 +1.40 -1.40 (12.92% relative error)<br>Density: 1.45 +0.05 -0.05 (3.25% relative error)<br>Radius: 3.51 +0.15 -0.15 (4.27% relative error)\",\"Dataset: EA add<br>Planet: LP 791-18 c<br>Mass: 7.1 +0.70 -0.70 (9.86% relative error)<br>Density: 2.69 +nan -nan (nan% relative error)<br>Radius: 2.438 +0.10 -0.10 (3.94% relative error)\",\"Dataset: EA add<br>Planet: LTT 1445 A b<br>Mass: 2.87 +0.26 -0.25 (9.06% relative error)<br>Density: 7.10 +0.22 -0.20 (3.07% relative error)<br>Radius: 1.18 +0.06 -0.06 (5.08% relative error)\",\"Dataset: EA add<br>Planet: LTT 1445 A c<br>Mass: 1.54 +0.20 -0.19 (12.99% relative error)<br>Density: 5.57 +0.12 -0.11 (2.22% relative error)<br>Radius: 1.147 +0.06 -0.05 (4.80% relative error)\",\"Dataset: EA add<br>Planet: TOI-1075 b<br>Mass: 9.95 +1.36 -1.30 (13.67% relative error)<br>Density: 9.32 +0.37 -0.34 (3.99% relative error)<br>Radius: 1.791 +0.12 -0.08 (6.48% relative error)\",\"Dataset: EA add<br>Planet: TOI-1201 b<br>Mass: 6.28 +0.84 -0.88 (13.38% relative error)<br>Density: 2.45 +0.09 -0.08 (3.56% relative error)<br>Radius: 2.415 +0.09 -0.09 (3.77% relative error)\",\"Dataset: EA add<br>Planet: TOI-1468 b<br>Mass: 3.21 +0.24 -0.24 (7.48% relative error)<br>Density: 8.41 +nan -nan (nan% relative error)<br>Radius: 1.28 +0.04 -0.04 (2.97% relative error)\",\"Dataset: EA add<br>Planet: TOI-1468 c<br>Mass: 6.64 +0.67 -0.68 (10.09% relative error)<br>Density: 4.15 +nan -nan (nan% relative error)<br>Radius: 2.064 +0.04 -0.04 (2.13% relative error)\",\"Dataset: EA add<br>Planet: TOI-1470 b<br>Mass: 7.32 +1.21 -1.24 (16.53% relative error)<br>Density: 3.86 +0.13 -0.12 (3.29% relative error)<br>Radius: 2.18 +0.04 -0.04 (1.83% relative error)\",\"Dataset: EA add<br>Planet: TOI-1695 b<br>Mass: 6.36 +1.00 -1.00 (15.72% relative error)<br>Density: 5.00 +0.33 -0.24 (6.53% relative error)<br>Radius: 1.9 +0.16 -0.14 (8.42% relative error)\",\"Dataset: EA add<br>Planet: TOI-1759 b<br>Mass: 10.8 +1.50 -1.50 (13.89% relative error)<br>Density: 1.91 +0.06 -0.06 (3.04% relative error)<br>Radius: 3.14 +0.10 -0.10 (3.18% relative error)\",\"Dataset: EA add<br>Planet: TOI-244 b<br>Mass: 2.68 +0.30 -0.30 (11.19% relative error)<br>Density: 4.20 +0.20 -0.20 (4.75% relative error)<br>Radius: 1.03 +0.08 -0.08 (7.77% relative error)\"],\"x\":[0.633,2.14,3.09,6.48,5.12,6.2,10.84,7.1,2.87,1.54,9.95,6.28,3.21,6.64,7.32,6.36,10.8,2.68],\"y\":[0.699,1.24,1.533,2.103,2.78,2.72,3.51,2.438,1.18,1.147,1.791,2.415,1.28,2.064,2.18,1.9,3.14,1.03],\"type\":\"scatter\"},{\"error_x\":{\"array\":[2.07,0.72,0.05,0.44,0.34,0.48,0.99,0.6,0.05,1.2,0.3,0.65,0.65,1.4,0.7,0.26,0.2,1.36,0.84,1.3,0.24,0.67,1.21,1.0,1.5,0.3],\"arrayminus\":[2.31,0.72,0.05,0.45,0.34,0.48,0.93,0.6,0.05,1.2,0.3,0.61,0.65,1.4,0.7,0.25,0.19,1.3,0.88,1.3,0.24,0.68,1.24,1.0,1.5,0.3],\"color\":\"rgba(169, 169, 169, 0.7)\",\"type\":\"data\",\"visible\":true},\"error_y\":{\"array\":[0.047186932849364795,0.09437386569872959,0.23593466424682397,0.3629764065335753,0.18148820326678766,0.1633393829401089,0.30308529945553536,null,0.18148820326678766,0.3448275862068966,0.07985480943738657,0.038112522686025406,0.049001814882032674,0.047186932849364795,null,0.2177858439201452,0.12341197822141563,0.3720508166969147,0.08711433756805807,0.3266787658802178,null,null,0.12704174228675136,0.3266787658802178,0.058076225045372055,0.19963702359346644],\"arrayminus\":[0.05263157894736842,0.08166969147005446,0.23593466424682397,0.3629764065335753,0.18148820326678766,0.14519056261343014,0.1960072595281307,null,0.15789473684210528,0.2722323049001815,0.06352087114337568,0.034482758620689655,0.039927404718693285,0.047186932849364795,null,0.19963702359346644,0.1088929219600726,0.3357531760435572,0.07622504537205081,0.29038112522686027,null,null,0.12341197822141563,0.23593466424682397,0.058076225045372055,0.19963702359346644],\"color\":\"rgba(169, 169, 169, 0.7)\",\"type\":\"data\",\"visible\":true},\"hoverinfo\":\"text\",\"marker\":{\"color\":[454.0,693.0,1365.0,568.0,709.0,557.0,463.0,507.0,524.0,476.0,401.0,431.0,385.0,997.0,324.0,555.0,508.0,1323.0,703.0,326.0,682.0,338.0,734.0,698.0,443.0,387.0],\"colorbar\":{\"title\":{\"text\":\"Temperature\"}},\"colorscale\":[[0.0,\"#000004\"],[0.1111111111111111,\"#1b0c41\"],[0.2222222222222222,\"#4a0c6b\"],[0.3333333333333333,\"#781c6d\"],[0.4444444444444444,\"#a52c60\"],[0.5555555555555556,\"#cf4446\"],[0.6666666666666666,\"#ed6925\"],[0.7777777777777778,\"#fb9b06\"],[0.8888888888888888,\"#f7d13d\"],[1.0,\"#fcffa4\"]],\"showscale\":true,\"size\":12},\"mode\":\"markers\",\"name\":\"Mass, Density - Data 3\",\"text\":[\"Dataset: EA add 30%<br>Planet: AU Mic c<br>Mass: 9.6 +2.07 -2.31 (21.56% relative error)<br>Density: 1.22 +0.05 -0.05 (3.87% relative error)<br>Radius: 3.24 +0.16 -0.16 (4.94% relative error)\",\"Dataset: EA add 30%<br>Planet: GJ 3090 b<br>Mass: 3.34 +0.72 -0.72 (21.56% relative error)<br>Density: 1.89 +0.09 -0.08 (4.99% relative error)<br>Radius: 2.13 +0.11 -0.11 (5.16% relative error)\",\"Dataset: EA add 30%<br>Planet: GJ 367 b<br>Mass: 0.633 +0.05 -0.05 (7.90% relative error)<br>Density: 10.20 +0.24 -0.24 (2.31% relative error)<br>Radius: 0.699 +0.02 -0.02 (3.43% relative error)\",\"Dataset: EA add 30%<br>Planet: GJ 3929 b<br>Mass: 1.75 +0.44 -0.45 (25.14% relative error)<br>Density: 7.30 +0.36 -0.36 (4.97% relative error)<br>Radius: 1.09 +0.04 -0.04 (3.67% relative error)\",\"Dataset: EA add 30%<br>Planet: HD 260655 b<br>Mass: 2.14 +0.34 -0.34 (15.89% relative error)<br>Density: 6.20 +0.18 -0.18 (2.93% relative error)<br>Radius: 1.24 +0.02 -0.02 (1.85% relative error)\",\"Dataset: EA add 30%<br>Planet: HD 260655 c<br>Mass: 3.09 +0.48 -0.48 (15.53% relative error)<br>Density: 4.70 +0.16 -0.15 (3.48% relative error)<br>Radius: 1.533 +0.05 -0.05 (3.33% relative error)\",\"Dataset: EA add 30%<br>Planet: K2-3 b<br>Mass: 6.48 +0.99 -0.93 (15.28% relative error)<br>Density: 3.70 +0.30 -0.20 (8.19% relative error)<br>Radius: 2.103 +0.26 -0.26 (12.22% relative error)\",\"Dataset: EA add 30%<br>Planet: Kepler-114 c<br>Mass: 2.8 +0.60 -0.60 (21.43% relative error)<br>Density: 3.76 +nan -nan (nan% relative error)<br>Radius: 1.6 +0.18 -0.18 (11.25% relative error)\",\"Dataset: EA add 30%<br>Planet: Kepler-138 b<br>Mass: 0.187 +0.05 -0.05 (26.74% relative error)<br>Density: 3.02 +0.18 -0.16 (6.01% relative error)<br>Radius: 0.701 +0.07 -0.07 (9.42% relative error)\",\"Dataset: EA add 30%<br>Planet: Kepler-138 c<br>Mass: 5.2 +1.20 -1.20 (23.08% relative error)<br>Density: 6.10 +0.34 -0.27 (5.65% relative error)<br>Radius: 1.67 +0.15 -0.15 (8.98% relative error)\",\"Dataset: EA add 30%<br>Planet: Kepler-138 d<br>Mass: 1.17 +0.30 -0.30 (25.64% relative error)<br>Density: 1.36 +0.08 -0.06 (5.87% relative error)<br>Radius: 1.68 +0.15 -0.15 (8.93% relative error)\",\"Dataset: EA add 30%<br>Planet: Kepler-26 b<br>Mass: 5.12 +0.65 -0.61 (12.70% relative error)<br>Density: 1.26 +0.04 -0.03 (3.02% relative error)<br>Radius: 2.78 +0.11 -0.11 (3.96% relative error)\",\"Dataset: EA add 30%<br>Planet: Kepler-26 c<br>Mass: 6.2 +0.65 -0.65 (10.48% relative error)<br>Density: 1.61 +0.05 -0.04 (3.04% relative error)<br>Radius: 2.72 +0.12 -0.12 (4.41% relative error)\",\"Dataset: EA add 30%<br>Planet: Kepler-94 b<br>Mass: 10.84 +1.40 -1.40 (12.92% relative error)<br>Density: 1.45 +0.05 -0.05 (3.25% relative error)<br>Radius: 3.51 +0.15 -0.15 (4.27% relative error)\",\"Dataset: EA add 30%<br>Planet: LP 791-18 c<br>Mass: 7.1 +0.70 -0.70 (9.86% relative error)<br>Density: 2.69 +nan -nan (nan% relative error)<br>Radius: 2.438 +0.10 -0.10 (3.94% relative error)\",\"Dataset: EA add 30%<br>Planet: LTT 1445 A b<br>Mass: 2.87 +0.26 -0.25 (9.06% relative error)<br>Density: 7.10 +0.22 -0.20 (3.07% relative error)<br>Radius: 1.18 +0.06 -0.06 (5.08% relative error)\",\"Dataset: EA add 30%<br>Planet: LTT 1445 A c<br>Mass: 1.54 +0.20 -0.19 (12.99% relative error)<br>Density: 5.57 +0.12 -0.11 (2.22% relative error)<br>Radius: 1.147 +0.06 -0.05 (4.80% relative error)\",\"Dataset: EA add 30%<br>Planet: TOI-1075 b<br>Mass: 9.95 +1.36 -1.30 (13.67% relative error)<br>Density: 9.32 +0.37 -0.34 (3.99% relative error)<br>Radius: 1.791 +0.12 -0.08 (6.48% relative error)\",\"Dataset: EA add 30%<br>Planet: TOI-1201 b<br>Mass: 6.28 +0.84 -0.88 (13.38% relative error)<br>Density: 2.45 +0.09 -0.08 (3.56% relative error)<br>Radius: 2.415 +0.09 -0.09 (3.77% relative error)\",\"Dataset: EA add 30%<br>Planet: TOI-1452 b<br>Mass: 4.82 +1.30 -1.30 (26.97% relative error)<br>Density: 5.60 +0.33 -0.29 (5.83% relative error)<br>Radius: 1.672 +0.07 -0.07 (4.25% relative error)\",\"Dataset: EA add 30%<br>Planet: TOI-1468 b<br>Mass: 3.21 +0.24 -0.24 (7.48% relative error)<br>Density: 8.41 +nan -nan (nan% relative error)<br>Radius: 1.28 +0.04 -0.04 (2.97% relative error)\",\"Dataset: EA add 30%<br>Planet: TOI-1468 c<br>Mass: 6.64 +0.67 -0.68 (10.09% relative error)<br>Density: 4.15 +nan -nan (nan% relative error)<br>Radius: 2.064 +0.04 -0.04 (2.13% relative error)\",\"Dataset: EA add 30%<br>Planet: TOI-1470 b<br>Mass: 7.32 +1.21 -1.24 (16.53% relative error)<br>Density: 3.86 +0.13 -0.12 (3.29% relative error)<br>Radius: 2.18 +0.04 -0.04 (1.83% relative error)\",\"Dataset: EA add 30%<br>Planet: TOI-1695 b<br>Mass: 6.36 +1.00 -1.00 (15.72% relative error)<br>Density: 5.00 +0.33 -0.24 (6.53% relative error)<br>Radius: 1.9 +0.16 -0.14 (8.42% relative error)\",\"Dataset: EA add 30%<br>Planet: TOI-1759 b<br>Mass: 10.8 +1.50 -1.50 (13.89% relative error)<br>Density: 1.91 +0.06 -0.06 (3.04% relative error)<br>Radius: 3.14 +0.10 -0.10 (3.18% relative error)\",\"Dataset: EA add 30%<br>Planet: TOI-244 b<br>Mass: 2.68 +0.30 -0.30 (11.19% relative error)<br>Density: 4.20 +0.20 -0.20 (4.75% relative error)<br>Radius: 1.03 +0.08 -0.08 (7.77% relative error)\"],\"x\":[9.6,3.34,0.633,1.75,2.14,3.09,6.48,2.8,0.187,5.2,1.17,5.12,6.2,10.84,7.1,2.87,1.54,9.95,6.28,4.82,3.21,6.64,7.32,6.36,10.8,2.68],\"y\":[0.22141560798548096,0.3430127041742287,1.851179673321234,1.32486388384755,1.1252268602540836,0.852994555353902,0.6715063520871144,0.6823956442831216,0.5480943738656987,1.1070780399274047,0.24682395644283125,0.22867513611615245,0.29219600725952816,0.2631578947368421,0.4882032667876588,1.2885662431941924,1.0108892921960073,1.6914700544464611,0.4446460980036298,1.0163339382940109,1.5263157894736843,0.7531760435571688,0.7005444646098004,0.9074410163339384,0.3466424682395644,0.7622504537205083],\"type\":\"scatter\"},{\"error_x\":{\"array\":[2.07,0.72,0.05,0.44,0.34,0.48,0.99,0.6,0.05,1.2,0.3,0.65,0.65,1.4,0.7,0.26,0.2,1.36,0.84,1.3,0.24,0.67,1.21,1.0,1.5,0.3],\"arrayminus\":[2.31,0.72,0.05,0.45,0.34,0.48,0.93,0.6,0.05,1.2,0.3,0.61,0.65,1.4,0.7,0.25,0.19,1.3,0.88,1.3,0.24,0.68,1.24,1.0,1.5,0.3],\"color\":\"rgba(169, 169, 169, 0.7)\",\"type\":\"data\",\"visible\":true},\"error_y\":{\"array\":[0.16,0.11,0.024,0.04,0.023,0.051,0.257,0.18,0.066,0.15,0.15,0.11,0.12,0.15,0.096,0.06,0.055,0.116,0.091,0.071,0.038,0.044,0.04,0.16,0.1,0.08],\"arrayminus\":[0.16,0.11,0.024,0.04,0.023,0.046,0.256,0.18,0.066,0.15,0.15,0.11,0.12,0.15,0.096,0.06,0.054,0.081,0.09,0.071,0.039,0.044,0.04,0.14,0.1,0.08],\"color\":\"rgba(169, 169, 169, 0.7)\",\"type\":\"data\",\"visible\":true},\"hoverinfo\":\"text\",\"marker\":{\"color\":[454.0,693.0,1365.0,568.0,709.0,557.0,463.0,507.0,524.0,476.0,401.0,431.0,385.0,997.0,324.0,555.0,508.0,1323.0,703.0,326.0,682.0,338.0,734.0,698.0,443.0,387.0],\"colorbar\":{\"title\":{\"text\":\"Temperature\"}},\"colorscale\":[[0.0,\"#000004\"],[0.1111111111111111,\"#1b0c41\"],[0.2222222222222222,\"#4a0c6b\"],[0.3333333333333333,\"#781c6d\"],[0.4444444444444444,\"#a52c60\"],[0.5555555555555556,\"#cf4446\"],[0.6666666666666666,\"#ed6925\"],[0.7777777777777778,\"#fb9b06\"],[0.8888888888888888,\"#f7d13d\"],[1.0,\"#fcffa4\"]],\"showscale\":true,\"size\":12},\"mode\":\"markers\",\"name\":\"Mass, Density - Data 3\",\"text\":[\"Dataset: EA add 30%<br>Planet: AU Mic c<br>Mass: 9.6 +2.07 -2.31 (21.56% relative error)<br>Density: 1.22 +0.05 -0.05 (3.87% relative error)<br>Radius: 3.24 +0.16 -0.16 (4.94% relative error)\",\"Dataset: EA add 30%<br>Planet: GJ 3090 b<br>Mass: 3.34 +0.72 -0.72 (21.56% relative error)<br>Density: 1.89 +0.09 -0.08 (4.99% relative error)<br>Radius: 2.13 +0.11 -0.11 (5.16% relative error)\",\"Dataset: EA add 30%<br>Planet: GJ 367 b<br>Mass: 0.633 +0.05 -0.05 (7.90% relative error)<br>Density: 10.20 +0.24 -0.24 (2.31% relative error)<br>Radius: 0.699 +0.02 -0.02 (3.43% relative error)\",\"Dataset: EA add 30%<br>Planet: GJ 3929 b<br>Mass: 1.75 +0.44 -0.45 (25.14% relative error)<br>Density: 7.30 +0.36 -0.36 (4.97% relative error)<br>Radius: 1.09 +0.04 -0.04 (3.67% relative error)\",\"Dataset: EA add 30%<br>Planet: HD 260655 b<br>Mass: 2.14 +0.34 -0.34 (15.89% relative error)<br>Density: 6.20 +0.18 -0.18 (2.93% relative error)<br>Radius: 1.24 +0.02 -0.02 (1.85% relative error)\",\"Dataset: EA add 30%<br>Planet: HD 260655 c<br>Mass: 3.09 +0.48 -0.48 (15.53% relative error)<br>Density: 4.70 +0.16 -0.15 (3.48% relative error)<br>Radius: 1.533 +0.05 -0.05 (3.33% relative error)\",\"Dataset: EA add 30%<br>Planet: K2-3 b<br>Mass: 6.48 +0.99 -0.93 (15.28% relative error)<br>Density: 3.70 +0.30 -0.20 (8.19% relative error)<br>Radius: 2.103 +0.26 -0.26 (12.22% relative error)\",\"Dataset: EA add 30%<br>Planet: Kepler-114 c<br>Mass: 2.8 +0.60 -0.60 (21.43% relative error)<br>Density: 3.76 +nan -nan (nan% relative error)<br>Radius: 1.6 +0.18 -0.18 (11.25% relative error)\",\"Dataset: EA add 30%<br>Planet: Kepler-138 b<br>Mass: 0.187 +0.05 -0.05 (26.74% relative error)<br>Density: 3.02 +0.18 -0.16 (6.01% relative error)<br>Radius: 0.701 +0.07 -0.07 (9.42% relative error)\",\"Dataset: EA add 30%<br>Planet: Kepler-138 c<br>Mass: 5.2 +1.20 -1.20 (23.08% relative error)<br>Density: 6.10 +0.34 -0.27 (5.65% relative error)<br>Radius: 1.67 +0.15 -0.15 (8.98% relative error)\",\"Dataset: EA add 30%<br>Planet: Kepler-138 d<br>Mass: 1.17 +0.30 -0.30 (25.64% relative error)<br>Density: 1.36 +0.08 -0.06 (5.87% relative error)<br>Radius: 1.68 +0.15 -0.15 (8.93% relative error)\",\"Dataset: EA add 30%<br>Planet: Kepler-26 b<br>Mass: 5.12 +0.65 -0.61 (12.70% relative error)<br>Density: 1.26 +0.04 -0.03 (3.02% relative error)<br>Radius: 2.78 +0.11 -0.11 (3.96% relative error)\",\"Dataset: EA add 30%<br>Planet: Kepler-26 c<br>Mass: 6.2 +0.65 -0.65 (10.48% relative error)<br>Density: 1.61 +0.05 -0.04 (3.04% relative error)<br>Radius: 2.72 +0.12 -0.12 (4.41% relative error)\",\"Dataset: EA add 30%<br>Planet: Kepler-94 b<br>Mass: 10.84 +1.40 -1.40 (12.92% relative error)<br>Density: 1.45 +0.05 -0.05 (3.25% relative error)<br>Radius: 3.51 +0.15 -0.15 (4.27% relative error)\",\"Dataset: EA add 30%<br>Planet: LP 791-18 c<br>Mass: 7.1 +0.70 -0.70 (9.86% relative error)<br>Density: 2.69 +nan -nan (nan% relative error)<br>Radius: 2.438 +0.10 -0.10 (3.94% relative error)\",\"Dataset: EA add 30%<br>Planet: LTT 1445 A b<br>Mass: 2.87 +0.26 -0.25 (9.06% relative error)<br>Density: 7.10 +0.22 -0.20 (3.07% relative error)<br>Radius: 1.18 +0.06 -0.06 (5.08% relative error)\",\"Dataset: EA add 30%<br>Planet: LTT 1445 A c<br>Mass: 1.54 +0.20 -0.19 (12.99% relative error)<br>Density: 5.57 +0.12 -0.11 (2.22% relative error)<br>Radius: 1.147 +0.06 -0.05 (4.80% relative error)\",\"Dataset: EA add 30%<br>Planet: TOI-1075 b<br>Mass: 9.95 +1.36 -1.30 (13.67% relative error)<br>Density: 9.32 +0.37 -0.34 (3.99% relative error)<br>Radius: 1.791 +0.12 -0.08 (6.48% relative error)\",\"Dataset: EA add 30%<br>Planet: TOI-1201 b<br>Mass: 6.28 +0.84 -0.88 (13.38% relative error)<br>Density: 2.45 +0.09 -0.08 (3.56% relative error)<br>Radius: 2.415 +0.09 -0.09 (3.77% relative error)\",\"Dataset: EA add 30%<br>Planet: TOI-1452 b<br>Mass: 4.82 +1.30 -1.30 (26.97% relative error)<br>Density: 5.60 +0.33 -0.29 (5.83% relative error)<br>Radius: 1.672 +0.07 -0.07 (4.25% relative error)\",\"Dataset: EA add 30%<br>Planet: TOI-1468 b<br>Mass: 3.21 +0.24 -0.24 (7.48% relative error)<br>Density: 8.41 +nan -nan (nan% relative error)<br>Radius: 1.28 +0.04 -0.04 (2.97% relative error)\",\"Dataset: EA add 30%<br>Planet: TOI-1468 c<br>Mass: 6.64 +0.67 -0.68 (10.09% relative error)<br>Density: 4.15 +nan -nan (nan% relative error)<br>Radius: 2.064 +0.04 -0.04 (2.13% relative error)\",\"Dataset: EA add 30%<br>Planet: TOI-1470 b<br>Mass: 7.32 +1.21 -1.24 (16.53% relative error)<br>Density: 3.86 +0.13 -0.12 (3.29% relative error)<br>Radius: 2.18 +0.04 -0.04 (1.83% relative error)\",\"Dataset: EA add 30%<br>Planet: TOI-1695 b<br>Mass: 6.36 +1.00 -1.00 (15.72% relative error)<br>Density: 5.00 +0.33 -0.24 (6.53% relative error)<br>Radius: 1.9 +0.16 -0.14 (8.42% relative error)\",\"Dataset: EA add 30%<br>Planet: TOI-1759 b<br>Mass: 10.8 +1.50 -1.50 (13.89% relative error)<br>Density: 1.91 +0.06 -0.06 (3.04% relative error)<br>Radius: 3.14 +0.10 -0.10 (3.18% relative error)\",\"Dataset: EA add 30%<br>Planet: TOI-244 b<br>Mass: 2.68 +0.30 -0.30 (11.19% relative error)<br>Density: 4.20 +0.20 -0.20 (4.75% relative error)<br>Radius: 1.03 +0.08 -0.08 (7.77% relative error)\"],\"x\":[9.6,3.34,0.633,1.75,2.14,3.09,6.48,2.8,0.187,5.2,1.17,5.12,6.2,10.84,7.1,2.87,1.54,9.95,6.28,4.82,3.21,6.64,7.32,6.36,10.8,2.68],\"y\":[3.24,2.13,0.699,1.09,1.24,1.533,2.103,1.6,0.701,1.67,1.68,2.78,2.72,3.51,2.438,1.18,1.147,1.791,2.415,1.672,1.28,2.064,2.18,1.9,3.14,1.03],\"type\":\"scatter\"},{\"error_x\":{\"array\":[0.23,0.86,0.28,0.3,0.31,0.11,0.18,0.24,1.35,5.7,0.56,0.35,0.46,0.46,0.17,0.2,0.24,0.69,3.3,0.67,0.71,0.59,1.4,0.26,0.38,0.46,0.9,0.069,0.056,0.012,0.022,0.031,0.038,0.02,0.05,0.34,0.48,0.99,0.65,0.65,1.4,0.7,0.26,0.2,1.36,0.84,0.24,0.67,1.21,1.0,1.5,0.3],\"arrayminus\":[0.23,0.86,0.28,0.3,0.31,0.12,0.18,0.24,1.35,5.2,0.56,0.34,0.45,0.44,0.16,0.2,0.24,0.67,3.3,0.69,0.72,0.58,1.4,0.26,0.38,0.46,0.9,0.069,0.056,0.012,0.022,0.031,0.038,0.02,0.05,0.34,0.48,0.93,0.61,0.65,1.4,0.7,0.25,0.19,1.3,0.88,0.24,0.68,1.24,1.0,1.5,0.3],\"color\":\"rgba(169, 169, 169, 0.7)\",\"type\":\"data\",\"visible\":true},\"error_y\":{\"array\":[0.23593466424682397,0.07622504537205081,0.24319419237749548,0.1941923774954628,0.308529945553539,0.2177858439201452,0.038112522686025406,0.049001814882032674,0.07259528130671507,0.14519056261343014,0.4355716878402904,0.22323049001814882,0.1542649727767695,0.15245009074410162,0.14700544464609802,0.1869328493647913,0.1960072595281307,0.11978221415607987,0.0852994555353902,0.23593466424682397,0.2413793103448276,0.1560798548094374,0.08711433756805807,0.2177858439201452,0.0544464609800363,0.08166969147005446,0.19963702359346644,0.04809437386569873,0.040290381125226864,0.028312159709618877,0.030490018148820328,0.0250453720508167,0.024682395644283123,0.05843920145190563,0.23593466424682397,0.18148820326678766,0.1633393829401089,0.30308529945553536,0.038112522686025406,0.049001814882032674,0.047186932849364795,null,0.2177858439201452,0.12341197822141563,0.3720508166969147,0.08711433756805807,null,null,0.12704174228675136,0.3266787658802178,0.058076225045372055,0.19963702359346644],\"arrayminus\":[0.23593466424682397,0.059891107078039935,0.19963702359346644,0.16878402903811254,0.23593466424682397,0.18148820326678766,0.038112522686025406,0.049001814882032674,0.07259528130671507,0.14519056261343014,0.3266787658802178,0.19056261343012706,0.132486388384755,0.14519056261343014,0.13430127041742287,0.16152450090744103,0.16152450090744103,0.09800362976406535,0.07622504537205081,0.19963702359346644,0.20689655172413793,0.13430127041742287,0.07622504537205081,0.2177858439201452,0.0544464609800363,0.08166969147005446,0.1633393829401089,0.049364791288566245,0.0426497277676951,0.029582577132486392,0.033030852994555354,0.028675136116152453,0.028675136116152453,0.054809437386569876,0.23593466424682397,0.18148820326678766,0.14519056261343014,0.1960072595281307,0.034482758620689655,0.039927404718693285,0.047186932849364795,null,0.19963702359346644,0.1088929219600726,0.3357531760435572,0.07622504537205081,null,null,0.12341197822141563,0.23593466424682397,0.058076225045372055,0.19963702359346644],\"color\":\"rgba(169, 169, 169, 0.7)\",\"type\":\"data\",\"visible\":true},\"hoverinfo\":\"text\",\"marker\":{\"color\":[529.0,576.0,1089.0,773.0,525.0,701.0,590.0,520.0,284.0,494.0,965.0,517.0,409.0,378.9,708.9,595.0,1000.0,397.0,329.0,775.0,921.0,1069.0,531.0,581.0,488.0,387.0,514.0,400.1,341.9,288.0,251.3,219.0,198.6,168.0,1365.0,709.0,557.0,463.0,431.0,385.0,997.0,324.0,555.0,508.0,1323.0,703.0,682.0,338.0,734.0,698.0,443.0,387.0],\"colorbar\":{\"title\":{\"text\":\"Temperature\"}},\"colorscale\":[[0.0,\"#000004\"],[0.1111111111111111,\"#1b0c41\"],[0.2222222222222222,\"#4a0c6b\"],[0.3333333333333333,\"#781c6d\"],[0.4444444444444444,\"#a52c60\"],[0.5555555555555556,\"#cf4446\"],[0.6666666666666666,\"#ed6925\"],[0.7777777777777778,\"#fb9b06\"],[0.8888888888888888,\"#f7d13d\"],[1.0,\"#fcffa4\"]],\"showscale\":true,\"size\":12},\"mode\":\"markers\",\"name\":\"Mass, Density - Combined Data\",\"text\":[\"Dataset: LIV34<br>Planet: GJ 1132 b<br>Mass: 1.66 +0.23 -0.23 (13.86% relative error)<br>Density: 6.30 +0.24 -0.24 (3.74% relative error)<br>Radius: 1.13 +0.06 -0.06 (4.96% relative error)\",\"Dataset: LIV34<br>Planet: GJ 1214 b<br>Mass: 6.26 +0.86 -0.86 (13.74% relative error)<br>Density: 1.49 +0.08 -0.06 (5.12% relative error)<br>Radius: 2.85 +0.20 -0.20 (7.02% relative error)\",\"Dataset: LIV34<br>Planet: GJ 1252 b<br>Mass: 1.32 +0.28 -0.28 (21.21% relative error)<br>Density: 4.22 +0.24 -0.20 (5.76% relative error)<br>Radius: 1.193 +0.07 -0.07 (6.20% relative error)\",\"Dataset: LIV34<br>Planet: GJ 3473 b<br>Mass: 1.86 +0.30 -0.30 (16.13% relative error)<br>Density: 5.03 +0.19 -0.17 (3.86% relative error)<br>Radius: 1.264 +0.05 -0.05 (3.96% relative error)\",\"Dataset: LIV34<br>Planet: GJ 357 b<br>Mass: 1.84 +0.31 -0.31 (16.85% relative error)<br>Density: 5.60 +0.31 -0.24 (5.51% relative error)<br>Radius: 1.217 +0.08 -0.08 (6.90% relative error)\",\"Dataset: LIV34<br>Planet: GJ 486 b<br>Mass: 2.82 +0.11 -0.12 (3.90% relative error)<br>Density: 7.00 +0.22 -0.18 (3.11% relative error)<br>Radius: 1.305 +0.06 -0.07 (4.83% relative error)\",\"Dataset: LIV34<br>Planet: K2-146 b<br>Mass: 5.77 +0.18 -0.18 (3.12% relative error)<br>Density: 3.69 +0.04 -0.04 (1.03% relative error)<br>Radius: 2.05 +0.06 -0.06 (2.93% relative error)\",\"Dataset: LIV34<br>Planet: K2-146 c<br>Mass: 7.49 +0.24 -0.24 (3.20% relative error)<br>Density: 3.92 +0.05 -0.05 (1.25% relative error)<br>Radius: 2.19 +0.07 -0.07 (3.20% relative error)\",\"Dataset: LIV34<br>Planet: K2-18 b<br>Mass: 8.64 +1.35 -1.35 (15.62% relative error)<br>Density: 2.40 +0.07 -0.07 (3.02% relative error)<br>Radius: 2.711 +0.07 -0.07 (2.40% relative error)\",\"Dataset: LIV34<br>Planet: K2-25 b<br>Mass: 24.5 +5.70 -5.20 (23.27% relative error)<br>Density: 3.30 +0.15 -0.15 (4.40% relative error)<br>Radius: 3.44 +0.12 -0.12 (3.49% relative error)\",\"Dataset: LIV34<br>Planet: L 168-9 b<br>Mass: 4.6 +0.56 -0.56 (12.17% relative error)<br>Density: 9.60 +0.44 -0.33 (4.54% relative error)<br>Radius: 1.39 +0.09 -0.09 (6.47% relative error)\",\"Dataset: LIV34<br>Planet: L 98-59 c<br>Mass: 2.42 +0.35 -0.34 (14.46% relative error)<br>Density: 5.46 +0.22 -0.19 (4.09% relative error)<br>Radius: 1.34 +0.07 -0.07 (5.22% relative error)\",\"Dataset: LIV34<br>Planet: L 98-59 d<br>Mass: 2.31 +0.46 -0.45 (19.91% relative error)<br>Density: 3.17 +0.15 -0.13 (4.87% relative error)<br>Radius: 1.58 +0.08 -0.08 (5.06% relative error)\",\"Dataset: LIV34<br>Planet: LHS 1140 b<br>Mass: 6.38 +0.46 -0.44 (7.21% relative error)<br>Density: 8.04 +0.15 -0.15 (1.90% relative error)<br>Radius: 1.635 +0.05 -0.05 (2.81% relative error)\",\"Dataset: LIV34<br>Planet: LHS 1140 c<br>Mass: 1.76 +0.17 -0.16 (9.66% relative error)<br>Density: 6.07 +0.15 -0.13 (2.42% relative error)<br>Radius: 1.169 +0.04 -0.04 (3.17% relative error)\",\"Dataset: LIV34<br>Planet: LHS 1478 b<br>Mass: 2.33 +0.20 -0.20 (8.58% relative error)<br>Density: 6.67 +0.19 -0.16 (2.80% relative error)<br>Radius: 1.242 +0.05 -0.05 (4.11% relative error)\",\"Dataset: LIV34<br>Planet: LTT 3780 b<br>Mass: 2.47 +0.24 -0.24 (9.72% relative error)<br>Density: 5.91 +0.20 -0.16 (3.32% relative error)<br>Radius: 1.32 +0.06 -0.06 (4.55% relative error)\",\"Dataset: LIV34<br>Planet: LTT 3780 c<br>Mass: 7.02 +0.69 -0.67 (9.83% relative error)<br>Density: 3.03 +0.12 -0.10 (3.95% relative error)<br>Radius: 2.33 +0.14 -0.13 (6.01% relative error)\",\"Dataset: LIV34<br>Planet: TOI-1231 b<br>Mass: 15.4 +3.30 -3.30 (21.43% relative error)<br>Density: 1.74 +0.09 -0.08 (4.90% relative error)<br>Radius: 3.65 +0.16 -0.15 (4.38% relative error)\",\"Dataset: LIV34<br>Planet: TOI-1235 b<br>Mass: 6.69 +0.67 -0.69 (10.01% relative error)<br>Density: 7.25 +0.24 -0.20 (3.25% relative error)<br>Radius: 1.694 +0.08 -0.08 (4.72% relative error)\",\"Dataset: LIV34<br>Planet: TOI-1634 b<br>Mass: 7.57 +0.71 -0.72 (9.38% relative error)<br>Density: 7.59 +0.24 -0.21 (3.18% relative error)<br>Radius: 1.773 +0.08 -0.08 (4.34% relative error)\",\"Dataset: LIV34<br>Planet: TOI-1685 b<br>Mass: 3.09 +0.59 -0.58 (19.09% relative error)<br>Density: 3.44 +0.16 -0.13 (4.54% relative error)<br>Radius: 1.7 +0.07 -0.07 (4.12% relative error)\",\"Dataset: LIV34<br>Planet: TOI-269 b<br>Mass: 8.8 +1.40 -1.40 (15.91% relative error)<br>Density: 2.28 +0.09 -0.08 (3.82% relative error)<br>Radius: 2.77 +0.12 -0.12 (4.33% relative error)\",\"Dataset: LIV34<br>Planet: TOI-270 b<br>Mass: 1.58 +0.26 -0.26 (16.46% relative error)<br>Density: 5.70 +0.22 -0.22 (3.82% relative error)<br>Radius: 1.151 +0.05 -0.05 (4.34% relative error)\",\"Dataset: LIV34<br>Planet: TOI-270 c<br>Mass: 6.14 +0.38 -0.38 (6.19% relative error)<br>Density: 2.68 +0.05 -0.05 (2.03% relative error)<br>Radius: 2.332 +0.07 -0.07 (3.09% relative error)\",\"Dataset: LIV34<br>Planet: TOI-270 d<br>Mass: 4.78 +0.46 -0.46 (9.62% relative error)<br>Density: 3.28 +0.08 -0.08 (2.49% relative error)<br>Radius: 2.005 +0.07 -0.07 (3.34% relative error)\",\"Dataset: LIV34<br>Planet: TOI-776 b<br>Mass: 4.0 +0.90 -0.90 (22.50% relative error)<br>Density: 3.40 +0.20 -0.16 (5.87% relative error)<br>Radius: 1.85 +0.13 -0.13 (7.03% relative error)\",\"Dataset: LIV34<br>Planet: TRAPPIST-1 b<br>Mass: 1.374 +0.07 -0.07 (5.02% relative error)<br>Density: 5.42 +0.05 -0.05 (0.89% relative error)<br>Radius: 1.116 +0.01 -0.01 (1.25% relative error)\",\"Dataset: LIV34<br>Planet: TRAPPIST-1 c<br>Mass: 1.308 +0.06 -0.06 (4.28% relative error)<br>Density: 5.45 +0.04 -0.04 (0.74% relative error)<br>Radius: 1.097 +0.01 -0.01 (1.28% relative error)\",\"Dataset: LIV34<br>Planet: TRAPPIST-1 d<br>Mass: 0.388 +0.01 -0.01 (3.09% relative error)<br>Density: 4.35 +0.03 -0.03 (0.65% relative error)<br>Radius: 0.788 +0.01 -0.01 (1.40% relative error)\",\"Dataset: LIV34<br>Planet: TRAPPIST-1 e<br>Mass: 0.692 +0.02 -0.02 (3.18% relative error)<br>Density: 4.88 +0.03 -0.03 (0.62% relative error)<br>Radius: 0.92 +0.01 -0.01 (1.41% relative error)\",\"Dataset: LIV34<br>Planet: TRAPPIST-1 f<br>Mass: 1.039 +0.03 -0.03 (2.98% relative error)<br>Density: 5.01 +0.03 -0.03 (0.50% relative error)<br>Radius: 1.045 +0.01 -0.01 (1.24% relative error)\",\"Dataset: LIV34<br>Planet: TRAPPIST-1 g<br>Mass: 1.321 +0.04 -0.04 (2.88% relative error)<br>Density: 5.04 +0.02 -0.03 (0.49% relative error)<br>Radius: 1.129 +0.01 -0.01 (1.33% relative error)\",\"Dataset: LIV34<br>Planet: TRAPPIST-1 h<br>Mass: 0.326 +0.02 -0.02 (6.13% relative error)<br>Density: 4.15 +0.06 -0.05 (1.41% relative error)<br>Radius: 0.755 +0.01 -0.01 (1.85% relative error)\",\"Dataset: EA add<br>Planet: GJ 367 b<br>Mass: 0.633 +0.05 -0.05 (7.90% relative error)<br>Density: 10.20 +0.24 -0.24 (2.31% relative error)<br>Radius: 0.699 +0.02 -0.02 (3.43% relative error)\",\"Dataset: EA add<br>Planet: HD 260655 b<br>Mass: 2.14 +0.34 -0.34 (15.89% relative error)<br>Density: 6.20 +0.18 -0.18 (2.93% relative error)<br>Radius: 1.24 +0.02 -0.02 (1.85% relative error)\",\"Dataset: EA add<br>Planet: HD 260655 c<br>Mass: 3.09 +0.48 -0.48 (15.53% relative error)<br>Density: 4.70 +0.16 -0.15 (3.48% relative error)<br>Radius: 1.533 +0.05 -0.05 (3.33% relative error)\",\"Dataset: EA add<br>Planet: K2-3 b<br>Mass: 6.48 +0.99 -0.93 (15.28% relative error)<br>Density: 3.70 +0.30 -0.20 (8.19% relative error)<br>Radius: 2.103 +0.26 -0.26 (12.22% relative error)\",\"Dataset: EA add<br>Planet: Kepler-26 b<br>Mass: 5.12 +0.65 -0.61 (12.70% relative error)<br>Density: 1.26 +0.04 -0.03 (3.02% relative error)<br>Radius: 2.78 +0.11 -0.11 (3.96% relative error)\",\"Dataset: EA add<br>Planet: Kepler-26 c<br>Mass: 6.2 +0.65 -0.65 (10.48% relative error)<br>Density: 1.61 +0.05 -0.04 (3.04% relative error)<br>Radius: 2.72 +0.12 -0.12 (4.41% relative error)\",\"Dataset: EA add<br>Planet: Kepler-94 b<br>Mass: 10.84 +1.40 -1.40 (12.92% relative error)<br>Density: 1.45 +0.05 -0.05 (3.25% relative error)<br>Radius: 3.51 +0.15 -0.15 (4.27% relative error)\",\"Dataset: EA add<br>Planet: LP 791-18 c<br>Mass: 7.1 +0.70 -0.70 (9.86% relative error)<br>Density: 2.69 +nan -nan (nan% relative error)<br>Radius: 2.438 +0.10 -0.10 (3.94% relative error)\",\"Dataset: EA add<br>Planet: LTT 1445 A b<br>Mass: 2.87 +0.26 -0.25 (9.06% relative error)<br>Density: 7.10 +0.22 -0.20 (3.07% relative error)<br>Radius: 1.18 +0.06 -0.06 (5.08% relative error)\",\"Dataset: EA add<br>Planet: LTT 1445 A c<br>Mass: 1.54 +0.20 -0.19 (12.99% relative error)<br>Density: 5.57 +0.12 -0.11 (2.22% relative error)<br>Radius: 1.147 +0.06 -0.05 (4.80% relative error)\",\"Dataset: EA add<br>Planet: TOI-1075 b<br>Mass: 9.95 +1.36 -1.30 (13.67% relative error)<br>Density: 9.32 +0.37 -0.34 (3.99% relative error)<br>Radius: 1.791 +0.12 -0.08 (6.48% relative error)\",\"Dataset: EA add<br>Planet: TOI-1201 b<br>Mass: 6.28 +0.84 -0.88 (13.38% relative error)<br>Density: 2.45 +0.09 -0.08 (3.56% relative error)<br>Radius: 2.415 +0.09 -0.09 (3.77% relative error)\",\"Dataset: EA add<br>Planet: TOI-1468 b<br>Mass: 3.21 +0.24 -0.24 (7.48% relative error)<br>Density: 8.41 +nan -nan (nan% relative error)<br>Radius: 1.28 +0.04 -0.04 (2.97% relative error)\",\"Dataset: EA add<br>Planet: TOI-1468 c<br>Mass: 6.64 +0.67 -0.68 (10.09% relative error)<br>Density: 4.15 +nan -nan (nan% relative error)<br>Radius: 2.064 +0.04 -0.04 (2.13% relative error)\",\"Dataset: EA add<br>Planet: TOI-1470 b<br>Mass: 7.32 +1.21 -1.24 (16.53% relative error)<br>Density: 3.86 +0.13 -0.12 (3.29% relative error)<br>Radius: 2.18 +0.04 -0.04 (1.83% relative error)\",\"Dataset: EA add<br>Planet: TOI-1695 b<br>Mass: 6.36 +1.00 -1.00 (15.72% relative error)<br>Density: 5.00 +0.33 -0.24 (6.53% relative error)<br>Radius: 1.9 +0.16 -0.14 (8.42% relative error)\",\"Dataset: EA add<br>Planet: TOI-1759 b<br>Mass: 10.8 +1.50 -1.50 (13.89% relative error)<br>Density: 1.91 +0.06 -0.06 (3.04% relative error)<br>Radius: 3.14 +0.10 -0.10 (3.18% relative error)\",\"Dataset: EA add<br>Planet: TOI-244 b<br>Mass: 2.68 +0.30 -0.30 (11.19% relative error)<br>Density: 4.20 +0.20 -0.20 (4.75% relative error)<br>Radius: 1.03 +0.08 -0.08 (7.77% relative error)\"],\"x\":[1.66,6.26,1.32,1.86,1.84,2.82,5.77,7.49,8.64,24.5,4.6,2.42,2.31,6.38,1.76,2.33,2.47,7.02,15.4,6.69,7.57,3.09,8.8,1.58,6.14,4.78,4.0,1.374,1.308,0.388,0.692,1.039,1.321,0.326,0.633,2.14,3.09,6.48,5.12,6.2,10.84,7.1,2.87,1.54,9.95,6.28,3.21,6.64,7.32,6.36,10.8,2.68],\"y\":[1.1433756805807622,0.27041742286751363,0.7658802177858439,0.912885662431942,1.0163339382940109,1.2704174228675136,0.6696914700544465,0.7114337568058077,0.4355716878402904,0.5989110707803993,1.7422867513611615,0.9909255898366607,0.5753176043557169,1.4591651542649726,1.1016333938294012,1.2105263157894737,1.0725952813067152,0.5499092558983666,0.31578947368421056,1.3157894736842106,1.3774954627949183,0.6243194192377496,0.41379310344827586,1.0344827586206897,0.48638838475499097,0.5952813067150635,0.617059891107078,0.984573502722323,0.9885662431941924,0.7901996370235935,0.8865698729582577,0.9090744101633395,0.9150635208711434,0.7526315789473685,1.851179673321234,1.1252268602540836,0.852994555353902,0.6715063520871144,0.22867513611615245,0.29219600725952816,0.2631578947368421,0.4882032667876588,1.2885662431941924,1.0108892921960073,1.6914700544464611,0.4446460980036298,1.5263157894736843,0.7531760435571688,0.7005444646098004,0.9074410163339384,0.3466424682395644,0.7622504537205083],\"type\":\"scatter\"},{\"error_x\":{\"array\":[0.23,0.86,0.28,0.3,0.31,0.11,0.18,0.24,1.35,5.7,0.56,0.35,0.46,0.46,0.17,0.2,0.24,0.69,3.3,0.67,0.71,0.59,1.4,0.26,0.38,0.46,0.9,0.069,0.056,0.012,0.022,0.031,0.038,0.02,0.05,0.34,0.48,0.99,0.65,0.65,1.4,0.7,0.26,0.2,1.36,0.84,0.24,0.67,1.21,1.0,1.5,0.3],\"arrayminus\":[0.23,0.86,0.28,0.3,0.31,0.12,0.18,0.24,1.35,5.2,0.56,0.34,0.45,0.44,0.16,0.2,0.24,0.67,3.3,0.69,0.72,0.58,1.4,0.26,0.38,0.46,0.9,0.069,0.056,0.012,0.022,0.031,0.038,0.02,0.05,0.34,0.48,0.93,0.61,0.65,1.4,0.7,0.25,0.19,1.3,0.88,0.24,0.68,1.24,1.0,1.5,0.3],\"color\":\"rgba(169, 169, 169, 0.7)\",\"type\":\"data\",\"visible\":true},\"error_y\":{\"array\":[0.056,0.2,0.074,0.05,0.084,0.063,0.06,0.07,0.065,0.12,0.09,0.07,0.08,0.046,0.037,0.051,0.06,0.14,0.16,0.08,0.077,0.07,0.12,0.05,0.072,0.067,0.13,0.014,0.014,0.011,0.013,0.013,0.015,0.014,0.024,0.023,0.051,0.257,0.11,0.12,0.15,0.096,0.06,0.055,0.116,0.091,0.038,0.044,0.04,0.16,0.1,0.08],\"arrayminus\":[0.056,0.2,0.074,0.049,0.083,0.067,0.06,0.07,0.065,0.12,0.09,0.07,0.08,0.046,0.038,0.049,0.06,0.13,0.15,0.077,0.077,0.07,0.12,0.05,0.072,0.067,0.13,0.012,0.012,0.01,0.012,0.012,0.015,0.014,0.024,0.023,0.046,0.256,0.11,0.12,0.15,0.096,0.06,0.054,0.081,0.09,0.039,0.044,0.04,0.14,0.1,0.08],\"color\":\"rgba(169, 169, 169, 0.7)\",\"type\":\"data\",\"visible\":true},\"hoverinfo\":\"text\",\"marker\":{\"color\":[529.0,576.0,1089.0,773.0,525.0,701.0,590.0,520.0,284.0,494.0,965.0,517.0,409.0,378.9,708.9,595.0,1000.0,397.0,329.0,775.0,921.0,1069.0,531.0,581.0,488.0,387.0,514.0,400.1,341.9,288.0,251.3,219.0,198.6,168.0,1365.0,709.0,557.0,463.0,431.0,385.0,997.0,324.0,555.0,508.0,1323.0,703.0,682.0,338.0,734.0,698.0,443.0,387.0],\"colorbar\":{\"title\":{\"text\":\"Temperature\"}},\"colorscale\":[[0.0,\"#000004\"],[0.1111111111111111,\"#1b0c41\"],[0.2222222222222222,\"#4a0c6b\"],[0.3333333333333333,\"#781c6d\"],[0.4444444444444444,\"#a52c60\"],[0.5555555555555556,\"#cf4446\"],[0.6666666666666666,\"#ed6925\"],[0.7777777777777778,\"#fb9b06\"],[0.8888888888888888,\"#f7d13d\"],[1.0,\"#fcffa4\"]],\"showscale\":true,\"size\":12},\"mode\":\"markers\",\"name\":\"Mass, Density - Combined Data\",\"text\":[\"Dataset: LIV34<br>Planet: GJ 1132 b<br>Mass: 1.66 +0.23 -0.23 (13.86% relative error)<br>Density: 6.30 +0.24 -0.24 (3.74% relative error)<br>Radius: 1.13 +0.06 -0.06 (4.96% relative error)\",\"Dataset: LIV34<br>Planet: GJ 1214 b<br>Mass: 6.26 +0.86 -0.86 (13.74% relative error)<br>Density: 1.49 +0.08 -0.06 (5.12% relative error)<br>Radius: 2.85 +0.20 -0.20 (7.02% relative error)\",\"Dataset: LIV34<br>Planet: GJ 1252 b<br>Mass: 1.32 +0.28 -0.28 (21.21% relative error)<br>Density: 4.22 +0.24 -0.20 (5.76% relative error)<br>Radius: 1.193 +0.07 -0.07 (6.20% relative error)\",\"Dataset: LIV34<br>Planet: GJ 3473 b<br>Mass: 1.86 +0.30 -0.30 (16.13% relative error)<br>Density: 5.03 +0.19 -0.17 (3.86% relative error)<br>Radius: 1.264 +0.05 -0.05 (3.96% relative error)\",\"Dataset: LIV34<br>Planet: GJ 357 b<br>Mass: 1.84 +0.31 -0.31 (16.85% relative error)<br>Density: 5.60 +0.31 -0.24 (5.51% relative error)<br>Radius: 1.217 +0.08 -0.08 (6.90% relative error)\",\"Dataset: LIV34<br>Planet: GJ 486 b<br>Mass: 2.82 +0.11 -0.12 (3.90% relative error)<br>Density: 7.00 +0.22 -0.18 (3.11% relative error)<br>Radius: 1.305 +0.06 -0.07 (4.83% relative error)\",\"Dataset: LIV34<br>Planet: K2-146 b<br>Mass: 5.77 +0.18 -0.18 (3.12% relative error)<br>Density: 3.69 +0.04 -0.04 (1.03% relative error)<br>Radius: 2.05 +0.06 -0.06 (2.93% relative error)\",\"Dataset: LIV34<br>Planet: K2-146 c<br>Mass: 7.49 +0.24 -0.24 (3.20% relative error)<br>Density: 3.92 +0.05 -0.05 (1.25% relative error)<br>Radius: 2.19 +0.07 -0.07 (3.20% relative error)\",\"Dataset: LIV34<br>Planet: K2-18 b<br>Mass: 8.64 +1.35 -1.35 (15.62% relative error)<br>Density: 2.40 +0.07 -0.07 (3.02% relative error)<br>Radius: 2.711 +0.07 -0.07 (2.40% relative error)\",\"Dataset: LIV34<br>Planet: K2-25 b<br>Mass: 24.5 +5.70 -5.20 (23.27% relative error)<br>Density: 3.30 +0.15 -0.15 (4.40% relative error)<br>Radius: 3.44 +0.12 -0.12 (3.49% relative error)\",\"Dataset: LIV34<br>Planet: L 168-9 b<br>Mass: 4.6 +0.56 -0.56 (12.17% relative error)<br>Density: 9.60 +0.44 -0.33 (4.54% relative error)<br>Radius: 1.39 +0.09 -0.09 (6.47% relative error)\",\"Dataset: LIV34<br>Planet: L 98-59 c<br>Mass: 2.42 +0.35 -0.34 (14.46% relative error)<br>Density: 5.46 +0.22 -0.19 (4.09% relative error)<br>Radius: 1.34 +0.07 -0.07 (5.22% relative error)\",\"Dataset: LIV34<br>Planet: L 98-59 d<br>Mass: 2.31 +0.46 -0.45 (19.91% relative error)<br>Density: 3.17 +0.15 -0.13 (4.87% relative error)<br>Radius: 1.58 +0.08 -0.08 (5.06% relative error)\",\"Dataset: LIV34<br>Planet: LHS 1140 b<br>Mass: 6.38 +0.46 -0.44 (7.21% relative error)<br>Density: 8.04 +0.15 -0.15 (1.90% relative error)<br>Radius: 1.635 +0.05 -0.05 (2.81% relative error)\",\"Dataset: LIV34<br>Planet: LHS 1140 c<br>Mass: 1.76 +0.17 -0.16 (9.66% relative error)<br>Density: 6.07 +0.15 -0.13 (2.42% relative error)<br>Radius: 1.169 +0.04 -0.04 (3.17% relative error)\",\"Dataset: LIV34<br>Planet: LHS 1478 b<br>Mass: 2.33 +0.20 -0.20 (8.58% relative error)<br>Density: 6.67 +0.19 -0.16 (2.80% relative error)<br>Radius: 1.242 +0.05 -0.05 (4.11% relative error)\",\"Dataset: LIV34<br>Planet: LTT 3780 b<br>Mass: 2.47 +0.24 -0.24 (9.72% relative error)<br>Density: 5.91 +0.20 -0.16 (3.32% relative error)<br>Radius: 1.32 +0.06 -0.06 (4.55% relative error)\",\"Dataset: LIV34<br>Planet: LTT 3780 c<br>Mass: 7.02 +0.69 -0.67 (9.83% relative error)<br>Density: 3.03 +0.12 -0.10 (3.95% relative error)<br>Radius: 2.33 +0.14 -0.13 (6.01% relative error)\",\"Dataset: LIV34<br>Planet: TOI-1231 b<br>Mass: 15.4 +3.30 -3.30 (21.43% relative error)<br>Density: 1.74 +0.09 -0.08 (4.90% relative error)<br>Radius: 3.65 +0.16 -0.15 (4.38% relative error)\",\"Dataset: LIV34<br>Planet: TOI-1235 b<br>Mass: 6.69 +0.67 -0.69 (10.01% relative error)<br>Density: 7.25 +0.24 -0.20 (3.25% relative error)<br>Radius: 1.694 +0.08 -0.08 (4.72% relative error)\",\"Dataset: LIV34<br>Planet: TOI-1634 b<br>Mass: 7.57 +0.71 -0.72 (9.38% relative error)<br>Density: 7.59 +0.24 -0.21 (3.18% relative error)<br>Radius: 1.773 +0.08 -0.08 (4.34% relative error)\",\"Dataset: LIV34<br>Planet: TOI-1685 b<br>Mass: 3.09 +0.59 -0.58 (19.09% relative error)<br>Density: 3.44 +0.16 -0.13 (4.54% relative error)<br>Radius: 1.7 +0.07 -0.07 (4.12% relative error)\",\"Dataset: LIV34<br>Planet: TOI-269 b<br>Mass: 8.8 +1.40 -1.40 (15.91% relative error)<br>Density: 2.28 +0.09 -0.08 (3.82% relative error)<br>Radius: 2.77 +0.12 -0.12 (4.33% relative error)\",\"Dataset: LIV34<br>Planet: TOI-270 b<br>Mass: 1.58 +0.26 -0.26 (16.46% relative error)<br>Density: 5.70 +0.22 -0.22 (3.82% relative error)<br>Radius: 1.151 +0.05 -0.05 (4.34% relative error)\",\"Dataset: LIV34<br>Planet: TOI-270 c<br>Mass: 6.14 +0.38 -0.38 (6.19% relative error)<br>Density: 2.68 +0.05 -0.05 (2.03% relative error)<br>Radius: 2.332 +0.07 -0.07 (3.09% relative error)\",\"Dataset: LIV34<br>Planet: TOI-270 d<br>Mass: 4.78 +0.46 -0.46 (9.62% relative error)<br>Density: 3.28 +0.08 -0.08 (2.49% relative error)<br>Radius: 2.005 +0.07 -0.07 (3.34% relative error)\",\"Dataset: LIV34<br>Planet: TOI-776 b<br>Mass: 4.0 +0.90 -0.90 (22.50% relative error)<br>Density: 3.40 +0.20 -0.16 (5.87% relative error)<br>Radius: 1.85 +0.13 -0.13 (7.03% relative error)\",\"Dataset: LIV34<br>Planet: TRAPPIST-1 b<br>Mass: 1.374 +0.07 -0.07 (5.02% relative error)<br>Density: 5.42 +0.05 -0.05 (0.89% relative error)<br>Radius: 1.116 +0.01 -0.01 (1.25% relative error)\",\"Dataset: LIV34<br>Planet: TRAPPIST-1 c<br>Mass: 1.308 +0.06 -0.06 (4.28% relative error)<br>Density: 5.45 +0.04 -0.04 (0.74% relative error)<br>Radius: 1.097 +0.01 -0.01 (1.28% relative error)\",\"Dataset: LIV34<br>Planet: TRAPPIST-1 d<br>Mass: 0.388 +0.01 -0.01 (3.09% relative error)<br>Density: 4.35 +0.03 -0.03 (0.65% relative error)<br>Radius: 0.788 +0.01 -0.01 (1.40% relative error)\",\"Dataset: LIV34<br>Planet: TRAPPIST-1 e<br>Mass: 0.692 +0.02 -0.02 (3.18% relative error)<br>Density: 4.88 +0.03 -0.03 (0.62% relative error)<br>Radius: 0.92 +0.01 -0.01 (1.41% relative error)\",\"Dataset: LIV34<br>Planet: TRAPPIST-1 f<br>Mass: 1.039 +0.03 -0.03 (2.98% relative error)<br>Density: 5.01 +0.03 -0.03 (0.50% relative error)<br>Radius: 1.045 +0.01 -0.01 (1.24% relative error)\",\"Dataset: LIV34<br>Planet: TRAPPIST-1 g<br>Mass: 1.321 +0.04 -0.04 (2.88% relative error)<br>Density: 5.04 +0.02 -0.03 (0.49% relative error)<br>Radius: 1.129 +0.01 -0.01 (1.33% relative error)\",\"Dataset: LIV34<br>Planet: TRAPPIST-1 h<br>Mass: 0.326 +0.02 -0.02 (6.13% relative error)<br>Density: 4.15 +0.06 -0.05 (1.41% relative error)<br>Radius: 0.755 +0.01 -0.01 (1.85% relative error)\",\"Dataset: EA add<br>Planet: GJ 367 b<br>Mass: 0.633 +0.05 -0.05 (7.90% relative error)<br>Density: 10.20 +0.24 -0.24 (2.31% relative error)<br>Radius: 0.699 +0.02 -0.02 (3.43% relative error)\",\"Dataset: EA add<br>Planet: HD 260655 b<br>Mass: 2.14 +0.34 -0.34 (15.89% relative error)<br>Density: 6.20 +0.18 -0.18 (2.93% relative error)<br>Radius: 1.24 +0.02 -0.02 (1.85% relative error)\",\"Dataset: EA add<br>Planet: HD 260655 c<br>Mass: 3.09 +0.48 -0.48 (15.53% relative error)<br>Density: 4.70 +0.16 -0.15 (3.48% relative error)<br>Radius: 1.533 +0.05 -0.05 (3.33% relative error)\",\"Dataset: EA add<br>Planet: K2-3 b<br>Mass: 6.48 +0.99 -0.93 (15.28% relative error)<br>Density: 3.70 +0.30 -0.20 (8.19% relative error)<br>Radius: 2.103 +0.26 -0.26 (12.22% relative error)\",\"Dataset: EA add<br>Planet: Kepler-26 b<br>Mass: 5.12 +0.65 -0.61 (12.70% relative error)<br>Density: 1.26 +0.04 -0.03 (3.02% relative error)<br>Radius: 2.78 +0.11 -0.11 (3.96% relative error)\",\"Dataset: EA add<br>Planet: Kepler-26 c<br>Mass: 6.2 +0.65 -0.65 (10.48% relative error)<br>Density: 1.61 +0.05 -0.04 (3.04% relative error)<br>Radius: 2.72 +0.12 -0.12 (4.41% relative error)\",\"Dataset: EA add<br>Planet: Kepler-94 b<br>Mass: 10.84 +1.40 -1.40 (12.92% relative error)<br>Density: 1.45 +0.05 -0.05 (3.25% relative error)<br>Radius: 3.51 +0.15 -0.15 (4.27% relative error)\",\"Dataset: EA add<br>Planet: LP 791-18 c<br>Mass: 7.1 +0.70 -0.70 (9.86% relative error)<br>Density: 2.69 +nan -nan (nan% relative error)<br>Radius: 2.438 +0.10 -0.10 (3.94% relative error)\",\"Dataset: EA add<br>Planet: LTT 1445 A b<br>Mass: 2.87 +0.26 -0.25 (9.06% relative error)<br>Density: 7.10 +0.22 -0.20 (3.07% relative error)<br>Radius: 1.18 +0.06 -0.06 (5.08% relative error)\",\"Dataset: EA add<br>Planet: LTT 1445 A c<br>Mass: 1.54 +0.20 -0.19 (12.99% relative error)<br>Density: 5.57 +0.12 -0.11 (2.22% relative error)<br>Radius: 1.147 +0.06 -0.05 (4.80% relative error)\",\"Dataset: EA add<br>Planet: TOI-1075 b<br>Mass: 9.95 +1.36 -1.30 (13.67% relative error)<br>Density: 9.32 +0.37 -0.34 (3.99% relative error)<br>Radius: 1.791 +0.12 -0.08 (6.48% relative error)\",\"Dataset: EA add<br>Planet: TOI-1201 b<br>Mass: 6.28 +0.84 -0.88 (13.38% relative error)<br>Density: 2.45 +0.09 -0.08 (3.56% relative error)<br>Radius: 2.415 +0.09 -0.09 (3.77% relative error)\",\"Dataset: EA add<br>Planet: TOI-1468 b<br>Mass: 3.21 +0.24 -0.24 (7.48% relative error)<br>Density: 8.41 +nan -nan (nan% relative error)<br>Radius: 1.28 +0.04 -0.04 (2.97% relative error)\",\"Dataset: EA add<br>Planet: TOI-1468 c<br>Mass: 6.64 +0.67 -0.68 (10.09% relative error)<br>Density: 4.15 +nan -nan (nan% relative error)<br>Radius: 2.064 +0.04 -0.04 (2.13% relative error)\",\"Dataset: EA add<br>Planet: TOI-1470 b<br>Mass: 7.32 +1.21 -1.24 (16.53% relative error)<br>Density: 3.86 +0.13 -0.12 (3.29% relative error)<br>Radius: 2.18 +0.04 -0.04 (1.83% relative error)\",\"Dataset: EA add<br>Planet: TOI-1695 b<br>Mass: 6.36 +1.00 -1.00 (15.72% relative error)<br>Density: 5.00 +0.33 -0.24 (6.53% relative error)<br>Radius: 1.9 +0.16 -0.14 (8.42% relative error)\",\"Dataset: EA add<br>Planet: TOI-1759 b<br>Mass: 10.8 +1.50 -1.50 (13.89% relative error)<br>Density: 1.91 +0.06 -0.06 (3.04% relative error)<br>Radius: 3.14 +0.10 -0.10 (3.18% relative error)\",\"Dataset: EA add<br>Planet: TOI-244 b<br>Mass: 2.68 +0.30 -0.30 (11.19% relative error)<br>Density: 4.20 +0.20 -0.20 (4.75% relative error)<br>Radius: 1.03 +0.08 -0.08 (7.77% relative error)\"],\"x\":[1.66,6.26,1.32,1.86,1.84,2.82,5.77,7.49,8.64,24.5,4.6,2.42,2.31,6.38,1.76,2.33,2.47,7.02,15.4,6.69,7.57,3.09,8.8,1.58,6.14,4.78,4.0,1.374,1.308,0.388,0.692,1.039,1.321,0.326,0.633,2.14,3.09,6.48,5.12,6.2,10.84,7.1,2.87,1.54,9.95,6.28,3.21,6.64,7.32,6.36,10.8,2.68],\"y\":[1.13,2.85,1.193,1.264,1.217,1.305,2.05,2.19,2.711,3.44,1.39,1.34,1.58,1.635,1.169,1.242,1.32,2.33,3.65,1.694,1.773,1.7,2.77,1.151,2.332,2.005,1.85,1.116,1.097,0.788,0.92,1.045,1.129,0.755,0.699,1.24,1.533,2.103,2.78,2.72,3.51,2.438,1.18,1.147,1.791,2.415,1.28,2.064,2.18,1.9,3.14,1.03],\"type\":\"scatter\"},{\"error_x\":{\"array\":[0.23,0.86,0.28,0.3,0.31,0.11,0.18,0.24,1.35,5.7,0.56,0.35,0.46,0.46,0.17,0.2,0.24,0.69,3.3,0.67,0.71,0.59,1.4,0.26,0.38,0.46,0.9,0.069,0.056,0.012,0.022,0.031,0.038,0.02,2.07,0.72,0.05,0.44,0.34,0.48,0.99,0.6,0.05,1.2,0.3,0.65,0.65,1.4,0.7,0.26,0.2,1.36,0.84,1.3,0.24,0.67,1.21,1.0,1.5,0.3],\"arrayminus\":[0.23,0.86,0.28,0.3,0.31,0.12,0.18,0.24,1.35,5.2,0.56,0.34,0.45,0.44,0.16,0.2,0.24,0.67,3.3,0.69,0.72,0.58,1.4,0.26,0.38,0.46,0.9,0.069,0.056,0.012,0.022,0.031,0.038,0.02,2.31,0.72,0.05,0.45,0.34,0.48,0.93,0.6,0.05,1.2,0.3,0.61,0.65,1.4,0.7,0.25,0.19,1.3,0.88,1.3,0.24,0.68,1.24,1.0,1.5,0.3],\"color\":\"rgba(169, 169, 169, 0.7)\",\"type\":\"data\",\"visible\":true},\"error_y\":{\"array\":[0.23593466424682397,0.07622504537205081,0.24319419237749548,0.1941923774954628,0.308529945553539,0.2177858439201452,0.038112522686025406,0.049001814882032674,0.07259528130671507,0.14519056261343014,0.4355716878402904,0.22323049001814882,0.1542649727767695,0.15245009074410162,0.14700544464609802,0.1869328493647913,0.1960072595281307,0.11978221415607987,0.0852994555353902,0.23593466424682397,0.2413793103448276,0.1560798548094374,0.08711433756805807,0.2177858439201452,0.0544464609800363,0.08166969147005446,0.19963702359346644,0.04809437386569873,0.040290381125226864,0.028312159709618877,0.030490018148820328,0.0250453720508167,0.024682395644283123,0.05843920145190563,0.047186932849364795,0.09437386569872959,0.23593466424682397,0.3629764065335753,0.18148820326678766,0.1633393829401089,0.30308529945553536,null,0.18148820326678766,0.3448275862068966,0.07985480943738657,0.038112522686025406,0.049001814882032674,0.047186932849364795,null,0.2177858439201452,0.12341197822141563,0.3720508166969147,0.08711433756805807,0.3266787658802178,null,null,0.12704174228675136,0.3266787658802178,0.058076225045372055,0.19963702359346644],\"arrayminus\":[0.23593466424682397,0.059891107078039935,0.19963702359346644,0.16878402903811254,0.23593466424682397,0.18148820326678766,0.038112522686025406,0.049001814882032674,0.07259528130671507,0.14519056261343014,0.3266787658802178,0.19056261343012706,0.132486388384755,0.14519056261343014,0.13430127041742287,0.16152450090744103,0.16152450090744103,0.09800362976406535,0.07622504537205081,0.19963702359346644,0.20689655172413793,0.13430127041742287,0.07622504537205081,0.2177858439201452,0.0544464609800363,0.08166969147005446,0.1633393829401089,0.049364791288566245,0.0426497277676951,0.029582577132486392,0.033030852994555354,0.028675136116152453,0.028675136116152453,0.054809437386569876,0.05263157894736842,0.08166969147005446,0.23593466424682397,0.3629764065335753,0.18148820326678766,0.14519056261343014,0.1960072595281307,null,0.15789473684210528,0.2722323049001815,0.06352087114337568,0.034482758620689655,0.039927404718693285,0.047186932849364795,null,0.19963702359346644,0.1088929219600726,0.3357531760435572,0.07622504537205081,0.29038112522686027,null,null,0.12341197822141563,0.23593466424682397,0.058076225045372055,0.19963702359346644],\"color\":\"rgba(169, 169, 169, 0.7)\",\"type\":\"data\",\"visible\":true},\"hoverinfo\":\"text\",\"marker\":{\"color\":[529.0,576.0,1089.0,773.0,525.0,701.0,590.0,520.0,284.0,494.0,965.0,517.0,409.0,378.9,708.9,595.0,1000.0,397.0,329.0,775.0,921.0,1069.0,531.0,581.0,488.0,387.0,514.0,400.1,341.9,288.0,251.3,219.0,198.6,168.0,454.0,693.0,1365.0,568.0,709.0,557.0,463.0,507.0,524.0,476.0,401.0,431.0,385.0,997.0,324.0,555.0,508.0,1323.0,703.0,326.0,682.0,338.0,734.0,698.0,443.0,387.0],\"colorbar\":{\"title\":{\"text\":\"Temperature\"}},\"colorscale\":[[0.0,\"#000004\"],[0.1111111111111111,\"#1b0c41\"],[0.2222222222222222,\"#4a0c6b\"],[0.3333333333333333,\"#781c6d\"],[0.4444444444444444,\"#a52c60\"],[0.5555555555555556,\"#cf4446\"],[0.6666666666666666,\"#ed6925\"],[0.7777777777777778,\"#fb9b06\"],[0.8888888888888888,\"#f7d13d\"],[1.0,\"#fcffa4\"]],\"showscale\":true,\"size\":12},\"mode\":\"markers\",\"name\":\"Mass, Density - Combined Data\",\"text\":[\"Dataset: LIV34<br>Planet: GJ 1132 b<br>Mass: 1.66 +0.23 -0.23 (13.86% relative error)<br>Radius: 1.13 +0.06 -0.06 (4.96% relative error)\",\"Dataset: LIV34<br>Planet: GJ 1214 b<br>Mass: 6.26 +0.86 -0.86 (13.74% relative error)<br>Radius: 2.85 +0.20 -0.20 (7.02% relative error)\",\"Dataset: LIV34<br>Planet: GJ 1252 b<br>Mass: 1.32 +0.28 -0.28 (21.21% relative error)<br>Radius: 1.193 +0.07 -0.07 (6.20% relative error)\",\"Dataset: LIV34<br>Planet: GJ 3473 b<br>Mass: 1.86 +0.30 -0.30 (16.13% relative error)<br>Radius: 1.264 +0.05 -0.05 (3.92% relative error)\",\"Dataset: LIV34<br>Planet: GJ 357 b<br>Mass: 1.84 +0.31 -0.31 (16.85% relative error)<br>Radius: 1.217 +0.08 -0.08 (6.86% relative error)\",\"Dataset: LIV34<br>Planet: GJ 486 b<br>Mass: 2.82 +0.11 -0.12 (4.08% relative error)<br>Radius: 1.305 +0.06 -0.07 (4.98% relative error)\",\"Dataset: LIV34<br>Planet: K2-146 b<br>Mass: 5.77 +0.18 -0.18 (3.12% relative error)<br>Radius: 2.05 +0.06 -0.06 (2.93% relative error)\",\"Dataset: LIV34<br>Planet: K2-146 c<br>Mass: 7.49 +0.24 -0.24 (3.20% relative error)<br>Radius: 2.19 +0.07 -0.07 (3.20% relative error)\",\"Dataset: LIV34<br>Planet: K2-18 b<br>Mass: 8.64 +1.35 -1.35 (15.62% relative error)<br>Radius: 2.711 +0.07 -0.07 (2.40% relative error)\",\"Dataset: LIV34<br>Planet: K2-25 b<br>Mass: 24.5 +5.70 -5.20 (22.24% relative error)<br>Radius: 3.44 +0.12 -0.12 (3.49% relative error)\",\"Dataset: LIV34<br>Planet: L 168-9 b<br>Mass: 4.6 +0.56 -0.56 (12.17% relative error)<br>Radius: 1.39 +0.09 -0.09 (6.47% relative error)\",\"Dataset: LIV34<br>Planet: L 98-59 c<br>Mass: 2.42 +0.35 -0.34 (14.26% relative error)<br>Radius: 1.34 +0.07 -0.07 (5.22% relative error)\",\"Dataset: LIV34<br>Planet: L 98-59 d<br>Mass: 2.31 +0.46 -0.45 (19.70% relative error)<br>Radius: 1.58 +0.08 -0.08 (5.06% relative error)\",\"Dataset: LIV34<br>Planet: LHS 1140 b<br>Mass: 6.38 +0.46 -0.44 (7.05% relative error)<br>Radius: 1.635 +0.05 -0.05 (2.81% relative error)\",\"Dataset: LIV34<br>Planet: LHS 1140 c<br>Mass: 1.76 +0.17 -0.16 (9.38% relative error)<br>Radius: 1.169 +0.04 -0.04 (3.21% relative error)\",\"Dataset: LIV34<br>Planet: LHS 1478 b<br>Mass: 2.33 +0.20 -0.20 (8.58% relative error)<br>Radius: 1.242 +0.05 -0.05 (4.03% relative error)\",\"Dataset: LIV34<br>Planet: LTT 3780 b<br>Mass: 2.47 +0.24 -0.24 (9.72% relative error)<br>Radius: 1.32 +0.06 -0.06 (4.55% relative error)\",\"Dataset: LIV34<br>Planet: LTT 3780 c<br>Mass: 7.02 +0.69 -0.67 (9.69% relative error)<br>Radius: 2.33 +0.14 -0.13 (5.79% relative error)\",\"Dataset: LIV34<br>Planet: TOI-1231 b<br>Mass: 15.4 +3.30 -3.30 (21.43% relative error)<br>Radius: 3.65 +0.16 -0.15 (4.25% relative error)\",\"Dataset: LIV34<br>Planet: TOI-1235 b<br>Mass: 6.69 +0.67 -0.69 (10.16% relative error)<br>Radius: 1.694 +0.08 -0.08 (4.63% relative error)\",\"Dataset: LIV34<br>Planet: TOI-1634 b<br>Mass: 7.57 +0.71 -0.72 (9.45% relative error)<br>Radius: 1.773 +0.08 -0.08 (4.34% relative error)\",\"Dataset: LIV34<br>Planet: TOI-1685 b<br>Mass: 3.09 +0.59 -0.58 (18.93% relative error)<br>Radius: 1.7 +0.07 -0.07 (4.12% relative error)\",\"Dataset: LIV34<br>Planet: TOI-269 b<br>Mass: 8.8 +1.40 -1.40 (15.91% relative error)<br>Radius: 2.77 +0.12 -0.12 (4.33% relative error)\",\"Dataset: LIV34<br>Planet: TOI-270 b<br>Mass: 1.58 +0.26 -0.26 (16.46% relative error)<br>Radius: 1.151 +0.05 -0.05 (4.34% relative error)\",\"Dataset: LIV34<br>Planet: TOI-270 c<br>Mass: 6.14 +0.38 -0.38 (6.19% relative error)<br>Radius: 2.332 +0.07 -0.07 (3.09% relative error)\",\"Dataset: LIV34<br>Planet: TOI-270 d<br>Mass: 4.78 +0.46 -0.46 (9.62% relative error)<br>Radius: 2.005 +0.07 -0.07 (3.34% relative error)\",\"Dataset: LIV34<br>Planet: TOI-776 b<br>Mass: 4.0 +0.90 -0.90 (22.50% relative error)<br>Radius: 1.85 +0.13 -0.13 (7.03% relative error)\",\"Dataset: LIV34<br>Planet: TRAPPIST-1 b<br>Mass: 1.374 +0.07 -0.07 (5.02% relative error)<br>Radius: 1.116 +0.01 -0.01 (1.16% relative error)\",\"Dataset: LIV34<br>Planet: TRAPPIST-1 c<br>Mass: 1.308 +0.06 -0.06 (4.28% relative error)<br>Radius: 1.097 +0.01 -0.01 (1.19% relative error)\",\"Dataset: LIV34<br>Planet: TRAPPIST-1 d<br>Mass: 0.388 +0.01 -0.01 (3.09% relative error)<br>Radius: 0.788 +0.01 -0.01 (1.33% relative error)\",\"Dataset: LIV34<br>Planet: TRAPPIST-1 e<br>Mass: 0.692 +0.02 -0.02 (3.18% relative error)<br>Radius: 0.92 +0.01 -0.01 (1.36% relative error)\",\"Dataset: LIV34<br>Planet: TRAPPIST-1 f<br>Mass: 1.039 +0.03 -0.03 (2.98% relative error)<br>Radius: 1.045 +0.01 -0.01 (1.20% relative error)\",\"Dataset: LIV34<br>Planet: TRAPPIST-1 g<br>Mass: 1.321 +0.04 -0.04 (2.88% relative error)<br>Radius: 1.129 +0.01 -0.01 (1.33% relative error)\",\"Dataset: LIV34<br>Planet: TRAPPIST-1 h<br>Mass: 0.326 +0.02 -0.02 (6.13% relative error)<br>Radius: 0.755 +0.01 -0.01 (1.85% relative error)\",\"Dataset: EA add 33%<br>Planet: AU Mic c<br>Mass: 9.6 +2.07 -2.31 (22.81% relative error)<br>Radius: 3.24 +0.16 -0.16 (4.94% relative error)\",\"Dataset: EA add 33%<br>Planet: GJ 3090 b<br>Mass: 3.34 +0.72 -0.72 (21.56% relative error)<br>Radius: 2.13 +0.11 -0.11 (5.16% relative error)\",\"Dataset: EA add 33%<br>Planet: GJ 367 b<br>Mass: 0.633 +0.05 -0.05 (7.90% relative error)<br>Radius: 0.699 +0.02 -0.02 (3.43% relative error)\",\"Dataset: EA add 33%<br>Planet: GJ 3929 b<br>Mass: 1.75 +0.44 -0.45 (25.43% relative error)<br>Radius: 1.09 +0.04 -0.04 (3.67% relative error)\",\"Dataset: EA add 33%<br>Planet: HD 260655 b<br>Mass: 2.14 +0.34 -0.34 (15.89% relative error)<br>Radius: 1.24 +0.02 -0.02 (1.85% relative error)\",\"Dataset: EA add 33%<br>Planet: HD 260655 c<br>Mass: 3.09 +0.48 -0.48 (15.53% relative error)<br>Radius: 1.533 +0.05 -0.05 (3.16% relative error)\",\"Dataset: EA add 33%<br>Planet: K2-3 b<br>Mass: 6.48 +0.99 -0.93 (14.81% relative error)<br>Radius: 2.103 +0.26 -0.26 (12.20% relative error)\",\"Dataset: EA add 33%<br>Planet: Kepler-114 c<br>Mass: 2.8 +0.60 -0.60 (21.43% relative error)<br>Radius: 1.6 +0.18 -0.18 (11.25% relative error)\",\"Dataset: EA add 33%<br>Planet: Kepler-138 b<br>Mass: 0.187 +0.05 -0.05 (26.74% relative error)<br>Radius: 0.701 +0.07 -0.07 (9.42% relative error)\",\"Dataset: EA add 33%<br>Planet: Kepler-138 c<br>Mass: 5.2 +1.20 -1.20 (23.08% relative error)<br>Radius: 1.67 +0.15 -0.15 (8.98% relative error)\",\"Dataset: EA add 33%<br>Planet: Kepler-138 d<br>Mass: 1.17 +0.30 -0.30 (25.64% relative error)<br>Radius: 1.68 +0.15 -0.15 (8.93% relative error)\",\"Dataset: EA add 33%<br>Planet: Kepler-26 b<br>Mass: 5.12 +0.65 -0.61 (12.30% relative error)<br>Radius: 2.78 +0.11 -0.11 (3.96% relative error)\",\"Dataset: EA add 33%<br>Planet: Kepler-26 c<br>Mass: 6.2 +0.65 -0.65 (10.48% relative error)<br>Radius: 2.72 +0.12 -0.12 (4.41% relative error)\",\"Dataset: EA add 33%<br>Planet: Kepler-94 b<br>Mass: 10.84 +1.40 -1.40 (12.92% relative error)<br>Radius: 3.51 +0.15 -0.15 (4.27% relative error)\",\"Dataset: EA add 33%<br>Planet: LP 791-18 c<br>Mass: 7.1 +0.70 -0.70 (9.86% relative error)<br>Radius: 2.438 +0.10 -0.10 (3.94% relative error)\",\"Dataset: EA add 33%<br>Planet: LTT 1445 A b<br>Mass: 2.87 +0.26 -0.25 (8.89% relative error)<br>Radius: 1.18 +0.06 -0.06 (5.08% relative error)\",\"Dataset: EA add 33%<br>Planet: LTT 1445 A c<br>Mass: 1.54 +0.20 -0.19 (12.66% relative error)<br>Radius: 1.147 +0.06 -0.05 (4.75% relative error)\",\"Dataset: EA add 33%<br>Planet: TOI-1075 b<br>Mass: 9.95 +1.36 -1.30 (13.37% relative error)<br>Radius: 1.791 +0.12 -0.08 (5.50% relative error)\",\"Dataset: EA add 33%<br>Planet: TOI-1201 b<br>Mass: 6.28 +0.84 -0.88 (13.69% relative error)<br>Radius: 2.415 +0.09 -0.09 (3.75% relative error)\",\"Dataset: EA add 33%<br>Planet: TOI-1452 b<br>Mass: 4.82 +1.30 -1.30 (26.97% relative error)<br>Radius: 1.672 +0.07 -0.07 (4.25% relative error)\",\"Dataset: EA add 33%<br>Planet: TOI-1468 b<br>Mass: 3.21 +0.24 -0.24 (7.48% relative error)<br>Radius: 1.28 +0.04 -0.04 (3.01% relative error)\",\"Dataset: EA add 33%<br>Planet: TOI-1468 c<br>Mass: 6.64 +0.67 -0.68 (10.17% relative error)<br>Radius: 2.064 +0.04 -0.04 (2.13% relative error)\",\"Dataset: EA add 33%<br>Planet: TOI-1470 b<br>Mass: 7.32 +1.21 -1.24 (16.73% relative error)<br>Radius: 2.18 +0.04 -0.04 (1.83% relative error)\",\"Dataset: EA add 33%<br>Planet: TOI-1695 b<br>Mass: 6.36 +1.00 -1.00 (15.72% relative error)<br>Radius: 1.9 +0.16 -0.14 (7.89% relative error)\",\"Dataset: EA add 33%<br>Planet: TOI-1759 b<br>Mass: 10.8 +1.50 -1.50 (13.89% relative error)<br>Radius: 3.14 +0.10 -0.10 (3.18% relative error)\",\"Dataset: EA add 33%<br>Planet: TOI-244 b<br>Mass: 2.68 +0.30 -0.30 (11.19% relative error)<br>Radius: 1.03 +0.08 -0.08 (7.77% relative error)\"],\"x\":[1.66,6.26,1.32,1.86,1.84,2.82,5.77,7.49,8.64,24.5,4.6,2.42,2.31,6.38,1.76,2.33,2.47,7.02,15.4,6.69,7.57,3.09,8.8,1.58,6.14,4.78,4.0,1.374,1.308,0.388,0.692,1.039,1.321,0.326,9.6,3.34,0.633,1.75,2.14,3.09,6.48,2.8,0.187,5.2,1.17,5.12,6.2,10.84,7.1,2.87,1.54,9.95,6.28,4.82,3.21,6.64,7.32,6.36,10.8,2.68],\"y\":[1.1433756805807622,0.27041742286751363,0.7658802177858439,0.912885662431942,1.0163339382940109,1.2704174228675136,0.6696914700544465,0.7114337568058077,0.4355716878402904,0.5989110707803993,1.7422867513611615,0.9909255898366607,0.5753176043557169,1.4591651542649726,1.1016333938294012,1.2105263157894737,1.0725952813067152,0.5499092558983666,0.31578947368421056,1.3157894736842106,1.3774954627949183,0.6243194192377496,0.41379310344827586,1.0344827586206897,0.48638838475499097,0.5952813067150635,0.617059891107078,0.984573502722323,0.9885662431941924,0.7901996370235935,0.8865698729582577,0.9090744101633395,0.9150635208711434,0.7526315789473685,0.22141560798548096,0.3430127041742287,1.851179673321234,1.32486388384755,1.1252268602540836,0.852994555353902,0.6715063520871144,0.6823956442831216,0.5480943738656987,1.1070780399274047,0.24682395644283125,0.22867513611615245,0.29219600725952816,0.2631578947368421,0.4882032667876588,1.2885662431941924,1.0108892921960073,1.6914700544464611,0.4446460980036298,1.0163339382940109,1.5263157894736843,0.7531760435571688,0.7005444646098004,0.9074410163339384,0.3466424682395644,0.7622504537205083],\"type\":\"scatter\"},{\"error_x\":{\"array\":[0.23,0.86,0.28,0.3,0.31,0.11,0.18,0.24,1.35,5.7,0.56,0.35,0.46,0.46,0.17,0.2,0.24,0.69,3.3,0.67,0.71,0.59,1.4,0.26,0.38,0.46,0.9,0.069,0.056,0.012,0.022,0.031,0.038,0.02,2.07,0.72,0.05,0.44,0.34,0.48,0.99,0.6,0.05,1.2,0.3,0.65,0.65,1.4,0.7,0.26,0.2,1.36,0.84,1.3,0.24,0.67,1.21,1.0,1.5,0.3],\"arrayminus\":[0.23,0.86,0.28,0.3,0.31,0.12,0.18,0.24,1.35,5.2,0.56,0.34,0.45,0.44,0.16,0.2,0.24,0.67,3.3,0.69,0.72,0.58,1.4,0.26,0.38,0.46,0.9,0.069,0.056,0.012,0.022,0.031,0.038,0.02,2.31,0.72,0.05,0.45,0.34,0.48,0.93,0.6,0.05,1.2,0.3,0.61,0.65,1.4,0.7,0.25,0.19,1.3,0.88,1.3,0.24,0.68,1.24,1.0,1.5,0.3],\"color\":\"rgba(169, 169, 169, 0.7)\",\"type\":\"data\",\"visible\":true},\"error_y\":{\"array\":[0.056,0.2,0.074,0.05,0.084,0.063,0.06,0.07,0.065,0.12,0.09,0.07,0.08,0.046,0.037,0.051,0.06,0.14,0.16,0.08,0.077,0.07,0.12,0.05,0.072,0.067,0.13,0.014,0.014,0.011,0.013,0.013,0.015,0.014,0.16,0.11,0.024,0.04,0.023,0.051,0.257,0.18,0.066,0.15,0.15,0.11,0.12,0.15,0.096,0.06,0.055,0.116,0.091,0.071,0.038,0.044,0.04,0.16,0.1,0.08],\"arrayminus\":[0.056,0.2,0.074,0.049,0.083,0.067,0.06,0.07,0.065,0.12,0.09,0.07,0.08,0.046,0.038,0.049,0.06,0.13,0.15,0.077,0.077,0.07,0.12,0.05,0.072,0.067,0.13,0.012,0.012,0.01,0.012,0.012,0.015,0.014,0.16,0.11,0.024,0.04,0.023,0.046,0.256,0.18,0.066,0.15,0.15,0.11,0.12,0.15,0.096,0.06,0.054,0.081,0.09,0.071,0.039,0.044,0.04,0.14,0.1,0.08],\"color\":\"rgba(169, 169, 169, 0.7)\",\"type\":\"data\",\"visible\":true},\"hoverinfo\":\"text\",\"marker\":{\"color\":[529.0,576.0,1089.0,773.0,525.0,701.0,590.0,520.0,284.0,494.0,965.0,517.0,409.0,378.9,708.9,595.0,1000.0,397.0,329.0,775.0,921.0,1069.0,531.0,581.0,488.0,387.0,514.0,400.1,341.9,288.0,251.3,219.0,198.6,168.0,454.0,693.0,1365.0,568.0,709.0,557.0,463.0,507.0,524.0,476.0,401.0,431.0,385.0,997.0,324.0,555.0,508.0,1323.0,703.0,326.0,682.0,338.0,734.0,698.0,443.0,387.0],\"colorbar\":{\"title\":{\"text\":\"Temperature\"}},\"colorscale\":[[0.0,\"#000004\"],[0.1111111111111111,\"#1b0c41\"],[0.2222222222222222,\"#4a0c6b\"],[0.3333333333333333,\"#781c6d\"],[0.4444444444444444,\"#a52c60\"],[0.5555555555555556,\"#cf4446\"],[0.6666666666666666,\"#ed6925\"],[0.7777777777777778,\"#fb9b06\"],[0.8888888888888888,\"#f7d13d\"],[1.0,\"#fcffa4\"]],\"showscale\":true,\"size\":12},\"mode\":\"markers\",\"name\":\"Mass, Density - Combined Data\",\"text\":[\"Dataset: LIV34<br>Planet: GJ 1132 b<br>Mass: 1.66 +0.23 -0.23 (13.86% relative error)<br>Radius: 1.13 +0.06 -0.06 (4.96% relative error)\",\"Dataset: LIV34<br>Planet: GJ 1214 b<br>Mass: 6.26 +0.86 -0.86 (13.74% relative error)<br>Radius: 2.85 +0.20 -0.20 (7.02% relative error)\",\"Dataset: LIV34<br>Planet: GJ 1252 b<br>Mass: 1.32 +0.28 -0.28 (21.21% relative error)<br>Radius: 1.193 +0.07 -0.07 (6.20% relative error)\",\"Dataset: LIV34<br>Planet: GJ 3473 b<br>Mass: 1.86 +0.30 -0.30 (16.13% relative error)<br>Radius: 1.264 +0.05 -0.05 (3.92% relative error)\",\"Dataset: LIV34<br>Planet: GJ 357 b<br>Mass: 1.84 +0.31 -0.31 (16.85% relative error)<br>Radius: 1.217 +0.08 -0.08 (6.86% relative error)\",\"Dataset: LIV34<br>Planet: GJ 486 b<br>Mass: 2.82 +0.11 -0.12 (4.08% relative error)<br>Radius: 1.305 +0.06 -0.07 (4.98% relative error)\",\"Dataset: LIV34<br>Planet: K2-146 b<br>Mass: 5.77 +0.18 -0.18 (3.12% relative error)<br>Radius: 2.05 +0.06 -0.06 (2.93% relative error)\",\"Dataset: LIV34<br>Planet: K2-146 c<br>Mass: 7.49 +0.24 -0.24 (3.20% relative error)<br>Radius: 2.19 +0.07 -0.07 (3.20% relative error)\",\"Dataset: LIV34<br>Planet: K2-18 b<br>Mass: 8.64 +1.35 -1.35 (15.62% relative error)<br>Radius: 2.711 +0.07 -0.07 (2.40% relative error)\",\"Dataset: LIV34<br>Planet: K2-25 b<br>Mass: 24.5 +5.70 -5.20 (22.24% relative error)<br>Radius: 3.44 +0.12 -0.12 (3.49% relative error)\",\"Dataset: LIV34<br>Planet: L 168-9 b<br>Mass: 4.6 +0.56 -0.56 (12.17% relative error)<br>Radius: 1.39 +0.09 -0.09 (6.47% relative error)\",\"Dataset: LIV34<br>Planet: L 98-59 c<br>Mass: 2.42 +0.35 -0.34 (14.26% relative error)<br>Radius: 1.34 +0.07 -0.07 (5.22% relative error)\",\"Dataset: LIV34<br>Planet: L 98-59 d<br>Mass: 2.31 +0.46 -0.45 (19.70% relative error)<br>Radius: 1.58 +0.08 -0.08 (5.06% relative error)\",\"Dataset: LIV34<br>Planet: LHS 1140 b<br>Mass: 6.38 +0.46 -0.44 (7.05% relative error)<br>Radius: 1.635 +0.05 -0.05 (2.81% relative error)\",\"Dataset: LIV34<br>Planet: LHS 1140 c<br>Mass: 1.76 +0.17 -0.16 (9.38% relative error)<br>Radius: 1.169 +0.04 -0.04 (3.21% relative error)\",\"Dataset: LIV34<br>Planet: LHS 1478 b<br>Mass: 2.33 +0.20 -0.20 (8.58% relative error)<br>Radius: 1.242 +0.05 -0.05 (4.03% relative error)\",\"Dataset: LIV34<br>Planet: LTT 3780 b<br>Mass: 2.47 +0.24 -0.24 (9.72% relative error)<br>Radius: 1.32 +0.06 -0.06 (4.55% relative error)\",\"Dataset: LIV34<br>Planet: LTT 3780 c<br>Mass: 7.02 +0.69 -0.67 (9.69% relative error)<br>Radius: 2.33 +0.14 -0.13 (5.79% relative error)\",\"Dataset: LIV34<br>Planet: TOI-1231 b<br>Mass: 15.4 +3.30 -3.30 (21.43% relative error)<br>Radius: 3.65 +0.16 -0.15 (4.25% relative error)\",\"Dataset: LIV34<br>Planet: TOI-1235 b<br>Mass: 6.69 +0.67 -0.69 (10.16% relative error)<br>Radius: 1.694 +0.08 -0.08 (4.63% relative error)\",\"Dataset: LIV34<br>Planet: TOI-1634 b<br>Mass: 7.57 +0.71 -0.72 (9.45% relative error)<br>Radius: 1.773 +0.08 -0.08 (4.34% relative error)\",\"Dataset: LIV34<br>Planet: TOI-1685 b<br>Mass: 3.09 +0.59 -0.58 (18.93% relative error)<br>Radius: 1.7 +0.07 -0.07 (4.12% relative error)\",\"Dataset: LIV34<br>Planet: TOI-269 b<br>Mass: 8.8 +1.40 -1.40 (15.91% relative error)<br>Radius: 2.77 +0.12 -0.12 (4.33% relative error)\",\"Dataset: LIV34<br>Planet: TOI-270 b<br>Mass: 1.58 +0.26 -0.26 (16.46% relative error)<br>Radius: 1.151 +0.05 -0.05 (4.34% relative error)\",\"Dataset: LIV34<br>Planet: TOI-270 c<br>Mass: 6.14 +0.38 -0.38 (6.19% relative error)<br>Radius: 2.332 +0.07 -0.07 (3.09% relative error)\",\"Dataset: LIV34<br>Planet: TOI-270 d<br>Mass: 4.78 +0.46 -0.46 (9.62% relative error)<br>Radius: 2.005 +0.07 -0.07 (3.34% relative error)\",\"Dataset: LIV34<br>Planet: TOI-776 b<br>Mass: 4.0 +0.90 -0.90 (22.50% relative error)<br>Radius: 1.85 +0.13 -0.13 (7.03% relative error)\",\"Dataset: LIV34<br>Planet: TRAPPIST-1 b<br>Mass: 1.374 +0.07 -0.07 (5.02% relative error)<br>Radius: 1.116 +0.01 -0.01 (1.16% relative error)\",\"Dataset: LIV34<br>Planet: TRAPPIST-1 c<br>Mass: 1.308 +0.06 -0.06 (4.28% relative error)<br>Radius: 1.097 +0.01 -0.01 (1.19% relative error)\",\"Dataset: LIV34<br>Planet: TRAPPIST-1 d<br>Mass: 0.388 +0.01 -0.01 (3.09% relative error)<br>Radius: 0.788 +0.01 -0.01 (1.33% relative error)\",\"Dataset: LIV34<br>Planet: TRAPPIST-1 e<br>Mass: 0.692 +0.02 -0.02 (3.18% relative error)<br>Radius: 0.92 +0.01 -0.01 (1.36% relative error)\",\"Dataset: LIV34<br>Planet: TRAPPIST-1 f<br>Mass: 1.039 +0.03 -0.03 (2.98% relative error)<br>Radius: 1.045 +0.01 -0.01 (1.20% relative error)\",\"Dataset: LIV34<br>Planet: TRAPPIST-1 g<br>Mass: 1.321 +0.04 -0.04 (2.88% relative error)<br>Radius: 1.129 +0.01 -0.01 (1.33% relative error)\",\"Dataset: LIV34<br>Planet: TRAPPIST-1 h<br>Mass: 0.326 +0.02 -0.02 (6.13% relative error)<br>Radius: 0.755 +0.01 -0.01 (1.85% relative error)\",\"Dataset: EA add 33%<br>Planet: AU Mic c<br>Mass: 9.6 +2.07 -2.31 (22.81% relative error)<br>Radius: 3.24 +0.16 -0.16 (4.94% relative error)\",\"Dataset: EA add 33%<br>Planet: GJ 3090 b<br>Mass: 3.34 +0.72 -0.72 (21.56% relative error)<br>Radius: 2.13 +0.11 -0.11 (5.16% relative error)\",\"Dataset: EA add 33%<br>Planet: GJ 367 b<br>Mass: 0.633 +0.05 -0.05 (7.90% relative error)<br>Radius: 0.699 +0.02 -0.02 (3.43% relative error)\",\"Dataset: EA add 33%<br>Planet: GJ 3929 b<br>Mass: 1.75 +0.44 -0.45 (25.43% relative error)<br>Radius: 1.09 +0.04 -0.04 (3.67% relative error)\",\"Dataset: EA add 33%<br>Planet: HD 260655 b<br>Mass: 2.14 +0.34 -0.34 (15.89% relative error)<br>Radius: 1.24 +0.02 -0.02 (1.85% relative error)\",\"Dataset: EA add 33%<br>Planet: HD 260655 c<br>Mass: 3.09 +0.48 -0.48 (15.53% relative error)<br>Radius: 1.533 +0.05 -0.05 (3.16% relative error)\",\"Dataset: EA add 33%<br>Planet: K2-3 b<br>Mass: 6.48 +0.99 -0.93 (14.81% relative error)<br>Radius: 2.103 +0.26 -0.26 (12.20% relative error)\",\"Dataset: EA add 33%<br>Planet: Kepler-114 c<br>Mass: 2.8 +0.60 -0.60 (21.43% relative error)<br>Radius: 1.6 +0.18 -0.18 (11.25% relative error)\",\"Dataset: EA add 33%<br>Planet: Kepler-138 b<br>Mass: 0.187 +0.05 -0.05 (26.74% relative error)<br>Radius: 0.701 +0.07 -0.07 (9.42% relative error)\",\"Dataset: EA add 33%<br>Planet: Kepler-138 c<br>Mass: 5.2 +1.20 -1.20 (23.08% relative error)<br>Radius: 1.67 +0.15 -0.15 (8.98% relative error)\",\"Dataset: EA add 33%<br>Planet: Kepler-138 d<br>Mass: 1.17 +0.30 -0.30 (25.64% relative error)<br>Radius: 1.68 +0.15 -0.15 (8.93% relative error)\",\"Dataset: EA add 33%<br>Planet: Kepler-26 b<br>Mass: 5.12 +0.65 -0.61 (12.30% relative error)<br>Radius: 2.78 +0.11 -0.11 (3.96% relative error)\",\"Dataset: EA add 33%<br>Planet: Kepler-26 c<br>Mass: 6.2 +0.65 -0.65 (10.48% relative error)<br>Radius: 2.72 +0.12 -0.12 (4.41% relative error)\",\"Dataset: EA add 33%<br>Planet: Kepler-94 b<br>Mass: 10.84 +1.40 -1.40 (12.92% relative error)<br>Radius: 3.51 +0.15 -0.15 (4.27% relative error)\",\"Dataset: EA add 33%<br>Planet: LP 791-18 c<br>Mass: 7.1 +0.70 -0.70 (9.86% relative error)<br>Radius: 2.438 +0.10 -0.10 (3.94% relative error)\",\"Dataset: EA add 33%<br>Planet: LTT 1445 A b<br>Mass: 2.87 +0.26 -0.25 (8.89% relative error)<br>Radius: 1.18 +0.06 -0.06 (5.08% relative error)\",\"Dataset: EA add 33%<br>Planet: LTT 1445 A c<br>Mass: 1.54 +0.20 -0.19 (12.66% relative error)<br>Radius: 1.147 +0.06 -0.05 (4.75% relative error)\",\"Dataset: EA add 33%<br>Planet: TOI-1075 b<br>Mass: 9.95 +1.36 -1.30 (13.37% relative error)<br>Radius: 1.791 +0.12 -0.08 (5.50% relative error)\",\"Dataset: EA add 33%<br>Planet: TOI-1201 b<br>Mass: 6.28 +0.84 -0.88 (13.69% relative error)<br>Radius: 2.415 +0.09 -0.09 (3.75% relative error)\",\"Dataset: EA add 33%<br>Planet: TOI-1452 b<br>Mass: 4.82 +1.30 -1.30 (26.97% relative error)<br>Radius: 1.672 +0.07 -0.07 (4.25% relative error)\",\"Dataset: EA add 33%<br>Planet: TOI-1468 b<br>Mass: 3.21 +0.24 -0.24 (7.48% relative error)<br>Radius: 1.28 +0.04 -0.04 (3.01% relative error)\",\"Dataset: EA add 33%<br>Planet: TOI-1468 c<br>Mass: 6.64 +0.67 -0.68 (10.17% relative error)<br>Radius: 2.064 +0.04 -0.04 (2.13% relative error)\",\"Dataset: EA add 33%<br>Planet: TOI-1470 b<br>Mass: 7.32 +1.21 -1.24 (16.73% relative error)<br>Radius: 2.18 +0.04 -0.04 (1.83% relative error)\",\"Dataset: EA add 33%<br>Planet: TOI-1695 b<br>Mass: 6.36 +1.00 -1.00 (15.72% relative error)<br>Radius: 1.9 +0.16 -0.14 (7.89% relative error)\",\"Dataset: EA add 33%<br>Planet: TOI-1759 b<br>Mass: 10.8 +1.50 -1.50 (13.89% relative error)<br>Radius: 3.14 +0.10 -0.10 (3.18% relative error)\",\"Dataset: EA add 33%<br>Planet: TOI-244 b<br>Mass: 2.68 +0.30 -0.30 (11.19% relative error)<br>Radius: 1.03 +0.08 -0.08 (7.77% relative error)\"],\"x\":[1.66,6.26,1.32,1.86,1.84,2.82,5.77,7.49,8.64,24.5,4.6,2.42,2.31,6.38,1.76,2.33,2.47,7.02,15.4,6.69,7.57,3.09,8.8,1.58,6.14,4.78,4.0,1.374,1.308,0.388,0.692,1.039,1.321,0.326,9.6,3.34,0.633,1.75,2.14,3.09,6.48,2.8,0.187,5.2,1.17,5.12,6.2,10.84,7.1,2.87,1.54,9.95,6.28,4.82,3.21,6.64,7.32,6.36,10.8,2.68],\"y\":[1.13,2.85,1.193,1.264,1.217,1.305,2.05,2.19,2.711,3.44,1.39,1.34,1.58,1.635,1.169,1.242,1.32,2.33,3.65,1.694,1.773,1.7,2.77,1.151,2.332,2.005,1.85,1.116,1.097,0.788,0.92,1.045,1.129,0.755,3.24,2.13,0.699,1.09,1.24,1.533,2.103,1.6,0.701,1.67,1.68,2.78,2.72,3.51,2.438,1.18,1.147,1.791,2.415,1.672,1.28,2.064,2.18,1.9,3.14,1.03],\"type\":\"scatter\"}],                        {\"template\":{\"data\":{\"histogram2dcontour\":[{\"type\":\"histogram2dcontour\",\"colorbar\":{\"outlinewidth\":0,\"ticks\":\"\"},\"colorscale\":[[0.0,\"#0d0887\"],[0.1111111111111111,\"#46039f\"],[0.2222222222222222,\"#7201a8\"],[0.3333333333333333,\"#9c179e\"],[0.4444444444444444,\"#bd3786\"],[0.5555555555555556,\"#d8576b\"],[0.6666666666666666,\"#ed7953\"],[0.7777777777777778,\"#fb9f3a\"],[0.8888888888888888,\"#fdca26\"],[1.0,\"#f0f921\"]]}],\"choropleth\":[{\"type\":\"choropleth\",\"colorbar\":{\"outlinewidth\":0,\"ticks\":\"\"}}],\"histogram2d\":[{\"type\":\"histogram2d\",\"colorbar\":{\"outlinewidth\":0,\"ticks\":\"\"},\"colorscale\":[[0.0,\"#0d0887\"],[0.1111111111111111,\"#46039f\"],[0.2222222222222222,\"#7201a8\"],[0.3333333333333333,\"#9c179e\"],[0.4444444444444444,\"#bd3786\"],[0.5555555555555556,\"#d8576b\"],[0.6666666666666666,\"#ed7953\"],[0.7777777777777778,\"#fb9f3a\"],[0.8888888888888888,\"#fdca26\"],[1.0,\"#f0f921\"]]}],\"heatmap\":[{\"type\":\"heatmap\",\"colorbar\":{\"outlinewidth\":0,\"ticks\":\"\"},\"colorscale\":[[0.0,\"#0d0887\"],[0.1111111111111111,\"#46039f\"],[0.2222222222222222,\"#7201a8\"],[0.3333333333333333,\"#9c179e\"],[0.4444444444444444,\"#bd3786\"],[0.5555555555555556,\"#d8576b\"],[0.6666666666666666,\"#ed7953\"],[0.7777777777777778,\"#fb9f3a\"],[0.8888888888888888,\"#fdca26\"],[1.0,\"#f0f921\"]]}],\"heatmapgl\":[{\"type\":\"heatmapgl\",\"colorbar\":{\"outlinewidth\":0,\"ticks\":\"\"},\"colorscale\":[[0.0,\"#0d0887\"],[0.1111111111111111,\"#46039f\"],[0.2222222222222222,\"#7201a8\"],[0.3333333333333333,\"#9c179e\"],[0.4444444444444444,\"#bd3786\"],[0.5555555555555556,\"#d8576b\"],[0.6666666666666666,\"#ed7953\"],[0.7777777777777778,\"#fb9f3a\"],[0.8888888888888888,\"#fdca26\"],[1.0,\"#f0f921\"]]}],\"contourcarpet\":[{\"type\":\"contourcarpet\",\"colorbar\":{\"outlinewidth\":0,\"ticks\":\"\"}}],\"contour\":[{\"type\":\"contour\",\"colorbar\":{\"outlinewidth\":0,\"ticks\":\"\"},\"colorscale\":[[0.0,\"#0d0887\"],[0.1111111111111111,\"#46039f\"],[0.2222222222222222,\"#7201a8\"],[0.3333333333333333,\"#9c179e\"],[0.4444444444444444,\"#bd3786\"],[0.5555555555555556,\"#d8576b\"],[0.6666666666666666,\"#ed7953\"],[0.7777777777777778,\"#fb9f3a\"],[0.8888888888888888,\"#fdca26\"],[1.0,\"#f0f921\"]]}],\"surface\":[{\"type\":\"surface\",\"colorbar\":{\"outlinewidth\":0,\"ticks\":\"\"},\"colorscale\":[[0.0,\"#0d0887\"],[0.1111111111111111,\"#46039f\"],[0.2222222222222222,\"#7201a8\"],[0.3333333333333333,\"#9c179e\"],[0.4444444444444444,\"#bd3786\"],[0.5555555555555556,\"#d8576b\"],[0.6666666666666666,\"#ed7953\"],[0.7777777777777778,\"#fb9f3a\"],[0.8888888888888888,\"#fdca26\"],[1.0,\"#f0f921\"]]}],\"mesh3d\":[{\"type\":\"mesh3d\",\"colorbar\":{\"outlinewidth\":0,\"ticks\":\"\"}}],\"scatter\":[{\"fillpattern\":{\"fillmode\":\"overlay\",\"size\":10,\"solidity\":0.2},\"type\":\"scatter\"}],\"parcoords\":[{\"type\":\"parcoords\",\"line\":{\"colorbar\":{\"outlinewidth\":0,\"ticks\":\"\"}}}],\"scatterpolargl\":[{\"type\":\"scatterpolargl\",\"marker\":{\"colorbar\":{\"outlinewidth\":0,\"ticks\":\"\"}}}],\"bar\":[{\"error_x\":{\"color\":\"#2a3f5f\"},\"error_y\":{\"color\":\"#2a3f5f\"},\"marker\":{\"line\":{\"color\":\"#E5ECF6\",\"width\":0.5},\"pattern\":{\"fillmode\":\"overlay\",\"size\":10,\"solidity\":0.2}},\"type\":\"bar\"}],\"scattergeo\":[{\"type\":\"scattergeo\",\"marker\":{\"colorbar\":{\"outlinewidth\":0,\"ticks\":\"\"}}}],\"scatterpolar\":[{\"type\":\"scatterpolar\",\"marker\":{\"colorbar\":{\"outlinewidth\":0,\"ticks\":\"\"}}}],\"histogram\":[{\"marker\":{\"pattern\":{\"fillmode\":\"overlay\",\"size\":10,\"solidity\":0.2}},\"type\":\"histogram\"}],\"scattergl\":[{\"type\":\"scattergl\",\"marker\":{\"colorbar\":{\"outlinewidth\":0,\"ticks\":\"\"}}}],\"scatter3d\":[{\"type\":\"scatter3d\",\"line\":{\"colorbar\":{\"outlinewidth\":0,\"ticks\":\"\"}},\"marker\":{\"colorbar\":{\"outlinewidth\":0,\"ticks\":\"\"}}}],\"scattermapbox\":[{\"type\":\"scattermapbox\",\"marker\":{\"colorbar\":{\"outlinewidth\":0,\"ticks\":\"\"}}}],\"scatterternary\":[{\"type\":\"scatterternary\",\"marker\":{\"colorbar\":{\"outlinewidth\":0,\"ticks\":\"\"}}}],\"scattercarpet\":[{\"type\":\"scattercarpet\",\"marker\":{\"colorbar\":{\"outlinewidth\":0,\"ticks\":\"\"}}}],\"carpet\":[{\"aaxis\":{\"endlinecolor\":\"#2a3f5f\",\"gridcolor\":\"white\",\"linecolor\":\"white\",\"minorgridcolor\":\"white\",\"startlinecolor\":\"#2a3f5f\"},\"baxis\":{\"endlinecolor\":\"#2a3f5f\",\"gridcolor\":\"white\",\"linecolor\":\"white\",\"minorgridcolor\":\"white\",\"startlinecolor\":\"#2a3f5f\"},\"type\":\"carpet\"}],\"table\":[{\"cells\":{\"fill\":{\"color\":\"#EBF0F8\"},\"line\":{\"color\":\"white\"}},\"header\":{\"fill\":{\"color\":\"#C8D4E3\"},\"line\":{\"color\":\"white\"}},\"type\":\"table\"}],\"barpolar\":[{\"marker\":{\"line\":{\"color\":\"#E5ECF6\",\"width\":0.5},\"pattern\":{\"fillmode\":\"overlay\",\"size\":10,\"solidity\":0.2}},\"type\":\"barpolar\"}],\"pie\":[{\"automargin\":true,\"type\":\"pie\"}]},\"layout\":{\"autotypenumbers\":\"strict\",\"colorway\":[\"#636efa\",\"#EF553B\",\"#00cc96\",\"#ab63fa\",\"#FFA15A\",\"#19d3f3\",\"#FF6692\",\"#B6E880\",\"#FF97FF\",\"#FECB52\"],\"font\":{\"color\":\"#2a3f5f\"},\"hovermode\":\"closest\",\"hoverlabel\":{\"align\":\"left\"},\"paper_bgcolor\":\"white\",\"plot_bgcolor\":\"#E5ECF6\",\"polar\":{\"bgcolor\":\"#E5ECF6\",\"angularaxis\":{\"gridcolor\":\"white\",\"linecolor\":\"white\",\"ticks\":\"\"},\"radialaxis\":{\"gridcolor\":\"white\",\"linecolor\":\"white\",\"ticks\":\"\"}},\"ternary\":{\"bgcolor\":\"#E5ECF6\",\"aaxis\":{\"gridcolor\":\"white\",\"linecolor\":\"white\",\"ticks\":\"\"},\"baxis\":{\"gridcolor\":\"white\",\"linecolor\":\"white\",\"ticks\":\"\"},\"caxis\":{\"gridcolor\":\"white\",\"linecolor\":\"white\",\"ticks\":\"\"}},\"coloraxis\":{\"colorbar\":{\"outlinewidth\":0,\"ticks\":\"\"}},\"colorscale\":{\"sequential\":[[0.0,\"#0d0887\"],[0.1111111111111111,\"#46039f\"],[0.2222222222222222,\"#7201a8\"],[0.3333333333333333,\"#9c179e\"],[0.4444444444444444,\"#bd3786\"],[0.5555555555555556,\"#d8576b\"],[0.6666666666666666,\"#ed7953\"],[0.7777777777777778,\"#fb9f3a\"],[0.8888888888888888,\"#fdca26\"],[1.0,\"#f0f921\"]],\"sequentialminus\":[[0.0,\"#0d0887\"],[0.1111111111111111,\"#46039f\"],[0.2222222222222222,\"#7201a8\"],[0.3333333333333333,\"#9c179e\"],[0.4444444444444444,\"#bd3786\"],[0.5555555555555556,\"#d8576b\"],[0.6666666666666666,\"#ed7953\"],[0.7777777777777778,\"#fb9f3a\"],[0.8888888888888888,\"#fdca26\"],[1.0,\"#f0f921\"]],\"diverging\":[[0,\"#8e0152\"],[0.1,\"#c51b7d\"],[0.2,\"#de77ae\"],[0.3,\"#f1b6da\"],[0.4,\"#fde0ef\"],[0.5,\"#f7f7f7\"],[0.6,\"#e6f5d0\"],[0.7,\"#b8e186\"],[0.8,\"#7fbc41\"],[0.9,\"#4d9221\"],[1,\"#276419\"]]},\"xaxis\":{\"gridcolor\":\"white\",\"linecolor\":\"white\",\"ticks\":\"\",\"title\":{\"standoff\":15},\"zerolinecolor\":\"white\",\"automargin\":true,\"zerolinewidth\":2},\"yaxis\":{\"gridcolor\":\"white\",\"linecolor\":\"white\",\"ticks\":\"\",\"title\":{\"standoff\":15},\"zerolinecolor\":\"white\",\"automargin\":true,\"zerolinewidth\":2},\"scene\":{\"xaxis\":{\"backgroundcolor\":\"#E5ECF6\",\"gridcolor\":\"white\",\"linecolor\":\"white\",\"showbackground\":true,\"ticks\":\"\",\"zerolinecolor\":\"white\",\"gridwidth\":2},\"yaxis\":{\"backgroundcolor\":\"#E5ECF6\",\"gridcolor\":\"white\",\"linecolor\":\"white\",\"showbackground\":true,\"ticks\":\"\",\"zerolinecolor\":\"white\",\"gridwidth\":2},\"zaxis\":{\"backgroundcolor\":\"#E5ECF6\",\"gridcolor\":\"white\",\"linecolor\":\"white\",\"showbackground\":true,\"ticks\":\"\",\"zerolinecolor\":\"white\",\"gridwidth\":2}},\"shapedefaults\":{\"line\":{\"color\":\"#2a3f5f\"}},\"annotationdefaults\":{\"arrowcolor\":\"#2a3f5f\",\"arrowhead\":0,\"arrowwidth\":1},\"geo\":{\"bgcolor\":\"white\",\"landcolor\":\"#E5ECF6\",\"subunitcolor\":\"white\",\"showland\":true,\"showlakes\":true,\"lakecolor\":\"white\"},\"title\":{\"x\":0.05},\"mapbox\":{\"style\":\"light\"}}},\"updatemenus\":[{\"buttons\":[{\"args\":[{\"visible\":[true,false,false,false,false,false,false,false,false,false]},{\"title\":\"LIV34\",\"xaxis\":{\"title\":\"$Mass\\\\ [M_{\\\\oplus}]$\",\"type\":\"log\"},\"yaxis\":{\"title\":\"$Bulk\\\\ Density\\\\ [\\u03c1_{bulk}/\\u03c1_{\\\\oplus}]$\"}}],\"label\":\"LIV34 (DM)\",\"method\":\"update\"},{\"args\":[{\"visible\":[false,true,false,false,false,false,false,false,false,false]},{\"title\":\"LIV34\",\"xaxis\":{\"title\":\"$Mass\\\\ [M_{\\\\oplus}]$\",\"type\":\"log\"},\"yaxis\":{\"title\":\"$Radius\\\\ [R_{\\\\oplus}]$\"}}],\"label\":\"LIV34 (RM)\",\"method\":\"update\"},{\"args\":[{\"visible\":[false,false,true,false,false,false,false,false,false,false]},{\"title\":\"EA add\",\"xaxis\":{\"title\":\"$Mass\\\\ [M_{\\\\oplus}]$\",\"type\":\"log\"},\"yaxis\":{\"title\":\"$Bulk\\\\ Density\\\\ [\\u03c1_{bulk}/\\u03c1_{\\\\oplus}]$\"}}],\"label\":\"EA add (DM)\",\"method\":\"update\"},{\"args\":[{\"visible\":[false,false,false,true,false,false,false,false,false,false]},{\"title\":\"EA add\",\"xaxis\":{\"title\":\"$Mass\\\\ [M_{\\\\oplus}]$\",\"type\":\"log\"},\"yaxis\":{\"title\":\"$Radius\\\\ [R_{\\\\oplus}]$\"}}],\"label\":\"EA add (RM)\",\"method\":\"update\"},{\"args\":[{\"visible\":[false,false,false,false,true,false,false,false,false,false]},{\"title\":\"EA add 33%\",\"xaxis\":{\"title\":\"$Mass\\\\ [M_{\\\\oplus}]$\",\"type\":\"log\"},\"yaxis\":{\"title\":\"$Bulk\\\\ Density\\\\ [\\u03c1_{bulk}/\\u03c1_{\\\\oplus}]$\"}}],\"label\":\"EA add 33% (DM)\",\"method\":\"update\"},{\"args\":[{\"visible\":[false,false,false,false,false,true,false,false,false,false,false]},{\"title\":\"EA add 33%\",\"xaxis\":{\"title\":\"$Mass\\\\ [M_{\\\\oplus}]$\",\"type\":\"log\"},\"yaxis\":{\"title\":\"$Radius\\\\ [R_{\\\\oplus}]$\"}}],\"label\":\"EA add 33% (RM)\",\"method\":\"update\"},{\"args\":[{\"visible\":[false,false,false,false,false,false,true,false,false,false]},{\"title\":\"Combined LIV34 + EA ADD\",\"xaxis\":{\"title\":\"$Mass\\\\ [M_{\\\\oplus}]$\",\"type\":\"log\"},\"yaxis\":{\"title\":\"$Bulk\\\\ Density\\\\ [\\u03c1_{bulk}/\\u03c1_{\\\\oplus}]$\"}}],\"label\":\"Combined LIV34 + EA add (DM)\",\"method\":\"update\"},{\"args\":[{\"visible\":[false,false,false,false,false,false,false,true,false,false]},{\"title\":\"Combined LIV34 + EA ADD\",\"xaxis\":{\"title\":\"$Mass\\\\ [M_{\\\\oplus}]$\",\"type\":\"log\"},\"yaxis\":{\"title\":\"$Radius\\\\ [R_{\\\\oplus}]$\"}}],\"label\":\"Combined LIV34 + EA add (RM)\",\"method\":\"update\"},{\"args\":[{\"visible\":[false,false,false,false,false,false,false,false,true,false]},{\"title\":\"Combined LIV34 + EA ADD\",\"xaxis\":{\"title\":\"$Mass\\\\ [M_{\\\\oplus}]$\",\"type\":\"log\"},\"yaxis\":{\"title\":\"$Bulk\\\\ Density\\\\ [\\u03c1_{bulk}/\\u03c1_{\\\\oplus}]$\"}}],\"label\":\"Combined LIV34 + EA add 33% (DM)\",\"method\":\"update\"},{\"args\":[{\"visible\":[false,false,false,false,false,false,false,false,false,true]},{\"title\":\"Combined LIV34 + EA ADD 33%\",\"xaxis\":{\"title\":\"$Mass\\\\ [M_{\\\\oplus}]$\",\"type\":\"log\"},\"yaxis\":{\"title\":\"$Radius\\\\ [R_{\\\\oplus}]$\"}}],\"label\":\"Combined LIV34 + EA add 33% (RM)\",\"method\":\"update\"}],\"direction\":\"down\",\"showactive\":true,\"x\":0.5,\"xanchor\":\"left\",\"yanchor\":\"top\"}],\"width\":800,\"height\":600},                        {\"responsive\": true}                    ).then(function(){\n",
       "                            \n",
       "var gd = document.getElementById('ab3055c7-6be2-4a2b-b603-c498c89d7d35');\n",
       "var x = new MutationObserver(function (mutations, observer) {{\n",
       "        var display = window.getComputedStyle(gd).display;\n",
       "        if (!display || display === 'none') {{\n",
       "            console.log([gd, 'removed!']);\n",
       "            Plotly.purge(gd);\n",
       "            observer.disconnect();\n",
       "        }}\n",
       "}});\n",
       "\n",
       "// Listen for the removal of the full notebook cells\n",
       "var notebookContainer = gd.closest('#notebook-container');\n",
       "if (notebookContainer) {{\n",
       "    x.observe(notebookContainer, {childList: true});\n",
       "}}\n",
       "\n",
       "// Listen for the clearing of the current output cell\n",
       "var outputEl = gd.closest('.output');\n",
       "if (outputEl) {{\n",
       "    x.observe(outputEl, {childList: true});\n",
       "}}\n",
       "\n",
       "                        })                };                });            </script>        </div>"
      ]
     },
     "metadata": {},
     "output_type": "display_data"
    },
    {
     "data": {
      "application/vnd.jupyter.widget-view+json": {
       "model_id": "9507c0b4fb79402184dd581e6ebc4634",
       "version_major": 2,
       "version_minor": 0
      },
      "text/plain": [
       "Dropdown(description='Dataset:', options=('LIV 34', 'EA add', 'EA add 33%'), value='LIV 34')"
      ]
     },
     "metadata": {},
     "output_type": "display_data"
    },
    {
     "data": {
      "application/vnd.jupyter.widget-view+json": {
       "model_id": "53c3bdcbbe514bfe88d5efe45e4e242e",
       "version_major": 2,
       "version_minor": 0
      },
      "text/plain": [
       "Button(description='Generate Hyperlinks', style=ButtonStyle())"
      ]
     },
     "metadata": {},
     "output_type": "display_data"
    },
    {
     "data": {
      "application/vnd.jupyter.widget-view+json": {
       "model_id": "73e9936e9a5744dfbe672a6b0cc85536",
       "version_major": 2,
       "version_minor": 0
      },
      "text/plain": [
       "Output()"
      ]
     },
     "metadata": {},
     "output_type": "display_data"
    }
   ],
   "source": [
    "index,planet,radius,radius_up,radius_low,density,density_up,density_low,mass,mass_up,mass_low,planet_eq = liv34(planet_name_EA)\n",
    "planet2      = []; planet_i2       = []; planet_eq2   = []\n",
    "radius2      = []; radius_up2      = []; radius_low2  = []\n",
    "mass2        = []; mass_up2        = []; mass_low2    = []\n",
    "density2     = []; density_up2     = []; density_low2 = []\n",
    "\n",
    "radius2 = []\n",
    "planet2 = []\n",
    "for i in range(0,len(planet_name_EA)):\n",
    "    if ((radius_unc_up_EA[i] + radius_unc_up_EA[i])*0.5) / radius_EA[i] < 0.2 and  radius_EA[i]<4 and \"M\" in str(st_spectype_EA[i]):\n",
    "        if ((mass_unc_up_EA[i] + mass_unc_up_EA[i])*0.5) / mass_EA[i] < 0.2:\n",
    "            if planet_name_EA[i] not in planet:\n",
    "                planet_eq2.append(pl_eq_EA[i]); planet2.append(planet_name_EA[i])\n",
    "                radius2.append(dataEA.pl_rade[i]); radius_up2.append(dataEA.pl_radeerr1[i]); radius_low2.append(dataEA.pl_radeerr2[i])\n",
    "                density2.append(dataEA.pl_dens[i]); density_up2.append(dataEA.pl_denserr1[i]); density_low2.append(dataEA.pl_denserr2[i])\n",
    "                mass2.append(dataEA.pl_bmasse[i]); mass_up2.append(dataEA.pl_bmasseerr1[i]);  mass_low2.append(dataEA.pl_bmasseerr2[i])\n",
    "                \n",
    "mass_error_plus = mass_up\n",
    "mass_error_minus = np.abs(mass_low)\n",
    "radius_error_plus = radius_up\n",
    "radius_error_minus = np.abs(radius_low)\n",
    "density_error_plus = np.divide(density_up,earth_density)\n",
    "density_error_minus = np.divide(np.abs(density_low),earth_density)\n",
    "planet_eq = planet_eq \n",
    "\n",
    "mass_error_plus2 = mass_up2\n",
    "mass_error_minus2 = np.abs(mass_low2)\n",
    "density_error_plus2 = np.divide(density_up2,earth_density)\n",
    "density_error_minus2= np.divide(np.abs(density_low2),earth_density)\n",
    "radius_error_plus2 = radius_up2\n",
    "radius_error_minus2 = np.abs(radius_low2)\n",
    "\n",
    "planet3      = []; planet_i3       = []; planet_eq3   = []\n",
    "radius3      = []; radius_up3      = []; radius_low3  = []\n",
    "mass3        = []; mass_up3        = []; mass_low3    = []\n",
    "density3     = []; density_up3     = []; density_low3 = []\n",
    "for i in range(0,len(planet_name_EA)):\n",
    "    if ((radius_unc_up_EA[i] + radius_unc_up_EA[i])*0.5) / radius_EA[i] < 0.33 and  radius_EA[i]<4 and \"M\" in str(st_spectype_EA[i]):\n",
    "        if ((mass_unc_up_EA[i] + mass_unc_up_EA[i])*0.5) / mass_EA[i] < 0.33:\n",
    "            if planet_name_EA[i] not in planet:\n",
    "                planet_eq3.append(pl_eq_EA[i]); planet3.append(planet_name_EA[i])\n",
    "                radius3.append(dataEA.pl_rade[i]); radius_up3.append(dataEA.pl_radeerr1[i]); radius_low3.append(dataEA.pl_radeerr2[i])\n",
    "                density3.append(dataEA.pl_dens[i]); density_up3.append(dataEA.pl_denserr1[i]); density_low3.append(dataEA.pl_denserr2[i])\n",
    "                mass3.append(dataEA.pl_bmasse[i]); mass_up3.append(dataEA.pl_bmasseerr1[i]);  mass_low3.append(dataEA.pl_bmasseerr2[i])\n",
    "\n",
    "mass_error_plus3    = mass_up3\n",
    "mass_error_minus3   = np.abs(mass_low3)\n",
    "density_error_plus3 = np.divide(density_up3,earth_density)\n",
    "density_error_minus3= np.divide(np.abs(density_low3),earth_density)\n",
    "radius_error_plus3  = radius_up3\n",
    "radius_error_minus3 = np.abs(radius_low3)\n",
    "\n",
    "planet_combined     = planet + planet2\n",
    "planet_eq_combined  = planet_eq + planet_eq2\n",
    "\n",
    "radius_combined     = radius + radius2\n",
    "radius_up_combined  = radius_up + radius_up2\n",
    "radius_low_combined = radius_low + radius_low2\n",
    "\n",
    "mass_combined      = mass + mass2\n",
    "mass_up_combined   = mass_up + mass_up2\n",
    "mass_low_combined  = mass_low + mass_low2\n",
    "\n",
    "density_combined      = density + density2\n",
    "density_up_combined   = density_up + density_up2\n",
    "density_low_combined  = density_low + density_low2\n",
    "\n",
    "mass_error_plus_combined    = mass_up_combined\n",
    "mass_error_minus_combined   = np.abs(mass_low_combined)\n",
    "density_error_plus_combined = np.divide(density_up_combined,earth_density)\n",
    "density_error_minus_combined= np.divide(np.abs(density_low_combined),earth_density)\n",
    "radius_error_plus_combined  = radius_up_combined\n",
    "radius_error_minus_combined = np.abs(radius_low_combined)\n",
    "\n",
    "planet_combined33     = planet + planet3\n",
    "planet_eq_combined33  = planet_eq + planet_eq3\n",
    "\n",
    "radius_combined33     = radius + radius3\n",
    "radius_up_combined33  = radius_up + radius_up3\n",
    "radius_low_combined33 = radius_low + radius_low3\n",
    "\n",
    "mass_combined33      = mass + mass3\n",
    "mass_up_combined33   = mass_up + mass_up3\n",
    "mass_low_combined33  = mass_low + mass_low3\n",
    "\n",
    "density_combined33      = density + density3\n",
    "density_up_combined33   = density_up + density_up3\n",
    "density_low_combined33  = density_low + density_low3\n",
    "\n",
    "mass_error_plus_combined33    = mass_up_combined33\n",
    "mass_error_minus_combined33   = np.abs(mass_low_combined33)\n",
    "density_error_plus_combined33 = np.divide(density_up_combined33,earth_density)\n",
    "density_error_minus_combined33= np.divide(np.abs(density_low_combined33),earth_density)\n",
    "radius_error_plus_combined33  = radius_up_combined33\n",
    "radius_error_minus_combined33 = np.abs(radius_low_combined33)\n",
    "\n",
    "\n",
    "comined_label = []\n",
    "for i in range(0,len(mass)):\n",
    "    comined_label.append(\"LIV34\")\n",
    "for i in range(0,len(mass2)):\n",
    "    comined_label.append(\"EA add\")\n",
    "\n",
    "relative_mass_error1 = [error / mass_val if mass_val != 0 else 0 for mass_val, error in zip(mass, mass_error_plus)]\n",
    "relative_density_error1 = [error / density_val if density_val != 0 else 0 for density_val, error in zip(density, density_error_plus)]\n",
    "relative_radius_error1 = [error / radius_val if radius_val != 0 else 0 for radius_val, error in zip(radius, radius_error_plus)]\n",
    "\n",
    "hover_text1 = [\n",
    "    f\"Dataset: LIV34<br>Planet: {planet[i]}<br>Mass: {mass[i]} +{mass_error_plus[i]:.2f} -{mass_error_minus[i]:.2f} ({relative_mass_error1[i]*100:.2f}% relative error)<br>Density: {density[i]:.2f} +{density_error_plus[i]:.2f} -{density_error_minus[i]:.2f} ({relative_density_error1[i]*100:.2f}% relative error)<br>Radius: {radius[i]} +{radius_error_plus[i]:.2f} -{radius_error_minus[i]:.2f} ({relative_radius_error1[i]*100:.2f}% relative error)\"\n",
    "    for i in range(len(mass))\n",
    "]\n",
    "\n",
    "# Create the plot for Data 1\n",
    "scatter1 = go.Scatter(\n",
    "    x=mass,\n",
    "    y=np.divide(density, earth_density),\n",
    "    mode='markers',\n",
    "    text=hover_text1,\n",
    "    error_x=dict(type='data', array=mass_error_plus, arrayminus=mass_error_minus, visible=True),\n",
    "    error_y=dict(type='data', array=density_error_plus, arrayminus=density_error_minus, visible=True),\n",
    "    marker=dict(color=planet_eq,\n",
    "        colorbar=dict(title='Temperature'),\n",
    "        colorscale='Inferno',  \n",
    "        showscale=True),\n",
    "    name='Mass, Density - Data 1',\n",
    "    hoverinfo =\"text\"\n",
    ")\n",
    "scatter1.marker['size'] = 12  # Adjust the size of the markers\n",
    "scatter1.error_x['color'] = 'rgba(169, 169, 169, 0.7)'  # Adjust the color of the error bars (grey)\n",
    "scatter1.error_y['color'] = 'rgba(169, 169, 169, 0.7)'  # Adjust the color of the error bars (grey)\n",
    "\n",
    "hover_text4 = [\n",
    "    f\"Dataset: LIV34<br>Planet: {planet[i]}<br>Mass: {mass[i]} +{mass_error_plus[i]:.2f} -{mass_error_minus[i]:.2f} ({relative_mass_error1[i]*100:.2f}% relative error)<br>Density: {density[i]:.2f} +{density_error_plus[i]:.2f} -{density_error_minus[i]:.2f} ({relative_density_error1[i]*100:.2f}% relative error)<br>Radius: {radius[i]} +{radius_error_plus[i]:.2f} -{radius_error_minus[i]:.2f} ({relative_radius_error1[i]*100:.2f}% relative error)\"\n",
    "    for i in range(len(mass))\n",
    "]\n",
    "\n",
    "# Create the plot for Data 1\n",
    "scatterRM1 = go.Scatter(\n",
    "    x=mass,\n",
    "    y=radius,\n",
    "    mode='markers',\n",
    "    text=hover_text4,\n",
    "    error_x=dict(type='data', array=mass_error_plus, arrayminus=mass_error_minus, visible=True),\n",
    "    error_y=dict(type='data', array=radius_error_plus, arrayminus=radius_error_minus, visible=True),\n",
    "    marker=dict(color=planet_eq,\n",
    "        colorbar=dict(title='Temperature'),\n",
    "        colorscale='Inferno',  \n",
    "        showscale=True),\n",
    "    name='Mass, Radius - Data 4',\n",
    "    hoverinfo =\"text\"\n",
    ")\n",
    "scatterRM1.marker['size'] = 12  # Adjust the size of the markers\n",
    "scatterRM1.error_x['color'] = 'rgba(169, 169, 169, 0.7)'  # Adjust the color of the error bars (grey)\n",
    "scatterRM1.error_y['color'] = 'rgba(169, 169, 169, 0.7)'  # Adjust the color of the error bars (grey)\n",
    "\n",
    "\n",
    "################################################# EA ADD ############################################################\n",
    "# Create hover text for Data 2 indicating the dataset\n",
    "relative_mass_error2 = [error / mass_val if mass_val != 0 else 0 for mass_val, error in zip(mass2, mass_error_plus2)]\n",
    "relative_density_error2 = [error / density_val if density_val != 0 else 0 for density_val, error in zip(density2, density_error_plus2)]\n",
    "relative_radius_error2 = [error / radius_val if radius_val != 0 else 0 for radius_val, error in zip(radius2, radius_error_plus2)]\n",
    "\n",
    "# Update hover text for Data 2 with radius, errors, and relative errors\n",
    "hover_textRM2 = [\n",
    "    f\"Dataset: EA add<br>Planet: {planet2[i]}<br>Mass: {mass2[i]} +{mass_error_plus2[i]:.2f} -{mass_error_minus2[i]:.2f} ({relative_mass_error2[i]*100:.2f}% relative error)<br>Density: {density2[i]:.2f} +{density_error_plus2[i]:.2f} -{density_error_minus2[i]:.2f} ({relative_density_error2[i]*100:.2f}% relative error)<br>Radius: {radius2[i]} +{radius_error_plus2[i]:.2f} -{radius_error_minus2[i]:.2f} ({relative_radius_error2[i]*100:.2f}% relative error)\"\n",
    "    for i in range(len(mass2))\n",
    "]\n",
    "\n",
    "# Create the plot for Data 2\n",
    "scatterRM2 = go.Scatter(\n",
    "    x=mass2,\n",
    "    y=radius2,\n",
    "    mode='markers',\n",
    "    text=hover_textRM2,\n",
    "    error_x=dict(type='data', array=mass_error_plus2, arrayminus=mass_error_minus2, visible=True),\n",
    "    error_y=dict(type='data', array=radius_error_plus2, arrayminus=radius_error_minus2, visible=True),\n",
    "    marker=dict(color=planet_eq2,\n",
    "        colorbar=dict(title='Temperature'),\n",
    "        colorscale='Inferno',  \n",
    "        showscale=True),\n",
    "    name='Mass, Density - Data 2',\n",
    "    hoverinfo =\"text\"\n",
    ")\n",
    "scatterRM2.marker['size'] = 12  # Adjust the size of the markers\n",
    "scatterRM2.error_x['color'] = 'rgba(169, 169, 169, 0.7)'  # Adjust the color of the error bars (grey)\n",
    "scatterRM2.error_y['color'] = 'rgba(169, 169, 169, 0.7)'  # Adjust the color of the error bars (grey)\n",
    "\n",
    "# Update hover text for Data 2 with radius, errors, and relative errors\n",
    "hover_text2 = [\n",
    "    f\"Dataset: EA add<br>Planet: {planet2[i]}<br>Mass: {mass2[i]} +{mass_error_plus2[i]:.2f} -{mass_error_minus2[i]:.2f} ({relative_mass_error2[i]*100:.2f}% relative error)<br>Density: {density2[i]:.2f} +{density_error_plus2[i]:.2f} -{density_error_minus2[i]:.2f} ({relative_density_error2[i]*100:.2f}% relative error)<br>Radius: {radius2[i]} +{radius_error_plus2[i]:.2f} -{radius_error_minus2[i]:.2f} ({relative_radius_error2[i]*100:.2f}% relative error)\"\n",
    "    for i in range(len(mass2))\n",
    "]\n",
    "\n",
    "# Create the plot for Data 2\n",
    "scatter2 = go.Scatter(\n",
    "    x=mass2,\n",
    "    y=np.divide(density2, earth_density),\n",
    "    mode='markers',\n",
    "    text=hover_text2,\n",
    "    error_x=dict(type='data', array=mass_error_plus2, arrayminus=mass_error_minus2, visible=True),\n",
    "    error_y=dict(type='data', array=density_error_plus2, arrayminus=density_error_minus2, visible=True),\n",
    "    marker=dict(color=planet_eq2,\n",
    "        colorbar=dict(title='Temperature'),\n",
    "        colorscale='Inferno',  \n",
    "        showscale=True),\n",
    "    name='Mass, Density - Data 2',\n",
    "    hoverinfo =\"text\"\n",
    ")\n",
    "scatter2.marker['size'] = 12  # Adjust the size of the markers\n",
    "scatter2.error_x['color'] = 'rgba(169, 169, 169, 0.7)'  # Adjust the color of the error bars (grey)\n",
    "scatter2.error_y['color'] = 'rgba(169, 169, 169, 0.7)'  # Adjust the color of the error bars (grey)\n",
    "\n",
    "# Create hover text for Data 2 indicating the dataset\n",
    "relative_mass_error3 = [error / mass_val if mass_val != 0 else 0 for mass_val, error in zip(mass3, mass_error_plus3)]\n",
    "relative_density_error3 = [error / density_val if density_val != 0 else 0 for density_val, error in zip(density3, density_error_plus3)]\n",
    "relative_radius_error3 = [error / radius_val if radius_val != 0 else 0 for radius_val, error in zip(radius3, radius_error_plus3)]\n",
    "\n",
    "# Update hover text for Data 2 with radius, errors, and relative errors\n",
    "hover_text3 = [\n",
    "    f\"Dataset: EA add 30%<br>Planet: {planet3[i]}<br>Mass: {mass3[i]} +{mass_error_plus3[i]:.2f} -{mass_error_minus3[i]:.2f} ({relative_mass_error3[i]*100:.2f}% relative error)<br>Density: {density3[i]:.2f} +{density_error_plus3[i]:.2f} -{density_error_minus3[i]:.2f} ({relative_density_error3[i]*100:.2f}% relative error)<br>Radius: {radius3[i]} +{radius_error_plus3[i]:.2f} -{radius_error_minus3[i]:.2f} ({relative_radius_error3[i]*100:.2f}% relative error)\"\n",
    "    for i in range(len(mass3))\n",
    "]\n",
    "\n",
    "# Create the plot for Data 3\n",
    "scatter3 = go.Scatter(\n",
    "    x=mass3,\n",
    "    y=np.divide(density3, earth_density),\n",
    "    mode='markers',\n",
    "    text=hover_text3,\n",
    "    error_x=dict(type='data', array=mass_error_plus3, arrayminus=mass_error_minus3, visible=True),\n",
    "    error_y=dict(type='data', array=density_error_plus3, arrayminus=density_error_minus3, visible=True),\n",
    "    marker=dict(color=planet_eq3,\n",
    "        colorbar=dict(title='Temperature'),\n",
    "        colorscale='Inferno',  \n",
    "        showscale=True),\n",
    "    name='Mass, Density - Data 3',\n",
    "    hoverinfo =\"text\"\n",
    ")\n",
    "scatter3.marker['size'] = 12  # Adjust the size of the markers\n",
    "scatter3.error_x['color'] = 'rgba(169, 169, 169, 0.7)'  # Adjust the color of the error bars (grey)\n",
    "scatter3.error_y['color'] = 'rgba(169, 169, 169, 0.7)'  # Adjust the color of the error bars (grey)\n",
    "\n",
    "# Update hover text for Data 2 with radius, errors, and relative errors\n",
    "hover_textRM3 = [\n",
    "    f\"Dataset: EA add 30%<br>Planet: {planet3[i]}<br>Mass: {mass3[i]} +{mass_error_plus3[i]:.2f} -{mass_error_minus3[i]:.2f} ({relative_mass_error3[i]*100:.2f}% relative error)<br>Density: {density3[i]:.2f} +{density_error_plus3[i]:.2f} -{density_error_minus3[i]:.2f} ({relative_density_error3[i]*100:.2f}% relative error)<br>Radius: {radius3[i]} +{radius_error_plus3[i]:.2f} -{radius_error_minus3[i]:.2f} ({relative_radius_error3[i]*100:.2f}% relative error)\"\n",
    "    for i in range(len(mass3))\n",
    "]\n",
    "\n",
    "# Create the plot for Data 3\n",
    "scatterRM3 = go.Scatter(\n",
    "    x=mass3,\n",
    "    y=radius3,\n",
    "    mode='markers',\n",
    "    text=hover_textRM3,\n",
    "    error_x=dict(type='data', array=mass_error_plus3, arrayminus=mass_error_minus3, visible=True),\n",
    "    error_y=dict(type='data', array=radius_error_plus3, arrayminus=radius_error_minus3, visible=True),\n",
    "    marker=dict(color=planet_eq3,\n",
    "        colorbar=dict(title='Temperature'),\n",
    "        colorscale='Inferno',  \n",
    "        showscale=True),\n",
    "    name='Mass, Density - Data 3',\n",
    "    hoverinfo =\"text\"\n",
    ")\n",
    "scatterRM3.marker['size'] = 12  # Adjust the size of the markers\n",
    "scatterRM3.error_x['color'] = 'rgba(169, 169, 169, 0.7)'  # Adjust the color of the error bars (grey)\n",
    "scatterRM3.error_y['color'] = 'rgba(169, 169, 169, 0.7)'  # Adjust the color of the error bars (grey)\n",
    "\n",
    "\n",
    "#### Combined data #### \n",
    "relative_mass_error_combined = [error / mass_val if mass_val != 0 else 0 for mass_val, error in zip(mass_combined, mass_error_plus_combined)]\n",
    "relative_density_error_combined = [error / density_val if density_val != 0 else 0 for density_val, error in zip(density_combined, density_error_plus_combined)]\n",
    "relative_radius_error_combined = [error / radius_val if radius_val != 0 else 0 for radius_val, error in zip(radius_combined, radius_error_plus_combined)]\n",
    "hover_text_combined = [\n",
    "    f\"Dataset: {comined_label[i]}<br>Planet: {planet_combined[i]}<br>Mass: {mass_combined[i]} +{mass_error_plus_combined[i]:.2f} -{mass_error_minus_combined[i]:.2f} ({relative_mass_error_combined[i]*100:.2f}% relative error)<br>Density: {density_combined[i]:.2f} +{density_error_plus_combined[i]:.2f} -{density_error_minus_combined[i]:.2f} ({relative_density_error_combined[i]*100:.2f}% relative error)<br>Radius: {radius_combined[i]} +{radius_error_plus_combined[i]:.2f} -{radius_error_minus_combined[i]:.2f} ({relative_radius_error_combined[i]*100:.2f}% relative error)\"\n",
    "    for i in range(len(mass_combined))\n",
    "]\n",
    "\n",
    "    \n",
    "# Create the plot for Combined Data\n",
    "scattercombined = go.Scatter(\n",
    "    x=mass_combined,\n",
    "    y=np.divide(density_combined, earth_density),\n",
    "    mode='markers',\n",
    "    text=hover_text_combined,\n",
    "    error_x=dict(type='data', array=mass_error_plus_combined, arrayminus=mass_error_minus_combined, visible=True),\n",
    "    error_y=dict(type='data', array=density_error_plus_combined, arrayminus=density_error_minus_combined, visible=True),\n",
    "    marker=dict(color=planet_eq_combined,\n",
    "        colorbar=dict(title='Temperature'),\n",
    "        colorscale='Inferno',  \n",
    "        showscale=True),\n",
    "    name='Mass, Density - Combined Data',\n",
    "    hoverinfo=\"text\"\n",
    ")\n",
    "scattercombined.marker['size'] = 12  # Adjust the size of the markers\n",
    "scattercombined.error_x['color'] = 'rgba(169, 169, 169, 0.7)'  # Adjust the color of the error bars (grey)\n",
    "scattercombined.error_y['color'] = 'rgba(169, 169, 169, 0.7)'  # Adjust the color of the error bars (grey)\n",
    "\n",
    "hover_text_combinedRM = [\n",
    "    f\"Dataset: {comined_label[i]}<br>Planet: {planet_combined[i]}<br>Mass: {mass_combined[i]} +{mass_error_plus_combined[i]:.2f} -{mass_error_minus_combined[i]:.2f} ({relative_mass_error_combined[i]*100:.2f}% relative error)<br>Density: {density_combined[i]:.2f} +{density_error_plus_combined[i]:.2f} -{density_error_minus_combined[i]:.2f} ({relative_density_error_combined[i]*100:.2f}% relative error)<br>Radius: {radius_combined[i]} +{radius_error_plus_combined[i]:.2f} -{radius_error_minus_combined[i]:.2f} ({relative_radius_error_combined[i]*100:.2f}% relative error)\"\n",
    "    for i in range(len(mass_combined))\n",
    "]\n",
    "\n",
    "# Create the plot for Combined Data\n",
    "scattercombinedRM = go.Scatter(\n",
    "    x=mass_combined,\n",
    "    y=radius_combined,\n",
    "    mode='markers',\n",
    "    text=hover_text_combinedRM,\n",
    "    error_x=dict(type='data', array=mass_error_plus_combined, arrayminus=mass_error_minus_combined, visible=True),\n",
    "    error_y=dict(type='data', array=radius_error_plus_combined, arrayminus=radius_error_minus_combined, visible=True),\n",
    "    marker=dict(color=planet_eq_combined,\n",
    "        colorbar=dict(title='Temperature'),\n",
    "        colorscale='Inferno',  \n",
    "        showscale=True),\n",
    "    name='Mass, Density - Combined Data',\n",
    "    hoverinfo=\"text\"\n",
    ")\n",
    "scattercombinedRM.marker['size'] = 12  # Adjust the size of the markers\n",
    "scattercombinedRM.error_x['color'] = 'rgba(169, 169, 169, 0.7)'  # Adjust the color of the error bars (grey)\n",
    "scattercombinedRM.error_y['color'] = 'rgba(169, 169, 169, 0.7)'  # Adjust the color of the error bars (grey)\n",
    "\n",
    "################################### Combined data 33 ####################################\n",
    "comined_label33 = []\n",
    "for i in range(0,len(mass)):\n",
    "    comined_label33.append(\"LIV34\")\n",
    "for i in range(0,len(mass3)):\n",
    "    comined_label33.append(\"EA add 33%\")\n",
    "    \n",
    "relative_mass_error_combined33 = [error / mass_val if mass_val != 0 else 0 for mass_val, error in zip(mass_combined33, mass_error_plus_combined33)]\n",
    "relative_density_error_combined33 = [error / density_val if density_val != 0 else 0 for density_val, error in zip(density_combined33, density_error_plus_combined33)]\n",
    "relative_radius_error_combined33 = [error / radius_val if radius_val != 0 else 0 for radius_val, error in zip(radius_combined33, radius_error_plus_combined33)]\n",
    "\n",
    "hover_text_combined33 = [\n",
    "    f\"Dataset: {comined_label33[i]}<br>Planet: {planet_combined33[i]}<br>Mass: {mass_combined33[i]} +{mass_error_plus_combined33[i]:.2f} -{mass_error_minus_combined33[i]:.2f} ({((mass_error_plus_combined33[i] + mass_error_minus_combined33[i]) / (2 * mass_combined33[i])) * 100:.2f}% relative error)<br>Radius: {radius_combined33[i]} +{radius_error_plus_combined33[i]:.2f} -{radius_error_minus_combined33[i]:.2f} ({((radius_error_plus_combined33[i] + radius_error_minus_combined33[i]) / (2 * radius_combined33[i])) * 100:.2f}% relative error)\"\n",
    "    for i in range(len(mass_combined33))\n",
    "]\n",
    "# Create the plot for Combined Data\n",
    "scattercombined33 = go.Scatter(\n",
    "    x=mass_combined33,\n",
    "    y=np.divide(density_combined33, earth_density),\n",
    "    mode='markers',\n",
    "    text=hover_text_combined33,\n",
    "    error_x=dict(type='data', array=mass_error_plus_combined33, arrayminus=mass_error_minus_combined33, visible=True),\n",
    "    error_y=dict(type='data', array=density_error_plus_combined33, arrayminus=density_error_minus_combined33, visible=True),\n",
    "    marker=dict(color=planet_eq_combined33,\n",
    "        colorbar=dict(title='Temperature'),\n",
    "        colorscale='Inferno',  \n",
    "        showscale=True),\n",
    "    name='Mass, Density - Combined Data',\n",
    "    hoverinfo=\"text\"\n",
    ")\n",
    "scattercombined33.marker['size'] = 12  # Adjust the size of the markers\n",
    "scattercombined33.error_x['color'] = 'rgba(169, 169, 169, 0.7)'  # Adjust the color of the error bars (grey)\n",
    "scattercombined33.error_y['color'] = 'rgba(169, 169, 169, 0.7)'  # Adjust the color of the error bars (grey)\n",
    "\n",
    "hover_text_combinedRM33 = [\n",
    "    f\"Dataset: {comined_label33[i]}<br>Planet: {planet_combined33[i]}<br>Mass: {mass_combined33[i]} +{mass_error_plus_combined33[i]:.2f} -{mass_error_minus_combined33[i]:.2f} ({((mass_error_plus_combined33[i] + mass_error_minus_combined33[i]) / (2 * mass_combined33[i])) * 100:.2f}% relative error)<br>Radius: {radius_combined33[i]} +{radius_error_plus_combined33[i]:.2f} -{radius_error_minus_combined33[i]:.2f} ({((radius_error_plus_combined33[i] + radius_error_minus_combined33[i]) / (2 * radius_combined33[i])) * 100:.2f}% relative error)\"\n",
    "    for i in range(len(mass_combined33))\n",
    "]\n",
    "# Create the plot for Combined Data\n",
    "scattercombinedRM33 = go.Scatter(\n",
    "    x=mass_combined33,\n",
    "    y=radius_combined33,\n",
    "    mode='markers',\n",
    "    text=hover_text_combinedRM33,\n",
    "    error_x=dict(type='data', array=mass_error_plus_combined33, arrayminus=mass_error_minus_combined33, visible=True),\n",
    "    error_y=dict(type='data', array=radius_error_plus_combined33, arrayminus=radius_error_minus_combined33, visible=True),\n",
    "    marker=dict(\n",
    "        color=planet_eq_combined33,\n",
    "        colorbar=dict(title='Temperature'),\n",
    "        colorscale='Inferno',  \n",
    "        showscale=True\n",
    "    ),\n",
    "    name='Mass, Density - Combined Data',\n",
    "    hoverinfo=\"text\"\n",
    ")\n",
    "scattercombinedRM33.marker['size'] = 12  # Adjust the size of the markers\n",
    "scattercombinedRM33.error_x['color'] = 'rgba(169, 169, 169, 0.7)'  # Adjust the color of the error bars (grey)\n",
    "scattercombinedRM33.error_y['color'] = 'rgba(169, 169, 169, 0.7)'  # Adjust the color of the error bars (grey)\n",
    "\n",
    "\n",
    "##################### end scatters ####################\n",
    "\n",
    "# Combine both plots and update layout\n",
    "fig = go.Figure()\n",
    "fig.add_trace(scatter1)\n",
    "fig.add_trace(scatterRM1)\n",
    "fig.add_trace(scatter2)\n",
    "fig.add_trace(scatterRM2)\n",
    "fig.add_trace(scatter3)\n",
    "fig.add_trace(scatterRM3)\n",
    "fig.add_trace(scattercombined)  \n",
    "fig.add_trace(scattercombinedRM)  \n",
    "fig.add_trace(scattercombined33)  \n",
    "fig.add_trace(scattercombinedRM33)  \n",
    "scattercombinedRM\n",
    "# Create a dropdown menu to toggle between datasets\n",
    "buttons = [\n",
    "    {\n",
    "        'method': 'update',\n",
    "        'label': 'LIV34 (DM)',\n",
    "        'args': [{'visible': [True, False, False, False, False, False, False, False, False, False]}, {'title': 'LIV34',\n",
    "              'xaxis': {'title': \"$Mass\\ [M_{\\oplus}]$\", 'type': 'log'},\n",
    "              'yaxis': {'title': \"$Bulk\\ Density\\ [ρ_{bulk}/ρ_{\\oplus}]$\"}}]\n",
    "    },\n",
    "    {\n",
    "    'method': 'update',\n",
    "    'label': 'LIV34 (RM)',\n",
    "    'args': [\n",
    "        {'visible': [False, True, False, False, False, False, False, False, False, False]},\n",
    "        {'title': 'LIV34',\n",
    "         'xaxis': {'title': \"$Mass\\ [M_{\\oplus}]$\", 'type': 'log'},\n",
    "         'yaxis': {'title': \"$Radius\\ [R_{\\oplus}]$\"}\n",
    "        }\n",
    "    ]\n",
    "    },\n",
    "    {\n",
    "        'method': 'update',\n",
    "        'label': 'EA add (DM)',\n",
    "        'args': [{'visible': [False, False, True, False, False, False, False, False, False, False]}, {'title': 'EA add',\n",
    "              'xaxis': {'title': \"$Mass\\ [M_{\\oplus}]$\", 'type': 'log'},\n",
    "              'yaxis': {'title': \"$Bulk\\ Density\\ [ρ_{bulk}/ρ_{\\oplus}]$\"}}]\n",
    "    },\n",
    "    {\n",
    "        'method': 'update',\n",
    "        'label': 'EA add (RM)',\n",
    "        'args': [{'visible': [False, False,  False, True, False, False, False, False, False, False]}, {'title': 'EA add',\n",
    "              'xaxis': {'title': \"$Mass\\ [M_{\\oplus}]$\", 'type': 'log'},\n",
    "              'yaxis': {'title': \"$Radius\\ [R_{\\oplus}]$\"}}]\n",
    "    },\n",
    "    {\n",
    "        'method': 'update',\n",
    "        'label': 'EA add 33% (DM)',\n",
    "        'args': [{'visible': [False, False, False, False, True,  False, False, False, False, False]}, \n",
    "            {'title': 'EA add 33%',\n",
    "              'xaxis': {'title': \"$Mass\\ [M_{\\oplus}]$\", 'type': 'log'},\n",
    "              'yaxis': {'title': \"$Bulk\\ Density\\ [ρ_{bulk}/ρ_{\\oplus}]$\"}}]\n",
    "    },\n",
    "    {\n",
    "        'method': 'update',\n",
    "        'label': 'EA add 33% (RM)',\n",
    "        'args': [{'visible': [False, False, False, False,False, True, False, False, False, False, False]}, \n",
    "            {'title': 'EA add 33%',\n",
    "              'xaxis': {'title': \"$Mass\\ [M_{\\oplus}]$\", 'type': 'log'},\n",
    "              'yaxis': {'title': \"$Radius\\ [R_{\\oplus}]$\"}}]\n",
    "    },\n",
    "    {\n",
    "        'method': 'update',\n",
    "        'label': 'Combined LIV34 + EA add (DM)',\n",
    "        'args': [{'visible': [False, False, False,  False,False, False, True, False, False, False]}, \n",
    "             {'title': 'Combined LIV34 + EA ADD',\n",
    "              'xaxis': {'title': \"$Mass\\ [M_{\\oplus}]$\", 'type': 'log'},\n",
    "              'yaxis': {'title': \"$Bulk\\ Density\\ [ρ_{bulk}/ρ_{\\oplus}]$\"}}]\n",
    "    },\n",
    "    {\n",
    "        'method': 'update',\n",
    "        'label': 'Combined LIV34 + EA add (RM)',\n",
    "        'args': [{'visible': [False, False, False, False, False, False, False, True, False, False]}, \n",
    "             {'title': 'Combined LIV34 + EA ADD',\n",
    "              'xaxis': {'title': \"$Mass\\ [M_{\\oplus}]$\", 'type': 'log'},\n",
    "              'yaxis': {'title': \"$Radius\\ [R_{\\oplus}]$\"}}]\n",
    "    },\n",
    "    {\n",
    "        'method': 'update',\n",
    "        'label': 'Combined LIV34 + EA add 33% (DM)',\n",
    "        'args': [{'visible': [False, False, False, False, False, False, False, False, True, False]}, \n",
    "             {'title': 'Combined LIV34 + EA ADD',\n",
    "              'xaxis': {'title': \"$Mass\\ [M_{\\oplus}]$\", 'type': 'log'},\n",
    "              'yaxis': {'title': \"$Bulk\\ Density\\ [ρ_{bulk}/ρ_{\\oplus}]$\"}}]\n",
    "    },\n",
    "    {\n",
    "        'method': 'update',\n",
    "        'label': 'Combined LIV34 + EA add 33% (RM)',\n",
    "        'args': [{'visible': [False, False, False, False, False, False, False, False, False, True]}, \n",
    "             {'title': 'Combined LIV34 + EA ADD 33%',\n",
    "              'xaxis': {'title': \"$Mass\\ [M_{\\oplus}]$\", 'type': 'log'},\n",
    "              'yaxis': {'title': \"$Radius\\ [R_{\\oplus}]$\"}}]\n",
    "    }\n",
    "]\n",
    "\n",
    "fig.update_layout(\n",
    "    updatemenus=[\n",
    "        {\n",
    "            'buttons': buttons,\n",
    "            'direction': 'down',\n",
    "            'showactive': True,\n",
    "            'x': 0.5,\n",
    "            'xanchor': 'left',\n",
    "            'yanchor': 'top'\n",
    "        },\n",
    "    ],\n",
    "    width=800,  # Adjust the width of the figure\n",
    "    height=600  # Adjust the height of the figure\n",
    ")\n",
    "\n",
    "# Display the plot\n",
    "fig.show()\n",
    "\n",
    "import ipywidgets as widgets\n",
    "from IPython.display import display, HTML\n",
    "\n",
    "# Define lists of planets\n",
    "\n",
    "planet1 = planet\n",
    "\n",
    "# Function to generate and display hyperlinks in columns\n",
    "def generate_planet_links(b, columns=3):\n",
    "    selected_planet_list = None\n",
    "    if planet_list_dropdown.value == 'LIV 34':\n",
    "        selected_planet_list = sorted(planet1)\n",
    "    elif planet_list_dropdown.value == 'EA add':\n",
    "        selected_planet_list = sorted(planet2)\n",
    "    elif planet_list_dropdown.value == 'EA add 33%':\n",
    "        selected_planet_list = sorted(planet3)\n",
    "\n",
    "    # Clear previous output\n",
    "    output.clear_output()\n",
    "\n",
    "    with output:\n",
    "        planet_links = []\n",
    "        for planet in selected_planet_list:\n",
    "            planet_url = f'https://exoplanetarchive.ipac.caltech.edu/overview/{planet}'\n",
    "            planet_links.append(f'<a href=\"{planet_url}\" target=\"_blank\">{planet}</a>')\n",
    "\n",
    "        num_links = len(planet_links)\n",
    "        links_per_column = (num_links + columns - 1) // columns\n",
    "        columns_html = []\n",
    "        for i in range(0, num_links, links_per_column):\n",
    "            column_links = planet_links[i:i + links_per_column]\n",
    "            columns_html.append('<div style=\"float: left; width: 33%;\">' + '<br>'.join(column_links) + '</div>')\n",
    "\n",
    "        links_html = '<div style=\"overflow: auto;\">' + '\\n'.join(columns_html) + '</div>'\n",
    "        display(HTML(links_html))\n",
    "\n",
    "# Create a dropdown for selecting the planet list\n",
    "planet_list_dropdown = widgets.Dropdown(options=['LIV 34','EA add', 'EA add 33%'], description='Dataset:')\n",
    "\n",
    "# Create a button to generate hyperlinks\n",
    "generate_button = widgets.Button(description='Generate Hyperlinks')\n",
    "\n",
    "# Output widget for displaying hyperlinks\n",
    "output = widgets.Output()\n",
    "\n",
    "# Function to handle button click\n",
    "def on_button_click(b):\n",
    "    with output:\n",
    "        generate_planet_links(None)\n",
    "\n",
    "# Link the button click event to the function\n",
    "generate_button.on_click(on_button_click)\n",
    "\n",
    "# Display the dropdown and button\n",
    "display(planet_list_dropdown)\n",
    "display(generate_button)\n",
    "display(output)"
   ]
  },
  {
   "cell_type": "code",
   "execution_count": 54,
   "id": "0a266f96",
   "metadata": {},
   "outputs": [
    {
     "data": {
      "image/png": "[encoded data removed]",
      "text/plain": [
       "<Figure size 1800x600 with 3 Axes>"
      ]
     },
     "metadata": {},
     "output_type": "display_data"
    }
   ],
   "source": [
    "import matplotlib.pyplot as plt\n",
    "\n",
    "# Data for histograms\n",
    "density_liv34 = np.divide(density, earth_density)\n",
    "density_ea_add = np.divide(density2, earth_density)\n",
    "\n",
    "# Create subplots\n",
    "fig, axs = plt.subplots(1, 3, figsize=(18, 6))\n",
    "\n",
    "# Plot histogram for LIV34 data\n",
    "axs[0].hist(density_liv34, bins=19, alpha=0.7, color='blue')\n",
    "axs[0].set_xlabel('Density [ρb/ρEarth]')\n",
    "axs[0].set_ylabel('Count')\n",
    "axs[0].set_title('Density Histogram - LIV34')\n",
    "axs[0].grid(True)\n",
    "\n",
    "# Plot histogram for EA add data\n",
    "axs[1].hist(density_ea_add, bins=19, alpha=0.7, color='green')\n",
    "axs[1].set_xlabel('Density [ρb/ρEarth]')\n",
    "axs[1].set_ylabel('Count')\n",
    "axs[1].set_title('Density Histogram - EA add')\n",
    "axs[1].grid(True)\n",
    "\n",
    "# Combine both datasets for histogram\n",
    "combined_density = np.concatenate((density_liv34, density_ea_add))\n",
    "\n",
    "# Plot histogram for combined data\n",
    "axs[2].hist(combined_density, bins=20, alpha=0.7, color='orange')\n",
    "axs[2].set_xlabel('Density [ρb/ρEarth]')\n",
    "axs[2].set_ylabel('Count')\n",
    "axs[2].set_title('Density Histogram - Combined')\n",
    "axs[2].grid(True)\n",
    "\n",
    "plt.tight_layout()\n",
    "plt.show()\n"
   ]
  },
  {
   "cell_type": "code",
   "execution_count": 97,
   "id": "850be2c0",
   "metadata": {},
   "outputs": [
    {
     "data": {
      "application/vnd.plotly.v1+json": {
       "config": {
        "plotlyServerURL": "https://plot.ly"
       },
       "data": [
        {
         "error_x": {
          "array": [
           0.23,
           0.86,
           0.28,
           0.3,
           0.31,
           0.11,
           0.18,
           0.24,
           1.35,
           5.7,
           0.56,
           0.35,
           0.46,
           0.46,
           0.17,
           0.2,
           0.24,
           0.69,
           3.3,
           0.67,
           0.71,
           0.59,
           1.4,
           0.26,
           0.38,
           0.46,
           0.9,
           0.069,
           0.056,
           0.012,
           0.022,
           0.031,
           0.038,
           0.02
          ],
          "arrayminus": [
           0.23,
           0.86,
           0.28,
           0.3,
           0.31,
           0.12,
           0.18,
           0.24,
           1.35,
           5.2,
           0.56,
           0.34,
           0.45,
           0.44,
           0.16,
           0.2,
           0.24,
           0.67,
           3.3,
           0.69,
           0.72,
           0.58,
           1.4,
           0.26,
           0.38,
           0.46,
           0.9,
           0.069,
           0.056,
           0.012,
           0.022,
           0.031,
           0.038,
           0.02
          ],
          "color": "rgba(169, 169, 169, 0.7)",
          "type": "data",
          "visible": true
         },
         "error_y": {
          "array": [
           0.23593466424682397,
           0.07622504537205081,
           0.24319419237749548,
           0.1941923774954628,
           0.308529945553539,
           0.2177858439201452,
           0.038112522686025406,
           0.049001814882032674,
           0.07259528130671507,
           0.14519056261343014,
           0.4355716878402904,
           0.22323049001814882,
           0.1542649727767695,
           0.15245009074410162,
           0.14700544464609802,
           0.1869328493647913,
           0.1960072595281307,
           0.11978221415607987,
           0.0852994555353902,
           0.23593466424682397,
           0.2413793103448276,
           0.1560798548094374,
           0.08711433756805807,
           0.2177858439201452,
           0.0544464609800363,
           0.08166969147005446,
           0.19963702359346644,
           0.04809437386569873,
           0.040290381125226864,
           0.028312159709618877,
           0.030490018148820328,
           0.0250453720508167,
           0.024682395644283123,
           0.05843920145190563
          ],
          "arrayminus": [
           0.23593466424682397,
           0.059891107078039935,
           0.19963702359346644,
           0.16878402903811254,
           0.23593466424682397,
           0.18148820326678766,
           0.038112522686025406,
           0.049001814882032674,
           0.07259528130671507,
           0.14519056261343014,
           0.3266787658802178,
           0.19056261343012706,
           0.132486388384755,
           0.14519056261343014,
           0.13430127041742287,
           0.16152450090744103,
           0.16152450090744103,
           0.09800362976406535,
           0.07622504537205081,
           0.19963702359346644,
           0.20689655172413793,
           0.13430127041742287,
           0.07622504537205081,
           0.2177858439201452,
           0.0544464609800363,
           0.08166969147005446,
           0.1633393829401089,
           0.049364791288566245,
           0.0426497277676951,
           0.029582577132486392,
           0.033030852994555354,
           0.028675136116152453,
           0.028675136116152453,
           0.054809437386569876
          ],
          "color": "rgba(169, 169, 169, 0.7)",
          "type": "data",
          "visible": true
         },
         "marker": {
          "cmax": 1200,
          "cmin": 0,
          "color": [
           529,
           576,
           1089,
           773,
           525,
           701,
           590,
           520,
           284,
           494,
           965,
           517,
           409,
           378.9,
           708.9,
           595,
           1000,
           397,
           329,
           775,
           921,
           1069,
           531,
           581,
           488,
           387,
           514,
           400.1,
           341.9,
           288,
           251.3,
           219,
           198.6,
           168
          ],
          "colorbar": {
           "title": {
            "text": "Temperature"
           }
          },
          "colorscale": [
           [
            0,
            "#000004"
           ],
           [
            0.1111111111111111,
            "#1b0c41"
           ],
           [
            0.2222222222222222,
            "#4a0c6b"
           ],
           [
            0.3333333333333333,
            "#781c6d"
           ],
           [
            0.4444444444444444,
            "#a52c60"
           ],
           [
            0.5555555555555556,
            "#cf4446"
           ],
           [
            0.6666666666666666,
            "#ed6925"
           ],
           [
            0.7777777777777778,
            "#fb9b06"
           ],
           [
            0.8888888888888888,
            "#f7d13d"
           ],
           [
            1,
            "#fcffa4"
           ]
          ],
          "showscale": true,
          "size": 12
         },
         "mode": "markers",
         "name": "LIV34",
         "text": [
          "Dataset: LIV34<br>Planet: GJ 1132 b<br>Mass: 1.66 +0.23 -0.23 (13.86% relative error)<br>Density: 6.30 +0.24 -0.24 (3.74% relative error)<br>Radius: 1.13 +0.06 -0.06 (4.96% relative error)",
          "Dataset: LIV34<br>Planet: GJ 1214 b<br>Mass: 6.26 +0.86 -0.86 (13.74% relative error)<br>Density: 1.49 +0.08 -0.06 (5.12% relative error)<br>Radius: 2.85 +0.20 -0.20 (7.02% relative error)",
          "Dataset: LIV34<br>Planet: GJ 1252 b<br>Mass: 1.32 +0.28 -0.28 (21.21% relative error)<br>Density: 4.22 +0.24 -0.20 (5.76% relative error)<br>Radius: 1.193 +0.07 -0.07 (6.20% relative error)",
          "Dataset: LIV34<br>Planet: GJ 3473 b<br>Mass: 1.86 +0.30 -0.30 (16.13% relative error)<br>Density: 5.03 +0.19 -0.17 (3.86% relative error)<br>Radius: 1.264 +0.05 -0.05 (3.96% relative error)",
          "Dataset: LIV34<br>Planet: GJ 357 b<br>Mass: 1.84 +0.31 -0.31 (16.85% relative error)<br>Density: 5.60 +0.31 -0.24 (5.51% relative error)<br>Radius: 1.217 +0.08 -0.08 (6.90% relative error)",
          "Dataset: LIV34<br>Planet: GJ 486 b<br>Mass: 2.82 +0.11 -0.12 (3.90% relative error)<br>Density: 7.00 +0.22 -0.18 (3.11% relative error)<br>Radius: 1.305 +0.06 -0.07 (4.83% relative error)",
          "Dataset: LIV34<br>Planet: K2-146 b<br>Mass: 5.77 +0.18 -0.18 (3.12% relative error)<br>Density: 3.69 +0.04 -0.04 (1.03% relative error)<br>Radius: 2.05 +0.06 -0.06 (2.93% relative error)",
          "Dataset: LIV34<br>Planet: K2-146 c<br>Mass: 7.49 +0.24 -0.24 (3.20% relative error)<br>Density: 3.92 +0.05 -0.05 (1.25% relative error)<br>Radius: 2.19 +0.07 -0.07 (3.20% relative error)",
          "Dataset: LIV34<br>Planet: K2-18 b<br>Mass: 8.64 +1.35 -1.35 (15.62% relative error)<br>Density: 2.40 +0.07 -0.07 (3.02% relative error)<br>Radius: 2.711 +0.07 -0.07 (2.40% relative error)",
          "Dataset: LIV34<br>Planet: K2-25 b<br>Mass: 24.5 +5.70 -5.20 (23.27% relative error)<br>Density: 3.30 +0.15 -0.15 (4.40% relative error)<br>Radius: 3.44 +0.12 -0.12 (3.49% relative error)",
          "Dataset: LIV34<br>Planet: L 168-9 b<br>Mass: 4.6 +0.56 -0.56 (12.17% relative error)<br>Density: 9.60 +0.44 -0.33 (4.54% relative error)<br>Radius: 1.39 +0.09 -0.09 (6.47% relative error)",
          "Dataset: LIV34<br>Planet: L 98-59 c<br>Mass: 2.42 +0.35 -0.34 (14.46% relative error)<br>Density: 5.46 +0.22 -0.19 (4.09% relative error)<br>Radius: 1.34 +0.07 -0.07 (5.22% relative error)",
          "Dataset: LIV34<br>Planet: L 98-59 d<br>Mass: 2.31 +0.46 -0.45 (19.91% relative error)<br>Density: 3.17 +0.15 -0.13 (4.87% relative error)<br>Radius: 1.58 +0.08 -0.08 (5.06% relative error)",
          "Dataset: LIV34<br>Planet: LHS 1140 b<br>Mass: 6.38 +0.46 -0.44 (7.21% relative error)<br>Density: 8.04 +0.15 -0.15 (1.90% relative error)<br>Radius: 1.635 +0.05 -0.05 (2.81% relative error)",
          "Dataset: LIV34<br>Planet: LHS 1140 c<br>Mass: 1.76 +0.17 -0.16 (9.66% relative error)<br>Density: 6.07 +0.15 -0.13 (2.42% relative error)<br>Radius: 1.169 +0.04 -0.04 (3.17% relative error)",
          "Dataset: LIV34<br>Planet: LHS 1478 b<br>Mass: 2.33 +0.20 -0.20 (8.58% relative error)<br>Density: 6.67 +0.19 -0.16 (2.80% relative error)<br>Radius: 1.242 +0.05 -0.05 (4.11% relative error)",
          "Dataset: LIV34<br>Planet: LTT 3780 b<br>Mass: 2.47 +0.24 -0.24 (9.72% relative error)<br>Density: 5.91 +0.20 -0.16 (3.32% relative error)<br>Radius: 1.32 +0.06 -0.06 (4.55% relative error)",
          "Dataset: LIV34<br>Planet: LTT 3780 c<br>Mass: 7.02 +0.69 -0.67 (9.83% relative error)<br>Density: 3.03 +0.12 -0.10 (3.95% relative error)<br>Radius: 2.33 +0.14 -0.13 (6.01% relative error)",
          "Dataset: LIV34<br>Planet: TOI-1231 b<br>Mass: 15.4 +3.30 -3.30 (21.43% relative error)<br>Density: 1.74 +0.09 -0.08 (4.90% relative error)<br>Radius: 3.65 +0.16 -0.15 (4.38% relative error)",
          "Dataset: LIV34<br>Planet: TOI-1235 b<br>Mass: 6.69 +0.67 -0.69 (10.01% relative error)<br>Density: 7.25 +0.24 -0.20 (3.25% relative error)<br>Radius: 1.694 +0.08 -0.08 (4.72% relative error)",
          "Dataset: LIV34<br>Planet: TOI-1634 b<br>Mass: 7.57 +0.71 -0.72 (9.38% relative error)<br>Density: 7.59 +0.24 -0.21 (3.18% relative error)<br>Radius: 1.773 +0.08 -0.08 (4.34% relative error)",
          "Dataset: LIV34<br>Planet: TOI-1685 b<br>Mass: 3.09 +0.59 -0.58 (19.09% relative error)<br>Density: 3.44 +0.16 -0.13 (4.54% relative error)<br>Radius: 1.7 +0.07 -0.07 (4.12% relative error)",
          "Dataset: LIV34<br>Planet: TOI-269 b<br>Mass: 8.8 +1.40 -1.40 (15.91% relative error)<br>Density: 2.28 +0.09 -0.08 (3.82% relative error)<br>Radius: 2.77 +0.12 -0.12 (4.33% relative error)",
          "Dataset: LIV34<br>Planet: TOI-270 b<br>Mass: 1.58 +0.26 -0.26 (16.46% relative error)<br>Density: 5.70 +0.22 -0.22 (3.82% relative error)<br>Radius: 1.151 +0.05 -0.05 (4.34% relative error)",
          "Dataset: LIV34<br>Planet: TOI-270 c<br>Mass: 6.14 +0.38 -0.38 (6.19% relative error)<br>Density: 2.68 +0.05 -0.05 (2.03% relative error)<br>Radius: 2.332 +0.07 -0.07 (3.09% relative error)",
          "Dataset: LIV34<br>Planet: TOI-270 d<br>Mass: 4.78 +0.46 -0.46 (9.62% relative error)<br>Density: 3.28 +0.08 -0.08 (2.49% relative error)<br>Radius: 2.005 +0.07 -0.07 (3.34% relative error)",
          "Dataset: LIV34<br>Planet: TOI-776 b<br>Mass: 4.0 +0.90 -0.90 (22.50% relative error)<br>Density: 3.40 +0.20 -0.16 (5.87% relative error)<br>Radius: 1.85 +0.13 -0.13 (7.03% relative error)",
          "Dataset: LIV34<br>Planet: TRAPPIST-1 b<br>Mass: 1.374 +0.07 -0.07 (5.02% relative error)<br>Density: 5.42 +0.05 -0.05 (0.89% relative error)<br>Radius: 1.116 +0.01 -0.01 (1.25% relative error)",
          "Dataset: LIV34<br>Planet: TRAPPIST-1 c<br>Mass: 1.308 +0.06 -0.06 (4.28% relative error)<br>Density: 5.45 +0.04 -0.04 (0.74% relative error)<br>Radius: 1.097 +0.01 -0.01 (1.28% relative error)",
          "Dataset: LIV34<br>Planet: TRAPPIST-1 d<br>Mass: 0.388 +0.01 -0.01 (3.09% relative error)<br>Density: 4.35 +0.03 -0.03 (0.65% relative error)<br>Radius: 0.788 +0.01 -0.01 (1.40% relative error)",
          "Dataset: LIV34<br>Planet: TRAPPIST-1 e<br>Mass: 0.692 +0.02 -0.02 (3.18% relative error)<br>Density: 4.88 +0.03 -0.03 (0.62% relative error)<br>Radius: 0.92 +0.01 -0.01 (1.41% relative error)",
          "Dataset: LIV34<br>Planet: TRAPPIST-1 f<br>Mass: 1.039 +0.03 -0.03 (2.98% relative error)<br>Density: 5.01 +0.03 -0.03 (0.50% relative error)<br>Radius: 1.045 +0.01 -0.01 (1.24% relative error)",
          "Dataset: LIV34<br>Planet: TRAPPIST-1 g<br>Mass: 1.321 +0.04 -0.04 (2.88% relative error)<br>Density: 5.04 +0.02 -0.03 (0.49% relative error)<br>Radius: 1.129 +0.01 -0.01 (1.33% relative error)",
          "Dataset: LIV34<br>Planet: TRAPPIST-1 h<br>Mass: 0.326 +0.02 -0.02 (6.13% relative error)<br>Density: 4.15 +0.06 -0.05 (1.41% relative error)<br>Radius: 0.755 +0.01 -0.01 (1.85% relative error)"
         ],
         "type": "scatter",
         "x": [
          1.66,
          6.26,
          1.32,
          1.86,
          1.84,
          2.82,
          5.77,
          7.49,
          8.64,
          24.5,
          4.6,
          2.42,
          2.31,
          6.38,
          1.76,
          2.33,
          2.47,
          7.02,
          15.4,
          6.69,
          7.57,
          3.09,
          8.8,
          1.58,
          6.14,
          4.78,
          4,
          1.374,
          1.308,
          0.388,
          0.692,
          1.039,
          1.321,
          0.326
         ],
         "y": [
          6.3,
          1.49,
          4.22,
          5.03,
          5.6,
          7,
          3.69,
          3.92,
          2.4,
          3.3,
          9.6,
          5.46,
          3.17,
          8.04,
          6.07,
          6.67,
          5.91,
          3.03,
          1.74,
          7.25,
          7.59,
          3.44,
          2.28,
          5.7,
          2.68,
          3.28,
          3.4,
          5.425,
          5.447,
          4.354,
          4.885,
          5.009,
          5.042,
          4.147
         ]
        },
        {
         "error_x": {
          "array": [
           0.23,
           0.86,
           0.28,
           0.3,
           0.31,
           0.11,
           0.18,
           0.24,
           1.35,
           5.7,
           0.56,
           0.35,
           0.46,
           0.46,
           0.17,
           0.2,
           0.24,
           0.69,
           3.3,
           0.67,
           0.71,
           0.59,
           1.4,
           0.26,
           0.38,
           0.46,
           0.9,
           0.069,
           0.056,
           0.012,
           0.022,
           0.031,
           0.038,
           0.02
          ],
          "arrayminus": [
           0.23,
           0.86,
           0.28,
           0.3,
           0.31,
           0.12,
           0.18,
           0.24,
           1.35,
           5.2,
           0.56,
           0.34,
           0.45,
           0.44,
           0.16,
           0.2,
           0.24,
           0.67,
           3.3,
           0.69,
           0.72,
           0.58,
           1.4,
           0.26,
           0.38,
           0.46,
           0.9,
           0.069,
           0.056,
           0.012,
           0.022,
           0.031,
           0.038,
           0.02
          ],
          "color": "rgba(169, 169, 169, 0.7)",
          "type": "data",
          "visible": true
         },
         "error_y": {
          "array": [
           0.056,
           0.2,
           0.074,
           0.05,
           0.084,
           0.063,
           0.06,
           0.07,
           0.065,
           0.12,
           0.09,
           0.07,
           0.08,
           0.046,
           0.037,
           0.051,
           0.06,
           0.14,
           0.16,
           0.08,
           0.077,
           0.07,
           0.12,
           0.05,
           0.072,
           0.067,
           0.13,
           0.014,
           0.014,
           0.011,
           0.013,
           0.013,
           0.015,
           0.014
          ],
          "arrayminus": [
           0.056,
           0.2,
           0.074,
           0.049,
           0.083,
           0.067,
           0.06,
           0.07,
           0.065,
           0.12,
           0.09,
           0.07,
           0.08,
           0.046,
           0.038,
           0.049,
           0.06,
           0.13,
           0.15,
           0.077,
           0.077,
           0.07,
           0.12,
           0.05,
           0.072,
           0.067,
           0.13,
           0.012,
           0.012,
           0.01,
           0.012,
           0.012,
           0.015,
           0.014
          ],
          "color": "rgba(169, 169, 169, 0.7)",
          "type": "data",
          "visible": true
         },
         "marker": {
          "cmax": 1200,
          "cmin": 0,
          "color": [
           529,
           576,
           1089,
           773,
           525,
           701,
           590,
           520,
           284,
           494,
           965,
           517,
           409,
           378.9,
           708.9,
           595,
           1000,
           397,
           329,
           775,
           921,
           1069,
           531,
           581,
           488,
           387,
           514,
           400.1,
           341.9,
           288,
           251.3,
           219,
           198.6,
           168
          ],
          "colorbar": {
           "title": {
            "text": "Temperature"
           }
          },
          "colorscale": [
           [
            0,
            "#000004"
           ],
           [
            0.1111111111111111,
            "#1b0c41"
           ],
           [
            0.2222222222222222,
            "#4a0c6b"
           ],
           [
            0.3333333333333333,
            "#781c6d"
           ],
           [
            0.4444444444444444,
            "#a52c60"
           ],
           [
            0.5555555555555556,
            "#cf4446"
           ],
           [
            0.6666666666666666,
            "#ed6925"
           ],
           [
            0.7777777777777778,
            "#fb9b06"
           ],
           [
            0.8888888888888888,
            "#f7d13d"
           ],
           [
            1,
            "#fcffa4"
           ]
          ],
          "showscale": true,
          "size": 12
         },
         "mode": "markers",
         "name": "LIV34",
         "text": [
          "Dataset: LIV34<br>Planet: GJ 1132 b<br>Mass: 1.66 +0.23 -0.23 (13.86% relative error)<br>Density: 6.30 +0.24 -0.24 (3.74% relative error)<br>Radius: 1.13 +0.06 -0.06 (4.96% relative error)",
          "Dataset: LIV34<br>Planet: GJ 1214 b<br>Mass: 6.26 +0.86 -0.86 (13.74% relative error)<br>Density: 1.49 +0.08 -0.06 (5.12% relative error)<br>Radius: 2.85 +0.20 -0.20 (7.02% relative error)",
          "Dataset: LIV34<br>Planet: GJ 1252 b<br>Mass: 1.32 +0.28 -0.28 (21.21% relative error)<br>Density: 4.22 +0.24 -0.20 (5.76% relative error)<br>Radius: 1.193 +0.07 -0.07 (6.20% relative error)",
          "Dataset: LIV34<br>Planet: GJ 3473 b<br>Mass: 1.86 +0.30 -0.30 (16.13% relative error)<br>Density: 5.03 +0.19 -0.17 (3.86% relative error)<br>Radius: 1.264 +0.05 -0.05 (3.96% relative error)",
          "Dataset: LIV34<br>Planet: GJ 357 b<br>Mass: 1.84 +0.31 -0.31 (16.85% relative error)<br>Density: 5.60 +0.31 -0.24 (5.51% relative error)<br>Radius: 1.217 +0.08 -0.08 (6.90% relative error)",
          "Dataset: LIV34<br>Planet: GJ 486 b<br>Mass: 2.82 +0.11 -0.12 (3.90% relative error)<br>Density: 7.00 +0.22 -0.18 (3.11% relative error)<br>Radius: 1.305 +0.06 -0.07 (4.83% relative error)",
          "Dataset: LIV34<br>Planet: K2-146 b<br>Mass: 5.77 +0.18 -0.18 (3.12% relative error)<br>Density: 3.69 +0.04 -0.04 (1.03% relative error)<br>Radius: 2.05 +0.06 -0.06 (2.93% relative error)",
          "Dataset: LIV34<br>Planet: K2-146 c<br>Mass: 7.49 +0.24 -0.24 (3.20% relative error)<br>Density: 3.92 +0.05 -0.05 (1.25% relative error)<br>Radius: 2.19 +0.07 -0.07 (3.20% relative error)",
          "Dataset: LIV34<br>Planet: K2-18 b<br>Mass: 8.64 +1.35 -1.35 (15.62% relative error)<br>Density: 2.40 +0.07 -0.07 (3.02% relative error)<br>Radius: 2.711 +0.07 -0.07 (2.40% relative error)",
          "Dataset: LIV34<br>Planet: K2-25 b<br>Mass: 24.5 +5.70 -5.20 (23.27% relative error)<br>Density: 3.30 +0.15 -0.15 (4.40% relative error)<br>Radius: 3.44 +0.12 -0.12 (3.49% relative error)",
          "Dataset: LIV34<br>Planet: L 168-9 b<br>Mass: 4.6 +0.56 -0.56 (12.17% relative error)<br>Density: 9.60 +0.44 -0.33 (4.54% relative error)<br>Radius: 1.39 +0.09 -0.09 (6.47% relative error)",
          "Dataset: LIV34<br>Planet: L 98-59 c<br>Mass: 2.42 +0.35 -0.34 (14.46% relative error)<br>Density: 5.46 +0.22 -0.19 (4.09% relative error)<br>Radius: 1.34 +0.07 -0.07 (5.22% relative error)",
          "Dataset: LIV34<br>Planet: L 98-59 d<br>Mass: 2.31 +0.46 -0.45 (19.91% relative error)<br>Density: 3.17 +0.15 -0.13 (4.87% relative error)<br>Radius: 1.58 +0.08 -0.08 (5.06% relative error)",
          "Dataset: LIV34<br>Planet: LHS 1140 b<br>Mass: 6.38 +0.46 -0.44 (7.21% relative error)<br>Density: 8.04 +0.15 -0.15 (1.90% relative error)<br>Radius: 1.635 +0.05 -0.05 (2.81% relative error)",
          "Dataset: LIV34<br>Planet: LHS 1140 c<br>Mass: 1.76 +0.17 -0.16 (9.66% relative error)<br>Density: 6.07 +0.15 -0.13 (2.42% relative error)<br>Radius: 1.169 +0.04 -0.04 (3.17% relative error)",
          "Dataset: LIV34<br>Planet: LHS 1478 b<br>Mass: 2.33 +0.20 -0.20 (8.58% relative error)<br>Density: 6.67 +0.19 -0.16 (2.80% relative error)<br>Radius: 1.242 +0.05 -0.05 (4.11% relative error)",
          "Dataset: LIV34<br>Planet: LTT 3780 b<br>Mass: 2.47 +0.24 -0.24 (9.72% relative error)<br>Density: 5.91 +0.20 -0.16 (3.32% relative error)<br>Radius: 1.32 +0.06 -0.06 (4.55% relative error)",
          "Dataset: LIV34<br>Planet: LTT 3780 c<br>Mass: 7.02 +0.69 -0.67 (9.83% relative error)<br>Density: 3.03 +0.12 -0.10 (3.95% relative error)<br>Radius: 2.33 +0.14 -0.13 (6.01% relative error)",
          "Dataset: LIV34<br>Planet: TOI-1231 b<br>Mass: 15.4 +3.30 -3.30 (21.43% relative error)<br>Density: 1.74 +0.09 -0.08 (4.90% relative error)<br>Radius: 3.65 +0.16 -0.15 (4.38% relative error)",
          "Dataset: LIV34<br>Planet: TOI-1235 b<br>Mass: 6.69 +0.67 -0.69 (10.01% relative error)<br>Density: 7.25 +0.24 -0.20 (3.25% relative error)<br>Radius: 1.694 +0.08 -0.08 (4.72% relative error)",
          "Dataset: LIV34<br>Planet: TOI-1634 b<br>Mass: 7.57 +0.71 -0.72 (9.38% relative error)<br>Density: 7.59 +0.24 -0.21 (3.18% relative error)<br>Radius: 1.773 +0.08 -0.08 (4.34% relative error)",
          "Dataset: LIV34<br>Planet: TOI-1685 b<br>Mass: 3.09 +0.59 -0.58 (19.09% relative error)<br>Density: 3.44 +0.16 -0.13 (4.54% relative error)<br>Radius: 1.7 +0.07 -0.07 (4.12% relative error)",
          "Dataset: LIV34<br>Planet: TOI-269 b<br>Mass: 8.8 +1.40 -1.40 (15.91% relative error)<br>Density: 2.28 +0.09 -0.08 (3.82% relative error)<br>Radius: 2.77 +0.12 -0.12 (4.33% relative error)",
          "Dataset: LIV34<br>Planet: TOI-270 b<br>Mass: 1.58 +0.26 -0.26 (16.46% relative error)<br>Density: 5.70 +0.22 -0.22 (3.82% relative error)<br>Radius: 1.151 +0.05 -0.05 (4.34% relative error)",
          "Dataset: LIV34<br>Planet: TOI-270 c<br>Mass: 6.14 +0.38 -0.38 (6.19% relative error)<br>Density: 2.68 +0.05 -0.05 (2.03% relative error)<br>Radius: 2.332 +0.07 -0.07 (3.09% relative error)",
          "Dataset: LIV34<br>Planet: TOI-270 d<br>Mass: 4.78 +0.46 -0.46 (9.62% relative error)<br>Density: 3.28 +0.08 -0.08 (2.49% relative error)<br>Radius: 2.005 +0.07 -0.07 (3.34% relative error)",
          "Dataset: LIV34<br>Planet: TOI-776 b<br>Mass: 4.0 +0.90 -0.90 (22.50% relative error)<br>Density: 3.40 +0.20 -0.16 (5.87% relative error)<br>Radius: 1.85 +0.13 -0.13 (7.03% relative error)",
          "Dataset: LIV34<br>Planet: TRAPPIST-1 b<br>Mass: 1.374 +0.07 -0.07 (5.02% relative error)<br>Density: 5.42 +0.05 -0.05 (0.89% relative error)<br>Radius: 1.116 +0.01 -0.01 (1.25% relative error)",
          "Dataset: LIV34<br>Planet: TRAPPIST-1 c<br>Mass: 1.308 +0.06 -0.06 (4.28% relative error)<br>Density: 5.45 +0.04 -0.04 (0.74% relative error)<br>Radius: 1.097 +0.01 -0.01 (1.28% relative error)",
          "Dataset: LIV34<br>Planet: TRAPPIST-1 d<br>Mass: 0.388 +0.01 -0.01 (3.09% relative error)<br>Density: 4.35 +0.03 -0.03 (0.65% relative error)<br>Radius: 0.788 +0.01 -0.01 (1.40% relative error)",
          "Dataset: LIV34<br>Planet: TRAPPIST-1 e<br>Mass: 0.692 +0.02 -0.02 (3.18% relative error)<br>Density: 4.88 +0.03 -0.03 (0.62% relative error)<br>Radius: 0.92 +0.01 -0.01 (1.41% relative error)",
          "Dataset: LIV34<br>Planet: TRAPPIST-1 f<br>Mass: 1.039 +0.03 -0.03 (2.98% relative error)<br>Density: 5.01 +0.03 -0.03 (0.50% relative error)<br>Radius: 1.045 +0.01 -0.01 (1.24% relative error)",
          "Dataset: LIV34<br>Planet: TRAPPIST-1 g<br>Mass: 1.321 +0.04 -0.04 (2.88% relative error)<br>Density: 5.04 +0.02 -0.03 (0.49% relative error)<br>Radius: 1.129 +0.01 -0.01 (1.33% relative error)",
          "Dataset: LIV34<br>Planet: TRAPPIST-1 h<br>Mass: 0.326 +0.02 -0.02 (6.13% relative error)<br>Density: 4.15 +0.06 -0.05 (1.41% relative error)<br>Radius: 0.755 +0.01 -0.01 (1.85% relative error)"
         ],
         "type": "scatter",
         "x": [
          1.66,
          6.26,
          1.32,
          1.86,
          1.84,
          2.82,
          5.77,
          7.49,
          8.64,
          24.5,
          4.6,
          2.42,
          2.31,
          6.38,
          1.76,
          2.33,
          2.47,
          7.02,
          15.4,
          6.69,
          7.57,
          3.09,
          8.8,
          1.58,
          6.14,
          4.78,
          4,
          1.374,
          1.308,
          0.388,
          0.692,
          1.039,
          1.321,
          0.326
         ],
         "y": [
          1.13,
          2.85,
          1.193,
          1.264,
          1.217,
          1.305,
          2.05,
          2.19,
          2.711,
          3.44,
          1.39,
          1.34,
          1.58,
          1.635,
          1.169,
          1.242,
          1.32,
          2.33,
          3.65,
          1.694,
          1.773,
          1.7,
          2.77,
          1.151,
          2.332,
          2.005,
          1.85,
          1.116,
          1.097,
          0.788,
          0.92,
          1.045,
          1.129,
          0.755
         ]
        },
        {
         "error_x": {
          "array": [
           0.05,
           0.34,
           0.48,
           0.99,
           0.65,
           0.65,
           1.4,
           0.7,
           0.26,
           0.2,
           1.36,
           0.84,
           0.24,
           0.67,
           1.21,
           1,
           1.5,
           0.3
          ],
          "arrayminus": [
           0.05,
           0.34,
           0.48,
           0.93,
           0.61,
           0.65,
           1.4,
           0.7,
           0.25,
           0.19,
           1.3,
           0.88,
           0.24,
           0.68,
           1.24,
           1,
           1.5,
           0.3
          ],
          "color": "rgba(169, 169, 169, 0.7)",
          "type": "data",
          "visible": true
         },
         "error_y": {
          "array": [
           0.23593466424682397,
           0.18148820326678766,
           0.1633393829401089,
           0.30308529945553536,
           0.038112522686025406,
           0.049001814882032674,
           0.047186932849364795,
           null,
           0.2177858439201452,
           0.12341197822141563,
           0.3720508166969147,
           0.08711433756805807,
           null,
           null,
           0.12704174228675136,
           0.3266787658802178,
           0.058076225045372055,
           0.19963702359346644
          ],
          "arrayminus": [
           0.23593466424682397,
           0.18148820326678766,
           0.14519056261343014,
           0.1960072595281307,
           0.034482758620689655,
           0.039927404718693285,
           0.047186932849364795,
           null,
           0.19963702359346644,
           0.1088929219600726,
           0.3357531760435572,
           0.07622504537205081,
           null,
           null,
           0.12341197822141563,
           0.23593466424682397,
           0.058076225045372055,
           0.19963702359346644
          ],
          "color": "rgba(169, 169, 169, 0.7)",
          "type": "data",
          "visible": true
         },
         "marker": {
          "cmax": 1200,
          "cmin": 0,
          "color": [
           1365,
           709,
           557,
           463,
           431,
           385,
           997,
           324,
           555,
           508,
           1323,
           703,
           682,
           338,
           734,
           698,
           443,
           387
          ],
          "colorbar": {
           "title": {
            "text": "Temperature"
           }
          },
          "colorscale": [
           [
            0,
            "#000004"
           ],
           [
            0.1111111111111111,
            "#1b0c41"
           ],
           [
            0.2222222222222222,
            "#4a0c6b"
           ],
           [
            0.3333333333333333,
            "#781c6d"
           ],
           [
            0.4444444444444444,
            "#a52c60"
           ],
           [
            0.5555555555555556,
            "#cf4446"
           ],
           [
            0.6666666666666666,
            "#ed6925"
           ],
           [
            0.7777777777777778,
            "#fb9b06"
           ],
           [
            0.8888888888888888,
            "#f7d13d"
           ],
           [
            1,
            "#fcffa4"
           ]
          ],
          "showscale": true,
          "size": 12
         },
         "mode": "markers",
         "name": "EA add",
         "text": [
          "Dataset: EA add<br>Planet: GJ 367 b<br>Mass: 0.633 +0.05 -0.05 (7.90% relative error)<br>Density: 10.20 +0.24 -0.24 (2.31% relative error)<br>Radius: 0.699 +0.02 -0.02 (3.43% relative error)",
          "Dataset: EA add<br>Planet: HD 260655 b<br>Mass: 2.14 +0.34 -0.34 (15.89% relative error)<br>Density: 6.20 +0.18 -0.18 (2.93% relative error)<br>Radius: 1.24 +0.02 -0.02 (1.85% relative error)",
          "Dataset: EA add<br>Planet: HD 260655 c<br>Mass: 3.09 +0.48 -0.48 (15.53% relative error)<br>Density: 4.70 +0.16 -0.15 (3.48% relative error)<br>Radius: 1.533 +0.05 -0.05 (3.33% relative error)",
          "Dataset: EA add<br>Planet: K2-3 b<br>Mass: 6.48 +0.99 -0.93 (15.28% relative error)<br>Density: 3.70 +0.30 -0.20 (8.19% relative error)<br>Radius: 2.103 +0.26 -0.26 (12.22% relative error)",
          "Dataset: EA add<br>Planet: Kepler-26 b<br>Mass: 5.12 +0.65 -0.61 (12.70% relative error)<br>Density: 1.26 +0.04 -0.03 (3.02% relative error)<br>Radius: 2.78 +0.11 -0.11 (3.96% relative error)",
          "Dataset: EA add<br>Planet: Kepler-26 c<br>Mass: 6.2 +0.65 -0.65 (10.48% relative error)<br>Density: 1.61 +0.05 -0.04 (3.04% relative error)<br>Radius: 2.72 +0.12 -0.12 (4.41% relative error)",
          "Dataset: EA add<br>Planet: Kepler-94 b<br>Mass: 10.84 +1.40 -1.40 (12.92% relative error)<br>Density: 1.45 +0.05 -0.05 (3.25% relative error)<br>Radius: 3.51 +0.15 -0.15 (4.27% relative error)",
          "Dataset: EA add<br>Planet: LP 791-18 c<br>Mass: 7.1 +0.70 -0.70 (9.86% relative error)<br>Density: 2.69 +nan -nan (nan% relative error)<br>Radius: 2.438 +0.10 -0.10 (3.94% relative error)",
          "Dataset: EA add<br>Planet: LTT 1445 A b<br>Mass: 2.87 +0.26 -0.25 (9.06% relative error)<br>Density: 7.10 +0.22 -0.20 (3.07% relative error)<br>Radius: 1.18 +0.06 -0.06 (5.08% relative error)",
          "Dataset: EA add<br>Planet: LTT 1445 A c<br>Mass: 1.54 +0.20 -0.19 (12.99% relative error)<br>Density: 5.57 +0.12 -0.11 (2.22% relative error)<br>Radius: 1.147 +0.06 -0.05 (4.80% relative error)",
          "Dataset: EA add<br>Planet: TOI-1075 b<br>Mass: 9.95 +1.36 -1.30 (13.67% relative error)<br>Density: 9.32 +0.37 -0.34 (3.99% relative error)<br>Radius: 1.791 +0.12 -0.08 (6.48% relative error)",
          "Dataset: EA add<br>Planet: TOI-1201 b<br>Mass: 6.28 +0.84 -0.88 (13.38% relative error)<br>Density: 2.45 +0.09 -0.08 (3.56% relative error)<br>Radius: 2.415 +0.09 -0.09 (3.77% relative error)",
          "Dataset: EA add<br>Planet: TOI-1468 b<br>Mass: 3.21 +0.24 -0.24 (7.48% relative error)<br>Density: 8.41 +nan -nan (nan% relative error)<br>Radius: 1.28 +0.04 -0.04 (2.97% relative error)",
          "Dataset: EA add<br>Planet: TOI-1468 c<br>Mass: 6.64 +0.67 -0.68 (10.09% relative error)<br>Density: 4.15 +nan -nan (nan% relative error)<br>Radius: 2.064 +0.04 -0.04 (2.13% relative error)",
          "Dataset: EA add<br>Planet: TOI-1470 b<br>Mass: 7.32 +1.21 -1.24 (16.53% relative error)<br>Density: 3.86 +0.13 -0.12 (3.29% relative error)<br>Radius: 2.18 +0.04 -0.04 (1.83% relative error)",
          "Dataset: EA add<br>Planet: TOI-1695 b<br>Mass: 6.36 +1.00 -1.00 (15.72% relative error)<br>Density: 5.00 +0.33 -0.24 (6.53% relative error)<br>Radius: 1.9 +0.16 -0.14 (8.42% relative error)",
          "Dataset: EA add<br>Planet: TOI-1759 b<br>Mass: 10.8 +1.50 -1.50 (13.89% relative error)<br>Density: 1.91 +0.06 -0.06 (3.04% relative error)<br>Radius: 3.14 +0.10 -0.10 (3.18% relative error)",
          "Dataset: EA add<br>Planet: TOI-244 b<br>Mass: 2.68 +0.30 -0.30 (11.19% relative error)<br>Density: 4.20 +0.20 -0.20 (4.75% relative error)<br>Radius: 1.03 +0.08 -0.08 (7.77% relative error)"
         ],
         "type": "scatter",
         "x": [
          0.633,
          2.14,
          3.09,
          6.48,
          5.12,
          6.2,
          10.84,
          7.1,
          2.87,
          1.54,
          9.95,
          6.28,
          3.21,
          6.64,
          7.32,
          6.36,
          10.8,
          2.68
         ],
         "y": [
          10.2,
          6.2,
          4.7,
          3.7,
          1.26,
          1.61,
          1.45,
          2.69,
          7.1,
          5.57,
          9.32,
          2.45,
          8.41,
          4.15,
          3.86,
          5,
          1.91,
          4.2
         ]
        },
        {
         "error_x": {
          "array": [
           0.05,
           0.34,
           0.48,
           0.99,
           0.65,
           0.65,
           1.4,
           0.7,
           0.26,
           0.2,
           1.36,
           0.84,
           0.24,
           0.67,
           1.21,
           1,
           1.5,
           0.3
          ],
          "arrayminus": [
           0.05,
           0.34,
           0.48,
           0.93,
           0.61,
           0.65,
           1.4,
           0.7,
           0.25,
           0.19,
           1.3,
           0.88,
           0.24,
           0.68,
           1.24,
           1,
           1.5,
           0.3
          ],
          "color": "rgba(169, 169, 169, 0.7)",
          "type": "data",
          "visible": true
         },
         "error_y": {
          "array": [
           0.024,
           0.023,
           0.051,
           0.257,
           0.11,
           0.12,
           0.15,
           0.096,
           0.06,
           0.055,
           0.116,
           0.091,
           0.038,
           0.044,
           0.04,
           0.16,
           0.1,
           0.08
          ],
          "arrayminus": [
           0.024,
           0.023,
           0.046,
           0.256,
           0.11,
           0.12,
           0.15,
           0.096,
           0.06,
           0.054,
           0.081,
           0.09,
           0.039,
           0.044,
           0.04,
           0.14,
           0.1,
           0.08
          ],
          "color": "rgba(169, 169, 169, 0.7)",
          "type": "data",
          "visible": true
         },
         "marker": {
          "cmax": 1200,
          "cmin": 0,
          "color": [
           1365,
           709,
           557,
           463,
           431,
           385,
           997,
           324,
           555,
           508,
           1323,
           703,
           682,
           338,
           734,
           698,
           443,
           387
          ],
          "colorbar": {
           "title": {
            "text": "Temperature"
           }
          },
          "colorscale": [
           [
            0,
            "#000004"
           ],
           [
            0.1111111111111111,
            "#1b0c41"
           ],
           [
            0.2222222222222222,
            "#4a0c6b"
           ],
           [
            0.3333333333333333,
            "#781c6d"
           ],
           [
            0.4444444444444444,
            "#a52c60"
           ],
           [
            0.5555555555555556,
            "#cf4446"
           ],
           [
            0.6666666666666666,
            "#ed6925"
           ],
           [
            0.7777777777777778,
            "#fb9b06"
           ],
           [
            0.8888888888888888,
            "#f7d13d"
           ],
           [
            1,
            "#fcffa4"
           ]
          ],
          "showscale": true,
          "size": 12
         },
         "mode": "markers",
         "name": "EA add",
         "text": [
          "Dataset: EA add<br>Planet: GJ 367 b<br>Mass: 0.633 +0.05 -0.05 (7.90% relative error)<br>Density: 10.20 +0.24 -0.24 (2.31% relative error)<br>Radius: 0.699 +0.02 -0.02 (3.43% relative error)",
          "Dataset: EA add<br>Planet: HD 260655 b<br>Mass: 2.14 +0.34 -0.34 (15.89% relative error)<br>Density: 6.20 +0.18 -0.18 (2.93% relative error)<br>Radius: 1.24 +0.02 -0.02 (1.85% relative error)",
          "Dataset: EA add<br>Planet: HD 260655 c<br>Mass: 3.09 +0.48 -0.48 (15.53% relative error)<br>Density: 4.70 +0.16 -0.15 (3.48% relative error)<br>Radius: 1.533 +0.05 -0.05 (3.33% relative error)",
          "Dataset: EA add<br>Planet: K2-3 b<br>Mass: 6.48 +0.99 -0.93 (15.28% relative error)<br>Density: 3.70 +0.30 -0.20 (8.19% relative error)<br>Radius: 2.103 +0.26 -0.26 (12.22% relative error)",
          "Dataset: EA add<br>Planet: Kepler-26 b<br>Mass: 5.12 +0.65 -0.61 (12.70% relative error)<br>Density: 1.26 +0.04 -0.03 (3.02% relative error)<br>Radius: 2.78 +0.11 -0.11 (3.96% relative error)",
          "Dataset: EA add<br>Planet: Kepler-26 c<br>Mass: 6.2 +0.65 -0.65 (10.48% relative error)<br>Density: 1.61 +0.05 -0.04 (3.04% relative error)<br>Radius: 2.72 +0.12 -0.12 (4.41% relative error)",
          "Dataset: EA add<br>Planet: Kepler-94 b<br>Mass: 10.84 +1.40 -1.40 (12.92% relative error)<br>Density: 1.45 +0.05 -0.05 (3.25% relative error)<br>Radius: 3.51 +0.15 -0.15 (4.27% relative error)",
          "Dataset: EA add<br>Planet: LP 791-18 c<br>Mass: 7.1 +0.70 -0.70 (9.86% relative error)<br>Density: 2.69 +nan -nan (nan% relative error)<br>Radius: 2.438 +0.10 -0.10 (3.94% relative error)",
          "Dataset: EA add<br>Planet: LTT 1445 A b<br>Mass: 2.87 +0.26 -0.25 (9.06% relative error)<br>Density: 7.10 +0.22 -0.20 (3.07% relative error)<br>Radius: 1.18 +0.06 -0.06 (5.08% relative error)",
          "Dataset: EA add<br>Planet: LTT 1445 A c<br>Mass: 1.54 +0.20 -0.19 (12.99% relative error)<br>Density: 5.57 +0.12 -0.11 (2.22% relative error)<br>Radius: 1.147 +0.06 -0.05 (4.80% relative error)",
          "Dataset: EA add<br>Planet: TOI-1075 b<br>Mass: 9.95 +1.36 -1.30 (13.67% relative error)<br>Density: 9.32 +0.37 -0.34 (3.99% relative error)<br>Radius: 1.791 +0.12 -0.08 (6.48% relative error)",
          "Dataset: EA add<br>Planet: TOI-1201 b<br>Mass: 6.28 +0.84 -0.88 (13.38% relative error)<br>Density: 2.45 +0.09 -0.08 (3.56% relative error)<br>Radius: 2.415 +0.09 -0.09 (3.77% relative error)",
          "Dataset: EA add<br>Planet: TOI-1468 b<br>Mass: 3.21 +0.24 -0.24 (7.48% relative error)<br>Density: 8.41 +nan -nan (nan% relative error)<br>Radius: 1.28 +0.04 -0.04 (2.97% relative error)",
          "Dataset: EA add<br>Planet: TOI-1468 c<br>Mass: 6.64 +0.67 -0.68 (10.09% relative error)<br>Density: 4.15 +nan -nan (nan% relative error)<br>Radius: 2.064 +0.04 -0.04 (2.13% relative error)",
          "Dataset: EA add<br>Planet: TOI-1470 b<br>Mass: 7.32 +1.21 -1.24 (16.53% relative error)<br>Density: 3.86 +0.13 -0.12 (3.29% relative error)<br>Radius: 2.18 +0.04 -0.04 (1.83% relative error)",
          "Dataset: EA add<br>Planet: TOI-1695 b<br>Mass: 6.36 +1.00 -1.00 (15.72% relative error)<br>Density: 5.00 +0.33 -0.24 (6.53% relative error)<br>Radius: 1.9 +0.16 -0.14 (8.42% relative error)",
          "Dataset: EA add<br>Planet: TOI-1759 b<br>Mass: 10.8 +1.50 -1.50 (13.89% relative error)<br>Density: 1.91 +0.06 -0.06 (3.04% relative error)<br>Radius: 3.14 +0.10 -0.10 (3.18% relative error)",
          "Dataset: EA add<br>Planet: TOI-244 b<br>Mass: 2.68 +0.30 -0.30 (11.19% relative error)<br>Density: 4.20 +0.20 -0.20 (4.75% relative error)<br>Radius: 1.03 +0.08 -0.08 (7.77% relative error)"
         ],
         "type": "scatter",
         "x": [
          0.633,
          2.14,
          3.09,
          6.48,
          5.12,
          6.2,
          10.84,
          7.1,
          2.87,
          1.54,
          9.95,
          6.28,
          3.21,
          6.64,
          7.32,
          6.36,
          10.8,
          2.68
         ],
         "y": [
          0.699,
          1.24,
          1.533,
          2.103,
          2.78,
          2.72,
          3.51,
          2.438,
          1.18,
          1.147,
          1.791,
          2.415,
          1.28,
          2.064,
          2.18,
          1.9,
          3.14,
          1.03
         ]
        },
        {
         "error_x": {
          "array": [
           2.07,
           0.72,
           0.05,
           0.44,
           0.34,
           0.48,
           0.99,
           0.6,
           0.05,
           1.2,
           0.3,
           0.65,
           0.65,
           1.4,
           0.7,
           0.26,
           0.2,
           1.36,
           0.84,
           1.3,
           0.24,
           0.67,
           1.21,
           1,
           1.5,
           0.3
          ],
          "arrayminus": [
           2.31,
           0.72,
           0.05,
           0.45,
           0.34,
           0.48,
           0.93,
           0.6,
           0.05,
           1.2,
           0.3,
           0.61,
           0.65,
           1.4,
           0.7,
           0.25,
           0.19,
           1.3,
           0.88,
           1.3,
           0.24,
           0.68,
           1.24,
           1,
           1.5,
           0.3
          ],
          "color": "rgba(169, 169, 169, 0.7)",
          "type": "data",
          "visible": true
         },
         "error_y": {
          "array": [
           0.047186932849364795,
           0.09437386569872959,
           0.23593466424682397,
           0.3629764065335753,
           0.18148820326678766,
           0.1633393829401089,
           0.30308529945553536,
           null,
           0.18148820326678766,
           0.3448275862068966,
           0.07985480943738657,
           0.038112522686025406,
           0.049001814882032674,
           0.047186932849364795,
           null,
           0.2177858439201452,
           0.12341197822141563,
           0.3720508166969147,
           0.08711433756805807,
           0.3266787658802178,
           null,
           null,
           0.12704174228675136,
           0.3266787658802178,
           0.058076225045372055,
           0.19963702359346644
          ],
          "arrayminus": [
           0.05263157894736842,
           0.08166969147005446,
           0.23593466424682397,
           0.3629764065335753,
           0.18148820326678766,
           0.14519056261343014,
           0.1960072595281307,
           null,
           0.15789473684210528,
           0.2722323049001815,
           0.06352087114337568,
           0.034482758620689655,
           0.039927404718693285,
           0.047186932849364795,
           null,
           0.19963702359346644,
           0.1088929219600726,
           0.3357531760435572,
           0.07622504537205081,
           0.29038112522686027,
           null,
           null,
           0.12341197822141563,
           0.23593466424682397,
           0.058076225045372055,
           0.19963702359346644
          ],
          "color": "rgba(169, 169, 169, 0.7)",
          "type": "data",
          "visible": true
         },
         "marker": {
          "cmax": 1200,
          "cmin": 0,
          "color": [
           454,
           693,
           1365,
           568,
           709,
           557,
           463,
           507,
           524,
           476,
           401,
           431,
           385,
           997,
           324,
           555,
           508,
           1323,
           703,
           326,
           682,
           338,
           734,
           698,
           443,
           387
          ],
          "colorbar": {
           "title": {
            "text": "Temperature"
           }
          },
          "colorscale": [
           [
            0,
            "#000004"
           ],
           [
            0.1111111111111111,
            "#1b0c41"
           ],
           [
            0.2222222222222222,
            "#4a0c6b"
           ],
           [
            0.3333333333333333,
            "#781c6d"
           ],
           [
            0.4444444444444444,
            "#a52c60"
           ],
           [
            0.5555555555555556,
            "#cf4446"
           ],
           [
            0.6666666666666666,
            "#ed6925"
           ],
           [
            0.7777777777777778,
            "#fb9b06"
           ],
           [
            0.8888888888888888,
            "#f7d13d"
           ],
           [
            1,
            "#fcffa4"
           ]
          ],
          "showscale": true,
          "size": 12
         },
         "mode": "markers",
         "name": "EA add 33%",
         "text": [
          "Dataset: EA add 30%<br>Planet: AU Mic c<br>Mass: 9.6 +2.07 -2.31 (21.56% relative error)<br>Density: 1.22 +0.05 -0.05 (3.87% relative error)<br>Radius: 3.24 +0.16 -0.16 (4.94% relative error)",
          "Dataset: EA add 30%<br>Planet: GJ 3090 b<br>Mass: 3.34 +0.72 -0.72 (21.56% relative error)<br>Density: 1.89 +0.09 -0.08 (4.99% relative error)<br>Radius: 2.13 +0.11 -0.11 (5.16% relative error)",
          "Dataset: EA add 30%<br>Planet: GJ 367 b<br>Mass: 0.633 +0.05 -0.05 (7.90% relative error)<br>Density: 10.20 +0.24 -0.24 (2.31% relative error)<br>Radius: 0.699 +0.02 -0.02 (3.43% relative error)",
          "Dataset: EA add 30%<br>Planet: GJ 3929 b<br>Mass: 1.75 +0.44 -0.45 (25.14% relative error)<br>Density: 7.30 +0.36 -0.36 (4.97% relative error)<br>Radius: 1.09 +0.04 -0.04 (3.67% relative error)",
          "Dataset: EA add 30%<br>Planet: HD 260655 b<br>Mass: 2.14 +0.34 -0.34 (15.89% relative error)<br>Density: 6.20 +0.18 -0.18 (2.93% relative error)<br>Radius: 1.24 +0.02 -0.02 (1.85% relative error)",
          "Dataset: EA add 30%<br>Planet: HD 260655 c<br>Mass: 3.09 +0.48 -0.48 (15.53% relative error)<br>Density: 4.70 +0.16 -0.15 (3.48% relative error)<br>Radius: 1.533 +0.05 -0.05 (3.33% relative error)",
          "Dataset: EA add 30%<br>Planet: K2-3 b<br>Mass: 6.48 +0.99 -0.93 (15.28% relative error)<br>Density: 3.70 +0.30 -0.20 (8.19% relative error)<br>Radius: 2.103 +0.26 -0.26 (12.22% relative error)",
          "Dataset: EA add 30%<br>Planet: Kepler-114 c<br>Mass: 2.8 +0.60 -0.60 (21.43% relative error)<br>Density: 3.76 +nan -nan (nan% relative error)<br>Radius: 1.6 +0.18 -0.18 (11.25% relative error)",
          "Dataset: EA add 30%<br>Planet: Kepler-138 b<br>Mass: 0.187 +0.05 -0.05 (26.74% relative error)<br>Density: 3.02 +0.18 -0.16 (6.01% relative error)<br>Radius: 0.701 +0.07 -0.07 (9.42% relative error)",
          "Dataset: EA add 30%<br>Planet: Kepler-138 c<br>Mass: 5.2 +1.20 -1.20 (23.08% relative error)<br>Density: 6.10 +0.34 -0.27 (5.65% relative error)<br>Radius: 1.67 +0.15 -0.15 (8.98% relative error)",
          "Dataset: EA add 30%<br>Planet: Kepler-138 d<br>Mass: 1.17 +0.30 -0.30 (25.64% relative error)<br>Density: 1.36 +0.08 -0.06 (5.87% relative error)<br>Radius: 1.68 +0.15 -0.15 (8.93% relative error)",
          "Dataset: EA add 30%<br>Planet: Kepler-26 b<br>Mass: 5.12 +0.65 -0.61 (12.70% relative error)<br>Density: 1.26 +0.04 -0.03 (3.02% relative error)<br>Radius: 2.78 +0.11 -0.11 (3.96% relative error)",
          "Dataset: EA add 30%<br>Planet: Kepler-26 c<br>Mass: 6.2 +0.65 -0.65 (10.48% relative error)<br>Density: 1.61 +0.05 -0.04 (3.04% relative error)<br>Radius: 2.72 +0.12 -0.12 (4.41% relative error)",
          "Dataset: EA add 30%<br>Planet: Kepler-94 b<br>Mass: 10.84 +1.40 -1.40 (12.92% relative error)<br>Density: 1.45 +0.05 -0.05 (3.25% relative error)<br>Radius: 3.51 +0.15 -0.15 (4.27% relative error)",
          "Dataset: EA add 30%<br>Planet: LP 791-18 c<br>Mass: 7.1 +0.70 -0.70 (9.86% relative error)<br>Density: 2.69 +nan -nan (nan% relative error)<br>Radius: 2.438 +0.10 -0.10 (3.94% relative error)",
          "Dataset: EA add 30%<br>Planet: LTT 1445 A b<br>Mass: 2.87 +0.26 -0.25 (9.06% relative error)<br>Density: 7.10 +0.22 -0.20 (3.07% relative error)<br>Radius: 1.18 +0.06 -0.06 (5.08% relative error)",
          "Dataset: EA add 30%<br>Planet: LTT 1445 A c<br>Mass: 1.54 +0.20 -0.19 (12.99% relative error)<br>Density: 5.57 +0.12 -0.11 (2.22% relative error)<br>Radius: 1.147 +0.06 -0.05 (4.80% relative error)",
          "Dataset: EA add 30%<br>Planet: TOI-1075 b<br>Mass: 9.95 +1.36 -1.30 (13.67% relative error)<br>Density: 9.32 +0.37 -0.34 (3.99% relative error)<br>Radius: 1.791 +0.12 -0.08 (6.48% relative error)",
          "Dataset: EA add 30%<br>Planet: TOI-1201 b<br>Mass: 6.28 +0.84 -0.88 (13.38% relative error)<br>Density: 2.45 +0.09 -0.08 (3.56% relative error)<br>Radius: 2.415 +0.09 -0.09 (3.77% relative error)",
          "Dataset: EA add 30%<br>Planet: TOI-1452 b<br>Mass: 4.82 +1.30 -1.30 (26.97% relative error)<br>Density: 5.60 +0.33 -0.29 (5.83% relative error)<br>Radius: 1.672 +0.07 -0.07 (4.25% relative error)",
          "Dataset: EA add 30%<br>Planet: TOI-1468 b<br>Mass: 3.21 +0.24 -0.24 (7.48% relative error)<br>Density: 8.41 +nan -nan (nan% relative error)<br>Radius: 1.28 +0.04 -0.04 (2.97% relative error)",
          "Dataset: EA add 30%<br>Planet: TOI-1468 c<br>Mass: 6.64 +0.67 -0.68 (10.09% relative error)<br>Density: 4.15 +nan -nan (nan% relative error)<br>Radius: 2.064 +0.04 -0.04 (2.13% relative error)",
          "Dataset: EA add 30%<br>Planet: TOI-1470 b<br>Mass: 7.32 +1.21 -1.24 (16.53% relative error)<br>Density: 3.86 +0.13 -0.12 (3.29% relative error)<br>Radius: 2.18 +0.04 -0.04 (1.83% relative error)",
          "Dataset: EA add 30%<br>Planet: TOI-1695 b<br>Mass: 6.36 +1.00 -1.00 (15.72% relative error)<br>Density: 5.00 +0.33 -0.24 (6.53% relative error)<br>Radius: 1.9 +0.16 -0.14 (8.42% relative error)",
          "Dataset: EA add 30%<br>Planet: TOI-1759 b<br>Mass: 10.8 +1.50 -1.50 (13.89% relative error)<br>Density: 1.91 +0.06 -0.06 (3.04% relative error)<br>Radius: 3.14 +0.10 -0.10 (3.18% relative error)",
          "Dataset: EA add 30%<br>Planet: TOI-244 b<br>Mass: 2.68 +0.30 -0.30 (11.19% relative error)<br>Density: 4.20 +0.20 -0.20 (4.75% relative error)<br>Radius: 1.03 +0.08 -0.08 (7.77% relative error)"
         ],
         "type": "scatter",
         "x": [
          9.6,
          3.34,
          0.633,
          1.75,
          2.14,
          3.09,
          6.48,
          2.8,
          0.187,
          5.2,
          1.17,
          5.12,
          6.2,
          10.84,
          7.1,
          2.87,
          1.54,
          9.95,
          6.28,
          4.82,
          3.21,
          6.64,
          7.32,
          6.36,
          10.8,
          2.68
         ],
         "y": [
          1.22,
          1.89,
          10.2,
          7.3,
          6.2,
          4.7,
          3.7,
          3.76,
          3.02,
          6.1,
          1.36,
          1.26,
          1.61,
          1.45,
          2.69,
          7.1,
          5.57,
          9.32,
          2.45,
          5.6,
          8.41,
          4.15,
          3.86,
          5,
          1.91,
          4.2
         ]
        },
        {
         "error_x": {
          "array": [
           2.07,
           0.72,
           0.05,
           0.44,
           0.34,
           0.48,
           0.99,
           0.6,
           0.05,
           1.2,
           0.3,
           0.65,
           0.65,
           1.4,
           0.7,
           0.26,
           0.2,
           1.36,
           0.84,
           1.3,
           0.24,
           0.67,
           1.21,
           1,
           1.5,
           0.3
          ],
          "arrayminus": [
           2.31,
           0.72,
           0.05,
           0.45,
           0.34,
           0.48,
           0.93,
           0.6,
           0.05,
           1.2,
           0.3,
           0.61,
           0.65,
           1.4,
           0.7,
           0.25,
           0.19,
           1.3,
           0.88,
           1.3,
           0.24,
           0.68,
           1.24,
           1,
           1.5,
           0.3
          ],
          "color": "rgba(169, 169, 169, 0.7)",
          "type": "data",
          "visible": true
         },
         "error_y": {
          "array": [
           0.16,
           0.11,
           0.024,
           0.04,
           0.023,
           0.051,
           0.257,
           0.18,
           0.066,
           0.15,
           0.15,
           0.11,
           0.12,
           0.15,
           0.096,
           0.06,
           0.055,
           0.116,
           0.091,
           0.071,
           0.038,
           0.044,
           0.04,
           0.16,
           0.1,
           0.08
          ],
          "arrayminus": [
           0.16,
           0.11,
           0.024,
           0.04,
           0.023,
           0.046,
           0.256,
           0.18,
           0.066,
           0.15,
           0.15,
           0.11,
           0.12,
           0.15,
           0.096,
           0.06,
           0.054,
           0.081,
           0.09,
           0.071,
           0.039,
           0.044,
           0.04,
           0.14,
           0.1,
           0.08
          ],
          "color": "rgba(169, 169, 169, 0.7)",
          "type": "data",
          "visible": true
         },
         "marker": {
          "cmax": 1200,
          "cmin": 0,
          "color": [
           454,
           693,
           1365,
           568,
           709,
           557,
           463,
           507,
           524,
           476,
           401,
           431,
           385,
           997,
           324,
           555,
           508,
           1323,
           703,
           326,
           682,
           338,
           734,
           698,
           443,
           387
          ],
          "colorbar": {
           "title": {
            "text": "Temperature"
           }
          },
          "colorscale": [
           [
            0,
            "#000004"
           ],
           [
            0.1111111111111111,
            "#1b0c41"
           ],
           [
            0.2222222222222222,
            "#4a0c6b"
           ],
           [
            0.3333333333333333,
            "#781c6d"
           ],
           [
            0.4444444444444444,
            "#a52c60"
           ],
           [
            0.5555555555555556,
            "#cf4446"
           ],
           [
            0.6666666666666666,
            "#ed6925"
           ],
           [
            0.7777777777777778,
            "#fb9b06"
           ],
           [
            0.8888888888888888,
            "#f7d13d"
           ],
           [
            1,
            "#fcffa4"
           ]
          ],
          "showscale": true,
          "size": 12
         },
         "mode": "markers",
         "name": "EA add 33%",
         "text": [
          "Dataset: EA add 30%<br>Planet: AU Mic c<br>Mass: 9.6 +2.07 -2.31 (21.56% relative error)<br>Density: 1.22 +0.05 -0.05 (3.87% relative error)<br>Radius: 3.24 +0.16 -0.16 (4.94% relative error)",
          "Dataset: EA add 30%<br>Planet: GJ 3090 b<br>Mass: 3.34 +0.72 -0.72 (21.56% relative error)<br>Density: 1.89 +0.09 -0.08 (4.99% relative error)<br>Radius: 2.13 +0.11 -0.11 (5.16% relative error)",
          "Dataset: EA add 30%<br>Planet: GJ 367 b<br>Mass: 0.633 +0.05 -0.05 (7.90% relative error)<br>Density: 10.20 +0.24 -0.24 (2.31% relative error)<br>Radius: 0.699 +0.02 -0.02 (3.43% relative error)",
          "Dataset: EA add 30%<br>Planet: GJ 3929 b<br>Mass: 1.75 +0.44 -0.45 (25.14% relative error)<br>Density: 7.30 +0.36 -0.36 (4.97% relative error)<br>Radius: 1.09 +0.04 -0.04 (3.67% relative error)",
          "Dataset: EA add 30%<br>Planet: HD 260655 b<br>Mass: 2.14 +0.34 -0.34 (15.89% relative error)<br>Density: 6.20 +0.18 -0.18 (2.93% relative error)<br>Radius: 1.24 +0.02 -0.02 (1.85% relative error)",
          "Dataset: EA add 30%<br>Planet: HD 260655 c<br>Mass: 3.09 +0.48 -0.48 (15.53% relative error)<br>Density: 4.70 +0.16 -0.15 (3.48% relative error)<br>Radius: 1.533 +0.05 -0.05 (3.33% relative error)",
          "Dataset: EA add 30%<br>Planet: K2-3 b<br>Mass: 6.48 +0.99 -0.93 (15.28% relative error)<br>Density: 3.70 +0.30 -0.20 (8.19% relative error)<br>Radius: 2.103 +0.26 -0.26 (12.22% relative error)",
          "Dataset: EA add 30%<br>Planet: Kepler-114 c<br>Mass: 2.8 +0.60 -0.60 (21.43% relative error)<br>Density: 3.76 +nan -nan (nan% relative error)<br>Radius: 1.6 +0.18 -0.18 (11.25% relative error)",
          "Dataset: EA add 30%<br>Planet: Kepler-138 b<br>Mass: 0.187 +0.05 -0.05 (26.74% relative error)<br>Density: 3.02 +0.18 -0.16 (6.01% relative error)<br>Radius: 0.701 +0.07 -0.07 (9.42% relative error)",
          "Dataset: EA add 30%<br>Planet: Kepler-138 c<br>Mass: 5.2 +1.20 -1.20 (23.08% relative error)<br>Density: 6.10 +0.34 -0.27 (5.65% relative error)<br>Radius: 1.67 +0.15 -0.15 (8.98% relative error)",
          "Dataset: EA add 30%<br>Planet: Kepler-138 d<br>Mass: 1.17 +0.30 -0.30 (25.64% relative error)<br>Density: 1.36 +0.08 -0.06 (5.87% relative error)<br>Radius: 1.68 +0.15 -0.15 (8.93% relative error)",
          "Dataset: EA add 30%<br>Planet: Kepler-26 b<br>Mass: 5.12 +0.65 -0.61 (12.70% relative error)<br>Density: 1.26 +0.04 -0.03 (3.02% relative error)<br>Radius: 2.78 +0.11 -0.11 (3.96% relative error)",
          "Dataset: EA add 30%<br>Planet: Kepler-26 c<br>Mass: 6.2 +0.65 -0.65 (10.48% relative error)<br>Density: 1.61 +0.05 -0.04 (3.04% relative error)<br>Radius: 2.72 +0.12 -0.12 (4.41% relative error)",
          "Dataset: EA add 30%<br>Planet: Kepler-94 b<br>Mass: 10.84 +1.40 -1.40 (12.92% relative error)<br>Density: 1.45 +0.05 -0.05 (3.25% relative error)<br>Radius: 3.51 +0.15 -0.15 (4.27% relative error)",
          "Dataset: EA add 30%<br>Planet: LP 791-18 c<br>Mass: 7.1 +0.70 -0.70 (9.86% relative error)<br>Density: 2.69 +nan -nan (nan% relative error)<br>Radius: 2.438 +0.10 -0.10 (3.94% relative error)",
          "Dataset: EA add 30%<br>Planet: LTT 1445 A b<br>Mass: 2.87 +0.26 -0.25 (9.06% relative error)<br>Density: 7.10 +0.22 -0.20 (3.07% relative error)<br>Radius: 1.18 +0.06 -0.06 (5.08% relative error)",
          "Dataset: EA add 30%<br>Planet: LTT 1445 A c<br>Mass: 1.54 +0.20 -0.19 (12.99% relative error)<br>Density: 5.57 +0.12 -0.11 (2.22% relative error)<br>Radius: 1.147 +0.06 -0.05 (4.80% relative error)",
          "Dataset: EA add 30%<br>Planet: TOI-1075 b<br>Mass: 9.95 +1.36 -1.30 (13.67% relative error)<br>Density: 9.32 +0.37 -0.34 (3.99% relative error)<br>Radius: 1.791 +0.12 -0.08 (6.48% relative error)",
          "Dataset: EA add 30%<br>Planet: TOI-1201 b<br>Mass: 6.28 +0.84 -0.88 (13.38% relative error)<br>Density: 2.45 +0.09 -0.08 (3.56% relative error)<br>Radius: 2.415 +0.09 -0.09 (3.77% relative error)",
          "Dataset: EA add 30%<br>Planet: TOI-1452 b<br>Mass: 4.82 +1.30 -1.30 (26.97% relative error)<br>Density: 5.60 +0.33 -0.29 (5.83% relative error)<br>Radius: 1.672 +0.07 -0.07 (4.25% relative error)",
          "Dataset: EA add 30%<br>Planet: TOI-1468 b<br>Mass: 3.21 +0.24 -0.24 (7.48% relative error)<br>Density: 8.41 +nan -nan (nan% relative error)<br>Radius: 1.28 +0.04 -0.04 (2.97% relative error)",
          "Dataset: EA add 30%<br>Planet: TOI-1468 c<br>Mass: 6.64 +0.67 -0.68 (10.09% relative error)<br>Density: 4.15 +nan -nan (nan% relative error)<br>Radius: 2.064 +0.04 -0.04 (2.13% relative error)",
          "Dataset: EA add 30%<br>Planet: TOI-1470 b<br>Mass: 7.32 +1.21 -1.24 (16.53% relative error)<br>Density: 3.86 +0.13 -0.12 (3.29% relative error)<br>Radius: 2.18 +0.04 -0.04 (1.83% relative error)",
          "Dataset: EA add 30%<br>Planet: TOI-1695 b<br>Mass: 6.36 +1.00 -1.00 (15.72% relative error)<br>Density: 5.00 +0.33 -0.24 (6.53% relative error)<br>Radius: 1.9 +0.16 -0.14 (8.42% relative error)",
          "Dataset: EA add 30%<br>Planet: TOI-1759 b<br>Mass: 10.8 +1.50 -1.50 (13.89% relative error)<br>Density: 1.91 +0.06 -0.06 (3.04% relative error)<br>Radius: 3.14 +0.10 -0.10 (3.18% relative error)",
          "Dataset: EA add 30%<br>Planet: TOI-244 b<br>Mass: 2.68 +0.30 -0.30 (11.19% relative error)<br>Density: 4.20 +0.20 -0.20 (4.75% relative error)<br>Radius: 1.03 +0.08 -0.08 (7.77% relative error)"
         ],
         "type": "scatter",
         "x": [
          9.6,
          3.34,
          0.633,
          1.75,
          2.14,
          3.09,
          6.48,
          2.8,
          0.187,
          5.2,
          1.17,
          5.12,
          6.2,
          10.84,
          7.1,
          2.87,
          1.54,
          9.95,
          6.28,
          4.82,
          3.21,
          6.64,
          7.32,
          6.36,
          10.8,
          2.68
         ],
         "y": [
          3.24,
          2.13,
          0.699,
          1.09,
          1.24,
          1.533,
          2.103,
          1.6,
          0.701,
          1.67,
          1.68,
          2.78,
          2.72,
          3.51,
          2.438,
          1.18,
          1.147,
          1.791,
          2.415,
          1.672,
          1.28,
          2.064,
          2.18,
          1.9,
          3.14,
          1.03
         ]
        }
       ],
       "layout": {
        "coloraxis": {
         "cmax": 1300,
         "cmin": 0,
         "colorscale": [
          [
           0,
           "#000004"
          ],
          [
           0.1111111111111111,
           "#1b0c41"
          ],
          [
           0.2222222222222222,
           "#4a0c6b"
          ],
          [
           0.3333333333333333,
           "#781c6d"
          ],
          [
           0.4444444444444444,
           "#a52c60"
          ],
          [
           0.5555555555555556,
           "#cf4446"
          ],
          [
           0.6666666666666666,
           "#ed6925"
          ],
          [
           0.7777777777777778,
           "#fb9b06"
          ],
          [
           0.8888888888888888,
           "#f7d13d"
          ],
          [
           1,
           "#fcffa4"
          ]
         ]
        },
        "height": 600,
        "legend": {
         "x": 1.2,
         "y": 1
        },
        "margin": {
         "b": 100,
         "l": 10,
         "r": 10,
         "t": 100
        },
        "template": {
         "data": {
          "bar": [
           {
            "error_x": {
             "color": "#2a3f5f"
            },
            "error_y": {
             "color": "#2a3f5f"
            },
            "marker": {
             "line": {
              "color": "#E5ECF6",
              "width": 0.5
             },
             "pattern": {
              "fillmode": "overlay",
              "size": 10,
              "solidity": 0.2
             }
            },
            "type": "bar"
           }
          ],
          "barpolar": [
           {
            "marker": {
             "line": {
              "color": "#E5ECF6",
              "width": 0.5
             },
             "pattern": {
              "fillmode": "overlay",
              "size": 10,
              "solidity": 0.2
             }
            },
            "type": "barpolar"
           }
          ],
          "carpet": [
           {
            "aaxis": {
             "endlinecolor": "#2a3f5f",
             "gridcolor": "white",
             "linecolor": "white",
             "minorgridcolor": "white",
             "startlinecolor": "#2a3f5f"
            },
            "baxis": {
             "endlinecolor": "#2a3f5f",
             "gridcolor": "white",
             "linecolor": "white",
             "minorgridcolor": "white",
             "startlinecolor": "#2a3f5f"
            },
            "type": "carpet"
           }
          ],
          "choropleth": [
           {
            "colorbar": {
             "outlinewidth": 0,
             "ticks": ""
            },
            "type": "choropleth"
           }
          ],
          "contour": [
           {
            "colorbar": {
             "outlinewidth": 0,
             "ticks": ""
            },
            "colorscale": [
             [
              0,
              "#0d0887"
             ],
             [
              0.1111111111111111,
              "#46039f"
             ],
             [
              0.2222222222222222,
              "#7201a8"
             ],
             [
              0.3333333333333333,
              "#9c179e"
             ],
             [
              0.4444444444444444,
              "#bd3786"
             ],
             [
              0.5555555555555556,
              "#d8576b"
             ],
             [
              0.6666666666666666,
              "#ed7953"
             ],
             [
              0.7777777777777778,
              "#fb9f3a"
             ],
             [
              0.8888888888888888,
              "#fdca26"
             ],
             [
              1,
              "#f0f921"
             ]
            ],
            "type": "contour"
           }
          ],
          "contourcarpet": [
           {
            "colorbar": {
             "outlinewidth": 0,
             "ticks": ""
            },
            "type": "contourcarpet"
           }
          ],
          "heatmap": [
           {
            "colorbar": {
             "outlinewidth": 0,
             "ticks": ""
            },
            "colorscale": [
             [
              0,
              "#0d0887"
             ],
             [
              0.1111111111111111,
              "#46039f"
             ],
             [
              0.2222222222222222,
              "#7201a8"
             ],
             [
              0.3333333333333333,
              "#9c179e"
             ],
             [
              0.4444444444444444,
              "#bd3786"
             ],
             [
              0.5555555555555556,
              "#d8576b"
             ],
             [
              0.6666666666666666,
              "#ed7953"
             ],
             [
              0.7777777777777778,
              "#fb9f3a"
             ],
             [
              0.8888888888888888,
              "#fdca26"
             ],
             [
              1,
              "#f0f921"
             ]
            ],
            "type": "heatmap"
           }
          ],
          "heatmapgl": [
           {
            "colorbar": {
             "outlinewidth": 0,
             "ticks": ""
            },
            "colorscale": [
             [
              0,
              "#0d0887"
             ],
             [
              0.1111111111111111,
              "#46039f"
             ],
             [
              0.2222222222222222,
              "#7201a8"
             ],
             [
              0.3333333333333333,
              "#9c179e"
             ],
             [
              0.4444444444444444,
              "#bd3786"
             ],
             [
              0.5555555555555556,
              "#d8576b"
             ],
             [
              0.6666666666666666,
              "#ed7953"
             ],
             [
              0.7777777777777778,
              "#fb9f3a"
             ],
             [
              0.8888888888888888,
              "#fdca26"
             ],
             [
              1,
              "#f0f921"
             ]
            ],
            "type": "heatmapgl"
           }
          ],
          "histogram": [
           {
            "marker": {
             "pattern": {
              "fillmode": "overlay",
              "size": 10,
              "solidity": 0.2
             }
            },
            "type": "histogram"
           }
          ],
          "histogram2d": [
           {
            "colorbar": {
             "outlinewidth": 0,
             "ticks": ""
            },
            "colorscale": [
             [
              0,
              "#0d0887"
             ],
             [
              0.1111111111111111,
              "#46039f"
             ],
             [
              0.2222222222222222,
              "#7201a8"
             ],
             [
              0.3333333333333333,
              "#9c179e"
             ],
             [
              0.4444444444444444,
              "#bd3786"
             ],
             [
              0.5555555555555556,
              "#d8576b"
             ],
             [
              0.6666666666666666,
              "#ed7953"
             ],
             [
              0.7777777777777778,
              "#fb9f3a"
             ],
             [
              0.8888888888888888,
              "#fdca26"
             ],
             [
              1,
              "#f0f921"
             ]
            ],
            "type": "histogram2d"
           }
          ],
          "histogram2dcontour": [
           {
            "colorbar": {
             "outlinewidth": 0,
             "ticks": ""
            },
            "colorscale": [
             [
              0,
              "#0d0887"
             ],
             [
              0.1111111111111111,
              "#46039f"
             ],
             [
              0.2222222222222222,
              "#7201a8"
             ],
             [
              0.3333333333333333,
              "#9c179e"
             ],
             [
              0.4444444444444444,
              "#bd3786"
             ],
             [
              0.5555555555555556,
              "#d8576b"
             ],
             [
              0.6666666666666666,
              "#ed7953"
             ],
             [
              0.7777777777777778,
              "#fb9f3a"
             ],
             [
              0.8888888888888888,
              "#fdca26"
             ],
             [
              1,
              "#f0f921"
             ]
            ],
            "type": "histogram2dcontour"
           }
          ],
          "mesh3d": [
           {
            "colorbar": {
             "outlinewidth": 0,
             "ticks": ""
            },
            "type": "mesh3d"
           }
          ],
          "parcoords": [
           {
            "line": {
             "colorbar": {
              "outlinewidth": 0,
              "ticks": ""
             }
            },
            "type": "parcoords"
           }
          ],
          "pie": [
           {
            "automargin": true,
            "type": "pie"
           }
          ],
          "scatter": [
           {
            "fillpattern": {
             "fillmode": "overlay",
             "size": 10,
             "solidity": 0.2
            },
            "type": "scatter"
           }
          ],
          "scatter3d": [
           {
            "line": {
             "colorbar": {
              "outlinewidth": 0,
              "ticks": ""
             }
            },
            "marker": {
             "colorbar": {
              "outlinewidth": 0,
              "ticks": ""
             }
            },
            "type": "scatter3d"
           }
          ],
          "scattercarpet": [
           {
            "marker": {
             "colorbar": {
              "outlinewidth": 0,
              "ticks": ""
             }
            },
            "type": "scattercarpet"
           }
          ],
          "scattergeo": [
           {
            "marker": {
             "colorbar": {
              "outlinewidth": 0,
              "ticks": ""
             }
            },
            "type": "scattergeo"
           }
          ],
          "scattergl": [
           {
            "marker": {
             "colorbar": {
              "outlinewidth": 0,
              "ticks": ""
             }
            },
            "type": "scattergl"
           }
          ],
          "scattermapbox": [
           {
            "marker": {
             "colorbar": {
              "outlinewidth": 0,
              "ticks": ""
             }
            },
            "type": "scattermapbox"
           }
          ],
          "scatterpolar": [
           {
            "marker": {
             "colorbar": {
              "outlinewidth": 0,
              "ticks": ""
             }
            },
            "type": "scatterpolar"
           }
          ],
          "scatterpolargl": [
           {
            "marker": {
             "colorbar": {
              "outlinewidth": 0,
              "ticks": ""
             }
            },
            "type": "scatterpolargl"
           }
          ],
          "scatterternary": [
           {
            "marker": {
             "colorbar": {
              "outlinewidth": 0,
              "ticks": ""
             }
            },
            "type": "scatterternary"
           }
          ],
          "surface": [
           {
            "colorbar": {
             "outlinewidth": 0,
             "ticks": ""
            },
            "colorscale": [
             [
              0,
              "#0d0887"
             ],
             [
              0.1111111111111111,
              "#46039f"
             ],
             [
              0.2222222222222222,
              "#7201a8"
             ],
             [
              0.3333333333333333,
              "#9c179e"
             ],
             [
              0.4444444444444444,
              "#bd3786"
             ],
             [
              0.5555555555555556,
              "#d8576b"
             ],
             [
              0.6666666666666666,
              "#ed7953"
             ],
             [
              0.7777777777777778,
              "#fb9f3a"
             ],
             [
              0.8888888888888888,
              "#fdca26"
             ],
             [
              1,
              "#f0f921"
             ]
            ],
            "type": "surface"
           }
          ],
          "table": [
           {
            "cells": {
             "fill": {
              "color": "#EBF0F8"
             },
             "line": {
              "color": "white"
             }
            },
            "header": {
             "fill": {
              "color": "#C8D4E3"
             },
             "line": {
              "color": "white"
             }
            },
            "type": "table"
           }
          ]
         },
         "layout": {
          "annotationdefaults": {
           "arrowcolor": "#2a3f5f",
           "arrowhead": 0,
           "arrowwidth": 1
          },
          "autotypenumbers": "strict",
          "coloraxis": {
           "colorbar": {
            "outlinewidth": 0,
            "ticks": ""
           }
          },
          "colorscale": {
           "diverging": [
            [
             0,
             "#8e0152"
            ],
            [
             0.1,
             "#c51b7d"
            ],
            [
             0.2,
             "#de77ae"
            ],
            [
             0.3,
             "#f1b6da"
            ],
            [
             0.4,
             "#fde0ef"
            ],
            [
             0.5,
             "#f7f7f7"
            ],
            [
             0.6,
             "#e6f5d0"
            ],
            [
             0.7,
             "#b8e186"
            ],
            [
             0.8,
             "#7fbc41"
            ],
            [
             0.9,
             "#4d9221"
            ],
            [
             1,
             "#276419"
            ]
           ],
           "sequential": [
            [
             0,
             "#0d0887"
            ],
            [
             0.1111111111111111,
             "#46039f"
            ],
            [
             0.2222222222222222,
             "#7201a8"
            ],
            [
             0.3333333333333333,
             "#9c179e"
            ],
            [
             0.4444444444444444,
             "#bd3786"
            ],
            [
             0.5555555555555556,
             "#d8576b"
            ],
            [
             0.6666666666666666,
             "#ed7953"
            ],
            [
             0.7777777777777778,
             "#fb9f3a"
            ],
            [
             0.8888888888888888,
             "#fdca26"
            ],
            [
             1,
             "#f0f921"
            ]
           ],
           "sequentialminus": [
            [
             0,
             "#0d0887"
            ],
            [
             0.1111111111111111,
             "#46039f"
            ],
            [
             0.2222222222222222,
             "#7201a8"
            ],
            [
             0.3333333333333333,
             "#9c179e"
            ],
            [
             0.4444444444444444,
             "#bd3786"
            ],
            [
             0.5555555555555556,
             "#d8576b"
            ],
            [
             0.6666666666666666,
             "#ed7953"
            ],
            [
             0.7777777777777778,
             "#fb9f3a"
            ],
            [
             0.8888888888888888,
             "#fdca26"
            ],
            [
             1,
             "#f0f921"
            ]
           ]
          },
          "colorway": [
           "#636efa",
           "#EF553B",
           "#00cc96",
           "#ab63fa",
           "#FFA15A",
           "#19d3f3",
           "#FF6692",
           "#B6E880",
           "#FF97FF",
           "#FECB52"
          ],
          "font": {
           "color": "#2a3f5f"
          },
          "geo": {
           "bgcolor": "white",
           "lakecolor": "white",
           "landcolor": "#E5ECF6",
           "showlakes": true,
           "showland": true,
           "subunitcolor": "white"
          },
          "hoverlabel": {
           "align": "left"
          },
          "hovermode": "closest",
          "mapbox": {
           "style": "light"
          },
          "paper_bgcolor": "white",
          "plot_bgcolor": "#E5ECF6",
          "polar": {
           "angularaxis": {
            "gridcolor": "white",
            "linecolor": "white",
            "ticks": ""
           },
           "bgcolor": "#E5ECF6",
           "radialaxis": {
            "gridcolor": "white",
            "linecolor": "white",
            "ticks": ""
           }
          },
          "scene": {
           "xaxis": {
            "backgroundcolor": "#E5ECF6",
            "gridcolor": "white",
            "gridwidth": 2,
            "linecolor": "white",
            "showbackground": true,
            "ticks": "",
            "zerolinecolor": "white"
           },
           "yaxis": {
            "backgroundcolor": "#E5ECF6",
            "gridcolor": "white",
            "gridwidth": 2,
            "linecolor": "white",
            "showbackground": true,
            "ticks": "",
            "zerolinecolor": "white"
           },
           "zaxis": {
            "backgroundcolor": "#E5ECF6",
            "gridcolor": "white",
            "gridwidth": 2,
            "linecolor": "white",
            "showbackground": true,
            "ticks": "",
            "zerolinecolor": "white"
           }
          },
          "shapedefaults": {
           "line": {
            "color": "#2a3f5f"
           }
          },
          "ternary": {
           "aaxis": {
            "gridcolor": "white",
            "linecolor": "white",
            "ticks": ""
           },
           "baxis": {
            "gridcolor": "white",
            "linecolor": "white",
            "ticks": ""
           },
           "bgcolor": "#E5ECF6",
           "caxis": {
            "gridcolor": "white",
            "linecolor": "white",
            "ticks": ""
           }
          },
          "title": {
           "x": 0.05
          },
          "xaxis": {
           "automargin": true,
           "gridcolor": "white",
           "linecolor": "white",
           "ticks": "",
           "title": {
            "standoff": 15
           },
           "zerolinecolor": "white",
           "zerolinewidth": 2
          },
          "yaxis": {
           "automargin": true,
           "gridcolor": "white",
           "linecolor": "white",
           "ticks": "",
           "title": {
            "standoff": 15
           },
           "zerolinecolor": "white",
           "zerolinewidth": 2
          }
         }
        },
        "title": {
         "text": "Mass vs. Density"
        },
        "updatemenus": [
         {
          "buttons": [
           {
            "args": [
             {
              "visible": [
               true,
               false,
               true,
               false,
               true,
               false
              ]
             },
             {
              "title": "Mass vs. Density"
             }
            ],
            "label": "Mass-Radius",
            "method": "update"
           },
           {
            "args": [
             {
              "visible": [
               false,
               true,
               false,
               true,
               false,
               true
              ]
             },
             {
              "title": "Mass vs. Radius"
             }
            ],
            "label": "Mass-Density",
            "method": "update"
           }
          ],
          "direction": "down",
          "showactive": true,
          "x": 0.7,
          "xanchor": "left",
          "yanchor": "top"
         }
        ],
        "width": 900,
        "xaxis": {
         "title": {
          "text": "$Mass\\ [M_{\\oplus}]$"
         },
         "type": "log"
        },
        "xaxis2": {
         "title": {
          "text": "$Mass\\ [M_{\\oplus}]$"
         }
        },
        "yaxis": {
         "title": {
          "text": "$Bulk\\ Density\\ [ρ_{bulk}/ρ_{\\oplus}]$"
         }
        },
        "yaxis2": {
         "title": {
          "text": "Radius (Earth Radii)"
         }
        }
       }
      },
      "text/html": [
       "<div>                            <div id=\"c754cb87-0882-4506-ab56-c84cfeb52183\" class=\"plotly-graph-div\" style=\"height:600px; width:900px;\"></div>            <script type=\"text/javascript\">                require([\"plotly\"], function(Plotly) {                    window.PLOTLYENV=window.PLOTLYENV || {};                                    if (document.getElementById(\"c754cb87-0882-4506-ab56-c84cfeb52183\")) {                    Plotly.newPlot(                        \"c754cb87-0882-4506-ab56-c84cfeb52183\",                        [{\"error_x\":{\"array\":[0.23,0.86,0.28,0.3,0.31,0.11,0.18,0.24,1.35,5.7,0.56,0.35,0.46,0.46,0.17,0.2,0.24,0.69,3.3,0.67,0.71,0.59,1.4,0.26,0.38,0.46,0.9,0.069,0.056,0.012,0.022,0.031,0.038,0.02],\"arrayminus\":[0.23,0.86,0.28,0.3,0.31,0.12,0.18,0.24,1.35,5.2,0.56,0.34,0.45,0.44,0.16,0.2,0.24,0.67,3.3,0.69,0.72,0.58,1.4,0.26,0.38,0.46,0.9,0.069,0.056,0.012,0.022,0.031,0.038,0.02],\"color\":\"rgba(169, 169, 169, 0.7)\",\"type\":\"data\",\"visible\":true},\"error_y\":{\"array\":[0.23593466424682397,0.07622504537205081,0.24319419237749548,0.1941923774954628,0.308529945553539,0.2177858439201452,0.038112522686025406,0.049001814882032674,0.07259528130671507,0.14519056261343014,0.4355716878402904,0.22323049001814882,0.1542649727767695,0.15245009074410162,0.14700544464609802,0.1869328493647913,0.1960072595281307,0.11978221415607987,0.0852994555353902,0.23593466424682397,0.2413793103448276,0.1560798548094374,0.08711433756805807,0.2177858439201452,0.0544464609800363,0.08166969147005446,0.19963702359346644,0.04809437386569873,0.040290381125226864,0.028312159709618877,0.030490018148820328,0.0250453720508167,0.024682395644283123,0.05843920145190563],\"arrayminus\":[0.23593466424682397,0.059891107078039935,0.19963702359346644,0.16878402903811254,0.23593466424682397,0.18148820326678766,0.038112522686025406,0.049001814882032674,0.07259528130671507,0.14519056261343014,0.3266787658802178,0.19056261343012706,0.132486388384755,0.14519056261343014,0.13430127041742287,0.16152450090744103,0.16152450090744103,0.09800362976406535,0.07622504537205081,0.19963702359346644,0.20689655172413793,0.13430127041742287,0.07622504537205081,0.2177858439201452,0.0544464609800363,0.08166969147005446,0.1633393829401089,0.049364791288566245,0.0426497277676951,0.029582577132486392,0.033030852994555354,0.028675136116152453,0.028675136116152453,0.054809437386569876],\"color\":\"rgba(169, 169, 169, 0.7)\",\"type\":\"data\",\"visible\":true},\"marker\":{\"color\":[529.0,576.0,1089.0,773.0,525.0,701.0,590.0,520.0,284.0,494.0,965.0,517.0,409.0,378.9,708.9,595.0,1000.0,397.0,329.0,775.0,921.0,1069.0,531.0,581.0,488.0,387.0,514.0,400.1,341.9,288.0,251.3,219.0,198.6,168.0],\"colorbar\":{\"title\":{\"text\":\"Temperature\"}},\"colorscale\":[[0.0,\"#000004\"],[0.1111111111111111,\"#1b0c41\"],[0.2222222222222222,\"#4a0c6b\"],[0.3333333333333333,\"#781c6d\"],[0.4444444444444444,\"#a52c60\"],[0.5555555555555556,\"#cf4446\"],[0.6666666666666666,\"#ed6925\"],[0.7777777777777778,\"#fb9b06\"],[0.8888888888888888,\"#f7d13d\"],[1.0,\"#fcffa4\"]],\"showscale\":true,\"size\":12,\"cmax\":1200,\"cmin\":0},\"mode\":\"markers\",\"name\":\"LIV34\",\"text\":[\"Dataset: LIV34<br>Planet: GJ 1132 b<br>Mass: 1.66 +0.23 -0.23 (13.86% relative error)<br>Density: 6.30 +0.24 -0.24 (3.74% relative error)<br>Radius: 1.13 +0.06 -0.06 (4.96% relative error)\",\"Dataset: LIV34<br>Planet: GJ 1214 b<br>Mass: 6.26 +0.86 -0.86 (13.74% relative error)<br>Density: 1.49 +0.08 -0.06 (5.12% relative error)<br>Radius: 2.85 +0.20 -0.20 (7.02% relative error)\",\"Dataset: LIV34<br>Planet: GJ 1252 b<br>Mass: 1.32 +0.28 -0.28 (21.21% relative error)<br>Density: 4.22 +0.24 -0.20 (5.76% relative error)<br>Radius: 1.193 +0.07 -0.07 (6.20% relative error)\",\"Dataset: LIV34<br>Planet: GJ 3473 b<br>Mass: 1.86 +0.30 -0.30 (16.13% relative error)<br>Density: 5.03 +0.19 -0.17 (3.86% relative error)<br>Radius: 1.264 +0.05 -0.05 (3.96% relative error)\",\"Dataset: LIV34<br>Planet: GJ 357 b<br>Mass: 1.84 +0.31 -0.31 (16.85% relative error)<br>Density: 5.60 +0.31 -0.24 (5.51% relative error)<br>Radius: 1.217 +0.08 -0.08 (6.90% relative error)\",\"Dataset: LIV34<br>Planet: GJ 486 b<br>Mass: 2.82 +0.11 -0.12 (3.90% relative error)<br>Density: 7.00 +0.22 -0.18 (3.11% relative error)<br>Radius: 1.305 +0.06 -0.07 (4.83% relative error)\",\"Dataset: LIV34<br>Planet: K2-146 b<br>Mass: 5.77 +0.18 -0.18 (3.12% relative error)<br>Density: 3.69 +0.04 -0.04 (1.03% relative error)<br>Radius: 2.05 +0.06 -0.06 (2.93% relative error)\",\"Dataset: LIV34<br>Planet: K2-146 c<br>Mass: 7.49 +0.24 -0.24 (3.20% relative error)<br>Density: 3.92 +0.05 -0.05 (1.25% relative error)<br>Radius: 2.19 +0.07 -0.07 (3.20% relative error)\",\"Dataset: LIV34<br>Planet: K2-18 b<br>Mass: 8.64 +1.35 -1.35 (15.62% relative error)<br>Density: 2.40 +0.07 -0.07 (3.02% relative error)<br>Radius: 2.711 +0.07 -0.07 (2.40% relative error)\",\"Dataset: LIV34<br>Planet: K2-25 b<br>Mass: 24.5 +5.70 -5.20 (23.27% relative error)<br>Density: 3.30 +0.15 -0.15 (4.40% relative error)<br>Radius: 3.44 +0.12 -0.12 (3.49% relative error)\",\"Dataset: LIV34<br>Planet: L 168-9 b<br>Mass: 4.6 +0.56 -0.56 (12.17% relative error)<br>Density: 9.60 +0.44 -0.33 (4.54% relative error)<br>Radius: 1.39 +0.09 -0.09 (6.47% relative error)\",\"Dataset: LIV34<br>Planet: L 98-59 c<br>Mass: 2.42 +0.35 -0.34 (14.46% relative error)<br>Density: 5.46 +0.22 -0.19 (4.09% relative error)<br>Radius: 1.34 +0.07 -0.07 (5.22% relative error)\",\"Dataset: LIV34<br>Planet: L 98-59 d<br>Mass: 2.31 +0.46 -0.45 (19.91% relative error)<br>Density: 3.17 +0.15 -0.13 (4.87% relative error)<br>Radius: 1.58 +0.08 -0.08 (5.06% relative error)\",\"Dataset: LIV34<br>Planet: LHS 1140 b<br>Mass: 6.38 +0.46 -0.44 (7.21% relative error)<br>Density: 8.04 +0.15 -0.15 (1.90% relative error)<br>Radius: 1.635 +0.05 -0.05 (2.81% relative error)\",\"Dataset: LIV34<br>Planet: LHS 1140 c<br>Mass: 1.76 +0.17 -0.16 (9.66% relative error)<br>Density: 6.07 +0.15 -0.13 (2.42% relative error)<br>Radius: 1.169 +0.04 -0.04 (3.17% relative error)\",\"Dataset: LIV34<br>Planet: LHS 1478 b<br>Mass: 2.33 +0.20 -0.20 (8.58% relative error)<br>Density: 6.67 +0.19 -0.16 (2.80% relative error)<br>Radius: 1.242 +0.05 -0.05 (4.11% relative error)\",\"Dataset: LIV34<br>Planet: LTT 3780 b<br>Mass: 2.47 +0.24 -0.24 (9.72% relative error)<br>Density: 5.91 +0.20 -0.16 (3.32% relative error)<br>Radius: 1.32 +0.06 -0.06 (4.55% relative error)\",\"Dataset: LIV34<br>Planet: LTT 3780 c<br>Mass: 7.02 +0.69 -0.67 (9.83% relative error)<br>Density: 3.03 +0.12 -0.10 (3.95% relative error)<br>Radius: 2.33 +0.14 -0.13 (6.01% relative error)\",\"Dataset: LIV34<br>Planet: TOI-1231 b<br>Mass: 15.4 +3.30 -3.30 (21.43% relative error)<br>Density: 1.74 +0.09 -0.08 (4.90% relative error)<br>Radius: 3.65 +0.16 -0.15 (4.38% relative error)\",\"Dataset: LIV34<br>Planet: TOI-1235 b<br>Mass: 6.69 +0.67 -0.69 (10.01% relative error)<br>Density: 7.25 +0.24 -0.20 (3.25% relative error)<br>Radius: 1.694 +0.08 -0.08 (4.72% relative error)\",\"Dataset: LIV34<br>Planet: TOI-1634 b<br>Mass: 7.57 +0.71 -0.72 (9.38% relative error)<br>Density: 7.59 +0.24 -0.21 (3.18% relative error)<br>Radius: 1.773 +0.08 -0.08 (4.34% relative error)\",\"Dataset: LIV34<br>Planet: TOI-1685 b<br>Mass: 3.09 +0.59 -0.58 (19.09% relative error)<br>Density: 3.44 +0.16 -0.13 (4.54% relative error)<br>Radius: 1.7 +0.07 -0.07 (4.12% relative error)\",\"Dataset: LIV34<br>Planet: TOI-269 b<br>Mass: 8.8 +1.40 -1.40 (15.91% relative error)<br>Density: 2.28 +0.09 -0.08 (3.82% relative error)<br>Radius: 2.77 +0.12 -0.12 (4.33% relative error)\",\"Dataset: LIV34<br>Planet: TOI-270 b<br>Mass: 1.58 +0.26 -0.26 (16.46% relative error)<br>Density: 5.70 +0.22 -0.22 (3.82% relative error)<br>Radius: 1.151 +0.05 -0.05 (4.34% relative error)\",\"Dataset: LIV34<br>Planet: TOI-270 c<br>Mass: 6.14 +0.38 -0.38 (6.19% relative error)<br>Density: 2.68 +0.05 -0.05 (2.03% relative error)<br>Radius: 2.332 +0.07 -0.07 (3.09% relative error)\",\"Dataset: LIV34<br>Planet: TOI-270 d<br>Mass: 4.78 +0.46 -0.46 (9.62% relative error)<br>Density: 3.28 +0.08 -0.08 (2.49% relative error)<br>Radius: 2.005 +0.07 -0.07 (3.34% relative error)\",\"Dataset: LIV34<br>Planet: TOI-776 b<br>Mass: 4.0 +0.90 -0.90 (22.50% relative error)<br>Density: 3.40 +0.20 -0.16 (5.87% relative error)<br>Radius: 1.85 +0.13 -0.13 (7.03% relative error)\",\"Dataset: LIV34<br>Planet: TRAPPIST-1 b<br>Mass: 1.374 +0.07 -0.07 (5.02% relative error)<br>Density: 5.42 +0.05 -0.05 (0.89% relative error)<br>Radius: 1.116 +0.01 -0.01 (1.25% relative error)\",\"Dataset: LIV34<br>Planet: TRAPPIST-1 c<br>Mass: 1.308 +0.06 -0.06 (4.28% relative error)<br>Density: 5.45 +0.04 -0.04 (0.74% relative error)<br>Radius: 1.097 +0.01 -0.01 (1.28% relative error)\",\"Dataset: LIV34<br>Planet: TRAPPIST-1 d<br>Mass: 0.388 +0.01 -0.01 (3.09% relative error)<br>Density: 4.35 +0.03 -0.03 (0.65% relative error)<br>Radius: 0.788 +0.01 -0.01 (1.40% relative error)\",\"Dataset: LIV34<br>Planet: TRAPPIST-1 e<br>Mass: 0.692 +0.02 -0.02 (3.18% relative error)<br>Density: 4.88 +0.03 -0.03 (0.62% relative error)<br>Radius: 0.92 +0.01 -0.01 (1.41% relative error)\",\"Dataset: LIV34<br>Planet: TRAPPIST-1 f<br>Mass: 1.039 +0.03 -0.03 (2.98% relative error)<br>Density: 5.01 +0.03 -0.03 (0.50% relative error)<br>Radius: 1.045 +0.01 -0.01 (1.24% relative error)\",\"Dataset: LIV34<br>Planet: TRAPPIST-1 g<br>Mass: 1.321 +0.04 -0.04 (2.88% relative error)<br>Density: 5.04 +0.02 -0.03 (0.49% relative error)<br>Radius: 1.129 +0.01 -0.01 (1.33% relative error)\",\"Dataset: LIV34<br>Planet: TRAPPIST-1 h<br>Mass: 0.326 +0.02 -0.02 (6.13% relative error)<br>Density: 4.15 +0.06 -0.05 (1.41% relative error)<br>Radius: 0.755 +0.01 -0.01 (1.85% relative error)\"],\"x\":[1.66,6.26,1.32,1.86,1.84,2.82,5.77,7.49,8.64,24.5,4.6,2.42,2.31,6.38,1.76,2.33,2.47,7.02,15.4,6.69,7.57,3.09,8.8,1.58,6.14,4.78,4.0,1.374,1.308,0.388,0.692,1.039,1.321,0.326],\"y\":[6.3,1.49,4.22,5.03,5.6,7.0,3.69,3.92,2.4,3.3,9.6,5.46,3.17,8.04,6.07,6.67,5.91,3.03,1.74,7.25,7.59,3.44,2.28,5.7,2.68,3.28,3.4,5.425,5.447,4.354,4.885,5.009,5.042,4.147],\"type\":\"scatter\"},{\"error_x\":{\"array\":[0.23,0.86,0.28,0.3,0.31,0.11,0.18,0.24,1.35,5.7,0.56,0.35,0.46,0.46,0.17,0.2,0.24,0.69,3.3,0.67,0.71,0.59,1.4,0.26,0.38,0.46,0.9,0.069,0.056,0.012,0.022,0.031,0.038,0.02],\"arrayminus\":[0.23,0.86,0.28,0.3,0.31,0.12,0.18,0.24,1.35,5.2,0.56,0.34,0.45,0.44,0.16,0.2,0.24,0.67,3.3,0.69,0.72,0.58,1.4,0.26,0.38,0.46,0.9,0.069,0.056,0.012,0.022,0.031,0.038,0.02],\"color\":\"rgba(169, 169, 169, 0.7)\",\"type\":\"data\",\"visible\":true},\"error_y\":{\"array\":[0.056,0.2,0.074,0.05,0.084,0.063,0.06,0.07,0.065,0.12,0.09,0.07,0.08,0.046,0.037,0.051,0.06,0.14,0.16,0.08,0.077,0.07,0.12,0.05,0.072,0.067,0.13,0.014,0.014,0.011,0.013,0.013,0.015,0.014],\"arrayminus\":[0.056,0.2,0.074,0.049,0.083,0.067,0.06,0.07,0.065,0.12,0.09,0.07,0.08,0.046,0.038,0.049,0.06,0.13,0.15,0.077,0.077,0.07,0.12,0.05,0.072,0.067,0.13,0.012,0.012,0.01,0.012,0.012,0.015,0.014],\"color\":\"rgba(169, 169, 169, 0.7)\",\"type\":\"data\",\"visible\":true},\"marker\":{\"color\":[529.0,576.0,1089.0,773.0,525.0,701.0,590.0,520.0,284.0,494.0,965.0,517.0,409.0,378.9,708.9,595.0,1000.0,397.0,329.0,775.0,921.0,1069.0,531.0,581.0,488.0,387.0,514.0,400.1,341.9,288.0,251.3,219.0,198.6,168.0],\"colorbar\":{\"title\":{\"text\":\"Temperature\"}},\"colorscale\":[[0.0,\"#000004\"],[0.1111111111111111,\"#1b0c41\"],[0.2222222222222222,\"#4a0c6b\"],[0.3333333333333333,\"#781c6d\"],[0.4444444444444444,\"#a52c60\"],[0.5555555555555556,\"#cf4446\"],[0.6666666666666666,\"#ed6925\"],[0.7777777777777778,\"#fb9b06\"],[0.8888888888888888,\"#f7d13d\"],[1.0,\"#fcffa4\"]],\"showscale\":true,\"size\":12,\"cmax\":1200,\"cmin\":0},\"mode\":\"markers\",\"name\":\"LIV34\",\"text\":[\"Dataset: LIV34<br>Planet: GJ 1132 b<br>Mass: 1.66 +0.23 -0.23 (13.86% relative error)<br>Density: 6.30 +0.24 -0.24 (3.74% relative error)<br>Radius: 1.13 +0.06 -0.06 (4.96% relative error)\",\"Dataset: LIV34<br>Planet: GJ 1214 b<br>Mass: 6.26 +0.86 -0.86 (13.74% relative error)<br>Density: 1.49 +0.08 -0.06 (5.12% relative error)<br>Radius: 2.85 +0.20 -0.20 (7.02% relative error)\",\"Dataset: LIV34<br>Planet: GJ 1252 b<br>Mass: 1.32 +0.28 -0.28 (21.21% relative error)<br>Density: 4.22 +0.24 -0.20 (5.76% relative error)<br>Radius: 1.193 +0.07 -0.07 (6.20% relative error)\",\"Dataset: LIV34<br>Planet: GJ 3473 b<br>Mass: 1.86 +0.30 -0.30 (16.13% relative error)<br>Density: 5.03 +0.19 -0.17 (3.86% relative error)<br>Radius: 1.264 +0.05 -0.05 (3.96% relative error)\",\"Dataset: LIV34<br>Planet: GJ 357 b<br>Mass: 1.84 +0.31 -0.31 (16.85% relative error)<br>Density: 5.60 +0.31 -0.24 (5.51% relative error)<br>Radius: 1.217 +0.08 -0.08 (6.90% relative error)\",\"Dataset: LIV34<br>Planet: GJ 486 b<br>Mass: 2.82 +0.11 -0.12 (3.90% relative error)<br>Density: 7.00 +0.22 -0.18 (3.11% relative error)<br>Radius: 1.305 +0.06 -0.07 (4.83% relative error)\",\"Dataset: LIV34<br>Planet: K2-146 b<br>Mass: 5.77 +0.18 -0.18 (3.12% relative error)<br>Density: 3.69 +0.04 -0.04 (1.03% relative error)<br>Radius: 2.05 +0.06 -0.06 (2.93% relative error)\",\"Dataset: LIV34<br>Planet: K2-146 c<br>Mass: 7.49 +0.24 -0.24 (3.20% relative error)<br>Density: 3.92 +0.05 -0.05 (1.25% relative error)<br>Radius: 2.19 +0.07 -0.07 (3.20% relative error)\",\"Dataset: LIV34<br>Planet: K2-18 b<br>Mass: 8.64 +1.35 -1.35 (15.62% relative error)<br>Density: 2.40 +0.07 -0.07 (3.02% relative error)<br>Radius: 2.711 +0.07 -0.07 (2.40% relative error)\",\"Dataset: LIV34<br>Planet: K2-25 b<br>Mass: 24.5 +5.70 -5.20 (23.27% relative error)<br>Density: 3.30 +0.15 -0.15 (4.40% relative error)<br>Radius: 3.44 +0.12 -0.12 (3.49% relative error)\",\"Dataset: LIV34<br>Planet: L 168-9 b<br>Mass: 4.6 +0.56 -0.56 (12.17% relative error)<br>Density: 9.60 +0.44 -0.33 (4.54% relative error)<br>Radius: 1.39 +0.09 -0.09 (6.47% relative error)\",\"Dataset: LIV34<br>Planet: L 98-59 c<br>Mass: 2.42 +0.35 -0.34 (14.46% relative error)<br>Density: 5.46 +0.22 -0.19 (4.09% relative error)<br>Radius: 1.34 +0.07 -0.07 (5.22% relative error)\",\"Dataset: LIV34<br>Planet: L 98-59 d<br>Mass: 2.31 +0.46 -0.45 (19.91% relative error)<br>Density: 3.17 +0.15 -0.13 (4.87% relative error)<br>Radius: 1.58 +0.08 -0.08 (5.06% relative error)\",\"Dataset: LIV34<br>Planet: LHS 1140 b<br>Mass: 6.38 +0.46 -0.44 (7.21% relative error)<br>Density: 8.04 +0.15 -0.15 (1.90% relative error)<br>Radius: 1.635 +0.05 -0.05 (2.81% relative error)\",\"Dataset: LIV34<br>Planet: LHS 1140 c<br>Mass: 1.76 +0.17 -0.16 (9.66% relative error)<br>Density: 6.07 +0.15 -0.13 (2.42% relative error)<br>Radius: 1.169 +0.04 -0.04 (3.17% relative error)\",\"Dataset: LIV34<br>Planet: LHS 1478 b<br>Mass: 2.33 +0.20 -0.20 (8.58% relative error)<br>Density: 6.67 +0.19 -0.16 (2.80% relative error)<br>Radius: 1.242 +0.05 -0.05 (4.11% relative error)\",\"Dataset: LIV34<br>Planet: LTT 3780 b<br>Mass: 2.47 +0.24 -0.24 (9.72% relative error)<br>Density: 5.91 +0.20 -0.16 (3.32% relative error)<br>Radius: 1.32 +0.06 -0.06 (4.55% relative error)\",\"Dataset: LIV34<br>Planet: LTT 3780 c<br>Mass: 7.02 +0.69 -0.67 (9.83% relative error)<br>Density: 3.03 +0.12 -0.10 (3.95% relative error)<br>Radius: 2.33 +0.14 -0.13 (6.01% relative error)\",\"Dataset: LIV34<br>Planet: TOI-1231 b<br>Mass: 15.4 +3.30 -3.30 (21.43% relative error)<br>Density: 1.74 +0.09 -0.08 (4.90% relative error)<br>Radius: 3.65 +0.16 -0.15 (4.38% relative error)\",\"Dataset: LIV34<br>Planet: TOI-1235 b<br>Mass: 6.69 +0.67 -0.69 (10.01% relative error)<br>Density: 7.25 +0.24 -0.20 (3.25% relative error)<br>Radius: 1.694 +0.08 -0.08 (4.72% relative error)\",\"Dataset: LIV34<br>Planet: TOI-1634 b<br>Mass: 7.57 +0.71 -0.72 (9.38% relative error)<br>Density: 7.59 +0.24 -0.21 (3.18% relative error)<br>Radius: 1.773 +0.08 -0.08 (4.34% relative error)\",\"Dataset: LIV34<br>Planet: TOI-1685 b<br>Mass: 3.09 +0.59 -0.58 (19.09% relative error)<br>Density: 3.44 +0.16 -0.13 (4.54% relative error)<br>Radius: 1.7 +0.07 -0.07 (4.12% relative error)\",\"Dataset: LIV34<br>Planet: TOI-269 b<br>Mass: 8.8 +1.40 -1.40 (15.91% relative error)<br>Density: 2.28 +0.09 -0.08 (3.82% relative error)<br>Radius: 2.77 +0.12 -0.12 (4.33% relative error)\",\"Dataset: LIV34<br>Planet: TOI-270 b<br>Mass: 1.58 +0.26 -0.26 (16.46% relative error)<br>Density: 5.70 +0.22 -0.22 (3.82% relative error)<br>Radius: 1.151 +0.05 -0.05 (4.34% relative error)\",\"Dataset: LIV34<br>Planet: TOI-270 c<br>Mass: 6.14 +0.38 -0.38 (6.19% relative error)<br>Density: 2.68 +0.05 -0.05 (2.03% relative error)<br>Radius: 2.332 +0.07 -0.07 (3.09% relative error)\",\"Dataset: LIV34<br>Planet: TOI-270 d<br>Mass: 4.78 +0.46 -0.46 (9.62% relative error)<br>Density: 3.28 +0.08 -0.08 (2.49% relative error)<br>Radius: 2.005 +0.07 -0.07 (3.34% relative error)\",\"Dataset: LIV34<br>Planet: TOI-776 b<br>Mass: 4.0 +0.90 -0.90 (22.50% relative error)<br>Density: 3.40 +0.20 -0.16 (5.87% relative error)<br>Radius: 1.85 +0.13 -0.13 (7.03% relative error)\",\"Dataset: LIV34<br>Planet: TRAPPIST-1 b<br>Mass: 1.374 +0.07 -0.07 (5.02% relative error)<br>Density: 5.42 +0.05 -0.05 (0.89% relative error)<br>Radius: 1.116 +0.01 -0.01 (1.25% relative error)\",\"Dataset: LIV34<br>Planet: TRAPPIST-1 c<br>Mass: 1.308 +0.06 -0.06 (4.28% relative error)<br>Density: 5.45 +0.04 -0.04 (0.74% relative error)<br>Radius: 1.097 +0.01 -0.01 (1.28% relative error)\",\"Dataset: LIV34<br>Planet: TRAPPIST-1 d<br>Mass: 0.388 +0.01 -0.01 (3.09% relative error)<br>Density: 4.35 +0.03 -0.03 (0.65% relative error)<br>Radius: 0.788 +0.01 -0.01 (1.40% relative error)\",\"Dataset: LIV34<br>Planet: TRAPPIST-1 e<br>Mass: 0.692 +0.02 -0.02 (3.18% relative error)<br>Density: 4.88 +0.03 -0.03 (0.62% relative error)<br>Radius: 0.92 +0.01 -0.01 (1.41% relative error)\",\"Dataset: LIV34<br>Planet: TRAPPIST-1 f<br>Mass: 1.039 +0.03 -0.03 (2.98% relative error)<br>Density: 5.01 +0.03 -0.03 (0.50% relative error)<br>Radius: 1.045 +0.01 -0.01 (1.24% relative error)\",\"Dataset: LIV34<br>Planet: TRAPPIST-1 g<br>Mass: 1.321 +0.04 -0.04 (2.88% relative error)<br>Density: 5.04 +0.02 -0.03 (0.49% relative error)<br>Radius: 1.129 +0.01 -0.01 (1.33% relative error)\",\"Dataset: LIV34<br>Planet: TRAPPIST-1 h<br>Mass: 0.326 +0.02 -0.02 (6.13% relative error)<br>Density: 4.15 +0.06 -0.05 (1.41% relative error)<br>Radius: 0.755 +0.01 -0.01 (1.85% relative error)\"],\"x\":[1.66,6.26,1.32,1.86,1.84,2.82,5.77,7.49,8.64,24.5,4.6,2.42,2.31,6.38,1.76,2.33,2.47,7.02,15.4,6.69,7.57,3.09,8.8,1.58,6.14,4.78,4.0,1.374,1.308,0.388,0.692,1.039,1.321,0.326],\"y\":[1.13,2.85,1.193,1.264,1.217,1.305,2.05,2.19,2.711,3.44,1.39,1.34,1.58,1.635,1.169,1.242,1.32,2.33,3.65,1.694,1.773,1.7,2.77,1.151,2.332,2.005,1.85,1.116,1.097,0.788,0.92,1.045,1.129,0.755],\"type\":\"scatter\"},{\"error_x\":{\"array\":[0.05,0.34,0.48,0.99,0.65,0.65,1.4,0.7,0.26,0.2,1.36,0.84,0.24,0.67,1.21,1.0,1.5,0.3],\"arrayminus\":[0.05,0.34,0.48,0.93,0.61,0.65,1.4,0.7,0.25,0.19,1.3,0.88,0.24,0.68,1.24,1.0,1.5,0.3],\"color\":\"rgba(169, 169, 169, 0.7)\",\"type\":\"data\",\"visible\":true},\"error_y\":{\"array\":[0.23593466424682397,0.18148820326678766,0.1633393829401089,0.30308529945553536,0.038112522686025406,0.049001814882032674,0.047186932849364795,null,0.2177858439201452,0.12341197822141563,0.3720508166969147,0.08711433756805807,null,null,0.12704174228675136,0.3266787658802178,0.058076225045372055,0.19963702359346644],\"arrayminus\":[0.23593466424682397,0.18148820326678766,0.14519056261343014,0.1960072595281307,0.034482758620689655,0.039927404718693285,0.047186932849364795,null,0.19963702359346644,0.1088929219600726,0.3357531760435572,0.07622504537205081,null,null,0.12341197822141563,0.23593466424682397,0.058076225045372055,0.19963702359346644],\"color\":\"rgba(169, 169, 169, 0.7)\",\"type\":\"data\",\"visible\":true},\"marker\":{\"color\":[1365.0,709.0,557.0,463.0,431.0,385.0,997.0,324.0,555.0,508.0,1323.0,703.0,682.0,338.0,734.0,698.0,443.0,387.0],\"colorbar\":{\"title\":{\"text\":\"Temperature\"}},\"colorscale\":[[0.0,\"#000004\"],[0.1111111111111111,\"#1b0c41\"],[0.2222222222222222,\"#4a0c6b\"],[0.3333333333333333,\"#781c6d\"],[0.4444444444444444,\"#a52c60\"],[0.5555555555555556,\"#cf4446\"],[0.6666666666666666,\"#ed6925\"],[0.7777777777777778,\"#fb9b06\"],[0.8888888888888888,\"#f7d13d\"],[1.0,\"#fcffa4\"]],\"showscale\":true,\"size\":12,\"cmax\":1200,\"cmin\":0},\"mode\":\"markers\",\"name\":\"EA add\",\"text\":[\"Dataset: EA add<br>Planet: GJ 367 b<br>Mass: 0.633 +0.05 -0.05 (7.90% relative error)<br>Density: 10.20 +0.24 -0.24 (2.31% relative error)<br>Radius: 0.699 +0.02 -0.02 (3.43% relative error)\",\"Dataset: EA add<br>Planet: HD 260655 b<br>Mass: 2.14 +0.34 -0.34 (15.89% relative error)<br>Density: 6.20 +0.18 -0.18 (2.93% relative error)<br>Radius: 1.24 +0.02 -0.02 (1.85% relative error)\",\"Dataset: EA add<br>Planet: HD 260655 c<br>Mass: 3.09 +0.48 -0.48 (15.53% relative error)<br>Density: 4.70 +0.16 -0.15 (3.48% relative error)<br>Radius: 1.533 +0.05 -0.05 (3.33% relative error)\",\"Dataset: EA add<br>Planet: K2-3 b<br>Mass: 6.48 +0.99 -0.93 (15.28% relative error)<br>Density: 3.70 +0.30 -0.20 (8.19% relative error)<br>Radius: 2.103 +0.26 -0.26 (12.22% relative error)\",\"Dataset: EA add<br>Planet: Kepler-26 b<br>Mass: 5.12 +0.65 -0.61 (12.70% relative error)<br>Density: 1.26 +0.04 -0.03 (3.02% relative error)<br>Radius: 2.78 +0.11 -0.11 (3.96% relative error)\",\"Dataset: EA add<br>Planet: Kepler-26 c<br>Mass: 6.2 +0.65 -0.65 (10.48% relative error)<br>Density: 1.61 +0.05 -0.04 (3.04% relative error)<br>Radius: 2.72 +0.12 -0.12 (4.41% relative error)\",\"Dataset: EA add<br>Planet: Kepler-94 b<br>Mass: 10.84 +1.40 -1.40 (12.92% relative error)<br>Density: 1.45 +0.05 -0.05 (3.25% relative error)<br>Radius: 3.51 +0.15 -0.15 (4.27% relative error)\",\"Dataset: EA add<br>Planet: LP 791-18 c<br>Mass: 7.1 +0.70 -0.70 (9.86% relative error)<br>Density: 2.69 +nan -nan (nan% relative error)<br>Radius: 2.438 +0.10 -0.10 (3.94% relative error)\",\"Dataset: EA add<br>Planet: LTT 1445 A b<br>Mass: 2.87 +0.26 -0.25 (9.06% relative error)<br>Density: 7.10 +0.22 -0.20 (3.07% relative error)<br>Radius: 1.18 +0.06 -0.06 (5.08% relative error)\",\"Dataset: EA add<br>Planet: LTT 1445 A c<br>Mass: 1.54 +0.20 -0.19 (12.99% relative error)<br>Density: 5.57 +0.12 -0.11 (2.22% relative error)<br>Radius: 1.147 +0.06 -0.05 (4.80% relative error)\",\"Dataset: EA add<br>Planet: TOI-1075 b<br>Mass: 9.95 +1.36 -1.30 (13.67% relative error)<br>Density: 9.32 +0.37 -0.34 (3.99% relative error)<br>Radius: 1.791 +0.12 -0.08 (6.48% relative error)\",\"Dataset: EA add<br>Planet: TOI-1201 b<br>Mass: 6.28 +0.84 -0.88 (13.38% relative error)<br>Density: 2.45 +0.09 -0.08 (3.56% relative error)<br>Radius: 2.415 +0.09 -0.09 (3.77% relative error)\",\"Dataset: EA add<br>Planet: TOI-1468 b<br>Mass: 3.21 +0.24 -0.24 (7.48% relative error)<br>Density: 8.41 +nan -nan (nan% relative error)<br>Radius: 1.28 +0.04 -0.04 (2.97% relative error)\",\"Dataset: EA add<br>Planet: TOI-1468 c<br>Mass: 6.64 +0.67 -0.68 (10.09% relative error)<br>Density: 4.15 +nan -nan (nan% relative error)<br>Radius: 2.064 +0.04 -0.04 (2.13% relative error)\",\"Dataset: EA add<br>Planet: TOI-1470 b<br>Mass: 7.32 +1.21 -1.24 (16.53% relative error)<br>Density: 3.86 +0.13 -0.12 (3.29% relative error)<br>Radius: 2.18 +0.04 -0.04 (1.83% relative error)\",\"Dataset: EA add<br>Planet: TOI-1695 b<br>Mass: 6.36 +1.00 -1.00 (15.72% relative error)<br>Density: 5.00 +0.33 -0.24 (6.53% relative error)<br>Radius: 1.9 +0.16 -0.14 (8.42% relative error)\",\"Dataset: EA add<br>Planet: TOI-1759 b<br>Mass: 10.8 +1.50 -1.50 (13.89% relative error)<br>Density: 1.91 +0.06 -0.06 (3.04% relative error)<br>Radius: 3.14 +0.10 -0.10 (3.18% relative error)\",\"Dataset: EA add<br>Planet: TOI-244 b<br>Mass: 2.68 +0.30 -0.30 (11.19% relative error)<br>Density: 4.20 +0.20 -0.20 (4.75% relative error)<br>Radius: 1.03 +0.08 -0.08 (7.77% relative error)\"],\"x\":[0.633,2.14,3.09,6.48,5.12,6.2,10.84,7.1,2.87,1.54,9.95,6.28,3.21,6.64,7.32,6.36,10.8,2.68],\"y\":[10.2,6.2,4.7,3.7,1.26,1.61,1.45,2.69,7.1,5.57,9.32,2.45,8.41,4.15,3.86,5.0,1.91,4.2],\"type\":\"scatter\"},{\"error_x\":{\"array\":[0.05,0.34,0.48,0.99,0.65,0.65,1.4,0.7,0.26,0.2,1.36,0.84,0.24,0.67,1.21,1.0,1.5,0.3],\"arrayminus\":[0.05,0.34,0.48,0.93,0.61,0.65,1.4,0.7,0.25,0.19,1.3,0.88,0.24,0.68,1.24,1.0,1.5,0.3],\"color\":\"rgba(169, 169, 169, 0.7)\",\"type\":\"data\",\"visible\":true},\"error_y\":{\"array\":[0.024,0.023,0.051,0.257,0.11,0.12,0.15,0.096,0.06,0.055,0.116,0.091,0.038,0.044,0.04,0.16,0.1,0.08],\"arrayminus\":[0.024,0.023,0.046,0.256,0.11,0.12,0.15,0.096,0.06,0.054,0.081,0.09,0.039,0.044,0.04,0.14,0.1,0.08],\"color\":\"rgba(169, 169, 169, 0.7)\",\"type\":\"data\",\"visible\":true},\"marker\":{\"color\":[1365.0,709.0,557.0,463.0,431.0,385.0,997.0,324.0,555.0,508.0,1323.0,703.0,682.0,338.0,734.0,698.0,443.0,387.0],\"colorbar\":{\"title\":{\"text\":\"Temperature\"}},\"colorscale\":[[0.0,\"#000004\"],[0.1111111111111111,\"#1b0c41\"],[0.2222222222222222,\"#4a0c6b\"],[0.3333333333333333,\"#781c6d\"],[0.4444444444444444,\"#a52c60\"],[0.5555555555555556,\"#cf4446\"],[0.6666666666666666,\"#ed6925\"],[0.7777777777777778,\"#fb9b06\"],[0.8888888888888888,\"#f7d13d\"],[1.0,\"#fcffa4\"]],\"showscale\":true,\"size\":12,\"cmax\":1200,\"cmin\":0},\"mode\":\"markers\",\"name\":\"EA add\",\"text\":[\"Dataset: EA add<br>Planet: GJ 367 b<br>Mass: 0.633 +0.05 -0.05 (7.90% relative error)<br>Density: 10.20 +0.24 -0.24 (2.31% relative error)<br>Radius: 0.699 +0.02 -0.02 (3.43% relative error)\",\"Dataset: EA add<br>Planet: HD 260655 b<br>Mass: 2.14 +0.34 -0.34 (15.89% relative error)<br>Density: 6.20 +0.18 -0.18 (2.93% relative error)<br>Radius: 1.24 +0.02 -0.02 (1.85% relative error)\",\"Dataset: EA add<br>Planet: HD 260655 c<br>Mass: 3.09 +0.48 -0.48 (15.53% relative error)<br>Density: 4.70 +0.16 -0.15 (3.48% relative error)<br>Radius: 1.533 +0.05 -0.05 (3.33% relative error)\",\"Dataset: EA add<br>Planet: K2-3 b<br>Mass: 6.48 +0.99 -0.93 (15.28% relative error)<br>Density: 3.70 +0.30 -0.20 (8.19% relative error)<br>Radius: 2.103 +0.26 -0.26 (12.22% relative error)\",\"Dataset: EA add<br>Planet: Kepler-26 b<br>Mass: 5.12 +0.65 -0.61 (12.70% relative error)<br>Density: 1.26 +0.04 -0.03 (3.02% relative error)<br>Radius: 2.78 +0.11 -0.11 (3.96% relative error)\",\"Dataset: EA add<br>Planet: Kepler-26 c<br>Mass: 6.2 +0.65 -0.65 (10.48% relative error)<br>Density: 1.61 +0.05 -0.04 (3.04% relative error)<br>Radius: 2.72 +0.12 -0.12 (4.41% relative error)\",\"Dataset: EA add<br>Planet: Kepler-94 b<br>Mass: 10.84 +1.40 -1.40 (12.92% relative error)<br>Density: 1.45 +0.05 -0.05 (3.25% relative error)<br>Radius: 3.51 +0.15 -0.15 (4.27% relative error)\",\"Dataset: EA add<br>Planet: LP 791-18 c<br>Mass: 7.1 +0.70 -0.70 (9.86% relative error)<br>Density: 2.69 +nan -nan (nan% relative error)<br>Radius: 2.438 +0.10 -0.10 (3.94% relative error)\",\"Dataset: EA add<br>Planet: LTT 1445 A b<br>Mass: 2.87 +0.26 -0.25 (9.06% relative error)<br>Density: 7.10 +0.22 -0.20 (3.07% relative error)<br>Radius: 1.18 +0.06 -0.06 (5.08% relative error)\",\"Dataset: EA add<br>Planet: LTT 1445 A c<br>Mass: 1.54 +0.20 -0.19 (12.99% relative error)<br>Density: 5.57 +0.12 -0.11 (2.22% relative error)<br>Radius: 1.147 +0.06 -0.05 (4.80% relative error)\",\"Dataset: EA add<br>Planet: TOI-1075 b<br>Mass: 9.95 +1.36 -1.30 (13.67% relative error)<br>Density: 9.32 +0.37 -0.34 (3.99% relative error)<br>Radius: 1.791 +0.12 -0.08 (6.48% relative error)\",\"Dataset: EA add<br>Planet: TOI-1201 b<br>Mass: 6.28 +0.84 -0.88 (13.38% relative error)<br>Density: 2.45 +0.09 -0.08 (3.56% relative error)<br>Radius: 2.415 +0.09 -0.09 (3.77% relative error)\",\"Dataset: EA add<br>Planet: TOI-1468 b<br>Mass: 3.21 +0.24 -0.24 (7.48% relative error)<br>Density: 8.41 +nan -nan (nan% relative error)<br>Radius: 1.28 +0.04 -0.04 (2.97% relative error)\",\"Dataset: EA add<br>Planet: TOI-1468 c<br>Mass: 6.64 +0.67 -0.68 (10.09% relative error)<br>Density: 4.15 +nan -nan (nan% relative error)<br>Radius: 2.064 +0.04 -0.04 (2.13% relative error)\",\"Dataset: EA add<br>Planet: TOI-1470 b<br>Mass: 7.32 +1.21 -1.24 (16.53% relative error)<br>Density: 3.86 +0.13 -0.12 (3.29% relative error)<br>Radius: 2.18 +0.04 -0.04 (1.83% relative error)\",\"Dataset: EA add<br>Planet: TOI-1695 b<br>Mass: 6.36 +1.00 -1.00 (15.72% relative error)<br>Density: 5.00 +0.33 -0.24 (6.53% relative error)<br>Radius: 1.9 +0.16 -0.14 (8.42% relative error)\",\"Dataset: EA add<br>Planet: TOI-1759 b<br>Mass: 10.8 +1.50 -1.50 (13.89% relative error)<br>Density: 1.91 +0.06 -0.06 (3.04% relative error)<br>Radius: 3.14 +0.10 -0.10 (3.18% relative error)\",\"Dataset: EA add<br>Planet: TOI-244 b<br>Mass: 2.68 +0.30 -0.30 (11.19% relative error)<br>Density: 4.20 +0.20 -0.20 (4.75% relative error)<br>Radius: 1.03 +0.08 -0.08 (7.77% relative error)\"],\"x\":[0.633,2.14,3.09,6.48,5.12,6.2,10.84,7.1,2.87,1.54,9.95,6.28,3.21,6.64,7.32,6.36,10.8,2.68],\"y\":[0.699,1.24,1.533,2.103,2.78,2.72,3.51,2.438,1.18,1.147,1.791,2.415,1.28,2.064,2.18,1.9,3.14,1.03],\"type\":\"scatter\"},{\"error_x\":{\"array\":[2.07,0.72,0.05,0.44,0.34,0.48,0.99,0.6,0.05,1.2,0.3,0.65,0.65,1.4,0.7,0.26,0.2,1.36,0.84,1.3,0.24,0.67,1.21,1.0,1.5,0.3],\"arrayminus\":[2.31,0.72,0.05,0.45,0.34,0.48,0.93,0.6,0.05,1.2,0.3,0.61,0.65,1.4,0.7,0.25,0.19,1.3,0.88,1.3,0.24,0.68,1.24,1.0,1.5,0.3],\"color\":\"rgba(169, 169, 169, 0.7)\",\"type\":\"data\",\"visible\":true},\"error_y\":{\"array\":[0.047186932849364795,0.09437386569872959,0.23593466424682397,0.3629764065335753,0.18148820326678766,0.1633393829401089,0.30308529945553536,null,0.18148820326678766,0.3448275862068966,0.07985480943738657,0.038112522686025406,0.049001814882032674,0.047186932849364795,null,0.2177858439201452,0.12341197822141563,0.3720508166969147,0.08711433756805807,0.3266787658802178,null,null,0.12704174228675136,0.3266787658802178,0.058076225045372055,0.19963702359346644],\"arrayminus\":[0.05263157894736842,0.08166969147005446,0.23593466424682397,0.3629764065335753,0.18148820326678766,0.14519056261343014,0.1960072595281307,null,0.15789473684210528,0.2722323049001815,0.06352087114337568,0.034482758620689655,0.039927404718693285,0.047186932849364795,null,0.19963702359346644,0.1088929219600726,0.3357531760435572,0.07622504537205081,0.29038112522686027,null,null,0.12341197822141563,0.23593466424682397,0.058076225045372055,0.19963702359346644],\"color\":\"rgba(169, 169, 169, 0.7)\",\"type\":\"data\",\"visible\":true},\"marker\":{\"color\":[454.0,693.0,1365.0,568.0,709.0,557.0,463.0,507.0,524.0,476.0,401.0,431.0,385.0,997.0,324.0,555.0,508.0,1323.0,703.0,326.0,682.0,338.0,734.0,698.0,443.0,387.0],\"colorbar\":{\"title\":{\"text\":\"Temperature\"}},\"colorscale\":[[0.0,\"#000004\"],[0.1111111111111111,\"#1b0c41\"],[0.2222222222222222,\"#4a0c6b\"],[0.3333333333333333,\"#781c6d\"],[0.4444444444444444,\"#a52c60\"],[0.5555555555555556,\"#cf4446\"],[0.6666666666666666,\"#ed6925\"],[0.7777777777777778,\"#fb9b06\"],[0.8888888888888888,\"#f7d13d\"],[1.0,\"#fcffa4\"]],\"showscale\":true,\"size\":12,\"cmax\":1200,\"cmin\":0},\"mode\":\"markers\",\"name\":\"EA add 33%\",\"text\":[\"Dataset: EA add 30%<br>Planet: AU Mic c<br>Mass: 9.6 +2.07 -2.31 (21.56% relative error)<br>Density: 1.22 +0.05 -0.05 (3.87% relative error)<br>Radius: 3.24 +0.16 -0.16 (4.94% relative error)\",\"Dataset: EA add 30%<br>Planet: GJ 3090 b<br>Mass: 3.34 +0.72 -0.72 (21.56% relative error)<br>Density: 1.89 +0.09 -0.08 (4.99% relative error)<br>Radius: 2.13 +0.11 -0.11 (5.16% relative error)\",\"Dataset: EA add 30%<br>Planet: GJ 367 b<br>Mass: 0.633 +0.05 -0.05 (7.90% relative error)<br>Density: 10.20 +0.24 -0.24 (2.31% relative error)<br>Radius: 0.699 +0.02 -0.02 (3.43% relative error)\",\"Dataset: EA add 30%<br>Planet: GJ 3929 b<br>Mass: 1.75 +0.44 -0.45 (25.14% relative error)<br>Density: 7.30 +0.36 -0.36 (4.97% relative error)<br>Radius: 1.09 +0.04 -0.04 (3.67% relative error)\",\"Dataset: EA add 30%<br>Planet: HD 260655 b<br>Mass: 2.14 +0.34 -0.34 (15.89% relative error)<br>Density: 6.20 +0.18 -0.18 (2.93% relative error)<br>Radius: 1.24 +0.02 -0.02 (1.85% relative error)\",\"Dataset: EA add 30%<br>Planet: HD 260655 c<br>Mass: 3.09 +0.48 -0.48 (15.53% relative error)<br>Density: 4.70 +0.16 -0.15 (3.48% relative error)<br>Radius: 1.533 +0.05 -0.05 (3.33% relative error)\",\"Dataset: EA add 30%<br>Planet: K2-3 b<br>Mass: 6.48 +0.99 -0.93 (15.28% relative error)<br>Density: 3.70 +0.30 -0.20 (8.19% relative error)<br>Radius: 2.103 +0.26 -0.26 (12.22% relative error)\",\"Dataset: EA add 30%<br>Planet: Kepler-114 c<br>Mass: 2.8 +0.60 -0.60 (21.43% relative error)<br>Density: 3.76 +nan -nan (nan% relative error)<br>Radius: 1.6 +0.18 -0.18 (11.25% relative error)\",\"Dataset: EA add 30%<br>Planet: Kepler-138 b<br>Mass: 0.187 +0.05 -0.05 (26.74% relative error)<br>Density: 3.02 +0.18 -0.16 (6.01% relative error)<br>Radius: 0.701 +0.07 -0.07 (9.42% relative error)\",\"Dataset: EA add 30%<br>Planet: Kepler-138 c<br>Mass: 5.2 +1.20 -1.20 (23.08% relative error)<br>Density: 6.10 +0.34 -0.27 (5.65% relative error)<br>Radius: 1.67 +0.15 -0.15 (8.98% relative error)\",\"Dataset: EA add 30%<br>Planet: Kepler-138 d<br>Mass: 1.17 +0.30 -0.30 (25.64% relative error)<br>Density: 1.36 +0.08 -0.06 (5.87% relative error)<br>Radius: 1.68 +0.15 -0.15 (8.93% relative error)\",\"Dataset: EA add 30%<br>Planet: Kepler-26 b<br>Mass: 5.12 +0.65 -0.61 (12.70% relative error)<br>Density: 1.26 +0.04 -0.03 (3.02% relative error)<br>Radius: 2.78 +0.11 -0.11 (3.96% relative error)\",\"Dataset: EA add 30%<br>Planet: Kepler-26 c<br>Mass: 6.2 +0.65 -0.65 (10.48% relative error)<br>Density: 1.61 +0.05 -0.04 (3.04% relative error)<br>Radius: 2.72 +0.12 -0.12 (4.41% relative error)\",\"Dataset: EA add 30%<br>Planet: Kepler-94 b<br>Mass: 10.84 +1.40 -1.40 (12.92% relative error)<br>Density: 1.45 +0.05 -0.05 (3.25% relative error)<br>Radius: 3.51 +0.15 -0.15 (4.27% relative error)\",\"Dataset: EA add 30%<br>Planet: LP 791-18 c<br>Mass: 7.1 +0.70 -0.70 (9.86% relative error)<br>Density: 2.69 +nan -nan (nan% relative error)<br>Radius: 2.438 +0.10 -0.10 (3.94% relative error)\",\"Dataset: EA add 30%<br>Planet: LTT 1445 A b<br>Mass: 2.87 +0.26 -0.25 (9.06% relative error)<br>Density: 7.10 +0.22 -0.20 (3.07% relative error)<br>Radius: 1.18 +0.06 -0.06 (5.08% relative error)\",\"Dataset: EA add 30%<br>Planet: LTT 1445 A c<br>Mass: 1.54 +0.20 -0.19 (12.99% relative error)<br>Density: 5.57 +0.12 -0.11 (2.22% relative error)<br>Radius: 1.147 +0.06 -0.05 (4.80% relative error)\",\"Dataset: EA add 30%<br>Planet: TOI-1075 b<br>Mass: 9.95 +1.36 -1.30 (13.67% relative error)<br>Density: 9.32 +0.37 -0.34 (3.99% relative error)<br>Radius: 1.791 +0.12 -0.08 (6.48% relative error)\",\"Dataset: EA add 30%<br>Planet: TOI-1201 b<br>Mass: 6.28 +0.84 -0.88 (13.38% relative error)<br>Density: 2.45 +0.09 -0.08 (3.56% relative error)<br>Radius: 2.415 +0.09 -0.09 (3.77% relative error)\",\"Dataset: EA add 30%<br>Planet: TOI-1452 b<br>Mass: 4.82 +1.30 -1.30 (26.97% relative error)<br>Density: 5.60 +0.33 -0.29 (5.83% relative error)<br>Radius: 1.672 +0.07 -0.07 (4.25% relative error)\",\"Dataset: EA add 30%<br>Planet: TOI-1468 b<br>Mass: 3.21 +0.24 -0.24 (7.48% relative error)<br>Density: 8.41 +nan -nan (nan% relative error)<br>Radius: 1.28 +0.04 -0.04 (2.97% relative error)\",\"Dataset: EA add 30%<br>Planet: TOI-1468 c<br>Mass: 6.64 +0.67 -0.68 (10.09% relative error)<br>Density: 4.15 +nan -nan (nan% relative error)<br>Radius: 2.064 +0.04 -0.04 (2.13% relative error)\",\"Dataset: EA add 30%<br>Planet: TOI-1470 b<br>Mass: 7.32 +1.21 -1.24 (16.53% relative error)<br>Density: 3.86 +0.13 -0.12 (3.29% relative error)<br>Radius: 2.18 +0.04 -0.04 (1.83% relative error)\",\"Dataset: EA add 30%<br>Planet: TOI-1695 b<br>Mass: 6.36 +1.00 -1.00 (15.72% relative error)<br>Density: 5.00 +0.33 -0.24 (6.53% relative error)<br>Radius: 1.9 +0.16 -0.14 (8.42% relative error)\",\"Dataset: EA add 30%<br>Planet: TOI-1759 b<br>Mass: 10.8 +1.50 -1.50 (13.89% relative error)<br>Density: 1.91 +0.06 -0.06 (3.04% relative error)<br>Radius: 3.14 +0.10 -0.10 (3.18% relative error)\",\"Dataset: EA add 30%<br>Planet: TOI-244 b<br>Mass: 2.68 +0.30 -0.30 (11.19% relative error)<br>Density: 4.20 +0.20 -0.20 (4.75% relative error)<br>Radius: 1.03 +0.08 -0.08 (7.77% relative error)\"],\"x\":[9.6,3.34,0.633,1.75,2.14,3.09,6.48,2.8,0.187,5.2,1.17,5.12,6.2,10.84,7.1,2.87,1.54,9.95,6.28,4.82,3.21,6.64,7.32,6.36,10.8,2.68],\"y\":[1.22,1.89,10.2,7.3,6.2,4.7,3.7,3.76,3.02,6.1,1.36,1.26,1.61,1.45,2.69,7.1,5.57,9.32,2.45,5.6,8.41,4.15,3.86,5.0,1.91,4.2],\"type\":\"scatter\"},{\"error_x\":{\"array\":[2.07,0.72,0.05,0.44,0.34,0.48,0.99,0.6,0.05,1.2,0.3,0.65,0.65,1.4,0.7,0.26,0.2,1.36,0.84,1.3,0.24,0.67,1.21,1.0,1.5,0.3],\"arrayminus\":[2.31,0.72,0.05,0.45,0.34,0.48,0.93,0.6,0.05,1.2,0.3,0.61,0.65,1.4,0.7,0.25,0.19,1.3,0.88,1.3,0.24,0.68,1.24,1.0,1.5,0.3],\"color\":\"rgba(169, 169, 169, 0.7)\",\"type\":\"data\",\"visible\":true},\"error_y\":{\"array\":[0.16,0.11,0.024,0.04,0.023,0.051,0.257,0.18,0.066,0.15,0.15,0.11,0.12,0.15,0.096,0.06,0.055,0.116,0.091,0.071,0.038,0.044,0.04,0.16,0.1,0.08],\"arrayminus\":[0.16,0.11,0.024,0.04,0.023,0.046,0.256,0.18,0.066,0.15,0.15,0.11,0.12,0.15,0.096,0.06,0.054,0.081,0.09,0.071,0.039,0.044,0.04,0.14,0.1,0.08],\"color\":\"rgba(169, 169, 169, 0.7)\",\"type\":\"data\",\"visible\":true},\"marker\":{\"color\":[454.0,693.0,1365.0,568.0,709.0,557.0,463.0,507.0,524.0,476.0,401.0,431.0,385.0,997.0,324.0,555.0,508.0,1323.0,703.0,326.0,682.0,338.0,734.0,698.0,443.0,387.0],\"colorbar\":{\"title\":{\"text\":\"Temperature\"}},\"colorscale\":[[0.0,\"#000004\"],[0.1111111111111111,\"#1b0c41\"],[0.2222222222222222,\"#4a0c6b\"],[0.3333333333333333,\"#781c6d\"],[0.4444444444444444,\"#a52c60\"],[0.5555555555555556,\"#cf4446\"],[0.6666666666666666,\"#ed6925\"],[0.7777777777777778,\"#fb9b06\"],[0.8888888888888888,\"#f7d13d\"],[1.0,\"#fcffa4\"]],\"showscale\":true,\"size\":12,\"cmax\":1200,\"cmin\":0},\"mode\":\"markers\",\"name\":\"EA add 33%\",\"text\":[\"Dataset: EA add 30%<br>Planet: AU Mic c<br>Mass: 9.6 +2.07 -2.31 (21.56% relative error)<br>Density: 1.22 +0.05 -0.05 (3.87% relative error)<br>Radius: 3.24 +0.16 -0.16 (4.94% relative error)\",\"Dataset: EA add 30%<br>Planet: GJ 3090 b<br>Mass: 3.34 +0.72 -0.72 (21.56% relative error)<br>Density: 1.89 +0.09 -0.08 (4.99% relative error)<br>Radius: 2.13 +0.11 -0.11 (5.16% relative error)\",\"Dataset: EA add 30%<br>Planet: GJ 367 b<br>Mass: 0.633 +0.05 -0.05 (7.90% relative error)<br>Density: 10.20 +0.24 -0.24 (2.31% relative error)<br>Radius: 0.699 +0.02 -0.02 (3.43% relative error)\",\"Dataset: EA add 30%<br>Planet: GJ 3929 b<br>Mass: 1.75 +0.44 -0.45 (25.14% relative error)<br>Density: 7.30 +0.36 -0.36 (4.97% relative error)<br>Radius: 1.09 +0.04 -0.04 (3.67% relative error)\",\"Dataset: EA add 30%<br>Planet: HD 260655 b<br>Mass: 2.14 +0.34 -0.34 (15.89% relative error)<br>Density: 6.20 +0.18 -0.18 (2.93% relative error)<br>Radius: 1.24 +0.02 -0.02 (1.85% relative error)\",\"Dataset: EA add 30%<br>Planet: HD 260655 c<br>Mass: 3.09 +0.48 -0.48 (15.53% relative error)<br>Density: 4.70 +0.16 -0.15 (3.48% relative error)<br>Radius: 1.533 +0.05 -0.05 (3.33% relative error)\",\"Dataset: EA add 30%<br>Planet: K2-3 b<br>Mass: 6.48 +0.99 -0.93 (15.28% relative error)<br>Density: 3.70 +0.30 -0.20 (8.19% relative error)<br>Radius: 2.103 +0.26 -0.26 (12.22% relative error)\",\"Dataset: EA add 30%<br>Planet: Kepler-114 c<br>Mass: 2.8 +0.60 -0.60 (21.43% relative error)<br>Density: 3.76 +nan -nan (nan% relative error)<br>Radius: 1.6 +0.18 -0.18 (11.25% relative error)\",\"Dataset: EA add 30%<br>Planet: Kepler-138 b<br>Mass: 0.187 +0.05 -0.05 (26.74% relative error)<br>Density: 3.02 +0.18 -0.16 (6.01% relative error)<br>Radius: 0.701 +0.07 -0.07 (9.42% relative error)\",\"Dataset: EA add 30%<br>Planet: Kepler-138 c<br>Mass: 5.2 +1.20 -1.20 (23.08% relative error)<br>Density: 6.10 +0.34 -0.27 (5.65% relative error)<br>Radius: 1.67 +0.15 -0.15 (8.98% relative error)\",\"Dataset: EA add 30%<br>Planet: Kepler-138 d<br>Mass: 1.17 +0.30 -0.30 (25.64% relative error)<br>Density: 1.36 +0.08 -0.06 (5.87% relative error)<br>Radius: 1.68 +0.15 -0.15 (8.93% relative error)\",\"Dataset: EA add 30%<br>Planet: Kepler-26 b<br>Mass: 5.12 +0.65 -0.61 (12.70% relative error)<br>Density: 1.26 +0.04 -0.03 (3.02% relative error)<br>Radius: 2.78 +0.11 -0.11 (3.96% relative error)\",\"Dataset: EA add 30%<br>Planet: Kepler-26 c<br>Mass: 6.2 +0.65 -0.65 (10.48% relative error)<br>Density: 1.61 +0.05 -0.04 (3.04% relative error)<br>Radius: 2.72 +0.12 -0.12 (4.41% relative error)\",\"Dataset: EA add 30%<br>Planet: Kepler-94 b<br>Mass: 10.84 +1.40 -1.40 (12.92% relative error)<br>Density: 1.45 +0.05 -0.05 (3.25% relative error)<br>Radius: 3.51 +0.15 -0.15 (4.27% relative error)\",\"Dataset: EA add 30%<br>Planet: LP 791-18 c<br>Mass: 7.1 +0.70 -0.70 (9.86% relative error)<br>Density: 2.69 +nan -nan (nan% relative error)<br>Radius: 2.438 +0.10 -0.10 (3.94% relative error)\",\"Dataset: EA add 30%<br>Planet: LTT 1445 A b<br>Mass: 2.87 +0.26 -0.25 (9.06% relative error)<br>Density: 7.10 +0.22 -0.20 (3.07% relative error)<br>Radius: 1.18 +0.06 -0.06 (5.08% relative error)\",\"Dataset: EA add 30%<br>Planet: LTT 1445 A c<br>Mass: 1.54 +0.20 -0.19 (12.99% relative error)<br>Density: 5.57 +0.12 -0.11 (2.22% relative error)<br>Radius: 1.147 +0.06 -0.05 (4.80% relative error)\",\"Dataset: EA add 30%<br>Planet: TOI-1075 b<br>Mass: 9.95 +1.36 -1.30 (13.67% relative error)<br>Density: 9.32 +0.37 -0.34 (3.99% relative error)<br>Radius: 1.791 +0.12 -0.08 (6.48% relative error)\",\"Dataset: EA add 30%<br>Planet: TOI-1201 b<br>Mass: 6.28 +0.84 -0.88 (13.38% relative error)<br>Density: 2.45 +0.09 -0.08 (3.56% relative error)<br>Radius: 2.415 +0.09 -0.09 (3.77% relative error)\",\"Dataset: EA add 30%<br>Planet: TOI-1452 b<br>Mass: 4.82 +1.30 -1.30 (26.97% relative error)<br>Density: 5.60 +0.33 -0.29 (5.83% relative error)<br>Radius: 1.672 +0.07 -0.07 (4.25% relative error)\",\"Dataset: EA add 30%<br>Planet: TOI-1468 b<br>Mass: 3.21 +0.24 -0.24 (7.48% relative error)<br>Density: 8.41 +nan -nan (nan% relative error)<br>Radius: 1.28 +0.04 -0.04 (2.97% relative error)\",\"Dataset: EA add 30%<br>Planet: TOI-1468 c<br>Mass: 6.64 +0.67 -0.68 (10.09% relative error)<br>Density: 4.15 +nan -nan (nan% relative error)<br>Radius: 2.064 +0.04 -0.04 (2.13% relative error)\",\"Dataset: EA add 30%<br>Planet: TOI-1470 b<br>Mass: 7.32 +1.21 -1.24 (16.53% relative error)<br>Density: 3.86 +0.13 -0.12 (3.29% relative error)<br>Radius: 2.18 +0.04 -0.04 (1.83% relative error)\",\"Dataset: EA add 30%<br>Planet: TOI-1695 b<br>Mass: 6.36 +1.00 -1.00 (15.72% relative error)<br>Density: 5.00 +0.33 -0.24 (6.53% relative error)<br>Radius: 1.9 +0.16 -0.14 (8.42% relative error)\",\"Dataset: EA add 30%<br>Planet: TOI-1759 b<br>Mass: 10.8 +1.50 -1.50 (13.89% relative error)<br>Density: 1.91 +0.06 -0.06 (3.04% relative error)<br>Radius: 3.14 +0.10 -0.10 (3.18% relative error)\",\"Dataset: EA add 30%<br>Planet: TOI-244 b<br>Mass: 2.68 +0.30 -0.30 (11.19% relative error)<br>Density: 4.20 +0.20 -0.20 (4.75% relative error)<br>Radius: 1.03 +0.08 -0.08 (7.77% relative error)\"],\"x\":[9.6,3.34,0.633,1.75,2.14,3.09,6.48,2.8,0.187,5.2,1.17,5.12,6.2,10.84,7.1,2.87,1.54,9.95,6.28,4.82,3.21,6.64,7.32,6.36,10.8,2.68],\"y\":[3.24,2.13,0.699,1.09,1.24,1.533,2.103,1.6,0.701,1.67,1.68,2.78,2.72,3.51,2.438,1.18,1.147,1.791,2.415,1.672,1.28,2.064,2.18,1.9,3.14,1.03],\"type\":\"scatter\"}],                        {\"template\":{\"data\":{\"histogram2dcontour\":[{\"type\":\"histogram2dcontour\",\"colorbar\":{\"outlinewidth\":0,\"ticks\":\"\"},\"colorscale\":[[0.0,\"#0d0887\"],[0.1111111111111111,\"#46039f\"],[0.2222222222222222,\"#7201a8\"],[0.3333333333333333,\"#9c179e\"],[0.4444444444444444,\"#bd3786\"],[0.5555555555555556,\"#d8576b\"],[0.6666666666666666,\"#ed7953\"],[0.7777777777777778,\"#fb9f3a\"],[0.8888888888888888,\"#fdca26\"],[1.0,\"#f0f921\"]]}],\"choropleth\":[{\"type\":\"choropleth\",\"colorbar\":{\"outlinewidth\":0,\"ticks\":\"\"}}],\"histogram2d\":[{\"type\":\"histogram2d\",\"colorbar\":{\"outlinewidth\":0,\"ticks\":\"\"},\"colorscale\":[[0.0,\"#0d0887\"],[0.1111111111111111,\"#46039f\"],[0.2222222222222222,\"#7201a8\"],[0.3333333333333333,\"#9c179e\"],[0.4444444444444444,\"#bd3786\"],[0.5555555555555556,\"#d8576b\"],[0.6666666666666666,\"#ed7953\"],[0.7777777777777778,\"#fb9f3a\"],[0.8888888888888888,\"#fdca26\"],[1.0,\"#f0f921\"]]}],\"heatmap\":[{\"type\":\"heatmap\",\"colorbar\":{\"outlinewidth\":0,\"ticks\":\"\"},\"colorscale\":[[0.0,\"#0d0887\"],[0.1111111111111111,\"#46039f\"],[0.2222222222222222,\"#7201a8\"],[0.3333333333333333,\"#9c179e\"],[0.4444444444444444,\"#bd3786\"],[0.5555555555555556,\"#d8576b\"],[0.6666666666666666,\"#ed7953\"],[0.7777777777777778,\"#fb9f3a\"],[0.8888888888888888,\"#fdca26\"],[1.0,\"#f0f921\"]]}],\"heatmapgl\":[{\"type\":\"heatmapgl\",\"colorbar\":{\"outlinewidth\":0,\"ticks\":\"\"},\"colorscale\":[[0.0,\"#0d0887\"],[0.1111111111111111,\"#46039f\"],[0.2222222222222222,\"#7201a8\"],[0.3333333333333333,\"#9c179e\"],[0.4444444444444444,\"#bd3786\"],[0.5555555555555556,\"#d8576b\"],[0.6666666666666666,\"#ed7953\"],[0.7777777777777778,\"#fb9f3a\"],[0.8888888888888888,\"#fdca26\"],[1.0,\"#f0f921\"]]}],\"contourcarpet\":[{\"type\":\"contourcarpet\",\"colorbar\":{\"outlinewidth\":0,\"ticks\":\"\"}}],\"contour\":[{\"type\":\"contour\",\"colorbar\":{\"outlinewidth\":0,\"ticks\":\"\"},\"colorscale\":[[0.0,\"#0d0887\"],[0.1111111111111111,\"#46039f\"],[0.2222222222222222,\"#7201a8\"],[0.3333333333333333,\"#9c179e\"],[0.4444444444444444,\"#bd3786\"],[0.5555555555555556,\"#d8576b\"],[0.6666666666666666,\"#ed7953\"],[0.7777777777777778,\"#fb9f3a\"],[0.8888888888888888,\"#fdca26\"],[1.0,\"#f0f921\"]]}],\"surface\":[{\"type\":\"surface\",\"colorbar\":{\"outlinewidth\":0,\"ticks\":\"\"},\"colorscale\":[[0.0,\"#0d0887\"],[0.1111111111111111,\"#46039f\"],[0.2222222222222222,\"#7201a8\"],[0.3333333333333333,\"#9c179e\"],[0.4444444444444444,\"#bd3786\"],[0.5555555555555556,\"#d8576b\"],[0.6666666666666666,\"#ed7953\"],[0.7777777777777778,\"#fb9f3a\"],[0.8888888888888888,\"#fdca26\"],[1.0,\"#f0f921\"]]}],\"mesh3d\":[{\"type\":\"mesh3d\",\"colorbar\":{\"outlinewidth\":0,\"ticks\":\"\"}}],\"scatter\":[{\"fillpattern\":{\"fillmode\":\"overlay\",\"size\":10,\"solidity\":0.2},\"type\":\"scatter\"}],\"parcoords\":[{\"type\":\"parcoords\",\"line\":{\"colorbar\":{\"outlinewidth\":0,\"ticks\":\"\"}}}],\"scatterpolargl\":[{\"type\":\"scatterpolargl\",\"marker\":{\"colorbar\":{\"outlinewidth\":0,\"ticks\":\"\"}}}],\"bar\":[{\"error_x\":{\"color\":\"#2a3f5f\"},\"error_y\":{\"color\":\"#2a3f5f\"},\"marker\":{\"line\":{\"color\":\"#E5ECF6\",\"width\":0.5},\"pattern\":{\"fillmode\":\"overlay\",\"size\":10,\"solidity\":0.2}},\"type\":\"bar\"}],\"scattergeo\":[{\"type\":\"scattergeo\",\"marker\":{\"colorbar\":{\"outlinewidth\":0,\"ticks\":\"\"}}}],\"scatterpolar\":[{\"type\":\"scatterpolar\",\"marker\":{\"colorbar\":{\"outlinewidth\":0,\"ticks\":\"\"}}}],\"histogram\":[{\"marker\":{\"pattern\":{\"fillmode\":\"overlay\",\"size\":10,\"solidity\":0.2}},\"type\":\"histogram\"}],\"scattergl\":[{\"type\":\"scattergl\",\"marker\":{\"colorbar\":{\"outlinewidth\":0,\"ticks\":\"\"}}}],\"scatter3d\":[{\"type\":\"scatter3d\",\"line\":{\"colorbar\":{\"outlinewidth\":0,\"ticks\":\"\"}},\"marker\":{\"colorbar\":{\"outlinewidth\":0,\"ticks\":\"\"}}}],\"scattermapbox\":[{\"type\":\"scattermapbox\",\"marker\":{\"colorbar\":{\"outlinewidth\":0,\"ticks\":\"\"}}}],\"scatterternary\":[{\"type\":\"scatterternary\",\"marker\":{\"colorbar\":{\"outlinewidth\":0,\"ticks\":\"\"}}}],\"scattercarpet\":[{\"type\":\"scattercarpet\",\"marker\":{\"colorbar\":{\"outlinewidth\":0,\"ticks\":\"\"}}}],\"carpet\":[{\"aaxis\":{\"endlinecolor\":\"#2a3f5f\",\"gridcolor\":\"white\",\"linecolor\":\"white\",\"minorgridcolor\":\"white\",\"startlinecolor\":\"#2a3f5f\"},\"baxis\":{\"endlinecolor\":\"#2a3f5f\",\"gridcolor\":\"white\",\"linecolor\":\"white\",\"minorgridcolor\":\"white\",\"startlinecolor\":\"#2a3f5f\"},\"type\":\"carpet\"}],\"table\":[{\"cells\":{\"fill\":{\"color\":\"#EBF0F8\"},\"line\":{\"color\":\"white\"}},\"header\":{\"fill\":{\"color\":\"#C8D4E3\"},\"line\":{\"color\":\"white\"}},\"type\":\"table\"}],\"barpolar\":[{\"marker\":{\"line\":{\"color\":\"#E5ECF6\",\"width\":0.5},\"pattern\":{\"fillmode\":\"overlay\",\"size\":10,\"solidity\":0.2}},\"type\":\"barpolar\"}],\"pie\":[{\"automargin\":true,\"type\":\"pie\"}]},\"layout\":{\"autotypenumbers\":\"strict\",\"colorway\":[\"#636efa\",\"#EF553B\",\"#00cc96\",\"#ab63fa\",\"#FFA15A\",\"#19d3f3\",\"#FF6692\",\"#B6E880\",\"#FF97FF\",\"#FECB52\"],\"font\":{\"color\":\"#2a3f5f\"},\"hovermode\":\"closest\",\"hoverlabel\":{\"align\":\"left\"},\"paper_bgcolor\":\"white\",\"plot_bgcolor\":\"#E5ECF6\",\"polar\":{\"bgcolor\":\"#E5ECF6\",\"angularaxis\":{\"gridcolor\":\"white\",\"linecolor\":\"white\",\"ticks\":\"\"},\"radialaxis\":{\"gridcolor\":\"white\",\"linecolor\":\"white\",\"ticks\":\"\"}},\"ternary\":{\"bgcolor\":\"#E5ECF6\",\"aaxis\":{\"gridcolor\":\"white\",\"linecolor\":\"white\",\"ticks\":\"\"},\"baxis\":{\"gridcolor\":\"white\",\"linecolor\":\"white\",\"ticks\":\"\"},\"caxis\":{\"gridcolor\":\"white\",\"linecolor\":\"white\",\"ticks\":\"\"}},\"coloraxis\":{\"colorbar\":{\"outlinewidth\":0,\"ticks\":\"\"}},\"colorscale\":{\"sequential\":[[0.0,\"#0d0887\"],[0.1111111111111111,\"#46039f\"],[0.2222222222222222,\"#7201a8\"],[0.3333333333333333,\"#9c179e\"],[0.4444444444444444,\"#bd3786\"],[0.5555555555555556,\"#d8576b\"],[0.6666666666666666,\"#ed7953\"],[0.7777777777777778,\"#fb9f3a\"],[0.8888888888888888,\"#fdca26\"],[1.0,\"#f0f921\"]],\"sequentialminus\":[[0.0,\"#0d0887\"],[0.1111111111111111,\"#46039f\"],[0.2222222222222222,\"#7201a8\"],[0.3333333333333333,\"#9c179e\"],[0.4444444444444444,\"#bd3786\"],[0.5555555555555556,\"#d8576b\"],[0.6666666666666666,\"#ed7953\"],[0.7777777777777778,\"#fb9f3a\"],[0.8888888888888888,\"#fdca26\"],[1.0,\"#f0f921\"]],\"diverging\":[[0,\"#8e0152\"],[0.1,\"#c51b7d\"],[0.2,\"#de77ae\"],[0.3,\"#f1b6da\"],[0.4,\"#fde0ef\"],[0.5,\"#f7f7f7\"],[0.6,\"#e6f5d0\"],[0.7,\"#b8e186\"],[0.8,\"#7fbc41\"],[0.9,\"#4d9221\"],[1,\"#276419\"]]},\"xaxis\":{\"gridcolor\":\"white\",\"linecolor\":\"white\",\"ticks\":\"\",\"title\":{\"standoff\":15},\"zerolinecolor\":\"white\",\"automargin\":true,\"zerolinewidth\":2},\"yaxis\":{\"gridcolor\":\"white\",\"linecolor\":\"white\",\"ticks\":\"\",\"title\":{\"standoff\":15},\"zerolinecolor\":\"white\",\"automargin\":true,\"zerolinewidth\":2},\"scene\":{\"xaxis\":{\"backgroundcolor\":\"#E5ECF6\",\"gridcolor\":\"white\",\"linecolor\":\"white\",\"showbackground\":true,\"ticks\":\"\",\"zerolinecolor\":\"white\",\"gridwidth\":2},\"yaxis\":{\"backgroundcolor\":\"#E5ECF6\",\"gridcolor\":\"white\",\"linecolor\":\"white\",\"showbackground\":true,\"ticks\":\"\",\"zerolinecolor\":\"white\",\"gridwidth\":2},\"zaxis\":{\"backgroundcolor\":\"#E5ECF6\",\"gridcolor\":\"white\",\"linecolor\":\"white\",\"showbackground\":true,\"ticks\":\"\",\"zerolinecolor\":\"white\",\"gridwidth\":2}},\"shapedefaults\":{\"line\":{\"color\":\"#2a3f5f\"}},\"annotationdefaults\":{\"arrowcolor\":\"#2a3f5f\",\"arrowhead\":0,\"arrowwidth\":1},\"geo\":{\"bgcolor\":\"white\",\"landcolor\":\"#E5ECF6\",\"subunitcolor\":\"white\",\"showland\":true,\"showlakes\":true,\"lakecolor\":\"white\"},\"title\":{\"x\":0.05},\"mapbox\":{\"style\":\"light\"}}},\"xaxis\":{\"type\":\"log\",\"title\":{\"text\":\"$Mass\\\\ [M_{\\\\oplus}]$\"}},\"updatemenus\":[{\"buttons\":[{\"args\":[{\"visible\":[true,false,true,false,true,false]},{\"title\":\"Mass vs. Density\"}],\"label\":\"Mass-Radius\",\"method\":\"update\"},{\"args\":[{\"visible\":[false,true,false,true,false,true]},{\"title\":\"Mass vs. Radius\"}],\"label\":\"Mass-Density\",\"method\":\"update\"}],\"direction\":\"down\",\"showactive\":true,\"x\":0.7,\"xanchor\":\"left\",\"yanchor\":\"top\"}],\"width\":900,\"height\":600,\"coloraxis\":{\"colorscale\":[[0.0,\"#000004\"],[0.1111111111111111,\"#1b0c41\"],[0.2222222222222222,\"#4a0c6b\"],[0.3333333333333333,\"#781c6d\"],[0.4444444444444444,\"#a52c60\"],[0.5555555555555556,\"#cf4446\"],[0.6666666666666666,\"#ed6925\"],[0.7777777777777778,\"#fb9b06\"],[0.8888888888888888,\"#f7d13d\"],[1.0,\"#fcffa4\"]],\"cmin\":0,\"cmax\":1300},\"legend\":{\"x\":1.2,\"y\":1},\"margin\":{\"l\":10,\"r\":10,\"b\":100,\"t\":100},\"xaxis2\":{\"title\":{\"text\":\"$Mass\\\\ [M_{\\\\oplus}]$\"}},\"yaxis2\":{\"title\":{\"text\":\"Radius (Earth Radii)\"}},\"title\":{\"text\":\"Mass vs. Density\"},\"yaxis\":{\"title\":{\"text\":\"$Bulk\\\\ Density\\\\ [\\u03c1_{bulk}/\\u03c1_{\\\\oplus}]$\"}}},                        {\"responsive\": true}                    ).then(function(){\n",
       "                            \n",
       "var gd = document.getElementById('c754cb87-0882-4506-ab56-c84cfeb52183');\n",
       "var x = new MutationObserver(function (mutations, observer) {{\n",
       "        var display = window.getComputedStyle(gd).display;\n",
       "        if (!display || display === 'none') {{\n",
       "            console.log([gd, 'removed!']);\n",
       "            Plotly.purge(gd);\n",
       "            observer.disconnect();\n",
       "        }}\n",
       "}});\n",
       "\n",
       "// Listen for the removal of the full notebook cells\n",
       "var notebookContainer = gd.closest('#notebook-container');\n",
       "if (notebookContainer) {{\n",
       "    x.observe(notebookContainer, {childList: true});\n",
       "}}\n",
       "\n",
       "// Listen for the clearing of the current output cell\n",
       "var outputEl = gd.closest('.output');\n",
       "if (outputEl) {{\n",
       "    x.observe(outputEl, {childList: true});\n",
       "}}\n",
       "\n",
       "                        })                };                });            </script>        </div>"
      ]
     },
     "metadata": {},
     "output_type": "display_data"
    }
   ],
   "source": [
    "import plotly.graph_objs as go\n",
    "from plotly.subplots import make_subplots\n",
    "\n",
    "# Create a subplot with two rows and one column\n",
    "\n",
    "# Create scatter plots for mass-density and mass-radius data\n",
    "scatter1 = go.Scatter(\n",
    "    x=mass,\n",
    "    y=density,\n",
    "    mode='markers',\n",
    "    name='LIV34',\n",
    "    text=hover_text1,\n",
    "    error_x=dict(type='data', array=mass_error_plus, arrayminus=mass_error_minus, visible=True),\n",
    "    error_y=dict(type='data', array=density_error_plus, arrayminus=density_error_minus, visible=True),\n",
    "    marker=dict(color=planet_eq, colorbar=dict(title='Temperature'), colorscale='Inferno', showscale=True)\n",
    ")\n",
    "scatter1.marker['size'] = 12  # Adjust the size of the markers\n",
    "scatter1.error_x['color'] = 'rgba(169, 169, 169, 0.7)'  # Adjust the color of the error bars (grey)\n",
    "scatter1.error_y['color'] = 'rgba(169, 169, 169, 0.7)'  # Adjust the color of the error bars (grey)\n",
    "\n",
    "\n",
    "scatterRM1 = go.Scatter(\n",
    "    x=mass,\n",
    "    y=radius,\n",
    "    mode='markers',\n",
    "    name='LIV34',\n",
    "    text=hover_text4,\n",
    "    error_x=dict(type='data', array=mass_error_plus, arrayminus=mass_error_minus, visible=True),\n",
    "    error_y=dict(type='data', array=radius_error_plus, arrayminus=radius_error_minus, visible=True),\n",
    "    marker=dict(color=planet_eq, colorbar=dict(title='Temperature'), colorscale='Inferno', showscale=True)\n",
    ")\n",
    "\n",
    "scatterRM1.marker['size'] = 12  # Adjust the size of the markers\n",
    "scatterRM1.error_x['color'] = 'rgba(169, 169, 169, 0.7)'  # Adjust the color of the error bars (grey)\n",
    "scatterRM1.error_y['color'] = 'rgba(169, 169, 169, 0.7)'  # Adjust the color of the error bars (grey)\n",
    "\n",
    "scatter2 = go.Scatter(\n",
    "    x=mass2,\n",
    "    y=density2,\n",
    "    mode='markers',\n",
    "    name='EA add',\n",
    "    text=hover_text2,\n",
    "    error_x=dict(type='data', array=mass_error_plus2, arrayminus=mass_error_minus2, visible=True),\n",
    "    error_y=dict(type='data', array=density_error_plus2, arrayminus=density_error_minus2, visible=True),\n",
    "    marker=dict(color=planet_eq2, colorbar=dict(title='Temperature'), colorscale='Inferno', showscale=True)\n",
    ")\n",
    "scatter2.marker['size'] = 12  # Adjust the size of the markers\n",
    "scatter2.error_x['color'] = 'rgba(169, 169, 169, 0.7)'  # Adjust the color of the error bars (grey)\n",
    "scatter2.error_y['color'] = 'rgba(169, 169, 169, 0.7)'  # Adjust the color of the error bars (grey)\n",
    "\n",
    "scatterRM2 = go.Scatter(\n",
    "    x=mass2,\n",
    "    y=radius2,\n",
    "    mode='markers',\n",
    "    name='EA add',\n",
    "    text=hover_textRM2,\n",
    "    error_x=dict(type='data', array=mass_error_plus2, arrayminus=mass_error_minus2, visible=True),\n",
    "    error_y=dict(type='data', array=radius_error_plus2, arrayminus=radius_error_minus2, visible=True),\n",
    "    marker=dict(color=planet_eq2, colorbar=dict(title='Temperature'), colorscale='Inferno', showscale=True)\n",
    ")\n",
    "scatterRM2.marker['size'] = 12  # Adjust the size of the markers\n",
    "scatterRM2.error_x['color'] = 'rgba(169, 169, 169, 0.7)'  # Adjust the color of the error bars (grey)\n",
    "scatterRM2.error_y['color'] = 'rgba(169, 169, 169, 0.7)'  # Adjust the color of the error bars (grey)\n",
    "\n",
    "scatter3 = go.Scatter(\n",
    "    x=mass3,\n",
    "    y=density3,\n",
    "    mode='markers',\n",
    "    name='EA add 33%',\n",
    "    text=hover_text3,\n",
    "    error_x=dict(type='data', array=mass_error_plus3, arrayminus=mass_error_minus3, visible=True),\n",
    "    error_y=dict(type='data', array=density_error_plus3, arrayminus=density_error_minus3, visible=True),\n",
    "    marker=dict(color=planet_eq3, colorbar=dict(title='Temperature'), colorscale='Inferno', showscale=True)\n",
    ")\n",
    "scatter3.marker['size'] = 12  # Adjust the size of the markers\n",
    "scatter3.error_x['color'] = 'rgba(169, 169, 169, 0.7)'  # Adjust the color of the error bars (grey)\n",
    "scatter3.error_y['color'] = 'rgba(169, 169, 169, 0.7)'  # Adjust the color of the error bars (grey)\n",
    "\n",
    "scatterRM3 = go.Scatter(\n",
    "    x=mass3,\n",
    "    y=radius3,\n",
    "    mode='markers',\n",
    "    name='EA add 33%',\n",
    "    text=hover_textRM3,\n",
    "    error_x=dict(type='data', array=mass_error_plus3, arrayminus=mass_error_minus3, visible=True),\n",
    "    error_y=dict(type='data', array=radius_error_plus3, arrayminus=radius_error_minus3, visible=True),\n",
    "    marker=dict(color=planet_eq3, colorbar=dict(title='Temperature'), colorscale='Inferno', showscale=True)\n",
    ")\n",
    "scatterRM3.marker['size'] = 12  # Adjust the size of the markers\n",
    "scatterRM3.error_x['color'] = 'rgba(169, 169, 169, 0.7)'  # Adjust the color of the error bars (grey)\n",
    "scatterRM3.error_y['color'] = 'rgba(169, 169, 169, 0.7)'  # Adjust the color of the error bars (grey)\n",
    "\n",
    "color_axis = dict(\n",
    "    cmin=min(planet_eq),\n",
    "    cmax=max(planet_eq3),\n",
    "    color=planet_eq,\n",
    "    colorbar=dict(title='Temperature', titleside='right'),  # Adjust titleside as needed\n",
    "    colorscale='Inferno',\n",
    "    showscale=True\n",
    ")\n",
    "# Add the scatter plots to the subplot\n",
    "fig = go.Figure()\n",
    "fig.add_trace(scatter1)\n",
    "fig.add_trace(scatterRM1)\n",
    "fig.add_trace(scatter2)\n",
    "fig.add_trace(scatterRM2)\n",
    "fig.add_trace(scatter3)\n",
    "fig.add_trace(scatterRM3)\n",
    "fig.update_traces(marker=dict(cmin=0, cmax=1200))\n",
    "\n",
    "# Create checkboxes for toggling scatter plots\n",
    "checkboxes = [\n",
    "    dict(label='Mass-Radius', method='update', args=[{'visible': [True, False, True, False, True, False]}, {'title': 'Mass vs. Density'}]),\n",
    "    dict(label='Mass-Density', method='update', args=[{'visible': [False, True, False, True, False, True]}, {'title': 'Mass vs. Radius'}])\n",
    "]\n",
    "\n",
    "fig.update_xaxes(type='log')  # 'type' is set to 'log'\n",
    "\n",
    "fig.update_layout(\n",
    "    updatemenus=[\n",
    "        {\n",
    "            'buttons': checkboxes,\n",
    "            'direction': 'down',\n",
    "            'showactive': True,\n",
    "            'x': 0.7,\n",
    "            'xanchor': 'left',\n",
    "            'yanchor': 'top'\n",
    "        },\n",
    "    ],\n",
    "    width=900,  # Adjust the width of the figure\n",
    "    height=600,  # Adjust the height of the figur\n",
    ")\n",
    "\n",
    "# Set a common color scale for all scatter plots\n",
    "color_scale = 'Inferno'  # You can choose a color scale of your preference\n",
    "fig.update_coloraxes(colorscale=color_scale, cmin=0, cmax=1300)\n",
    "fig.update_layout(\n",
    "    legend=dict(x=1.2, y=1),  # Adjust the 'x' and 'y' values to position the legend\n",
    ")\n",
    "\n",
    "# Update the layout of the subplot with increased margins\n",
    "fig.update_layout(\n",
    "    title='Mass vs. Density',\n",
    "    xaxis=dict(title=\"$Mass\\ [M_{\\oplus}]$\"),\n",
    "    yaxis=dict(title=\"$Bulk\\ Density\\ [ρ_{bulk}/ρ_{\\oplus}]$\"),\n",
    "    xaxis2=dict(title=\"$Mass\\ [M_{\\oplus}]$\"),\n",
    "    yaxis2=dict(title='Radius (Earth Radii)'),\n",
    "    margin=dict(l=10, r=10, b=100, t=100),  # Adjust the margins as needed\n",
    ")\n",
    "\n",
    "# Show the plot\n",
    "fig.show()"
   ]
  }
 ],
 "metadata": {
  "kernelspec": {
   "display_name": "Python 3 (ipykernel)",
   "language": "python",
   "name": "python3"
  },
  "language_info": {
   "codemirror_mode": {
    "name": "ipython",
    "version": 3
   },
   "file_extension": ".py",
   "mimetype": "text/x-python",
   "name": "python",
   "nbconvert_exporter": "python",
   "pygments_lexer": "ipython3",
   "version": "3.11.5"
  }
 },
 "nbformat": 4,
 "nbformat_minor": 5
}
