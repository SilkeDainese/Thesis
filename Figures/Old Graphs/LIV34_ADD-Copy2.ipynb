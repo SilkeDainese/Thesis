{
 "cells": [
  {
   "cell_type": "code",
   "execution_count": 1,
   "id": "7e9bdec8",
   "metadata": {},
   "outputs": [],
   "source": [
    "import numpy as np\n",
    "import pandas as pd\n",
    "from matplotlib import pyplot as plt\n",
    "import scipy\n",
    "import seaborn as sns\n",
    "import plotly.graph_objects as go\n",
    "import warnings\n",
    "warnings.filterwarnings(\"ignore\")\n",
    "\n",
    "earth_density    = 5.51   # [g/cm**3]"
   ]
  },
  {
   "cell_type": "code",
   "execution_count": 3,
   "id": "d7bbcb5c",
   "metadata": {},
   "outputs": [],
   "source": [
    "dataEA = pd.read_csv(r\"C:\\Users\\silke\\OneDrive\\Skrivebord\\Thesis\\Exoplanet_Archive.csv\",delimiter=\",\")\n",
    "dataLI = pd.read_csv(r\"C:\\Users\\silke\\OneDrive\\Skrivebord\\Thesis\\STPM_improved_210721.csv\",delimiter=\",\")\n",
    "planet_name_LI        = list(dataLI[\"Star\"]+\" \"+dataLI[\"Planet\"])\n",
    "\n",
    "earth_like_rocky  = pd.read_csv(r\"C:\\Users\\silke\\OneDrive\\Skrivebord\\Thesis\\Mass_Radius_Curves\\Earth-like Rocky (32.5% Fe+67.5% MgSiO3).txt\",delimiter = \"\\t\")\n",
    "H20_50_500K       = pd.read_csv(r\"C:\\Users\\silke\\OneDrive\\Skrivebord\\Thesis\\Mass_Radius_Curves\\50% H2O (50% Earth-like rocky core + 50% H2O layer by mass)_500 K_1mili-bar surface temprture.txt\",delimiter = \"\\t\")"
   ]
  },
  {
   "cell_type": "code",
   "execution_count": 4,
   "id": "788d56aa",
   "metadata": {},
   "outputs": [],
   "source": [
    "# Luque Impoved\n",
    "planet_id_LI         = dataLI.ID\n",
    "star_name_LI         = dataLI.Star\n",
    "planet_letter_LI     = dataLI.Planet\n",
    "\n",
    "radius_LI            = dataLI.R_Rterra            # [Earth Radius]\n",
    "radius_unc_up_LI     = dataLI.euR_Rterra          # [Earth Radius] Upper Unc.\n",
    "radius_unc_low_LI    = dataLI.edR_Rterra          # [Earth Radius] Lower Unc.\n",
    "\n",
    "mass_LI              = dataLI.M_Mterra            # [Earth Mass] - Planet Mass or Mass*sin(i) [Earth Mass]\n",
    "mass_unc_up_LI       = dataLI.euM_Mterra          # [Earth Mass] Upper Unc.\n",
    "mass_unc_low_LI      = dataLI.edM_Mterra          # [Earth Mass] Lower Unc.\n",
    "\n",
    "density_LI           = dataLI[dataLI.columns[32]]  # [g/cm**3]\n",
    "density_unc_up_LI    = dataLI[dataLI.columns[33]]  # [g/cm**3] Planet Density Upper Unc. \n",
    "density_unc_low_LI   = dataLI[dataLI.columns[34]]  # [g/cm**3] Planet Density Lower Unc\n",
    "pl_eq_LI             = dataLI.Teq_K                # [K] Equilibrium Temperature\n",
    "\n",
    "\n",
    "# Exoplanet Archive\n",
    "planet_name_EA       = dataEA.pl_name\n",
    "planet_id_EA         = list(range(0,len(planet_name_EA)))\n",
    "\n",
    "radius_EA            = dataEA.pl_rade            # [Earth Radius]\n",
    "period_EA            = dataEA.pl_orbper          # [days]\n",
    "radius_unc_up_EA     = dataEA.pl_radeerr1        # [Earth Radius] Upper Unc.\n",
    "radius_unc_low_EA    = dataEA.pl_radeerr2        # [Earth Radius] Lower Unc.\n",
    "mass_EA              = dataEA.pl_bmasse          # [Earth Mass] - Planet Mass or Mass*sin(i) [Earth Mass]\n",
    "\n",
    "mass_unc_up_EA       = dataEA.pl_bmasseerr1      # [Earth Mass] Upper Unc.\n",
    "mass_unc_low_EA      = dataEA.pl_bmasseerr2      # [Earth Mass] Lower Unc.\n",
    "\n",
    "density_EA           = dataEA.pl_dens            # [g/cm**3]\n",
    "density_unc_up_EA    = dataEA.pl_denserr1        # [g/cm**3] Planet Density Upper Unc. \n",
    "density_unc_low_EA   = dataEA.pl_denserr2        # [g/cm**3] Planet Density Lower Unc. \n",
    "st_spectype_EA       = dataEA.st_spectype        # Spectral type of star\n",
    "pl_eq_EA             = dataEA.pl_eqt             # [K] Equilibrium Temperature\n",
    "\n",
    "for i in range(0,len(planet_name_LI)):\n",
    "    if planet_name_LI[i] == 'CD-60 8051 b':\n",
    "        planet_name_LI[i] = 'L 168-9 b'\n",
    "    if planet_name_LI[i] == 'GJ 3053 b':\n",
    "        planet_name_LI[i] = 'LHS 1140 b'\n",
    "    if planet_name_LI[i] == 'GJ 3053 c':\n",
    "        planet_name_LI[i] = 'LHS 1140 c'\n",
    "\n",
    "##### Use the Luque values for planets in that sample #### \n",
    "for i in range(0,len(planet_name_EA)):\n",
    "    if planet_name_EA[i] in planet_name_LI:\n",
    "        LI_index              = planet_name_LI.index(planet_name_EA[i])\n",
    "        \n",
    "        pl_eq_EA[i]           = pl_eq_LI[LI_index]\n",
    "        mass_EA[i]            = mass_LI[LI_index]\n",
    "        mass_unc_up_EA[i]     = mass_unc_up_LI[LI_index]\n",
    "        mass_unc_low_EA[i]    = mass_unc_low_LI[LI_index]\n",
    "        \n",
    "        radius_EA[i]          = radius_LI[LI_index]\n",
    "        radius_unc_up_EA[i]   = radius_unc_up_LI[LI_index]      \n",
    "        radius_unc_low_EA[i]  = radius_unc_low_LI[LI_index]    \n",
    "\n",
    "        density_EA[i]         = density_LI[LI_index]  \n",
    "        density_unc_up_EA[i]  = density_unc_up_LI[LI_index]  \n",
    "        density_unc_low_EA[i] = density_unc_low_LI[LI_index] \n",
    "        st_spectype_EA[i]     = \"M\""
   ]
  },
  {
   "cell_type": "markdown",
   "id": "357bb7e2",
   "metadata": {},
   "source": [
    "# Filters"
   ]
  },
  {
   "cell_type": "markdown",
   "id": "5bb18deb",
   "metadata": {},
   "source": [
    "### Choose LIV34"
   ]
  },
  {
   "cell_type": "code",
   "execution_count": 5,
   "id": "6d9bd3c4",
   "metadata": {},
   "outputs": [],
   "source": [
    "def liv34(EA_planets):\n",
    "    LIV34_planets = [\"K2-146 b\",'TRAPPIST-1 h', 'TRAPPIST-1 d', 'TRAPPIST-1 e', 'TRAPPIST-1 f', 'TRAPPIST-1 g', 'TRAPPIST-1 c', 'TRAPPIST-1 b', 'GJ 1132 b', 'TOI-270 b', 'LHS 1140 c', 'GJ 1252 b', 'GJ 357 b', 'LTT 3780 b', 'LHS 1478 b', 'GJ 486 b', 'GJ 3473 b', 'L 168-9 b', 'L 98-59 c', 'L 98-59 d', 'LHS 1140 b', 'TOI-270 d', 'TOI-776 b', 'TOI-1634 b', 'TOI-1685 b', 'TOI-1235 b', 'K2-146 c', 'LTT 3780 c', 'TOI-270 c', 'K2-18 b', 'TOI-269 b', 'GJ 1214 b', 'K2-25 b', 'TOI-1231 b'] \n",
    "    planet      = []; planet_i      = []; planet_eq   = []; \n",
    "    radius      = []; radius_up     = []; radius_low  = []\n",
    "    mass        = []; mass_up       = []; mass_low    = []\n",
    "    density     = []; density_up    = []; density_low = []\n",
    "    \n",
    "    for i in range(0,len(EA_planets)):\n",
    "        if EA_planets[i] in LIV34_planets:\n",
    "            index  = list(planet_name_EA).index(EA_planets[i]); planet.append(dataEA.pl_name[index])\n",
    "            planet_eq.append(pl_eq_EA[i])\n",
    "            radius.append(dataEA.pl_rade[index]); radius_up.append(dataEA.pl_radeerr1[index]); radius_low.append(dataEA.pl_radeerr2[index])\n",
    "            density.append(dataEA.pl_dens[index]); density_up.append(dataEA.pl_denserr1[index]); density_low.append(dataEA.pl_denserr2[index])\n",
    "            mass.append(dataEA.pl_bmasse[index]); mass_up.append(dataEA.pl_bmasseerr1[index]);  mass_low.append(dataEA.pl_bmasseerr2[index])\n",
    "    return index,planet,radius,radius_up,radius_low,density,density_up,density_low,mass,mass_up,mass_low,planet_eq"
   ]
  },
  {
   "cell_type": "markdown",
   "id": "021c2e99",
   "metadata": {},
   "source": [
    "## Plot data"
   ]
  },
  {
   "cell_type": "code",
   "execution_count": 6,
   "id": "098749e4",
   "metadata": {},
   "outputs": [],
   "source": [
    "index,planet,radius,radius_up,radius_low,density,density_up,density_low,mass,mass_up,mass_low,planet_eq = liv34(planet_name_EA)\n",
    "planet2      = []; planet_i2       = []; planet_eq2   = []\n",
    "radius2      = []; radius_up2      = []; radius_low2  = []\n",
    "mass2        = []; mass_up2        = []; mass_low2    = []\n",
    "density2     = []; density_up2     = []; density_low2 = []\n",
    "\n",
    "radius2 = []\n",
    "planet2 = []\n",
    "for i in range(0,len(planet_name_EA)):\n",
    "    if ((radius_unc_up_EA[i] + radius_unc_up_EA[i])*0.5) / radius_EA[i] < 0.2 and  radius_EA[i]<4 and \"M\" in str(st_spectype_EA[i]):\n",
    "        if ((mass_unc_up_EA[i] + mass_unc_up_EA[i])*0.5) / mass_EA[i] < 0.2:\n",
    "            if planet_name_EA[i] not in planet:\n",
    "                planet_eq2.append(pl_eq_EA[i]); planet2.append(planet_name_EA[i])\n",
    "                radius2.append(dataEA.pl_rade[i]); radius_up2.append(dataEA.pl_radeerr1[i]); radius_low2.append(dataEA.pl_radeerr2[i])\n",
    "                density2.append(dataEA.pl_dens[i]); density_up2.append(dataEA.pl_denserr1[i]); density_low2.append(dataEA.pl_denserr2[i])\n",
    "                mass2.append(dataEA.pl_bmasse[i]); mass_up2.append(dataEA.pl_bmasseerr1[i]);  mass_low2.append(dataEA.pl_bmasseerr2[i])\n",
    "                \n",
    "mass_error_plus = mass_up\n",
    "mass_error_minus = np.abs(mass_low)\n",
    "radius_error_plus = radius_up\n",
    "radius_error_minus = np.abs(radius_low)\n",
    "density_error_plus = np.divide(density_up,earth_density)\n",
    "density_error_minus = np.divide(np.abs(density_low),earth_density)\n",
    "planet_eq = planet_eq \n",
    "\n",
    "mass_error_plus2 = mass_up2\n",
    "mass_error_minus2 = np.abs(mass_low2)\n",
    "density_error_plus2 = np.divide(density_up2,earth_density)\n",
    "density_error_minus2= np.divide(np.abs(density_low2),earth_density)\n",
    "radius_error_plus2 = radius_up2\n",
    "radius_error_minus2 = np.abs(radius_low2)\n",
    "\n",
    "planet3      = []; planet_i3       = []; planet_eq3   = []\n",
    "radius3      = []; radius_up3      = []; radius_low3  = []\n",
    "mass3        = []; mass_up3        = []; mass_low3    = []\n",
    "density3     = []; density_up3     = []; density_low3 = []\n",
    "for i in range(0,len(planet_name_EA)):\n",
    "    if ((radius_unc_up_EA[i] + radius_unc_up_EA[i])*0.5) / radius_EA[i] < 0.33 and  radius_EA[i]<4 and \"M\" in str(st_spectype_EA[i]):\n",
    "        if ((mass_unc_up_EA[i] + mass_unc_up_EA[i])*0.5) / mass_EA[i] < 0.33:\n",
    "            if planet_name_EA[i] not in planet:\n",
    "                planet_eq3.append(pl_eq_EA[i]); planet3.append(planet_name_EA[i])\n",
    "                radius3.append(dataEA.pl_rade[i]); radius_up3.append(dataEA.pl_radeerr1[i]); radius_low3.append(dataEA.pl_radeerr2[i])\n",
    "                density3.append(dataEA.pl_dens[i]); density_up3.append(dataEA.pl_denserr1[i]); density_low3.append(dataEA.pl_denserr2[i])\n",
    "                mass3.append(dataEA.pl_bmasse[i]); mass_up3.append(dataEA.pl_bmasseerr1[i]);  mass_low3.append(dataEA.pl_bmasseerr2[i])\n",
    "\n",
    "mass_error_plus3    = mass_up3\n",
    "mass_error_minus3   = np.abs(mass_low3)\n",
    "density_error_plus3 = np.divide(density_up3,earth_density)\n",
    "density_error_minus3= np.divide(np.abs(density_low3),earth_density)\n",
    "radius_error_plus3  = radius_up3\n",
    "radius_error_minus3 = np.abs(radius_low3)\n",
    "\n",
    "planet_combined     = planet + planet2\n",
    "planet_eq_combined  = planet_eq + planet_eq2\n",
    "\n",
    "radius_combined     = radius + radius2\n",
    "radius_up_combined  = radius_up + radius_up2\n",
    "radius_low_combined = radius_low + radius_low2\n",
    "\n",
    "mass_combined      = mass + mass2\n",
    "mass_up_combined   = mass_up + mass_up2\n",
    "mass_low_combined  = mass_low + mass_low2\n",
    "\n",
    "density_combined      = density + density2\n",
    "density_up_combined   = density_up + density_up2\n",
    "density_low_combined  = density_low + density_low2\n",
    "\n",
    "mass_error_plus_combined    = mass_up_combined\n",
    "mass_error_minus_combined   = np.abs(mass_low_combined)\n",
    "density_error_plus_combined = np.divide(density_up_combined,earth_density)\n",
    "density_error_minus_combined= np.divide(np.abs(density_low_combined),earth_density)\n",
    "radius_error_plus_combined  = radius_up_combined\n",
    "radius_error_minus_combined = np.abs(radius_low_combined)\n",
    "\n",
    "planet_combined33     = planet + planet3\n",
    "planet_eq_combined33  = planet_eq + planet_eq3\n",
    "\n",
    "radius_combined33     = radius + radius3\n",
    "radius_up_combined33  = radius_up + radius_up3\n",
    "radius_low_combined33 = radius_low + radius_low3\n",
    "\n",
    "mass_combined33      = mass + mass3\n",
    "mass_up_combined33   = mass_up + mass_up3\n",
    "mass_low_combined33  = mass_low + mass_low3\n",
    "\n",
    "density_combined33      = density + density3\n",
    "density_up_combined33   = density_up + density_up3\n",
    "density_low_combined33  = density_low + density_low3\n",
    "\n",
    "mass_error_plus_combined33    = mass_up_combined33\n",
    "mass_error_minus_combined33   = np.abs(mass_low_combined33)\n",
    "density_error_plus_combined33 = np.divide(density_up_combined33,earth_density)\n",
    "density_error_minus_combined33= np.divide(np.abs(density_low_combined33),earth_density)\n",
    "radius_error_plus_combined33  = radius_up_combined33\n",
    "radius_error_minus_combined33 = np.abs(radius_low_combined33)\n",
    "\n",
    "\n",
    "comined_label = []\n",
    "for i in range(0,len(mass)):\n",
    "    comined_label.append(\"LIV34\")\n",
    "for i in range(0,len(mass2)):\n",
    "    comined_label.append(\"EA add\")\n",
    "\n",
    "relative_mass_error1 = [error / mass_val if mass_val != 0 else 0 for mass_val, error in zip(mass, mass_error_plus)]\n",
    "relative_density_error1 = [error / density_val if density_val != 0 else 0 for density_val, error in zip(density, density_error_plus)]\n",
    "relative_radius_error1 = [error / radius_val if radius_val != 0 else 0 for radius_val, error in zip(radius, radius_error_plus)]"
   ]
  },
  {
   "cell_type": "code",
   "execution_count": 9,
   "id": "6845a29b",
   "metadata": {},
   "outputs": [
    {
     "data": {
      "application/vnd.plotly.v1+json": {
       "config": {
        "plotlyServerURL": "https://plot.ly"
       },
       "data": [
        {
         "mode": "lines+markers",
         "name": "LIV34",
         "type": "scatter",
         "visible": "legendonly",
         "x": [
          1.66,
          6.26,
          1.32,
          1.86,
          1.84,
          2.82,
          5.77,
          7.49,
          8.64,
          24.5,
          4.6,
          2.42,
          2.31,
          6.38,
          1.76,
          2.33,
          2.47,
          7.02,
          15.4,
          6.69,
          7.57,
          3.09,
          8.8,
          1.58,
          6.14,
          4.78,
          4,
          1.374,
          1.308,
          0.388,
          0.692,
          1.039,
          1.321,
          0.326
         ],
         "y": [
          1.13,
          2.85,
          1.193,
          1.264,
          1.217,
          1.305,
          2.05,
          2.19,
          2.711,
          3.44,
          1.39,
          1.34,
          1.58,
          1.635,
          1.169,
          1.242,
          1.32,
          2.33,
          3.65,
          1.694,
          1.773,
          1.7,
          2.77,
          1.151,
          2.332,
          2.005,
          1.85,
          1.116,
          1.097,
          0.788,
          0.92,
          1.045,
          1.129,
          0.755
         ]
        },
        {
         "mode": "lines+markers",
         "name": "EA ADD)",
         "type": "scatter",
         "visible": "legendonly",
         "x": [
          0.633,
          2.14,
          3.09,
          6.48,
          5.12,
          6.2,
          10.84,
          7.1,
          2.87,
          1.54,
          9.95,
          6.28,
          3.21,
          6.64,
          7.32,
          6.36,
          10.8,
          2.68
         ],
         "y": [
          0.699,
          1.24,
          1.533,
          2.103,
          2.78,
          2.72,
          3.51,
          2.438,
          1.18,
          1.147,
          1.791,
          2.415,
          1.28,
          2.064,
          2.18,
          1.9,
          3.14,
          1.03
         ]
        },
        {
         "mode": "lines+markers",
         "name": "EA ADD 33%",
         "type": "scatter",
         "visible": "legendonly",
         "x": [
          9.6,
          3.34,
          0.633,
          1.75,
          2.14,
          3.09,
          6.48,
          2.8,
          0.187,
          5.2,
          1.17,
          5.12,
          6.2,
          10.84,
          7.1,
          2.87,
          1.54,
          9.95,
          6.28,
          4.82,
          3.21,
          6.64,
          7.32,
          6.36,
          10.8,
          2.68
         ],
         "y": [
          3.24,
          2.13,
          0.699,
          1.09,
          1.24,
          1.533,
          2.103,
          1.6,
          0.701,
          1.67,
          1.68,
          2.78,
          2.72,
          3.51,
          2.438,
          1.18,
          1.147,
          1.791,
          2.415,
          1.672,
          1.28,
          2.064,
          2.18,
          1.9,
          3.14,
          1.03
         ]
        },
        {
         "mode": "lines+markers",
         "name": "Apples (Week 2)",
         "type": "scatter",
         "visible": "legendonly",
         "x": [
          1.66,
          6.26,
          1.32,
          1.86,
          1.84,
          2.82,
          5.77,
          7.49,
          8.64,
          24.5,
          4.6,
          2.42,
          2.31,
          6.38,
          1.76,
          2.33,
          2.47,
          7.02,
          15.4,
          6.69,
          7.57,
          3.09,
          8.8,
          1.58,
          6.14,
          4.78,
          4,
          1.374,
          1.308,
          0.388,
          0.692,
          1.039,
          1.321,
          0.326
         ],
         "y": [
          6.3,
          1.49,
          4.22,
          5.03,
          5.6,
          7,
          3.69,
          3.92,
          2.4,
          3.3,
          9.6,
          5.46,
          3.17,
          8.04,
          6.07,
          6.67,
          5.91,
          3.03,
          1.74,
          7.25,
          7.59,
          3.44,
          2.28,
          5.7,
          2.68,
          3.28,
          3.4,
          5.425,
          5.447,
          4.354,
          4.885,
          5.009,
          5.042,
          4.147
         ]
        },
        {
         "mode": "lines+markers",
         "name": "Pears (Week 2)",
         "type": "scatter",
         "visible": "legendonly",
         "x": [
          1.66,
          6.26,
          1.32,
          1.86,
          1.84,
          2.82,
          5.77,
          7.49,
          8.64,
          24.5,
          4.6,
          2.42,
          2.31,
          6.38,
          1.76,
          2.33,
          2.47,
          7.02,
          15.4,
          6.69,
          7.57,
          3.09,
          8.8,
          1.58,
          6.14,
          4.78,
          4,
          1.374,
          1.308,
          0.388,
          0.692,
          1.039,
          1.321,
          0.326
         ],
         "y": [
          10.2,
          6.2,
          4.7,
          3.7,
          1.26,
          1.61,
          1.45,
          2.69,
          7.1,
          5.57,
          9.32,
          2.45,
          8.41,
          4.15,
          3.86,
          5,
          1.91,
          4.2
         ]
        },
        {
         "mode": "lines+markers",
         "name": "Bananas (Week 2)",
         "type": "scatter",
         "visible": "legendonly",
         "x": [
          1.66,
          6.26,
          1.32,
          1.86,
          1.84,
          2.82,
          5.77,
          7.49,
          8.64,
          24.5,
          4.6,
          2.42,
          2.31,
          6.38,
          1.76,
          2.33,
          2.47,
          7.02,
          15.4,
          6.69,
          7.57,
          3.09,
          8.8,
          1.58,
          6.14,
          4.78,
          4,
          1.374,
          1.308,
          0.388,
          0.692,
          1.039,
          1.321,
          0.326
         ],
         "y": [
          1.22,
          1.89,
          10.2,
          7.3,
          6.2,
          4.7,
          3.7,
          3.76,
          3.02,
          6.1,
          1.36,
          1.26,
          1.61,
          1.45,
          2.69,
          7.1,
          5.57,
          9.32,
          2.45,
          5.6,
          8.41,
          4.15,
          3.86,
          5,
          1.91,
          4.2
         ]
        }
       ],
       "layout": {
        "template": {
         "data": {
          "bar": [
           {
            "error_x": {
             "color": "#2a3f5f"
            },
            "error_y": {
             "color": "#2a3f5f"
            },
            "marker": {
             "line": {
              "color": "#E5ECF6",
              "width": 0.5
             },
             "pattern": {
              "fillmode": "overlay",
              "size": 10,
              "solidity": 0.2
             }
            },
            "type": "bar"
           }
          ],
          "barpolar": [
           {
            "marker": {
             "line": {
              "color": "#E5ECF6",
              "width": 0.5
             },
             "pattern": {
              "fillmode": "overlay",
              "size": 10,
              "solidity": 0.2
             }
            },
            "type": "barpolar"
           }
          ],
          "carpet": [
           {
            "aaxis": {
             "endlinecolor": "#2a3f5f",
             "gridcolor": "white",
             "linecolor": "white",
             "minorgridcolor": "white",
             "startlinecolor": "#2a3f5f"
            },
            "baxis": {
             "endlinecolor": "#2a3f5f",
             "gridcolor": "white",
             "linecolor": "white",
             "minorgridcolor": "white",
             "startlinecolor": "#2a3f5f"
            },
            "type": "carpet"
           }
          ],
          "choropleth": [
           {
            "colorbar": {
             "outlinewidth": 0,
             "ticks": ""
            },
            "type": "choropleth"
           }
          ],
          "contour": [
           {
            "colorbar": {
             "outlinewidth": 0,
             "ticks": ""
            },
            "colorscale": [
             [
              0,
              "#0d0887"
             ],
             [
              0.1111111111111111,
              "#46039f"
             ],
             [
              0.2222222222222222,
              "#7201a8"
             ],
             [
              0.3333333333333333,
              "#9c179e"
             ],
             [
              0.4444444444444444,
              "#bd3786"
             ],
             [
              0.5555555555555556,
              "#d8576b"
             ],
             [
              0.6666666666666666,
              "#ed7953"
             ],
             [
              0.7777777777777778,
              "#fb9f3a"
             ],
             [
              0.8888888888888888,
              "#fdca26"
             ],
             [
              1,
              "#f0f921"
             ]
            ],
            "type": "contour"
           }
          ],
          "contourcarpet": [
           {
            "colorbar": {
             "outlinewidth": 0,
             "ticks": ""
            },
            "type": "contourcarpet"
           }
          ],
          "heatmap": [
           {
            "colorbar": {
             "outlinewidth": 0,
             "ticks": ""
            },
            "colorscale": [
             [
              0,
              "#0d0887"
             ],
             [
              0.1111111111111111,
              "#46039f"
             ],
             [
              0.2222222222222222,
              "#7201a8"
             ],
             [
              0.3333333333333333,
              "#9c179e"
             ],
             [
              0.4444444444444444,
              "#bd3786"
             ],
             [
              0.5555555555555556,
              "#d8576b"
             ],
             [
              0.6666666666666666,
              "#ed7953"
             ],
             [
              0.7777777777777778,
              "#fb9f3a"
             ],
             [
              0.8888888888888888,
              "#fdca26"
             ],
             [
              1,
              "#f0f921"
             ]
            ],
            "type": "heatmap"
           }
          ],
          "heatmapgl": [
           {
            "colorbar": {
             "outlinewidth": 0,
             "ticks": ""
            },
            "colorscale": [
             [
              0,
              "#0d0887"
             ],
             [
              0.1111111111111111,
              "#46039f"
             ],
             [
              0.2222222222222222,
              "#7201a8"
             ],
             [
              0.3333333333333333,
              "#9c179e"
             ],
             [
              0.4444444444444444,
              "#bd3786"
             ],
             [
              0.5555555555555556,
              "#d8576b"
             ],
             [
              0.6666666666666666,
              "#ed7953"
             ],
             [
              0.7777777777777778,
              "#fb9f3a"
             ],
             [
              0.8888888888888888,
              "#fdca26"
             ],
             [
              1,
              "#f0f921"
             ]
            ],
            "type": "heatmapgl"
           }
          ],
          "histogram": [
           {
            "marker": {
             "pattern": {
              "fillmode": "overlay",
              "size": 10,
              "solidity": 0.2
             }
            },
            "type": "histogram"
           }
          ],
          "histogram2d": [
           {
            "colorbar": {
             "outlinewidth": 0,
             "ticks": ""
            },
            "colorscale": [
             [
              0,
              "#0d0887"
             ],
             [
              0.1111111111111111,
              "#46039f"
             ],
             [
              0.2222222222222222,
              "#7201a8"
             ],
             [
              0.3333333333333333,
              "#9c179e"
             ],
             [
              0.4444444444444444,
              "#bd3786"
             ],
             [
              0.5555555555555556,
              "#d8576b"
             ],
             [
              0.6666666666666666,
              "#ed7953"
             ],
             [
              0.7777777777777778,
              "#fb9f3a"
             ],
             [
              0.8888888888888888,
              "#fdca26"
             ],
             [
              1,
              "#f0f921"
             ]
            ],
            "type": "histogram2d"
           }
          ],
          "histogram2dcontour": [
           {
            "colorbar": {
             "outlinewidth": 0,
             "ticks": ""
            },
            "colorscale": [
             [
              0,
              "#0d0887"
             ],
             [
              0.1111111111111111,
              "#46039f"
             ],
             [
              0.2222222222222222,
              "#7201a8"
             ],
             [
              0.3333333333333333,
              "#9c179e"
             ],
             [
              0.4444444444444444,
              "#bd3786"
             ],
             [
              0.5555555555555556,
              "#d8576b"
             ],
             [
              0.6666666666666666,
              "#ed7953"
             ],
             [
              0.7777777777777778,
              "#fb9f3a"
             ],
             [
              0.8888888888888888,
              "#fdca26"
             ],
             [
              1,
              "#f0f921"
             ]
            ],
            "type": "histogram2dcontour"
           }
          ],
          "mesh3d": [
           {
            "colorbar": {
             "outlinewidth": 0,
             "ticks": ""
            },
            "type": "mesh3d"
           }
          ],
          "parcoords": [
           {
            "line": {
             "colorbar": {
              "outlinewidth": 0,
              "ticks": ""
             }
            },
            "type": "parcoords"
           }
          ],
          "pie": [
           {
            "automargin": true,
            "type": "pie"
           }
          ],
          "scatter": [
           {
            "fillpattern": {
             "fillmode": "overlay",
             "size": 10,
             "solidity": 0.2
            },
            "type": "scatter"
           }
          ],
          "scatter3d": [
           {
            "line": {
             "colorbar": {
              "outlinewidth": 0,
              "ticks": ""
             }
            },
            "marker": {
             "colorbar": {
              "outlinewidth": 0,
              "ticks": ""
             }
            },
            "type": "scatter3d"
           }
          ],
          "scattercarpet": [
           {
            "marker": {
             "colorbar": {
              "outlinewidth": 0,
              "ticks": ""
             }
            },
            "type": "scattercarpet"
           }
          ],
          "scattergeo": [
           {
            "marker": {
             "colorbar": {
              "outlinewidth": 0,
              "ticks": ""
             }
            },
            "type": "scattergeo"
           }
          ],
          "scattergl": [
           {
            "marker": {
             "colorbar": {
              "outlinewidth": 0,
              "ticks": ""
             }
            },
            "type": "scattergl"
           }
          ],
          "scattermapbox": [
           {
            "marker": {
             "colorbar": {
              "outlinewidth": 0,
              "ticks": ""
             }
            },
            "type": "scattermapbox"
           }
          ],
          "scatterpolar": [
           {
            "marker": {
             "colorbar": {
              "outlinewidth": 0,
              "ticks": ""
             }
            },
            "type": "scatterpolar"
           }
          ],
          "scatterpolargl": [
           {
            "marker": {
             "colorbar": {
              "outlinewidth": 0,
              "ticks": ""
             }
            },
            "type": "scatterpolargl"
           }
          ],
          "scatterternary": [
           {
            "marker": {
             "colorbar": {
              "outlinewidth": 0,
              "ticks": ""
             }
            },
            "type": "scatterternary"
           }
          ],
          "surface": [
           {
            "colorbar": {
             "outlinewidth": 0,
             "ticks": ""
            },
            "colorscale": [
             [
              0,
              "#0d0887"
             ],
             [
              0.1111111111111111,
              "#46039f"
             ],
             [
              0.2222222222222222,
              "#7201a8"
             ],
             [
              0.3333333333333333,
              "#9c179e"
             ],
             [
              0.4444444444444444,
              "#bd3786"
             ],
             [
              0.5555555555555556,
              "#d8576b"
             ],
             [
              0.6666666666666666,
              "#ed7953"
             ],
             [
              0.7777777777777778,
              "#fb9f3a"
             ],
             [
              0.8888888888888888,
              "#fdca26"
             ],
             [
              1,
              "#f0f921"
             ]
            ],
            "type": "surface"
           }
          ],
          "table": [
           {
            "cells": {
             "fill": {
              "color": "#EBF0F8"
             },
             "line": {
              "color": "white"
             }
            },
            "header": {
             "fill": {
              "color": "#C8D4E3"
             },
             "line": {
              "color": "white"
             }
            },
            "type": "table"
           }
          ]
         },
         "layout": {
          "annotationdefaults": {
           "arrowcolor": "#2a3f5f",
           "arrowhead": 0,
           "arrowwidth": 1
          },
          "autotypenumbers": "strict",
          "coloraxis": {
           "colorbar": {
            "outlinewidth": 0,
            "ticks": ""
           }
          },
          "colorscale": {
           "diverging": [
            [
             0,
             "#8e0152"
            ],
            [
             0.1,
             "#c51b7d"
            ],
            [
             0.2,
             "#de77ae"
            ],
            [
             0.3,
             "#f1b6da"
            ],
            [
             0.4,
             "#fde0ef"
            ],
            [
             0.5,
             "#f7f7f7"
            ],
            [
             0.6,
             "#e6f5d0"
            ],
            [
             0.7,
             "#b8e186"
            ],
            [
             0.8,
             "#7fbc41"
            ],
            [
             0.9,
             "#4d9221"
            ],
            [
             1,
             "#276419"
            ]
           ],
           "sequential": [
            [
             0,
             "#0d0887"
            ],
            [
             0.1111111111111111,
             "#46039f"
            ],
            [
             0.2222222222222222,
             "#7201a8"
            ],
            [
             0.3333333333333333,
             "#9c179e"
            ],
            [
             0.4444444444444444,
             "#bd3786"
            ],
            [
             0.5555555555555556,
             "#d8576b"
            ],
            [
             0.6666666666666666,
             "#ed7953"
            ],
            [
             0.7777777777777778,
             "#fb9f3a"
            ],
            [
             0.8888888888888888,
             "#fdca26"
            ],
            [
             1,
             "#f0f921"
            ]
           ],
           "sequentialminus": [
            [
             0,
             "#0d0887"
            ],
            [
             0.1111111111111111,
             "#46039f"
            ],
            [
             0.2222222222222222,
             "#7201a8"
            ],
            [
             0.3333333333333333,
             "#9c179e"
            ],
            [
             0.4444444444444444,
             "#bd3786"
            ],
            [
             0.5555555555555556,
             "#d8576b"
            ],
            [
             0.6666666666666666,
             "#ed7953"
            ],
            [
             0.7777777777777778,
             "#fb9f3a"
            ],
            [
             0.8888888888888888,
             "#fdca26"
            ],
            [
             1,
             "#f0f921"
            ]
           ]
          },
          "colorway": [
           "#636efa",
           "#EF553B",
           "#00cc96",
           "#ab63fa",
           "#FFA15A",
           "#19d3f3",
           "#FF6692",
           "#B6E880",
           "#FF97FF",
           "#FECB52"
          ],
          "font": {
           "color": "#2a3f5f"
          },
          "geo": {
           "bgcolor": "white",
           "lakecolor": "white",
           "landcolor": "#E5ECF6",
           "showlakes": true,
           "showland": true,
           "subunitcolor": "white"
          },
          "hoverlabel": {
           "align": "left"
          },
          "hovermode": "closest",
          "mapbox": {
           "style": "light"
          },
          "paper_bgcolor": "white",
          "plot_bgcolor": "#E5ECF6",
          "polar": {
           "angularaxis": {
            "gridcolor": "white",
            "linecolor": "white",
            "ticks": ""
           },
           "bgcolor": "#E5ECF6",
           "radialaxis": {
            "gridcolor": "white",
            "linecolor": "white",
            "ticks": ""
           }
          },
          "scene": {
           "xaxis": {
            "backgroundcolor": "#E5ECF6",
            "gridcolor": "white",
            "gridwidth": 2,
            "linecolor": "white",
            "showbackground": true,
            "ticks": "",
            "zerolinecolor": "white"
           },
           "yaxis": {
            "backgroundcolor": "#E5ECF6",
            "gridcolor": "white",
            "gridwidth": 2,
            "linecolor": "white",
            "showbackground": true,
            "ticks": "",
            "zerolinecolor": "white"
           },
           "zaxis": {
            "backgroundcolor": "#E5ECF6",
            "gridcolor": "white",
            "gridwidth": 2,
            "linecolor": "white",
            "showbackground": true,
            "ticks": "",
            "zerolinecolor": "white"
           }
          },
          "shapedefaults": {
           "line": {
            "color": "#2a3f5f"
           }
          },
          "ternary": {
           "aaxis": {
            "gridcolor": "white",
            "linecolor": "white",
            "ticks": ""
           },
           "baxis": {
            "gridcolor": "white",
            "linecolor": "white",
            "ticks": ""
           },
           "bgcolor": "#E5ECF6",
           "caxis": {
            "gridcolor": "white",
            "linecolor": "white",
            "ticks": ""
           }
          },
          "title": {
           "x": 0.05
          },
          "xaxis": {
           "automargin": true,
           "gridcolor": "white",
           "linecolor": "white",
           "ticks": "",
           "title": {
            "standoff": 15
           },
           "zerolinecolor": "white",
           "zerolinewidth": 2
          },
          "yaxis": {
           "automargin": true,
           "gridcolor": "white",
           "linecolor": "white",
           "ticks": "",
           "title": {
            "standoff": 15
           },
           "zerolinecolor": "white",
           "zerolinewidth": 2
          }
         }
        },
        "title": {
         "text": "STPM"
        },
        "updatemenus": [
         {
          "buttons": [
           {
            "args": [
             {
              "visible": [
               true,
               false,
               false,
               false,
               false,
               false
              ]
             }
            ],
            "label": "LIV34",
            "method": "update"
           },
           {
            "args": [
             {
              "visible": [
               false,
               true,
               true,
               false,
               false,
               false
              ]
             }
            ],
            "label": "EA ADD",
            "method": "update"
           },
           {
            "args": [
             {
              "visible": [
               false,
               false,
               true,
               false,
               false,
               false
              ]
             }
            ],
            "label": "EA ADD 33%",
            "method": "update"
           }
          ],
          "x": 1.05,
          "xanchor": "left",
          "y": 1.1,
          "yanchor": "top"
         }
        ],
        "xaxis": {
         "title": {
          "text": "Mass"
         }
        },
        "yaxis": {
         "title": {
          "text": "Radius"
         }
        }
       }
      },
      "text/html": [
       "<div>                            <div id=\"8f47413b-16ca-47e3-bac2-ec8bffe85854\" class=\"plotly-graph-div\" style=\"height:525px; width:100%;\"></div>            <script type=\"text/javascript\">                require([\"plotly\"], function(Plotly) {                    window.PLOTLYENV=window.PLOTLYENV || {};                                    if (document.getElementById(\"8f47413b-16ca-47e3-bac2-ec8bffe85854\")) {                    Plotly.newPlot(                        \"8f47413b-16ca-47e3-bac2-ec8bffe85854\",                        [{\"mode\":\"lines+markers\",\"name\":\"LIV34\",\"visible\":\"legendonly\",\"x\":[1.66,6.26,1.32,1.86,1.84,2.82,5.77,7.49,8.64,24.5,4.6,2.42,2.31,6.38,1.76,2.33,2.47,7.02,15.4,6.69,7.57,3.09,8.8,1.58,6.14,4.78,4.0,1.374,1.308,0.388,0.692,1.039,1.321,0.326],\"y\":[1.13,2.85,1.193,1.264,1.217,1.305,2.05,2.19,2.711,3.44,1.39,1.34,1.58,1.635,1.169,1.242,1.32,2.33,3.65,1.694,1.773,1.7,2.77,1.151,2.332,2.005,1.85,1.116,1.097,0.788,0.92,1.045,1.129,0.755],\"type\":\"scatter\"},{\"mode\":\"lines+markers\",\"name\":\"EA ADD)\",\"visible\":\"legendonly\",\"x\":[0.633,2.14,3.09,6.48,5.12,6.2,10.84,7.1,2.87,1.54,9.95,6.28,3.21,6.64,7.32,6.36,10.8,2.68],\"y\":[0.699,1.24,1.533,2.103,2.78,2.72,3.51,2.438,1.18,1.147,1.791,2.415,1.28,2.064,2.18,1.9,3.14,1.03],\"type\":\"scatter\"},{\"mode\":\"lines+markers\",\"name\":\"EA ADD 33%\",\"visible\":\"legendonly\",\"x\":[9.6,3.34,0.633,1.75,2.14,3.09,6.48,2.8,0.187,5.2,1.17,5.12,6.2,10.84,7.1,2.87,1.54,9.95,6.28,4.82,3.21,6.64,7.32,6.36,10.8,2.68],\"y\":[3.24,2.13,0.699,1.09,1.24,1.533,2.103,1.6,0.701,1.67,1.68,2.78,2.72,3.51,2.438,1.18,1.147,1.791,2.415,1.672,1.28,2.064,2.18,1.9,3.14,1.03],\"type\":\"scatter\"},{\"mode\":\"lines+markers\",\"name\":\"Apples (Week 2)\",\"visible\":\"legendonly\",\"x\":[1.66,6.26,1.32,1.86,1.84,2.82,5.77,7.49,8.64,24.5,4.6,2.42,2.31,6.38,1.76,2.33,2.47,7.02,15.4,6.69,7.57,3.09,8.8,1.58,6.14,4.78,4.0,1.374,1.308,0.388,0.692,1.039,1.321,0.326],\"y\":[6.3,1.49,4.22,5.03,5.6,7.0,3.69,3.92,2.4,3.3,9.6,5.46,3.17,8.04,6.07,6.67,5.91,3.03,1.74,7.25,7.59,3.44,2.28,5.7,2.68,3.28,3.4,5.425,5.447,4.354,4.885,5.009,5.042,4.147],\"type\":\"scatter\"},{\"mode\":\"lines+markers\",\"name\":\"Pears (Week 2)\",\"visible\":\"legendonly\",\"x\":[1.66,6.26,1.32,1.86,1.84,2.82,5.77,7.49,8.64,24.5,4.6,2.42,2.31,6.38,1.76,2.33,2.47,7.02,15.4,6.69,7.57,3.09,8.8,1.58,6.14,4.78,4.0,1.374,1.308,0.388,0.692,1.039,1.321,0.326],\"y\":[10.2,6.2,4.7,3.7,1.26,1.61,1.45,2.69,7.1,5.57,9.32,2.45,8.41,4.15,3.86,5.0,1.91,4.2],\"type\":\"scatter\"},{\"mode\":\"lines+markers\",\"name\":\"Bananas (Week 2)\",\"visible\":\"legendonly\",\"x\":[1.66,6.26,1.32,1.86,1.84,2.82,5.77,7.49,8.64,24.5,4.6,2.42,2.31,6.38,1.76,2.33,2.47,7.02,15.4,6.69,7.57,3.09,8.8,1.58,6.14,4.78,4.0,1.374,1.308,0.388,0.692,1.039,1.321,0.326],\"y\":[1.22,1.89,10.2,7.3,6.2,4.7,3.7,3.76,3.02,6.1,1.36,1.26,1.61,1.45,2.69,7.1,5.57,9.32,2.45,5.6,8.41,4.15,3.86,5.0,1.91,4.2],\"type\":\"scatter\"}],                        {\"template\":{\"data\":{\"histogram2dcontour\":[{\"type\":\"histogram2dcontour\",\"colorbar\":{\"outlinewidth\":0,\"ticks\":\"\"},\"colorscale\":[[0.0,\"#0d0887\"],[0.1111111111111111,\"#46039f\"],[0.2222222222222222,\"#7201a8\"],[0.3333333333333333,\"#9c179e\"],[0.4444444444444444,\"#bd3786\"],[0.5555555555555556,\"#d8576b\"],[0.6666666666666666,\"#ed7953\"],[0.7777777777777778,\"#fb9f3a\"],[0.8888888888888888,\"#fdca26\"],[1.0,\"#f0f921\"]]}],\"choropleth\":[{\"type\":\"choropleth\",\"colorbar\":{\"outlinewidth\":0,\"ticks\":\"\"}}],\"histogram2d\":[{\"type\":\"histogram2d\",\"colorbar\":{\"outlinewidth\":0,\"ticks\":\"\"},\"colorscale\":[[0.0,\"#0d0887\"],[0.1111111111111111,\"#46039f\"],[0.2222222222222222,\"#7201a8\"],[0.3333333333333333,\"#9c179e\"],[0.4444444444444444,\"#bd3786\"],[0.5555555555555556,\"#d8576b\"],[0.6666666666666666,\"#ed7953\"],[0.7777777777777778,\"#fb9f3a\"],[0.8888888888888888,\"#fdca26\"],[1.0,\"#f0f921\"]]}],\"heatmap\":[{\"type\":\"heatmap\",\"colorbar\":{\"outlinewidth\":0,\"ticks\":\"\"},\"colorscale\":[[0.0,\"#0d0887\"],[0.1111111111111111,\"#46039f\"],[0.2222222222222222,\"#7201a8\"],[0.3333333333333333,\"#9c179e\"],[0.4444444444444444,\"#bd3786\"],[0.5555555555555556,\"#d8576b\"],[0.6666666666666666,\"#ed7953\"],[0.7777777777777778,\"#fb9f3a\"],[0.8888888888888888,\"#fdca26\"],[1.0,\"#f0f921\"]]}],\"heatmapgl\":[{\"type\":\"heatmapgl\",\"colorbar\":{\"outlinewidth\":0,\"ticks\":\"\"},\"colorscale\":[[0.0,\"#0d0887\"],[0.1111111111111111,\"#46039f\"],[0.2222222222222222,\"#7201a8\"],[0.3333333333333333,\"#9c179e\"],[0.4444444444444444,\"#bd3786\"],[0.5555555555555556,\"#d8576b\"],[0.6666666666666666,\"#ed7953\"],[0.7777777777777778,\"#fb9f3a\"],[0.8888888888888888,\"#fdca26\"],[1.0,\"#f0f921\"]]}],\"contourcarpet\":[{\"type\":\"contourcarpet\",\"colorbar\":{\"outlinewidth\":0,\"ticks\":\"\"}}],\"contour\":[{\"type\":\"contour\",\"colorbar\":{\"outlinewidth\":0,\"ticks\":\"\"},\"colorscale\":[[0.0,\"#0d0887\"],[0.1111111111111111,\"#46039f\"],[0.2222222222222222,\"#7201a8\"],[0.3333333333333333,\"#9c179e\"],[0.4444444444444444,\"#bd3786\"],[0.5555555555555556,\"#d8576b\"],[0.6666666666666666,\"#ed7953\"],[0.7777777777777778,\"#fb9f3a\"],[0.8888888888888888,\"#fdca26\"],[1.0,\"#f0f921\"]]}],\"surface\":[{\"type\":\"surface\",\"colorbar\":{\"outlinewidth\":0,\"ticks\":\"\"},\"colorscale\":[[0.0,\"#0d0887\"],[0.1111111111111111,\"#46039f\"],[0.2222222222222222,\"#7201a8\"],[0.3333333333333333,\"#9c179e\"],[0.4444444444444444,\"#bd3786\"],[0.5555555555555556,\"#d8576b\"],[0.6666666666666666,\"#ed7953\"],[0.7777777777777778,\"#fb9f3a\"],[0.8888888888888888,\"#fdca26\"],[1.0,\"#f0f921\"]]}],\"mesh3d\":[{\"type\":\"mesh3d\",\"colorbar\":{\"outlinewidth\":0,\"ticks\":\"\"}}],\"scatter\":[{\"fillpattern\":{\"fillmode\":\"overlay\",\"size\":10,\"solidity\":0.2},\"type\":\"scatter\"}],\"parcoords\":[{\"type\":\"parcoords\",\"line\":{\"colorbar\":{\"outlinewidth\":0,\"ticks\":\"\"}}}],\"scatterpolargl\":[{\"type\":\"scatterpolargl\",\"marker\":{\"colorbar\":{\"outlinewidth\":0,\"ticks\":\"\"}}}],\"bar\":[{\"error_x\":{\"color\":\"#2a3f5f\"},\"error_y\":{\"color\":\"#2a3f5f\"},\"marker\":{\"line\":{\"color\":\"#E5ECF6\",\"width\":0.5},\"pattern\":{\"fillmode\":\"overlay\",\"size\":10,\"solidity\":0.2}},\"type\":\"bar\"}],\"scattergeo\":[{\"type\":\"scattergeo\",\"marker\":{\"colorbar\":{\"outlinewidth\":0,\"ticks\":\"\"}}}],\"scatterpolar\":[{\"type\":\"scatterpolar\",\"marker\":{\"colorbar\":{\"outlinewidth\":0,\"ticks\":\"\"}}}],\"histogram\":[{\"marker\":{\"pattern\":{\"fillmode\":\"overlay\",\"size\":10,\"solidity\":0.2}},\"type\":\"histogram\"}],\"scattergl\":[{\"type\":\"scattergl\",\"marker\":{\"colorbar\":{\"outlinewidth\":0,\"ticks\":\"\"}}}],\"scatter3d\":[{\"type\":\"scatter3d\",\"line\":{\"colorbar\":{\"outlinewidth\":0,\"ticks\":\"\"}},\"marker\":{\"colorbar\":{\"outlinewidth\":0,\"ticks\":\"\"}}}],\"scattermapbox\":[{\"type\":\"scattermapbox\",\"marker\":{\"colorbar\":{\"outlinewidth\":0,\"ticks\":\"\"}}}],\"scatterternary\":[{\"type\":\"scatterternary\",\"marker\":{\"colorbar\":{\"outlinewidth\":0,\"ticks\":\"\"}}}],\"scattercarpet\":[{\"type\":\"scattercarpet\",\"marker\":{\"colorbar\":{\"outlinewidth\":0,\"ticks\":\"\"}}}],\"carpet\":[{\"aaxis\":{\"endlinecolor\":\"#2a3f5f\",\"gridcolor\":\"white\",\"linecolor\":\"white\",\"minorgridcolor\":\"white\",\"startlinecolor\":\"#2a3f5f\"},\"baxis\":{\"endlinecolor\":\"#2a3f5f\",\"gridcolor\":\"white\",\"linecolor\":\"white\",\"minorgridcolor\":\"white\",\"startlinecolor\":\"#2a3f5f\"},\"type\":\"carpet\"}],\"table\":[{\"cells\":{\"fill\":{\"color\":\"#EBF0F8\"},\"line\":{\"color\":\"white\"}},\"header\":{\"fill\":{\"color\":\"#C8D4E3\"},\"line\":{\"color\":\"white\"}},\"type\":\"table\"}],\"barpolar\":[{\"marker\":{\"line\":{\"color\":\"#E5ECF6\",\"width\":0.5},\"pattern\":{\"fillmode\":\"overlay\",\"size\":10,\"solidity\":0.2}},\"type\":\"barpolar\"}],\"pie\":[{\"automargin\":true,\"type\":\"pie\"}]},\"layout\":{\"autotypenumbers\":\"strict\",\"colorway\":[\"#636efa\",\"#EF553B\",\"#00cc96\",\"#ab63fa\",\"#FFA15A\",\"#19d3f3\",\"#FF6692\",\"#B6E880\",\"#FF97FF\",\"#FECB52\"],\"font\":{\"color\":\"#2a3f5f\"},\"hovermode\":\"closest\",\"hoverlabel\":{\"align\":\"left\"},\"paper_bgcolor\":\"white\",\"plot_bgcolor\":\"#E5ECF6\",\"polar\":{\"bgcolor\":\"#E5ECF6\",\"angularaxis\":{\"gridcolor\":\"white\",\"linecolor\":\"white\",\"ticks\":\"\"},\"radialaxis\":{\"gridcolor\":\"white\",\"linecolor\":\"white\",\"ticks\":\"\"}},\"ternary\":{\"bgcolor\":\"#E5ECF6\",\"aaxis\":{\"gridcolor\":\"white\",\"linecolor\":\"white\",\"ticks\":\"\"},\"baxis\":{\"gridcolor\":\"white\",\"linecolor\":\"white\",\"ticks\":\"\"},\"caxis\":{\"gridcolor\":\"white\",\"linecolor\":\"white\",\"ticks\":\"\"}},\"coloraxis\":{\"colorbar\":{\"outlinewidth\":0,\"ticks\":\"\"}},\"colorscale\":{\"sequential\":[[0.0,\"#0d0887\"],[0.1111111111111111,\"#46039f\"],[0.2222222222222222,\"#7201a8\"],[0.3333333333333333,\"#9c179e\"],[0.4444444444444444,\"#bd3786\"],[0.5555555555555556,\"#d8576b\"],[0.6666666666666666,\"#ed7953\"],[0.7777777777777778,\"#fb9f3a\"],[0.8888888888888888,\"#fdca26\"],[1.0,\"#f0f921\"]],\"sequentialminus\":[[0.0,\"#0d0887\"],[0.1111111111111111,\"#46039f\"],[0.2222222222222222,\"#7201a8\"],[0.3333333333333333,\"#9c179e\"],[0.4444444444444444,\"#bd3786\"],[0.5555555555555556,\"#d8576b\"],[0.6666666666666666,\"#ed7953\"],[0.7777777777777778,\"#fb9f3a\"],[0.8888888888888888,\"#fdca26\"],[1.0,\"#f0f921\"]],\"diverging\":[[0,\"#8e0152\"],[0.1,\"#c51b7d\"],[0.2,\"#de77ae\"],[0.3,\"#f1b6da\"],[0.4,\"#fde0ef\"],[0.5,\"#f7f7f7\"],[0.6,\"#e6f5d0\"],[0.7,\"#b8e186\"],[0.8,\"#7fbc41\"],[0.9,\"#4d9221\"],[1,\"#276419\"]]},\"xaxis\":{\"gridcolor\":\"white\",\"linecolor\":\"white\",\"ticks\":\"\",\"title\":{\"standoff\":15},\"zerolinecolor\":\"white\",\"automargin\":true,\"zerolinewidth\":2},\"yaxis\":{\"gridcolor\":\"white\",\"linecolor\":\"white\",\"ticks\":\"\",\"title\":{\"standoff\":15},\"zerolinecolor\":\"white\",\"automargin\":true,\"zerolinewidth\":2},\"scene\":{\"xaxis\":{\"backgroundcolor\":\"#E5ECF6\",\"gridcolor\":\"white\",\"linecolor\":\"white\",\"showbackground\":true,\"ticks\":\"\",\"zerolinecolor\":\"white\",\"gridwidth\":2},\"yaxis\":{\"backgroundcolor\":\"#E5ECF6\",\"gridcolor\":\"white\",\"linecolor\":\"white\",\"showbackground\":true,\"ticks\":\"\",\"zerolinecolor\":\"white\",\"gridwidth\":2},\"zaxis\":{\"backgroundcolor\":\"#E5ECF6\",\"gridcolor\":\"white\",\"linecolor\":\"white\",\"showbackground\":true,\"ticks\":\"\",\"zerolinecolor\":\"white\",\"gridwidth\":2}},\"shapedefaults\":{\"line\":{\"color\":\"#2a3f5f\"}},\"annotationdefaults\":{\"arrowcolor\":\"#2a3f5f\",\"arrowhead\":0,\"arrowwidth\":1},\"geo\":{\"bgcolor\":\"white\",\"landcolor\":\"#E5ECF6\",\"subunitcolor\":\"white\",\"showland\":true,\"showlakes\":true,\"lakecolor\":\"white\"},\"title\":{\"x\":0.05},\"mapbox\":{\"style\":\"light\"}}},\"updatemenus\":[{\"buttons\":[{\"args\":[{\"visible\":[true,false,false,false,false,false]}],\"label\":\"LIV34\",\"method\":\"update\"},{\"args\":[{\"visible\":[false,true,true,false,false,false]}],\"label\":\"EA ADD\",\"method\":\"update\"},{\"args\":[{\"visible\":[false,false,true,false,false,false]}],\"label\":\"EA ADD 33%\",\"method\":\"update\"}],\"x\":1.05,\"xanchor\":\"left\",\"y\":1.1,\"yanchor\":\"top\"}],\"title\":{\"text\":\"STPM\"},\"xaxis\":{\"title\":{\"text\":\"Mass\"}},\"yaxis\":{\"title\":{\"text\":\"Radius\"}}},                        {\"responsive\": true}                    ).then(function(){\n",
       "                            \n",
       "var gd = document.getElementById('8f47413b-16ca-47e3-bac2-ec8bffe85854');\n",
       "var x = new MutationObserver(function (mutations, observer) {{\n",
       "        var display = window.getComputedStyle(gd).display;\n",
       "        if (!display || display === 'none') {{\n",
       "            console.log([gd, 'removed!']);\n",
       "            Plotly.purge(gd);\n",
       "            observer.disconnect();\n",
       "        }}\n",
       "}});\n",
       "\n",
       "// Listen for the removal of the full notebook cells\n",
       "var notebookContainer = gd.closest('#notebook-container');\n",
       "if (notebookContainer) {{\n",
       "    x.observe(notebookContainer, {childList: true});\n",
       "}}\n",
       "\n",
       "// Listen for the clearing of the current output cell\n",
       "var outputEl = gd.closest('.output');\n",
       "if (outputEl) {{\n",
       "    x.observe(outputEl, {childList: true});\n",
       "}}\n",
       "\n",
       "                        })                };                });            </script>        </div>"
      ]
     },
     "metadata": {},
     "output_type": "display_data"
    }
   ],
   "source": []
  }
 ],
 "metadata": {
  "kernelspec": {
   "display_name": "Python 3 (ipykernel)",
   "language": "python",
   "name": "python3"
  },
  "language_info": {
   "codemirror_mode": {
    "name": "ipython",
    "version": 3
   },
   "file_extension": ".py",
   "mimetype": "text/x-python",
   "name": "python",
   "nbconvert_exporter": "python",
   "pygments_lexer": "ipython3",
   "version": "3.11.5"
  }
 },
 "nbformat": 4,
 "nbformat_minor": 5
}
